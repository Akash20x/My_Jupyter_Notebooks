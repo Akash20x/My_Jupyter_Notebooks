{
  "nbformat": 4,
  "nbformat_minor": 0,
  "metadata": {
    "colab": {
      "name": "Youtube_Adview_prediction.ipynb",
      "provenance": []
    },
    "kernelspec": {
      "name": "python3",
      "display_name": "Python 3"
    },
    "language_info": {
      "name": "python"
    }
  },
  "cells": [
    {
      "cell_type": "code",
      "metadata": {
        "id": "zrZpKh3KDEGd"
      },
      "source": [
        "import numpy as np\n",
        "import pandas as pd\n",
        "import matplotlib.pyplot as plt\n",
        "import seaborn as sns"
      ],
      "execution_count": 1,
      "outputs": []
    },
    {
      "cell_type": "code",
      "metadata": {
        "id": "_HNffEGWDFjr"
      },
      "source": [
        "df=pd.read_csv('/content/drive/MyDrive/dataset/train.csv')\n"
      ],
      "execution_count": 2,
      "outputs": []
    },
    {
      "cell_type": "code",
      "metadata": {
        "colab": {
          "base_uri": "https://localhost:8080/",
          "height": 195
        },
        "id": "WJqNT706DxZg",
        "outputId": "9ecddeae-22c2-45d2-db66-6475abfe44aa"
      },
      "source": [
        "df.head()"
      ],
      "execution_count": 3,
      "outputs": [
        {
          "output_type": "execute_result",
          "data": {
            "text/html": [
              "<div>\n",
              "<style scoped>\n",
              "    .dataframe tbody tr th:only-of-type {\n",
              "        vertical-align: middle;\n",
              "    }\n",
              "\n",
              "    .dataframe tbody tr th {\n",
              "        vertical-align: top;\n",
              "    }\n",
              "\n",
              "    .dataframe thead th {\n",
              "        text-align: right;\n",
              "    }\n",
              "</style>\n",
              "<table border=\"1\" class=\"dataframe\">\n",
              "  <thead>\n",
              "    <tr style=\"text-align: right;\">\n",
              "      <th></th>\n",
              "      <th>vidid</th>\n",
              "      <th>adview</th>\n",
              "      <th>views</th>\n",
              "      <th>likes</th>\n",
              "      <th>dislikes</th>\n",
              "      <th>comment</th>\n",
              "      <th>published</th>\n",
              "      <th>duration</th>\n",
              "      <th>category</th>\n",
              "    </tr>\n",
              "  </thead>\n",
              "  <tbody>\n",
              "    <tr>\n",
              "      <th>0</th>\n",
              "      <td>VID_18655</td>\n",
              "      <td>40</td>\n",
              "      <td>1031602</td>\n",
              "      <td>8523</td>\n",
              "      <td>363</td>\n",
              "      <td>1095</td>\n",
              "      <td>2016-09-14</td>\n",
              "      <td>PT7M37S</td>\n",
              "      <td>F</td>\n",
              "    </tr>\n",
              "    <tr>\n",
              "      <th>1</th>\n",
              "      <td>VID_14135</td>\n",
              "      <td>2</td>\n",
              "      <td>1707</td>\n",
              "      <td>56</td>\n",
              "      <td>2</td>\n",
              "      <td>6</td>\n",
              "      <td>2016-10-01</td>\n",
              "      <td>PT9M30S</td>\n",
              "      <td>D</td>\n",
              "    </tr>\n",
              "    <tr>\n",
              "      <th>2</th>\n",
              "      <td>VID_2187</td>\n",
              "      <td>1</td>\n",
              "      <td>2023</td>\n",
              "      <td>25</td>\n",
              "      <td>0</td>\n",
              "      <td>2</td>\n",
              "      <td>2016-07-02</td>\n",
              "      <td>PT2M16S</td>\n",
              "      <td>C</td>\n",
              "    </tr>\n",
              "    <tr>\n",
              "      <th>3</th>\n",
              "      <td>VID_23096</td>\n",
              "      <td>6</td>\n",
              "      <td>620860</td>\n",
              "      <td>777</td>\n",
              "      <td>161</td>\n",
              "      <td>153</td>\n",
              "      <td>2016-07-27</td>\n",
              "      <td>PT4M22S</td>\n",
              "      <td>H</td>\n",
              "    </tr>\n",
              "    <tr>\n",
              "      <th>4</th>\n",
              "      <td>VID_10175</td>\n",
              "      <td>1</td>\n",
              "      <td>666</td>\n",
              "      <td>1</td>\n",
              "      <td>0</td>\n",
              "      <td>0</td>\n",
              "      <td>2016-06-29</td>\n",
              "      <td>PT31S</td>\n",
              "      <td>D</td>\n",
              "    </tr>\n",
              "  </tbody>\n",
              "</table>\n",
              "</div>"
            ],
            "text/plain": [
              "       vidid  adview    views likes  ... comment   published duration category\n",
              "0  VID_18655      40  1031602  8523  ...    1095  2016-09-14  PT7M37S        F\n",
              "1  VID_14135       2     1707    56  ...       6  2016-10-01  PT9M30S        D\n",
              "2   VID_2187       1     2023    25  ...       2  2016-07-02  PT2M16S        C\n",
              "3  VID_23096       6   620860   777  ...     153  2016-07-27  PT4M22S        H\n",
              "4  VID_10175       1      666     1  ...       0  2016-06-29    PT31S        D\n",
              "\n",
              "[5 rows x 9 columns]"
            ]
          },
          "metadata": {
            "tags": []
          },
          "execution_count": 3
        }
      ]
    },
    {
      "cell_type": "code",
      "metadata": {
        "colab": {
          "base_uri": "https://localhost:8080/"
        },
        "id": "hqzdx4DJD959",
        "outputId": "669bd2e2-0b4c-4c6a-c0d7-457571c945df"
      },
      "source": [
        "df.shape\n"
      ],
      "execution_count": 4,
      "outputs": [
        {
          "output_type": "execute_result",
          "data": {
            "text/plain": [
              "(14999, 9)"
            ]
          },
          "metadata": {
            "tags": []
          },
          "execution_count": 4
        }
      ]
    },
    {
      "cell_type": "code",
      "metadata": {
        "colab": {
          "base_uri": "https://localhost:8080/",
          "height": 284
        },
        "id": "1zyaJZqXEDe_",
        "outputId": "5a31696e-fb88-4839-c907-93ef21732814"
      },
      "source": [
        "df.describe()\n"
      ],
      "execution_count": 5,
      "outputs": [
        {
          "output_type": "execute_result",
          "data": {
            "text/html": [
              "<div>\n",
              "<style scoped>\n",
              "    .dataframe tbody tr th:only-of-type {\n",
              "        vertical-align: middle;\n",
              "    }\n",
              "\n",
              "    .dataframe tbody tr th {\n",
              "        vertical-align: top;\n",
              "    }\n",
              "\n",
              "    .dataframe thead th {\n",
              "        text-align: right;\n",
              "    }\n",
              "</style>\n",
              "<table border=\"1\" class=\"dataframe\">\n",
              "  <thead>\n",
              "    <tr style=\"text-align: right;\">\n",
              "      <th></th>\n",
              "      <th>adview</th>\n",
              "    </tr>\n",
              "  </thead>\n",
              "  <tbody>\n",
              "    <tr>\n",
              "      <th>count</th>\n",
              "      <td>1.499900e+04</td>\n",
              "    </tr>\n",
              "    <tr>\n",
              "      <th>mean</th>\n",
              "      <td>2.107791e+03</td>\n",
              "    </tr>\n",
              "    <tr>\n",
              "      <th>std</th>\n",
              "      <td>5.237711e+04</td>\n",
              "    </tr>\n",
              "    <tr>\n",
              "      <th>min</th>\n",
              "      <td>1.000000e+00</td>\n",
              "    </tr>\n",
              "    <tr>\n",
              "      <th>25%</th>\n",
              "      <td>1.000000e+00</td>\n",
              "    </tr>\n",
              "    <tr>\n",
              "      <th>50%</th>\n",
              "      <td>2.000000e+00</td>\n",
              "    </tr>\n",
              "    <tr>\n",
              "      <th>75%</th>\n",
              "      <td>6.000000e+00</td>\n",
              "    </tr>\n",
              "    <tr>\n",
              "      <th>max</th>\n",
              "      <td>5.429665e+06</td>\n",
              "    </tr>\n",
              "  </tbody>\n",
              "</table>\n",
              "</div>"
            ],
            "text/plain": [
              "             adview\n",
              "count  1.499900e+04\n",
              "mean   2.107791e+03\n",
              "std    5.237711e+04\n",
              "min    1.000000e+00\n",
              "25%    1.000000e+00\n",
              "50%    2.000000e+00\n",
              "75%    6.000000e+00\n",
              "max    5.429665e+06"
            ]
          },
          "metadata": {
            "tags": []
          },
          "execution_count": 5
        }
      ]
    },
    {
      "cell_type": "code",
      "metadata": {
        "colab": {
          "base_uri": "https://localhost:8080/"
        },
        "id": "AtmAkMIIHMjW",
        "outputId": "59ecd2be-d85d-4819-b7c2-637928b62675"
      },
      "source": [
        "df.info()"
      ],
      "execution_count": 6,
      "outputs": [
        {
          "output_type": "stream",
          "text": [
            "<class 'pandas.core.frame.DataFrame'>\n",
            "RangeIndex: 14999 entries, 0 to 14998\n",
            "Data columns (total 9 columns):\n",
            " #   Column     Non-Null Count  Dtype \n",
            "---  ------     --------------  ----- \n",
            " 0   vidid      14999 non-null  object\n",
            " 1   adview     14999 non-null  int64 \n",
            " 2   views      14999 non-null  object\n",
            " 3   likes      14999 non-null  object\n",
            " 4   dislikes   14999 non-null  object\n",
            " 5   comment    14999 non-null  object\n",
            " 6   published  14999 non-null  object\n",
            " 7   duration   14999 non-null  object\n",
            " 8   category   14999 non-null  object\n",
            "dtypes: int64(1), object(8)\n",
            "memory usage: 1.0+ MB\n"
          ],
          "name": "stdout"
        }
      ]
    },
    {
      "cell_type": "code",
      "metadata": {
        "colab": {
          "base_uri": "https://localhost:8080/",
          "height": 524
        },
        "id": "YqSZk10iEM1A",
        "outputId": "957f1e8f-0a59-47d8-d69b-2e9d657a00c1"
      },
      "source": [
        "# Visualization\n",
        "# Individual Plots\n",
        "plt.hist(df[\"category\"])\n",
        "plt.show()\n",
        "plt.plot(df[\"adview\"])\n",
        "plt.show()"
      ],
      "execution_count": 7,
      "outputs": [
        {
          "output_type": "display_data",
          "data": {
            "image/png": "[encoded data removed]",
            "text/plain": [
              "<Figure size 432x288 with 1 Axes>"
            ]
          },
          "metadata": {
            "tags": [],
            "needs_background": "light"
          }
        },
        {
          "output_type": "display_data",
          "data": {
            "image/png": "[encoded data removed]",
            "text/plain": [
              "<Figure size 432x288 with 1 Axes>"
            ]
          },
          "metadata": {
            "tags": [],
            "needs_background": "light"
          }
        }
      ]
    },
    {
      "cell_type": "code",
      "metadata": {
        "colab": {
          "base_uri": "https://localhost:8080/"
        },
        "id": "4GR50zxjFIrm",
        "outputId": "96258b05-294c-40ec-98e3-155de0c50b61"
      },
      "source": [
        "df = df[df[\"adview\"] <50000]\n",
        "df.shape\n"
      ],
      "execution_count": 8,
      "outputs": [
        {
          "output_type": "execute_result",
          "data": {
            "text/plain": [
              "(14900, 9)"
            ]
          },
          "metadata": {
            "tags": []
          },
          "execution_count": 8
        }
      ]
    },
    {
      "cell_type": "code",
      "metadata": {
        "id": "AMmdcXySMQAI"
      },
      "source": [
        "df=df[df.views !='F']\n",
        "df=df[df.likes !='F']\n",
        "df=df[df.dislikes !='F']\n",
        "df=df[df.comment !='F']"
      ],
      "execution_count": 9,
      "outputs": []
    },
    {
      "cell_type": "code",
      "metadata": {
        "id": "zqGGUB1LL5jS"
      },
      "source": [
        "df['views']=pd.to_numeric(df['views'])\n",
        "df['adview']=pd.to_numeric(df['adview'])\n",
        "df['likes']=pd.to_numeric(df['likes'])\n",
        "df['dislikes']=pd.to_numeric(df['dislikes'])"
      ],
      "execution_count": 10,
      "outputs": []
    },
    {
      "cell_type": "code",
      "metadata": {
        "id": "f0pzBX4cJeS2"
      },
      "source": [
        "data_train=df"
      ],
      "execution_count": 11,
      "outputs": []
    },
    {
      "cell_type": "code",
      "metadata": {
        "colab": {
          "base_uri": "https://localhost:8080/",
          "height": 195
        },
        "id": "Byb9lH_nKuFY",
        "outputId": "e3f77495-ac65-4ebb-e6ef-5758fe23993f"
      },
      "source": [
        "data_train.head()"
      ],
      "execution_count": 12,
      "outputs": [
        {
          "output_type": "execute_result",
          "data": {
            "text/html": [
              "<div>\n",
              "<style scoped>\n",
              "    .dataframe tbody tr th:only-of-type {\n",
              "        vertical-align: middle;\n",
              "    }\n",
              "\n",
              "    .dataframe tbody tr th {\n",
              "        vertical-align: top;\n",
              "    }\n",
              "\n",
              "    .dataframe thead th {\n",
              "        text-align: right;\n",
              "    }\n",
              "</style>\n",
              "<table border=\"1\" class=\"dataframe\">\n",
              "  <thead>\n",
              "    <tr style=\"text-align: right;\">\n",
              "      <th></th>\n",
              "      <th>vidid</th>\n",
              "      <th>adview</th>\n",
              "      <th>views</th>\n",
              "      <th>likes</th>\n",
              "      <th>dislikes</th>\n",
              "      <th>comment</th>\n",
              "      <th>published</th>\n",
              "      <th>duration</th>\n",
              "      <th>category</th>\n",
              "    </tr>\n",
              "  </thead>\n",
              "  <tbody>\n",
              "    <tr>\n",
              "      <th>0</th>\n",
              "      <td>VID_18655</td>\n",
              "      <td>40</td>\n",
              "      <td>1031602</td>\n",
              "      <td>8523</td>\n",
              "      <td>363</td>\n",
              "      <td>1095</td>\n",
              "      <td>2016-09-14</td>\n",
              "      <td>PT7M37S</td>\n",
              "      <td>F</td>\n",
              "    </tr>\n",
              "    <tr>\n",
              "      <th>1</th>\n",
              "      <td>VID_14135</td>\n",
              "      <td>2</td>\n",
              "      <td>1707</td>\n",
              "      <td>56</td>\n",
              "      <td>2</td>\n",
              "      <td>6</td>\n",
              "      <td>2016-10-01</td>\n",
              "      <td>PT9M30S</td>\n",
              "      <td>D</td>\n",
              "    </tr>\n",
              "    <tr>\n",
              "      <th>2</th>\n",
              "      <td>VID_2187</td>\n",
              "      <td>1</td>\n",
              "      <td>2023</td>\n",
              "      <td>25</td>\n",
              "      <td>0</td>\n",
              "      <td>2</td>\n",
              "      <td>2016-07-02</td>\n",
              "      <td>PT2M16S</td>\n",
              "      <td>C</td>\n",
              "    </tr>\n",
              "    <tr>\n",
              "      <th>3</th>\n",
              "      <td>VID_23096</td>\n",
              "      <td>6</td>\n",
              "      <td>620860</td>\n",
              "      <td>777</td>\n",
              "      <td>161</td>\n",
              "      <td>153</td>\n",
              "      <td>2016-07-27</td>\n",
              "      <td>PT4M22S</td>\n",
              "      <td>H</td>\n",
              "    </tr>\n",
              "    <tr>\n",
              "      <th>4</th>\n",
              "      <td>VID_10175</td>\n",
              "      <td>1</td>\n",
              "      <td>666</td>\n",
              "      <td>1</td>\n",
              "      <td>0</td>\n",
              "      <td>0</td>\n",
              "      <td>2016-06-29</td>\n",
              "      <td>PT31S</td>\n",
              "      <td>D</td>\n",
              "    </tr>\n",
              "  </tbody>\n",
              "</table>\n",
              "</div>"
            ],
            "text/plain": [
              "       vidid  adview    views  likes  ...  comment   published duration category\n",
              "0  VID_18655      40  1031602   8523  ...     1095  2016-09-14  PT7M37S        F\n",
              "1  VID_14135       2     1707     56  ...        6  2016-10-01  PT9M30S        D\n",
              "2   VID_2187       1     2023     25  ...        2  2016-07-02  PT2M16S        C\n",
              "3  VID_23096       6   620860    777  ...      153  2016-07-27  PT4M22S        H\n",
              "4  VID_10175       1      666      1  ...        0  2016-06-29    PT31S        D\n",
              "\n",
              "[5 rows x 9 columns]"
            ]
          },
          "metadata": {
            "tags": []
          },
          "execution_count": 12
        }
      ]
    },
    {
      "cell_type": "code",
      "metadata": {
        "id": "mJ_7k1Z3GZ4R"
      },
      "source": [
        "from sklearn.preprocessing import LabelEncoder\n",
        "label_encoder = LabelEncoder()\n",
        "data_train['vidid']=label_encoder.fit_transform(data_train['vidid'])\n",
        "data_train['published']=label_encoder.fit_transform(data_train['published'])\n",
        "data_train['duration']=label_encoder.fit_transform(data_train['duration'])"
      ],
      "execution_count": 13,
      "outputs": []
    },
    {
      "cell_type": "code",
      "metadata": {
        "colab": {
          "base_uri": "https://localhost:8080/",
          "height": 195
        },
        "id": "f1KvPE4FD6Uo",
        "outputId": "687c2396-f49c-4d5b-d02d-af3be06a50ba"
      },
      "source": [
        "data_train.head() "
      ],
      "execution_count": 14,
      "outputs": [
        {
          "output_type": "execute_result",
          "data": {
            "text/html": [
              "<div>\n",
              "<style scoped>\n",
              "    .dataframe tbody tr th:only-of-type {\n",
              "        vertical-align: middle;\n",
              "    }\n",
              "\n",
              "    .dataframe tbody tr th {\n",
              "        vertical-align: top;\n",
              "    }\n",
              "\n",
              "    .dataframe thead th {\n",
              "        text-align: right;\n",
              "    }\n",
              "</style>\n",
              "<table border=\"1\" class=\"dataframe\">\n",
              "  <thead>\n",
              "    <tr style=\"text-align: right;\">\n",
              "      <th></th>\n",
              "      <th>vidid</th>\n",
              "      <th>adview</th>\n",
              "      <th>views</th>\n",
              "      <th>likes</th>\n",
              "      <th>dislikes</th>\n",
              "      <th>comment</th>\n",
              "      <th>published</th>\n",
              "      <th>duration</th>\n",
              "      <th>category</th>\n",
              "    </tr>\n",
              "  </thead>\n",
              "  <tbody>\n",
              "    <tr>\n",
              "      <th>0</th>\n",
              "      <td>5857</td>\n",
              "      <td>40</td>\n",
              "      <td>1031602</td>\n",
              "      <td>8523</td>\n",
              "      <td>363</td>\n",
              "      <td>1095</td>\n",
              "      <td>2168</td>\n",
              "      <td>2924</td>\n",
              "      <td>F</td>\n",
              "    </tr>\n",
              "    <tr>\n",
              "      <th>1</th>\n",
              "      <td>2711</td>\n",
              "      <td>2</td>\n",
              "      <td>1707</td>\n",
              "      <td>56</td>\n",
              "      <td>2</td>\n",
              "      <td>6</td>\n",
              "      <td>2185</td>\n",
              "      <td>3039</td>\n",
              "      <td>D</td>\n",
              "    </tr>\n",
              "    <tr>\n",
              "      <th>2</th>\n",
              "      <td>8076</td>\n",
              "      <td>1</td>\n",
              "      <td>2023</td>\n",
              "      <td>25</td>\n",
              "      <td>0</td>\n",
              "      <td>2</td>\n",
              "      <td>2094</td>\n",
              "      <td>1862</td>\n",
              "      <td>C</td>\n",
              "    </tr>\n",
              "    <tr>\n",
              "      <th>3</th>\n",
              "      <td>8929</td>\n",
              "      <td>6</td>\n",
              "      <td>620860</td>\n",
              "      <td>777</td>\n",
              "      <td>161</td>\n",
              "      <td>153</td>\n",
              "      <td>2119</td>\n",
              "      <td>2545</td>\n",
              "      <td>H</td>\n",
              "    </tr>\n",
              "    <tr>\n",
              "      <th>4</th>\n",
              "      <td>120</td>\n",
              "      <td>1</td>\n",
              "      <td>666</td>\n",
              "      <td>1</td>\n",
              "      <td>0</td>\n",
              "      <td>0</td>\n",
              "      <td>2091</td>\n",
              "      <td>1962</td>\n",
              "      <td>D</td>\n",
              "    </tr>\n",
              "  </tbody>\n",
              "</table>\n",
              "</div>"
            ],
            "text/plain": [
              "   vidid  adview    views  likes  ...  comment published  duration  category\n",
              "0   5857      40  1031602   8523  ...     1095      2168      2924         F\n",
              "1   2711       2     1707     56  ...        6      2185      3039         D\n",
              "2   8076       1     2023     25  ...        2      2094      1862         C\n",
              "3   8929       6   620860    777  ...      153      2119      2545         H\n",
              "4    120       1      666      1  ...        0      2091      1962         D\n",
              "\n",
              "[5 rows x 9 columns]"
            ]
          },
          "metadata": {
            "tags": []
          },
          "execution_count": 14
        }
      ]
    },
    {
      "cell_type": "code",
      "metadata": {
        "colab": {
          "base_uri": "https://localhost:8080/",
          "height": 195
        },
        "id": "L1sEbmgQTVdk",
        "outputId": "130221e1-ea60-4d36-9f75-823666931cc2"
      },
      "source": [
        "import datetime\n",
        "import time\n",
        "def checki(x):\n",
        "    y = x[2:]\n",
        "    h = ''\n",
        "    m = ''\n",
        "    s = ''\n",
        "    mm = ''\n",
        "    P = ['H','M','S']\n",
        "    for i in y:\n",
        "        if i not in P:\n",
        "            mm+=i\n",
        "        else:\n",
        "            if(i==\"H\"):\n",
        "                h = mm\n",
        "                mm = ''\n",
        "            elif(i == \"M\"):\n",
        "                m = mm\n",
        "                mm = ''\n",
        "            else:\n",
        "                s = mm\n",
        "                mm = ''\n",
        "    if(h==''):\n",
        "        h = '00'\n",
        "    if(m == ''):\n",
        "        m = '00'\n",
        "    if(s==''):\n",
        "        s='00'\n",
        "    bp = h+':'+m+':'+s\n",
        "    return bp\n",
        "train=pd.read_csv(\"/content/drive/MyDrive/dataset/train.csv\")\n",
        "mp = pd.read_csv(\"/content/drive/MyDrive/dataset/train.csv\")[\"duration\"]\n",
        "time = mp.apply(checki)\n",
        "def func_sec(time_string):\n",
        "    h,m,s = time_string.split(\":\")\n",
        "    return int(h) * 3600 + int(m) * 60 + int(s)\n",
        "time1=time.apply(func_sec)\n",
        "data_train[\"duration\"]=time1\n",
        "data_train.head()"
      ],
      "execution_count": 15,
      "outputs": [
        {
          "output_type": "execute_result",
          "data": {
            "text/html": [
              "<div>\n",
              "<style scoped>\n",
              "    .dataframe tbody tr th:only-of-type {\n",
              "        vertical-align: middle;\n",
              "    }\n",
              "\n",
              "    .dataframe tbody tr th {\n",
              "        vertical-align: top;\n",
              "    }\n",
              "\n",
              "    .dataframe thead th {\n",
              "        text-align: right;\n",
              "    }\n",
              "</style>\n",
              "<table border=\"1\" class=\"dataframe\">\n",
              "  <thead>\n",
              "    <tr style=\"text-align: right;\">\n",
              "      <th></th>\n",
              "      <th>vidid</th>\n",
              "      <th>adview</th>\n",
              "      <th>views</th>\n",
              "      <th>likes</th>\n",
              "      <th>dislikes</th>\n",
              "      <th>comment</th>\n",
              "      <th>published</th>\n",
              "      <th>duration</th>\n",
              "      <th>category</th>\n",
              "    </tr>\n",
              "  </thead>\n",
              "  <tbody>\n",
              "    <tr>\n",
              "      <th>0</th>\n",
              "      <td>5857</td>\n",
              "      <td>40</td>\n",
              "      <td>1031602</td>\n",
              "      <td>8523</td>\n",
              "      <td>363</td>\n",
              "      <td>1095</td>\n",
              "      <td>2168</td>\n",
              "      <td>457</td>\n",
              "      <td>F</td>\n",
              "    </tr>\n",
              "    <tr>\n",
              "      <th>1</th>\n",
              "      <td>2711</td>\n",
              "      <td>2</td>\n",
              "      <td>1707</td>\n",
              "      <td>56</td>\n",
              "      <td>2</td>\n",
              "      <td>6</td>\n",
              "      <td>2185</td>\n",
              "      <td>570</td>\n",
              "      <td>D</td>\n",
              "    </tr>\n",
              "    <tr>\n",
              "      <th>2</th>\n",
              "      <td>8076</td>\n",
              "      <td>1</td>\n",
              "      <td>2023</td>\n",
              "      <td>25</td>\n",
              "      <td>0</td>\n",
              "      <td>2</td>\n",
              "      <td>2094</td>\n",
              "      <td>136</td>\n",
              "      <td>C</td>\n",
              "    </tr>\n",
              "    <tr>\n",
              "      <th>3</th>\n",
              "      <td>8929</td>\n",
              "      <td>6</td>\n",
              "      <td>620860</td>\n",
              "      <td>777</td>\n",
              "      <td>161</td>\n",
              "      <td>153</td>\n",
              "      <td>2119</td>\n",
              "      <td>262</td>\n",
              "      <td>H</td>\n",
              "    </tr>\n",
              "    <tr>\n",
              "      <th>4</th>\n",
              "      <td>120</td>\n",
              "      <td>1</td>\n",
              "      <td>666</td>\n",
              "      <td>1</td>\n",
              "      <td>0</td>\n",
              "      <td>0</td>\n",
              "      <td>2091</td>\n",
              "      <td>31</td>\n",
              "      <td>D</td>\n",
              "    </tr>\n",
              "  </tbody>\n",
              "</table>\n",
              "</div>"
            ],
            "text/plain": [
              "   vidid  adview    views  likes  ...  comment published  duration  category\n",
              "0   5857      40  1031602   8523  ...     1095      2168       457         F\n",
              "1   2711       2     1707     56  ...        6      2185       570         D\n",
              "2   8076       1     2023     25  ...        2      2094       136         C\n",
              "3   8929       6   620860    777  ...      153      2119       262         H\n",
              "4    120       1      666      1  ...        0      2091        31         D\n",
              "\n",
              "[5 rows x 9 columns]"
            ]
          },
          "metadata": {
            "tags": []
          },
          "execution_count": 15
        }
      ]
    },
    {
      "cell_type": "code",
      "metadata": {
        "id": "eShYEhX_Jmk8"
      },
      "source": [
        "category={'A':1,'B':2,'C':3,'D':4,'E':5,'F':6,'G':7,'H':8}\n",
        "data_train['category']=data_train['category'].map(category)"
      ],
      "execution_count": 16,
      "outputs": []
    },
    {
      "cell_type": "code",
      "metadata": {
        "colab": {
          "base_uri": "https://localhost:8080/",
          "height": 195
        },
        "id": "e3vr_kSEJ6vW",
        "outputId": "2d58448f-3699-4b6d-bb80-a36606cedc77"
      },
      "source": [
        "data_train.head()\n"
      ],
      "execution_count": 17,
      "outputs": [
        {
          "output_type": "execute_result",
          "data": {
            "text/html": [
              "<div>\n",
              "<style scoped>\n",
              "    .dataframe tbody tr th:only-of-type {\n",
              "        vertical-align: middle;\n",
              "    }\n",
              "\n",
              "    .dataframe tbody tr th {\n",
              "        vertical-align: top;\n",
              "    }\n",
              "\n",
              "    .dataframe thead th {\n",
              "        text-align: right;\n",
              "    }\n",
              "</style>\n",
              "<table border=\"1\" class=\"dataframe\">\n",
              "  <thead>\n",
              "    <tr style=\"text-align: right;\">\n",
              "      <th></th>\n",
              "      <th>vidid</th>\n",
              "      <th>adview</th>\n",
              "      <th>views</th>\n",
              "      <th>likes</th>\n",
              "      <th>dislikes</th>\n",
              "      <th>comment</th>\n",
              "      <th>published</th>\n",
              "      <th>duration</th>\n",
              "      <th>category</th>\n",
              "    </tr>\n",
              "  </thead>\n",
              "  <tbody>\n",
              "    <tr>\n",
              "      <th>0</th>\n",
              "      <td>5857</td>\n",
              "      <td>40</td>\n",
              "      <td>1031602</td>\n",
              "      <td>8523</td>\n",
              "      <td>363</td>\n",
              "      <td>1095</td>\n",
              "      <td>2168</td>\n",
              "      <td>457</td>\n",
              "      <td>6</td>\n",
              "    </tr>\n",
              "    <tr>\n",
              "      <th>1</th>\n",
              "      <td>2711</td>\n",
              "      <td>2</td>\n",
              "      <td>1707</td>\n",
              "      <td>56</td>\n",
              "      <td>2</td>\n",
              "      <td>6</td>\n",
              "      <td>2185</td>\n",
              "      <td>570</td>\n",
              "      <td>4</td>\n",
              "    </tr>\n",
              "    <tr>\n",
              "      <th>2</th>\n",
              "      <td>8076</td>\n",
              "      <td>1</td>\n",
              "      <td>2023</td>\n",
              "      <td>25</td>\n",
              "      <td>0</td>\n",
              "      <td>2</td>\n",
              "      <td>2094</td>\n",
              "      <td>136</td>\n",
              "      <td>3</td>\n",
              "    </tr>\n",
              "    <tr>\n",
              "      <th>3</th>\n",
              "      <td>8929</td>\n",
              "      <td>6</td>\n",
              "      <td>620860</td>\n",
              "      <td>777</td>\n",
              "      <td>161</td>\n",
              "      <td>153</td>\n",
              "      <td>2119</td>\n",
              "      <td>262</td>\n",
              "      <td>8</td>\n",
              "    </tr>\n",
              "    <tr>\n",
              "      <th>4</th>\n",
              "      <td>120</td>\n",
              "      <td>1</td>\n",
              "      <td>666</td>\n",
              "      <td>1</td>\n",
              "      <td>0</td>\n",
              "      <td>0</td>\n",
              "      <td>2091</td>\n",
              "      <td>31</td>\n",
              "      <td>4</td>\n",
              "    </tr>\n",
              "  </tbody>\n",
              "</table>\n",
              "</div>"
            ],
            "text/plain": [
              "   vidid  adview    views  likes  ...  comment published  duration  category\n",
              "0   5857      40  1031602   8523  ...     1095      2168       457         6\n",
              "1   2711       2     1707     56  ...        6      2185       570         4\n",
              "2   8076       1     2023     25  ...        2      2094       136         3\n",
              "3   8929       6   620860    777  ...      153      2119       262         8\n",
              "4    120       1      666      1  ...        0      2091        31         4\n",
              "\n",
              "[5 rows x 9 columns]"
            ]
          },
          "metadata": {
            "tags": []
          },
          "execution_count": 17
        }
      ]
    },
    {
      "cell_type": "code",
      "metadata": {
        "colab": {
          "base_uri": "https://localhost:8080/",
          "height": 487
        },
        "id": "ZyRGf2TjJ8L7",
        "outputId": "36e3fb86-c852-428c-ca7b-c87ba732b06e"
      },
      "source": [
        "import seaborn as sns\n",
        "f, ax = plt.subplots(figsize=(10, 8))\n",
        "corr = data_train.corr()\n",
        "sns.heatmap(corr, mask=np.zeros_like(corr, dtype=np.bool), cmap=sns.diverging_palette(220, 10, as_cmap=True),\n",
        "square=True, ax=ax,annot=True)\n",
        "plt.show()"
      ],
      "execution_count": 18,
      "outputs": [
        {
          "output_type": "display_data",
          "data": {
            "image/png": "[encoded data removed]",
            "text/plain": [
              "<Figure size 720x576 with 2 Axes>"
            ]
          },
          "metadata": {
            "tags": [],
            "needs_background": "light"
          }
        }
      ]
    },
    {
      "cell_type": "code",
      "metadata": {
        "colab": {
          "base_uri": "https://localhost:8080/",
          "height": 195
        },
        "id": "NL3HOSBQKYGF",
        "outputId": "bf454a1a-da15-47e1-f617-409c5b771e2d"
      },
      "source": [
        "Y_train = pd.DataFrame(data= data_train.iloc[:,1].values,columns=['target'])\n",
        "data_train = data_train.drop(['adview'],axis=1)\n",
        "data_train= data_train.drop(['vidid'],axis=1)\n",
        "data_train.head()"
      ],
      "execution_count": 19,
      "outputs": [
        {
          "output_type": "execute_result",
          "data": {
            "text/html": [
              "<div>\n",
              "<style scoped>\n",
              "    .dataframe tbody tr th:only-of-type {\n",
              "        vertical-align: middle;\n",
              "    }\n",
              "\n",
              "    .dataframe tbody tr th {\n",
              "        vertical-align: top;\n",
              "    }\n",
              "\n",
              "    .dataframe thead th {\n",
              "        text-align: right;\n",
              "    }\n",
              "</style>\n",
              "<table border=\"1\" class=\"dataframe\">\n",
              "  <thead>\n",
              "    <tr style=\"text-align: right;\">\n",
              "      <th></th>\n",
              "      <th>views</th>\n",
              "      <th>likes</th>\n",
              "      <th>dislikes</th>\n",
              "      <th>comment</th>\n",
              "      <th>published</th>\n",
              "      <th>duration</th>\n",
              "      <th>category</th>\n",
              "    </tr>\n",
              "  </thead>\n",
              "  <tbody>\n",
              "    <tr>\n",
              "      <th>0</th>\n",
              "      <td>1031602</td>\n",
              "      <td>8523</td>\n",
              "      <td>363</td>\n",
              "      <td>1095</td>\n",
              "      <td>2168</td>\n",
              "      <td>457</td>\n",
              "      <td>6</td>\n",
              "    </tr>\n",
              "    <tr>\n",
              "      <th>1</th>\n",
              "      <td>1707</td>\n",
              "      <td>56</td>\n",
              "      <td>2</td>\n",
              "      <td>6</td>\n",
              "      <td>2185</td>\n",
              "      <td>570</td>\n",
              "      <td>4</td>\n",
              "    </tr>\n",
              "    <tr>\n",
              "      <th>2</th>\n",
              "      <td>2023</td>\n",
              "      <td>25</td>\n",
              "      <td>0</td>\n",
              "      <td>2</td>\n",
              "      <td>2094</td>\n",
              "      <td>136</td>\n",
              "      <td>3</td>\n",
              "    </tr>\n",
              "    <tr>\n",
              "      <th>3</th>\n",
              "      <td>620860</td>\n",
              "      <td>777</td>\n",
              "      <td>161</td>\n",
              "      <td>153</td>\n",
              "      <td>2119</td>\n",
              "      <td>262</td>\n",
              "      <td>8</td>\n",
              "    </tr>\n",
              "    <tr>\n",
              "      <th>4</th>\n",
              "      <td>666</td>\n",
              "      <td>1</td>\n",
              "      <td>0</td>\n",
              "      <td>0</td>\n",
              "      <td>2091</td>\n",
              "      <td>31</td>\n",
              "      <td>4</td>\n",
              "    </tr>\n",
              "  </tbody>\n",
              "</table>\n",
              "</div>"
            ],
            "text/plain": [
              "     views  likes  dislikes comment  published  duration  category\n",
              "0  1031602   8523       363    1095       2168       457         6\n",
              "1     1707     56         2       6       2185       570         4\n",
              "2     2023     25         0       2       2094       136         3\n",
              "3   620860    777       161     153       2119       262         8\n",
              "4      666      1         0       0       2091        31         4"
            ]
          },
          "metadata": {
            "tags": []
          },
          "execution_count": 19
        }
      ]
    },
    {
      "cell_type": "code",
      "metadata": {
        "colab": {
          "base_uri": "https://localhost:8080/"
        },
        "id": "Hz2lophcTzDd",
        "outputId": "ee96eed7-dc38-45ed-fafc-c450c4e3264d"
      },
      "source": [
        "from sklearn.model_selection import train_test_split\n",
        "X_train,X_test,Y_train,Y_test=train_test_split(data_train,Y_train,test_size=0.2,random_state=42)\n",
        "X_train,X_test,Y_train,Y_test"
      ],
      "execution_count": 20,
      "outputs": [
        {
          "output_type": "execute_result",
          "data": {
            "text/plain": [
              "(          views  likes  dislikes comment  published  duration  category\n",
              " 9265     842042   4170       205     346       1001      2987         4\n",
              " 3432      77306    680        15     175       1025       408         1\n",
              " 10251    224657    193        70      19       2136      1449         5\n",
              " 1761     146645    495        60     139        699        27         5\n",
              " 9927      49980    134         8      22       1239       785         4\n",
              " ...         ...    ...       ...     ...        ...       ...       ...\n",
              " 5348     254203    153        35       4       1977       533         4\n",
              " 13832     21606     71         6      28        976       162         4\n",
              " 5554     654700    328        21      41        360       204         7\n",
              " 886    64310773  20397     10258      23       1790         0         8\n",
              " 7492     963130   2428       419    1489       2021       604         4\n",
              " \n",
              " [11636 rows x 7 columns],\n",
              "          views  likes  dislikes comment  published  duration  category\n",
              " 2140    145860   1210         7      55       1869       191         6\n",
              " 13913    80240     87        20       4        686       164         3\n",
              " 9595    166852    287         5      22       2055        39         4\n",
              " 10169    93152    212        12      13        823       127         7\n",
              " 11762   519348   3661        69     193       1789        88         7\n",
              " ...        ...    ...       ...     ...        ...       ...       ...\n",
              " 8519     46521    650         6     128       1190       276         7\n",
              " 12194  1435800   4166       294     632       1819       617         1\n",
              " 14550     1709     22         0      20       1119      1771         1\n",
              " 6291    376439    446        38      24       1755      2521         5\n",
              " 14109   213243   1313        61     313       1712       413         6\n",
              " \n",
              " [2910 rows x 7 columns],\n",
              "        target\n",
              " 8991       20\n",
              " 3325        1\n",
              " 9946        1\n",
              " 1710       21\n",
              " 9629        2\n",
              " ...       ...\n",
              " 5191        4\n",
              " 13418       2\n",
              " 5390        1\n",
              " 860        93\n",
              " 7270        4\n",
              " \n",
              " [11636 rows x 1 columns],\n",
              "        target\n",
              " 2069        2\n",
              " 13497       1\n",
              " 9309        1\n",
              " 9864        2\n",
              " 11409       1\n",
              " ...       ...\n",
              " 8271        2\n",
              " 11830     255\n",
              " 14117       1\n",
              " 6110        1\n",
              " 13690      20\n",
              " \n",
              " [2910 rows x 1 columns])"
            ]
          },
          "metadata": {
            "tags": []
          },
          "execution_count": 20
        }
      ]
    },
    {
      "cell_type": "code",
      "metadata": {
        "colab": {
          "base_uri": "https://localhost:8080/"
        },
        "id": "YnWF2EL3T9yY",
        "outputId": "fa090be2-dec9-4df4-def4-49e8a6388490"
      },
      "source": [
        "from sklearn.preprocessing import MinMaxScaler\n",
        "scalerx=MinMaxScaler()\n",
        "scalery=MinMaxScaler()\n",
        "X_train=scalerx.fit_transform(X_train)\n",
        "X_test=scalerx.transform(X_test)\n",
        "Y_train=scalery.fit_transform(Y_train)\n",
        "X_train,X_test"
      ],
      "execution_count": 21,
      "outputs": [
        {
          "output_type": "execute_result",
          "data": {
            "text/plain": [
              "(array([[6.09928502e-03, 1.46922036e-02, 4.14568545e-03, ...,\n",
              "         4.20058749e-01, 7.05862892e-02, 4.28571429e-01],\n",
              "        [5.59639406e-04, 2.39585095e-03, 3.03342838e-04, ...,\n",
              "         4.30130088e-01, 9.64151523e-03, 0.00000000e+00],\n",
              "        [1.62703040e-03, 6.79998873e-04, 1.41559991e-03, ...,\n",
              "         8.96349140e-01, 3.42415578e-02, 5.71428571e-01],\n",
              "        ...,\n",
              "        [4.74220455e-03, 1.15564575e-03, 4.24679973e-04, ...,\n",
              "         1.51070080e-01, 4.82075762e-03, 8.57142857e-01],\n",
              "        [4.65858309e-01, 7.18649586e-02, 2.07446056e-01, ...,\n",
              "         7.51154008e-01, 0.00000000e+00, 1.00000000e+00],\n",
              "        [6.97643034e-03, 8.55459722e-03, 8.47337661e-03, ...,\n",
              "         8.48090642e-01, 1.42732235e-02, 4.28571429e-01]]),\n",
              " array([[1.05623544e-03, 4.26320537e-03, 1.41559991e-04, ...,\n",
              "         7.84305497e-01, 4.51355247e-03, 7.14285714e-01],\n",
              "        [5.80892911e-04, 3.06527989e-04, 4.04457117e-04, ...,\n",
              "         2.87872430e-01, 3.87551102e-03, 2.85714286e-01],\n",
              "        [1.20829869e-03, 1.01119003e-03, 1.01114279e-04, ...,\n",
              "         8.62358372e-01, 9.21615426e-04, 4.28571429e-01],\n",
              "        ...,\n",
              "        [1.20248186e-05, 7.75128248e-05, 0.00000000e+00, ...,\n",
              "         4.69576164e-01, 4.18507928e-02, 0.00000000e+00],\n",
              "        [2.72651897e-03, 1.57139636e-03, 7.68468523e-04, ...,\n",
              "         7.36466639e-01, 5.95741664e-02, 5.71428571e-01],\n",
              "        [1.54434891e-03, 4.62610632e-03, 1.23359421e-03, ...,\n",
              "         7.18422157e-01, 9.75967105e-03, 7.14285714e-01]]))"
            ]
          },
          "metadata": {
            "tags": []
          },
          "execution_count": 21
        }
      ]
    },
    {
      "cell_type": "code",
      "metadata": {
        "colab": {
          "base_uri": "https://localhost:8080/"
        },
        "id": "36l5hQ1tN9am",
        "outputId": "b5fe0f58-1554-4c49-d281-c9ca6214d5de"
      },
      "source": [
        "from sklearn import metrics\n",
        "def print_errors(X_test,Y_test,model):\n",
        "  Y_pred=model.predict(X_test)\n",
        "  Y_pred=Y_pred.reshape(-1,1)\n",
        "  Y_pred=scalery.inverse_transform(Y_pred)\n",
        "  print(\"Mean Absolute Error:\",metrics.mean_absolute_error(Y_test,Y_pred))\n",
        "  print(\"Mean Squared Error:\",metrics.mean_squared_error(Y_test,Y_pred))\n",
        "  print(\"Root Mean Squared Error:\",np.sqrt(metrics.mean_squared_error(Y_test,Y_pred)))\n",
        "  from sklearn.metrics import mean_squared_error,r2_score\n",
        "  msc=mean_squared_error(Y_test,Y_pred)      \n",
        "  r2_score=r2_score(Y_test,Y_pred)  \n",
        "  print(\"r2_score is\",r2_score)\n",
        "\n",
        "from sklearn.linear_model import LinearRegression\n",
        "linear_regression=LinearRegression()\n",
        "model=linear_regression.fit(X_train,Y_train)\n",
        "print(\"Linear Regression\")\n",
        "print_errors(X_test,Y_test,model)\n",
        "print(\"\")\n",
        "\n",
        "from sklearn.svm import SVR\n",
        "support_vector_regressor=SVR()\n",
        "model=support_vector_regressor.fit(X_train,Y_train)\n",
        "print(\"Support Vector Regressor\")\n",
        "print_errors(X_test,Y_test,model)\n",
        "print(\"\")\n",
        "\n",
        "from sklearn.tree import DecisionTreeRegressor\n",
        "decision_tree_regressor=DecisionTreeRegressor()\n",
        "model=decision_tree_regressor.fit(X_train,Y_train)\n",
        "print(\"Decision Tree Regressor\")\n",
        "print_errors(X_test,Y_test,model)\n",
        "print(\"\")\n",
        "\n",
        "from sklearn.ensemble import RandomForestRegressor\n",
        "random_forest_regressor = RandomForestRegressor(n_estimators = 50,max_depth = 25,min_samples_split=15,min_samples_leaf=2)\n",
        "req_model= random_forest_regressor.fit(X_train,Y_train)\n",
        "print(\"Random Forest Regressor\")\n",
        "print_errors(X_test,Y_test,req_model)"
      ],
      "execution_count": 22,
      "outputs": [
        {
          "output_type": "stream",
          "text": [
            "Linear Regression\n",
            "Mean Absolute Error: 662.1516581692035\n",
            "Mean Squared Error: 5751385.96224477\n",
            "Root Mean Squared Error: 2398.20473734933\n",
            "r2_score is 0.008751738568901657\n",
            "\n"
          ],
          "name": "stdout"
        },
        {
          "output_type": "stream",
          "text": [
            "/usr/local/lib/python3.7/dist-packages/sklearn/utils/validation.py:760: DataConversionWarning: A column-vector y was passed when a 1d array was expected. Please change the shape of y to (n_samples, ), for example using ravel().\n",
            "  y = column_or_1d(y, warn=True)\n"
          ],
          "name": "stderr"
        },
        {
          "output_type": "stream",
          "text": [
            "Support Vector Regressor\n",
            "Mean Absolute Error: 4872.028074191567\n",
            "Mean Squared Error: 26161729.376480423\n",
            "Root Mean Squared Error: 5114.853798153024\n",
            "r2_score is -3.5089599151759128\n",
            "\n",
            "Decision Tree Regressor\n",
            "Mean Absolute Error: 518.4464192875547\n",
            "Mean Squared Error: 9435803.087106176\n",
            "Root Mean Squared Error: 3071.7752338193914\n",
            "r2_score is -0.6262555611290639\n",
            "\n"
          ],
          "name": "stdout"
        },
        {
          "output_type": "stream",
          "text": [
            "/usr/local/lib/python3.7/dist-packages/ipykernel_launcher.py:37: DataConversionWarning: A column-vector y was passed when a 1d array was expected. Please change the shape of y to (n_samples,), for example using ravel().\n"
          ],
          "name": "stderr"
        },
        {
          "output_type": "stream",
          "text": [
            "Random Forest Regressor\n",
            "Mean Absolute Error: 498.472914417579\n",
            "Mean Squared Error: 4837811.966625435\n",
            "Root Mean Squared Error: 2199.50266347314\n",
            "r2_score is 0.16620572284174273\n"
          ],
          "name": "stdout"
        }
      ]
    },
    {
      "cell_type": "code",
      "metadata": {
        "colab": {
          "base_uri": "https://localhost:8080/"
        },
        "id": "LbpLgOGGPvAC",
        "outputId": "7e32b6d3-3d1c-4fe3-cdbd-207ac91b9f9d"
      },
      "source": [
        "import keras\n",
        "from keras.layers import Dense\n",
        "ann = keras.models.Sequential([Dense(6, activation=\"relu\",input_shape=X_train.shape[1:]),Dense(6,activation=\"relu\"),Dense(1)])\n",
        "optimizer=keras.optimizers.Adam()\n",
        "loss=keras.losses.mean_squared_error\n",
        "ann.compile(optimizer=optimizer,loss=loss,metrics=[\"mean_squared_error\"])\n",
        "history=ann.fit(X_train,Y_train,epochs=100)\n",
        "ann.summary()\n",
        "print_errors(X_test,Y_test,ann)"
      ],
      "execution_count": 23,
      "outputs": [
        {
          "output_type": "stream",
          "text": [
            "Epoch 1/100\n",
            "364/364 [==============================] - 1s 769us/step - loss: 0.0031 - mean_squared_error: 0.0031\n",
            "Epoch 2/100\n",
            "364/364 [==============================] - 0s 795us/step - loss: 0.0030 - mean_squared_error: 0.0030\n",
            "Epoch 3/100\n",
            "364/364 [==============================] - 0s 765us/step - loss: 0.0027 - mean_squared_error: 0.0027\n",
            "Epoch 4/100\n",
            "364/364 [==============================] - 0s 758us/step - loss: 0.0032 - mean_squared_error: 0.0032\n",
            "Epoch 5/100\n",
            "364/364 [==============================] - 0s 826us/step - loss: 0.0030 - mean_squared_error: 0.0030\n",
            "Epoch 6/100\n",
            "364/364 [==============================] - 0s 806us/step - loss: 0.0029 - mean_squared_error: 0.0029\n",
            "Epoch 7/100\n",
            "364/364 [==============================] - 0s 768us/step - loss: 0.0029 - mean_squared_error: 0.0029\n",
            "Epoch 8/100\n",
            "364/364 [==============================] - 0s 798us/step - loss: 0.0029 - mean_squared_error: 0.0029\n",
            "Epoch 9/100\n",
            "364/364 [==============================] - 0s 754us/step - loss: 0.0032 - mean_squared_error: 0.0032\n",
            "Epoch 10/100\n",
            "364/364 [==============================] - 0s 761us/step - loss: 0.0029 - mean_squared_error: 0.0029\n",
            "Epoch 11/100\n",
            "364/364 [==============================] - 0s 789us/step - loss: 0.0033 - mean_squared_error: 0.0033\n",
            "Epoch 12/100\n",
            "364/364 [==============================] - 0s 770us/step - loss: 0.0029 - mean_squared_error: 0.0029\n",
            "Epoch 13/100\n",
            "364/364 [==============================] - 0s 787us/step - loss: 0.0036 - mean_squared_error: 0.0036\n",
            "Epoch 14/100\n",
            "364/364 [==============================] - 0s 774us/step - loss: 0.0030 - mean_squared_error: 0.0030\n",
            "Epoch 15/100\n",
            "364/364 [==============================] - 0s 797us/step - loss: 0.0034 - mean_squared_error: 0.0034\n",
            "Epoch 16/100\n",
            "364/364 [==============================] - 0s 811us/step - loss: 0.0027 - mean_squared_error: 0.0027\n",
            "Epoch 17/100\n",
            "364/364 [==============================] - 0s 770us/step - loss: 0.0031 - mean_squared_error: 0.0031\n",
            "Epoch 18/100\n",
            "364/364 [==============================] - 0s 780us/step - loss: 0.0028 - mean_squared_error: 0.0028\n",
            "Epoch 19/100\n",
            "364/364 [==============================] - 0s 761us/step - loss: 0.0032 - mean_squared_error: 0.0032\n",
            "Epoch 20/100\n",
            "364/364 [==============================] - 0s 739us/step - loss: 0.0031 - mean_squared_error: 0.0031\n",
            "Epoch 21/100\n",
            "364/364 [==============================] - 0s 753us/step - loss: 0.0031 - mean_squared_error: 0.0031\n",
            "Epoch 22/100\n",
            "364/364 [==============================] - 0s 825us/step - loss: 0.0025 - mean_squared_error: 0.0025\n",
            "Epoch 23/100\n",
            "364/364 [==============================] - 0s 726us/step - loss: 0.0030 - mean_squared_error: 0.0030\n",
            "Epoch 24/100\n",
            "364/364 [==============================] - 0s 761us/step - loss: 0.0031 - mean_squared_error: 0.0031\n",
            "Epoch 25/100\n",
            "364/364 [==============================] - 0s 799us/step - loss: 0.0034 - mean_squared_error: 0.0034\n",
            "Epoch 26/100\n",
            "364/364 [==============================] - 0s 726us/step - loss: 0.0030 - mean_squared_error: 0.0030\n",
            "Epoch 27/100\n",
            "364/364 [==============================] - 0s 793us/step - loss: 0.0028 - mean_squared_error: 0.0028\n",
            "Epoch 28/100\n",
            "364/364 [==============================] - 0s 794us/step - loss: 0.0033 - mean_squared_error: 0.0033\n",
            "Epoch 29/100\n",
            "364/364 [==============================] - 0s 802us/step - loss: 0.0028 - mean_squared_error: 0.0028\n",
            "Epoch 30/100\n",
            "364/364 [==============================] - 0s 742us/step - loss: 0.0028 - mean_squared_error: 0.0028\n",
            "Epoch 31/100\n",
            "364/364 [==============================] - 0s 755us/step - loss: 0.0031 - mean_squared_error: 0.0031\n",
            "Epoch 32/100\n",
            "364/364 [==============================] - 0s 735us/step - loss: 0.0029 - mean_squared_error: 0.0029\n",
            "Epoch 33/100\n",
            "364/364 [==============================] - 0s 752us/step - loss: 0.0027 - mean_squared_error: 0.0027\n",
            "Epoch 34/100\n",
            "364/364 [==============================] - 0s 758us/step - loss: 0.0030 - mean_squared_error: 0.0030\n",
            "Epoch 35/100\n",
            "364/364 [==============================] - 0s 731us/step - loss: 0.0026 - mean_squared_error: 0.0026\n",
            "Epoch 36/100\n",
            "364/364 [==============================] - 0s 779us/step - loss: 0.0030 - mean_squared_error: 0.0030\n",
            "Epoch 37/100\n",
            "364/364 [==============================] - 0s 781us/step - loss: 0.0026 - mean_squared_error: 0.0026\n",
            "Epoch 38/100\n",
            "364/364 [==============================] - 0s 789us/step - loss: 0.0025 - mean_squared_error: 0.0025\n",
            "Epoch 39/100\n",
            "364/364 [==============================] - 0s 767us/step - loss: 0.0036 - mean_squared_error: 0.0036\n",
            "Epoch 40/100\n",
            "364/364 [==============================] - 0s 849us/step - loss: 0.0026 - mean_squared_error: 0.0026\n",
            "Epoch 41/100\n",
            "364/364 [==============================] - 0s 845us/step - loss: 0.0027 - mean_squared_error: 0.0027\n",
            "Epoch 42/100\n",
            "364/364 [==============================] - 0s 786us/step - loss: 0.0029 - mean_squared_error: 0.0029\n",
            "Epoch 43/100\n",
            "364/364 [==============================] - 0s 792us/step - loss: 0.0035 - mean_squared_error: 0.0035\n",
            "Epoch 44/100\n",
            "364/364 [==============================] - 0s 772us/step - loss: 0.0031 - mean_squared_error: 0.0031\n",
            "Epoch 45/100\n",
            "364/364 [==============================] - 0s 771us/step - loss: 0.0026 - mean_squared_error: 0.0026\n",
            "Epoch 46/100\n",
            "364/364 [==============================] - 0s 805us/step - loss: 0.0027 - mean_squared_error: 0.0027\n",
            "Epoch 47/100\n",
            "364/364 [==============================] - 0s 969us/step - loss: 0.0025 - mean_squared_error: 0.0025\n",
            "Epoch 48/100\n",
            "364/364 [==============================] - 0s 812us/step - loss: 0.0030 - mean_squared_error: 0.0030\n",
            "Epoch 49/100\n",
            "364/364 [==============================] - 0s 747us/step - loss: 0.0032 - mean_squared_error: 0.0032\n",
            "Epoch 50/100\n",
            "364/364 [==============================] - 0s 763us/step - loss: 0.0030 - mean_squared_error: 0.0030\n",
            "Epoch 51/100\n",
            "364/364 [==============================] - 0s 768us/step - loss: 0.0029 - mean_squared_error: 0.0029\n",
            "Epoch 52/100\n",
            "364/364 [==============================] - 0s 779us/step - loss: 0.0030 - mean_squared_error: 0.0030\n",
            "Epoch 53/100\n",
            "364/364 [==============================] - 0s 800us/step - loss: 0.0026 - mean_squared_error: 0.0026\n",
            "Epoch 54/100\n",
            "364/364 [==============================] - 0s 771us/step - loss: 0.0029 - mean_squared_error: 0.0029\n",
            "Epoch 55/100\n",
            "364/364 [==============================] - 0s 765us/step - loss: 0.0027 - mean_squared_error: 0.0027\n",
            "Epoch 56/100\n",
            "364/364 [==============================] - 0s 716us/step - loss: 0.0029 - mean_squared_error: 0.0029\n",
            "Epoch 57/100\n",
            "364/364 [==============================] - 0s 809us/step - loss: 0.0032 - mean_squared_error: 0.0032\n",
            "Epoch 58/100\n",
            "364/364 [==============================] - 0s 762us/step - loss: 0.0030 - mean_squared_error: 0.0030\n",
            "Epoch 59/100\n",
            "364/364 [==============================] - 0s 796us/step - loss: 0.0030 - mean_squared_error: 0.0030\n",
            "Epoch 60/100\n",
            "364/364 [==============================] - 0s 808us/step - loss: 0.0030 - mean_squared_error: 0.0030\n",
            "Epoch 61/100\n",
            "364/364 [==============================] - 0s 767us/step - loss: 0.0035 - mean_squared_error: 0.0035\n",
            "Epoch 62/100\n",
            "364/364 [==============================] - 0s 761us/step - loss: 0.0027 - mean_squared_error: 0.0027\n",
            "Epoch 63/100\n",
            "364/364 [==============================] - 0s 788us/step - loss: 0.0036 - mean_squared_error: 0.0036\n",
            "Epoch 64/100\n",
            "364/364 [==============================] - 0s 756us/step - loss: 0.0028 - mean_squared_error: 0.0028\n",
            "Epoch 65/100\n",
            "364/364 [==============================] - 0s 775us/step - loss: 0.0032 - mean_squared_error: 0.0032\n",
            "Epoch 66/100\n",
            "364/364 [==============================] - 0s 823us/step - loss: 0.0033 - mean_squared_error: 0.0033\n",
            "Epoch 67/100\n",
            "364/364 [==============================] - 0s 800us/step - loss: 0.0025 - mean_squared_error: 0.0025\n",
            "Epoch 68/100\n",
            "364/364 [==============================] - 0s 755us/step - loss: 0.0032 - mean_squared_error: 0.0032\n",
            "Epoch 69/100\n",
            "364/364 [==============================] - 0s 819us/step - loss: 0.0026 - mean_squared_error: 0.0026\n",
            "Epoch 70/100\n",
            "364/364 [==============================] - 0s 801us/step - loss: 0.0031 - mean_squared_error: 0.0031\n",
            "Epoch 71/100\n",
            "364/364 [==============================] - 0s 772us/step - loss: 0.0030 - mean_squared_error: 0.0030\n",
            "Epoch 72/100\n",
            "364/364 [==============================] - 0s 749us/step - loss: 0.0031 - mean_squared_error: 0.0031\n",
            "Epoch 73/100\n",
            "364/364 [==============================] - 0s 802us/step - loss: 0.0025 - mean_squared_error: 0.0025\n",
            "Epoch 74/100\n",
            "364/364 [==============================] - 0s 778us/step - loss: 0.0035 - mean_squared_error: 0.0035\n",
            "Epoch 75/100\n",
            "364/364 [==============================] - 0s 741us/step - loss: 0.0029 - mean_squared_error: 0.0029\n",
            "Epoch 76/100\n",
            "364/364 [==============================] - 0s 791us/step - loss: 0.0029 - mean_squared_error: 0.0029\n",
            "Epoch 77/100\n",
            "364/364 [==============================] - 0s 770us/step - loss: 0.0032 - mean_squared_error: 0.0032\n",
            "Epoch 78/100\n",
            "364/364 [==============================] - 0s 785us/step - loss: 0.0029 - mean_squared_error: 0.0029\n",
            "Epoch 79/100\n",
            "364/364 [==============================] - 0s 790us/step - loss: 0.0031 - mean_squared_error: 0.0031\n",
            "Epoch 80/100\n",
            "364/364 [==============================] - 0s 765us/step - loss: 0.0027 - mean_squared_error: 0.0027\n",
            "Epoch 81/100\n",
            "364/364 [==============================] - 0s 773us/step - loss: 0.0026 - mean_squared_error: 0.0026\n",
            "Epoch 82/100\n",
            "364/364 [==============================] - 0s 759us/step - loss: 0.0031 - mean_squared_error: 0.0031\n",
            "Epoch 83/100\n",
            "364/364 [==============================] - 0s 743us/step - loss: 0.0033 - mean_squared_error: 0.0033\n",
            "Epoch 84/100\n",
            "364/364 [==============================] - 0s 763us/step - loss: 0.0027 - mean_squared_error: 0.0027\n",
            "Epoch 85/100\n",
            "364/364 [==============================] - 0s 762us/step - loss: 0.0027 - mean_squared_error: 0.0027\n",
            "Epoch 86/100\n",
            "364/364 [==============================] - 0s 799us/step - loss: 0.0032 - mean_squared_error: 0.0032\n",
            "Epoch 87/100\n",
            "364/364 [==============================] - 0s 729us/step - loss: 0.0030 - mean_squared_error: 0.0030\n",
            "Epoch 88/100\n",
            "364/364 [==============================] - 0s 803us/step - loss: 0.0029 - mean_squared_error: 0.0029\n",
            "Epoch 89/100\n",
            "364/364 [==============================] - 0s 815us/step - loss: 0.0024 - mean_squared_error: 0.0024\n",
            "Epoch 90/100\n",
            "364/364 [==============================] - 0s 788us/step - loss: 0.0027 - mean_squared_error: 0.0027\n",
            "Epoch 91/100\n",
            "364/364 [==============================] - 0s 815us/step - loss: 0.0029 - mean_squared_error: 0.0029\n",
            "Epoch 92/100\n",
            "364/364 [==============================] - 0s 861us/step - loss: 0.0030 - mean_squared_error: 0.0030\n",
            "Epoch 93/100\n",
            "364/364 [==============================] - 0s 776us/step - loss: 0.0025 - mean_squared_error: 0.0025\n",
            "Epoch 94/100\n",
            "364/364 [==============================] - 0s 747us/step - loss: 0.0028 - mean_squared_error: 0.0028\n",
            "Epoch 95/100\n",
            "364/364 [==============================] - 0s 860us/step - loss: 0.0027 - mean_squared_error: 0.0027\n",
            "Epoch 96/100\n",
            "364/364 [==============================] - 0s 771us/step - loss: 0.0028 - mean_squared_error: 0.0028\n",
            "Epoch 97/100\n",
            "364/364 [==============================] - 0s 832us/step - loss: 0.0032 - mean_squared_error: 0.0032\n",
            "Epoch 98/100\n",
            "364/364 [==============================] - 0s 851us/step - loss: 0.0025 - mean_squared_error: 0.0025\n",
            "Epoch 99/100\n",
            "364/364 [==============================] - 0s 780us/step - loss: 0.0029 - mean_squared_error: 0.0029\n",
            "Epoch 100/100\n",
            "364/364 [==============================] - 0s 777us/step - loss: 0.0033 - mean_squared_error: 0.0033\n",
            "Model: \"sequential\"\n",
            "_________________________________________________________________\n",
            "Layer (type)                 Output Shape              Param #   \n",
            "=================================================================\n",
            "dense (Dense)                (None, 6)                 48        \n",
            "_________________________________________________________________\n",
            "dense_1 (Dense)              (None, 6)                 42        \n",
            "_________________________________________________________________\n",
            "dense_2 (Dense)              (None, 1)                 7         \n",
            "=================================================================\n",
            "Total params: 97\n",
            "Trainable params: 97\n",
            "Non-trainable params: 0\n",
            "_________________________________________________________________\n",
            "Mean Absolute Error: 573.4641186415944\n",
            "Mean Squared Error: 5645393.124169977\n",
            "Root Mean Squared Error: 2376.0036035683906\n",
            "r2_score is 0.027019546912054215\n"
          ],
          "name": "stdout"
        }
      ]
    },
    {
      "cell_type": "code",
      "metadata": {
        "colab": {
          "base_uri": "https://localhost:8080/"
        },
        "id": "VO_q5AagQAwj",
        "outputId": "6cc29e21-a233-4d98-844c-d24e8698455b"
      },
      "source": [
        "import joblib\n",
        "joblib.dump(decision_tree_regressor, \"decisiontree_youtubeadview.pkl\")"
      ],
      "execution_count": 24,
      "outputs": [
        {
          "output_type": "execute_result",
          "data": {
            "text/plain": [
              "['decisiontree_youtubeadview.pkl']"
            ]
          },
          "metadata": {
            "tags": []
          },
          "execution_count": 24
        }
      ]
    },
    {
      "cell_type": "code",
      "metadata": {
        "id": "6jxkmjU5QrF8"
      },
      "source": [
        "ann.save(\"ann_youtubeadview.h5\")\n"
      ],
      "execution_count": 25,
      "outputs": []
    },
    {
      "cell_type": "code",
      "metadata": {
        "id": "Dn8AUBZHQ_yY"
      },
      "source": [
        "def predict(data_test):\n",
        "  category={'A':1,'B':2,'C':3,'D':4,'E':5,'F':6,'G':7,'H':8}\n",
        "  data_test['category']=data_test['category'].map(category)\n",
        "  data_test=data_test[data_test.views !='F']\n",
        "  data_test=data_test[data_test.likes !='F']\n",
        "  data_test=data_test[data_test.dislikes !='F']\n",
        "  data_test=data_test[data_test.comment !='F']\n",
        "  data_test['views']=pd.to_numeric(data_test['views'])\n",
        "  data_test['likes']=pd.to_numeric(data_test['likes'])\n",
        "  data_test['dislikes']=pd.to_numeric(data_test['dislikes'])\n",
        "  data_test['comment']=pd.to_numeric(data_test['comment'])\n",
        "  label_enc = LabelEncoder()\n",
        "  data_test['vidid']=label_enc.fit_transform(data_test['vidid'])\n",
        "  data_test['published']=label_enc.fit_transform(data_test['published'])\n",
        "  data_test['duration']=label_enc.fit_transform(data_test['duration'])\n",
        "\n",
        "  mp = pd.read_csv(\"/content/drive/MyDrive/dataset/test.csv\")[\"duration\"]\n",
        "  time = mp.apply(checki)\n",
        "  time1=time.apply(func_sec)\n",
        "  data_test[\"duration\"]=time1\n",
        "\n",
        "  data_test= data_test.drop(['vidid'],axis=1)\n",
        "\n",
        "  data_test=scalerx.transform(data_test)\n",
        "\n",
        "  predictions=req_model.predict(data_test)\n",
        "  predictions=predictions.reshape(-1,1)\n",
        "  predictions=scalery.inverse_transform(predictions)\n",
        "  return predictions"
      ],
      "execution_count": 29,
      "outputs": []
    },
    {
      "cell_type": "code",
      "metadata": {
        "colab": {
          "base_uri": "https://localhost:8080/",
          "height": 402
        },
        "id": "sZuWEVuoLR8t",
        "outputId": "1162e28e-3515-4986-f3af-8f2a098d3d5e"
      },
      "source": [
        "data_test= pd.read_csv('/content/drive/MyDrive/dataset/test.csv')\n",
        "pred= predict(data_test)\n",
        "pred= np.ceil(pred)\n",
        "pred_df= pd.DataFrame(pred,columns=['Adviews'])\n",
        "pred_df"
      ],
      "execution_count": 30,
      "outputs": [
        {
          "output_type": "execute_result",
          "data": {
            "text/html": [
              "<div>\n",
              "<style scoped>\n",
              "    .dataframe tbody tr th:only-of-type {\n",
              "        vertical-align: middle;\n",
              "    }\n",
              "\n",
              "    .dataframe tbody tr th {\n",
              "        vertical-align: top;\n",
              "    }\n",
              "\n",
              "    .dataframe thead th {\n",
              "        text-align: right;\n",
              "    }\n",
              "</style>\n",
              "<table border=\"1\" class=\"dataframe\">\n",
              "  <thead>\n",
              "    <tr style=\"text-align: right;\">\n",
              "      <th></th>\n",
              "      <th>Adviews</th>\n",
              "    </tr>\n",
              "  </thead>\n",
              "  <tbody>\n",
              "    <tr>\n",
              "      <th>0</th>\n",
              "      <td>14.0</td>\n",
              "    </tr>\n",
              "    <tr>\n",
              "      <th>1</th>\n",
              "      <td>7.0</td>\n",
              "    </tr>\n",
              "    <tr>\n",
              "      <th>2</th>\n",
              "      <td>4.0</td>\n",
              "    </tr>\n",
              "    <tr>\n",
              "      <th>3</th>\n",
              "      <td>30.0</td>\n",
              "    </tr>\n",
              "    <tr>\n",
              "      <th>4</th>\n",
              "      <td>102.0</td>\n",
              "    </tr>\n",
              "    <tr>\n",
              "      <th>...</th>\n",
              "      <td>...</td>\n",
              "    </tr>\n",
              "    <tr>\n",
              "      <th>8544</th>\n",
              "      <td>7.0</td>\n",
              "    </tr>\n",
              "    <tr>\n",
              "      <th>8545</th>\n",
              "      <td>5.0</td>\n",
              "    </tr>\n",
              "    <tr>\n",
              "      <th>8546</th>\n",
              "      <td>7.0</td>\n",
              "    </tr>\n",
              "    <tr>\n",
              "      <th>8547</th>\n",
              "      <td>9.0</td>\n",
              "    </tr>\n",
              "    <tr>\n",
              "      <th>8548</th>\n",
              "      <td>358.0</td>\n",
              "    </tr>\n",
              "  </tbody>\n",
              "</table>\n",
              "<p>8549 rows × 1 columns</p>\n",
              "</div>"
            ],
            "text/plain": [
              "      Adviews\n",
              "0        14.0\n",
              "1         7.0\n",
              "2         4.0\n",
              "3        30.0\n",
              "4       102.0\n",
              "...       ...\n",
              "8544      7.0\n",
              "8545      5.0\n",
              "8546      7.0\n",
              "8547      9.0\n",
              "8548    358.0\n",
              "\n",
              "[8549 rows x 1 columns]"
            ]
          },
          "metadata": {
            "tags": []
          },
          "execution_count": 30
        }
      ]
    },
    {
      "cell_type": "code",
      "metadata": {
        "id": "vin6HW1jSgr_"
      },
      "source": [
        "pred_df.to_csv('predictions.csv')"
      ],
      "execution_count": 31,
      "outputs": []
    },
    {
      "cell_type": "code",
      "metadata": {
        "id": "UwdBQk3lJloc"
      },
      "source": [
        ""
      ],
      "execution_count": null,
      "outputs": []
    },
    {
      "cell_type": "code",
      "metadata": {
        "id": "73WLX8EYJkMt"
      },
      "source": [
        ""
      ],
      "execution_count": null,
      "outputs": []
    }
  ]
}