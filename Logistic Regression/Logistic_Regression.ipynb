{
  "nbformat": 4,
  "nbformat_minor": 0,
  "metadata": {
    "colab": {
      "name": "Logistic Regression",
      "provenance": [],
      "collapsed_sections": []
    },
    "kernelspec": {
      "name": "python3",
      "display_name": "Python 3"
    },
    "language_info": {
      "name": "python"
    }
  },
  "cells": [
    {
      "cell_type": "code",
      "metadata": {
        "id": "4Ojmw2lZeF0y"
      },
      "source": [
        "import numpy as np\n",
        "import pandas as pd\n",
        "from sklearn.datasets import load_digits\n",
        "import matplotlib.pyplot as plt\n",
        "import seaborn as sns"
      ],
      "execution_count": 209,
      "outputs": []
    },
    {
      "cell_type": "code",
      "metadata": {
        "id": "D_Kob7UgeQC-"
      },
      "source": [
        "digits = load_digits()\n"
      ],
      "execution_count": 210,
      "outputs": []
    },
    {
      "cell_type": "code",
      "metadata": {
        "colab": {
          "base_uri": "https://localhost:8080/"
        },
        "id": "EnrCndileZX2",
        "outputId": "6efad9f7-9e35-4675-e904-b9cf9e488e7d"
      },
      "source": [
        "dir(digits)\n"
      ],
      "execution_count": 211,
      "outputs": [
        {
          "output_type": "execute_result",
          "data": {
            "text/plain": [
              "['DESCR', 'data', 'images', 'target', 'target_names']"
            ]
          },
          "metadata": {
            "tags": []
          },
          "execution_count": 211
        }
      ]
    },
    {
      "cell_type": "code",
      "metadata": {
        "colab": {
          "base_uri": "https://localhost:8080/"
        },
        "id": "3JIo60IBfi2t",
        "outputId": "046686a5-4369-42bd-d47f-5118ff7f803e"
      },
      "source": [
        "digits['data']"
      ],
      "execution_count": 212,
      "outputs": [
        {
          "output_type": "execute_result",
          "data": {
            "text/plain": [
              "array([[ 0.,  0.,  5., ...,  0.,  0.,  0.],\n",
              "       [ 0.,  0.,  0., ..., 10.,  0.,  0.],\n",
              "       [ 0.,  0.,  0., ..., 16.,  9.,  0.],\n",
              "       ...,\n",
              "       [ 0.,  0.,  1., ...,  6.,  0.,  0.],\n",
              "       [ 0.,  0.,  2., ..., 12.,  0.,  0.],\n",
              "       [ 0.,  0., 10., ..., 12.,  1.,  0.]])"
            ]
          },
          "metadata": {
            "tags": []
          },
          "execution_count": 212
        }
      ]
    },
    {
      "cell_type": "code",
      "metadata": {
        "colab": {
          "base_uri": "https://localhost:8080/"
        },
        "id": "6zS4z_-Lfieo",
        "outputId": "674df483-051a-4792-c0bb-f726839a02dd"
      },
      "source": [
        "digits['target']"
      ],
      "execution_count": 213,
      "outputs": [
        {
          "output_type": "execute_result",
          "data": {
            "text/plain": [
              "array([0, 1, 2, ..., 8, 9, 8])"
            ]
          },
          "metadata": {
            "tags": []
          },
          "execution_count": 213
        }
      ]
    },
    {
      "cell_type": "code",
      "metadata": {
        "colab": {
          "base_uri": "https://localhost:8080/"
        },
        "id": "m4GQFFy4fpal",
        "outputId": "6bd7d5d8-9ea2-43f3-c216-332280193d63"
      },
      "source": [
        "type(digits['data'])"
      ],
      "execution_count": 214,
      "outputs": [
        {
          "output_type": "execute_result",
          "data": {
            "text/plain": [
              "numpy.ndarray"
            ]
          },
          "metadata": {
            "tags": []
          },
          "execution_count": 214
        }
      ]
    },
    {
      "cell_type": "code",
      "metadata": {
        "id": "B1GqDjtYedva"
      },
      "source": [
        "from sklearn.model_selection import train_test_split\n",
        "X_train,X_test,y_train,y_test = train_test_split(digits['data'],digits['target'],test_size = 0.2)"
      ],
      "execution_count": 215,
      "outputs": []
    },
    {
      "cell_type": "code",
      "metadata": {
        "colab": {
          "base_uri": "https://localhost:8080/"
        },
        "id": "HnXrkfXOf-bg",
        "outputId": "2629f406-27f8-46cb-ed32-7bb272e323ec"
      },
      "source": [
        "X_test"
      ],
      "execution_count": 216,
      "outputs": [
        {
          "output_type": "execute_result",
          "data": {
            "text/plain": [
              "array([[ 0.,  0.,  2., ...,  1.,  0.,  0.],\n",
              "       [ 0.,  0.,  0., ..., 16.,  4.,  0.],\n",
              "       [ 0.,  0.,  9., ...,  5.,  0.,  0.],\n",
              "       ...,\n",
              "       [ 0.,  0., 10., ..., 16.,  8.,  0.],\n",
              "       [ 0.,  0.,  0., ..., 15.,  6.,  0.],\n",
              "       [ 0.,  0.,  0., ...,  7.,  0.,  0.]])"
            ]
          },
          "metadata": {
            "tags": []
          },
          "execution_count": 216
        }
      ]
    },
    {
      "cell_type": "code",
      "metadata": {
        "colab": {
          "base_uri": "https://localhost:8080/"
        },
        "id": "QqfM0y6PefYe",
        "outputId": "88f946b7-83c2-4cad-dbfb-59dc72b12e87"
      },
      "source": [
        "from sklearn.linear_model import LogisticRegression\n",
        "model = LogisticRegression()\n",
        "model.fit(X_train,y_train)\n"
      ],
      "execution_count": 217,
      "outputs": [
        {
          "output_type": "stream",
          "text": [
            "/usr/local/lib/python3.7/dist-packages/sklearn/linear_model/_logistic.py:940: ConvergenceWarning: lbfgs failed to converge (status=1):\n",
            "STOP: TOTAL NO. of ITERATIONS REACHED LIMIT.\n",
            "\n",
            "Increase the number of iterations (max_iter) or scale the data as shown in:\n",
            "    https://scikit-learn.org/stable/modules/preprocessing.html\n",
            "Please also refer to the documentation for alternative solver options:\n",
            "    https://scikit-learn.org/stable/modules/linear_model.html#logistic-regression\n",
            "  extra_warning_msg=_LOGISTIC_SOLVER_CONVERGENCE_MSG)\n"
          ],
          "name": "stderr"
        },
        {
          "output_type": "execute_result",
          "data": {
            "text/plain": [
              "LogisticRegression(C=1.0, class_weight=None, dual=False, fit_intercept=True,\n",
              "                   intercept_scaling=1, l1_ratio=None, max_iter=100,\n",
              "                   multi_class='auto', n_jobs=None, penalty='l2',\n",
              "                   random_state=None, solver='lbfgs', tol=0.0001, verbose=0,\n",
              "                   warm_start=False)"
            ]
          },
          "metadata": {
            "tags": []
          },
          "execution_count": 217
        }
      ]
    },
    {
      "cell_type": "code",
      "metadata": {
        "colab": {
          "base_uri": "https://localhost:8080/"
        },
        "id": "NPdHgN_je7N7",
        "outputId": "2ccceded-56e9-4757-c411-a2eb2b191eea"
      },
      "source": [
        "model.score(X_test,y_test)\n"
      ],
      "execution_count": 218,
      "outputs": [
        {
          "output_type": "execute_result",
          "data": {
            "text/plain": [
              "0.9472222222222222"
            ]
          },
          "metadata": {
            "tags": []
          },
          "execution_count": 218
        }
      ]
    },
    {
      "cell_type": "code",
      "metadata": {
        "colab": {
          "base_uri": "https://localhost:8080/"
        },
        "id": "u3cEEI3cfIXe",
        "outputId": "a5d87d44-50a9-4ef2-a4a9-910417996373"
      },
      "source": [
        "model.predict([digits.data[8]])\n"
      ],
      "execution_count": 219,
      "outputs": [
        {
          "output_type": "execute_result",
          "data": {
            "text/plain": [
              "array([8])"
            ]
          },
          "metadata": {
            "tags": []
          },
          "execution_count": 219
        }
      ]
    },
    {
      "cell_type": "code",
      "metadata": {
        "id": "DtYOEvd2fQb3"
      },
      "source": [
        "y_predicted = model.predict(X_test)\n"
      ],
      "execution_count": 220,
      "outputs": []
    },
    {
      "cell_type": "code",
      "metadata": {
        "colab": {
          "base_uri": "https://localhost:8080/"
        },
        "id": "kX-bDYFggTpz",
        "outputId": "336e563f-7413-4a77-83d6-ec12ae151d52"
      },
      "source": [
        "print(y_predicted)"
      ],
      "execution_count": 221,
      "outputs": [
        {
          "output_type": "stream",
          "text": [
            "[8 6 3 5 8 5 0 5 1 0 1 4 3 5 6 2 5 4 9 7 6 5 1 1 4 6 1 5 4 2 8 5 1 9 9 0 5\n",
            " 3 7 9 4 1 7 8 9 9 9 3 6 1 1 4 8 3 6 9 7 4 0 4 8 0 4 2 6 5 7 8 5 5 1 9 7 7\n",
            " 5 8 9 7 5 7 9 0 9 3 0 2 6 2 5 8 8 7 6 5 3 2 1 9 7 3 7 4 0 6 7 2 5 1 1 4 4\n",
            " 3 1 0 6 4 8 2 9 9 9 4 7 5 8 0 3 9 9 7 0 7 4 2 6 5 8 4 9 7 3 5 7 4 7 1 4 4\n",
            " 6 4 7 5 4 4 2 9 2 7 6 8 5 6 8 6 5 4 9 8 8 8 6 7 5 1 1 2 4 9 7 1 2 8 7 4 3\n",
            " 7 2 8 3 5 2 0 5 8 0 7 3 0 7 4 1 5 6 0 0 9 3 0 1 0 7 2 5 8 6 3 1 8 4 7 4 3\n",
            " 7 6 5 3 6 3 2 8 8 1 2 1 3 9 1 0 4 4 4 6 9 7 0 1 1 3 3 3 5 4 4 8 0 3 2 0 2\n",
            " 7 0 3 3 2 4 8 5 3 6 4 7 9 1 6 8 4 1 3 3 6 1 3 4 3 8 8 5 1 7 9 6 9 9 7 8 2\n",
            " 3 8 4 7 1 0 1 9 3 4 2 8 9 4 3 2 8 2 2 4 6 2 2 2 4 1 7 5 0 3 8 1 6 5 2 0 2\n",
            " 4 3 2 6 8 0 9 9 0 4 6 1 4 5 3 9 0 8 0 6 2 2 3 1 9 6 4]\n"
          ],
          "name": "stdout"
        }
      ]
    },
    {
      "cell_type": "code",
      "metadata": {
        "colab": {
          "base_uri": "https://localhost:8080/"
        },
        "id": "LByJGOEEgXW9",
        "outputId": "98e8130a-a8dc-4b9a-f85e-9388ffbd1e8c"
      },
      "source": [
        "\n",
        "from sklearn.metrics import confusion_matrix\n",
        "\n",
        "cm = confusion_matrix(y_test,y_predicted)\n",
        "cm"
      ],
      "execution_count": 222,
      "outputs": [
        {
          "output_type": "execute_result",
          "data": {
            "text/plain": [
              "array([[29,  0,  0,  0,  1,  0,  0,  0,  0,  0],\n",
              "       [ 0, 32,  1,  0,  1,  0,  0,  0,  0,  0],\n",
              "       [ 0,  0, 31,  0,  0,  0,  0,  0,  0,  0],\n",
              "       [ 0,  0,  1, 38,  0,  0,  0,  0,  0,  1],\n",
              "       [ 0,  1,  0,  0, 41,  0,  0,  0,  0,  0],\n",
              "       [ 0,  0,  0,  0,  1, 34,  1,  0,  0,  1],\n",
              "       [ 0,  1,  0,  0,  2,  0, 31,  0,  0,  0],\n",
              "       [ 0,  1,  0,  0,  0,  0,  0, 37,  0,  0],\n",
              "       [ 1,  1,  1,  0,  0,  0,  0,  0, 35,  0],\n",
              "       [ 0,  0,  0,  0,  0,  1,  0,  0,  2, 33]])"
            ]
          },
          "metadata": {
            "tags": []
          },
          "execution_count": 222
        }
      ]
    },
    {
      "cell_type": "code",
      "metadata": {
        "colab": {
          "base_uri": "https://localhost:8080/",
          "height": 296
        },
        "id": "TTgQm6CDgcYl",
        "outputId": "3ada8d6e-22d2-4d3d-df91-41c85ffdd99d"
      },
      "source": [
        "sns.heatmap(cm,annot=True)\n",
        "plt.xlabel(\"predicted\")\n",
        "plt.ylabel(\"Truth\")\n"
      ],
      "execution_count": 223,
      "outputs": [
        {
          "output_type": "execute_result",
          "data": {
            "text/plain": [
              "Text(33.0, 0.5, 'Truth')"
            ]
          },
          "metadata": {
            "tags": []
          },
          "execution_count": 223
        },
        {
          "output_type": "display_data",
          "data": {
            "image/png": "[encoded data removed]",
            "text/plain": [
              "<Figure size 432x288 with 2 Axes>"
            ]
          },
          "metadata": {
            "tags": [],
            "needs_background": "light"
          }
        }
      ]
    },
    {
      "cell_type": "code",
      "metadata": {
        "id": "qtHp80Zagiss"
      },
      "source": [
        "data = pd.read_csv(\"/content/drive/MyDrive/dataset/Iris.csv\")\n"
      ],
      "execution_count": 224,
      "outputs": []
    },
    {
      "cell_type": "code",
      "metadata": {
        "id": "TT4N2e2xiQqS"
      },
      "source": [
        "df = data.copy()\n"
      ],
      "execution_count": 225,
      "outputs": []
    },
    {
      "cell_type": "code",
      "metadata": {
        "colab": {
          "base_uri": "https://localhost:8080/",
          "height": 195
        },
        "id": "5KA7d1JRiTj5",
        "outputId": "164410d9-7a8d-459c-e49e-15682fa5d625"
      },
      "source": [
        "df.head()\n"
      ],
      "execution_count": 226,
      "outputs": [
        {
          "output_type": "execute_result",
          "data": {
            "text/html": [
              "<div>\n",
              "<style scoped>\n",
              "    .dataframe tbody tr th:only-of-type {\n",
              "        vertical-align: middle;\n",
              "    }\n",
              "\n",
              "    .dataframe tbody tr th {\n",
              "        vertical-align: top;\n",
              "    }\n",
              "\n",
              "    .dataframe thead th {\n",
              "        text-align: right;\n",
              "    }\n",
              "</style>\n",
              "<table border=\"1\" class=\"dataframe\">\n",
              "  <thead>\n",
              "    <tr style=\"text-align: right;\">\n",
              "      <th></th>\n",
              "      <th>SepalLengthCm</th>\n",
              "      <th>SepalWidthCm</th>\n",
              "      <th>PetalLengthCm</th>\n",
              "      <th>PetalWidthCm</th>\n",
              "      <th>Species</th>\n",
              "    </tr>\n",
              "  </thead>\n",
              "  <tbody>\n",
              "    <tr>\n",
              "      <th>0</th>\n",
              "      <td>5.1</td>\n",
              "      <td>3.5</td>\n",
              "      <td>1.4</td>\n",
              "      <td>0.2</td>\n",
              "      <td>Iris-setosa</td>\n",
              "    </tr>\n",
              "    <tr>\n",
              "      <th>1</th>\n",
              "      <td>4.9</td>\n",
              "      <td>3.0</td>\n",
              "      <td>1.4</td>\n",
              "      <td>0.2</td>\n",
              "      <td>Iris-setosa</td>\n",
              "    </tr>\n",
              "    <tr>\n",
              "      <th>2</th>\n",
              "      <td>4.7</td>\n",
              "      <td>3.2</td>\n",
              "      <td>1.3</td>\n",
              "      <td>0.2</td>\n",
              "      <td>Iris-setosa</td>\n",
              "    </tr>\n",
              "    <tr>\n",
              "      <th>3</th>\n",
              "      <td>4.6</td>\n",
              "      <td>3.1</td>\n",
              "      <td>1.5</td>\n",
              "      <td>0.2</td>\n",
              "      <td>Iris-setosa</td>\n",
              "    </tr>\n",
              "    <tr>\n",
              "      <th>4</th>\n",
              "      <td>5.0</td>\n",
              "      <td>3.6</td>\n",
              "      <td>1.4</td>\n",
              "      <td>0.2</td>\n",
              "      <td>Iris-setosa</td>\n",
              "    </tr>\n",
              "  </tbody>\n",
              "</table>\n",
              "</div>"
            ],
            "text/plain": [
              "   SepalLengthCm  SepalWidthCm  PetalLengthCm  PetalWidthCm      Species\n",
              "0            5.1           3.5            1.4           0.2  Iris-setosa\n",
              "1            4.9           3.0            1.4           0.2  Iris-setosa\n",
              "2            4.7           3.2            1.3           0.2  Iris-setosa\n",
              "3            4.6           3.1            1.5           0.2  Iris-setosa\n",
              "4            5.0           3.6            1.4           0.2  Iris-setosa"
            ]
          },
          "metadata": {
            "tags": []
          },
          "execution_count": 226
        }
      ]
    },
    {
      "cell_type": "code",
      "metadata": {
        "colab": {
          "base_uri": "https://localhost:8080/"
        },
        "id": "-7lJuSMBiWCK",
        "outputId": "e2fa53fa-c91e-4315-fd20-7f094cd5271b"
      },
      "source": [
        "df.Species.unique()\n"
      ],
      "execution_count": 227,
      "outputs": [
        {
          "output_type": "execute_result",
          "data": {
            "text/plain": [
              "array(['Iris-setosa', 'Iris-versicolor', 'Iris-virginica'], dtype=object)"
            ]
          },
          "metadata": {
            "tags": []
          },
          "execution_count": 227
        }
      ]
    },
    {
      "cell_type": "code",
      "metadata": {
        "colab": {
          "base_uri": "https://localhost:8080/"
        },
        "id": "yv-ehLoTiaiN",
        "outputId": "6a0b15ee-0ff1-4b2e-a3cf-ed51421850cb"
      },
      "source": [
        "df.columns\n"
      ],
      "execution_count": 228,
      "outputs": [
        {
          "output_type": "execute_result",
          "data": {
            "text/plain": [
              "Index(['SepalLengthCm', 'SepalWidthCm', 'PetalLengthCm', 'PetalWidthCm',\n",
              "       'Species'],\n",
              "      dtype='object')"
            ]
          },
          "metadata": {
            "tags": []
          },
          "execution_count": 228
        }
      ]
    },
    {
      "cell_type": "markdown",
      "metadata": {
        "id": "CR4k_nmiiuTR"
      },
      "source": [
        "# **Label Encoding**\n"
      ]
    },
    {
      "cell_type": "code",
      "metadata": {
        "id": "L-DBtm4Fi35W"
      },
      "source": [
        "X = df.iloc[:, :-1].values\n",
        "y = df.iloc[:, -1].values"
      ],
      "execution_count": 229,
      "outputs": []
    },
    {
      "cell_type": "code",
      "metadata": {
        "colab": {
          "base_uri": "https://localhost:8080/"
        },
        "id": "yFsNszYxj19T",
        "outputId": "db417d8a-577a-416f-97a4-349d769e280e"
      },
      "source": [
        "y"
      ],
      "execution_count": 230,
      "outputs": [
        {
          "output_type": "execute_result",
          "data": {
            "text/plain": [
              "array(['Iris-setosa', 'Iris-setosa', 'Iris-setosa', 'Iris-setosa',\n",
              "       'Iris-setosa', 'Iris-setosa', 'Iris-setosa', 'Iris-setosa',\n",
              "       'Iris-setosa', 'Iris-setosa', 'Iris-setosa', 'Iris-setosa',\n",
              "       'Iris-setosa', 'Iris-setosa', 'Iris-setosa', 'Iris-setosa',\n",
              "       'Iris-setosa', 'Iris-setosa', 'Iris-setosa', 'Iris-setosa',\n",
              "       'Iris-setosa', 'Iris-setosa', 'Iris-setosa', 'Iris-setosa',\n",
              "       'Iris-setosa', 'Iris-setosa', 'Iris-setosa', 'Iris-setosa',\n",
              "       'Iris-setosa', 'Iris-setosa', 'Iris-setosa', 'Iris-setosa',\n",
              "       'Iris-setosa', 'Iris-setosa', 'Iris-setosa', 'Iris-setosa',\n",
              "       'Iris-setosa', 'Iris-setosa', 'Iris-setosa', 'Iris-setosa',\n",
              "       'Iris-setosa', 'Iris-setosa', 'Iris-setosa', 'Iris-setosa',\n",
              "       'Iris-setosa', 'Iris-setosa', 'Iris-setosa', 'Iris-setosa',\n",
              "       'Iris-setosa', 'Iris-setosa', 'Iris-versicolor', 'Iris-versicolor',\n",
              "       'Iris-versicolor', 'Iris-versicolor', 'Iris-versicolor',\n",
              "       'Iris-versicolor', 'Iris-versicolor', 'Iris-versicolor',\n",
              "       'Iris-versicolor', 'Iris-versicolor', 'Iris-versicolor',\n",
              "       'Iris-versicolor', 'Iris-versicolor', 'Iris-versicolor',\n",
              "       'Iris-versicolor', 'Iris-versicolor', 'Iris-versicolor',\n",
              "       'Iris-versicolor', 'Iris-versicolor', 'Iris-versicolor',\n",
              "       'Iris-versicolor', 'Iris-versicolor', 'Iris-versicolor',\n",
              "       'Iris-versicolor', 'Iris-versicolor', 'Iris-versicolor',\n",
              "       'Iris-versicolor', 'Iris-versicolor', 'Iris-versicolor',\n",
              "       'Iris-versicolor', 'Iris-versicolor', 'Iris-versicolor',\n",
              "       'Iris-versicolor', 'Iris-versicolor', 'Iris-versicolor',\n",
              "       'Iris-versicolor', 'Iris-versicolor', 'Iris-versicolor',\n",
              "       'Iris-versicolor', 'Iris-versicolor', 'Iris-versicolor',\n",
              "       'Iris-versicolor', 'Iris-versicolor', 'Iris-versicolor',\n",
              "       'Iris-versicolor', 'Iris-versicolor', 'Iris-versicolor',\n",
              "       'Iris-versicolor', 'Iris-versicolor', 'Iris-versicolor',\n",
              "       'Iris-virginica', 'Iris-virginica', 'Iris-virginica',\n",
              "       'Iris-virginica', 'Iris-virginica', 'Iris-virginica',\n",
              "       'Iris-virginica', 'Iris-virginica', 'Iris-virginica',\n",
              "       'Iris-virginica', 'Iris-virginica', 'Iris-virginica',\n",
              "       'Iris-virginica', 'Iris-virginica', 'Iris-virginica',\n",
              "       'Iris-virginica', 'Iris-virginica', 'Iris-virginica',\n",
              "       'Iris-virginica', 'Iris-virginica', 'Iris-virginica',\n",
              "       'Iris-virginica', 'Iris-virginica', 'Iris-virginica',\n",
              "       'Iris-virginica', 'Iris-virginica', 'Iris-virginica',\n",
              "       'Iris-virginica', 'Iris-virginica', 'Iris-virginica',\n",
              "       'Iris-virginica', 'Iris-virginica', 'Iris-virginica',\n",
              "       'Iris-virginica', 'Iris-virginica', 'Iris-virginica',\n",
              "       'Iris-virginica', 'Iris-virginica', 'Iris-virginica',\n",
              "       'Iris-virginica', 'Iris-virginica', 'Iris-virginica',\n",
              "       'Iris-virginica', 'Iris-virginica', 'Iris-virginica',\n",
              "       'Iris-virginica', 'Iris-virginica', 'Iris-virginica',\n",
              "       'Iris-virginica', 'Iris-virginica'], dtype=object)"
            ]
          },
          "metadata": {
            "tags": []
          },
          "execution_count": 230
        }
      ]
    },
    {
      "cell_type": "code",
      "metadata": {
        "id": "afm2AK9IjEAT"
      },
      "source": [
        "from sklearn.preprocessing import LabelEncoder, StandardScaler\n",
        "encode = LabelEncoder()\n",
        "y = encode.fit_transform(y)"
      ],
      "execution_count": 231,
      "outputs": []
    },
    {
      "cell_type": "code",
      "metadata": {
        "colab": {
          "base_uri": "https://localhost:8080/"
        },
        "id": "Ys1IDHg8jrZI",
        "outputId": "0565521c-240c-4e4e-953e-80d649ab127d"
      },
      "source": [
        "y"
      ],
      "execution_count": 232,
      "outputs": [
        {
          "output_type": "execute_result",
          "data": {
            "text/plain": [
              "array([0, 0, 0, 0, 0, 0, 0, 0, 0, 0, 0, 0, 0, 0, 0, 0, 0, 0, 0, 0, 0, 0,\n",
              "       0, 0, 0, 0, 0, 0, 0, 0, 0, 0, 0, 0, 0, 0, 0, 0, 0, 0, 0, 0, 0, 0,\n",
              "       0, 0, 0, 0, 0, 0, 1, 1, 1, 1, 1, 1, 1, 1, 1, 1, 1, 1, 1, 1, 1, 1,\n",
              "       1, 1, 1, 1, 1, 1, 1, 1, 1, 1, 1, 1, 1, 1, 1, 1, 1, 1, 1, 1, 1, 1,\n",
              "       1, 1, 1, 1, 1, 1, 1, 1, 1, 1, 1, 1, 2, 2, 2, 2, 2, 2, 2, 2, 2, 2,\n",
              "       2, 2, 2, 2, 2, 2, 2, 2, 2, 2, 2, 2, 2, 2, 2, 2, 2, 2, 2, 2, 2, 2,\n",
              "       2, 2, 2, 2, 2, 2, 2, 2, 2, 2, 2, 2, 2, 2, 2, 2, 2, 2])"
            ]
          },
          "metadata": {
            "tags": []
          },
          "execution_count": 232
        }
      ]
    },
    {
      "cell_type": "code",
      "metadata": {
        "id": "fI67QiVVjrjM"
      },
      "source": [
        "from sklearn.model_selection import train_test_split\n",
        "X_train, X_test, y_train, y_test = train_test_split(X, y, test_size=0.2, random_state=0)"
      ],
      "execution_count": 233,
      "outputs": []
    },
    {
      "cell_type": "code",
      "metadata": {
        "colab": {
          "base_uri": "https://localhost:8080/"
        },
        "id": "aDeqFm2cjS-Z",
        "outputId": "f6de7591-326a-47dc-e278-56d248bd67c2"
      },
      "source": [
        "X_train.shape\n"
      ],
      "execution_count": 234,
      "outputs": [
        {
          "output_type": "execute_result",
          "data": {
            "text/plain": [
              "(120, 4)"
            ]
          },
          "metadata": {
            "tags": []
          },
          "execution_count": 234
        }
      ]
    },
    {
      "cell_type": "code",
      "metadata": {
        "colab": {
          "base_uri": "https://localhost:8080/"
        },
        "id": "-ugt9DP8kUXf",
        "outputId": "84bbd827-7e83-4b01-88d2-ef19bceebce8"
      },
      "source": [
        "X_test.shape\n"
      ],
      "execution_count": 235,
      "outputs": [
        {
          "output_type": "execute_result",
          "data": {
            "text/plain": [
              "(30, 4)"
            ]
          },
          "metadata": {
            "tags": []
          },
          "execution_count": 235
        }
      ]
    },
    {
      "cell_type": "code",
      "metadata": {
        "colab": {
          "base_uri": "https://localhost:8080/"
        },
        "id": "6zNuWHE3krXc",
        "outputId": "59571f0c-aea2-4195-9f3b-aed661db267f"
      },
      "source": [
        "X_train"
      ],
      "execution_count": 236,
      "outputs": [
        {
          "output_type": "execute_result",
          "data": {
            "text/plain": [
              "array([[6.4, 3.1, 5.5, 1.8],\n",
              "       [5.4, 3. , 4.5, 1.5],\n",
              "       [5.2, 3.5, 1.5, 0.2],\n",
              "       [6.1, 3. , 4.9, 1.8],\n",
              "       [6.4, 2.8, 5.6, 2.2],\n",
              "       [5.2, 2.7, 3.9, 1.4],\n",
              "       [5.7, 3.8, 1.7, 0.3],\n",
              "       [6. , 2.7, 5.1, 1.6],\n",
              "       [5.9, 3. , 4.2, 1.5],\n",
              "       [5.8, 2.6, 4. , 1.2],\n",
              "       [6.8, 3. , 5.5, 2.1],\n",
              "       [4.7, 3.2, 1.3, 0.2],\n",
              "       [6.9, 3.1, 5.1, 2.3],\n",
              "       [5. , 3.5, 1.6, 0.6],\n",
              "       [5.4, 3.7, 1.5, 0.2],\n",
              "       [5. , 2. , 3.5, 1. ],\n",
              "       [6.5, 3. , 5.5, 1.8],\n",
              "       [6.7, 3.3, 5.7, 2.5],\n",
              "       [6. , 2.2, 5. , 1.5],\n",
              "       [6.7, 2.5, 5.8, 1.8],\n",
              "       [5.6, 2.5, 3.9, 1.1],\n",
              "       [7.7, 3. , 6.1, 2.3],\n",
              "       [6.3, 3.3, 4.7, 1.6],\n",
              "       [5.5, 2.4, 3.8, 1.1],\n",
              "       [6.3, 2.7, 4.9, 1.8],\n",
              "       [6.3, 2.8, 5.1, 1.5],\n",
              "       [4.9, 2.5, 4.5, 1.7],\n",
              "       [6.3, 2.5, 5. , 1.9],\n",
              "       [7. , 3.2, 4.7, 1.4],\n",
              "       [6.5, 3. , 5.2, 2. ],\n",
              "       [6. , 3.4, 4.5, 1.6],\n",
              "       [4.8, 3.1, 1.6, 0.2],\n",
              "       [5.8, 2.7, 5.1, 1.9],\n",
              "       [5.6, 2.7, 4.2, 1.3],\n",
              "       [5.6, 2.9, 3.6, 1.3],\n",
              "       [5.5, 2.5, 4. , 1.3],\n",
              "       [6.1, 3. , 4.6, 1.4],\n",
              "       [7.2, 3.2, 6. , 1.8],\n",
              "       [5.3, 3.7, 1.5, 0.2],\n",
              "       [4.3, 3. , 1.1, 0.1],\n",
              "       [6.4, 2.7, 5.3, 1.9],\n",
              "       [5.7, 3. , 4.2, 1.2],\n",
              "       [5.4, 3.4, 1.7, 0.2],\n",
              "       [5.7, 4.4, 1.5, 0.4],\n",
              "       [6.9, 3.1, 4.9, 1.5],\n",
              "       [4.6, 3.1, 1.5, 0.2],\n",
              "       [5.9, 3. , 5.1, 1.8],\n",
              "       [5.1, 2.5, 3. , 1.1],\n",
              "       [4.6, 3.4, 1.4, 0.3],\n",
              "       [6.2, 2.2, 4.5, 1.5],\n",
              "       [7.2, 3.6, 6.1, 2.5],\n",
              "       [5.7, 2.9, 4.2, 1.3],\n",
              "       [4.8, 3. , 1.4, 0.1],\n",
              "       [7.1, 3. , 5.9, 2.1],\n",
              "       [6.9, 3.2, 5.7, 2.3],\n",
              "       [6.5, 3. , 5.8, 2.2],\n",
              "       [6.4, 2.8, 5.6, 2.1],\n",
              "       [5.1, 3.8, 1.6, 0.2],\n",
              "       [4.8, 3.4, 1.6, 0.2],\n",
              "       [6.5, 3.2, 5.1, 2. ],\n",
              "       [6.7, 3.3, 5.7, 2.1],\n",
              "       [4.5, 2.3, 1.3, 0.3],\n",
              "       [6.2, 3.4, 5.4, 2.3],\n",
              "       [4.9, 3. , 1.4, 0.2],\n",
              "       [5.7, 2.5, 5. , 2. ],\n",
              "       [6.9, 3.1, 5.4, 2.1],\n",
              "       [4.4, 3.2, 1.3, 0.2],\n",
              "       [5. , 3.6, 1.4, 0.2],\n",
              "       [7.2, 3. , 5.8, 1.6],\n",
              "       [5.1, 3.5, 1.4, 0.3],\n",
              "       [4.4, 3. , 1.3, 0.2],\n",
              "       [5.4, 3.9, 1.7, 0.4],\n",
              "       [5.5, 2.3, 4. , 1.3],\n",
              "       [6.8, 3.2, 5.9, 2.3],\n",
              "       [7.6, 3. , 6.6, 2.1],\n",
              "       [5.1, 3.5, 1.4, 0.2],\n",
              "       [4.9, 3.1, 1.5, 0.1],\n",
              "       [5.2, 3.4, 1.4, 0.2],\n",
              "       [5.7, 2.8, 4.5, 1.3],\n",
              "       [6.6, 3. , 4.4, 1.4],\n",
              "       [5. , 3.2, 1.2, 0.2],\n",
              "       [5.1, 3.3, 1.7, 0.5],\n",
              "       [6.4, 2.9, 4.3, 1.3],\n",
              "       [5.4, 3.4, 1.5, 0.4],\n",
              "       [7.7, 2.6, 6.9, 2.3],\n",
              "       [4.9, 2.4, 3.3, 1. ],\n",
              "       [7.9, 3.8, 6.4, 2. ],\n",
              "       [6.7, 3.1, 4.4, 1.4],\n",
              "       [5.2, 4.1, 1.5, 0.1],\n",
              "       [6. , 3. , 4.8, 1.8],\n",
              "       [5.8, 4. , 1.2, 0.2],\n",
              "       [7.7, 2.8, 6.7, 2. ],\n",
              "       [5.1, 3.8, 1.5, 0.3],\n",
              "       [4.7, 3.2, 1.6, 0.2],\n",
              "       [7.4, 2.8, 6.1, 1.9],\n",
              "       [5. , 3.3, 1.4, 0.2],\n",
              "       [6.3, 3.4, 5.6, 2.4],\n",
              "       [5.7, 2.8, 4.1, 1.3],\n",
              "       [5.8, 2.7, 3.9, 1.2],\n",
              "       [5.7, 2.6, 3.5, 1. ],\n",
              "       [6.4, 3.2, 5.3, 2.3],\n",
              "       [6.7, 3. , 5.2, 2.3],\n",
              "       [6.3, 2.5, 4.9, 1.5],\n",
              "       [6.7, 3. , 5. , 1.7],\n",
              "       [5. , 3. , 1.6, 0.2],\n",
              "       [5.5, 2.4, 3.7, 1. ],\n",
              "       [6.7, 3.1, 5.6, 2.4],\n",
              "       [5.8, 2.7, 5.1, 1.9],\n",
              "       [5.1, 3.4, 1.5, 0.2],\n",
              "       [6.6, 2.9, 4.6, 1.3],\n",
              "       [5.6, 3. , 4.1, 1.3],\n",
              "       [5.9, 3.2, 4.8, 1.8],\n",
              "       [6.3, 2.3, 4.4, 1.3],\n",
              "       [5.5, 3.5, 1.3, 0.2],\n",
              "       [5.1, 3.7, 1.5, 0.4],\n",
              "       [4.9, 3.1, 1.5, 0.1],\n",
              "       [6.3, 2.9, 5.6, 1.8],\n",
              "       [5.8, 2.7, 4.1, 1. ],\n",
              "       [7.7, 3.8, 6.7, 2.2],\n",
              "       [4.6, 3.2, 1.4, 0.2]])"
            ]
          },
          "metadata": {
            "tags": []
          },
          "execution_count": 236
        }
      ]
    },
    {
      "cell_type": "code",
      "metadata": {
        "id": "uka2QkPukexS"
      },
      "source": [
        "sc = StandardScaler()\n",
        "X_train = sc.fit_transform(X_train)\n",
        "X_test = sc.transform(X_test)"
      ],
      "execution_count": 237,
      "outputs": []
    },
    {
      "cell_type": "code",
      "metadata": {
        "colab": {
          "base_uri": "https://localhost:8080/"
        },
        "id": "b56sPGEwkkZt",
        "outputId": "9f583e95-c5f7-44fb-fd36-294d8a9b1a76"
      },
      "source": [
        "X_train"
      ],
      "execution_count": 238,
      "outputs": [
        {
          "output_type": "execute_result",
          "data": {
            "text/plain": [
              "array([[ 0.61303014,  0.10850105,  0.94751783,  0.73603967],\n",
              "       [-0.56776627, -0.12400121,  0.38491447,  0.34808318],\n",
              "       [-0.80392556,  1.03851009, -1.30289562, -1.3330616 ],\n",
              "       [ 0.25879121, -0.12400121,  0.60995581,  0.73603967],\n",
              "       [ 0.61303014, -0.58900572,  1.00377816,  1.25331499],\n",
              "       [-0.80392556, -0.82150798,  0.04735245,  0.21876435],\n",
              "       [-0.21352735,  1.73601687, -1.19037495, -1.20374277],\n",
              "       [ 0.14071157, -0.82150798,  0.72247648,  0.47740201],\n",
              "       [ 0.02263193, -0.12400121,  0.21613346,  0.34808318],\n",
              "       [-0.09544771, -1.05401024,  0.10361279, -0.03987331],\n",
              "       [ 1.0853487 , -0.12400121,  0.94751783,  1.12399616],\n",
              "       [-1.39432376,  0.34100331, -1.41541629, -1.3330616 ],\n",
              "       [ 1.20342834,  0.10850105,  0.72247648,  1.38263382],\n",
              "       [-1.04008484,  1.03851009, -1.24663528, -0.81578628],\n",
              "       [-0.56776627,  1.50351461, -1.30289562, -1.3330616 ],\n",
              "       [-1.04008484, -2.4490238 , -0.1776889 , -0.29851096],\n",
              "       [ 0.73110978, -0.12400121,  0.94751783,  0.73603967],\n",
              "       [ 0.96726906,  0.57350557,  1.0600385 ,  1.64127148],\n",
              "       [ 0.14071157, -1.98401928,  0.66621615,  0.34808318],\n",
              "       [ 0.96726906, -1.2865125 ,  1.11629884,  0.73603967],\n",
              "       [-0.33160699, -1.2865125 ,  0.04735245, -0.16919214],\n",
              "       [ 2.14806547, -0.12400121,  1.28507985,  1.38263382],\n",
              "       [ 0.49495049,  0.57350557,  0.49743514,  0.47740201],\n",
              "       [-0.44968663, -1.51901476, -0.00890789, -0.16919214],\n",
              "       [ 0.49495049, -0.82150798,  0.60995581,  0.73603967],\n",
              "       [ 0.49495049, -0.58900572,  0.72247648,  0.34808318],\n",
              "       [-1.15816448, -1.2865125 ,  0.38491447,  0.60672084],\n",
              "       [ 0.49495049, -1.2865125 ,  0.66621615,  0.8653585 ],\n",
              "       [ 1.32150798,  0.34100331,  0.49743514,  0.21876435],\n",
              "       [ 0.73110978, -0.12400121,  0.77873682,  0.99467733],\n",
              "       [ 0.14071157,  0.80600783,  0.38491447,  0.47740201],\n",
              "       [-1.27624412,  0.10850105, -1.24663528, -1.3330616 ],\n",
              "       [-0.09544771, -0.82150798,  0.72247648,  0.8653585 ],\n",
              "       [-0.33160699, -0.82150798,  0.21613346,  0.08944552],\n",
              "       [-0.33160699, -0.35650346, -0.12142856,  0.08944552],\n",
              "       [-0.44968663, -1.2865125 ,  0.10361279,  0.08944552],\n",
              "       [ 0.25879121, -0.12400121,  0.4411748 ,  0.21876435],\n",
              "       [ 1.55766726,  0.34100331,  1.22881951,  0.73603967],\n",
              "       [-0.68584591,  1.50351461, -1.30289562, -1.3330616 ],\n",
              "       [-1.86664232, -0.12400121, -1.52793696, -1.46238043],\n",
              "       [ 0.61303014, -0.82150798,  0.83499716,  0.8653585 ],\n",
              "       [-0.21352735, -0.12400121,  0.21613346, -0.03987331],\n",
              "       [-0.56776627,  0.80600783, -1.19037495, -1.3330616 ],\n",
              "       [-0.21352735,  3.13103043, -1.30289562, -1.07442394],\n",
              "       [ 1.20342834,  0.10850105,  0.60995581,  0.34808318],\n",
              "       [-1.5124034 ,  0.10850105, -1.30289562, -1.3330616 ],\n",
              "       [ 0.02263193, -0.12400121,  0.72247648,  0.73603967],\n",
              "       [-0.9220052 , -1.2865125 , -0.45899058, -0.16919214],\n",
              "       [-1.5124034 ,  0.80600783, -1.35915595, -1.20374277],\n",
              "       [ 0.37687085, -1.98401928,  0.38491447,  0.34808318],\n",
              "       [ 1.55766726,  1.27101235,  1.28507985,  1.64127148],\n",
              "       [-0.21352735, -0.35650346,  0.21613346,  0.08944552],\n",
              "       [-1.27624412, -0.12400121, -1.35915595, -1.46238043],\n",
              "       [ 1.43958762, -0.12400121,  1.17255917,  1.12399616],\n",
              "       [ 1.20342834,  0.34100331,  1.0600385 ,  1.38263382],\n",
              "       [ 0.73110978, -0.12400121,  1.11629884,  1.25331499],\n",
              "       [ 0.61303014, -0.58900572,  1.00377816,  1.12399616],\n",
              "       [-0.9220052 ,  1.73601687, -1.24663528, -1.3330616 ],\n",
              "       [-1.27624412,  0.80600783, -1.24663528, -1.3330616 ],\n",
              "       [ 0.73110978,  0.34100331,  0.72247648,  0.99467733],\n",
              "       [ 0.96726906,  0.57350557,  1.0600385 ,  1.12399616],\n",
              "       [-1.63048304, -1.75151702, -1.41541629, -1.20374277],\n",
              "       [ 0.37687085,  0.80600783,  0.89125749,  1.38263382],\n",
              "       [-1.15816448, -0.12400121, -1.35915595, -1.3330616 ],\n",
              "       [-0.21352735, -1.2865125 ,  0.66621615,  0.99467733],\n",
              "       [ 1.20342834,  0.10850105,  0.89125749,  1.12399616],\n",
              "       [-1.74856268,  0.34100331, -1.41541629, -1.3330616 ],\n",
              "       [-1.04008484,  1.27101235, -1.35915595, -1.3330616 ],\n",
              "       [ 1.55766726, -0.12400121,  1.11629884,  0.47740201],\n",
              "       [-0.9220052 ,  1.03851009, -1.35915595, -1.20374277],\n",
              "       [-1.74856268, -0.12400121, -1.41541629, -1.3330616 ],\n",
              "       [-0.56776627,  1.96851913, -1.19037495, -1.07442394],\n",
              "       [-0.44968663, -1.75151702,  0.10361279,  0.08944552],\n",
              "       [ 1.0853487 ,  0.34100331,  1.17255917,  1.38263382],\n",
              "       [ 2.02998583, -0.12400121,  1.56638153,  1.12399616],\n",
              "       [-0.9220052 ,  1.03851009, -1.35915595, -1.3330616 ],\n",
              "       [-1.15816448,  0.10850105, -1.30289562, -1.46238043],\n",
              "       [-0.80392556,  0.80600783, -1.35915595, -1.3330616 ],\n",
              "       [-0.21352735, -0.58900572,  0.38491447,  0.08944552],\n",
              "       [ 0.84918942, -0.12400121,  0.32865413,  0.21876435],\n",
              "       [-1.04008484,  0.34100331, -1.47167663, -1.3330616 ],\n",
              "       [-0.9220052 ,  0.57350557, -1.19037495, -0.94510511],\n",
              "       [ 0.61303014, -0.35650346,  0.27239379,  0.08944552],\n",
              "       [-0.56776627,  0.80600783, -1.30289562, -1.07442394],\n",
              "       [ 2.14806547, -1.05401024,  1.73516253,  1.38263382],\n",
              "       [-1.15816448, -1.51901476, -0.29020957, -0.29851096],\n",
              "       [ 2.38422475,  1.73601687,  1.45386085,  0.99467733],\n",
              "       [ 0.96726906,  0.10850105,  0.32865413,  0.21876435],\n",
              "       [-0.80392556,  2.43352365, -1.30289562, -1.46238043],\n",
              "       [ 0.14071157, -0.12400121,  0.55369548,  0.73603967],\n",
              "       [-0.09544771,  2.20102139, -1.47167663, -1.3330616 ],\n",
              "       [ 2.14806547, -0.58900572,  1.62264186,  0.99467733],\n",
              "       [-0.9220052 ,  1.73601687, -1.30289562, -1.20374277],\n",
              "       [-1.39432376,  0.34100331, -1.24663528, -1.3330616 ],\n",
              "       [ 1.79382654, -0.58900572,  1.28507985,  0.8653585 ],\n",
              "       [-1.04008484,  0.57350557, -1.35915595, -1.3330616 ],\n",
              "       [ 0.49495049,  0.80600783,  1.00377816,  1.51195265],\n",
              "       [-0.21352735, -0.58900572,  0.15987312,  0.08944552],\n",
              "       [-0.09544771, -0.82150798,  0.04735245, -0.03987331],\n",
              "       [-0.21352735, -1.05401024, -0.1776889 , -0.29851096],\n",
              "       [ 0.61303014,  0.34100331,  0.83499716,  1.38263382],\n",
              "       [ 0.96726906, -0.12400121,  0.77873682,  1.38263382],\n",
              "       [ 0.49495049, -1.2865125 ,  0.60995581,  0.34808318],\n",
              "       [ 0.96726906, -0.12400121,  0.66621615,  0.60672084],\n",
              "       [-1.04008484, -0.12400121, -1.24663528, -1.3330616 ],\n",
              "       [-0.44968663, -1.51901476, -0.06516822, -0.29851096],\n",
              "       [ 0.96726906,  0.10850105,  1.00377816,  1.51195265],\n",
              "       [-0.09544771, -0.82150798,  0.72247648,  0.8653585 ],\n",
              "       [-0.9220052 ,  0.80600783, -1.30289562, -1.3330616 ],\n",
              "       [ 0.84918942, -0.35650346,  0.4411748 ,  0.08944552],\n",
              "       [-0.33160699, -0.12400121,  0.15987312,  0.08944552],\n",
              "       [ 0.02263193,  0.34100331,  0.55369548,  0.73603967],\n",
              "       [ 0.49495049, -1.75151702,  0.32865413,  0.08944552],\n",
              "       [-0.44968663,  1.03851009, -1.41541629, -1.3330616 ],\n",
              "       [-0.9220052 ,  1.50351461, -1.30289562, -1.07442394],\n",
              "       [-1.15816448,  0.10850105, -1.30289562, -1.46238043],\n",
              "       [ 0.49495049, -0.35650346,  1.00377816,  0.73603967],\n",
              "       [-0.09544771, -0.82150798,  0.15987312, -0.29851096],\n",
              "       [ 2.14806547,  1.73601687,  1.62264186,  1.25331499],\n",
              "       [-1.5124034 ,  0.34100331, -1.35915595, -1.3330616 ]])"
            ]
          },
          "metadata": {
            "tags": []
          },
          "execution_count": 238
        }
      ]
    },
    {
      "cell_type": "code",
      "metadata": {
        "colab": {
          "base_uri": "https://localhost:8080/"
        },
        "id": "gsVG1pOgkoaq",
        "outputId": "312a14ca-9385-4739-8ff0-1994f5193ac8"
      },
      "source": [
        "from sklearn.linear_model import LogisticRegression\n",
        "classifier = LogisticRegression(random_state=0)\n",
        "classifier.fit(X_train, y_train)"
      ],
      "execution_count": 239,
      "outputs": [
        {
          "output_type": "execute_result",
          "data": {
            "text/plain": [
              "LogisticRegression(C=1.0, class_weight=None, dual=False, fit_intercept=True,\n",
              "                   intercept_scaling=1, l1_ratio=None, max_iter=100,\n",
              "                   multi_class='auto', n_jobs=None, penalty='l2',\n",
              "                   random_state=0, solver='lbfgs', tol=0.0001, verbose=0,\n",
              "                   warm_start=False)"
            ]
          },
          "metadata": {
            "tags": []
          },
          "execution_count": 239
        }
      ]
    },
    {
      "cell_type": "code",
      "metadata": {
        "id": "iJrlAJt6lJpT"
      },
      "source": [
        "y_pred = classifier.predict(X_test)\n"
      ],
      "execution_count": 240,
      "outputs": []
    },
    {
      "cell_type": "code",
      "metadata": {
        "colab": {
          "base_uri": "https://localhost:8080/"
        },
        "id": "qEtjtH6UlNc_",
        "outputId": "b7ceba27-64f1-4da8-8c75-ad7c69ae101d"
      },
      "source": [
        "from sklearn.metrics import confusion_matrix, accuracy_score\n",
        "cm = confusion_matrix(y_test, y_pred)\n",
        "cm"
      ],
      "execution_count": 241,
      "outputs": [
        {
          "output_type": "execute_result",
          "data": {
            "text/plain": [
              "array([[11,  0,  0],\n",
              "       [ 0, 13,  0],\n",
              "       [ 0,  0,  6]])"
            ]
          },
          "metadata": {
            "tags": []
          },
          "execution_count": 241
        }
      ]
    },
    {
      "cell_type": "code",
      "metadata": {
        "colab": {
          "base_uri": "https://localhost:8080/"
        },
        "id": "sMCWpmu4lUCW",
        "outputId": "6b459fd5-cbe8-4b24-b79f-3a8bbcb002e7"
      },
      "source": [
        "accuracy_score(y_test, y_pred)\n"
      ],
      "execution_count": 242,
      "outputs": [
        {
          "output_type": "execute_result",
          "data": {
            "text/plain": [
              "1.0"
            ]
          },
          "metadata": {
            "tags": []
          },
          "execution_count": 242
        }
      ]
    },
    {
      "cell_type": "code",
      "metadata": {
        "id": "-yxBkPOdlbit"
      },
      "source": [
        ""
      ],
      "execution_count": 242,
      "outputs": []
    },
    {
      "cell_type": "code",
      "metadata": {
        "id": "p-4rPm_-oFc7"
      },
      "source": [
        ""
      ],
      "execution_count": 242,
      "outputs": []
    },
    {
      "cell_type": "code",
      "metadata": {
        "id": "jGs-dG0xoFk2"
      },
      "source": [
        "ir = pd.read_csv(\"/content/drive/MyDrive/dataset/Iris.csv\")\n"
      ],
      "execution_count": 243,
      "outputs": []
    },
    {
      "cell_type": "code",
      "metadata": {
        "colab": {
          "base_uri": "https://localhost:8080/",
          "height": 195
        },
        "id": "oN5hODHhoMjw",
        "outputId": "bcc55bf3-3e24-435b-8329-922e31111893"
      },
      "source": [
        "ir.head()"
      ],
      "execution_count": 244,
      "outputs": [
        {
          "output_type": "execute_result",
          "data": {
            "text/html": [
              "<div>\n",
              "<style scoped>\n",
              "    .dataframe tbody tr th:only-of-type {\n",
              "        vertical-align: middle;\n",
              "    }\n",
              "\n",
              "    .dataframe tbody tr th {\n",
              "        vertical-align: top;\n",
              "    }\n",
              "\n",
              "    .dataframe thead th {\n",
              "        text-align: right;\n",
              "    }\n",
              "</style>\n",
              "<table border=\"1\" class=\"dataframe\">\n",
              "  <thead>\n",
              "    <tr style=\"text-align: right;\">\n",
              "      <th></th>\n",
              "      <th>SepalLengthCm</th>\n",
              "      <th>SepalWidthCm</th>\n",
              "      <th>PetalLengthCm</th>\n",
              "      <th>PetalWidthCm</th>\n",
              "      <th>Species</th>\n",
              "    </tr>\n",
              "  </thead>\n",
              "  <tbody>\n",
              "    <tr>\n",
              "      <th>0</th>\n",
              "      <td>5.1</td>\n",
              "      <td>3.5</td>\n",
              "      <td>1.4</td>\n",
              "      <td>0.2</td>\n",
              "      <td>Iris-setosa</td>\n",
              "    </tr>\n",
              "    <tr>\n",
              "      <th>1</th>\n",
              "      <td>4.9</td>\n",
              "      <td>3.0</td>\n",
              "      <td>1.4</td>\n",
              "      <td>0.2</td>\n",
              "      <td>Iris-setosa</td>\n",
              "    </tr>\n",
              "    <tr>\n",
              "      <th>2</th>\n",
              "      <td>4.7</td>\n",
              "      <td>3.2</td>\n",
              "      <td>1.3</td>\n",
              "      <td>0.2</td>\n",
              "      <td>Iris-setosa</td>\n",
              "    </tr>\n",
              "    <tr>\n",
              "      <th>3</th>\n",
              "      <td>4.6</td>\n",
              "      <td>3.1</td>\n",
              "      <td>1.5</td>\n",
              "      <td>0.2</td>\n",
              "      <td>Iris-setosa</td>\n",
              "    </tr>\n",
              "    <tr>\n",
              "      <th>4</th>\n",
              "      <td>5.0</td>\n",
              "      <td>3.6</td>\n",
              "      <td>1.4</td>\n",
              "      <td>0.2</td>\n",
              "      <td>Iris-setosa</td>\n",
              "    </tr>\n",
              "  </tbody>\n",
              "</table>\n",
              "</div>"
            ],
            "text/plain": [
              "   SepalLengthCm  SepalWidthCm  PetalLengthCm  PetalWidthCm      Species\n",
              "0            5.1           3.5            1.4           0.2  Iris-setosa\n",
              "1            4.9           3.0            1.4           0.2  Iris-setosa\n",
              "2            4.7           3.2            1.3           0.2  Iris-setosa\n",
              "3            4.6           3.1            1.5           0.2  Iris-setosa\n",
              "4            5.0           3.6            1.4           0.2  Iris-setosa"
            ]
          },
          "metadata": {
            "tags": []
          },
          "execution_count": 244
        }
      ]
    },
    {
      "cell_type": "code",
      "metadata": {
        "id": "xwtX41yeC4oe"
      },
      "source": [
        "from sklearn import preprocessing \n",
        "  \n",
        "# label_encoder object knows how to understand word labels. \n",
        "l_encd = preprocessing.LabelEncoder()"
      ],
      "execution_count": 245,
      "outputs": []
    },
    {
      "cell_type": "code",
      "metadata": {
        "id": "XwgXszn0C4YJ"
      },
      "source": [
        "\n",
        "col=ir.columns # Creating a list of each column-name and storing in 'col'\n",
        "\n",
        "for i in col:\n",
        "  ir[i]=l_encd.fit_transform(ir[i])"
      ],
      "execution_count": 246,
      "outputs": []
    },
    {
      "cell_type": "code",
      "metadata": {
        "colab": {
          "base_uri": "https://localhost:8080/",
          "height": 402
        },
        "id": "g7lYyQyMDBlf",
        "outputId": "87f6ce4e-29f8-4bfd-d880-ccf0178ef162"
      },
      "source": [
        "ir"
      ],
      "execution_count": 247,
      "outputs": [
        {
          "output_type": "execute_result",
          "data": {
            "text/html": [
              "<div>\n",
              "<style scoped>\n",
              "    .dataframe tbody tr th:only-of-type {\n",
              "        vertical-align: middle;\n",
              "    }\n",
              "\n",
              "    .dataframe tbody tr th {\n",
              "        vertical-align: top;\n",
              "    }\n",
              "\n",
              "    .dataframe thead th {\n",
              "        text-align: right;\n",
              "    }\n",
              "</style>\n",
              "<table border=\"1\" class=\"dataframe\">\n",
              "  <thead>\n",
              "    <tr style=\"text-align: right;\">\n",
              "      <th></th>\n",
              "      <th>SepalLengthCm</th>\n",
              "      <th>SepalWidthCm</th>\n",
              "      <th>PetalLengthCm</th>\n",
              "      <th>PetalWidthCm</th>\n",
              "      <th>Species</th>\n",
              "    </tr>\n",
              "  </thead>\n",
              "  <tbody>\n",
              "    <tr>\n",
              "      <th>0</th>\n",
              "      <td>8</td>\n",
              "      <td>14</td>\n",
              "      <td>4</td>\n",
              "      <td>1</td>\n",
              "      <td>0</td>\n",
              "    </tr>\n",
              "    <tr>\n",
              "      <th>1</th>\n",
              "      <td>6</td>\n",
              "      <td>9</td>\n",
              "      <td>4</td>\n",
              "      <td>1</td>\n",
              "      <td>0</td>\n",
              "    </tr>\n",
              "    <tr>\n",
              "      <th>2</th>\n",
              "      <td>4</td>\n",
              "      <td>11</td>\n",
              "      <td>3</td>\n",
              "      <td>1</td>\n",
              "      <td>0</td>\n",
              "    </tr>\n",
              "    <tr>\n",
              "      <th>3</th>\n",
              "      <td>3</td>\n",
              "      <td>10</td>\n",
              "      <td>5</td>\n",
              "      <td>1</td>\n",
              "      <td>0</td>\n",
              "    </tr>\n",
              "    <tr>\n",
              "      <th>4</th>\n",
              "      <td>7</td>\n",
              "      <td>15</td>\n",
              "      <td>4</td>\n",
              "      <td>1</td>\n",
              "      <td>0</td>\n",
              "    </tr>\n",
              "    <tr>\n",
              "      <th>...</th>\n",
              "      <td>...</td>\n",
              "      <td>...</td>\n",
              "      <td>...</td>\n",
              "      <td>...</td>\n",
              "      <td>...</td>\n",
              "    </tr>\n",
              "    <tr>\n",
              "      <th>145</th>\n",
              "      <td>24</td>\n",
              "      <td>9</td>\n",
              "      <td>28</td>\n",
              "      <td>19</td>\n",
              "      <td>2</td>\n",
              "    </tr>\n",
              "    <tr>\n",
              "      <th>146</th>\n",
              "      <td>20</td>\n",
              "      <td>4</td>\n",
              "      <td>26</td>\n",
              "      <td>15</td>\n",
              "      <td>2</td>\n",
              "    </tr>\n",
              "    <tr>\n",
              "      <th>147</th>\n",
              "      <td>22</td>\n",
              "      <td>9</td>\n",
              "      <td>28</td>\n",
              "      <td>16</td>\n",
              "      <td>2</td>\n",
              "    </tr>\n",
              "    <tr>\n",
              "      <th>148</th>\n",
              "      <td>19</td>\n",
              "      <td>13</td>\n",
              "      <td>30</td>\n",
              "      <td>19</td>\n",
              "      <td>2</td>\n",
              "    </tr>\n",
              "    <tr>\n",
              "      <th>149</th>\n",
              "      <td>16</td>\n",
              "      <td>9</td>\n",
              "      <td>27</td>\n",
              "      <td>14</td>\n",
              "      <td>2</td>\n",
              "    </tr>\n",
              "  </tbody>\n",
              "</table>\n",
              "<p>150 rows × 5 columns</p>\n",
              "</div>"
            ],
            "text/plain": [
              "     SepalLengthCm  SepalWidthCm  PetalLengthCm  PetalWidthCm  Species\n",
              "0                8            14              4             1        0\n",
              "1                6             9              4             1        0\n",
              "2                4            11              3             1        0\n",
              "3                3            10              5             1        0\n",
              "4                7            15              4             1        0\n",
              "..             ...           ...            ...           ...      ...\n",
              "145             24             9             28            19        2\n",
              "146             20             4             26            15        2\n",
              "147             22             9             28            16        2\n",
              "148             19            13             30            19        2\n",
              "149             16             9             27            14        2\n",
              "\n",
              "[150 rows x 5 columns]"
            ]
          },
          "metadata": {
            "tags": []
          },
          "execution_count": 247
        }
      ]
    },
    {
      "cell_type": "code",
      "metadata": {
        "colab": {
          "base_uri": "https://localhost:8080/"
        },
        "id": "Y1_1G8iwES3d",
        "outputId": "223d9db8-d52b-483a-af5c-ab6040057e8c"
      },
      "source": [
        "ir.info()"
      ],
      "execution_count": 248,
      "outputs": [
        {
          "output_type": "stream",
          "text": [
            "<class 'pandas.core.frame.DataFrame'>\n",
            "RangeIndex: 150 entries, 0 to 149\n",
            "Data columns (total 5 columns):\n",
            " #   Column         Non-Null Count  Dtype\n",
            "---  ------         --------------  -----\n",
            " 0   SepalLengthCm  150 non-null    int64\n",
            " 1   SepalWidthCm   150 non-null    int64\n",
            " 2   PetalLengthCm  150 non-null    int64\n",
            " 3   PetalWidthCm   150 non-null    int64\n",
            " 4   Species        150 non-null    int64\n",
            "dtypes: int64(5)\n",
            "memory usage: 6.0 KB\n"
          ],
          "name": "stdout"
        }
      ]
    },
    {
      "cell_type": "code",
      "metadata": {
        "id": "ACUD9b-RDp_U"
      },
      "source": [
        "def hypothesis(x, theta):\n",
        "    z = np.dot(x,theta)\n",
        "    return  1/(1+np.exp(-(z))) - 0.0000001\n",
        "\n",
        "def cost(x,y,theta):\n",
        "\n",
        "\n",
        "  y1 = hypothesis(x,theta)\n",
        "  return -(1/len(x))*np.sum(y*np.log(y1) + (1-y)*np.log(1-y1))\n",
        "\n",
        "def grad(x,y,theta,alpha,epochs): # x=>data frame,theta=>parameters,alpha=>learning rate.\n",
        "   m=len(x)\n",
        "   j=[cost(x,y,theta)]\n",
        "   for i in range(0,epochs):\n",
        "     h=hypothesis(x,theta) #building the equation.\n",
        "     for i in range(0,len(x.columns)):\n",
        "       theta[i]-=(alpha/m)*np.sum((h-y)*x.iloc[:,i])# to make update\n",
        "     j.append(cost(x,y,theta))\n",
        "   return j,theta\n",
        "    # j contains the cost function values and theta contains the last updated parameters\n",
        "\n",
        "def predict(x, y, theta, alpha, epochs):\n",
        "    J, th = grad(x, y, theta, alpha, epochs) \n",
        "    h = hypothesis(x, theta)\n",
        "    # fit x with last updated theta values and storing the corresponding values are being stored in h.\n",
        "    #number of h=number of examples. \n",
        "    for i in range(len(h)):\n",
        "        h[i]=1 if h[i]>=0.5 else 0\n",
        "    y = list(y)\n",
        "    acc = np.sum([y[i] == h[i] for i in range(len(y))])/len(y)\n",
        "    return J, acc\n",
        "    #j=>the value of cost functions\n",
        "    #'acc'=>accurecy\n",
        "\n",
        "x=ir.drop(['Species'],axis=1) # input features of my data set\n",
        "y=ir['Species']\n",
        "theta=np.random.normal(size=4)"
      ],
      "execution_count": 257,
      "outputs": []
    },
    {
      "cell_type": "code",
      "metadata": {
        "colab": {
          "base_uri": "https://localhost:8080/"
        },
        "id": "nATkXOGxDqC-",
        "outputId": "3aa98246-9ec8-4eb9-de55-8bb4da16efdd"
      },
      "source": [
        "cost,accurecy=predict(x,y,theta,0.1,110)\n"
      ],
      "execution_count": 258,
      "outputs": [
        {
          "output_type": "stream",
          "text": [
            "/usr/local/lib/python3.7/dist-packages/ipykernel_launcher.py:9: RuntimeWarning: invalid value encountered in log\n",
            "  if __name__ == '__main__':\n"
          ],
          "name": "stderr"
        }
      ]
    },
    {
      "cell_type": "code",
      "metadata": {
        "colab": {
          "base_uri": "https://localhost:8080/"
        },
        "id": "QU19FziqDqGp",
        "outputId": "d3f0e0f6-2077-4db0-ccb2-4651401da42f"
      },
      "source": [
        "accurecy"
      ],
      "execution_count": 259,
      "outputs": [
        {
          "output_type": "execute_result",
          "data": {
            "text/plain": [
              "0.34"
            ]
          },
          "metadata": {
            "tags": []
          },
          "execution_count": 259
        }
      ]
    },
    {
      "cell_type": "code",
      "metadata": {
        "id": "y3vRhjxxDqJn"
      },
      "source": [
        ""
      ],
      "execution_count": 259,
      "outputs": []
    },
    {
      "cell_type": "code",
      "metadata": {
        "id": "VlnfLCM3DqOO"
      },
      "source": [
        ""
      ],
      "execution_count": 259,
      "outputs": []
    },
    {
      "cell_type": "code",
      "metadata": {
        "id": "7wqVZsdGDqPz"
      },
      "source": [
        ""
      ],
      "execution_count": 259,
      "outputs": []
    },
    {
      "cell_type": "code",
      "metadata": {
        "id": "S27ZepeHDqTH"
      },
      "source": [
        ""
      ],
      "execution_count": 259,
      "outputs": []
    },
    {
      "cell_type": "code",
      "metadata": {
        "id": "maXpqhVTDqXV"
      },
      "source": [
        ""
      ],
      "execution_count": 259,
      "outputs": []
    },
    {
      "cell_type": "code",
      "metadata": {
        "id": "l-IZ7NbMGntw"
      },
      "source": [
        ""
      ],
      "execution_count": 259,
      "outputs": []
    },
    {
      "cell_type": "code",
      "metadata": {
        "id": "yqygiw-_DqZd"
      },
      "source": [
        ""
      ],
      "execution_count": 259,
      "outputs": []
    },
    {
      "cell_type": "code",
      "metadata": {
        "id": "EsXusi4qGnbb"
      },
      "source": [
        ""
      ],
      "execution_count": 259,
      "outputs": []
    },
    {
      "cell_type": "code",
      "metadata": {
        "id": "eEjOrm7BDqcS"
      },
      "source": [
        ""
      ],
      "execution_count": 259,
      "outputs": []
    },
    {
      "cell_type": "code",
      "metadata": {
        "id": "c14S6bw6DqfP"
      },
      "source": [
        ""
      ],
      "execution_count": 259,
      "outputs": []
    },
    {
      "cell_type": "code",
      "metadata": {
        "id": "pg9fmWIbDqiN"
      },
      "source": [
        ""
      ],
      "execution_count": 259,
      "outputs": []
    },
    {
      "cell_type": "code",
      "metadata": {
        "id": "HVGDLP7QDqk9"
      },
      "source": [
        "ir = pd.read_csv(\"/content/drive/MyDrive/dataset/Iris.csv\")\n"
      ],
      "execution_count": 260,
      "outputs": []
    },
    {
      "cell_type": "code",
      "metadata": {
        "colab": {
          "base_uri": "https://localhost:8080/"
        },
        "id": "bL79VuGEBODo",
        "outputId": "79b2e04b-684d-4774-915e-fd359910d9b7"
      },
      "source": [
        "ir['Species'].value_counts()\n"
      ],
      "execution_count": 261,
      "outputs": [
        {
          "output_type": "execute_result",
          "data": {
            "text/plain": [
              "Iris-setosa        50\n",
              "Iris-virginica     50\n",
              "Iris-versicolor    50\n",
              "Name: Species, dtype: int64"
            ]
          },
          "metadata": {
            "tags": []
          },
          "execution_count": 261
        }
      ]
    },
    {
      "cell_type": "code",
      "metadata": {
        "id": "kKhYL8JbBWc2"
      },
      "source": [
        "ir['Species'] = ir['Species'].replace({'Iris-setosa': 1, 'Iris-versicolor': 2, 'Iris-virginica': 3})\n"
      ],
      "execution_count": 262,
      "outputs": []
    },
    {
      "cell_type": "code",
      "metadata": {
        "colab": {
          "base_uri": "https://localhost:8080/",
          "height": 402
        },
        "id": "UaBZyw9_Bwx1",
        "outputId": "3e754968-5170-4469-d256-f215749ad84a"
      },
      "source": [
        "ir"
      ],
      "execution_count": 263,
      "outputs": [
        {
          "output_type": "execute_result",
          "data": {
            "text/html": [
              "<div>\n",
              "<style scoped>\n",
              "    .dataframe tbody tr th:only-of-type {\n",
              "        vertical-align: middle;\n",
              "    }\n",
              "\n",
              "    .dataframe tbody tr th {\n",
              "        vertical-align: top;\n",
              "    }\n",
              "\n",
              "    .dataframe thead th {\n",
              "        text-align: right;\n",
              "    }\n",
              "</style>\n",
              "<table border=\"1\" class=\"dataframe\">\n",
              "  <thead>\n",
              "    <tr style=\"text-align: right;\">\n",
              "      <th></th>\n",
              "      <th>SepalLengthCm</th>\n",
              "      <th>SepalWidthCm</th>\n",
              "      <th>PetalLengthCm</th>\n",
              "      <th>PetalWidthCm</th>\n",
              "      <th>Species</th>\n",
              "    </tr>\n",
              "  </thead>\n",
              "  <tbody>\n",
              "    <tr>\n",
              "      <th>0</th>\n",
              "      <td>5.1</td>\n",
              "      <td>3.5</td>\n",
              "      <td>1.4</td>\n",
              "      <td>0.2</td>\n",
              "      <td>1</td>\n",
              "    </tr>\n",
              "    <tr>\n",
              "      <th>1</th>\n",
              "      <td>4.9</td>\n",
              "      <td>3.0</td>\n",
              "      <td>1.4</td>\n",
              "      <td>0.2</td>\n",
              "      <td>1</td>\n",
              "    </tr>\n",
              "    <tr>\n",
              "      <th>2</th>\n",
              "      <td>4.7</td>\n",
              "      <td>3.2</td>\n",
              "      <td>1.3</td>\n",
              "      <td>0.2</td>\n",
              "      <td>1</td>\n",
              "    </tr>\n",
              "    <tr>\n",
              "      <th>3</th>\n",
              "      <td>4.6</td>\n",
              "      <td>3.1</td>\n",
              "      <td>1.5</td>\n",
              "      <td>0.2</td>\n",
              "      <td>1</td>\n",
              "    </tr>\n",
              "    <tr>\n",
              "      <th>4</th>\n",
              "      <td>5.0</td>\n",
              "      <td>3.6</td>\n",
              "      <td>1.4</td>\n",
              "      <td>0.2</td>\n",
              "      <td>1</td>\n",
              "    </tr>\n",
              "    <tr>\n",
              "      <th>...</th>\n",
              "      <td>...</td>\n",
              "      <td>...</td>\n",
              "      <td>...</td>\n",
              "      <td>...</td>\n",
              "      <td>...</td>\n",
              "    </tr>\n",
              "    <tr>\n",
              "      <th>145</th>\n",
              "      <td>6.7</td>\n",
              "      <td>3.0</td>\n",
              "      <td>5.2</td>\n",
              "      <td>2.3</td>\n",
              "      <td>3</td>\n",
              "    </tr>\n",
              "    <tr>\n",
              "      <th>146</th>\n",
              "      <td>6.3</td>\n",
              "      <td>2.5</td>\n",
              "      <td>5.0</td>\n",
              "      <td>1.9</td>\n",
              "      <td>3</td>\n",
              "    </tr>\n",
              "    <tr>\n",
              "      <th>147</th>\n",
              "      <td>6.5</td>\n",
              "      <td>3.0</td>\n",
              "      <td>5.2</td>\n",
              "      <td>2.0</td>\n",
              "      <td>3</td>\n",
              "    </tr>\n",
              "    <tr>\n",
              "      <th>148</th>\n",
              "      <td>6.2</td>\n",
              "      <td>3.4</td>\n",
              "      <td>5.4</td>\n",
              "      <td>2.3</td>\n",
              "      <td>3</td>\n",
              "    </tr>\n",
              "    <tr>\n",
              "      <th>149</th>\n",
              "      <td>5.9</td>\n",
              "      <td>3.0</td>\n",
              "      <td>5.1</td>\n",
              "      <td>1.8</td>\n",
              "      <td>3</td>\n",
              "    </tr>\n",
              "  </tbody>\n",
              "</table>\n",
              "<p>150 rows × 5 columns</p>\n",
              "</div>"
            ],
            "text/plain": [
              "     SepalLengthCm  SepalWidthCm  PetalLengthCm  PetalWidthCm  Species\n",
              "0              5.1           3.5            1.4           0.2        1\n",
              "1              4.9           3.0            1.4           0.2        1\n",
              "2              4.7           3.2            1.3           0.2        1\n",
              "3              4.6           3.1            1.5           0.2        1\n",
              "4              5.0           3.6            1.4           0.2        1\n",
              "..             ...           ...            ...           ...      ...\n",
              "145            6.7           3.0            5.2           2.3        3\n",
              "146            6.3           2.5            5.0           1.9        3\n",
              "147            6.5           3.0            5.2           2.0        3\n",
              "148            6.2           3.4            5.4           2.3        3\n",
              "149            5.9           3.0            5.1           1.8        3\n",
              "\n",
              "[150 rows x 5 columns]"
            ]
          },
          "metadata": {
            "tags": []
          },
          "execution_count": 263
        }
      ]
    },
    {
      "cell_type": "code",
      "metadata": {
        "id": "-VWmuhljBlIm"
      },
      "source": [
        ""
      ],
      "execution_count": 263,
      "outputs": []
    },
    {
      "cell_type": "code",
      "metadata": {
        "id": "ozqHdpQbB1as"
      },
      "source": [
        "iris = np.array(ir)\n",
        "X = iris[:, :-1]\n",
        "y = iris[:, -1]"
      ],
      "execution_count": 264,
      "outputs": []
    },
    {
      "cell_type": "code",
      "metadata": {
        "id": "05zOXO9sB2zr"
      },
      "source": [
        "class LogReg:    \n",
        "    \n",
        "    def __init__(self, lr=0.1, itr=5000):\n",
        "        self.lr = lr\n",
        "        self.itr= itr\n",
        "        self.thetas = []\n",
        "        self.class_count = 0\n",
        "        \n",
        "    def sigmoid(self, x):\n",
        "        return 1/(1+np.exp(-x))\n",
        "    \n",
        "    def fit(self, X, y):\n",
        "        X = np.insert(X, 0, 1, axis=1)\n",
        "        entries, features = X.shape\n",
        "        classes = np.unique(y)\n",
        "        self.class_count = len(classes)\n",
        "        for c in classes:\n",
        "            y_modified = np.where(y == c, 1, 0)\n",
        "            theta = np.zeros(features)\n",
        "            for _ in range(self.itr):\n",
        "                thetaX = np.dot(X, theta)\n",
        "                h= self.sigmoid(thetaX)\n",
        "                dtheta = (1/entries)*np.dot(X.T, (h-y_modified))\n",
        "                theta -= self.lr*dtheta\n",
        "            self.thetas.append(theta)\n",
        "            \n",
        "    def predict(self, X):\n",
        "        op = []\n",
        "        X = np.insert(X, 0, 1, axis=1)\n",
        "        for i in range(len(X)):\n",
        "            maxh, cat = -1, -1\n",
        "            for j in range(self.class_count):\n",
        "                h = self.sigmoid(np.dot(X[i], self.thetas[j]))\n",
        "                if h > maxh:\n",
        "                    maxh = h\n",
        "                    cat = j+1\n",
        "            op.append(cat)\n",
        "        return op\n",
        "    \n",
        "    def score(self, y_pred, y_actual):\n",
        "        s = str(round(sum(y_pred==y_actual)/len(y_actual), 4)*100)\n",
        "        return s+'%'"
      ],
      "execution_count": 265,
      "outputs": []
    },
    {
      "cell_type": "code",
      "metadata": {
        "id": "jYEiC0B9JsIc"
      },
      "source": [
        "\n",
        "model = LogReg()\n",
        "model.fit(X_train, y_train)"
      ],
      "execution_count": 266,
      "outputs": []
    },
    {
      "cell_type": "code",
      "metadata": {
        "id": "XTWtpb81JyO4"
      },
      "source": [
        "y_pred = model.predict(X_test)\n"
      ],
      "execution_count": 267,
      "outputs": []
    },
    {
      "cell_type": "code",
      "metadata": {
        "colab": {
          "base_uri": "https://localhost:8080/",
          "height": 35
        },
        "id": "YxEEAzKAJzv2",
        "outputId": "d6eff993-054c-44b3-d447-47efed4b8f14"
      },
      "source": [
        "model.score(y_pred, y_test)\n"
      ],
      "execution_count": 268,
      "outputs": [
        {
          "output_type": "execute_result",
          "data": {
            "application/vnd.google.colaboratory.intrinsic+json": {
              "type": "string"
            },
            "text/plain": [
              "'3.3300000000000005%'"
            ]
          },
          "metadata": {
            "tags": []
          },
          "execution_count": 268
        }
      ]
    },
    {
      "cell_type": "code",
      "metadata": {
        "id": "B-B382akJ1bD"
      },
      "source": [
        ""
      ],
      "execution_count": null,
      "outputs": []
    }
  ]
}