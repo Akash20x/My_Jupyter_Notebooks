{
 "cells": [
  {
   "cell_type": "code",
   "execution_count": 1,
   "metadata": {},
   "outputs": [
    {
     "name": "stdout",
     "output_type": "stream",
     "text": [
      "Requirement already satisfied: pandas-profiling[html,notebook] in c:\\users\\lenovo\\anaconda3\\lib\\site-packages (3.0.0)\n",
      "Requirement already satisfied: phik>=0.11.1 in c:\\users\\lenovo\\anaconda3\\lib\\site-packages (from pandas-profiling[html,notebook]) (0.11.2)\n",
      "Requirement already satisfied: pandas!=1.0.0,!=1.0.1,!=1.0.2,!=1.1.0,>=0.25.3 in c:\\users\\lenovo\\anaconda3\\lib\\site-packages (from pandas-profiling[html,notebook]) (1.2.4)\n",
      "Requirement already satisfied: missingno>=0.4.2 in c:\\users\\lenovo\\anaconda3\\lib\\site-packages (from pandas-profiling[html,notebook]) (0.4.2)\n",
      "Requirement already satisfied: tqdm>=4.48.2 in c:\\users\\lenovo\\anaconda3\\lib\\site-packages (from pandas-profiling[html,notebook]) (4.61.0)\n",
      "Requirement already satisfied: tangled-up-in-unicode==0.1.0 in c:\\users\\lenovo\\anaconda3\\lib\\site-packages (from pandas-profiling[html,notebook]) (0.1.0)\n",
      "Requirement already satisfied: seaborn>=0.10.1 in c:\\users\\lenovo\\anaconda3\\lib\\site-packages (from pandas-profiling[html,notebook]) (0.11.1)\n",
      "Requirement already satisfied: scipy>=1.4.1 in c:\\users\\lenovo\\anaconda3\\lib\\site-packages (from pandas-profiling[html,notebook]) (1.4.1)\n",
      "Requirement already satisfied: numpy>=1.16.0 in c:\\users\\lenovo\\anaconda3\\lib\\site-packages (from pandas-profiling[html,notebook]) (1.20.2)\n",
      "Requirement already satisfied: pydantic>=1.8.1 in c:\\users\\lenovo\\anaconda3\\lib\\site-packages (from pandas-profiling[html,notebook]) (1.8.2)\n",
      "Requirement already satisfied: jinja2>=2.11.1 in c:\\users\\lenovo\\anaconda3\\lib\\site-packages (from pandas-profiling[html,notebook]) (3.0.1)\n",
      "Requirement already satisfied: PyYAML>=5.0.0 in c:\\users\\lenovo\\anaconda3\\lib\\site-packages (from pandas-profiling[html,notebook]) (5.1.2)\n",
      "Requirement already satisfied: htmlmin>=0.1.12 in c:\\users\\lenovo\\anaconda3\\lib\\site-packages (from pandas-profiling[html,notebook]) (0.1.12)\n",
      "Requirement already satisfied: joblib in c:\\users\\lenovo\\anaconda3\\lib\\site-packages (from pandas-profiling[html,notebook]) (0.13.2)\n",
      "Requirement already satisfied: visions[type_image_path]==0.7.1 in c:\\users\\lenovo\\anaconda3\\lib\\site-packages (from pandas-profiling[html,notebook]) (0.7.1)\n",
      "Requirement already satisfied: matplotlib>=3.2.0 in c:\\users\\lenovo\\anaconda3\\lib\\site-packages (from pandas-profiling[html,notebook]) (3.4.2)\n",
      "Requirement already satisfied: requests>=2.24.0 in c:\\users\\lenovo\\anaconda3\\lib\\site-packages (from pandas-profiling[html,notebook]) (2.25.1)\n",
      "Requirement already satisfied: jupyter-client>=6.0.0; extra == \"notebook\" in c:\\users\\lenovo\\anaconda3\\lib\\site-packages (from pandas-profiling[html,notebook]) (6.1.12)\n",
      "Requirement already satisfied: ipywidgets>=7.5.1; extra == \"notebook\" in c:\\users\\lenovo\\anaconda3\\lib\\site-packages (from pandas-profiling[html,notebook]) (7.5.1)\n",
      "Requirement already satisfied: jupyter-core>=4.6.3; extra == \"notebook\" in c:\\users\\lenovo\\anaconda3\\lib\\site-packages (from pandas-profiling[html,notebook]) (4.7.1)\n",
      "Requirement already satisfied: pytz>=2017.3 in c:\\users\\lenovo\\anaconda3\\lib\\site-packages (from pandas!=1.0.0,!=1.0.1,!=1.0.2,!=1.1.0,>=0.25.3->pandas-profiling[html,notebook]) (2019.3)\n",
      "Requirement already satisfied: python-dateutil>=2.7.3 in c:\\users\\lenovo\\anaconda3\\lib\\site-packages (from pandas!=1.0.0,!=1.0.1,!=1.0.2,!=1.1.0,>=0.25.3->pandas-profiling[html,notebook]) (2.8.0)\n",
      "Requirement already satisfied: typing-extensions>=3.7.4.3 in c:\\users\\lenovo\\anaconda3\\lib\\site-packages (from pydantic>=1.8.1->pandas-profiling[html,notebook]) (3.7.4.3)\n",
      "Requirement already satisfied: MarkupSafe>=2.0 in c:\\users\\lenovo\\anaconda3\\lib\\site-packages (from jinja2>=2.11.1->pandas-profiling[html,notebook]) (2.0.1)\n",
      "Requirement already satisfied: bottleneck in c:\\users\\lenovo\\anaconda3\\lib\\site-packages (from visions[type_image_path]==0.7.1->pandas-profiling[html,notebook]) (1.2.1)\n",
      "Requirement already satisfied: networkx>=2.4 in c:\\users\\lenovo\\anaconda3\\lib\\site-packages (from visions[type_image_path]==0.7.1->pandas-profiling[html,notebook]) (2.5.1)\n",
      "Requirement already satisfied: multimethod==1.4 in c:\\users\\lenovo\\anaconda3\\lib\\site-packages (from visions[type_image_path]==0.7.1->pandas-profiling[html,notebook]) (1.4)\n",
      "Requirement already satisfied: attrs>=19.3.0 in c:\\users\\lenovo\\anaconda3\\lib\\site-packages (from visions[type_image_path]==0.7.1->pandas-profiling[html,notebook]) (21.2.0)\n",
      "Requirement already satisfied: imagehash; extra == \"type_image_path\" in c:\\users\\lenovo\\anaconda3\\lib\\site-packages (from visions[type_image_path]==0.7.1->pandas-profiling[html,notebook]) (4.2.0)\n",
      "Requirement already satisfied: Pillow; extra == \"type_image_path\" in c:\\users\\lenovo\\anaconda3\\lib\\site-packages (from visions[type_image_path]==0.7.1->pandas-profiling[html,notebook]) (6.2.0)\n",
      "Requirement already satisfied: cycler>=0.10 in c:\\users\\lenovo\\anaconda3\\lib\\site-packages (from matplotlib>=3.2.0->pandas-profiling[html,notebook]) (0.10.0)\n",
      "Requirement already satisfied: kiwisolver>=1.0.1 in c:\\users\\lenovo\\anaconda3\\lib\\site-packages (from matplotlib>=3.2.0->pandas-profiling[html,notebook]) (1.1.0)\n",
      "Requirement already satisfied: pyparsing>=2.2.1 in c:\\users\\lenovo\\anaconda3\\lib\\site-packages (from matplotlib>=3.2.0->pandas-profiling[html,notebook]) (2.4.2)\n",
      "Requirement already satisfied: idna<3,>=2.5 in c:\\users\\lenovo\\anaconda3\\lib\\site-packages (from requests>=2.24.0->pandas-profiling[html,notebook]) (2.8)\n",
      "Requirement already satisfied: certifi>=2017.4.17 in c:\\users\\lenovo\\anaconda3\\lib\\site-packages (from requests>=2.24.0->pandas-profiling[html,notebook]) (2019.9.11)\n",
      "Requirement already satisfied: urllib3<1.27,>=1.21.1 in c:\\users\\lenovo\\anaconda3\\lib\\site-packages (from requests>=2.24.0->pandas-profiling[html,notebook]) (1.24.2)\n",
      "Requirement already satisfied: chardet<5,>=3.0.2 in c:\\users\\lenovo\\anaconda3\\lib\\site-packages (from requests>=2.24.0->pandas-profiling[html,notebook]) (3.0.4)\n",
      "Requirement already satisfied: pyzmq>=13 in c:\\users\\lenovo\\anaconda3\\lib\\site-packages (from jupyter-client>=6.0.0; extra == \"notebook\"->pandas-profiling[html,notebook]) (18.1.0)\n",
      "Requirement already satisfied: tornado>=4.1 in c:\\users\\lenovo\\anaconda3\\lib\\site-packages (from jupyter-client>=6.0.0; extra == \"notebook\"->pandas-profiling[html,notebook]) (6.0.3)\n",
      "Requirement already satisfied: traitlets in c:\\users\\lenovo\\anaconda3\\lib\\site-packages (from jupyter-client>=6.0.0; extra == \"notebook\"->pandas-profiling[html,notebook]) (4.3.3)\n",
      "Requirement already satisfied: ipykernel>=4.5.1 in c:\\users\\lenovo\\anaconda3\\lib\\site-packages (from ipywidgets>=7.5.1; extra == \"notebook\"->pandas-profiling[html,notebook]) (5.1.2)\n",
      "Requirement already satisfied: widgetsnbextension~=3.5.0 in c:\\users\\lenovo\\anaconda3\\lib\\site-packages (from ipywidgets>=7.5.1; extra == \"notebook\"->pandas-profiling[html,notebook]) (3.5.1)\n",
      "Requirement already satisfied: ipython>=4.0.0; python_version >= \"3.3\" in c:\\users\\lenovo\\anaconda3\\lib\\site-packages (from ipywidgets>=7.5.1; extra == \"notebook\"->pandas-profiling[html,notebook]) (7.8.0)\n",
      "Requirement already satisfied: nbformat>=4.2.0 in c:\\users\\lenovo\\anaconda3\\lib\\site-packages (from ipywidgets>=7.5.1; extra == \"notebook\"->pandas-profiling[html,notebook]) (4.4.0)\n",
      "Requirement already satisfied: pywin32>=1.0; sys_platform == \"win32\" in c:\\users\\lenovo\\anaconda3\\lib\\site-packages (from jupyter-core>=4.6.3; extra == \"notebook\"->pandas-profiling[html,notebook]) (223)\n",
      "Requirement already satisfied: six>=1.5 in c:\\users\\lenovo\\anaconda3\\lib\\site-packages (from python-dateutil>=2.7.3->pandas!=1.0.0,!=1.0.1,!=1.0.2,!=1.1.0,>=0.25.3->pandas-profiling[html,notebook]) (1.12.0)\n",
      "Requirement already satisfied: decorator<5,>=4.3 in c:\\users\\lenovo\\anaconda3\\lib\\site-packages (from networkx>=2.4->visions[type_image_path]==0.7.1->pandas-profiling[html,notebook]) (4.4.0)\n",
      "Requirement already satisfied: PyWavelets in c:\\users\\lenovo\\anaconda3\\lib\\site-packages (from imagehash; extra == \"type_image_path\"->visions[type_image_path]==0.7.1->pandas-profiling[html,notebook]) (1.0.3)\n",
      "Requirement already satisfied: setuptools in c:\\users\\lenovo\\anaconda3\\lib\\site-packages (from kiwisolver>=1.0.1->matplotlib>=3.2.0->pandas-profiling[html,notebook]) (41.4.0)\n",
      "Requirement already satisfied: ipython-genutils in c:\\users\\lenovo\\anaconda3\\lib\\site-packages (from traitlets->jupyter-client>=6.0.0; extra == \"notebook\"->pandas-profiling[html,notebook]) (0.2.0)\n",
      "Requirement already satisfied: notebook>=4.4.1 in c:\\users\\lenovo\\anaconda3\\lib\\site-packages (from widgetsnbextension~=3.5.0->ipywidgets>=7.5.1; extra == \"notebook\"->pandas-profiling[html,notebook]) (6.0.1)\n",
      "Requirement already satisfied: pickleshare in c:\\users\\lenovo\\anaconda3\\lib\\site-packages (from ipython>=4.0.0; python_version >= \"3.3\"->ipywidgets>=7.5.1; extra == \"notebook\"->pandas-profiling[html,notebook]) (0.7.5)\n",
      "Requirement already satisfied: jedi>=0.10 in c:\\users\\lenovo\\anaconda3\\lib\\site-packages (from ipython>=4.0.0; python_version >= \"3.3\"->ipywidgets>=7.5.1; extra == \"notebook\"->pandas-profiling[html,notebook]) (0.15.1)\n",
      "Requirement already satisfied: pygments in c:\\users\\lenovo\\anaconda3\\lib\\site-packages (from ipython>=4.0.0; python_version >= \"3.3\"->ipywidgets>=7.5.1; extra == \"notebook\"->pandas-profiling[html,notebook]) (2.4.2)\n",
      "Requirement already satisfied: prompt-toolkit<2.1.0,>=2.0.0 in c:\\users\\lenovo\\anaconda3\\lib\\site-packages (from ipython>=4.0.0; python_version >= \"3.3\"->ipywidgets>=7.5.1; extra == \"notebook\"->pandas-profiling[html,notebook]) (2.0.10)\n",
      "Requirement already satisfied: colorama; sys_platform == \"win32\" in c:\\users\\lenovo\\anaconda3\\lib\\site-packages (from ipython>=4.0.0; python_version >= \"3.3\"->ipywidgets>=7.5.1; extra == \"notebook\"->pandas-profiling[html,notebook]) (0.4.1)\n",
      "Requirement already satisfied: backcall in c:\\users\\lenovo\\anaconda3\\lib\\site-packages (from ipython>=4.0.0; python_version >= \"3.3\"->ipywidgets>=7.5.1; extra == \"notebook\"->pandas-profiling[html,notebook]) (0.1.0)\n",
      "Requirement already satisfied: jsonschema!=2.5.0,>=2.4 in c:\\users\\lenovo\\anaconda3\\lib\\site-packages (from nbformat>=4.2.0->ipywidgets>=7.5.1; extra == \"notebook\"->pandas-profiling[html,notebook]) (3.0.2)\n",
      "Requirement already satisfied: nbconvert in c:\\users\\lenovo\\anaconda3\\lib\\site-packages (from notebook>=4.4.1->widgetsnbextension~=3.5.0->ipywidgets>=7.5.1; extra == \"notebook\"->pandas-profiling[html,notebook]) (5.6.0)\n",
      "Requirement already satisfied: prometheus-client in c:\\users\\lenovo\\anaconda3\\lib\\site-packages (from notebook>=4.4.1->widgetsnbextension~=3.5.0->ipywidgets>=7.5.1; extra == \"notebook\"->pandas-profiling[html,notebook]) (0.7.1)\n",
      "Requirement already satisfied: Send2Trash in c:\\users\\lenovo\\anaconda3\\lib\\site-packages (from notebook>=4.4.1->widgetsnbextension~=3.5.0->ipywidgets>=7.5.1; extra == \"notebook\"->pandas-profiling[html,notebook]) (1.5.0)\n",
      "Requirement already satisfied: terminado>=0.8.1 in c:\\users\\lenovo\\anaconda3\\lib\\site-packages (from notebook>=4.4.1->widgetsnbextension~=3.5.0->ipywidgets>=7.5.1; extra == \"notebook\"->pandas-profiling[html,notebook]) (0.8.2)\n",
      "Requirement already satisfied: parso>=0.5.0 in c:\\users\\lenovo\\anaconda3\\lib\\site-packages (from jedi>=0.10->ipython>=4.0.0; python_version >= \"3.3\"->ipywidgets>=7.5.1; extra == \"notebook\"->pandas-profiling[html,notebook]) (0.5.1)\n",
      "Requirement already satisfied: wcwidth in c:\\users\\lenovo\\anaconda3\\lib\\site-packages (from prompt-toolkit<2.1.0,>=2.0.0->ipython>=4.0.0; python_version >= \"3.3\"->ipywidgets>=7.5.1; extra == \"notebook\"->pandas-profiling[html,notebook]) (0.1.7)\n",
      "Requirement already satisfied: pyrsistent>=0.14.0 in c:\\users\\lenovo\\anaconda3\\lib\\site-packages (from jsonschema!=2.5.0,>=2.4->nbformat>=4.2.0->ipywidgets>=7.5.1; extra == \"notebook\"->pandas-profiling[html,notebook]) (0.15.4)\n",
      "Requirement already satisfied: mistune<2,>=0.8.1 in c:\\users\\lenovo\\anaconda3\\lib\\site-packages (from nbconvert->notebook>=4.4.1->widgetsnbextension~=3.5.0->ipywidgets>=7.5.1; extra == \"notebook\"->pandas-profiling[html,notebook]) (0.8.4)\n",
      "Requirement already satisfied: pandocfilters>=1.4.1 in c:\\users\\lenovo\\anaconda3\\lib\\site-packages (from nbconvert->notebook>=4.4.1->widgetsnbextension~=3.5.0->ipywidgets>=7.5.1; extra == \"notebook\"->pandas-profiling[html,notebook]) (1.4.2)\n",
      "Requirement already satisfied: entrypoints>=0.2.2 in c:\\users\\lenovo\\anaconda3\\lib\\site-packages (from nbconvert->notebook>=4.4.1->widgetsnbextension~=3.5.0->ipywidgets>=7.5.1; extra == \"notebook\"->pandas-profiling[html,notebook]) (0.3)\n",
      "Requirement already satisfied: defusedxml in c:\\users\\lenovo\\anaconda3\\lib\\site-packages (from nbconvert->notebook>=4.4.1->widgetsnbextension~=3.5.0->ipywidgets>=7.5.1; extra == \"notebook\"->pandas-profiling[html,notebook]) (0.6.0)\n",
      "Requirement already satisfied: testpath in c:\\users\\lenovo\\anaconda3\\lib\\site-packages (from nbconvert->notebook>=4.4.1->widgetsnbextension~=3.5.0->ipywidgets>=7.5.1; extra == \"notebook\"->pandas-profiling[html,notebook]) (0.4.2)\n",
      "Requirement already satisfied: bleach in c:\\users\\lenovo\\anaconda3\\lib\\site-packages (from nbconvert->notebook>=4.4.1->widgetsnbextension~=3.5.0->ipywidgets>=7.5.1; extra == \"notebook\"->pandas-profiling[html,notebook]) (3.1.0)\n",
      "Requirement already satisfied: webencodings in c:\\users\\lenovo\\anaconda3\\lib\\site-packages (from bleach->nbconvert->notebook>=4.4.1->widgetsnbextension~=3.5.0->ipywidgets>=7.5.1; extra == \"notebook\"->pandas-profiling[html,notebook]) (0.5.1)\n"
     ]
    },
    {
     "name": "stderr",
     "output_type": "stream",
     "text": [
      "  WARNING: pandas-profiling 3.0.0 does not provide the extra 'html'\n"
     ]
    }
   ],
   "source": [
    "!pip install pandas-profiling[notebook,html]"
   ]
  },
  {
   "cell_type": "code",
   "execution_count": 2,
   "metadata": {
    "scrolled": true
   },
   "outputs": [
    {
     "name": "stdout",
     "output_type": "stream",
     "text": [
      "Requirement already up-to-date: opendatasets in c:\\users\\lenovo\\anaconda3\\lib\\site-packages (0.1.11)\n",
      "Requirement already satisfied, skipping upgrade: kaggle in c:\\users\\lenovo\\anaconda3\\lib\\site-packages (from opendatasets) (1.5.12)\n",
      "Requirement already satisfied, skipping upgrade: click in c:\\users\\lenovo\\anaconda3\\lib\\site-packages (from opendatasets) (7.0)\n",
      "Requirement already satisfied, skipping upgrade: tqdm in c:\\users\\lenovo\\anaconda3\\lib\\site-packages (from opendatasets) (4.61.0)\n",
      "Requirement already satisfied, skipping upgrade: python-slugify in c:\\users\\lenovo\\anaconda3\\lib\\site-packages (from kaggle->opendatasets) (5.0.2)\n",
      "Requirement already satisfied, skipping upgrade: python-dateutil in c:\\users\\lenovo\\anaconda3\\lib\\site-packages (from kaggle->opendatasets) (2.8.0)\n",
      "Requirement already satisfied, skipping upgrade: urllib3 in c:\\users\\lenovo\\anaconda3\\lib\\site-packages (from kaggle->opendatasets) (1.24.2)\n",
      "Requirement already satisfied, skipping upgrade: requests in c:\\users\\lenovo\\anaconda3\\lib\\site-packages (from kaggle->opendatasets) (2.25.1)\n",
      "Requirement already satisfied, skipping upgrade: six>=1.10 in c:\\users\\lenovo\\anaconda3\\lib\\site-packages (from kaggle->opendatasets) (1.12.0)\n",
      "Requirement already satisfied, skipping upgrade: certifi in c:\\users\\lenovo\\anaconda3\\lib\\site-packages (from kaggle->opendatasets) (2019.9.11)\n",
      "Requirement already satisfied, skipping upgrade: text-unidecode>=1.3 in c:\\users\\lenovo\\anaconda3\\lib\\site-packages (from python-slugify->kaggle->opendatasets) (1.3)\n",
      "Requirement already satisfied, skipping upgrade: chardet<5,>=3.0.2 in c:\\users\\lenovo\\anaconda3\\lib\\site-packages (from requests->kaggle->opendatasets) (3.0.4)\n",
      "Requirement already satisfied, skipping upgrade: idna<3,>=2.5 in c:\\users\\lenovo\\anaconda3\\lib\\site-packages (from requests->kaggle->opendatasets) (2.8)\n"
     ]
    }
   ],
   "source": [
    "!pip install opendatasets --upgrade\n"
   ]
  },
  {
   "cell_type": "code",
   "execution_count": null,
   "metadata": {},
   "outputs": [],
   "source": []
  },
  {
   "cell_type": "code",
   "execution_count": 3,
   "metadata": {},
   "outputs": [],
   "source": [
    "import numpy as np\n",
    "import pandas as pd\n",
    "import opendatasets as od\n",
    "from pandas_profiling import ProfileReport"
   ]
  },
  {
   "cell_type": "code",
   "execution_count": null,
   "metadata": {},
   "outputs": [],
   "source": []
  },
  {
   "cell_type": "code",
   "execution_count": 4,
   "metadata": {},
   "outputs": [
    {
     "data": {
      "text/html": [
       "<div>\n",
       "<style scoped>\n",
       "    .dataframe tbody tr th:only-of-type {\n",
       "        vertical-align: middle;\n",
       "    }\n",
       "\n",
       "    .dataframe tbody tr th {\n",
       "        vertical-align: top;\n",
       "    }\n",
       "\n",
       "    .dataframe thead th {\n",
       "        text-align: right;\n",
       "    }\n",
       "</style>\n",
       "<table border=\"1\" class=\"dataframe\">\n",
       "  <thead>\n",
       "    <tr style=\"text-align: right;\">\n",
       "      <th></th>\n",
       "      <th>Country (Voters (vertical), Finalists (horizontal))</th>\n",
       "      <th>Albania</th>\n",
       "      <th>Azerbaijan</th>\n",
       "      <th>Belgium</th>\n",
       "      <th>Bulgaria</th>\n",
       "      <th>Cyprus</th>\n",
       "      <th>Finland</th>\n",
       "      <th>France</th>\n",
       "      <th>Germany</th>\n",
       "      <th>Greece</th>\n",
       "      <th>...</th>\n",
       "      <th>Norway</th>\n",
       "      <th>Portugal</th>\n",
       "      <th>Russia</th>\n",
       "      <th>San Marino</th>\n",
       "      <th>Serbia</th>\n",
       "      <th>Spain</th>\n",
       "      <th>Sweden</th>\n",
       "      <th>Switzerland</th>\n",
       "      <th>Ukraine</th>\n",
       "      <th>United Kingdom</th>\n",
       "    </tr>\n",
       "  </thead>\n",
       "  <tbody>\n",
       "    <tr>\n",
       "      <th>0</th>\n",
       "      <td>Albania</td>\n",
       "      <td>0</td>\n",
       "      <td>0</td>\n",
       "      <td>0</td>\n",
       "      <td>0</td>\n",
       "      <td>7</td>\n",
       "      <td>3</td>\n",
       "      <td>10</td>\n",
       "      <td>0</td>\n",
       "      <td>6</td>\n",
       "      <td>...</td>\n",
       "      <td>0</td>\n",
       "      <td>0</td>\n",
       "      <td>0</td>\n",
       "      <td>5</td>\n",
       "      <td>1</td>\n",
       "      <td>0</td>\n",
       "      <td>0</td>\n",
       "      <td>12</td>\n",
       "      <td>0</td>\n",
       "      <td>0</td>\n",
       "    </tr>\n",
       "    <tr>\n",
       "      <th>1</th>\n",
       "      <td>Australia</td>\n",
       "      <td>0</td>\n",
       "      <td>6</td>\n",
       "      <td>0</td>\n",
       "      <td>2</td>\n",
       "      <td>4</td>\n",
       "      <td>0</td>\n",
       "      <td>7</td>\n",
       "      <td>0</td>\n",
       "      <td>0</td>\n",
       "      <td>...</td>\n",
       "      <td>0</td>\n",
       "      <td>0</td>\n",
       "      <td>1</td>\n",
       "      <td>0</td>\n",
       "      <td>0</td>\n",
       "      <td>0</td>\n",
       "      <td>0</td>\n",
       "      <td>10</td>\n",
       "      <td>5</td>\n",
       "      <td>0</td>\n",
       "    </tr>\n",
       "    <tr>\n",
       "      <th>2</th>\n",
       "      <td>Austria</td>\n",
       "      <td>0</td>\n",
       "      <td>0</td>\n",
       "      <td>0</td>\n",
       "      <td>5</td>\n",
       "      <td>0</td>\n",
       "      <td>1</td>\n",
       "      <td>8</td>\n",
       "      <td>2</td>\n",
       "      <td>0</td>\n",
       "      <td>...</td>\n",
       "      <td>0</td>\n",
       "      <td>7</td>\n",
       "      <td>0</td>\n",
       "      <td>0</td>\n",
       "      <td>0</td>\n",
       "      <td>0</td>\n",
       "      <td>0</td>\n",
       "      <td>10</td>\n",
       "      <td>0</td>\n",
       "      <td>0</td>\n",
       "    </tr>\n",
       "    <tr>\n",
       "      <th>3</th>\n",
       "      <td>Azerbaijan</td>\n",
       "      <td>0</td>\n",
       "      <td>0</td>\n",
       "      <td>3</td>\n",
       "      <td>1</td>\n",
       "      <td>0</td>\n",
       "      <td>0</td>\n",
       "      <td>4</td>\n",
       "      <td>0</td>\n",
       "      <td>10</td>\n",
       "      <td>...</td>\n",
       "      <td>0</td>\n",
       "      <td>2</td>\n",
       "      <td>12</td>\n",
       "      <td>0</td>\n",
       "      <td>0</td>\n",
       "      <td>0</td>\n",
       "      <td>5</td>\n",
       "      <td>0</td>\n",
       "      <td>6</td>\n",
       "      <td>0</td>\n",
       "    </tr>\n",
       "    <tr>\n",
       "      <th>4</th>\n",
       "      <td>Belgium</td>\n",
       "      <td>0</td>\n",
       "      <td>0</td>\n",
       "      <td>0</td>\n",
       "      <td>6</td>\n",
       "      <td>0</td>\n",
       "      <td>8</td>\n",
       "      <td>0</td>\n",
       "      <td>0</td>\n",
       "      <td>0</td>\n",
       "      <td>...</td>\n",
       "      <td>0</td>\n",
       "      <td>1</td>\n",
       "      <td>7</td>\n",
       "      <td>0</td>\n",
       "      <td>0</td>\n",
       "      <td>0</td>\n",
       "      <td>4</td>\n",
       "      <td>12</td>\n",
       "      <td>10</td>\n",
       "      <td>0</td>\n",
       "    </tr>\n",
       "  </tbody>\n",
       "</table>\n",
       "<p>5 rows × 27 columns</p>\n",
       "</div>"
      ],
      "text/plain": [
       "  Country (Voters (vertical), Finalists (horizontal))  Albania  Azerbaijan  \\\n",
       "0                                            Albania         0           0   \n",
       "1                                          Australia         0           6   \n",
       "2                                            Austria         0           0   \n",
       "3                                         Azerbaijan         0           0   \n",
       "4                                            Belgium         0           0   \n",
       "\n",
       "   Belgium  Bulgaria  Cyprus  Finland  France  Germany  Greece  ...  Norway  \\\n",
       "0        0         0       7        3      10        0       6  ...       0   \n",
       "1        0         2       4        0       7        0       0  ...       0   \n",
       "2        0         5       0        1       8        2       0  ...       0   \n",
       "3        3         1       0        0       4        0      10  ...       0   \n",
       "4        0         6       0        8       0        0       0  ...       0   \n",
       "\n",
       "   Portugal  Russia  San Marino  Serbia  Spain  Sweden  Switzerland  Ukraine  \\\n",
       "0         0       0           5       1      0       0           12        0   \n",
       "1         0       1           0       0      0       0           10        5   \n",
       "2         7       0           0       0      0       0           10        0   \n",
       "3         2      12           0       0      0       5            0        6   \n",
       "4         1       7           0       0      0       4           12       10   \n",
       "\n",
       "   United Kingdom  \n",
       "0               0  \n",
       "1               0  \n",
       "2               0  \n",
       "3               0  \n",
       "4               0  \n",
       "\n",
       "[5 rows x 27 columns]"
      ]
     },
     "execution_count": 4,
     "metadata": {},
     "output_type": "execute_result"
    }
   ],
   "source": [
    "#read the csv file\n",
    "jury_df=pd.read_csv('Eurovision_juryvotes_2021.csv')\n",
    "jury_df.head() "
   ]
  },
  {
   "cell_type": "code",
   "execution_count": 5,
   "metadata": {},
   "outputs": [
    {
     "data": {
      "text/plain": [
       "Index(['Country (Voters (vertical), Finalists (horizontal))', 'Albania',\n",
       "       'Azerbaijan', 'Belgium', 'Bulgaria', 'Cyprus', 'Finland', 'France',\n",
       "       'Germany', 'Greece', 'Iceland', 'Israel', 'Italy', 'Lithuania', 'Malta',\n",
       "       'Moldova', 'Netherlands', 'Norway', 'Portugal', 'Russia', 'San Marino',\n",
       "       'Serbia', 'Spain', 'Sweden', 'Switzerland', 'Ukraine',\n",
       "       'United Kingdom'],\n",
       "      dtype='object')"
      ]
     },
     "execution_count": 5,
     "metadata": {},
     "output_type": "execute_result"
    }
   ],
   "source": [
    "jury_df.columns"
   ]
  },
  {
   "cell_type": "code",
   "execution_count": 7,
   "metadata": {},
   "outputs": [
    {
     "name": "stdout",
     "output_type": "stream",
     "text": [
      "<class 'pandas.core.frame.DataFrame'>\n",
      "RangeIndex: 39 entries, 0 to 38\n",
      "Data columns (total 27 columns):\n",
      " #   Column                                               Non-Null Count  Dtype \n",
      "---  ------                                               --------------  ----- \n",
      " 0   Country (Voters (vertical), Finalists (horizontal))  39 non-null     object\n",
      " 1   Albania                                              39 non-null     int64 \n",
      " 2   Azerbaijan                                           39 non-null     int64 \n",
      " 3   Belgium                                              39 non-null     int64 \n",
      " 4   Bulgaria                                             39 non-null     int64 \n",
      " 5   Cyprus                                               39 non-null     int64 \n",
      " 6   Finland                                              39 non-null     int64 \n",
      " 7   France                                               39 non-null     int64 \n",
      " 8   Germany                                              39 non-null     int64 \n",
      " 9   Greece                                               39 non-null     int64 \n",
      " 10  Iceland                                              39 non-null     int64 \n",
      " 11  Israel                                               39 non-null     int64 \n",
      " 12  Italy                                                39 non-null     int64 \n",
      " 13  Lithuania                                            39 non-null     int64 \n",
      " 14  Malta                                                39 non-null     int64 \n",
      " 15  Moldova                                              39 non-null     int64 \n",
      " 16  Netherlands                                          39 non-null     int64 \n",
      " 17  Norway                                               39 non-null     int64 \n",
      " 18  Portugal                                             39 non-null     int64 \n",
      " 19  Russia                                               39 non-null     int64 \n",
      " 20  San Marino                                           39 non-null     int64 \n",
      " 21  Serbia                                               39 non-null     int64 \n",
      " 22  Spain                                                39 non-null     int64 \n",
      " 23  Sweden                                               39 non-null     int64 \n",
      " 24  Switzerland                                          39 non-null     int64 \n",
      " 25  Ukraine                                              39 non-null     int64 \n",
      " 26  United Kingdom                                       39 non-null     int64 \n",
      "dtypes: int64(26), object(1)\n",
      "memory usage: 8.4+ KB\n"
     ]
    }
   ],
   "source": [
    "jury_df.info()"
   ]
  },
  {
   "cell_type": "code",
   "execution_count": 8,
   "metadata": {},
   "outputs": [
    {
     "data": {
      "text/plain": [
       "(39, 27)"
      ]
     },
     "execution_count": 8,
     "metadata": {},
     "output_type": "execute_result"
    }
   ],
   "source": [
    "jury_df.shape"
   ]
  },
  {
   "cell_type": "code",
   "execution_count": 9,
   "metadata": {},
   "outputs": [
    {
     "data": {
      "text/plain": [
       "Country (Voters (vertical), Finalists (horizontal))    39\n",
       "Albania                                                 5\n",
       "Azerbaijan                                              6\n",
       "Belgium                                                 7\n",
       "Bulgaria                                               10\n",
       "Cyprus                                                  8\n",
       "Finland                                                 9\n",
       "France                                                 10\n",
       "Germany                                                 3\n",
       "Greece                                                 10\n",
       "Iceland                                                10\n",
       "Israel                                                  9\n",
       "Italy                                                  10\n",
       "Lithuania                                               8\n",
       "Malta                                                  11\n",
       "Moldova                                                 6\n",
       "Netherlands                                             4\n",
       "Norway                                                  5\n",
       "Portugal                                                9\n",
       "Russia                                                 10\n",
       "San Marino                                              7\n",
       "Serbia                                                  4\n",
       "Spain                                                   3\n",
       "Sweden                                                  8\n",
       "Switzerland                                            11\n",
       "Ukraine                                                11\n",
       "United Kingdom                                          1\n",
       "dtype: int64"
      ]
     },
     "execution_count": 9,
     "metadata": {},
     "output_type": "execute_result"
    }
   ],
   "source": [
    "jury_df.nunique()"
   ]
  },
  {
   "cell_type": "code",
   "execution_count": 20,
   "metadata": {},
   "outputs": [],
   "source": [
    "### To Create the Simple report quickly\n",
    "Jury_Report= ProfileReport(jury_df, title=\"Judges Votes Report\",plot={\"histogram\":{\"bins\":10}},explorative=True)"
   ]
  },
  {
   "cell_type": "code",
   "execution_count": null,
   "metadata": {},
   "outputs": [],
   "source": [
    "# Jury_Report.to_widgets()\n"
   ]
  },
  {
   "cell_type": "code",
   "execution_count": 21,
   "metadata": {},
   "outputs": [
    {
     "data": {
      "application/vnd.jupyter.widget-view+json": {
       "model_id": "2e32dea0a1cc42c2a20d6d8b1bfed614",
       "version_major": 2,
       "version_minor": 0
      },
      "text/plain": [
       "Summarize dataset:   0%|          | 0/40 [00:00<?, ?it/s]"
      ]
     },
     "metadata": {},
     "output_type": "display_data"
    },
    {
     "data": {
      "application/vnd.jupyter.widget-view+json": {
       "model_id": "22e49c6491c94a5bbc6c999ad2901dea",
       "version_major": 2,
       "version_minor": 0
      },
      "text/plain": [
       "Generate report structure:   0%|          | 0/1 [00:00<?, ?it/s]"
      ]
     },
     "metadata": {},
     "output_type": "display_data"
    },
    {
     "data": {
      "application/vnd.jupyter.widget-view+json": {
       "model_id": "e4496c2a6d8642339a93b43896495094",
       "version_major": 2,
       "version_minor": 0
      },
      "text/plain": [
       "Render HTML:   0%|          | 0/1 [00:00<?, ?it/s]"
      ]
     },
     "metadata": {},
     "output_type": "display_data"
    },
    {
     "data": {
      "application/vnd.jupyter.widget-view+json": {
       "model_id": "ac763125fab6406bb0fab554d8ec64e5",
       "version_major": 2,
       "version_minor": 0
      },
      "text/plain": [
       "Export report to file:   0%|          | 0/1 [00:00<?, ?it/s]"
      ]
     },
     "metadata": {},
     "output_type": "display_data"
    }
   ],
   "source": [
    "Jury_Report.to_file(\"Jury_Report.html\")\n"
   ]
  },
  {
   "cell_type": "code",
   "execution_count": null,
   "metadata": {},
   "outputs": [],
   "source": [
    "# Jury_Report.to_notebook_iframe()"
   ]
  }
 ],
 "metadata": {
  "kernelspec": {
   "display_name": "Python 3",
   "language": "python",
   "name": "python3"
  },
  "language_info": {
   "codemirror_mode": {
    "name": "ipython",
    "version": 3
   },
   "file_extension": ".py",
   "mimetype": "text/x-python",
   "name": "python",
   "nbconvert_exporter": "python",
   "pygments_lexer": "ipython3",
   "version": "3.7.4"
  }
 },
 "nbformat": 4,
 "nbformat_minor": 2
}
