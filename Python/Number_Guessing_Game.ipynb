{
  "nbformat": 4,
  "nbformat_minor": 0,
  "metadata": {
    "colab": {
      "name": "Number_Guessing_Game",
      "provenance": []
    },
    "kernelspec": {
      "name": "python3",
      "display_name": "Python 3"
    },
    "language_info": {
      "name": "python"
    }
  },
  "cells": [
    {
      "cell_type": "markdown",
      "metadata": {
        "id": "AEaoO0YFebhM"
      },
      "source": [
        "# **TCR Innovation Python Project-1**\n",
        "# Number Guessing Game\n"
      ]
    },
    {
      "cell_type": "code",
      "metadata": {
        "id": "4Lbd1FuB-oMy",
        "colab": {
          "base_uri": "https://localhost:8080/"
        },
        "outputId": "f1613e02-56f4-4425-b18c-e4aa8edb5441"
      },
      "source": [
        "import random\n",
        "game = False\n",
        "player_score = 0\n",
        "\n",
        "\n",
        "def player_guess(player_score,range_start,range_end):\n",
        "    guess = 0\n",
        "    random_no = random.randint(range_start, range_end)\n",
        "    print(\"Computer generates a random number for a player to guess\")\n",
        "    while guess != random_no:\n",
        "        guess = int(input(f'Guess a number between {range_start} and {range_end}: '))\n",
        "        if guess > range_start and guess <= range_end:\n",
        "          if guess < random_no:\n",
        "              print(\"Try Again! You guessed too small\")\n",
        "              player_score = player_score + 1\n",
        "          elif guess > random_no:\n",
        "              print(\"Try Again! You guessed too high\")\n",
        "              player_score = player_score + 1\n",
        "          elif guess == random_no:\n",
        "              print(f\"You guessed correctly, the number is {guess}\")\n",
        "              player_score = player_score + 1\n",
        "              return player_score           \n",
        "        else:\n",
        "          print(\"Try Again! Number is not found in range\\n\")\n",
        "\n",
        "\n",
        "while game != True:\n",
        "    print(\"\\nGuessing Game\")\n",
        "    range_start=int(input(\"Enter Starting Range:\"))\n",
        "    range_end=int(input(\"Enter Ending Range:\"))\n",
        "    if range_start < range_end:\n",
        "      total_guess = player_guess(player_score,range_start,range_end)\n",
        "      print(f\"Total Number of Guesses = {total_guess}\")\n",
        "      response = input(\"Thanks for playing.  Play again? (y/n) :\")\n",
        "      if response == 'y':\n",
        "          game = False\n",
        "      elif response == 'n':\n",
        "          game = True\n",
        "          print(\"Bye..\")\n",
        "    else:\n",
        "      print(\"Try Again! Choose range correctly\\n\")"
      ],
      "execution_count": 1,
      "outputs": [
        {
          "output_type": "stream",
          "text": [
            "\n",
            "Guessing Game\n",
            "Enter Starting Range:1\n",
            "Enter Ending Range:100\n",
            "Computer generates a random number for a player to guess\n",
            "Guess a number between 1 and 100: 50\n",
            "Try Again! You guessed too high\n",
            "Guess a number between 1 and 100: 32\n",
            "Try Again! You guessed too high\n",
            "Guess a number between 1 and 100: 25\n",
            "Try Again! You guessed too high\n",
            "Guess a number between 1 and 100: 19\n",
            "Try Again! You guessed too high\n",
            "Guess a number between 1 and 100: 10\n",
            "Try Again! You guessed too high\n",
            "Guess a number between 1 and 100: 5\n",
            "Try Again! You guessed too small\n",
            "Guess a number between 1 and 100: 6\n",
            "Try Again! You guessed too small\n",
            "Guess a number between 1 and 100: 8\n",
            "Try Again! You guessed too high\n",
            "Guess a number between 1 and 100: 7\n",
            "You guessed correctly, the number is 7\n",
            "Total Number of Guesses = 9\n",
            "Thanks for playing.  Play again? (y/n) :n\n",
            "Bye..\n"
          ],
          "name": "stdout"
        }
      ]
    },
    {
      "cell_type": "code",
      "metadata": {
        "id": "-ApQ5fFlILtT"
      },
      "source": [
        ""
      ],
      "execution_count": null,
      "outputs": []
    }
  ]
}