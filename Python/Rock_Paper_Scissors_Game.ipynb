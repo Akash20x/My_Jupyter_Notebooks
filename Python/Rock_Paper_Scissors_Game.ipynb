{
  "nbformat": 4,
  "nbformat_minor": 0,
  "metadata": {
    "colab": {
      "name": "Rock_Paper_Scissors_Game.ipynb",
      "provenance": []
    },
    "kernelspec": {
      "name": "python3",
      "display_name": "Python 3"
    },
    "language_info": {
      "name": "python"
    }
  },
  "cells": [
    {
      "cell_type": "markdown",
      "metadata": {
        "id": "wcySAYKRfy1v"
      },
      "source": [
        "# **TCR Innovation Python Project-2**\n",
        "# Rock Paper Scissors\n"
      ]
    },
    {
      "cell_type": "code",
      "metadata": {
        "colab": {
          "base_uri": "https://localhost:8080/"
        },
        "id": "fTc74DSpOeXf",
        "outputId": "fdfeab92-787d-4380-fc57-f4172d209b43"
      },
      "source": [
        "import random\n",
        "game = 0\n",
        "score1 = 0\n",
        "score2 = 0\n",
        "\n",
        "def random_move():\n",
        "  choices = ['rock', 'paper', 'scissior']\n",
        "  system_move = random.choice(choices)\n",
        "  return system_move\n",
        "\n",
        "def is_valid(user_move):\n",
        "    move = user_move\n",
        "    if (move == 'r'):\n",
        "      move='rock'\n",
        "    if (move == 'p'):\n",
        "      move='paper'\n",
        "    if (move == 's'):\n",
        "      move='scissor'\n",
        "    if (move == 'rock') or  (move == 'paper') or (move == 'scissor'):\n",
        "      return move\n",
        "    else:\n",
        "      print('Please provide valid input.')\n",
        "\n",
        "def result(move,system_move,score1,score2):\n",
        "    if move == system_move:\n",
        "        print(f\"It's a tie round!\")\n",
        "    elif move == \"rock\":\n",
        "        if system_move == \"scissor\":\n",
        "            print(\"Rock smashed the scissors! You win this round!\")\n",
        "            score1 = score1 + 1\n",
        "        else:\n",
        "            print(\"Rock got covered by the Paper! You lose this round.\")\n",
        "            score2 = score2 + 1\n",
        "    elif move == \"paper\":\n",
        "        if system_move == \"rock\":\n",
        "            print(\"Paper covered the rock! You win this round!\")\n",
        "            score1 = score1 + 1\n",
        "        else:\n",
        "            print(\"The Scissors cuts paper ! You lose this round.\")\n",
        "            score2 = score2 + 1\n",
        "    elif move == \"scissor\":\n",
        "        if system_move == \"paper\":\n",
        "            print(\"Scissors cuts paper! You win this round!\")\n",
        "            score1 = score1 + 1\n",
        "        else:\n",
        "            print(\"Paper are smashed by Rock! You lose this round.\")\n",
        "            score2 = score2 + 1\n",
        "    return score1 , score2\n",
        "\n",
        "rounds = int(input(\"Enter no of rounds to play:\"))\n",
        "while game != rounds:\n",
        "  print(f\"\\nRound {game+1}\")\n",
        "  user_move = str(input(\"Enter your move rock(r) or paper(p) or scissor(s): \"))\n",
        "  move = is_valid(user_move)\n",
        "  system_move = random_move()\n",
        "  print(f'The system chooses {system_move} where as you choose {user_move}!')\n",
        "  score1, score2 = result(move,system_move,score1,score2)\n",
        "  game= game + 1\n",
        "  if game == rounds:\n",
        "    print(f\"\\nUser wins {score1} rounds and system wins {score2} rounds\")\n",
        "    if score1<score2:\n",
        "      print(\"System wins the game!\")\n",
        "    elif score1==score2:\n",
        "      print(\"It's a tie!\")\n",
        "    else:\n",
        "      print(\"User wins the game!\")\n",
        "\n"
      ],
      "execution_count": 2,
      "outputs": [
        {
          "output_type": "stream",
          "text": [
            "Enter no of rounds to play:5\n",
            "\n",
            "Round 1\n",
            "Enter your move rock(r) or paper(p) or scissor(s): rock\n",
            "The system chooses paper where as you choose rock!\n",
            "Rock got covered by the Paper! You lose this round.\n",
            "\n",
            "Round 2\n",
            "Enter your move rock(r) or paper(p) or scissor(s): paper\n",
            "The system chooses rock where as you choose paper!\n",
            "Paper covered the rock! You win this round!\n",
            "\n",
            "Round 3\n",
            "Enter your move rock(r) or paper(p) or scissor(s): s\n",
            "The system chooses paper where as you choose s!\n",
            "Scissors cuts paper! You win this round!\n",
            "\n",
            "Round 4\n",
            "Enter your move rock(r) or paper(p) or scissor(s): rock\n",
            "The system chooses paper where as you choose rock!\n",
            "Rock got covered by the Paper! You lose this round.\n",
            "\n",
            "Round 5\n",
            "Enter your move rock(r) or paper(p) or scissor(s): scissor\n",
            "The system chooses scissior where as you choose scissor!\n",
            "Paper are smashed by Rock! You lose this round.\n",
            "\n",
            "User wins 2 rounds and system wins 3 rounds\n",
            "System wins the game!\n"
          ],
          "name": "stdout"
        }
      ]
    },
    {
      "cell_type": "code",
      "metadata": {
        "id": "pOUGFk7nRk5w"
      },
      "source": [
        ""
      ],
      "execution_count": null,
      "outputs": []
    }
  ]
}