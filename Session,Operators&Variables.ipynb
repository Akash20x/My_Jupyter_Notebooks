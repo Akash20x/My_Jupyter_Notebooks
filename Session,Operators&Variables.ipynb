{
  "nbformat": 4,
  "nbformat_minor": 0,
  "metadata": {
    "colab": {
      "name": "Session, Operators & Variables.ipynb",
      "provenance": [],
      "authorship_tag": "ABX9TyP1beJ4JxmSkaD0INT2SbvS"
    },
    "kernelspec": {
      "name": "python3",
      "display_name": "Python 3"
    },
    "language_info": {
      "name": "python"
    }
  },
  "cells": [
    {
      "cell_type": "markdown",
      "metadata": {
        "id": "tC5BBvFjkfHs"
      },
      "source": [
        "#Importing Librarires "
      ]
    },
    {
      "cell_type": "code",
      "metadata": {
        "colab": {
          "base_uri": "https://localhost:8080/"
        },
        "id": "P34uEk_tLluF",
        "outputId": "df510052-fa60-44ea-e45f-911c49a482ef"
      },
      "source": [
        "import tensorflow.compat.v1 as tf\n",
        "tf.disable_v2_behavior()"
      ],
      "execution_count": 4,
      "outputs": [
        {
          "output_type": "stream",
          "text": [
            "WARNING:tensorflow:From /usr/local/lib/python3.7/dist-packages/tensorflow/python/compat/v2_compat.py:96: disable_resource_variables (from tensorflow.python.ops.variable_scope) is deprecated and will be removed in a future version.\n",
            "Instructions for updating:\n",
            "non-resource variables are not supported in the long term\n"
          ],
          "name": "stdout"
        }
      ]
    },
    {
      "cell_type": "code",
      "metadata": {
        "id": "sJW6cOSwbU0_"
      },
      "source": [
        "graph = tf.Graph() # Create a dataflow graph"
      ],
      "execution_count": 10,
      "outputs": []
    },
    {
      "cell_type": "code",
      "metadata": {
        "colab": {
          "base_uri": "https://localhost:8080/"
        },
        "id": "0mId9-tijXXc",
        "outputId": "3b69ed69-f2d7-40fd-b365-c98326441e97"
      },
      "source": [
        "with graph.as_default() as graph:\n",
        "    a = tf.constant(1)\n",
        "    b = tf.constant(2)\n",
        "    c = a + b\n",
        "    print(a) # Tensor(\"Const:0\", shape=(), dtype=int32)\n",
        "    print(b) # Tensor(\"Const_1:0\", shape=(), dtype=int32)\n",
        "    print(c) # Tensor(\"add:0\", shape=(), dtype=int32)"
      ],
      "execution_count": 11,
      "outputs": [
        {
          "output_type": "stream",
          "text": [
            "Tensor(\"Const:0\", shape=(), dtype=int32)\n",
            "Tensor(\"Const_1:0\", shape=(), dtype=int32)\n",
            "Tensor(\"add:0\", shape=(), dtype=int32)\n"
          ],
          "name": "stdout"
        }
      ]
    },
    {
      "cell_type": "markdown",
      "metadata": {
        "id": "9tYy5U7Kju9k"
      },
      "source": [
        " # Loaded the graph\n",
        "Rrun the graph and the whole graph\n",
        "that is run the tensors or operations in the graph\n",
        "had gain access to lazy and partial evaluation\n",
        "explicitly by asking about a tensor or operation\n",
        "in the graph\n",
        "\n",
        "An tensor is evaluated , it will get back the values\n",
        "if you evaluate an operation, you will get back None\n",
        "if you were using tf.Variable as well here is where you initialise them\n",
        "tf.global_variables_initializer() is an operation\n",
        "but it's not defined as part of the graph\n",
        "instead it represents the initial feed of variable values\n",
        "into the variable operations and tensors of the graph\n",
        "we do not have references to the operations\n",
        "we have to get it from the graph"
      ]
    },
    {
      "cell_type": "code",
      "metadata": {
        "colab": {
          "base_uri": "https://localhost:8080/"
        },
        "id": "h_VYhqanjqK8",
        "outputId": "5d5ca559-8037-4abd-8d3b-d7ef5c1d5107"
      },
      "source": [
        "with tf.Session(graph=graph) as sess:\n",
        "    sess.run(tf.global_variables_initializer())\n",
        "\n",
        "    c_result = sess.run(c)\n",
        "\n",
        "    print(c_result) # 3\n",
        "\n",
        "    add_result = sess.run(sess.graph.get_operation_by_name('add'))\n",
        "\n",
        "    print(add_result)\n",
        "\n",
        "    # you can also get tensors by name if you don't have a reference\n",
        "    b_result = sess.run(sess.graph.get_tensor_by_name('Const_1:0'))\n",
        "\n",
        "    print(b_result) # 2"
      ],
      "execution_count": 13,
      "outputs": [
        {
          "output_type": "stream",
          "text": [
            "3\n",
            "None\n",
            "2\n"
          ],
          "name": "stdout"
        }
      ]
    },
    {
      "cell_type": "markdown",
      "metadata": {
        "id": "2X5_xL5oklOo"
      },
      "source": [
        "Printing \"Hello World\" Program "
      ]
    },
    {
      "cell_type": "code",
      "metadata": {
        "colab": {
          "base_uri": "https://localhost:8080/"
        },
        "id": "VWIif6VUOAqI",
        "outputId": "929a1071-3f57-4bb6-8def-d037378a86d9"
      },
      "source": [
        "x = tf.placeholder(tf.string)\n",
        "\n",
        "with tf.Session() as sess:\n",
        "    output = sess.run(x, feed_dict={x: 'Hello World'})\n",
        "    print(output)"
      ],
      "execution_count": 6,
      "outputs": [
        {
          "output_type": "stream",
          "text": [
            "Hello World\n"
          ],
          "name": "stdout"
        }
      ]
    },
    {
      "cell_type": "code",
      "metadata": {
        "colab": {
          "base_uri": "https://localhost:8080/"
        },
        "id": "xtAwbwb9bRiE",
        "outputId": "ba0f482b-d63e-46ce-dca1-ab39809074d6"
      },
      "source": [
        "x = tf.placeholder(tf.string)\n",
        "y = tf.placeholder(tf.int32)\n",
        "z = tf.placeholder(tf.float32)\n",
        "\n",
        "with tf.Session() as sess:\n",
        "    output_x = sess.run(x, feed_dict={x: 'Test String', y: 123, z: 45.67})\n",
        "    output_y = sess.run(y, feed_dict={x: 'Test String', y: 123, z:45.67})\n",
        "    print(output_x)\n",
        "    print(output_y)"
      ],
      "execution_count": 7,
      "outputs": [
        {
          "output_type": "stream",
          "text": [
            "Test String\n",
            "123\n"
          ],
          "name": "stdout"
        }
      ]
    }
  ]
}