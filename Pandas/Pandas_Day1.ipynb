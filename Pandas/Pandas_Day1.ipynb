{
  "nbformat": 4,
  "nbformat_minor": 5,
  "metadata": {
    "kernelspec": {
      "display_name": "Python 3",
      "language": "python",
      "name": "python3"
    },
    "language_info": {
      "codemirror_mode": {
        "name": "ipython",
        "version": 3
      },
      "file_extension": ".py",
      "mimetype": "text/x-python",
      "name": "python",
      "nbconvert_exporter": "python",
      "pygments_lexer": "ipython3",
      "version": "3.8.8"
    },
    "colab": {
      "name": "Pandas Day1.ipynb",
      "provenance": []
    }
  },
  "cells": [
    {
      "cell_type": "markdown",
      "metadata": {
        "id": "fcaf4398"
      },
      "source": [
        "# PANDAS"
      ],
      "id": "fcaf4398"
    },
    {
      "cell_type": "code",
      "metadata": {
        "id": "1096da61"
      },
      "source": [
        "import pandas as pd"
      ],
      "id": "1096da61",
      "execution_count": 1,
      "outputs": []
    },
    {
      "cell_type": "code",
      "metadata": {
        "colab": {
          "base_uri": "https://localhost:8080/"
        },
        "id": "43d3111c",
        "outputId": "6ec151fa-e920-4492-ba8a-97a28f5c0619"
      },
      "source": [
        "XYZ_web ={\"Day\":[1,2,3,4,5,6],\"Visitors\":[1000,700,600,400,1000,350],\"Bounce_Rate\":[20,20,23,15,10,34]}\n",
        "df=pd.DataFrame(XYZ_web)\n",
        "print(df)"
      ],
      "id": "43d3111c",
      "execution_count": 2,
      "outputs": [
        {
          "output_type": "stream",
          "text": [
            "   Day  Visitors  Bounce_Rate\n",
            "0    1      1000           20\n",
            "1    2       700           20\n",
            "2    3       600           23\n",
            "3    4       400           15\n",
            "4    5      1000           10\n",
            "5    6       350           34\n"
          ],
          "name": "stdout"
        }
      ]
    },
    {
      "cell_type": "code",
      "metadata": {
        "colab": {
          "base_uri": "https://localhost:8080/"
        },
        "id": "fc299658",
        "outputId": "7a03cc9d-b262-4c05-f431-12f763145422"
      },
      "source": [
        "print(df.head(2))"
      ],
      "id": "fc299658",
      "execution_count": 3,
      "outputs": [
        {
          "output_type": "stream",
          "text": [
            "   Day  Visitors  Bounce_Rate\n",
            "0    1      1000           20\n",
            "1    2       700           20\n"
          ],
          "name": "stdout"
        }
      ]
    },
    {
      "cell_type": "code",
      "metadata": {
        "colab": {
          "base_uri": "https://localhost:8080/"
        },
        "id": "1f2f160f",
        "outputId": "fae07e1e-2e60-4333-c5c4-55e576d72b6d"
      },
      "source": [
        "print(df.tail(3))"
      ],
      "id": "1f2f160f",
      "execution_count": 4,
      "outputs": [
        {
          "output_type": "stream",
          "text": [
            "   Day  Visitors  Bounce_Rate\n",
            "3    4       400           15\n",
            "4    5      1000           10\n",
            "5    6       350           34\n"
          ],
          "name": "stdout"
        }
      ]
    },
    {
      "cell_type": "markdown",
      "metadata": {
        "id": "d75b3955"
      },
      "source": [
        "MERGING AND JOINING"
      ],
      "id": "d75b3955"
    },
    {
      "cell_type": "markdown",
      "metadata": {
        "id": "0f5859e0"
      },
      "source": [
        "MERGING"
      ],
      "id": "0f5859e0"
    },
    {
      "cell_type": "code",
      "metadata": {
        "colab": {
          "base_uri": "https://localhost:8080/"
        },
        "id": "941a61bd",
        "outputId": "f9c0bc73-cb0b-4424-fd05-0c812ed15135"
      },
      "source": [
        "df1=pd.DataFrame({\"HPI\":[80,70,90,60],\"Int_rate\":[2,1,2,3],\"IND_GDP\":[50,45,45,67]},index=[2001,2002,2003,2004])\n",
        "df2=pd.DataFrame({\"HPI\":[80,70,90,60],\"Int_rate\":[2,1,2,3],\"IND_GDP\":[50,45,45,67]},index=[2005,2006,2007,2008])\n",
        "merged=pd.merge(df1,df2)\n",
        "print(merged)"
      ],
      "id": "941a61bd",
      "execution_count": 5,
      "outputs": [
        {
          "output_type": "stream",
          "text": [
            "   HPI  Int_rate  IND_GDP\n",
            "0   80         2       50\n",
            "1   70         1       45\n",
            "2   90         2       45\n",
            "3   60         3       67\n"
          ],
          "name": "stdout"
        }
      ]
    },
    {
      "cell_type": "code",
      "metadata": {
        "colab": {
          "base_uri": "https://localhost:8080/"
        },
        "id": "b06d50a8",
        "outputId": "cf0e7ff8-33c7-49f9-c6f1-9156183bad8f"
      },
      "source": [
        "df1=pd.DataFrame({\"HPI\":[80,70,90,60],\"Int_rate\":[2,1,2,3],\"IND_GDP\":[50,45,45,67]},index=[2001,2002,2003,2004])\n",
        "df2=pd.DataFrame({\"HPI\":[80,70,90,60],\"Int_rate\":[2,1,2,3],\"IND_GDP\":[51,45,45,67]},index=[2005,2006,2007,2008])\n",
        "merged=pd.merge(df1,df2)\n",
        "print(merged)"
      ],
      "id": "b06d50a8",
      "execution_count": 6,
      "outputs": [
        {
          "output_type": "stream",
          "text": [
            "   HPI  Int_rate  IND_GDP\n",
            "0   70         1       45\n",
            "1   90         2       45\n",
            "2   60         3       67\n"
          ],
          "name": "stdout"
        }
      ]
    },
    {
      "cell_type": "code",
      "metadata": {
        "id": "c4da2119",
        "colab": {
          "base_uri": "https://localhost:8080/"
        },
        "outputId": "85bc1172-b63f-4d25-e3bb-5909c7d95a80"
      },
      "source": [
        "df1=pd.DataFrame({\"HPI\":[80,70,90,60],\"Int_rate\":[2,1,2,3],\"IND_GDP\":[50,45,45,67]},index=[2001,2002,2003,2004])\n",
        "df2=pd.DataFrame({\"HPI\":[80,70,90,60],\"Int_rate\":[3,1,2,3],\"IND_GDP\":[50,45,45,67]},index=[2005,2006,2007,2008])\n",
        "merged=pd.merge(df1,df2,on =\"HPI\")\n",
        "print(merged)"
      ],
      "id": "c4da2119",
      "execution_count": 7,
      "outputs": [
        {
          "output_type": "stream",
          "text": [
            "   HPI  Int_rate_x  IND_GDP_x  Int_rate_y  IND_GDP_y\n",
            "0   80           2         50           3         50\n",
            "1   70           1         45           1         45\n",
            "2   90           2         45           2         45\n",
            "3   60           3         67           3         67\n"
          ],
          "name": "stdout"
        }
      ]
    },
    {
      "cell_type": "markdown",
      "metadata": {
        "id": "da9599e4"
      },
      "source": [
        "Join"
      ],
      "id": "da9599e4"
    },
    {
      "cell_type": "code",
      "metadata": {
        "id": "daffe2de",
        "colab": {
          "base_uri": "https://localhost:8080/"
        },
        "outputId": "62660090-1fa5-4611-c931-63aba87edd2b"
      },
      "source": [
        "df1=pd.DataFrame({\"HPI\":[80,70,90,60],\"Int_rate\":[2,1,2,3],\"IND_GDP\":[50,45,45,67]},index=[2001,2002,2005,2004])\n",
        "df2=pd.DataFrame({\"Low_Tier_HPI\":[50,45,67,34],\"Unemployment\":[1,3,5,6]},index=[2001,2003,2004,2004])\n",
        "joined=df1.join(df2)\n",
        "print(joined)"
      ],
      "id": "daffe2de",
      "execution_count": 8,
      "outputs": [
        {
          "output_type": "stream",
          "text": [
            "      HPI  Int_rate  IND_GDP  Low_Tier_HPI  Unemployment\n",
            "2001   80         2       50          50.0           1.0\n",
            "2002   70         1       45           NaN           NaN\n",
            "2004   60         3       67          67.0           5.0\n",
            "2004   60         3       67          34.0           6.0\n",
            "2005   90         2       45           NaN           NaN\n"
          ],
          "name": "stdout"
        }
      ]
    },
    {
      "cell_type": "markdown",
      "metadata": {
        "id": "e0841574"
      },
      "source": [
        "CONCAT"
      ],
      "id": "e0841574"
    },
    {
      "cell_type": "code",
      "metadata": {
        "id": "0b572426",
        "colab": {
          "base_uri": "https://localhost:8080/"
        },
        "outputId": "59654eaa-c1f9-4a43-e040-97a8b712afa4"
      },
      "source": [
        "df1=pd.DataFrame({\"HPI\":[80,70,90,60],\"Int_rate\":[2,1,2,3],\"IND_GDP\":[50,45,45,67]},index=[2001,2002,2003,2004])\n",
        "df2=pd.DataFrame({\"HPI\":[80,70,90,60],\"Int_rate\":[2,1,2,3],\"IND_GDP\":[51,45,45,67]},index=[2005,2006,2007,2008])\n",
        "concatenated=pd.concat([df1,df2])\n",
        "print(concatenated)"
      ],
      "id": "0b572426",
      "execution_count": 9,
      "outputs": [
        {
          "output_type": "stream",
          "text": [
            "      HPI  Int_rate  IND_GDP\n",
            "2001   80         2       50\n",
            "2002   70         1       45\n",
            "2003   90         2       45\n",
            "2004   60         3       67\n",
            "2005   80         2       51\n",
            "2006   70         1       45\n",
            "2007   90         2       45\n",
            "2008   60         3       67\n"
          ],
          "name": "stdout"
        }
      ]
    },
    {
      "cell_type": "code",
      "metadata": {
        "id": "71de9008",
        "colab": {
          "base_uri": "https://localhost:8080/"
        },
        "outputId": "f6c20b77-ee5f-4c20-a78b-d6276c231829"
      },
      "source": [
        "df1=pd.DataFrame({\"HPI\":[80,70,90,60],\"Int_rate\":[2,1,2,3],\"IND_GDP\":[50,45,45,67]},index=[2001,2002,2003,2004])\n",
        "df2=pd.DataFrame({\"HPI\":[80,70,90,60],\"Int_rate\":[2,1,2,3],\"IND_GDP\":[51,45,45,67]},index=[2005,2006,2007,2008])\n",
        "concatenated=pd.concat([df1,df2],axis=1)\n",
        "print(concatenated)"
      ],
      "id": "71de9008",
      "execution_count": 10,
      "outputs": [
        {
          "output_type": "stream",
          "text": [
            "       HPI  Int_rate  IND_GDP   HPI  Int_rate  IND_GDP\n",
            "2001  80.0       2.0     50.0   NaN       NaN      NaN\n",
            "2002  70.0       1.0     45.0   NaN       NaN      NaN\n",
            "2003  90.0       2.0     45.0   NaN       NaN      NaN\n",
            "2004  60.0       3.0     67.0   NaN       NaN      NaN\n",
            "2005   NaN       NaN      NaN  80.0       2.0     51.0\n",
            "2006   NaN       NaN      NaN  70.0       1.0     45.0\n",
            "2007   NaN       NaN      NaN  90.0       2.0     45.0\n",
            "2008   NaN       NaN      NaN  60.0       3.0     67.0\n"
          ],
          "name": "stdout"
        }
      ]
    },
    {
      "cell_type": "markdown",
      "metadata": {
        "id": "c3a77da2"
      },
      "source": [
        "Changing the index"
      ],
      "id": "c3a77da2"
    },
    {
      "cell_type": "code",
      "metadata": {
        "id": "65a29566",
        "colab": {
          "base_uri": "https://localhost:8080/"
        },
        "outputId": "ea5c0f1b-41fc-4ae6-d4ef-012ab8d74d30"
      },
      "source": [
        "XYZ_web ={\"Day\":[1,2,3,4,5,6],\"Visitors\":[1000,700,600,400,1000,350],\"Bounce_Rate\":[20,20,23,15,10,34]}\n",
        "df=pd.DataFrame(XYZ_web)\n",
        "df.set_index(\"Day\",inplace=True)\n",
        "print(df)"
      ],
      "id": "65a29566",
      "execution_count": 11,
      "outputs": [
        {
          "output_type": "stream",
          "text": [
            "     Visitors  Bounce_Rate\n",
            "Day                       \n",
            "1        1000           20\n",
            "2         700           20\n",
            "3         600           23\n",
            "4         400           15\n",
            "5        1000           10\n",
            "6         350           34\n"
          ],
          "name": "stdout"
        }
      ]
    },
    {
      "cell_type": "markdown",
      "metadata": {
        "id": "85ae7c06"
      },
      "source": [
        "Changing the Column Headers"
      ],
      "id": "85ae7c06"
    },
    {
      "cell_type": "code",
      "metadata": {
        "id": "b5b55c4e",
        "colab": {
          "base_uri": "https://localhost:8080/"
        },
        "outputId": "1993f615-ddf9-49df-b8b7-999754383305"
      },
      "source": [
        "XYZ_web ={\"Day\":[1,2,3,4,5,6],\"Visitors\":[1000,700,600,400,1000,350],\"Bounce_Rate\":[20,20,23,15,10,34]}\n",
        "df=pd.DataFrame(XYZ_web)\n",
        "df=df.rename(columns={\"Visitors\":\"Users\"})\n",
        "print(df)"
      ],
      "id": "b5b55c4e",
      "execution_count": 12,
      "outputs": [
        {
          "output_type": "stream",
          "text": [
            "   Day  Users  Bounce_Rate\n",
            "0    1   1000           20\n",
            "1    2    700           20\n",
            "2    3    600           23\n",
            "3    4    400           15\n",
            "4    5   1000           10\n",
            "5    6    350           34\n"
          ],
          "name": "stdout"
        }
      ]
    },
    {
      "cell_type": "code",
      "metadata": {
        "id": "g_uek7smVU6b"
      },
      "source": [
        ""
      ],
      "id": "g_uek7smVU6b",
      "execution_count": 12,
      "outputs": []
    },
    {
      "cell_type": "code",
      "metadata": {
        "colab": {
          "base_uri": "https://localhost:8080/",
          "height": 234
        },
        "id": "kx1VvnVEVcfM",
        "outputId": "8361d0a6-7985-4122-9c23-7cb806db4401"
      },
      "source": [
        "df"
      ],
      "id": "kx1VvnVEVcfM",
      "execution_count": 13,
      "outputs": [
        {
          "output_type": "execute_result",
          "data": {
            "text/html": [
              "<div>\n",
              "<style scoped>\n",
              "    .dataframe tbody tr th:only-of-type {\n",
              "        vertical-align: middle;\n",
              "    }\n",
              "\n",
              "    .dataframe tbody tr th {\n",
              "        vertical-align: top;\n",
              "    }\n",
              "\n",
              "    .dataframe thead th {\n",
              "        text-align: right;\n",
              "    }\n",
              "</style>\n",
              "<table border=\"1\" class=\"dataframe\">\n",
              "  <thead>\n",
              "    <tr style=\"text-align: right;\">\n",
              "      <th></th>\n",
              "      <th>Day</th>\n",
              "      <th>Users</th>\n",
              "      <th>Bounce_Rate</th>\n",
              "    </tr>\n",
              "  </thead>\n",
              "  <tbody>\n",
              "    <tr>\n",
              "      <th>0</th>\n",
              "      <td>1</td>\n",
              "      <td>1000</td>\n",
              "      <td>20</td>\n",
              "    </tr>\n",
              "    <tr>\n",
              "      <th>1</th>\n",
              "      <td>2</td>\n",
              "      <td>700</td>\n",
              "      <td>20</td>\n",
              "    </tr>\n",
              "    <tr>\n",
              "      <th>2</th>\n",
              "      <td>3</td>\n",
              "      <td>600</td>\n",
              "      <td>23</td>\n",
              "    </tr>\n",
              "    <tr>\n",
              "      <th>3</th>\n",
              "      <td>4</td>\n",
              "      <td>400</td>\n",
              "      <td>15</td>\n",
              "    </tr>\n",
              "    <tr>\n",
              "      <th>4</th>\n",
              "      <td>5</td>\n",
              "      <td>1000</td>\n",
              "      <td>10</td>\n",
              "    </tr>\n",
              "    <tr>\n",
              "      <th>5</th>\n",
              "      <td>6</td>\n",
              "      <td>350</td>\n",
              "      <td>34</td>\n",
              "    </tr>\n",
              "  </tbody>\n",
              "</table>\n",
              "</div>"
            ],
            "text/plain": [
              "   Day  Users  Bounce_Rate\n",
              "0    1   1000           20\n",
              "1    2    700           20\n",
              "2    3    600           23\n",
              "3    4    400           15\n",
              "4    5   1000           10\n",
              "5    6    350           34"
            ]
          },
          "metadata": {
            "tags": []
          },
          "execution_count": 13
        }
      ]
    },
    {
      "cell_type": "code",
      "metadata": {
        "id": "vX6vOrhMV3P7"
      },
      "source": [
        ""
      ],
      "id": "vX6vOrhMV3P7",
      "execution_count": 13,
      "outputs": []
    },
    {
      "cell_type": "code",
      "metadata": {
        "id": "JwdsejodeUBw"
      },
      "source": [
        "import numpy as np"
      ],
      "id": "JwdsejodeUBw",
      "execution_count": 68,
      "outputs": []
    },
    {
      "cell_type": "code",
      "metadata": {
        "id": "p8j4Fl--bEmO"
      },
      "source": [
        "XYZ_web ={\"Day\":[1,2,3,4,5,6],\"Visitors\":[1000,700,600,400,np.nan,350],\"Bounce_Rate\":[20,20,23,15,10,34]}\n",
        "df=pd.DataFrame(XYZ_web)"
      ],
      "id": "p8j4Fl--bEmO",
      "execution_count": 69,
      "outputs": []
    },
    {
      "cell_type": "code",
      "metadata": {
        "colab": {
          "base_uri": "https://localhost:8080/",
          "height": 203
        },
        "id": "LVJmfpl2VdQ9",
        "outputId": "c2312103-c21f-427d-83c1-6661f8dfd3e4"
      },
      "source": [
        "df.head()"
      ],
      "id": "LVJmfpl2VdQ9",
      "execution_count": 70,
      "outputs": [
        {
          "output_type": "execute_result",
          "data": {
            "text/html": [
              "<div>\n",
              "<style scoped>\n",
              "    .dataframe tbody tr th:only-of-type {\n",
              "        vertical-align: middle;\n",
              "    }\n",
              "\n",
              "    .dataframe tbody tr th {\n",
              "        vertical-align: top;\n",
              "    }\n",
              "\n",
              "    .dataframe thead th {\n",
              "        text-align: right;\n",
              "    }\n",
              "</style>\n",
              "<table border=\"1\" class=\"dataframe\">\n",
              "  <thead>\n",
              "    <tr style=\"text-align: right;\">\n",
              "      <th></th>\n",
              "      <th>Day</th>\n",
              "      <th>Visitors</th>\n",
              "      <th>Bounce_Rate</th>\n",
              "    </tr>\n",
              "  </thead>\n",
              "  <tbody>\n",
              "    <tr>\n",
              "      <th>0</th>\n",
              "      <td>1</td>\n",
              "      <td>1000.0</td>\n",
              "      <td>20</td>\n",
              "    </tr>\n",
              "    <tr>\n",
              "      <th>1</th>\n",
              "      <td>2</td>\n",
              "      <td>700.0</td>\n",
              "      <td>20</td>\n",
              "    </tr>\n",
              "    <tr>\n",
              "      <th>2</th>\n",
              "      <td>3</td>\n",
              "      <td>600.0</td>\n",
              "      <td>23</td>\n",
              "    </tr>\n",
              "    <tr>\n",
              "      <th>3</th>\n",
              "      <td>4</td>\n",
              "      <td>400.0</td>\n",
              "      <td>15</td>\n",
              "    </tr>\n",
              "    <tr>\n",
              "      <th>4</th>\n",
              "      <td>5</td>\n",
              "      <td>NaN</td>\n",
              "      <td>10</td>\n",
              "    </tr>\n",
              "  </tbody>\n",
              "</table>\n",
              "</div>"
            ],
            "text/plain": [
              "   Day  Visitors  Bounce_Rate\n",
              "0    1    1000.0           20\n",
              "1    2     700.0           20\n",
              "2    3     600.0           23\n",
              "3    4     400.0           15\n",
              "4    5       NaN           10"
            ]
          },
          "metadata": {
            "tags": []
          },
          "execution_count": 70
        }
      ]
    },
    {
      "cell_type": "code",
      "metadata": {
        "id": "9b91bc38",
        "colab": {
          "base_uri": "https://localhost:8080/"
        },
        "outputId": "edba2e33-7846-4d45-f93e-109265d1aa1a"
      },
      "source": [
        "df['Bounce_Rate'].max()"
      ],
      "id": "9b91bc38",
      "execution_count": 71,
      "outputs": [
        {
          "output_type": "execute_result",
          "data": {
            "text/plain": [
              "34"
            ]
          },
          "metadata": {
            "tags": []
          },
          "execution_count": 71
        }
      ]
    },
    {
      "cell_type": "code",
      "metadata": {
        "colab": {
          "base_uri": "https://localhost:8080/",
          "height": 80
        },
        "id": "tb3H7jEEZ9k6",
        "outputId": "e30360c8-fe2b-47a4-82c7-61c7158f9a13"
      },
      "source": [
        "df['Day'][df['Visitors'] == 600].reset_index().drop(columns=['index'])\n"
      ],
      "id": "tb3H7jEEZ9k6",
      "execution_count": 72,
      "outputs": [
        {
          "output_type": "execute_result",
          "data": {
            "text/html": [
              "<div>\n",
              "<style scoped>\n",
              "    .dataframe tbody tr th:only-of-type {\n",
              "        vertical-align: middle;\n",
              "    }\n",
              "\n",
              "    .dataframe tbody tr th {\n",
              "        vertical-align: top;\n",
              "    }\n",
              "\n",
              "    .dataframe thead th {\n",
              "        text-align: right;\n",
              "    }\n",
              "</style>\n",
              "<table border=\"1\" class=\"dataframe\">\n",
              "  <thead>\n",
              "    <tr style=\"text-align: right;\">\n",
              "      <th></th>\n",
              "      <th>Day</th>\n",
              "    </tr>\n",
              "  </thead>\n",
              "  <tbody>\n",
              "    <tr>\n",
              "      <th>0</th>\n",
              "      <td>3</td>\n",
              "    </tr>\n",
              "  </tbody>\n",
              "</table>\n",
              "</div>"
            ],
            "text/plain": [
              "   Day\n",
              "0    3"
            ]
          },
          "metadata": {
            "tags": []
          },
          "execution_count": 72
        }
      ]
    },
    {
      "cell_type": "code",
      "metadata": {
        "id": "XL5QqjHSaOkc"
      },
      "source": [
        "df.fillna(0, inplace=True)\n"
      ],
      "id": "XL5QqjHSaOkc",
      "execution_count": 78,
      "outputs": []
    },
    {
      "cell_type": "code",
      "metadata": {
        "colab": {
          "base_uri": "https://localhost:8080/",
          "height": 203
        },
        "id": "RqtTJg6pUBnO",
        "outputId": "af59b056-34cd-4343-cb94-f86aba6a77c4"
      },
      "source": [
        "df.head()"
      ],
      "id": "RqtTJg6pUBnO",
      "execution_count": 80,
      "outputs": [
        {
          "output_type": "execute_result",
          "data": {
            "text/html": [
              "<div>\n",
              "<style scoped>\n",
              "    .dataframe tbody tr th:only-of-type {\n",
              "        vertical-align: middle;\n",
              "    }\n",
              "\n",
              "    .dataframe tbody tr th {\n",
              "        vertical-align: top;\n",
              "    }\n",
              "\n",
              "    .dataframe thead th {\n",
              "        text-align: right;\n",
              "    }\n",
              "</style>\n",
              "<table border=\"1\" class=\"dataframe\">\n",
              "  <thead>\n",
              "    <tr style=\"text-align: right;\">\n",
              "      <th></th>\n",
              "      <th>Day</th>\n",
              "      <th>Visitors</th>\n",
              "      <th>Bounce_Rate</th>\n",
              "    </tr>\n",
              "  </thead>\n",
              "  <tbody>\n",
              "    <tr>\n",
              "      <th>0</th>\n",
              "      <td>1</td>\n",
              "      <td>1000.0</td>\n",
              "      <td>20</td>\n",
              "    </tr>\n",
              "    <tr>\n",
              "      <th>1</th>\n",
              "      <td>2</td>\n",
              "      <td>700.0</td>\n",
              "      <td>20</td>\n",
              "    </tr>\n",
              "    <tr>\n",
              "      <th>2</th>\n",
              "      <td>3</td>\n",
              "      <td>600.0</td>\n",
              "      <td>23</td>\n",
              "    </tr>\n",
              "    <tr>\n",
              "      <th>3</th>\n",
              "      <td>4</td>\n",
              "      <td>400.0</td>\n",
              "      <td>15</td>\n",
              "    </tr>\n",
              "    <tr>\n",
              "      <th>4</th>\n",
              "      <td>5</td>\n",
              "      <td>0.0</td>\n",
              "      <td>10</td>\n",
              "    </tr>\n",
              "  </tbody>\n",
              "</table>\n",
              "</div>"
            ],
            "text/plain": [
              "   Day  Visitors  Bounce_Rate\n",
              "0    1    1000.0           20\n",
              "1    2     700.0           20\n",
              "2    3     600.0           23\n",
              "3    4     400.0           15\n",
              "4    5       0.0           10"
            ]
          },
          "metadata": {
            "tags": []
          },
          "execution_count": 80
        }
      ]
    },
    {
      "cell_type": "code",
      "metadata": {
        "colab": {
          "base_uri": "https://localhost:8080/"
        },
        "id": "LROYQG4ge7U7",
        "outputId": "0e13e07f-3a2b-459b-8d29-ec1a86b4d75b"
      },
      "source": [
        "round(df['Visitors'].mean(),2)"
      ],
      "id": "LROYQG4ge7U7",
      "execution_count": 92,
      "outputs": [
        {
          "output_type": "execute_result",
          "data": {
            "text/plain": [
              "508.33"
            ]
          },
          "metadata": {
            "tags": []
          },
          "execution_count": 92
        }
      ]
    },
    {
      "cell_type": "code",
      "metadata": {
        "colab": {
          "base_uri": "https://localhost:8080/"
        },
        "id": "IEE3uzHXgOrw",
        "outputId": "61a71951-f35a-45d5-a30f-29a7427f95f5"
      },
      "source": [
        "df.columns"
      ],
      "id": "IEE3uzHXgOrw",
      "execution_count": 93,
      "outputs": [
        {
          "output_type": "execute_result",
          "data": {
            "text/plain": [
              "Index(['Day', 'Visitors', 'Bounce_Rate'], dtype='object')"
            ]
          },
          "metadata": {
            "tags": []
          },
          "execution_count": 93
        }
      ]
    },
    {
      "cell_type": "code",
      "metadata": {
        "colab": {
          "base_uri": "https://localhost:8080/",
          "height": 142
        },
        "id": "cHadyfuJgP8a",
        "outputId": "d043980d-f2b2-43e1-fdba-a96428d4c02d"
      },
      "source": [
        "df[0:3]\n"
      ],
      "id": "cHadyfuJgP8a",
      "execution_count": 96,
      "outputs": [
        {
          "output_type": "execute_result",
          "data": {
            "text/html": [
              "<div>\n",
              "<style scoped>\n",
              "    .dataframe tbody tr th:only-of-type {\n",
              "        vertical-align: middle;\n",
              "    }\n",
              "\n",
              "    .dataframe tbody tr th {\n",
              "        vertical-align: top;\n",
              "    }\n",
              "\n",
              "    .dataframe thead th {\n",
              "        text-align: right;\n",
              "    }\n",
              "</style>\n",
              "<table border=\"1\" class=\"dataframe\">\n",
              "  <thead>\n",
              "    <tr style=\"text-align: right;\">\n",
              "      <th></th>\n",
              "      <th>Day</th>\n",
              "      <th>Visitors</th>\n",
              "      <th>Bounce_Rate</th>\n",
              "    </tr>\n",
              "  </thead>\n",
              "  <tbody>\n",
              "    <tr>\n",
              "      <th>0</th>\n",
              "      <td>1</td>\n",
              "      <td>1000.0</td>\n",
              "      <td>20</td>\n",
              "    </tr>\n",
              "    <tr>\n",
              "      <th>1</th>\n",
              "      <td>2</td>\n",
              "      <td>700.0</td>\n",
              "      <td>20</td>\n",
              "    </tr>\n",
              "    <tr>\n",
              "      <th>2</th>\n",
              "      <td>3</td>\n",
              "      <td>600.0</td>\n",
              "      <td>23</td>\n",
              "    </tr>\n",
              "  </tbody>\n",
              "</table>\n",
              "</div>"
            ],
            "text/plain": [
              "   Day  Visitors  Bounce_Rate\n",
              "0    1    1000.0           20\n",
              "1    2     700.0           20\n",
              "2    3     600.0           23"
            ]
          },
          "metadata": {
            "tags": []
          },
          "execution_count": 96
        }
      ]
    },
    {
      "cell_type": "code",
      "metadata": {
        "colab": {
          "base_uri": "https://localhost:8080/"
        },
        "id": "Fc-ck5dkgpA0",
        "outputId": "ef51a3f8-4728-4f3a-aaf7-ca3a15ceb161"
      },
      "source": [
        "type(df['Day'])"
      ],
      "id": "Fc-ck5dkgpA0",
      "execution_count": 97,
      "outputs": [
        {
          "output_type": "execute_result",
          "data": {
            "text/plain": [
              "pandas.core.series.Series"
            ]
          },
          "metadata": {
            "tags": []
          },
          "execution_count": 97
        }
      ]
    },
    {
      "cell_type": "code",
      "metadata": {
        "colab": {
          "base_uri": "https://localhost:8080/",
          "height": 234
        },
        "id": "kqGZQhrpgwBd",
        "outputId": "d2768091-b0f6-4e64-e3ce-ac93d974a886"
      },
      "source": [
        "df[['Day','Bounce_Rate']]"
      ],
      "id": "kqGZQhrpgwBd",
      "execution_count": 99,
      "outputs": [
        {
          "output_type": "execute_result",
          "data": {
            "text/html": [
              "<div>\n",
              "<style scoped>\n",
              "    .dataframe tbody tr th:only-of-type {\n",
              "        vertical-align: middle;\n",
              "    }\n",
              "\n",
              "    .dataframe tbody tr th {\n",
              "        vertical-align: top;\n",
              "    }\n",
              "\n",
              "    .dataframe thead th {\n",
              "        text-align: right;\n",
              "    }\n",
              "</style>\n",
              "<table border=\"1\" class=\"dataframe\">\n",
              "  <thead>\n",
              "    <tr style=\"text-align: right;\">\n",
              "      <th></th>\n",
              "      <th>Day</th>\n",
              "      <th>Bounce_Rate</th>\n",
              "    </tr>\n",
              "  </thead>\n",
              "  <tbody>\n",
              "    <tr>\n",
              "      <th>0</th>\n",
              "      <td>1</td>\n",
              "      <td>20</td>\n",
              "    </tr>\n",
              "    <tr>\n",
              "      <th>1</th>\n",
              "      <td>2</td>\n",
              "      <td>20</td>\n",
              "    </tr>\n",
              "    <tr>\n",
              "      <th>2</th>\n",
              "      <td>3</td>\n",
              "      <td>23</td>\n",
              "    </tr>\n",
              "    <tr>\n",
              "      <th>3</th>\n",
              "      <td>4</td>\n",
              "      <td>15</td>\n",
              "    </tr>\n",
              "    <tr>\n",
              "      <th>4</th>\n",
              "      <td>5</td>\n",
              "      <td>10</td>\n",
              "    </tr>\n",
              "    <tr>\n",
              "      <th>5</th>\n",
              "      <td>6</td>\n",
              "      <td>34</td>\n",
              "    </tr>\n",
              "  </tbody>\n",
              "</table>\n",
              "</div>"
            ],
            "text/plain": [
              "   Day  Bounce_Rate\n",
              "0    1           20\n",
              "1    2           20\n",
              "2    3           23\n",
              "3    4           15\n",
              "4    5           10\n",
              "5    6           34"
            ]
          },
          "metadata": {
            "tags": []
          },
          "execution_count": 99
        }
      ]
    },
    {
      "cell_type": "code",
      "metadata": {
        "colab": {
          "base_uri": "https://localhost:8080/"
        },
        "id": "H5RRrgWug79O",
        "outputId": "280b3c4c-373a-42ad-e6d0-414434dd0d59"
      },
      "source": [
        "df['Bounce_Rate'].std()"
      ],
      "id": "H5RRrgWug79O",
      "execution_count": 100,
      "outputs": [
        {
          "output_type": "execute_result",
          "data": {
            "text/plain": [
              "8.115828156551041"
            ]
          },
          "metadata": {
            "tags": []
          },
          "execution_count": 100
        }
      ]
    },
    {
      "cell_type": "code",
      "metadata": {
        "id": "NGh6C2BjhI-t"
      },
      "source": [
        "df.set_index('Day', inplace=True)\n"
      ],
      "id": "NGh6C2BjhI-t",
      "execution_count": 105,
      "outputs": []
    },
    {
      "cell_type": "code",
      "metadata": {
        "colab": {
          "base_uri": "https://localhost:8080/"
        },
        "id": "VED-eIh3hp8_",
        "outputId": "c9ff4717-05ae-4d15-e513-21d3edd4e571"
      },
      "source": [
        "df.index"
      ],
      "id": "VED-eIh3hp8_",
      "execution_count": 111,
      "outputs": [
        {
          "output_type": "execute_result",
          "data": {
            "text/plain": [
              "Int64Index([1, 2, 3, 4, 5, 6], dtype='int64', name='Day')"
            ]
          },
          "metadata": {
            "tags": []
          },
          "execution_count": 111
        }
      ]
    },
    {
      "cell_type": "code",
      "metadata": {
        "colab": {
          "base_uri": "https://localhost:8080/"
        },
        "id": "JdSa1UlhgU7B",
        "outputId": "5224304b-82e4-4479-91ab-80e79914ef1b"
      },
      "source": [
        "df.loc[5]"
      ],
      "id": "JdSa1UlhgU7B",
      "execution_count": 113,
      "outputs": [
        {
          "output_type": "execute_result",
          "data": {
            "text/plain": [
              "Visitors        0.0\n",
              "Bounce_Rate    10.0\n",
              "Name: 5, dtype: float64"
            ]
          },
          "metadata": {
            "tags": []
          },
          "execution_count": 113
        }
      ]
    },
    {
      "cell_type": "code",
      "metadata": {
        "colab": {
          "base_uri": "https://localhost:8080/",
          "height": 203
        },
        "id": "fwdUUPVmh9Ph",
        "outputId": "3ebfbf65-4a3f-49c3-cc5f-5d56b138db0e"
      },
      "source": [
        "df.reset_index(inplace=True)\n",
        "df.head()"
      ],
      "id": "fwdUUPVmh9Ph",
      "execution_count": 114,
      "outputs": [
        {
          "output_type": "execute_result",
          "data": {
            "text/html": [
              "<div>\n",
              "<style scoped>\n",
              "    .dataframe tbody tr th:only-of-type {\n",
              "        vertical-align: middle;\n",
              "    }\n",
              "\n",
              "    .dataframe tbody tr th {\n",
              "        vertical-align: top;\n",
              "    }\n",
              "\n",
              "    .dataframe thead th {\n",
              "        text-align: right;\n",
              "    }\n",
              "</style>\n",
              "<table border=\"1\" class=\"dataframe\">\n",
              "  <thead>\n",
              "    <tr style=\"text-align: right;\">\n",
              "      <th></th>\n",
              "      <th>Day</th>\n",
              "      <th>Visitors</th>\n",
              "      <th>Bounce_Rate</th>\n",
              "    </tr>\n",
              "  </thead>\n",
              "  <tbody>\n",
              "    <tr>\n",
              "      <th>0</th>\n",
              "      <td>1</td>\n",
              "      <td>1000.0</td>\n",
              "      <td>20</td>\n",
              "    </tr>\n",
              "    <tr>\n",
              "      <th>1</th>\n",
              "      <td>2</td>\n",
              "      <td>700.0</td>\n",
              "      <td>20</td>\n",
              "    </tr>\n",
              "    <tr>\n",
              "      <th>2</th>\n",
              "      <td>3</td>\n",
              "      <td>600.0</td>\n",
              "      <td>23</td>\n",
              "    </tr>\n",
              "    <tr>\n",
              "      <th>3</th>\n",
              "      <td>4</td>\n",
              "      <td>400.0</td>\n",
              "      <td>15</td>\n",
              "    </tr>\n",
              "    <tr>\n",
              "      <th>4</th>\n",
              "      <td>5</td>\n",
              "      <td>0.0</td>\n",
              "      <td>10</td>\n",
              "    </tr>\n",
              "  </tbody>\n",
              "</table>\n",
              "</div>"
            ],
            "text/plain": [
              "   Day  Visitors  Bounce_Rate\n",
              "0    1    1000.0           20\n",
              "1    2     700.0           20\n",
              "2    3     600.0           23\n",
              "3    4     400.0           15\n",
              "4    5       0.0           10"
            ]
          },
          "metadata": {
            "tags": []
          },
          "execution_count": 114
        }
      ]
    },
    {
      "cell_type": "code",
      "metadata": {
        "colab": {
          "base_uri": "https://localhost:8080/",
          "height": 234
        },
        "id": "6qF8FMCdjIjK",
        "outputId": "024e458f-aa51-4960-eca4-8deb51da7598"
      },
      "source": [
        "XYZ_web ={\n",
        "      \"Day\":[1,2,3,4,5,6],\n",
        "      \"Visitors\":[1000,700,600,400,np.nan,350],\n",
        "      \"Bounce_Rate\":[20,20,23,15,10,34],\n",
        "      \"Weather\": ['Rain', 'Sunny', 'Snow','Windy','Cold','Normal']\n",
        "}\n",
        "df=pd.DataFrame(XYZ_web)\n",
        "df"
      ],
      "id": "6qF8FMCdjIjK",
      "execution_count": 128,
      "outputs": [
        {
          "output_type": "execute_result",
          "data": {
            "text/html": [
              "<div>\n",
              "<style scoped>\n",
              "    .dataframe tbody tr th:only-of-type {\n",
              "        vertical-align: middle;\n",
              "    }\n",
              "\n",
              "    .dataframe tbody tr th {\n",
              "        vertical-align: top;\n",
              "    }\n",
              "\n",
              "    .dataframe thead th {\n",
              "        text-align: right;\n",
              "    }\n",
              "</style>\n",
              "<table border=\"1\" class=\"dataframe\">\n",
              "  <thead>\n",
              "    <tr style=\"text-align: right;\">\n",
              "      <th></th>\n",
              "      <th>Day</th>\n",
              "      <th>Visitors</th>\n",
              "      <th>Bounce_Rate</th>\n",
              "      <th>Weather</th>\n",
              "    </tr>\n",
              "  </thead>\n",
              "  <tbody>\n",
              "    <tr>\n",
              "      <th>0</th>\n",
              "      <td>1</td>\n",
              "      <td>1000.0</td>\n",
              "      <td>20</td>\n",
              "      <td>Rain</td>\n",
              "    </tr>\n",
              "    <tr>\n",
              "      <th>1</th>\n",
              "      <td>2</td>\n",
              "      <td>700.0</td>\n",
              "      <td>20</td>\n",
              "      <td>Sunny</td>\n",
              "    </tr>\n",
              "    <tr>\n",
              "      <th>2</th>\n",
              "      <td>3</td>\n",
              "      <td>600.0</td>\n",
              "      <td>23</td>\n",
              "      <td>Snow</td>\n",
              "    </tr>\n",
              "    <tr>\n",
              "      <th>3</th>\n",
              "      <td>4</td>\n",
              "      <td>400.0</td>\n",
              "      <td>15</td>\n",
              "      <td>Windy</td>\n",
              "    </tr>\n",
              "    <tr>\n",
              "      <th>4</th>\n",
              "      <td>5</td>\n",
              "      <td>NaN</td>\n",
              "      <td>10</td>\n",
              "      <td>Cold</td>\n",
              "    </tr>\n",
              "    <tr>\n",
              "      <th>5</th>\n",
              "      <td>6</td>\n",
              "      <td>350.0</td>\n",
              "      <td>34</td>\n",
              "      <td>Normal</td>\n",
              "    </tr>\n",
              "  </tbody>\n",
              "</table>\n",
              "</div>"
            ],
            "text/plain": [
              "   Day  Visitors  Bounce_Rate Weather\n",
              "0    1    1000.0           20    Rain\n",
              "1    2     700.0           20   Sunny\n",
              "2    3     600.0           23    Snow\n",
              "3    4     400.0           15   Windy\n",
              "4    5       NaN           10    Cold\n",
              "5    6     350.0           34  Normal"
            ]
          },
          "metadata": {
            "tags": []
          },
          "execution_count": 128
        }
      ]
    },
    {
      "cell_type": "code",
      "metadata": {
        "colab": {
          "base_uri": "https://localhost:8080/",
          "height": 142
        },
        "id": "MF_qABVziMCD",
        "outputId": "db3615c9-2cde-4c62-917e-f09c203d149e"
      },
      "source": [
        "weather_data = [\n",
        "    ('1/1/2017',32,6,'Rain'),\n",
        "    ('1/2/2017',35,7,'Sunny'),\n",
        "    ('1/3/2017',28,2,'Snow')\n",
        "]\n",
        "df1 = pd.DataFrame(data=weather_data, columns=['day','temperature','windspeed','event'])\n",
        "df1"
      ],
      "id": "MF_qABVziMCD",
      "execution_count": 129,
      "outputs": [
        {
          "output_type": "execute_result",
          "data": {
            "text/html": [
              "<div>\n",
              "<style scoped>\n",
              "    .dataframe tbody tr th:only-of-type {\n",
              "        vertical-align: middle;\n",
              "    }\n",
              "\n",
              "    .dataframe tbody tr th {\n",
              "        vertical-align: top;\n",
              "    }\n",
              "\n",
              "    .dataframe thead th {\n",
              "        text-align: right;\n",
              "    }\n",
              "</style>\n",
              "<table border=\"1\" class=\"dataframe\">\n",
              "  <thead>\n",
              "    <tr style=\"text-align: right;\">\n",
              "      <th></th>\n",
              "      <th>day</th>\n",
              "      <th>temperature</th>\n",
              "      <th>windspeed</th>\n",
              "      <th>event</th>\n",
              "    </tr>\n",
              "  </thead>\n",
              "  <tbody>\n",
              "    <tr>\n",
              "      <th>0</th>\n",
              "      <td>1/1/2017</td>\n",
              "      <td>32</td>\n",
              "      <td>6</td>\n",
              "      <td>Rain</td>\n",
              "    </tr>\n",
              "    <tr>\n",
              "      <th>1</th>\n",
              "      <td>1/2/2017</td>\n",
              "      <td>35</td>\n",
              "      <td>7</td>\n",
              "      <td>Sunny</td>\n",
              "    </tr>\n",
              "    <tr>\n",
              "      <th>2</th>\n",
              "      <td>1/3/2017</td>\n",
              "      <td>28</td>\n",
              "      <td>2</td>\n",
              "      <td>Snow</td>\n",
              "    </tr>\n",
              "  </tbody>\n",
              "</table>\n",
              "</div>"
            ],
            "text/plain": [
              "        day  temperature  windspeed  event\n",
              "0  1/1/2017           32          6   Rain\n",
              "1  1/2/2017           35          7  Sunny\n",
              "2  1/3/2017           28          2   Snow"
            ]
          },
          "metadata": {
            "tags": []
          },
          "execution_count": 129
        }
      ]
    },
    {
      "cell_type": "code",
      "metadata": {
        "colab": {
          "base_uri": "https://localhost:8080/",
          "height": 142
        },
        "id": "Bjrso17Ii_Fx",
        "outputId": "11b79cd8-bf76-4e99-d7e1-e6c11dd281c8"
      },
      "source": [
        "weather_data = [\n",
        "    {'day': '1/1/2017', 'temperature': 32, 'windspeed': 6, 'event': 'Rain'},\n",
        "    {'day': '1/2/2017', 'temperature': 35, 'windspeed': 7, 'event': 'Sunny'},\n",
        "    {'day': '1/3/2017', 'temperature': 28, 'windspeed': 2, 'event': 'Snow'},\n",
        "    \n",
        "]\n",
        "df1 = pd.DataFrame(data=weather_data, columns=['day','temperature','windspeed','event'])\n",
        "df1"
      ],
      "id": "Bjrso17Ii_Fx",
      "execution_count": 130,
      "outputs": [
        {
          "output_type": "execute_result",
          "data": {
            "text/html": [
              "<div>\n",
              "<style scoped>\n",
              "    .dataframe tbody tr th:only-of-type {\n",
              "        vertical-align: middle;\n",
              "    }\n",
              "\n",
              "    .dataframe tbody tr th {\n",
              "        vertical-align: top;\n",
              "    }\n",
              "\n",
              "    .dataframe thead th {\n",
              "        text-align: right;\n",
              "    }\n",
              "</style>\n",
              "<table border=\"1\" class=\"dataframe\">\n",
              "  <thead>\n",
              "    <tr style=\"text-align: right;\">\n",
              "      <th></th>\n",
              "      <th>day</th>\n",
              "      <th>temperature</th>\n",
              "      <th>windspeed</th>\n",
              "      <th>event</th>\n",
              "    </tr>\n",
              "  </thead>\n",
              "  <tbody>\n",
              "    <tr>\n",
              "      <th>0</th>\n",
              "      <td>1/1/2017</td>\n",
              "      <td>32</td>\n",
              "      <td>6</td>\n",
              "      <td>Rain</td>\n",
              "    </tr>\n",
              "    <tr>\n",
              "      <th>1</th>\n",
              "      <td>1/2/2017</td>\n",
              "      <td>35</td>\n",
              "      <td>7</td>\n",
              "      <td>Sunny</td>\n",
              "    </tr>\n",
              "    <tr>\n",
              "      <th>2</th>\n",
              "      <td>1/3/2017</td>\n",
              "      <td>28</td>\n",
              "      <td>2</td>\n",
              "      <td>Snow</td>\n",
              "    </tr>\n",
              "  </tbody>\n",
              "</table>\n",
              "</div>"
            ],
            "text/plain": [
              "        day  temperature  windspeed  event\n",
              "0  1/1/2017           32          6   Rain\n",
              "1  1/2/2017           35          7  Sunny\n",
              "2  1/3/2017           28          2   Snow"
            ]
          },
          "metadata": {
            "tags": []
          },
          "execution_count": 130
        }
      ]
    },
    {
      "cell_type": "code",
      "metadata": {
        "colab": {
          "base_uri": "https://localhost:8080/",
          "height": 279
        },
        "id": "Fa0j8LTmh0aR",
        "outputId": "99f9ed47-26af-4bfb-c9a7-2d787ee4967e"
      },
      "source": [
        "df.Visitors.plot.bar()\n"
      ],
      "id": "Fa0j8LTmh0aR",
      "execution_count": 132,
      "outputs": [
        {
          "output_type": "execute_result",
          "data": {
            "text/plain": [
              "<matplotlib.axes._subplots.AxesSubplot at 0x7fb39fed6590>"
            ]
          },
          "metadata": {
            "tags": []
          },
          "execution_count": 132
        },
        {
          "output_type": "display_data",
          "data": {
            "image/png": "[encoded data removed]",
            "text/plain": [
              "<Figure size 432x288 with 1 Axes>"
            ]
          },
          "metadata": {
            "tags": [],
            "needs_background": "light"
          }
        }
      ]
    },
    {
      "cell_type": "code",
      "metadata": {
        "id": "6btkGgn_kL4g"
      },
      "source": [
        ""
      ],
      "id": "6btkGgn_kL4g",
      "execution_count": null,
      "outputs": []
    },
    {
      "cell_type": "code",
      "metadata": {
        "id": "-CiKsxM6hdW8"
      },
      "source": [
        ""
      ],
      "id": "-CiKsxM6hdW8",
      "execution_count": null,
      "outputs": []
    },
    {
      "cell_type": "code",
      "metadata": {
        "id": "T-xBv4q1hYDm"
      },
      "source": [
        ""
      ],
      "id": "T-xBv4q1hYDm",
      "execution_count": null,
      "outputs": []
    }
  ]
}