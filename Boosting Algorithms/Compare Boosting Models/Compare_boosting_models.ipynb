{
  "nbformat": 4,
  "nbformat_minor": 0,
  "metadata": {
    "colab": {
      "name": "Compare_boosting_models",
      "provenance": []
    },
    "kernelspec": {
      "name": "python3",
      "display_name": "Python 3"
    },
    "language_info": {
      "name": "python"
    }
  },
  "cells": [
    {
      "cell_type": "code",
      "metadata": {
        "id": "cgEg9ngPPY-J"
      },
      "source": [
        "import numpy as np\n",
        "import pandas as pd\n",
        "from time import time\n",
        "from sklearn.datasets import make_classification\n",
        "from sklearn.ensemble import GradientBoostingClassifier\n",
        "from sklearn.model_selection import cross_val_score, RepeatedStratifiedKFold"
      ],
      "execution_count": 1,
      "outputs": []
    },
    {
      "cell_type": "code",
      "metadata": {
        "colab": {
          "base_uri": "https://localhost:8080/"
        },
        "id": "hWrSqNnJPj3i",
        "outputId": "1a8c692c-ba90-47e6-fd48-e36621f9b000"
      },
      "source": [
        "from sklearn.datasets import make_classification\n",
        "\n",
        "X, y = make_classification(n_samples=10000, n_features=20, n_informative=15, n_redundant=5, random_state=0)\n",
        "X"
      ],
      "execution_count": 3,
      "outputs": [
        {
          "output_type": "execute_result",
          "data": {
            "text/plain": [
              "array([[ 5.28003572,  0.07866376, -0.06964284, ..., -3.46287848,\n",
              "        -0.03862101,  3.39993039],\n",
              "       [ 2.16926235, -2.33555961, -0.39400421, ..., -0.86901332,\n",
              "        -0.82929365, -5.54782464],\n",
              "       [ 0.50841459, -2.64924693,  2.11503792, ..., -0.7373016 ,\n",
              "        -2.11204173,  1.53660878],\n",
              "       ...,\n",
              "       [-2.0093232 , -1.21052136, -0.89558391, ...,  5.14633699,\n",
              "        -0.04689061, -2.59038402],\n",
              "       [-5.48082318,  1.69027971,  1.55338889, ..., -0.0579665 ,\n",
              "         0.98007555, -1.9660304 ],\n",
              "       [ 2.57435489, -0.13578773,  2.6852563 , ..., -0.66826083,\n",
              "        -1.22760575,  0.39196471]])"
            ]
          },
          "metadata": {
            "tags": []
          },
          "execution_count": 3
        }
      ]
    },
    {
      "cell_type": "code",
      "metadata": {
        "colab": {
          "base_uri": "https://localhost:8080/"
        },
        "id": "5x_Sq7Q0PoBO",
        "outputId": "ef0a4d96-535b-4127-dfbc-16cecc75675f"
      },
      "source": [
        "X.shape\n"
      ],
      "execution_count": 4,
      "outputs": [
        {
          "output_type": "execute_result",
          "data": {
            "text/plain": [
              "(10000, 20)"
            ]
          },
          "metadata": {
            "tags": []
          },
          "execution_count": 4
        }
      ]
    },
    {
      "cell_type": "code",
      "metadata": {
        "id": "IinQOQ5bPs1M"
      },
      "source": [
        "accuracy = {}\n",
        "speed = {}\n"
      ],
      "execution_count": 5,
      "outputs": []
    },
    {
      "cell_type": "code",
      "metadata": {
        "id": "iXndfyWCPwcs"
      },
      "source": [
        "from sklearn.ensemble import GradientBoostingClassifier\n",
        "from sklearn.model_selection import cross_val_score\n",
        "from sklearn.model_selection import RepeatedStratifiedKFold"
      ],
      "execution_count": 6,
      "outputs": []
    },
    {
      "cell_type": "code",
      "metadata": {
        "colab": {
          "base_uri": "https://localhost:8080/"
        },
        "id": "knm4R6llPzKS",
        "outputId": "7178c439-f1ff-4499-8555-4dc254d7cb20"
      },
      "source": [
        "model = GradientBoostingClassifier()\n",
        "\n",
        "start = time()\n",
        "cv = RepeatedStratifiedKFold(n_splits=5, n_repeats=2, random_state=0)\n",
        "score = cross_val_score(model, X, y, scoring='accuracy', cv=cv, n_jobs=-1)\n",
        "\n",
        "speed['GradientBoosting'] = np.round(time() - start, 3)\n",
        "accuracy['GradientBoosting'] = np.mean(score).round(3)\n",
        "\n",
        "print(f\"Mean Accuracy: {accuracy['GradientBoosting']}\\nStd: {np.std(score):.3f}\\nRun time: {speed['GradientBoosting']}s\")"
      ],
      "execution_count": 7,
      "outputs": [
        {
          "output_type": "stream",
          "text": [
            "Mean Accuracy: 0.878\n",
            "Std: 0.007\n",
            "Run time: 46.796s\n"
          ],
          "name": "stdout"
        }
      ]
    },
    {
      "cell_type": "code",
      "metadata": {
        "id": "piCFxC_wP1hk"
      },
      "source": [
        "from sklearn.experimental import enable_hist_gradient_boosting\n",
        "from sklearn.ensemble import HistGradientBoostingClassifier"
      ],
      "execution_count": 8,
      "outputs": []
    },
    {
      "cell_type": "code",
      "metadata": {
        "colab": {
          "base_uri": "https://localhost:8080/"
        },
        "id": "Dke3z_uPP40O",
        "outputId": "74d26452-475c-46fc-e995-71b20f401b1a"
      },
      "source": [
        "model = HistGradientBoostingClassifier()\n",
        "\n",
        "start = time()\n",
        "cv = RepeatedStratifiedKFold(n_splits=5, n_repeats=2, random_state=0)\n",
        "score = cross_val_score(model, X, y, scoring='accuracy', cv=cv, n_jobs=-1)\n",
        "\n",
        "speed['HistGradientBoosting'] = np.round(time() - start, 3)\n",
        "accuracy['HistGradientBoosting'] = np.mean(score).round(3)\n",
        "\n",
        "print(f\"Mean Accuracy: {accuracy['HistGradientBoosting']}\\nStd: {np.std(score):.3f}\\nRun time: {speed['HistGradientBoosting']}s\")"
      ],
      "execution_count": 9,
      "outputs": [
        {
          "output_type": "stream",
          "text": [
            "Mean Accuracy: 0.948\n",
            "Std: 0.005\n",
            "Run time: 7.161s\n"
          ],
          "name": "stdout"
        }
      ]
    },
    {
      "cell_type": "code",
      "metadata": {
        "id": "6x98N8snP67m"
      },
      "source": [
        "from xgboost import XGBClassifier\n"
      ],
      "execution_count": 10,
      "outputs": []
    },
    {
      "cell_type": "code",
      "metadata": {
        "colab": {
          "base_uri": "https://localhost:8080/"
        },
        "id": "DiNgsBp2P-kK",
        "outputId": "e7558761-8cab-495e-b0dc-2e488c270b7d"
      },
      "source": [
        "model = XGBClassifier()\n",
        "\n",
        "start = time()\n",
        "cv = RepeatedStratifiedKFold(n_splits=5, n_repeats=2, random_state=0)\n",
        "score = cross_val_score(model, X, y, scoring='accuracy', cv=cv, n_jobs=-1)\n",
        "\n",
        "speed['XGB'] = np.round(time() - start, 3)\n",
        "accuracy['XGB'] = np.mean(score).round(3)\n",
        "\n",
        "print(f\"Mean Accuracy: {accuracy['XGB']}\\nStd: {np.std(score):.3f}\\nRun time: {speed['XGB']}s\")"
      ],
      "execution_count": 11,
      "outputs": [
        {
          "output_type": "stream",
          "text": [
            "Mean Accuracy: 0.873\n",
            "Std: 0.009\n",
            "Run time: 11.102s\n"
          ],
          "name": "stdout"
        }
      ]
    },
    {
      "cell_type": "code",
      "metadata": {
        "id": "EZ9Awx5SQBE2"
      },
      "source": [
        "from lightgbm import LGBMClassifier\n"
      ],
      "execution_count": 12,
      "outputs": []
    },
    {
      "cell_type": "code",
      "metadata": {
        "colab": {
          "base_uri": "https://localhost:8080/"
        },
        "id": "VOB5la_7QD_B",
        "outputId": "5daf59e3-5c11-4fe0-ff47-c29d40e42efb"
      },
      "source": [
        "model = LGBMClassifier()\n",
        "\n",
        "start = time()\n",
        "cv = RepeatedStratifiedKFold(n_splits=5, n_repeats=2, random_state=0)\n",
        "score = cross_val_score(model, X, y, scoring='accuracy', cv=cv, n_jobs=-1)\n",
        "\n",
        "speed['LGBM'] = np.round(time() - start, 3)\n",
        "accuracy['LGBM'] = np.mean(score).round(3)\n",
        "\n",
        "print(f\"Mean Accuracy: {accuracy['LGBM']}\\nStd: {np.std(score):.3f}\\nRun time: {speed['LGBM']}s\")"
      ],
      "execution_count": 13,
      "outputs": [
        {
          "output_type": "stream",
          "text": [
            "Mean Accuracy: 0.949\n",
            "Std: 0.006\n",
            "Run time: 5.718s\n"
          ],
          "name": "stdout"
        }
      ]
    },
    {
      "cell_type": "code",
      "metadata": {
        "colab": {
          "base_uri": "https://localhost:8080/"
        },
        "id": "K8AEwWYUQGN2",
        "outputId": "dfd9ebc1-4823-4687-f428-58188e6e085c"
      },
      "source": [
        "!pip install catboost\n"
      ],
      "execution_count": 14,
      "outputs": [
        {
          "output_type": "stream",
          "text": [
            "Collecting catboost\n",
            "\u001b[?25l  Downloading https://files.pythonhosted.org/packages/47/80/8e9c57ec32dfed6ba2922bc5c96462cbf8596ce1a6f5de532ad1e43e53fe/catboost-0.25.1-cp37-none-manylinux1_x86_64.whl (67.3MB)\n",
            "\u001b[K     |████████████████████████████████| 67.3MB 57kB/s \n",
            "\u001b[?25hRequirement already satisfied: matplotlib in /usr/local/lib/python3.7/dist-packages (from catboost) (3.2.2)\n",
            "Requirement already satisfied: graphviz in /usr/local/lib/python3.7/dist-packages (from catboost) (0.10.1)\n",
            "Requirement already satisfied: scipy in /usr/local/lib/python3.7/dist-packages (from catboost) (1.4.1)\n",
            "Requirement already satisfied: six in /usr/local/lib/python3.7/dist-packages (from catboost) (1.15.0)\n",
            "Requirement already satisfied: pandas>=0.24.0 in /usr/local/lib/python3.7/dist-packages (from catboost) (1.1.5)\n",
            "Requirement already satisfied: plotly in /usr/local/lib/python3.7/dist-packages (from catboost) (4.4.1)\n",
            "Requirement already satisfied: numpy>=1.16.0 in /usr/local/lib/python3.7/dist-packages (from catboost) (1.19.5)\n",
            "Requirement already satisfied: kiwisolver>=1.0.1 in /usr/local/lib/python3.7/dist-packages (from matplotlib->catboost) (1.3.1)\n",
            "Requirement already satisfied: cycler>=0.10 in /usr/local/lib/python3.7/dist-packages (from matplotlib->catboost) (0.10.0)\n",
            "Requirement already satisfied: pyparsing!=2.0.4,!=2.1.2,!=2.1.6,>=2.0.1 in /usr/local/lib/python3.7/dist-packages (from matplotlib->catboost) (2.4.7)\n",
            "Requirement already satisfied: python-dateutil>=2.1 in /usr/local/lib/python3.7/dist-packages (from matplotlib->catboost) (2.8.1)\n",
            "Requirement already satisfied: pytz>=2017.2 in /usr/local/lib/python3.7/dist-packages (from pandas>=0.24.0->catboost) (2018.9)\n",
            "Requirement already satisfied: retrying>=1.3.3 in /usr/local/lib/python3.7/dist-packages (from plotly->catboost) (1.3.3)\n",
            "Installing collected packages: catboost\n",
            "Successfully installed catboost-0.25.1\n"
          ],
          "name": "stdout"
        }
      ]
    },
    {
      "cell_type": "code",
      "metadata": {
        "id": "jeaG72PNQIuo"
      },
      "source": [
        "from catboost import CatBoostClassifier\n"
      ],
      "execution_count": 15,
      "outputs": []
    },
    {
      "cell_type": "code",
      "metadata": {
        "colab": {
          "base_uri": "https://localhost:8080/"
        },
        "id": "uyJgscx7QK_i",
        "outputId": "5d4e7a14-e87e-438c-ffac-785eca534d10"
      },
      "source": [
        "model = CatBoostClassifier()\n",
        "\n",
        "start = time()\n",
        "cv = RepeatedStratifiedKFold(n_splits=5, n_repeats=2, random_state=0)\n",
        "score = cross_val_score(model, X, y, scoring='accuracy', cv=cv, n_jobs=-1)\n",
        "\n",
        "speed['CatBoost'] = np.round(time() - start, 3)\n",
        "accuracy['CatBoost'] = np.mean(score).round(3)\n",
        "\n",
        "print(f\"Mean Accuracy: {accuracy['CatBoost']}\\nStd: {np.std(score):.3f}\\nRun time: {speed['CatBoost']}s\")"
      ],
      "execution_count": 16,
      "outputs": [
        {
          "output_type": "stream",
          "text": [
            "Mean Accuracy: 0.964\n",
            "Std: 0.004\n",
            "Run time: 135.432s\n"
          ],
          "name": "stdout"
        }
      ]
    },
    {
      "cell_type": "code",
      "metadata": {
        "colab": {
          "base_uri": "https://localhost:8080/"
        },
        "id": "efmXff51QNW1",
        "outputId": "cc7d57b6-b4a6-4121-bc09-9120685cb505"
      },
      "source": [
        "print(\"Accuracy: \")\n",
        "{k: v for k, v in sorted(accuracy.items(), key=lambda i: i[1], reverse=True)}"
      ],
      "execution_count": 17,
      "outputs": [
        {
          "output_type": "stream",
          "text": [
            "Accuracy: \n"
          ],
          "name": "stdout"
        },
        {
          "output_type": "execute_result",
          "data": {
            "text/plain": [
              "{'CatBoost': 0.964,\n",
              " 'GradientBoosting': 0.878,\n",
              " 'HistGradientBoosting': 0.948,\n",
              " 'LGBM': 0.949,\n",
              " 'XGB': 0.873}"
            ]
          },
          "metadata": {
            "tags": []
          },
          "execution_count": 17
        }
      ]
    },
    {
      "cell_type": "code",
      "metadata": {
        "colab": {
          "base_uri": "https://localhost:8080/"
        },
        "id": "s8Li4IBuQRst",
        "outputId": "75b671c1-cd3e-406e-ef65-fe709d99c580"
      },
      "source": [
        "print(\"Speed:\")\n",
        "{ k: v for k, v in sorted(speed.items(), key=lambda i: i[1], reverse=False)}"
      ],
      "execution_count": 18,
      "outputs": [
        {
          "output_type": "stream",
          "text": [
            "Speed:\n"
          ],
          "name": "stdout"
        },
        {
          "output_type": "execute_result",
          "data": {
            "text/plain": [
              "{'CatBoost': 135.432,\n",
              " 'GradientBoosting': 46.796,\n",
              " 'HistGradientBoosting': 7.161,\n",
              " 'LGBM': 5.718,\n",
              " 'XGB': 11.102}"
            ]
          },
          "metadata": {
            "tags": []
          },
          "execution_count": 18
        }
      ]
    },
    {
      "cell_type": "code",
      "metadata": {
        "id": "BGcXRRnJQVDI"
      },
      "source": [
        ""
      ],
      "execution_count": null,
      "outputs": []
    }
  ]
}