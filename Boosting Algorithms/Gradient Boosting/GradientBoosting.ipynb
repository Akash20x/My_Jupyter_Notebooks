{
  "nbformat": 4,
  "nbformat_minor": 0,
  "metadata": {
    "colab": {
      "name": "GradientBoosting",
      "provenance": []
    },
    "kernelspec": {
      "name": "python3",
      "display_name": "Python 3"
    },
    "language_info": {
      "name": "python"
    }
  },
  "cells": [
    {
      "cell_type": "code",
      "metadata": {
        "id": "81tRUOJg9GgA"
      },
      "source": [
        "import warnings\n",
        "warnings.filterwarnings('ignore')\n",
        "\n",
        "import numpy as np\n",
        "import pandas as pd\n",
        "\n",
        "import matplotlib.pyplot as plt\n",
        "import seaborn as sns\n",
        "%matplotlib inline"
      ],
      "execution_count": null,
      "outputs": []
    },
    {
      "cell_type": "code",
      "metadata": {
        "id": "eqjoRzJP9KP0",
        "colab": {
          "base_uri": "https://localhost:8080/",
          "height": 225
        },
        "outputId": "f8286c0f-7386-4b02-b4bd-150453f60575"
      },
      "source": [
        "# csv file for bike sharing data\n",
        "df = pd.read_csv(\"/content/drive/MyDrive/dataset/day.csv\",index_col=0)\n",
        "df.head()"
      ],
      "execution_count": 2,
      "outputs": [
        {
          "output_type": "execute_result",
          "data": {
            "text/html": [
              "<div>\n",
              "<style scoped>\n",
              "    .dataframe tbody tr th:only-of-type {\n",
              "        vertical-align: middle;\n",
              "    }\n",
              "\n",
              "    .dataframe tbody tr th {\n",
              "        vertical-align: top;\n",
              "    }\n",
              "\n",
              "    .dataframe thead th {\n",
              "        text-align: right;\n",
              "    }\n",
              "</style>\n",
              "<table border=\"1\" class=\"dataframe\">\n",
              "  <thead>\n",
              "    <tr style=\"text-align: right;\">\n",
              "      <th></th>\n",
              "      <th>dteday</th>\n",
              "      <th>season</th>\n",
              "      <th>yr</th>\n",
              "      <th>mnth</th>\n",
              "      <th>holiday</th>\n",
              "      <th>weekday</th>\n",
              "      <th>workingday</th>\n",
              "      <th>weathersit</th>\n",
              "      <th>temp</th>\n",
              "      <th>atemp</th>\n",
              "      <th>hum</th>\n",
              "      <th>windspeed</th>\n",
              "      <th>casual</th>\n",
              "      <th>registered</th>\n",
              "      <th>cnt</th>\n",
              "    </tr>\n",
              "    <tr>\n",
              "      <th>instant</th>\n",
              "      <th></th>\n",
              "      <th></th>\n",
              "      <th></th>\n",
              "      <th></th>\n",
              "      <th></th>\n",
              "      <th></th>\n",
              "      <th></th>\n",
              "      <th></th>\n",
              "      <th></th>\n",
              "      <th></th>\n",
              "      <th></th>\n",
              "      <th></th>\n",
              "      <th></th>\n",
              "      <th></th>\n",
              "      <th></th>\n",
              "    </tr>\n",
              "  </thead>\n",
              "  <tbody>\n",
              "    <tr>\n",
              "      <th>1</th>\n",
              "      <td>01-01-2018</td>\n",
              "      <td>1</td>\n",
              "      <td>0</td>\n",
              "      <td>1</td>\n",
              "      <td>0</td>\n",
              "      <td>6</td>\n",
              "      <td>0</td>\n",
              "      <td>2</td>\n",
              "      <td>14.110847</td>\n",
              "      <td>18.18125</td>\n",
              "      <td>80.5833</td>\n",
              "      <td>10.749882</td>\n",
              "      <td>331</td>\n",
              "      <td>654</td>\n",
              "      <td>985</td>\n",
              "    </tr>\n",
              "    <tr>\n",
              "      <th>2</th>\n",
              "      <td>02-01-2018</td>\n",
              "      <td>1</td>\n",
              "      <td>0</td>\n",
              "      <td>1</td>\n",
              "      <td>0</td>\n",
              "      <td>0</td>\n",
              "      <td>0</td>\n",
              "      <td>2</td>\n",
              "      <td>14.902598</td>\n",
              "      <td>17.68695</td>\n",
              "      <td>69.6087</td>\n",
              "      <td>16.652113</td>\n",
              "      <td>131</td>\n",
              "      <td>670</td>\n",
              "      <td>801</td>\n",
              "    </tr>\n",
              "    <tr>\n",
              "      <th>3</th>\n",
              "      <td>03-01-2018</td>\n",
              "      <td>1</td>\n",
              "      <td>0</td>\n",
              "      <td>1</td>\n",
              "      <td>0</td>\n",
              "      <td>1</td>\n",
              "      <td>1</td>\n",
              "      <td>1</td>\n",
              "      <td>8.050924</td>\n",
              "      <td>9.47025</td>\n",
              "      <td>43.7273</td>\n",
              "      <td>16.636703</td>\n",
              "      <td>120</td>\n",
              "      <td>1229</td>\n",
              "      <td>1349</td>\n",
              "    </tr>\n",
              "    <tr>\n",
              "      <th>4</th>\n",
              "      <td>04-01-2018</td>\n",
              "      <td>1</td>\n",
              "      <td>0</td>\n",
              "      <td>1</td>\n",
              "      <td>0</td>\n",
              "      <td>2</td>\n",
              "      <td>1</td>\n",
              "      <td>1</td>\n",
              "      <td>8.200000</td>\n",
              "      <td>10.60610</td>\n",
              "      <td>59.0435</td>\n",
              "      <td>10.739832</td>\n",
              "      <td>108</td>\n",
              "      <td>1454</td>\n",
              "      <td>1562</td>\n",
              "    </tr>\n",
              "    <tr>\n",
              "      <th>5</th>\n",
              "      <td>05-01-2018</td>\n",
              "      <td>1</td>\n",
              "      <td>0</td>\n",
              "      <td>1</td>\n",
              "      <td>0</td>\n",
              "      <td>3</td>\n",
              "      <td>1</td>\n",
              "      <td>1</td>\n",
              "      <td>9.305237</td>\n",
              "      <td>11.46350</td>\n",
              "      <td>43.6957</td>\n",
              "      <td>12.522300</td>\n",
              "      <td>82</td>\n",
              "      <td>1518</td>\n",
              "      <td>1600</td>\n",
              "    </tr>\n",
              "  </tbody>\n",
              "</table>\n",
              "</div>"
            ],
            "text/plain": [
              "             dteday  season  yr  mnth  ...  windspeed  casual  registered   cnt\n",
              "instant                                ...                                     \n",
              "1        01-01-2018       1   0     1  ...  10.749882     331         654   985\n",
              "2        02-01-2018       1   0     1  ...  16.652113     131         670   801\n",
              "3        03-01-2018       1   0     1  ...  16.636703     120        1229  1349\n",
              "4        04-01-2018       1   0     1  ...  10.739832     108        1454  1562\n",
              "5        05-01-2018       1   0     1  ...  12.522300      82        1518  1600\n",
              "\n",
              "[5 rows x 15 columns]"
            ]
          },
          "metadata": {
            "tags": []
          },
          "execution_count": 2
        }
      ]
    },
    {
      "cell_type": "code",
      "metadata": {
        "colab": {
          "base_uri": "https://localhost:8080/"
        },
        "id": "nsIBl21eBt2k",
        "outputId": "7d90101c-0906-423c-ed1a-b0d26328c493"
      },
      "source": [
        "df.info()\n"
      ],
      "execution_count": 3,
      "outputs": [
        {
          "output_type": "stream",
          "text": [
            "<class 'pandas.core.frame.DataFrame'>\n",
            "Int64Index: 730 entries, 1 to 730\n",
            "Data columns (total 15 columns):\n",
            " #   Column      Non-Null Count  Dtype  \n",
            "---  ------      --------------  -----  \n",
            " 0   dteday      730 non-null    object \n",
            " 1   season      730 non-null    int64  \n",
            " 2   yr          730 non-null    int64  \n",
            " 3   mnth        730 non-null    int64  \n",
            " 4   holiday     730 non-null    int64  \n",
            " 5   weekday     730 non-null    int64  \n",
            " 6   workingday  730 non-null    int64  \n",
            " 7   weathersit  730 non-null    int64  \n",
            " 8   temp        730 non-null    float64\n",
            " 9   atemp       730 non-null    float64\n",
            " 10  hum         730 non-null    float64\n",
            " 11  windspeed   730 non-null    float64\n",
            " 12  casual      730 non-null    int64  \n",
            " 13  registered  730 non-null    int64  \n",
            " 14  cnt         730 non-null    int64  \n",
            "dtypes: float64(4), int64(10), object(1)\n",
            "memory usage: 91.2+ KB\n"
          ],
          "name": "stdout"
        }
      ]
    },
    {
      "cell_type": "code",
      "metadata": {
        "colab": {
          "base_uri": "https://localhost:8080/"
        },
        "id": "IBoEcG5GB1J6",
        "outputId": "c9a7e190-c8de-4494-a8df-d323351a924e"
      },
      "source": [
        "df.isna().sum()\n"
      ],
      "execution_count": 4,
      "outputs": [
        {
          "output_type": "execute_result",
          "data": {
            "text/plain": [
              "dteday        0\n",
              "season        0\n",
              "yr            0\n",
              "mnth          0\n",
              "holiday       0\n",
              "weekday       0\n",
              "workingday    0\n",
              "weathersit    0\n",
              "temp          0\n",
              "atemp         0\n",
              "hum           0\n",
              "windspeed     0\n",
              "casual        0\n",
              "registered    0\n",
              "cnt           0\n",
              "dtype: int64"
            ]
          },
          "metadata": {
            "tags": []
          },
          "execution_count": 4
        }
      ]
    },
    {
      "cell_type": "code",
      "metadata": {
        "colab": {
          "base_uri": "https://localhost:8080/"
        },
        "id": "Cuv2cav3B9ex",
        "outputId": "34e5452a-6b8f-4a01-8a3b-1a7a32aec1f8"
      },
      "source": [
        "df['season'].unique()\n"
      ],
      "execution_count": 5,
      "outputs": [
        {
          "output_type": "execute_result",
          "data": {
            "text/plain": [
              "array([1, 2, 3, 4])"
            ]
          },
          "metadata": {
            "tags": []
          },
          "execution_count": 5
        }
      ]
    },
    {
      "cell_type": "code",
      "metadata": {
        "colab": {
          "base_uri": "https://localhost:8080/"
        },
        "id": "ATCY0FTOCHc2",
        "outputId": "b26a9da7-338a-4831-f195-9e3737fed206"
      },
      "source": [
        "df['season'].value_counts()\n"
      ],
      "execution_count": 6,
      "outputs": [
        {
          "output_type": "execute_result",
          "data": {
            "text/plain": [
              "3    188\n",
              "2    184\n",
              "1    180\n",
              "4    178\n",
              "Name: season, dtype: int64"
            ]
          },
          "metadata": {
            "tags": []
          },
          "execution_count": 6
        }
      ]
    },
    {
      "cell_type": "code",
      "metadata": {
        "id": "XE-UeP3_CJdM"
      },
      "source": [
        "df_numeric = df.drop(['dteday','season','yr','holiday','mnth'], axis=1)\n"
      ],
      "execution_count": 19,
      "outputs": []
    },
    {
      "cell_type": "code",
      "metadata": {
        "colab": {
          "base_uri": "https://localhost:8080/",
          "height": 225
        },
        "id": "o6pmrlVhDCoI",
        "outputId": "682f24c2-4a20-4536-d1f9-2e3a032cff9a"
      },
      "source": [
        "df_numeric.head()"
      ],
      "execution_count": 20,
      "outputs": [
        {
          "output_type": "execute_result",
          "data": {
            "text/html": [
              "<div>\n",
              "<style scoped>\n",
              "    .dataframe tbody tr th:only-of-type {\n",
              "        vertical-align: middle;\n",
              "    }\n",
              "\n",
              "    .dataframe tbody tr th {\n",
              "        vertical-align: top;\n",
              "    }\n",
              "\n",
              "    .dataframe thead th {\n",
              "        text-align: right;\n",
              "    }\n",
              "</style>\n",
              "<table border=\"1\" class=\"dataframe\">\n",
              "  <thead>\n",
              "    <tr style=\"text-align: right;\">\n",
              "      <th></th>\n",
              "      <th>weekday</th>\n",
              "      <th>workingday</th>\n",
              "      <th>weathersit</th>\n",
              "      <th>temp</th>\n",
              "      <th>atemp</th>\n",
              "      <th>hum</th>\n",
              "      <th>windspeed</th>\n",
              "      <th>casual</th>\n",
              "      <th>registered</th>\n",
              "      <th>cnt</th>\n",
              "    </tr>\n",
              "    <tr>\n",
              "      <th>instant</th>\n",
              "      <th></th>\n",
              "      <th></th>\n",
              "      <th></th>\n",
              "      <th></th>\n",
              "      <th></th>\n",
              "      <th></th>\n",
              "      <th></th>\n",
              "      <th></th>\n",
              "      <th></th>\n",
              "      <th></th>\n",
              "    </tr>\n",
              "  </thead>\n",
              "  <tbody>\n",
              "    <tr>\n",
              "      <th>1</th>\n",
              "      <td>6</td>\n",
              "      <td>0</td>\n",
              "      <td>2</td>\n",
              "      <td>14.110847</td>\n",
              "      <td>18.18125</td>\n",
              "      <td>80.5833</td>\n",
              "      <td>10.749882</td>\n",
              "      <td>331</td>\n",
              "      <td>654</td>\n",
              "      <td>985</td>\n",
              "    </tr>\n",
              "    <tr>\n",
              "      <th>2</th>\n",
              "      <td>0</td>\n",
              "      <td>0</td>\n",
              "      <td>2</td>\n",
              "      <td>14.902598</td>\n",
              "      <td>17.68695</td>\n",
              "      <td>69.6087</td>\n",
              "      <td>16.652113</td>\n",
              "      <td>131</td>\n",
              "      <td>670</td>\n",
              "      <td>801</td>\n",
              "    </tr>\n",
              "    <tr>\n",
              "      <th>3</th>\n",
              "      <td>1</td>\n",
              "      <td>1</td>\n",
              "      <td>1</td>\n",
              "      <td>8.050924</td>\n",
              "      <td>9.47025</td>\n",
              "      <td>43.7273</td>\n",
              "      <td>16.636703</td>\n",
              "      <td>120</td>\n",
              "      <td>1229</td>\n",
              "      <td>1349</td>\n",
              "    </tr>\n",
              "    <tr>\n",
              "      <th>4</th>\n",
              "      <td>2</td>\n",
              "      <td>1</td>\n",
              "      <td>1</td>\n",
              "      <td>8.200000</td>\n",
              "      <td>10.60610</td>\n",
              "      <td>59.0435</td>\n",
              "      <td>10.739832</td>\n",
              "      <td>108</td>\n",
              "      <td>1454</td>\n",
              "      <td>1562</td>\n",
              "    </tr>\n",
              "    <tr>\n",
              "      <th>5</th>\n",
              "      <td>3</td>\n",
              "      <td>1</td>\n",
              "      <td>1</td>\n",
              "      <td>9.305237</td>\n",
              "      <td>11.46350</td>\n",
              "      <td>43.6957</td>\n",
              "      <td>12.522300</td>\n",
              "      <td>82</td>\n",
              "      <td>1518</td>\n",
              "      <td>1600</td>\n",
              "    </tr>\n",
              "  </tbody>\n",
              "</table>\n",
              "</div>"
            ],
            "text/plain": [
              "         weekday  workingday  weathersit  ...  casual  registered   cnt\n",
              "instant                                   ...                          \n",
              "1              6           0           2  ...     331         654   985\n",
              "2              0           0           2  ...     131         670   801\n",
              "3              1           1           1  ...     120        1229  1349\n",
              "4              2           1           1  ...     108        1454  1562\n",
              "5              3           1           1  ...      82        1518  1600\n",
              "\n",
              "[5 rows x 10 columns]"
            ]
          },
          "metadata": {
            "tags": []
          },
          "execution_count": 20
        }
      ]
    },
    {
      "cell_type": "code",
      "metadata": {
        "colab": {
          "base_uri": "https://localhost:8080/",
          "height": 317
        },
        "id": "FOzAzr7fDIBn",
        "outputId": "a306d79f-b351-458a-f94f-065d62ae535a"
      },
      "source": [
        "# Correlation Columns\n",
        "mask = np.array(df_numeric.corr())\n",
        "\n",
        "# Remove the Mirror images or keep the Lower Triangle and remove the Upper Triangle\n",
        "mask[np.tril_indices_from(mask)] = False\n",
        "\n",
        "sns.heatmap(df_numeric.corr(), mask=mask, annot=True)\n",
        "plt.show()"
      ],
      "execution_count": 21,
      "outputs": [
        {
          "output_type": "display_data",
          "data": {
            "image/png": "[encoded data removed]",
            "text/plain": [
              "<Figure size 432x288 with 2 Axes>"
            ]
          },
          "metadata": {
            "tags": [],
            "needs_background": "light"
          }
        }
      ]
    },
    {
      "cell_type": "code",
      "metadata": {
        "id": "MpMBKgtiDFQO"
      },
      "source": [
        "df_numeric.drop(['atemp'], axis=1, inplace=True)\n"
      ],
      "execution_count": 22,
      "outputs": []
    },
    {
      "cell_type": "code",
      "metadata": {
        "colab": {
          "base_uri": "https://localhost:8080/",
          "height": 225
        },
        "id": "6BpIXxJoESuw",
        "outputId": "6cd1e5de-27d1-4533-9427-76a2be99743b"
      },
      "source": [
        "df_numeric.head()"
      ],
      "execution_count": 23,
      "outputs": [
        {
          "output_type": "execute_result",
          "data": {
            "text/html": [
              "<div>\n",
              "<style scoped>\n",
              "    .dataframe tbody tr th:only-of-type {\n",
              "        vertical-align: middle;\n",
              "    }\n",
              "\n",
              "    .dataframe tbody tr th {\n",
              "        vertical-align: top;\n",
              "    }\n",
              "\n",
              "    .dataframe thead th {\n",
              "        text-align: right;\n",
              "    }\n",
              "</style>\n",
              "<table border=\"1\" class=\"dataframe\">\n",
              "  <thead>\n",
              "    <tr style=\"text-align: right;\">\n",
              "      <th></th>\n",
              "      <th>weekday</th>\n",
              "      <th>workingday</th>\n",
              "      <th>weathersit</th>\n",
              "      <th>temp</th>\n",
              "      <th>hum</th>\n",
              "      <th>windspeed</th>\n",
              "      <th>casual</th>\n",
              "      <th>registered</th>\n",
              "      <th>cnt</th>\n",
              "    </tr>\n",
              "    <tr>\n",
              "      <th>instant</th>\n",
              "      <th></th>\n",
              "      <th></th>\n",
              "      <th></th>\n",
              "      <th></th>\n",
              "      <th></th>\n",
              "      <th></th>\n",
              "      <th></th>\n",
              "      <th></th>\n",
              "      <th></th>\n",
              "    </tr>\n",
              "  </thead>\n",
              "  <tbody>\n",
              "    <tr>\n",
              "      <th>1</th>\n",
              "      <td>6</td>\n",
              "      <td>0</td>\n",
              "      <td>2</td>\n",
              "      <td>14.110847</td>\n",
              "      <td>80.5833</td>\n",
              "      <td>10.749882</td>\n",
              "      <td>331</td>\n",
              "      <td>654</td>\n",
              "      <td>985</td>\n",
              "    </tr>\n",
              "    <tr>\n",
              "      <th>2</th>\n",
              "      <td>0</td>\n",
              "      <td>0</td>\n",
              "      <td>2</td>\n",
              "      <td>14.902598</td>\n",
              "      <td>69.6087</td>\n",
              "      <td>16.652113</td>\n",
              "      <td>131</td>\n",
              "      <td>670</td>\n",
              "      <td>801</td>\n",
              "    </tr>\n",
              "    <tr>\n",
              "      <th>3</th>\n",
              "      <td>1</td>\n",
              "      <td>1</td>\n",
              "      <td>1</td>\n",
              "      <td>8.050924</td>\n",
              "      <td>43.7273</td>\n",
              "      <td>16.636703</td>\n",
              "      <td>120</td>\n",
              "      <td>1229</td>\n",
              "      <td>1349</td>\n",
              "    </tr>\n",
              "    <tr>\n",
              "      <th>4</th>\n",
              "      <td>2</td>\n",
              "      <td>1</td>\n",
              "      <td>1</td>\n",
              "      <td>8.200000</td>\n",
              "      <td>59.0435</td>\n",
              "      <td>10.739832</td>\n",
              "      <td>108</td>\n",
              "      <td>1454</td>\n",
              "      <td>1562</td>\n",
              "    </tr>\n",
              "    <tr>\n",
              "      <th>5</th>\n",
              "      <td>3</td>\n",
              "      <td>1</td>\n",
              "      <td>1</td>\n",
              "      <td>9.305237</td>\n",
              "      <td>43.6957</td>\n",
              "      <td>12.522300</td>\n",
              "      <td>82</td>\n",
              "      <td>1518</td>\n",
              "      <td>1600</td>\n",
              "    </tr>\n",
              "  </tbody>\n",
              "</table>\n",
              "</div>"
            ],
            "text/plain": [
              "         weekday  workingday  weathersit  ...  casual  registered   cnt\n",
              "instant                                   ...                          \n",
              "1              6           0           2  ...     331         654   985\n",
              "2              0           0           2  ...     131         670   801\n",
              "3              1           1           1  ...     120        1229  1349\n",
              "4              2           1           1  ...     108        1454  1562\n",
              "5              3           1           1  ...      82        1518  1600\n",
              "\n",
              "[5 rows x 9 columns]"
            ]
          },
          "metadata": {
            "tags": []
          },
          "execution_count": 23
        }
      ]
    },
    {
      "cell_type": "code",
      "metadata": {
        "id": "rJLvPW4JEWKH"
      },
      "source": [
        "X = df_numeric.drop('cnt', axis=1)\n",
        "y = df_numeric['cnt']"
      ],
      "execution_count": 62,
      "outputs": []
    },
    {
      "cell_type": "code",
      "metadata": {
        "id": "sz0L3GrwITU9"
      },
      "source": [
        "from sklearn.model_selection import train_test_split\n",
        "X_train, X_test, y_train, y_test = train_test_split(X, y, test_size=0.3, random_state=121)"
      ],
      "execution_count": 63,
      "outputs": []
    },
    {
      "cell_type": "code",
      "metadata": {
        "id": "bo0w7huFITYQ"
      },
      "source": [
        "from sklearn.preprocessing import MinMaxScaler\n",
        "\n",
        "scaler = MinMaxScaler()\n",
        "\n",
        "X_train[['temp', 'hum', 'windspeed', 'casual',\n",
        "         'registered']] = scaler.fit_transform(X_train[['temp', 'hum', 'windspeed', 'casual', 'registered']])\n",
        "\n",
        "X_test[['temp', 'hum', 'windspeed', 'casual',\n",
        "         'registered']] = scaler.transform(X_test[['temp', 'hum', 'windspeed', 'casual', 'registered']])"
      ],
      "execution_count": 64,
      "outputs": []
    },
    {
      "cell_type": "code",
      "metadata": {
        "colab": {
          "base_uri": "https://localhost:8080/"
        },
        "id": "972kvoI6GyZP",
        "outputId": "60a18cbe-e268-43a6-de15-92e3042de54c"
      },
      "source": [
        "from sklearn.ensemble import GradientBoostingRegressor\n",
        "model = GradientBoostingRegressor()\n",
        "model.fit(X_train,y_train)"
      ],
      "execution_count": 65,
      "outputs": [
        {
          "output_type": "execute_result",
          "data": {
            "text/plain": [
              "GradientBoostingRegressor(alpha=0.9, ccp_alpha=0.0, criterion='friedman_mse',\n",
              "                          init=None, learning_rate=0.1, loss='ls', max_depth=3,\n",
              "                          max_features=None, max_leaf_nodes=None,\n",
              "                          min_impurity_decrease=0.0, min_impurity_split=None,\n",
              "                          min_samples_leaf=1, min_samples_split=2,\n",
              "                          min_weight_fraction_leaf=0.0, n_estimators=100,\n",
              "                          n_iter_no_change=None, presort='deprecated',\n",
              "                          random_state=None, subsample=1.0, tol=0.0001,\n",
              "                          validation_fraction=0.1, verbose=0, warm_start=False)"
            ]
          },
          "metadata": {
            "tags": []
          },
          "execution_count": 65
        }
      ]
    },
    {
      "cell_type": "code",
      "metadata": {
        "colab": {
          "base_uri": "https://localhost:8080/"
        },
        "id": "Oe8vR4YsG8Bg",
        "outputId": "7fb6de35-38bd-4067-fa4f-c3556df2d2f9"
      },
      "source": [
        "model.score(X_train,y_train)\n"
      ],
      "execution_count": 66,
      "outputs": [
        {
          "output_type": "execute_result",
          "data": {
            "text/plain": [
              "0.9989038361389349"
            ]
          },
          "metadata": {
            "tags": []
          },
          "execution_count": 66
        }
      ]
    },
    {
      "cell_type": "code",
      "metadata": {
        "colab": {
          "base_uri": "https://localhost:8080/"
        },
        "id": "DZLpQD0oHC9h",
        "outputId": "64ec7c69-5c9a-4363-e606-47dbc0fe9e2c"
      },
      "source": [
        "model.score(X_test,y_test)\n"
      ],
      "execution_count": 67,
      "outputs": [
        {
          "output_type": "execute_result",
          "data": {
            "text/plain": [
              "0.9954262674273527"
            ]
          },
          "metadata": {
            "tags": []
          },
          "execution_count": 67
        }
      ]
    },
    {
      "cell_type": "code",
      "metadata": {
        "colab": {
          "base_uri": "https://localhost:8080/"
        },
        "id": "Ys9pTB-nHG0x",
        "outputId": "6594ee77-f2e3-4b5f-df36-1c2fe883d41f"
      },
      "source": [
        "y_preds = model.predict(X_test)\n",
        "y_preds\n"
      ],
      "execution_count": 73,
      "outputs": [
        {
          "output_type": "execute_result",
          "data": {
            "text/plain": [
              "array([4386.40737775, 6440.50761721, 6881.41027809, 5164.76254621,\n",
              "       7045.96416013, 2458.20975347, 4032.49052186, 4801.38556202,\n",
              "       5073.55519991, 4841.62124485, 1966.11942668, 3670.38883935,\n",
              "       6625.82380532, 1609.98134361, 7748.39037314, 1839.81602874,\n",
              "        780.22942917, 2855.9164145 , 4513.21109781, 6613.61570014,\n",
              "       1931.71062882, 7406.71175369, 4295.78913854, 6985.49738263,\n",
              "       2255.25054115, 5789.87441528, 4722.10217888, 2217.94260328,\n",
              "       5171.32437856, 7333.43380679, 4350.18120749, 3924.00477564,\n",
              "       3018.17487268, 5957.61851355, 4639.32510709, 8288.81577727,\n",
              "       5285.60615676, 7545.70131556, 4054.48589747, 5066.90481445,\n",
              "       2315.81496208, 7513.99742511, 5215.1675844 , 3500.97032887,\n",
              "       2043.38980974, 5620.60459768, 1620.85203128, 5094.23521744,\n",
              "       4947.41613604, 4721.80016747, 7605.46639449, 4451.9313544 ,\n",
              "       3873.7015528 , 3656.28387481,  781.87566064, 2135.70062748,\n",
              "       7381.24669433, 7645.70711441, 5278.83356121, 4365.40333705,\n",
              "       5013.57776096, 3969.17938119, 3796.40253105, 5805.29248012,\n",
              "       4776.63231219, 4312.08573386, 6629.54846472, 7643.08748864,\n",
              "       1367.68909993, 3158.00121057, 7016.87192963, 5747.20080275,\n",
              "       4562.17063449, 4079.87612875, 4345.62686097, 4009.18715486,\n",
              "       4687.71178552, 4176.12574913, 4530.81864811, 2504.66066484,\n",
              "       3131.19881081, 2318.32415848, 4932.76302172, 4640.54376766,\n",
              "       1361.21566462, 2011.53390283, 1536.33877934, 6324.87487405,\n",
              "       8002.767989  , 7390.90946902, 1681.21069697, 4810.44460239,\n",
              "       6349.91791018, 1436.89727742, 4386.40737775, 2435.59211987,\n",
              "       3333.67082498, 5561.95347732, 7038.01928449, 3991.32593368,\n",
              "       7166.59483642, 6593.05162647, 7597.2277595 , 4925.90265755,\n",
              "       1544.33836301, 4083.86327347, 6381.93130286, 6350.04247354,\n",
              "       6294.52962371, 1864.17462681, 2879.21568204, 4793.960766  ,\n",
              "       1426.48489561, 4294.52203197, 7232.10757427, 6073.10596829,\n",
              "       4020.08466161, 5392.53306271, 7619.13765408, 7518.04464704,\n",
              "       4358.68190871, 4176.12574913,  534.99698315, 1537.01896651,\n",
              "       4141.07738671, 3688.48881838, 6426.99688378, 4587.50945695,\n",
              "       3968.07902549, 5038.63391729, 6244.54948598, 2103.64842621,\n",
              "       7320.26941858, 7491.44443637, 4382.5675102 , 1047.97139182,\n",
              "       3709.46994982, 3644.55922965, 6397.98715468,  522.75981695,\n",
              "       4529.20728707, 3639.44586261, 5543.13164176, 6836.79232637,\n",
              "       8171.95072449, 3643.37051855, 6760.57268302, 4789.99633509,\n",
              "       4654.67615547, 1230.675763  , 3987.79300138, 3211.30118575,\n",
              "       1811.48537896, 6916.97412295,  889.37392658, 7053.13621588,\n",
              "       2488.74118954, 3310.13497964, 6352.66125953, 3692.45279096,\n",
              "       1181.03852377, 5510.98757218, 3118.02127853, 4483.71689904,\n",
              "       4644.81270496,  820.62151394, 4622.73740193,  559.07788297,\n",
              "       1830.51682184, 5069.98760016, 7322.493588  , 6782.48783207,\n",
              "       7420.18723278,  976.2537558 , 2956.28160614, 5854.34842863,\n",
              "       3835.8602778 , 5504.82992844, 3031.81685128, 2185.50402379,\n",
              "       2173.53834507, 4768.22213979, 4052.39802438, 7027.70459133,\n",
              "       2877.37435095, 5260.40378084, 3838.31062763, 4628.8165157 ,\n",
              "       3708.11321707, 1764.59213558, 7315.77045985, 5512.92012606,\n",
              "       4763.86414365, 2795.37560428, 5267.56889764, 3949.39831773,\n",
              "       6405.45331545, 5158.99212079, 4785.63640417, 7589.83442126,\n",
              "        985.91565485, 3696.94794519, 5140.5313995 , 6066.9580597 ,\n",
              "       4082.54806105, 4425.19564453, 1539.63983367, 2726.04170693,\n",
              "       4597.55303896, 7429.29460259, 3244.86766548, 7432.92428942,\n",
              "       4780.85140847, 2846.26285839, 2128.01314426, 5511.90922522,\n",
              "       1413.31668371, 5236.87998271, 5357.01225644])"
            ]
          },
          "metadata": {
            "tags": []
          },
          "execution_count": 73
        }
      ]
    },
    {
      "cell_type": "code",
      "metadata": {
        "id": "1qmTjzvqPNiV"
      },
      "source": [
        ""
      ],
      "execution_count": null,
      "outputs": []
    }
  ]
}