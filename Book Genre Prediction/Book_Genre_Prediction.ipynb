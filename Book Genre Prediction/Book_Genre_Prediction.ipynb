{
  "nbformat": 4,
  "nbformat_minor": 0,
  "metadata": {
    "colab": {
      "name": "Book Genre Prediction.ipynb",
      "provenance": []
    },
    "kernelspec": {
      "name": "python3",
      "display_name": "Python 3"
    },
    "language_info": {
      "name": "python"
    }
  },
  "cells": [
    {
      "cell_type": "markdown",
      "metadata": {
        "id": "P1B0M06be4Xm"
      },
      "source": [
        "# **Book Genre Prediction**"
      ]
    },
    {
      "cell_type": "code",
      "metadata": {
        "id": "qt9M3yIHSyqj"
      },
      "source": [
        "#Importing libraries.\n",
        "\n",
        "import pandas as pd\n",
        "import numpy as np\n",
        "import nltk\n",
        "import matplotlib.pyplot as plt \n",
        "import seaborn as sns\n",
        "import re\n",
        "from datetime import datetime\n",
        "from sklearn.feature_extraction.text import TfidfVectorizer\n",
        "from sklearn.model_selection import train_test_split\n",
        "from sklearn.metrics import accuracy_score \n",
        "from sklearn.metrics import classification_report,confusion_matrix\n",
        "from sklearn.ensemble import RandomForestClassifier\n",
        "from sklearn.tree import DecisionTreeClassifier\n",
        "from sklearn.svm import SVC\n",
        "from lightgbm import LGBMClassifier\n",
        "from sklearn.ensemble import GradientBoostingClassifier\n"
      ],
      "execution_count": 1,
      "outputs": []
    },
    {
      "cell_type": "code",
      "metadata": {
        "id": "KONR_gBPTqQD"
      },
      "source": [
        "#Using the pandas framework a dataset is created using the \"BooksDataSet.csv\" file.\n",
        "\n",
        "books=pd.read_csv('BooksDataSet.csv')\n",
        "\n",
        "#We only keep the 4 neccessary columns that we will be need. \n",
        "books=pd.DataFrame(books,columns=['book_id','book_name','genre','summary'])"
      ],
      "execution_count": 2,
      "outputs": []
    },
    {
      "cell_type": "code",
      "metadata": {
        "colab": {
          "base_uri": "https://localhost:8080/",
          "height": 203
        },
        "id": "EFSQMtDkTu4D",
        "outputId": "9c150f82-65ac-436c-af37-6d499eefe96d"
      },
      "source": [
        "books.head()"
      ],
      "execution_count": 3,
      "outputs": [
        {
          "output_type": "execute_result",
          "data": {
            "text/html": [
              "<div>\n",
              "<style scoped>\n",
              "    .dataframe tbody tr th:only-of-type {\n",
              "        vertical-align: middle;\n",
              "    }\n",
              "\n",
              "    .dataframe tbody tr th {\n",
              "        vertical-align: top;\n",
              "    }\n",
              "\n",
              "    .dataframe thead th {\n",
              "        text-align: right;\n",
              "    }\n",
              "</style>\n",
              "<table border=\"1\" class=\"dataframe\">\n",
              "  <thead>\n",
              "    <tr style=\"text-align: right;\">\n",
              "      <th></th>\n",
              "      <th>book_id</th>\n",
              "      <th>book_name</th>\n",
              "      <th>genre</th>\n",
              "      <th>summary</th>\n",
              "    </tr>\n",
              "  </thead>\n",
              "  <tbody>\n",
              "    <tr>\n",
              "      <th>0</th>\n",
              "      <td>3248537</td>\n",
              "      <td>Drowned Wednesday</td>\n",
              "      <td>Fantasy</td>\n",
              "      <td>Drowned Wednesday is the first Trustee among ...</td>\n",
              "    </tr>\n",
              "    <tr>\n",
              "      <th>1</th>\n",
              "      <td>27796919</td>\n",
              "      <td>The Lost Hero</td>\n",
              "      <td>Fantasy</td>\n",
              "      <td>As the book opens, Jason awakens on a school ...</td>\n",
              "    </tr>\n",
              "    <tr>\n",
              "      <th>2</th>\n",
              "      <td>3910776</td>\n",
              "      <td>The Eyes of the Overworld</td>\n",
              "      <td>Fantasy</td>\n",
              "      <td>Cugel is easily persuaded by the merchant Fia...</td>\n",
              "    </tr>\n",
              "    <tr>\n",
              "      <th>3</th>\n",
              "      <td>5969644</td>\n",
              "      <td>Magic's Promise</td>\n",
              "      <td>Fantasy</td>\n",
              "      <td>The book opens with Herald-Mage Vanyel return...</td>\n",
              "    </tr>\n",
              "    <tr>\n",
              "      <th>4</th>\n",
              "      <td>3173445</td>\n",
              "      <td>Taran Wanderer</td>\n",
              "      <td>Fantasy</td>\n",
              "      <td>Taran and Gurgi have returned to Caer Dallben...</td>\n",
              "    </tr>\n",
              "  </tbody>\n",
              "</table>\n",
              "</div>"
            ],
            "text/plain": [
              "    book_id  ...                                            summary\n",
              "0   3248537  ...   Drowned Wednesday is the first Trustee among ...\n",
              "1  27796919  ...   As the book opens, Jason awakens on a school ...\n",
              "2   3910776  ...   Cugel is easily persuaded by the merchant Fia...\n",
              "3   5969644  ...   The book opens with Herald-Mage Vanyel return...\n",
              "4   3173445  ...   Taran and Gurgi have returned to Caer Dallben...\n",
              "\n",
              "[5 rows x 4 columns]"
            ]
          },
          "metadata": {
            "tags": []
          },
          "execution_count": 3
        }
      ]
    },
    {
      "cell_type": "code",
      "metadata": {
        "colab": {
          "base_uri": "https://localhost:8080/"
        },
        "id": "M3nEThVyTyMx",
        "outputId": "da5cd003-5332-4a3d-c28d-f0ad7e0f1cd4"
      },
      "source": [
        "books.info()"
      ],
      "execution_count": 4,
      "outputs": [
        {
          "output_type": "stream",
          "text": [
            "<class 'pandas.core.frame.DataFrame'>\n",
            "RangeIndex: 3000 entries, 0 to 2999\n",
            "Data columns (total 4 columns):\n",
            " #   Column     Non-Null Count  Dtype \n",
            "---  ------     --------------  ----- \n",
            " 0   book_id    3000 non-null   int64 \n",
            " 1   book_name  3000 non-null   object\n",
            " 2   genre      3000 non-null   object\n",
            " 3   summary    3000 non-null   object\n",
            "dtypes: int64(1), object(3)\n",
            "memory usage: 93.9+ KB\n"
          ],
          "name": "stdout"
        }
      ]
    },
    {
      "cell_type": "code",
      "metadata": {
        "colab": {
          "base_uri": "https://localhost:8080/"
        },
        "id": "_5UM6HRBT2di",
        "outputId": "f239f3eb-c37a-4cb1-ea5a-5b5750a111dd"
      },
      "source": [
        "books.shape"
      ],
      "execution_count": 5,
      "outputs": [
        {
          "output_type": "execute_result",
          "data": {
            "text/plain": [
              "(3000, 4)"
            ]
          },
          "metadata": {
            "tags": []
          },
          "execution_count": 5
        }
      ]
    },
    {
      "cell_type": "code",
      "metadata": {
        "colab": {
          "base_uri": "https://localhost:8080/",
          "height": 265
        },
        "id": "ucqIXVsWT5SY",
        "outputId": "aa10f0f0-3a2c-4421-fa2a-07bd61d5fd87"
      },
      "source": [
        "#Grouping all the rows by genre.\n",
        "books.groupby('genre').count()"
      ],
      "execution_count": 6,
      "outputs": [
        {
          "output_type": "execute_result",
          "data": {
            "text/html": [
              "<div>\n",
              "<style scoped>\n",
              "    .dataframe tbody tr th:only-of-type {\n",
              "        vertical-align: middle;\n",
              "    }\n",
              "\n",
              "    .dataframe tbody tr th {\n",
              "        vertical-align: top;\n",
              "    }\n",
              "\n",
              "    .dataframe thead th {\n",
              "        text-align: right;\n",
              "    }\n",
              "</style>\n",
              "<table border=\"1\" class=\"dataframe\">\n",
              "  <thead>\n",
              "    <tr style=\"text-align: right;\">\n",
              "      <th></th>\n",
              "      <th>book_id</th>\n",
              "      <th>book_name</th>\n",
              "      <th>summary</th>\n",
              "    </tr>\n",
              "    <tr>\n",
              "      <th>genre</th>\n",
              "      <th></th>\n",
              "      <th></th>\n",
              "      <th></th>\n",
              "    </tr>\n",
              "  </thead>\n",
              "  <tbody>\n",
              "    <tr>\n",
              "      <th>Crime Fiction</th>\n",
              "      <td>500</td>\n",
              "      <td>500</td>\n",
              "      <td>500</td>\n",
              "    </tr>\n",
              "    <tr>\n",
              "      <th>Fantasy</th>\n",
              "      <td>500</td>\n",
              "      <td>500</td>\n",
              "      <td>500</td>\n",
              "    </tr>\n",
              "    <tr>\n",
              "      <th>Historical novel</th>\n",
              "      <td>500</td>\n",
              "      <td>500</td>\n",
              "      <td>500</td>\n",
              "    </tr>\n",
              "    <tr>\n",
              "      <th>Horror</th>\n",
              "      <td>500</td>\n",
              "      <td>500</td>\n",
              "      <td>500</td>\n",
              "    </tr>\n",
              "    <tr>\n",
              "      <th>Science Fiction</th>\n",
              "      <td>500</td>\n",
              "      <td>500</td>\n",
              "      <td>500</td>\n",
              "    </tr>\n",
              "    <tr>\n",
              "      <th>Thriller</th>\n",
              "      <td>500</td>\n",
              "      <td>500</td>\n",
              "      <td>500</td>\n",
              "    </tr>\n",
              "  </tbody>\n",
              "</table>\n",
              "</div>"
            ],
            "text/plain": [
              "                  book_id  book_name  summary\n",
              "genre                                        \n",
              "Crime Fiction         500        500      500\n",
              "Fantasy               500        500      500\n",
              "Historical novel      500        500      500\n",
              "Horror                500        500      500\n",
              "Science Fiction       500        500      500\n",
              "Thriller              500        500      500"
            ]
          },
          "metadata": {
            "tags": []
          },
          "execution_count": 6
        }
      ]
    },
    {
      "cell_type": "code",
      "metadata": {
        "colab": {
          "base_uri": "https://localhost:8080/"
        },
        "id": "LeXnVEacT9Aw",
        "outputId": "3d9d8da5-30ea-410c-8c56-4591c28d8497"
      },
      "source": [
        "books['summary']\n"
      ],
      "execution_count": 7,
      "outputs": [
        {
          "output_type": "execute_result",
          "data": {
            "text/plain": [
              "0        Drowned Wednesday is the first Trustee among ...\n",
              "1        As the book opens, Jason awakens on a school ...\n",
              "2        Cugel is easily persuaded by the merchant Fia...\n",
              "3        The book opens with Herald-Mage Vanyel return...\n",
              "4        Taran and Gurgi have returned to Caer Dallben...\n",
              "                              ...                        \n",
              "2995     A Novel from the NUMA files, A Kurt Austin Ad...\n",
              "2996     Gilbert Kemp is dealer specializing in antiqu...\n",
              "2997     \"How do you know when you're in too deep? Dav...\n",
              "2998     The story concerns the life of Johnnie Pascoe...\n",
              "2999     The First Chief: Will Henry Lee: The novel op...\n",
              "Name: summary, Length: 3000, dtype: object"
            ]
          },
          "metadata": {
            "tags": []
          },
          "execution_count": 7
        }
      ]
    },
    {
      "cell_type": "code",
      "metadata": {
        "id": "vmjVbRn_UAKn"
      },
      "source": [
        "# function for text cleaning\n",
        " \n",
        "def clean(text):\n",
        "    # remove backslash-apostrophe \n",
        "    text = re.sub(\"\\'\", \"\", text) \n",
        "    # remove everything except alphabets \n",
        "    text = re.sub(\"[^a-zA-Z]\",\" \",text) \n",
        "    # remove whitespaces \n",
        "    text = ' '.join(text.split()) \n",
        "    # convert text to lowercase \n",
        "    text = text.lower() \n",
        "    \n",
        "    return text\n",
        "\n",
        "books.loc[:,'summary']=books.loc[:,'summary'].apply(lambda x: clean(x))"
      ],
      "execution_count": 8,
      "outputs": []
    },
    {
      "cell_type": "code",
      "metadata": {
        "colab": {
          "base_uri": "https://localhost:8080/"
        },
        "id": "GLGGIH7PUDh0",
        "outputId": "db109521-0e22-490f-9d82-b2e25c27e831"
      },
      "source": [
        "#Displaying \"summary\" after text-cleaning.\n",
        "books['summary']\n"
      ],
      "execution_count": 9,
      "outputs": [
        {
          "output_type": "execute_result",
          "data": {
            "text/plain": [
              "0       drowned wednesday is the first trustee among t...\n",
              "1       as the book opens jason awakens on a school bu...\n",
              "2       cugel is easily persuaded by the merchant fian...\n",
              "3       the book opens with herald mage vanyel returni...\n",
              "4       taran and gurgi have returned to caer dallben ...\n",
              "                              ...                        \n",
              "2995    a novel from the numa files a kurt austin adve...\n",
              "2996    gilbert kemp is dealer specializing in antique...\n",
              "2997    how do you know when youre in too deep davey h...\n",
              "2998    the story concerns the life of johnnie pascoe ...\n",
              "2999    the first chief will henry lee the novel opens...\n",
              "Name: summary, Length: 3000, dtype: object"
            ]
          },
          "metadata": {
            "tags": []
          },
          "execution_count": 9
        }
      ]
    },
    {
      "cell_type": "code",
      "metadata": {
        "colab": {
          "base_uri": "https://localhost:8080/",
          "height": 385
        },
        "id": "VPrvOq07UJj1",
        "outputId": "274bb4d1-63f0-4296-ac63-3232ca02b576"
      },
      "source": [
        "#Function to visualize the words and frequency in book's summary.\n",
        "\n",
        "print(\"Graph to visualize the words and frequency in book's summary.\\n\\n\")\n",
        "\n",
        "def freqwords(x, terms): \n",
        "  allwords = ' '.join([text for text in x]) \n",
        "  allwords = allwords.split() \n",
        "  fdist = nltk.FreqDist(allwords) \n",
        "  wordsdf = pd.DataFrame({'word':list(fdist.keys()), 'count':list(fdist.values())}) \n",
        "  \n",
        "  \n",
        "  d = wordsdf.nlargest(columns=\"count\", n = terms) \n",
        "  \n",
        "  # visualize words and frequencies\n",
        "  plt.figure(figsize=(7,5)) \n",
        "  ax = sns.barplot(data=d, x= \"count\", y = \"word\") \n",
        "  ax.set(ylabel = 'Word') \n",
        "  plt.show()\n",
        "  \n",
        "# print 25 most frequent words \n",
        "freqwords(books['summary'], 25)"
      ],
      "execution_count": 10,
      "outputs": [
        {
          "output_type": "stream",
          "text": [
            "Graph to visualize the words and frequency in book's summary.\n",
            "\n",
            "\n"
          ],
          "name": "stdout"
        },
        {
          "output_type": "display_data",
          "data": {
            "image/png": "[encoded data removed]",
            "text/plain": [
              "<Figure size 504x360 with 1 Axes>"
            ]
          },
          "metadata": {
            "tags": [],
            "needs_background": "light"
          }
        }
      ]
    },
    {
      "cell_type": "code",
      "metadata": {
        "colab": {
          "base_uri": "https://localhost:8080/"
        },
        "id": "HeW7LijyUPoj",
        "outputId": "6b9e4ca2-ee78-456c-f747-77b2857f4d45"
      },
      "source": [
        "nltk.download('stopwords')\n",
        "\n",
        "from nltk.corpus import stopwords\n",
        "stop_words = set(stopwords.words('english'))\n",
        "\n",
        "# function to remove stopwords\n",
        "def removestopwords(text):\n",
        "    no_stopword_text = [w for w in text.split() if not w in stop_words]\n",
        "    return ' '.join(no_stopword_text)\n",
        "\n",
        "books['summary'] = books['summary'].apply(lambda x: removestopwords(x))"
      ],
      "execution_count": 11,
      "outputs": [
        {
          "output_type": "stream",
          "text": [
            "[nltk_data] Downloading package stopwords to /root/nltk_data...\n",
            "[nltk_data]   Package stopwords is already up-to-date!\n"
          ],
          "name": "stdout"
        }
      ]
    },
    {
      "cell_type": "code",
      "metadata": {
        "colab": {
          "base_uri": "https://localhost:8080/"
        },
        "id": "1XJHvAkjUVG3",
        "outputId": "f7ab6cd7-35be-47ce-8caf-a0277de84152"
      },
      "source": [
        "nltk.download('wordnet')\n",
        "from nltk.stem import WordNetLemmatizer\n",
        "\n",
        "lemma=WordNetLemmatizer()\n",
        "\n",
        "def lematizing(sentence):\n",
        "    stemSentence = \"\"\n",
        "    for word in sentence.split():\n",
        "        stem = lemma.lemmatize(word)\n",
        "        stemSentence += stem\n",
        "        stemSentence += \" \"\n",
        "    stemSentence = stemSentence.strip()\n",
        "    return stemSentence\n",
        "\n",
        "\n",
        "books['summary'] = books['summary'].apply(lambda x: lematizing(x))"
      ],
      "execution_count": 12,
      "outputs": [
        {
          "output_type": "stream",
          "text": [
            "[nltk_data] Downloading package wordnet to /root/nltk_data...\n",
            "[nltk_data]   Package wordnet is already up-to-date!\n"
          ],
          "name": "stdout"
        }
      ]
    },
    {
      "cell_type": "code",
      "metadata": {
        "id": "I7nMZtWKUZIx"
      },
      "source": [
        "from nltk.stem import PorterStemmer\n",
        "stemmer = PorterStemmer()\n",
        "def stemming(sentence):\n",
        "    stemSentence = \"\"\n",
        "    for word in sentence.split():\n",
        "        stem = stemmer.stem(word)\n",
        "        stemSentence += stem\n",
        "        stemSentence += \" \"\n",
        "    stemSentence = stemSentence.strip()\n",
        "    return stemSentence\n",
        "\n",
        "\n",
        "books['summary'] = books['summary'].apply(lambda x: stemming(x))"
      ],
      "execution_count": 13,
      "outputs": []
    },
    {
      "cell_type": "code",
      "metadata": {
        "colab": {
          "base_uri": "https://localhost:8080/"
        },
        "id": "mxGCotHLUdDE",
        "outputId": "cb803711-6740-461d-d44d-0f8c11f7dd43"
      },
      "source": [
        "books['summary']\n"
      ],
      "execution_count": 14,
      "outputs": [
        {
          "output_type": "execute_result",
          "data": {
            "text/plain": [
              "0       drown wednesday first truste among morrow day ...\n",
              "1       book open jason awaken school bu unabl rememb ...\n",
              "2       cugel easili persuad merchant fianosth attempt...\n",
              "3       book open herald mage vanyel return countri va...\n",
              "4       taran gurgi return caer dallben follow event t...\n",
              "                              ...                        \n",
              "2995    novel numa file kurt austin adventur novel mai...\n",
              "2996    gilbert kemp dealer special antiqu gun london ...\n",
              "2997    know your deep davey alway live shadow older b...\n",
              "2998    stori concern life johnni pasco retir commerci...\n",
              "2999    first chief henri lee novel open grow town del...\n",
              "Name: summary, Length: 3000, dtype: object"
            ]
          },
          "metadata": {
            "tags": []
          },
          "execution_count": 14
        }
      ]
    },
    {
      "cell_type": "code",
      "metadata": {
        "colab": {
          "base_uri": "https://localhost:8080/",
          "height": 334
        },
        "id": "ROSKX5CbUjUQ",
        "outputId": "87a1b9fd-04bd-4f9c-ad10-83163b74fd82"
      },
      "source": [
        "#Function to visualize the words and frequency in book's summary.\n",
        "\n",
        "# print 25 most frequent words \n",
        "freqwords(books['summary'], 25)"
      ],
      "execution_count": 15,
      "outputs": [
        {
          "output_type": "display_data",
          "data": {
            "image/png": "[encoded data removed]",
            "text/plain": [
              "<Figure size 504x360 with 1 Axes>"
            ]
          },
          "metadata": {
            "tags": [],
            "needs_background": "light"
          }
        }
      ]
    },
    {
      "cell_type": "code",
      "metadata": {
        "id": "pMRhQTrqUnGv"
      },
      "source": [
        "#Labeling each 'genre' with an unique number \n",
        "from sklearn.preprocessing import LabelEncoder\n",
        "le = LabelEncoder()\n",
        "y=le.fit_transform(books['genre'])"
      ],
      "execution_count": 16,
      "outputs": []
    },
    {
      "cell_type": "code",
      "metadata": {
        "colab": {
          "base_uri": "https://localhost:8080/"
        },
        "id": "oBIeH0-qUvz7",
        "outputId": "f75ba5df-a7d7-4dc2-997f-c7dc57f9e90a"
      },
      "source": [
        "#perform inverse mapping on the unique numbers representing a genre.\n",
        "le.inverse_transform([0,1,2,3,4,5])"
      ],
      "execution_count": 17,
      "outputs": [
        {
          "output_type": "execute_result",
          "data": {
            "text/plain": [
              "array(['Crime Fiction', 'Fantasy', 'Historical novel', 'Horror',\n",
              "       'Science Fiction', 'Thriller'], dtype=object)"
            ]
          },
          "metadata": {
            "tags": []
          },
          "execution_count": 17
        }
      ]
    },
    {
      "cell_type": "code",
      "metadata": {
        "id": "YuMUu6ebU4kt"
      },
      "source": [
        "xtrain, xtest, ytrain, ytest = train_test_split(books['summary'], y, test_size=0.2, random_state=557)\n"
      ],
      "execution_count": 18,
      "outputs": []
    },
    {
      "cell_type": "code",
      "metadata": {
        "id": "SxsDQ29DU5BO"
      },
      "source": [
        "#Performing tf-idf \n",
        "\n",
        "tfidf_vectorizer = TfidfVectorizer(max_df=0.8, max_features=10000)\n",
        "xtrain_tfidf = tfidf_vectorizer.fit_transform(xtrain.values.astype('U'))\n",
        "xtest_tfidf = tfidf_vectorizer.transform(xtest.values.astype('U'))"
      ],
      "execution_count": 19,
      "outputs": []
    },
    {
      "cell_type": "code",
      "metadata": {
        "colab": {
          "base_uri": "https://localhost:8080/"
        },
        "id": "70cZOfLtVYqK",
        "outputId": "8f512d3e-e180-42b1-8967-a8bbed57e87d"
      },
      "source": [
        "svc = SVC(kernel='rbf',gamma=1)\n",
        "svc.fit(xtrain_tfidf,ytrain)\n",
        "svpred=svc.predict(xtest_tfidf)\n",
        "\n",
        "print(\"Support Vector Classifier\\n\")\n",
        "print( 'Accuracy Score :',accuracy_score(ytest,svpred))\n",
        "print ('Report : ')\n",
        "print(classification_report(ytest,svpred))\n"
      ],
      "execution_count": 20,
      "outputs": [
        {
          "output_type": "stream",
          "text": [
            "Support Vector Classifier\n",
            "\n",
            "Accuracy Score : 0.775\n",
            "Report : \n",
            "              precision    recall  f1-score   support\n",
            "\n",
            "           0       0.84      0.78      0.81       102\n",
            "           1       0.67      0.76      0.71        89\n",
            "           2       0.84      0.85      0.84       110\n",
            "           3       0.77      0.72      0.74       100\n",
            "           4       0.83      0.77      0.80        97\n",
            "           5       0.71      0.75      0.73       102\n",
            "\n",
            "    accuracy                           0.78       600\n",
            "   macro avg       0.78      0.77      0.77       600\n",
            "weighted avg       0.78      0.78      0.78       600\n",
            "\n"
          ],
          "name": "stdout"
        }
      ]
    },
    {
      "cell_type": "code",
      "metadata": {
        "colab": {
          "base_uri": "https://localhost:8080/"
        },
        "id": "jrEHtjbxchdQ",
        "outputId": "6294cec9-82b1-4271-84e6-a44c2a4f822f"
      },
      "source": [
        "rf = RandomForestClassifier(n_estimators=200)\n",
        "rf.fit(xtrain_tfidf,ytrain)\n",
        "rfpred=rf.predict(xtest_tfidf)\n",
        "\n",
        "print(\"Random Forest Classifier\\n\")\n",
        "print( 'Accuracy Score :',accuracy_score(ytest,rfpred))\n",
        "print ('Report : ')\n",
        "print(classification_report(ytest,rfpred))\n"
      ],
      "execution_count": 21,
      "outputs": [
        {
          "output_type": "stream",
          "text": [
            "Random Forest Classifier\n",
            "\n",
            "Accuracy Score : 0.6433333333333333\n",
            "Report : \n",
            "              precision    recall  f1-score   support\n",
            "\n",
            "           0       0.57      0.79      0.66       102\n",
            "           1       0.53      0.70      0.60        89\n",
            "           2       0.76      0.71      0.73       110\n",
            "           3       0.75      0.58      0.66       100\n",
            "           4       0.70      0.71      0.70        97\n",
            "           5       0.61      0.37      0.46       102\n",
            "\n",
            "    accuracy                           0.64       600\n",
            "   macro avg       0.65      0.64      0.64       600\n",
            "weighted avg       0.66      0.64      0.64       600\n",
            "\n"
          ],
          "name": "stdout"
        }
      ]
    },
    {
      "cell_type": "code",
      "metadata": {
        "colab": {
          "base_uri": "https://localhost:8080/"
        },
        "id": "SOv-cwEFdEcu",
        "outputId": "b8ce3093-fb6b-4aef-84e3-f8ecc04a1b44"
      },
      "source": [
        "dt = DecisionTreeClassifier(criterion = 'entropy')\n",
        "dt.fit(xtrain_tfidf,ytrain)\n",
        "dtpred=dt.predict(xtest_tfidf)\n",
        "\n",
        "print(\"Decision Tree Classifier\\n\")\n",
        "print( 'Accuracy Score :',accuracy_score(ytest,dtpred))\n",
        "print ('Report : ')\n",
        "print(classification_report(ytest,dtpred))\n"
      ],
      "execution_count": 22,
      "outputs": [
        {
          "output_type": "stream",
          "text": [
            "Decision Tree Classifier\n",
            "\n",
            "Accuracy Score : 0.43\n",
            "Report : \n",
            "              precision    recall  f1-score   support\n",
            "\n",
            "           0       0.47      0.50      0.48       102\n",
            "           1       0.41      0.51      0.45        89\n",
            "           2       0.50      0.46      0.48       110\n",
            "           3       0.48      0.40      0.43       100\n",
            "           4       0.45      0.46      0.46        97\n",
            "           5       0.27      0.25      0.26       102\n",
            "\n",
            "    accuracy                           0.43       600\n",
            "   macro avg       0.43      0.43      0.43       600\n",
            "weighted avg       0.43      0.43      0.43       600\n",
            "\n"
          ],
          "name": "stdout"
        }
      ]
    },
    {
      "cell_type": "code",
      "metadata": {
        "colab": {
          "base_uri": "https://localhost:8080/"
        },
        "id": "yBQ9MIdrdU5T",
        "outputId": "928b5dfb-713f-4485-8d8e-d94abfb7834c"
      },
      "source": [
        "gvc = GradientBoostingClassifier()\n",
        "gvc.fit(xtrain_tfidf,ytrain)\n",
        "gvcpred=gvc.predict(xtest_tfidf)\n",
        "\n",
        "print(\"Gradient Boosting Classifier\\n\")\n",
        "print( 'Accuracy Score :',accuracy_score(ytest,gvcpred))\n",
        "print ('Report : ')\n",
        "print(classification_report(ytest,gvcpred))\n"
      ],
      "execution_count": 23,
      "outputs": [
        {
          "output_type": "stream",
          "text": [
            "Gradient Boosting Classifier\n",
            "\n",
            "Accuracy Score : 0.6433333333333333\n",
            "Report : \n",
            "              precision    recall  f1-score   support\n",
            "\n",
            "           0       0.66      0.75      0.70       102\n",
            "           1       0.58      0.55      0.56        89\n",
            "           2       0.72      0.70      0.71       110\n",
            "           3       0.69      0.65      0.67       100\n",
            "           4       0.72      0.69      0.71        97\n",
            "           5       0.49      0.50      0.50       102\n",
            "\n",
            "    accuracy                           0.64       600\n",
            "   macro avg       0.64      0.64      0.64       600\n",
            "weighted avg       0.64      0.64      0.64       600\n",
            "\n"
          ],
          "name": "stdout"
        }
      ]
    },
    {
      "cell_type": "code",
      "metadata": {
        "colab": {
          "base_uri": "https://localhost:8080/"
        },
        "id": "lrX5kkINdlWR",
        "outputId": "5da87d6d-e2dc-48d4-9638-07aa737c2f35"
      },
      "source": [
        "lg = LGBMClassifier()\n",
        "lg.fit(xtrain_tfidf,ytrain)\n",
        "lgbpred=lg.predict(xtest_tfidf)\n",
        "\n",
        "print(\"Naive Bayes Classifier\\n\")\n",
        "print( 'Accuracy Score :',accuracy_score(ytest,lgbpred))\n",
        "print ('Report : ')\n",
        "print(classification_report(ytest,lgbpred))\n"
      ],
      "execution_count": 24,
      "outputs": [
        {
          "output_type": "stream",
          "text": [
            "Naive Bayes Classifier\n",
            "\n",
            "Accuracy Score : 0.655\n",
            "Report : \n",
            "              precision    recall  f1-score   support\n",
            "\n",
            "           0       0.66      0.70      0.68       102\n",
            "           1       0.57      0.64      0.60        89\n",
            "           2       0.74      0.71      0.73       110\n",
            "           3       0.67      0.62      0.64       100\n",
            "           4       0.76      0.69      0.72        97\n",
            "           5       0.55      0.57      0.56       102\n",
            "\n",
            "    accuracy                           0.66       600\n",
            "   macro avg       0.66      0.65      0.65       600\n",
            "weighted avg       0.66      0.66      0.66       600\n",
            "\n"
          ],
          "name": "stdout"
        }
      ]
    },
    {
      "cell_type": "markdown",
      "metadata": {
        "id": "lpolPmV5i-oQ"
      },
      "source": [
        "* Among all models Support Vector Classifier model gives highest accuracy,so we make final prediction using this model."
      ]
    },
    {
      "cell_type": "markdown",
      "metadata": {
        "id": "a037tOaqfAz5"
      },
      "source": [
        "## **Final Support Vector Regression model**"
      ]
    },
    {
      "cell_type": "code",
      "metadata": {
        "colab": {
          "base_uri": "https://localhost:8080/"
        },
        "id": "hEvHWXcreMEx",
        "outputId": "e7ac7beb-3ad5-4673-f944-5005b7095b05"
      },
      "source": [
        "model = SVC(kernel='rbf',gamma=1)\n",
        "model.fit(xtrain_tfidf,ytrain)\n",
        "pred=model.predict(xtest_tfidf)\n",
        "\n",
        "print(pred)\n",
        "print('\\nAccuracy Score :',accuracy_score(ytest,pred))\n",
        "print ('Report : ')\n",
        "conf_matrix = confusion_matrix(ytest, pred)\n",
        "print(classification_report(ytest,pred))\n"
      ],
      "execution_count": 25,
      "outputs": [
        {
          "output_type": "stream",
          "text": [
            "[4 5 1 5 0 0 1 5 2 4 1 4 1 2 5 2 5 1 4 5 4 3 4 2 4 2 2 5 2 4 2 2 5 3 2 2 5\n",
            " 3 0 4 4 4 5 3 2 5 2 2 0 4 4 5 0 2 5 3 1 2 4 1 2 4 1 2 0 0 1 1 4 0 4 5 3 0\n",
            " 1 1 4 5 2 2 5 1 5 4 4 5 2 2 2 5 4 2 0 5 3 2 5 3 3 5 0 2 5 3 3 4 2 2 0 3 4\n",
            " 5 3 1 1 4 1 5 4 4 4 5 0 0 0 4 3 1 3 2 2 5 1 2 2 1 0 1 4 3 1 1 3 3 0 2 2 3\n",
            " 3 2 0 4 1 4 0 0 4 1 0 4 1 2 4 2 1 4 4 3 0 3 0 3 2 0 0 3 2 5 2 4 4 3 5 3 1\n",
            " 5 5 3 0 3 5 5 0 4 3 1 2 3 1 0 0 4 2 0 2 4 3 1 2 5 3 3 5 2 1 1 1 0 1 3 1 0\n",
            " 0 2 4 0 1 5 5 5 5 2 3 2 1 5 4 4 3 5 3 2 0 5 5 3 1 0 4 3 0 0 2 5 0 0 5 4 5\n",
            " 3 0 0 1 3 2 2 1 3 1 0 5 2 5 1 4 1 5 1 3 1 5 3 4 3 4 1 1 1 1 0 0 3 2 2 4 4\n",
            " 0 5 1 2 2 1 3 3 4 3 1 5 0 1 3 3 0 2 0 5 2 2 0 5 0 2 3 4 1 3 0 5 1 2 3 3 3\n",
            " 0 5 1 2 2 2 5 2 1 3 0 1 0 1 4 3 0 0 4 3 5 4 0 4 2 0 3 3 3 1 2 5 0 2 5 4 2\n",
            " 5 0 3 0 5 5 5 5 5 0 2 2 2 4 1 5 3 0 5 1 4 0 1 5 4 2 1 2 5 4 5 5 3 3 5 3 1\n",
            " 0 3 0 4 0 2 1 5 5 1 1 4 2 3 0 4 4 2 2 5 5 3 3 4 5 5 2 5 5 2 5 5 4 4 1 2 4\n",
            " 4 5 1 2 1 4 0 1 5 1 4 2 3 5 1 3 2 1 3 0 4 0 0 4 4 2 3 0 2 1 2 4 5 0 1 3 4\n",
            " 5 3 0 0 1 1 5 5 0 0 3 0 2 0 5 4 2 3 2 3 2 5 3 5 5 1 4 2 5 4 2 2 1 2 3 2 2\n",
            " 2 1 5 3 3 4 1 0 4 2 1 3 2 3 2 0 2 4 5 3 5 0 3 2 0 3 1 3 0 2 1 1 5 1 1 5 1\n",
            " 0 2 1 0 2 5 5 4 3 3 0 1 1 5 4 1 0 5 1 0 1 5 5 3 1 4 0 4 1 2 2 0 5 5 4 1 1\n",
            " 0 4 2 1 3 0 2 1]\n",
            "\n",
            "Accuracy Score : 0.775\n",
            "Report : \n",
            "              precision    recall  f1-score   support\n",
            "\n",
            "           0       0.84      0.78      0.81       102\n",
            "           1       0.67      0.76      0.71        89\n",
            "           2       0.84      0.85      0.84       110\n",
            "           3       0.77      0.72      0.74       100\n",
            "           4       0.83      0.77      0.80        97\n",
            "           5       0.71      0.75      0.73       102\n",
            "\n",
            "    accuracy                           0.78       600\n",
            "   macro avg       0.78      0.77      0.77       600\n",
            "weighted avg       0.78      0.78      0.78       600\n",
            "\n"
          ],
          "name": "stdout"
        }
      ]
    },
    {
      "cell_type": "code",
      "metadata": {
        "colab": {
          "base_uri": "https://localhost:8080/"
        },
        "id": "9d6Cw54_aOF8",
        "outputId": "cd6acbdb-8396-43d8-fc1e-ce0406232e77"
      },
      "source": [
        "k = xtest.sample(1).index[0]\n",
        "k"
      ],
      "execution_count": 26,
      "outputs": [
        {
          "output_type": "execute_result",
          "data": {
            "text/plain": [
              "1576"
            ]
          },
          "metadata": {
            "tags": []
          },
          "execution_count": 26
        }
      ]
    },
    {
      "cell_type": "markdown",
      "metadata": {
        "id": "Qz5YNqprgGob"
      },
      "source": [
        "## Testing our Model by comparing Actual genre with Predicted genre"
      ]
    },
    {
      "cell_type": "code",
      "metadata": {
        "colab": {
          "base_uri": "https://localhost:8080/"
        },
        "id": "FGv6YBWgVmZ7",
        "outputId": "b33851bc-548e-4fe0-daea-d2cfc119054d"
      },
      "source": [
        "def process(q):\n",
        "    q = clean(q)\n",
        "    q = removestopwords(q)\n",
        "    q = lematizing(q)\n",
        "    q = stemming(q)\n",
        "    q_vec = tfidf_vectorizer.transform([q])\n",
        "    q_pred = model.predict(q_vec)\n",
        "    return le.inverse_transform(q_pred)[0]\n",
        "\n",
        "for i in range(50):\n",
        "  k = xtest.sample(1).index[0]\n",
        "  \n",
        "  print(\"\\nBook: \", books['book_name'][k] )\n",
        "  print(\"\\nPredicted genre: \", process(xtest[k]))\n",
        "  print(\"\\nActual genre: \",books['genre'][k], \"\\n\")\n",
        "  print(\"-------------------------------\")\n"
      ],
      "execution_count": 27,
      "outputs": [
        {
          "output_type": "stream",
          "text": [
            "\n",
            "Book:  Marazan\n",
            "\n",
            "Predicted genre:  Historical novel\n",
            "\n",
            "Actual genre:  Thriller \n",
            "\n",
            "-------------------------------\n",
            "\n",
            "Book:  Johnny Gone Down\n",
            "\n",
            "Predicted genre:  Thriller\n",
            "\n",
            "Actual genre:  Thriller \n",
            "\n",
            "-------------------------------\n",
            "\n",
            "Book:  Thirteenth City\n",
            "\n",
            "Predicted genre:  Science Fiction\n",
            "\n",
            "Actual genre:  Science Fiction \n",
            "\n",
            "-------------------------------\n",
            "\n",
            "Book:  The Husband\n",
            "\n",
            "Predicted genre:  Fantasy\n",
            "\n",
            "Actual genre:  Thriller \n",
            "\n",
            "-------------------------------\n",
            "\n",
            "Book:  Candle\n",
            "\n",
            "Predicted genre:  Science Fiction\n",
            "\n",
            "Actual genre:  Science Fiction \n",
            "\n",
            "-------------------------------\n",
            "\n",
            "Book:  Blind Lake\n",
            "\n",
            "Predicted genre:  Science Fiction\n",
            "\n",
            "Actual genre:  Science Fiction \n",
            "\n",
            "-------------------------------\n",
            "\n",
            "Book:  Echo Park\n",
            "\n",
            "Predicted genre:  Crime Fiction\n",
            "\n",
            "Actual genre:  Crime Fiction \n",
            "\n",
            "-------------------------------\n",
            "\n",
            "Book:  Sons of Destiny\n",
            "\n",
            "Predicted genre:  Horror\n",
            "\n",
            "Actual genre:  Horror \n",
            "\n",
            "-------------------------------\n",
            "\n",
            "Book:  Quarantine\n",
            "\n",
            "Predicted genre:  Horror\n",
            "\n",
            "Actual genre:  Historical novel \n",
            "\n",
            "-------------------------------\n",
            "\n",
            "Book:  Worldwar: Upsetting the Balance\n",
            "\n",
            "Predicted genre:  Science Fiction\n",
            "\n",
            "Actual genre:  Science Fiction \n",
            "\n",
            "-------------------------------\n",
            "\n",
            "Book:  The Two Deaths of Quincas Wateryell\n",
            "\n",
            "Predicted genre:  Historical novel\n",
            "\n",
            "Actual genre:  Crime Fiction \n",
            "\n",
            "-------------------------------\n",
            "\n",
            "Book:  The Final Unfinished Voyage of Jack Aubrey\n",
            "\n",
            "Predicted genre:  Historical novel\n",
            "\n",
            "Actual genre:  Historical novel \n",
            "\n",
            "-------------------------------\n",
            "\n",
            "Book:  Falling Angel\n",
            "\n",
            "Predicted genre:  Horror\n",
            "\n",
            "Actual genre:  Thriller \n",
            "\n",
            "-------------------------------\n",
            "\n",
            "Book:  Thinner\n",
            "\n",
            "Predicted genre:  Crime Fiction\n",
            "\n",
            "Actual genre:  Horror \n",
            "\n",
            "-------------------------------\n",
            "\n",
            "Book:  Hunted\n",
            "\n",
            "Predicted genre:  Horror\n",
            "\n",
            "Actual genre:  Horror \n",
            "\n",
            "-------------------------------\n",
            "\n",
            "Book:  August 1914\n",
            "\n",
            "Predicted genre:  Historical novel\n",
            "\n",
            "Actual genre:  Historical novel \n",
            "\n",
            "-------------------------------\n",
            "\n",
            "Book:  Sidney Sheldon's After the Darkness\n",
            "\n",
            "Predicted genre:  Crime Fiction\n",
            "\n",
            "Actual genre:  Thriller \n",
            "\n",
            "-------------------------------\n",
            "\n",
            "Book:  The Line of Beauty\n",
            "\n",
            "Predicted genre:  Historical novel\n",
            "\n",
            "Actual genre:  Historical novel \n",
            "\n",
            "-------------------------------\n",
            "\n",
            "Book:  Sharpe's Havoc\n",
            "\n",
            "Predicted genre:  Historical novel\n",
            "\n",
            "Actual genre:  Historical novel \n",
            "\n",
            "-------------------------------\n",
            "\n",
            "Book:  Last Bus to Woodstock\n",
            "\n",
            "Predicted genre:  Crime Fiction\n",
            "\n",
            "Actual genre:  Crime Fiction \n",
            "\n",
            "-------------------------------\n",
            "\n",
            "Book:  Conan the Adventurer\n",
            "\n",
            "Predicted genre:  Fantasy\n",
            "\n",
            "Actual genre:  Fantasy \n",
            "\n",
            "-------------------------------\n",
            "\n",
            "Book:  Spaceship to Saturn\n",
            "\n",
            "Predicted genre:  Science Fiction\n",
            "\n",
            "Actual genre:  Science Fiction \n",
            "\n",
            "-------------------------------\n",
            "\n",
            "Book:  Glasshouse\n",
            "\n",
            "Predicted genre:  Science Fiction\n",
            "\n",
            "Actual genre:  Science Fiction \n",
            "\n",
            "-------------------------------\n",
            "\n",
            "Book:  The Dark Crusader\n",
            "\n",
            "Predicted genre:  Thriller\n",
            "\n",
            "Actual genre:  Thriller \n",
            "\n",
            "-------------------------------\n",
            "\n",
            "Book:  The Sittaford Mystery\n",
            "\n",
            "Predicted genre:  Crime Fiction\n",
            "\n",
            "Actual genre:  Crime Fiction \n",
            "\n",
            "-------------------------------\n",
            "\n",
            "Book:  Guy Mannering\n",
            "\n",
            "Predicted genre:  Crime Fiction\n",
            "\n",
            "Actual genre:  Historical novel \n",
            "\n",
            "-------------------------------\n",
            "\n",
            "Book:  Firstborn\n",
            "\n",
            "Predicted genre:  Science Fiction\n",
            "\n",
            "Actual genre:  Science Fiction \n",
            "\n",
            "-------------------------------\n",
            "\n",
            "Book:  Waiting for Anya\n",
            "\n",
            "Predicted genre:  Historical novel\n",
            "\n",
            "Actual genre:  Historical novel \n",
            "\n",
            "-------------------------------\n",
            "\n",
            "Book:  Hello America\n",
            "\n",
            "Predicted genre:  Science Fiction\n",
            "\n",
            "Actual genre:  Science Fiction \n",
            "\n",
            "-------------------------------\n",
            "\n",
            "Book:  The Six Sacred Stones\n",
            "\n",
            "Predicted genre:  Thriller\n",
            "\n",
            "Actual genre:  Thriller \n",
            "\n",
            "-------------------------------\n",
            "\n",
            "Book:  The Dark Cry of the Moon\n",
            "\n",
            "Predicted genre:  Horror\n",
            "\n",
            "Actual genre:  Horror \n",
            "\n",
            "-------------------------------\n",
            "\n",
            "Book:  Olympos\n",
            "\n",
            "Predicted genre:  Science Fiction\n",
            "\n",
            "Actual genre:  Science Fiction \n",
            "\n",
            "-------------------------------\n",
            "\n",
            "Book:  The Master Mind of Mars\n",
            "\n",
            "Predicted genre:  Science Fiction\n",
            "\n",
            "Actual genre:  Science Fiction \n",
            "\n",
            "-------------------------------\n",
            "\n",
            "Book:  Count Robert of Paris\n",
            "\n",
            "Predicted genre:  Historical novel\n",
            "\n",
            "Actual genre:  Historical novel \n",
            "\n",
            "-------------------------------\n",
            "\n",
            "Book:  Ghoul\n",
            "\n",
            "Predicted genre:  Horror\n",
            "\n",
            "Actual genre:  Horror \n",
            "\n",
            "-------------------------------\n",
            "\n",
            "Book:  Glasshouse\n",
            "\n",
            "Predicted genre:  Science Fiction\n",
            "\n",
            "Actual genre:  Science Fiction \n",
            "\n",
            "-------------------------------\n",
            "\n",
            "Book:  The Postman Always Rings Twice\n",
            "\n",
            "Predicted genre:  Crime Fiction\n",
            "\n",
            "Actual genre:  Crime Fiction \n",
            "\n",
            "-------------------------------\n",
            "\n",
            "Book:  The Bancroft Strategy\n",
            "\n",
            "Predicted genre:  Thriller\n",
            "\n",
            "Actual genre:  Thriller \n",
            "\n",
            "-------------------------------\n",
            "\n",
            "Book:  The Outlaw of Torn\n",
            "\n",
            "Predicted genre:  Historical novel\n",
            "\n",
            "Actual genre:  Historical novel \n",
            "\n",
            "-------------------------------\n",
            "\n",
            "Book:  The Dark Crusader\n",
            "\n",
            "Predicted genre:  Thriller\n",
            "\n",
            "Actual genre:  Thriller \n",
            "\n",
            "-------------------------------\n",
            "\n",
            "Book:  Epiphany\n",
            "\n",
            "Predicted genre:  Crime Fiction\n",
            "\n",
            "Actual genre:  Crime Fiction \n",
            "\n",
            "-------------------------------\n",
            "\n",
            "Book:  Eyes of the Calculor\n",
            "\n",
            "Predicted genre:  Science Fiction\n",
            "\n",
            "Actual genre:  Science Fiction \n",
            "\n",
            "-------------------------------\n",
            "\n",
            "Book:  Bloodhype\n",
            "\n",
            "Predicted genre:  Science Fiction\n",
            "\n",
            "Actual genre:  Fantasy \n",
            "\n",
            "-------------------------------\n",
            "\n",
            "Book:  Outcast\n",
            "\n",
            "Predicted genre:  Historical novel\n",
            "\n",
            "Actual genre:  Historical novel \n",
            "\n",
            "-------------------------------\n",
            "\n",
            "Book:  Od Magic\n",
            "\n",
            "Predicted genre:  Fantasy\n",
            "\n",
            "Actual genre:  Fantasy \n",
            "\n",
            "-------------------------------\n",
            "\n",
            "Book:  The Teahouse Fire\n",
            "\n",
            "Predicted genre:  Historical novel\n",
            "\n",
            "Actual genre:  Historical novel \n",
            "\n",
            "-------------------------------\n",
            "\n",
            "Book:  Just War\n",
            "\n",
            "Predicted genre:  Science Fiction\n",
            "\n",
            "Actual genre:  Science Fiction \n",
            "\n",
            "-------------------------------\n",
            "\n",
            "Book:  Tiassa\n",
            "\n",
            "Predicted genre:  Fantasy\n",
            "\n",
            "Actual genre:  Fantasy \n",
            "\n",
            "-------------------------------\n",
            "\n",
            "Book:  The Final Unfinished Voyage of Jack Aubrey\n",
            "\n",
            "Predicted genre:  Historical novel\n",
            "\n",
            "Actual genre:  Historical novel \n",
            "\n",
            "-------------------------------\n",
            "\n",
            "Book:  At the Gates of Darkness\n",
            "\n",
            "Predicted genre:  Fantasy\n",
            "\n",
            "Actual genre:  Fantasy \n",
            "\n",
            "-------------------------------\n"
          ],
          "name": "stdout"
        }
      ]
    },
    {
      "cell_type": "code",
      "metadata": {
        "id": "YKLDvM5Mi8eV"
      },
      "source": [
        ""
      ],
      "execution_count": 27,
      "outputs": []
    }
  ]
}