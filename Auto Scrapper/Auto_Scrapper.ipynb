{
  "nbformat": 4,
  "nbformat_minor": 0,
  "metadata": {
    "colab": {
      "name": "Auto Scrapper",
      "provenance": [],
      "collapsed_sections": []
    },
    "kernelspec": {
      "name": "python3",
      "display_name": "Python 3"
    },
    "language_info": {
      "name": "python"
    }
  },
  "cells": [
    {
      "cell_type": "code",
      "metadata": {
        "colab": {
          "base_uri": "https://localhost:8080/"
        },
        "id": "YZk1RMKQl3UP",
        "outputId": "c9cdb252-7d03-4585-a45e-492a0abae88a"
      },
      "source": [
        "!pip install autoscraper\n"
      ],
      "execution_count": 1,
      "outputs": [
        {
          "output_type": "stream",
          "text": [
            "Collecting autoscraper\n",
            "  Downloading https://files.pythonhosted.org/packages/50/44/553afbb7624aaa16e71546196c1f3beb170dd555a2822785889a9da5c2e7/autoscraper-1.1.12-py3-none-any.whl\n",
            "Requirement already satisfied: bs4 in /usr/local/lib/python3.7/dist-packages (from autoscraper) (0.0.1)\n",
            "Requirement already satisfied: lxml in /usr/local/lib/python3.7/dist-packages (from autoscraper) (4.2.6)\n",
            "Requirement already satisfied: requests in /usr/local/lib/python3.7/dist-packages (from autoscraper) (2.23.0)\n",
            "Requirement already satisfied: beautifulsoup4 in /usr/local/lib/python3.7/dist-packages (from bs4->autoscraper) (4.6.3)\n",
            "Requirement already satisfied: chardet<4,>=3.0.2 in /usr/local/lib/python3.7/dist-packages (from requests->autoscraper) (3.0.4)\n",
            "Requirement already satisfied: idna<3,>=2.5 in /usr/local/lib/python3.7/dist-packages (from requests->autoscraper) (2.10)\n",
            "Requirement already satisfied: urllib3!=1.25.0,!=1.25.1,<1.26,>=1.21.1 in /usr/local/lib/python3.7/dist-packages (from requests->autoscraper) (1.24.3)\n",
            "Requirement already satisfied: certifi>=2017.4.17 in /usr/local/lib/python3.7/dist-packages (from requests->autoscraper) (2020.12.5)\n",
            "Installing collected packages: autoscraper\n",
            "Successfully installed autoscraper-1.1.12\n"
          ],
          "name": "stdout"
        }
      ]
    },
    {
      "cell_type": "code",
      "metadata": {
        "colab": {
          "base_uri": "https://localhost:8080/"
        },
        "id": "IoGXbJl5mCKv",
        "outputId": "fd5dda44-4404-4e6a-ec0b-0a3aac784937"
      },
      "source": [
        "from autoscraper import AutoScraper\n",
        "\n",
        "url = 'https://github.com/Akash20x?tab=repositories'\n",
        "\n",
        "# We can add one or multiple candidates here.\n",
        "# You can also put urls here to retrieve urls.\n",
        "wanted_list = [\"85\",\"Leetcode_Solutions\",\"6\"]\n",
        "\n",
        "scraper = AutoScraper()\n",
        "result = scraper.build(url, wanted_list)\n",
        "print(result)"
      ],
      "execution_count": 17,
      "outputs": [
        {
          "output_type": "stream",
          "text": [
            "['1', '323', '74', '25', '2', '539', '85', '113', '24', '6', '67', '221', '989', '68', '44', '40', '14', '43', '1,427', 'My_Jupyter_Notebooks', 'Leetcode_Solutions', '1000-Wordpress-websites', 'Lab4-DM-Regression\\n\\n\\n          Forked from LucaBia/Lab4-DM-Regression', 'Word-Analyzer-Report', 'haystack\\n\\n\\n          Forked from deepset-ai/haystack', 'Text-Analysis-Scripts', 'NLP-SMS-Spam-Detection\\n\\n\\n          Forked from Tejas-TA/NLP-SMS-Spam-Detection', 'Data-Structure-and-Algorithms\\n\\n\\n          Forked from Nivedita967/Data-Structure-and-Algorithms', 'TextAnalyzer\\n\\n\\n          Forked from rockingrohit9639/TextAnalyzer', 'social-media-profiler\\n\\n\\n          Forked from pandrey2003/social-media-profiler', 'Algo-Tree\\n\\n\\n          Forked from Algo-Phantoms/Algo-Tree', 'Automatic-attendance-management-system\\n\\n\\n          Forked from Swarnimashukla/Automatic-attendance-management-system', 'DSA-guide\\n\\n\\n          Forked from ankitapuri/DSA-guide', 'Indra_Bot\\n\\n\\n          Forked from Srimathij/Indra_Bot', 'AutomateInstaPyBot\\n\\n\\n          Forked from harikanani/AutomateInstaPyBot', 'Django_Cinema_Mall\\n\\n\\n          Forked from samir321-pixel/Django_Cinema_Mall', 'HealthCheck\\n\\n\\n          Forked from kritikaparmar-programmer/HealthCheck', 'whatsapp-play\\n\\n\\n          Forked from rpotter12/whatsapp-play', 'NeoAlgo\\n\\n\\n          Forked from TesseractCoding/NeoAlgo', 'dynamic-cli\\n\\n\\n          Forked from IndianOpenSourceFoundation/dynamic-cli', 'Algo-Phantoms-Backend\\n\\n\\n          Forked from Algo-Phantoms/Algo-Phantoms-Backend', 'Flask-Generate-Certificate\\n\\n\\n          Forked from vigneshshettyin/Flask-Generate-Certificate', 'Text-Sentiment-Analysis', 'MobiMart\\n\\n\\n          Forked from kavania2002/MobiMart', 'AshTech-AI_Personal_Voice_Assistant\\n\\n\\n          Forked from Ash515/AshTech-AI_Personal_Voice_Assistant', 'Kivymd-Practice', 'tensorflow-windows-wheel\\n\\n\\n          Forked from fo40225/tensorflow-windows-wheel', 'HackerEarth-Hackathons\\n\\n\\n          Forked from sinking8/HackerEarth-Hackathons', 'Image-Scrapper-And-Editor', '93', '20']\n"
          ],
          "name": "stdout"
        }
      ]
    },
    {
      "cell_type": "code",
      "metadata": {
        "colab": {
          "base_uri": "https://localhost:8080/"
        },
        "id": "Vw1qyuVimKdo",
        "outputId": "ff8024f2-85bd-4ff2-a11c-14398b0df2ae"
      },
      "source": [
        "scraper.get_result_similar(\"https://github.com/Akash20x?tab=repositories\",grouped=True)\n"
      ],
      "execution_count": 18,
      "outputs": [
        {
          "output_type": "execute_result",
          "data": {
            "text/plain": [
              "{'rule_fqrp': ['My_Jupyter_Notebooks',\n",
              "  'Leetcode_Solutions',\n",
              "  '1000-Wordpress-websites',\n",
              "  'Lab4-DM-Regression\\n\\n\\n          Forked from LucaBia/Lab4-DM-Regression',\n",
              "  'Word-Analyzer-Report',\n",
              "  'haystack\\n\\n\\n          Forked from deepset-ai/haystack',\n",
              "  'Text-Analysis-Scripts',\n",
              "  'NLP-SMS-Spam-Detection\\n\\n\\n          Forked from Tejas-TA/NLP-SMS-Spam-Detection',\n",
              "  'Data-Structure-and-Algorithms\\n\\n\\n          Forked from Nivedita967/Data-Structure-and-Algorithms',\n",
              "  'TextAnalyzer\\n\\n\\n          Forked from rockingrohit9639/TextAnalyzer',\n",
              "  'social-media-profiler\\n\\n\\n          Forked from pandrey2003/social-media-profiler',\n",
              "  'Algo-Tree\\n\\n\\n          Forked from Algo-Phantoms/Algo-Tree',\n",
              "  'Automatic-attendance-management-system\\n\\n\\n          Forked from Swarnimashukla/Automatic-attendance-management-system',\n",
              "  'DSA-guide\\n\\n\\n          Forked from ankitapuri/DSA-guide',\n",
              "  'Indra_Bot\\n\\n\\n          Forked from Srimathij/Indra_Bot',\n",
              "  'AutomateInstaPyBot\\n\\n\\n          Forked from harikanani/AutomateInstaPyBot',\n",
              "  'Django_Cinema_Mall\\n\\n\\n          Forked from samir321-pixel/Django_Cinema_Mall',\n",
              "  'HealthCheck\\n\\n\\n          Forked from kritikaparmar-programmer/HealthCheck',\n",
              "  'whatsapp-play\\n\\n\\n          Forked from rpotter12/whatsapp-play',\n",
              "  'NeoAlgo\\n\\n\\n          Forked from TesseractCoding/NeoAlgo',\n",
              "  'dynamic-cli\\n\\n\\n          Forked from IndianOpenSourceFoundation/dynamic-cli',\n",
              "  'Algo-Phantoms-Backend\\n\\n\\n          Forked from Algo-Phantoms/Algo-Phantoms-Backend',\n",
              "  'Flask-Generate-Certificate\\n\\n\\n          Forked from vigneshshettyin/Flask-Generate-Certificate',\n",
              "  'Text-Sentiment-Analysis',\n",
              "  'MobiMart\\n\\n\\n          Forked from kavania2002/MobiMart',\n",
              "  'AshTech-AI_Personal_Voice_Assistant\\n\\n\\n          Forked from Ash515/AshTech-AI_Personal_Voice_Assistant',\n",
              "  'Kivymd-Practice',\n",
              "  'tensorflow-windows-wheel\\n\\n\\n          Forked from fo40225/tensorflow-windows-wheel',\n",
              "  'HackerEarth-Hackathons\\n\\n\\n          Forked from sinking8/HackerEarth-Hackathons',\n",
              "  'Image-Scrapper-And-Editor'],\n",
              " 'rule_pgjs': ['1',\n",
              "  '323',\n",
              "  '1',\n",
              "  '74',\n",
              "  '25',\n",
              "  '2',\n",
              "  '539',\n",
              "  '85',\n",
              "  '113',\n",
              "  '24',\n",
              "  '6',\n",
              "  '1',\n",
              "  '67',\n",
              "  '221',\n",
              "  '989',\n",
              "  '68',\n",
              "  '44',\n",
              "  '40',\n",
              "  '14',\n",
              "  '43',\n",
              "  '1,427',\n",
              "  '1'],\n",
              " 'rule_qgq9': ['6', '93', '20'],\n",
              " 'rule_ywhb': ['1',\n",
              "  '323',\n",
              "  '1',\n",
              "  '74',\n",
              "  '25',\n",
              "  '2',\n",
              "  '539',\n",
              "  '85',\n",
              "  '113',\n",
              "  '24',\n",
              "  '6',\n",
              "  '1',\n",
              "  '67',\n",
              "  '221',\n",
              "  '989',\n",
              "  '68',\n",
              "  '44',\n",
              "  '40',\n",
              "  '14',\n",
              "  '43',\n",
              "  '1,427',\n",
              "  '1']}"
            ]
          },
          "metadata": {
            "tags": []
          },
          "execution_count": 18
        }
      ]
    },
    {
      "cell_type": "code",
      "metadata": {
        "id": "YwAi9JXSm5pB"
      },
      "source": [
        "scraper.set_rule_aliases({'rule_pgjs': 'Stars', 'rule_fqrp': 'Title','rule_qgq9':'Followers'})\n",
        "scraper.keep_rules(['rule_pgjs', 'rule_fqrp','rule_qgq9'])\n",
        "scraper.save('github-repository-search')"
      ],
      "execution_count": 20,
      "outputs": []
    },
    {
      "cell_type": "code",
      "metadata": {
        "id": "MxsGi6dxnnXo"
      },
      "source": [
        "scraper.load('github-repository-search')\n"
      ],
      "execution_count": 21,
      "outputs": []
    },
    {
      "cell_type": "code",
      "metadata": {
        "id": "pwTO-Fek2_x7"
      },
      "source": [
        "result=scraper.get_result_similar(\"https://github.com/iNeuronai?tab=repositories\",group_by_alias=True)\n"
      ],
      "execution_count": 22,
      "outputs": []
    },
    {
      "cell_type": "code",
      "metadata": {
        "colab": {
          "base_uri": "https://localhost:8080/"
        },
        "id": "rSNLK3nk3G1-",
        "outputId": "fe7b9cbe-0ee1-4d0f-eee7-80ac007762f4"
      },
      "source": [
        "result['Title']\n"
      ],
      "execution_count": 24,
      "outputs": [
        {
          "output_type": "execute_result",
          "data": {
            "text/plain": [
              "['chabot_video_codes',\n",
              " 'MachineLearningModelToPivotal',\n",
              " 'MachineLearningModelToAzure',\n",
              " 'MachineLearningModelToHeroku',\n",
              " 'MachineLearningModelToGCP',\n",
              " 'flaskWeatherApp',\n",
              " 'MachineLearningModelToAWS',\n",
              " 'same-resume-year-wise',\n",
              " 'interview-question-data-science-',\n",
              " 'sudhtest87435353',\n",
              " '-bigsparkrepo',\n",
              " 'deep-learning-drizzle\\n\\n\\n          Forked from kmario23/deep-learning-drizzle',\n",
              " 'Ineuron-Arhcitecture',\n",
              " 'zomatoEDA',\n",
              " 'A',\n",
              " 'assignmentrepo',\n",
              " 'allMLProjects',\n",
              " 'TimeSeries',\n",
              " 'assignemnt-',\n",
              " 'code',\n",
              " 'xyz',\n",
              " 'waffer-project',\n",
              " 'DeepLearningDocs',\n",
              " 'webscrappper_text',\n",
              " 'DecisionTrees',\n",
              " 'PrincipalComponentAnalysis',\n",
              " 'Working-with-MongoDB',\n",
              " 'imageScrapper\\n\\n\\n          Forked from viratsagar/imageScrapper',\n",
              " 'Chatbots_using_Dialogflow',\n",
              " 'AzureWeatherBot']"
            ]
          },
          "metadata": {
            "tags": []
          },
          "execution_count": 24
        }
      ]
    },
    {
      "cell_type": "code",
      "metadata": {
        "colab": {
          "base_uri": "https://localhost:8080/"
        },
        "id": "F2id1AH-3JlM",
        "outputId": "dc7f2118-35a1-428b-f115-4bce02339e72"
      },
      "source": [
        "result['Stars']\n"
      ],
      "execution_count": 25,
      "outputs": [
        {
          "output_type": "execute_result",
          "data": {
            "text/plain": [
              "['5',\n",
              " '6',\n",
              " '4',\n",
              " '13',\n",
              " '6',\n",
              " '3',\n",
              " '4',\n",
              " '53',\n",
              " '419',\n",
              " '7',\n",
              " '9',\n",
              " '9',\n",
              " '15',\n",
              " '3',\n",
              " '1',\n",
              " '2',\n",
              " '1',\n",
              " '1',\n",
              " '2',\n",
              " '1',\n",
              " '1',\n",
              " '16',\n",
              " '3',\n",
              " '6',\n",
              " '2',\n",
              " '10',\n",
              " '5',\n",
              " '1']"
            ]
          },
          "metadata": {
            "tags": []
          },
          "execution_count": 25
        }
      ]
    },
    {
      "cell_type": "code",
      "metadata": {
        "id": "W3PBqz3K3Wb9"
      },
      "source": [
        "\n",
        "amazon_url=\"https://www.amazon.in/s?k=iphones\"\n",
        "\n",
        "wanted_list=[\"₹58,400\",\"New Apple iPhone 11 (128GB) - Black\"]"
      ],
      "execution_count": 26,
      "outputs": []
    },
    {
      "cell_type": "code",
      "metadata": {
        "colab": {
          "base_uri": "https://localhost:8080/"
        },
        "id": "imYxjWsn3noh",
        "outputId": "5e3c2a1f-4dfb-43c1-8624-b0c4b27e9a3d"
      },
      "source": [
        "scraper=AutoScraper()\n",
        "result=scraper.build(amazon_url,wanted_list)\n",
        "result"
      ],
      "execution_count": 29,
      "outputs": [
        {
          "output_type": "execute_result",
          "data": {
            "text/plain": [
              "['₹1,25,900',\n",
              " '₹1,29,900',\n",
              " '₹58,400',\n",
              " '₹59,900',\n",
              " '₹82,400',\n",
              " '₹84,900',\n",
              " '₹66,900',\n",
              " '₹69,900',\n",
              " '₹1,15,900',\n",
              " '₹1,19,900',\n",
              " '₹93,900',\n",
              " '₹1,23,900',\n",
              " '₹17,999',\n",
              " '₹29,999',\n",
              " '₹45,999',\n",
              " '₹54,900',\n",
              " '₹81,900',\n",
              " '₹99,900',\n",
              " '₹26,994',\n",
              " '₹36,800',\n",
              " '₹18,999',\n",
              " '₹26,999',\n",
              " '₹13,990',\n",
              " '₹19,990',\n",
              " '₹16,499',\n",
              " '₹19,999',\n",
              " '₹16,999',\n",
              " '₹24,999',\n",
              " '₹9,990',\n",
              " '₹12,990',\n",
              " 'New Apple iPhone 12 Pro Max (128GB) - Pacific Blue',\n",
              " '₹1,25,900₹1,25,900\\n₹1,29,900₹1,29,900\\n\\nSave ₹4,000 (3%)',\n",
              " 'New Apple iPhone 11 (128GB) - Black',\n",
              " '₹58,400₹58,400\\n₹59,900₹59,900\\n\\nSave ₹1,500 (3%)',\n",
              " 'New Apple iPhone 12 (128GB) - Blue',\n",
              " '₹82,400₹82,400\\n₹84,900₹84,900\\n\\nSave ₹2,500 (3%)',\n",
              " 'New Apple iPhone 12 Mini (64GB) - Blue',\n",
              " '₹66,900₹66,900\\n₹69,900₹69,900\\n\\nSave ₹3,000 (4%)',\n",
              " 'New Apple iPhone 12 Pro (128GB) - Pacific Blue',\n",
              " '₹1,15,900₹1,15,900\\n₹1,19,900₹1,19,900\\n\\nSave ₹4,000 (3%)',\n",
              " 'Apple iPhone 11 Pro Max (256GB) - Midnight Green',\n",
              " 'Limited time deal\\n\\n\\n\\n\\n₹93,900₹93,900\\n₹1,23,900₹1,23,900\\n\\nSave ₹30,000 (24%)',\n",
              " '6S Space Grey 16GB Compatible with iPhone with 1 Year Warranty',\n",
              " '₹17,999₹17,999\\n₹29,999₹29,999\\n\\nSave ₹12,000 (40%)',\n",
              " 'Apple iPhone 8 Plus (128GB) - Silver',\n",
              " '₹45,999₹45,999\\n₹54,900₹54,900\\n\\nSave ₹8,901 (16%)',\n",
              " 'Apple iPhone 11 Pro (64GB) - Space Grey',\n",
              " 'Limited time deal\\n\\n\\n\\n\\n₹81,900₹81,900\\n₹99,900₹99,900\\n\\nSave ₹18,000 (18%)',\n",
              " '(Renewed) Apple iPhone 7 (128GB) - Black',\n",
              " '₹26,994₹26,994\\n₹36,800₹36,800\\n\\nSave ₹9,806 (27%)',\n",
              " 'OnePlus Nord 5G (Blue Marble, 12GB RAM, 256GB Storage)',\n",
              " 'Limited time deal\\n\\n\\n\\n\\n₹29,999₹29,999',\n",
              " '6S 16GB Silver Compatible with I Phone 6 with 1 Year Warranty',\n",
              " '₹18,999₹18,999\\n₹26,999₹26,999\\n\\nSave ₹8,000 (30%)',\n",
              " 'Oppo A52 (Twilight Black, 6GB RAM, 128GB Storage) with No Cost EMI/Additional Exchange Offers',\n",
              " 'Limited time deal\\n\\n\\n\\n\\n₹13,990₹13,990\\n₹19,990₹19,990\\n\\nSave ₹6,000 (30%)',\n",
              " 'Samsung Galaxy M31 (Ocean Blue, 6GB RAM, 128GB Storage)',\n",
              " 'Limited time deal\\n\\n\\n\\n\\n₹16,499₹16,499\\n₹19,999₹19,999\\n\\nSave ₹3,500 (18%)',\n",
              " '6S 16GB Gold Compatible with I Phone 6 with 1 Year Warranty',\n",
              " '₹16,999₹16,999\\n₹24,999₹24,999\\n\\nSave ₹8,000 (32%)',\n",
              " 'OPPO A31 (Fantasy White, 4GB RAM, 64GB Storage) with No Cost EMI/Additional Exchange Offers',\n",
              " 'Limited time deal\\n\\n\\n\\n\\n₹9,990₹9,990\\n₹12,990₹12,990\\n\\nSave ₹3,000 (23%)']"
            ]
          },
          "metadata": {
            "tags": []
          },
          "execution_count": 29
        }
      ]
    },
    {
      "cell_type": "code",
      "metadata": {
        "colab": {
          "base_uri": "https://localhost:8080/"
        },
        "id": "PCvrPiHY3q9D",
        "outputId": "2419f484-7433-4ee4-8ad4-79fa7da7e4fa"
      },
      "source": [
        "scraper.get_result_similar(amazon_url,grouped=True)\n"
      ],
      "execution_count": 30,
      "outputs": [
        {
          "output_type": "execute_result",
          "data": {
            "text/plain": [
              "{'rule_11kf': ['₹57,400',\n",
              "  '₹59,900',\n",
              "  '₹1,25,900',\n",
              "  '₹1,29,900',\n",
              "  '₹82,400',\n",
              "  '₹84,900',\n",
              "  '₹59,900',\n",
              "  '₹58,400',\n",
              "  '₹59,900',\n",
              "  '₹51,999',\n",
              "  '₹54,900',\n",
              "  '₹66,900',\n",
              "  '₹69,900',\n",
              "  '₹66,900',\n",
              "  '₹69,900',\n",
              "  '₹59,900',\n",
              "  '₹45,999',\n",
              "  '₹54,900',\n",
              "  '₹1,35,900',\n",
              "  '₹1,39,900',\n",
              "  '₹93,900',\n",
              "  '₹1,23,900',\n",
              "  '₹26,994',\n",
              "  '₹36,800',\n",
              "  '₹77,900',\n",
              "  '₹79,900',\n",
              "  '₹1,55,900',\n",
              "  '₹1,59,900',\n",
              "  '₹77,900',\n",
              "  '₹79,900'],\n",
              " 'rule_4rfv': ['₹57,400',\n",
              "  '₹59,900',\n",
              "  '₹1,25,900',\n",
              "  '₹1,29,900',\n",
              "  '₹82,400',\n",
              "  '₹84,900',\n",
              "  '₹59,900',\n",
              "  '₹58,400',\n",
              "  '₹59,900',\n",
              "  '₹51,999',\n",
              "  '₹54,900',\n",
              "  '₹66,900',\n",
              "  '₹69,900',\n",
              "  '₹66,900',\n",
              "  '₹69,900',\n",
              "  '₹59,900',\n",
              "  '₹45,999',\n",
              "  '₹54,900',\n",
              "  '₹1,35,900',\n",
              "  '₹1,39,900',\n",
              "  '₹93,900',\n",
              "  '₹1,23,900',\n",
              "  '₹26,994',\n",
              "  '₹36,800',\n",
              "  '₹77,900',\n",
              "  '₹79,900',\n",
              "  '₹1,55,900',\n",
              "  '₹1,59,900',\n",
              "  '₹77,900',\n",
              "  '₹79,900'],\n",
              " 'rule_a9ca': ['New Apple iPhone 11 (128GB) - Purple',\n",
              "  'New Apple iPhone 12 Pro Max (128GB) - Pacific Blue',\n",
              "  'New Apple iPhone 12 (128GB) - Blue',\n",
              "  'New Apple iPhone 11 (128GB) - White',\n",
              "  'New Apple iPhone 11 (128GB) - Black',\n",
              "  'New Apple iPhone 11 (64GB) - Green',\n",
              "  'New Apple iPhone 12 Mini (64GB) - Blue',\n",
              "  'New Apple iPhone 12 Mini (64GB) - White',\n",
              "  'New Apple iPhone 11 (128GB) - Green',\n",
              "  'Apple iPhone 8 Plus (128GB) - Silver',\n",
              "  'New Apple iPhone 12 Pro Max (256GB) - Graphite',\n",
              "  'Apple iPhone 11 Pro Max (256GB) - Midnight Green',\n",
              "  '(Renewed) Apple iPhone 7 (128GB) - Black',\n",
              "  'New Apple iPhone 12 (64GB) - Black',\n",
              "  'New Apple iPhone 12 Pro Max (512GB) - Pacific Blue',\n",
              "  'New Apple iPhone 12 (64GB) - Blue'],\n",
              " 'rule_bl3y': ['₹57,400₹57,400 ₹59,900₹59,900  Save ₹2,500 (4%)',\n",
              "  '₹1,25,900₹1,25,900 ₹1,29,900₹1,29,900  Save ₹4,000 (3%)',\n",
              "  '₹82,400₹82,400 ₹84,900₹84,900  Save ₹2,500 (3%)',\n",
              "  '₹59,900₹59,900',\n",
              "  '₹58,400₹58,400 ₹59,900₹59,900  Save ₹1,500 (3%)',\n",
              "  '₹51,999₹51,999 ₹54,900₹54,900  Save ₹2,901 (5%)',\n",
              "  '₹66,900₹66,900 ₹69,900₹69,900  Save ₹3,000 (4%)',\n",
              "  '₹66,900₹66,900 ₹69,900₹69,900  Save ₹3,000 (4%)',\n",
              "  '₹59,900₹59,900',\n",
              "  '₹45,999₹45,999 ₹54,900₹54,900  Save ₹8,901 (16%)',\n",
              "  '₹1,35,900₹1,35,900 ₹1,39,900₹1,39,900  Save ₹4,000 (3%)',\n",
              "  'Limited time deal  ₹93,900₹93,900 ₹1,23,900₹1,23,900  Save ₹30,000 (24%)',\n",
              "  '₹26,994₹26,994 ₹36,800₹36,800  Save ₹9,806 (27%)',\n",
              "  '₹77,900₹77,900 ₹79,900₹79,900  Save ₹2,000 (3%)',\n",
              "  '₹1,55,900₹1,55,900 ₹1,59,900₹1,59,900  Save ₹4,000 (3%)',\n",
              "  '₹77,900₹77,900 ₹79,900₹79,900  Save ₹2,000 (3%)']}"
            ]
          },
          "metadata": {
            "tags": []
          },
          "execution_count": 30
        }
      ]
    },
    {
      "cell_type": "code",
      "metadata": {
        "id": "FR0RcBpw39FU"
      },
      "source": [
        "\n",
        "scraper.set_rule_aliases({'rule_a9ca':'Title','rule_11kf':'Price'})\n",
        "scraper.keep_rules(['rule_a9ca','rule_11kf'])\n",
        "scraper.save('amazon-search')"
      ],
      "execution_count": 32,
      "outputs": []
    },
    {
      "cell_type": "code",
      "metadata": {
        "id": "eLHQe7Kq4CU7"
      },
      "source": [
        "results=scraper.get_result_similar('https://www.amazon.in/s?k=mi+phones+under+15000',group_by_alias=True)\n"
      ],
      "execution_count": 33,
      "outputs": []
    },
    {
      "cell_type": "code",
      "metadata": {
        "colab": {
          "base_uri": "https://localhost:8080/"
        },
        "id": "O_bB-Mq54Mxj",
        "outputId": "19e34208-a727-4c45-8e00-3d6a79f47899"
      },
      "source": [
        "results['Price']\n"
      ],
      "execution_count": 34,
      "outputs": [
        {
          "output_type": "execute_result",
          "data": {
            "text/plain": [
              "['₹6,799',\n",
              " '₹8,499',\n",
              " '₹9,999',\n",
              " '₹10,999',\n",
              " '₹7,499',\n",
              " '₹9,499',\n",
              " '₹8,799',\n",
              " '₹10,999',\n",
              " '₹13,999',\n",
              " '₹17,999',\n",
              " '₹12,999',\n",
              " '₹16,999',\n",
              " '₹6,799',\n",
              " '₹8,499',\n",
              " '₹10,999',\n",
              " '₹14,999',\n",
              " '₹14,999',\n",
              " '₹18,999',\n",
              " '₹10,499',\n",
              " '₹13,999',\n",
              " '₹8,799',\n",
              " '₹10,999',\n",
              " '₹10,990',\n",
              " '₹15,990',\n",
              " '₹13,999',\n",
              " '₹17,999',\n",
              " '₹9,999',\n",
              " '₹10,999',\n",
              " '₹6,799',\n",
              " '₹8,499',\n",
              " '₹8,799',\n",
              " '₹10,999']"
            ]
          },
          "metadata": {
            "tags": []
          },
          "execution_count": 34
        }
      ]
    },
    {
      "cell_type": "code",
      "metadata": {
        "colab": {
          "base_uri": "https://localhost:8080/"
        },
        "id": "sMYJcggr4idM",
        "outputId": "f744ce6d-cbc7-4c7f-e59f-fc806fc270fb"
      },
      "source": [
        "results['Title']\n"
      ],
      "execution_count": 36,
      "outputs": [
        {
          "output_type": "execute_result",
          "data": {
            "text/plain": [
              "['Redmi 9A (Nature Green, 2GB Ram, 32GB Storage) | 2GHz Octa-core Helio G25 Processor',\n",
              " 'Redmi 9 (Sky Blue, 4GB RAM, 128GB Storage)',\n",
              " 'Redmi 9A (Midnight Black, 3GB Ram, 32GB Storage) | 2GHz Octa-core Helio G25 Processor',\n",
              " 'Redmi 9 (Sky Blue, 4GB RAM, 64GB Storage)',\n",
              " 'Redmi Note 10 (Frost White, 6GB RAM, 128GB Storage)',\n",
              " 'Redmi Note 9 Pro (Interstellar Black, 4GB RAM, 64GB Storage)- Latest 8nm Snapdragon 720G & Alexa Hands-Free',\n",
              " 'Redmi 9A (Midnight Black, 2GB RAM, 32GB Storage) | 2GHz Octa-core Helio G25 Processor',\n",
              " 'Redmi Note 9 (Pebble Grey, 4GB RAM 64GB Storage) - 48MP Quad Camera & Full HD+ Display | Extra INR 1000 Off on Exchange',\n",
              " 'Redmi Note 9 Pro Max (Champagne Gold, 6GB RAM, 64GB Storage) - 64MP Quad Camera & Latest 8nm Snapdragon 720G & Alexa Hands...',\n",
              " 'Redmi 9 Power (Fiery Red, 4GB RAM, 64GB Storage) - 6000mAh Battery |FHD+ Screen| 48MP Quad Camera',\n",
              " 'Redmi 9 (Carbon Black, 4GB RAM, 64GB Storage)',\n",
              " 'Oppo A31 (Fantasy White, 6GB RAM, 128GB Storage) with No Cost EMI/Additional Exchange Offers',\n",
              " 'Redmi Note 10 (Aqua Green, 6GB RAM, 128GB Storage) - Amoled Dot Display | 48MP Sony Sensor IMX582 | Snapdragon 678 Processor',\n",
              " 'Redmi 9 Sporty Orange, 4GB RAM, 128GB Storage',\n",
              " 'Redmi 9A (Sea Blue, 2GB Ram, 32GB Storage) | 2GHz Octa-core Helio G25 Processor',\n",
              " 'Redmi 9 (Sporty Orange, 4GB RAM, 64GB Storage)']"
            ]
          },
          "metadata": {
            "tags": []
          },
          "execution_count": 36
        }
      ]
    },
    {
      "cell_type": "code",
      "metadata": {
        "colab": {
          "base_uri": "https://localhost:8080/"
        },
        "id": "fcsVOMf24m5b",
        "outputId": "5bf98d83-b1e5-4f0e-b526-2dfa5c779e9a"
      },
      "source": [
        "from autoscraper import AutoScraper\n",
        "\n",
        "url = 'https://en.wikipedia.org/wiki/Python_(programming_language)'\n",
        "\n",
        "# We can add one or multiple candidates here.\n",
        "# You can also put urls here to retrieve urls.\n",
        "wanted_list = [\"Main page\",\"History\"]\n",
        "\n",
        "scraper = AutoScraper()\n",
        "result = scraper.build(url, wanted_list)\n",
        "result"
      ],
      "execution_count": 51,
      "outputs": [
        {
          "output_type": "execute_result",
          "data": {
            "text/plain": [
              "['Not logged in',\n",
              " 'Main page',\n",
              " 'Help',\n",
              " 'What links here',\n",
              " 'Download as PDF',\n",
              " 'CLPython',\n",
              " 'Eric Python IDE',\n",
              " 'WSGI',\n",
              " 'Neural Turing machine',\n",
              " 'Clustering',\n",
              " 'Julia',\n",
              " 'Artificial neural network\\nDeep learning',\n",
              " 'TPU',\n",
              " 'PyTorch',\n",
              " 'Ian Goodfellow',\n",
              " 'OpenAI',\n",
              " 'Comparison of open-source and closed-source software',\n",
              " 'Bioinformatics',\n",
              " 'History',\n",
              " 'Apache',\n",
              " 'Hardware restrictions',\n",
              " 'GNU Manifesto',\n",
              " 'Epi Info',\n",
              " 'DAP',\n",
              " 'CumFreq',\n",
              " 'ADMB',\n",
              " 'FEATool Multiphysics',\n",
              " 'GND: 4434275-5',\n",
              " 'PyCon',\n",
              " 'Categorical',\n",
              " 'Category\\nArtificial neural networks\\nMachine learning',\n",
              " 'Comparison',\n",
              " 'Design philosophy and features',\n",
              " 'Syntax and semantics',\n",
              " 'Programming examples',\n",
              " 'Libraries',\n",
              " 'Development environments',\n",
              " 'Implementations',\n",
              " 'Development',\n",
              " 'API documentation generators',\n",
              " 'Naming',\n",
              " 'Uses',\n",
              " 'Languages influenced by Python',\n",
              " 'See also',\n",
              " 'References',\n",
              " 'Further reading',\n",
              " 'External links']"
            ]
          },
          "metadata": {
            "tags": []
          },
          "execution_count": 51
        }
      ]
    },
    {
      "cell_type": "code",
      "metadata": {
        "id": "FMzchfuE6RR6"
      },
      "source": [
        ""
      ],
      "execution_count": null,
      "outputs": []
    }
  ]
}