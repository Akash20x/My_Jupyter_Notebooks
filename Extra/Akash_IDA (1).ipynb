{
  "nbformat": 4,
  "nbformat_minor": 0,
  "metadata": {
    "colab": {
      "name": "Akash_IDA.ipynb",
      "provenance": [],
      "collapsed_sections": []
    },
    "kernelspec": {
      "display_name": "Python 3 (ipykernel)",
      "language": "python",
      "name": "python3"
    },
    "language_info": {
      "codemirror_mode": {
        "name": "ipython",
        "version": 3
      },
      "file_extension": ".py",
      "mimetype": "text/x-python",
      "name": "python",
      "nbconvert_exporter": "python",
      "pygments_lexer": "ipython3",
      "version": "3.9.6"
    }
  },
  "cells": [
    {
      "cell_type": "markdown",
      "metadata": {
        "id": "8jfXY-8EhQKk"
      },
      "source": [
        "# **Customer Churn Analysis**"
      ]
    },
    {
      "cell_type": "markdown",
      "metadata": {
        "id": "RlCmlho_hKvQ"
      },
      "source": [
        "## **Importing Required Libraries** <a class=\"anchor\" id=\"head1\"></a>"
      ]
    },
    {
      "cell_type": "code",
      "metadata": {
        "id": "gUbu617is2GS"
      },
      "source": [
        "import numpy as np\n",
        "import pandas as pd\n",
        "import matplotlib.pyplot as plt\n",
        "import seaborn as sns"
      ],
      "execution_count": 1,
      "outputs": []
    },
    {
      "cell_type": "markdown",
      "metadata": {
        "id": "0Om_DvEUERAg"
      },
      "source": [
        "## **Loading Data** <a class=\"anchor\" id=\"head2\"></a>"
      ]
    },
    {
      "cell_type": "code",
      "metadata": {
        "id": "tOnuLyRPDLb_"
      },
      "source": [
        "telecom_customer = pd.read_csv(\"https://raw.githubusercontent.com/TeamEpicProjects/Customer-Churn-Prediction/main/data/1/TelcoCustomerChurn.csv\")"
      ],
      "execution_count": 2,
      "outputs": []
    },
    {
      "cell_type": "markdown",
      "metadata": {
        "id": "UAouJpgCFpzd"
      },
      "source": [
        "## **Initial Data Analysis** <a class=\"anchor\" id=\"head3\"></a>"
      ]
    },
    {
      "cell_type": "markdown",
      "metadata": {
        "id": "g2ftSI4CFvAZ"
      },
      "source": [
        "**Display first 5 rows of data** <a class=\"anchor\" id=\"subhead1\"></a>"
      ]
    },
    {
      "cell_type": "code",
      "metadata": {
        "colab": {
          "base_uri": "https://localhost:8080/",
          "height": 330
        },
        "id": "B5Nzo02kFOHX",
        "outputId": "4e805978-e2cc-4bc4-d940-fc12b5ecf164"
      },
      "source": [
        "telecom_customer.head()"
      ],
      "execution_count": 3,
      "outputs": [
        {
          "output_type": "execute_result",
          "data": {
            "text/html": [
              "<div>\n",
              "<style scoped>\n",
              "    .dataframe tbody tr th:only-of-type {\n",
              "        vertical-align: middle;\n",
              "    }\n",
              "\n",
              "    .dataframe tbody tr th {\n",
              "        vertical-align: top;\n",
              "    }\n",
              "\n",
              "    .dataframe thead th {\n",
              "        text-align: right;\n",
              "    }\n",
              "</style>\n",
              "<table border=\"1\" class=\"dataframe\">\n",
              "  <thead>\n",
              "    <tr style=\"text-align: right;\">\n",
              "      <th></th>\n",
              "      <th>CustomerID</th>\n",
              "      <th>Count</th>\n",
              "      <th>Country</th>\n",
              "      <th>State</th>\n",
              "      <th>City</th>\n",
              "      <th>Zip Code</th>\n",
              "      <th>Lat Long</th>\n",
              "      <th>Latitude</th>\n",
              "      <th>Longitude</th>\n",
              "      <th>Gender</th>\n",
              "      <th>Senior Citizen</th>\n",
              "      <th>Partner</th>\n",
              "      <th>Dependents</th>\n",
              "      <th>Tenure Months</th>\n",
              "      <th>Phone Service</th>\n",
              "      <th>Multiple Lines</th>\n",
              "      <th>Internet Service</th>\n",
              "      <th>Online Security</th>\n",
              "      <th>Online Backup</th>\n",
              "      <th>Device Protection</th>\n",
              "      <th>Tech Support</th>\n",
              "      <th>Streaming TV</th>\n",
              "      <th>Streaming Movies</th>\n",
              "      <th>Contract</th>\n",
              "      <th>Paperless Billing</th>\n",
              "      <th>Payment Method</th>\n",
              "      <th>Monthly Charges</th>\n",
              "      <th>Total Charges</th>\n",
              "      <th>CLTV</th>\n",
              "      <th>Churn Reason</th>\n",
              "      <th>Churn Value</th>\n",
              "    </tr>\n",
              "  </thead>\n",
              "  <tbody>\n",
              "    <tr>\n",
              "      <th>0</th>\n",
              "      <td>5196-WPYOW</td>\n",
              "      <td>1.0</td>\n",
              "      <td>United States</td>\n",
              "      <td>California</td>\n",
              "      <td>Paso Robles</td>\n",
              "      <td>93446.0</td>\n",
              "      <td>35.634222, -120.728341</td>\n",
              "      <td>35.634222</td>\n",
              "      <td>-120.728341</td>\n",
              "      <td>Male</td>\n",
              "      <td>No</td>\n",
              "      <td>Yes</td>\n",
              "      <td>Yes</td>\n",
              "      <td>67.0</td>\n",
              "      <td>Yes</td>\n",
              "      <td>No</td>\n",
              "      <td>DSL</td>\n",
              "      <td>Yes</td>\n",
              "      <td>Yes</td>\n",
              "      <td>No</td>\n",
              "      <td>Yes</td>\n",
              "      <td>No</td>\n",
              "      <td>No</td>\n",
              "      <td>One year</td>\n",
              "      <td>No</td>\n",
              "      <td>Mailed check</td>\n",
              "      <td>60.05</td>\n",
              "      <td>3994.05</td>\n",
              "      <td>6148.0</td>\n",
              "      <td>NaN</td>\n",
              "      <td>0.0</td>\n",
              "    </tr>\n",
              "    <tr>\n",
              "      <th>1</th>\n",
              "      <td>8189-HBVRW</td>\n",
              "      <td>1.0</td>\n",
              "      <td>United States</td>\n",
              "      <td>California</td>\n",
              "      <td>Los Angeles</td>\n",
              "      <td>90005.0</td>\n",
              "      <td>34.059281, -118.30742</td>\n",
              "      <td>34.059281</td>\n",
              "      <td>-118.307420</td>\n",
              "      <td>Female</td>\n",
              "      <td>No</td>\n",
              "      <td>No</td>\n",
              "      <td>No</td>\n",
              "      <td>53.0</td>\n",
              "      <td>Yes</td>\n",
              "      <td>Yes</td>\n",
              "      <td>Fiber optic</td>\n",
              "      <td>Yes</td>\n",
              "      <td>Yes</td>\n",
              "      <td>Yes</td>\n",
              "      <td>NaN</td>\n",
              "      <td>No</td>\n",
              "      <td>No</td>\n",
              "      <td>Month-to-month</td>\n",
              "      <td>No</td>\n",
              "      <td>Electronic check</td>\n",
              "      <td>90.80</td>\n",
              "      <td>4921.2</td>\n",
              "      <td>5249.0</td>\n",
              "      <td>NaN</td>\n",
              "      <td>0.0</td>\n",
              "    </tr>\n",
              "    <tr>\n",
              "      <th>2</th>\n",
              "      <td>4091-TVOCN</td>\n",
              "      <td>1.0</td>\n",
              "      <td>United States</td>\n",
              "      <td>California</td>\n",
              "      <td>Potrero</td>\n",
              "      <td>91963.0</td>\n",
              "      <td>32.619465, -116.593605</td>\n",
              "      <td>32.619465</td>\n",
              "      <td>-116.593605</td>\n",
              "      <td>Male</td>\n",
              "      <td>No</td>\n",
              "      <td>No</td>\n",
              "      <td>No</td>\n",
              "      <td>48.0</td>\n",
              "      <td>Yes</td>\n",
              "      <td>Yes</td>\n",
              "      <td>DSL</td>\n",
              "      <td>Yes</td>\n",
              "      <td>No</td>\n",
              "      <td>Yes</td>\n",
              "      <td>No</td>\n",
              "      <td>Yes</td>\n",
              "      <td>Yes</td>\n",
              "      <td>One year</td>\n",
              "      <td>Yes</td>\n",
              "      <td>Credit card (automatic)</td>\n",
              "      <td>78.75</td>\n",
              "      <td>3682.45</td>\n",
              "      <td>2257.0</td>\n",
              "      <td>NaN</td>\n",
              "      <td>0.0</td>\n",
              "    </tr>\n",
              "    <tr>\n",
              "      <th>3</th>\n",
              "      <td>9603-OAIHC</td>\n",
              "      <td>1.0</td>\n",
              "      <td>United States</td>\n",
              "      <td>California</td>\n",
              "      <td>Palmdale</td>\n",
              "      <td>93551.0</td>\n",
              "      <td>34.613476, -118.256358</td>\n",
              "      <td>34.613476</td>\n",
              "      <td>-118.256358</td>\n",
              "      <td>Male</td>\n",
              "      <td>Yes</td>\n",
              "      <td>No</td>\n",
              "      <td>No</td>\n",
              "      <td>1.0</td>\n",
              "      <td>Yes</td>\n",
              "      <td>No</td>\n",
              "      <td>Fiber optic</td>\n",
              "      <td>No</td>\n",
              "      <td>No</td>\n",
              "      <td>No</td>\n",
              "      <td>No</td>\n",
              "      <td>No</td>\n",
              "      <td>No</td>\n",
              "      <td>Month-to-month</td>\n",
              "      <td>Yes</td>\n",
              "      <td>Electronic check</td>\n",
              "      <td>70.05</td>\n",
              "      <td>70.05</td>\n",
              "      <td>2469.0</td>\n",
              "      <td>NaN</td>\n",
              "      <td>0.0</td>\n",
              "    </tr>\n",
              "    <tr>\n",
              "      <th>4</th>\n",
              "      <td>8647-SDTWQ</td>\n",
              "      <td>1.0</td>\n",
              "      <td>United States</td>\n",
              "      <td>California</td>\n",
              "      <td>Hood</td>\n",
              "      <td>95639.0</td>\n",
              "      <td>38.375325, -121.507935</td>\n",
              "      <td>38.375325</td>\n",
              "      <td>-121.507935</td>\n",
              "      <td>Male</td>\n",
              "      <td>No</td>\n",
              "      <td>Yes</td>\n",
              "      <td>Yes</td>\n",
              "      <td>57.0</td>\n",
              "      <td>Yes</td>\n",
              "      <td>Yes</td>\n",
              "      <td>Fiber optic</td>\n",
              "      <td>No</td>\n",
              "      <td>No</td>\n",
              "      <td>No</td>\n",
              "      <td>No</td>\n",
              "      <td>No</td>\n",
              "      <td>No</td>\n",
              "      <td>Month-to-month</td>\n",
              "      <td>Yes</td>\n",
              "      <td>Electronic check</td>\n",
              "      <td>74.30</td>\n",
              "      <td>4018.35</td>\n",
              "      <td>4133.0</td>\n",
              "      <td>NaN</td>\n",
              "      <td>0.0</td>\n",
              "    </tr>\n",
              "  </tbody>\n",
              "</table>\n",
              "</div>"
            ],
            "text/plain": [
              "   CustomerID  Count        Country  ...    CLTV Churn Reason  Churn Value\n",
              "0  5196-WPYOW    1.0  United States  ...  6148.0          NaN          0.0\n",
              "1  8189-HBVRW    1.0  United States  ...  5249.0          NaN          0.0\n",
              "2  4091-TVOCN    1.0  United States  ...  2257.0          NaN          0.0\n",
              "3  9603-OAIHC    1.0  United States  ...  2469.0          NaN          0.0\n",
              "4  8647-SDTWQ    1.0  United States  ...  4133.0          NaN          0.0\n",
              "\n",
              "[5 rows x 31 columns]"
            ]
          },
          "metadata": {
            "tags": []
          },
          "execution_count": 3
        }
      ]
    },
    {
      "cell_type": "markdown",
      "metadata": {
        "id": "OhoVpoKmF5Ug"
      },
      "source": [
        "**Information related to dataset** <a class=\"anchor\" id=\"subhead2\"></a>"
      ]
    },
    {
      "cell_type": "code",
      "metadata": {
        "colab": {
          "base_uri": "https://localhost:8080/"
        },
        "id": "2_Hgs0gNFbRw",
        "outputId": "590751c6-79c7-4e2c-d0b6-37a1de006e4b"
      },
      "source": [
        "telecom_customer.info()"
      ],
      "execution_count": 4,
      "outputs": [
        {
          "output_type": "stream",
          "text": [
            "<class 'pandas.core.frame.DataFrame'>\n",
            "RangeIndex: 4718 entries, 0 to 4717\n",
            "Data columns (total 31 columns):\n",
            " #   Column             Non-Null Count  Dtype  \n",
            "---  ------             --------------  -----  \n",
            " 0   CustomerID         4687 non-null   object \n",
            " 1   Count              4691 non-null   float64\n",
            " 2   Country            4708 non-null   object \n",
            " 3   State              4715 non-null   object \n",
            " 4   City               4688 non-null   object \n",
            " 5   Zip Code           4698 non-null   float64\n",
            " 6   Lat Long           4713 non-null   object \n",
            " 7   Latitude           4695 non-null   float64\n",
            " 8   Longitude          4685 non-null   float64\n",
            " 9   Gender             4698 non-null   object \n",
            " 10  Senior Citizen     4711 non-null   object \n",
            " 11  Partner            4678 non-null   object \n",
            " 12  Dependents         4672 non-null   object \n",
            " 13  Tenure Months      4704 non-null   float64\n",
            " 14  Phone Service      4692 non-null   object \n",
            " 15  Multiple Lines     4696 non-null   object \n",
            " 16  Internet Service   4692 non-null   object \n",
            " 17  Online Security    4674 non-null   object \n",
            " 18  Online Backup      4714 non-null   object \n",
            " 19  Device Protection  4711 non-null   object \n",
            " 20  Tech Support       4695 non-null   object \n",
            " 21  Streaming TV       4686 non-null   object \n",
            " 22  Streaming Movies   4688 non-null   object \n",
            " 23  Contract           4672 non-null   object \n",
            " 24  Paperless Billing  4694 non-null   object \n",
            " 25  Payment Method     4717 non-null   object \n",
            " 26  Monthly Charges    4714 non-null   float64\n",
            " 27  Total Charges      4704 non-null   object \n",
            " 28  CLTV               4692 non-null   float64\n",
            " 29  Churn Reason       1261 non-null   object \n",
            " 30  Churn Value        4693 non-null   float64\n",
            "dtypes: float64(8), object(23)\n",
            "memory usage: 1.1+ MB\n"
          ],
          "name": "stdout"
        }
      ]
    },
    {
      "cell_type": "markdown",
      "metadata": {
        "id": "i0DlO4EdHHE5"
      },
      "source": [
        "* Total Charges should be in float64 instead of object\n",
        "* All features contains null values"
      ]
    },
    {
      "cell_type": "markdown",
      "metadata": {
        "id": "dZNwhn_hMbN5"
      },
      "source": [
        "**Converting Total Charges into numeric data type** <a class=\"anchor\" id=\"subhead3\"></a>"
      ]
    },
    {
      "cell_type": "code",
      "metadata": {
        "id": "WmZvuHrCMu87"
      },
      "source": [
        "telecom_customer['Total Charges'] = pd.to_numeric(telecom_customer['Total Charges'],errors=\"coerce\")"
      ],
      "execution_count": 5,
      "outputs": []
    },
    {
      "cell_type": "markdown",
      "metadata": {
        "id": "9IJC6ra9HmaC"
      },
      "source": [
        "**Checking Null Values** <a class=\"anchor\" id=\"subhead4\"></a>"
      ]
    },
    {
      "cell_type": "code",
      "metadata": {
        "colab": {
          "base_uri": "https://localhost:8080/"
        },
        "id": "v45R88eYFktB",
        "outputId": "19013a99-2efa-4db5-bfe9-102c447a47bd"
      },
      "source": [
        "telecom_customer.isnull().sum()"
      ],
      "execution_count": 6,
      "outputs": [
        {
          "output_type": "execute_result",
          "data": {
            "text/plain": [
              "CustomerID             31\n",
              "Count                  27\n",
              "Country                10\n",
              "State                   3\n",
              "City                   30\n",
              "Zip Code               20\n",
              "Lat Long                5\n",
              "Latitude               23\n",
              "Longitude              33\n",
              "Gender                 20\n",
              "Senior Citizen          7\n",
              "Partner                40\n",
              "Dependents             46\n",
              "Tenure Months          14\n",
              "Phone Service          26\n",
              "Multiple Lines         22\n",
              "Internet Service       26\n",
              "Online Security        44\n",
              "Online Backup           4\n",
              "Device Protection       7\n",
              "Tech Support           23\n",
              "Streaming TV           32\n",
              "Streaming Movies       30\n",
              "Contract               46\n",
              "Paperless Billing      24\n",
              "Payment Method          1\n",
              "Monthly Charges         4\n",
              "Total Charges          23\n",
              "CLTV                   26\n",
              "Churn Reason         3457\n",
              "Churn Value            25\n",
              "dtype: int64"
            ]
          },
          "metadata": {
            "tags": []
          },
          "execution_count": 6
        }
      ]
    },
    {
      "cell_type": "markdown",
      "metadata": {
        "id": "D7HINeaGH8XU"
      },
      "source": [
        "**Unique Value of each feature in the dataset** <a class=\"anchor\" id=\"subhead5\"></a>"
      ]
    },
    {
      "cell_type": "code",
      "metadata": {
        "colab": {
          "base_uri": "https://localhost:8080/"
        },
        "id": "yAYuvgQJH0ON",
        "outputId": "6c123003-6da3-44cb-d182-a16589749def"
      },
      "source": [
        "telecom_customer.nunique()\n"
      ],
      "execution_count": 7,
      "outputs": [
        {
          "output_type": "execute_result",
          "data": {
            "text/plain": [
              "CustomerID           4687\n",
              "Count                   1\n",
              "Country                 1\n",
              "State                   1\n",
              "City                 1117\n",
              "Zip Code             1633\n",
              "Lat Long             1633\n",
              "Latitude             1632\n",
              "Longitude            1632\n",
              "Gender                  2\n",
              "Senior Citizen          2\n",
              "Partner                 2\n",
              "Dependents              2\n",
              "Tenure Months          73\n",
              "Phone Service           2\n",
              "Multiple Lines          3\n",
              "Internet Service        3\n",
              "Online Security         3\n",
              "Online Backup           3\n",
              "Device Protection       3\n",
              "Tech Support            3\n",
              "Streaming TV            3\n",
              "Streaming Movies        3\n",
              "Contract                3\n",
              "Paperless Billing       2\n",
              "Payment Method          4\n",
              "Monthly Charges      1421\n",
              "Total Charges        4462\n",
              "CLTV                 2807\n",
              "Churn Reason           20\n",
              "Churn Value             2\n",
              "dtype: int64"
            ]
          },
          "metadata": {
            "tags": []
          },
          "execution_count": 7
        }
      ]
    },
    {
      "cell_type": "markdown",
      "metadata": {
        "id": "HhWhUdhhIw1T"
      },
      "source": [
        "* Count, Country and State have only 1 unique value, no relevant contribution in our analysis so drop it.\n",
        "* CustomerID is also not required for our analysis so we have to drop it.\n",
        "* Latitude & Longitude is not required as we already have Lat Long,so drop them."
      ]
    },
    {
      "cell_type": "markdown",
      "metadata": {
        "id": "ceUiu0fwKMNS"
      },
      "source": [
        "**Dropping Unnecessary Columns** <a class=\"anchor\" id=\"subhead6\"></a>"
      ]
    },
    {
      "cell_type": "code",
      "metadata": {
        "colab": {
          "base_uri": "https://localhost:8080/",
          "height": 738
        },
        "id": "GyI6p64kIVYu",
        "outputId": "e84b7b03-6fbe-443f-82f6-9fd578b7b963"
      },
      "source": [
        "telecom_customer.drop(['CustomerID','Count','Country','State','Lat Long'],axis=1,inplace=True)\n",
        "telecom_customer"
      ],
      "execution_count": 8,
      "outputs": [
        {
          "output_type": "execute_result",
          "data": {
            "text/html": [
              "<div>\n",
              "<style scoped>\n",
              "    .dataframe tbody tr th:only-of-type {\n",
              "        vertical-align: middle;\n",
              "    }\n",
              "\n",
              "    .dataframe tbody tr th {\n",
              "        vertical-align: top;\n",
              "    }\n",
              "\n",
              "    .dataframe thead th {\n",
              "        text-align: right;\n",
              "    }\n",
              "</style>\n",
              "<table border=\"1\" class=\"dataframe\">\n",
              "  <thead>\n",
              "    <tr style=\"text-align: right;\">\n",
              "      <th></th>\n",
              "      <th>City</th>\n",
              "      <th>Zip Code</th>\n",
              "      <th>Latitude</th>\n",
              "      <th>Longitude</th>\n",
              "      <th>Gender</th>\n",
              "      <th>Senior Citizen</th>\n",
              "      <th>Partner</th>\n",
              "      <th>Dependents</th>\n",
              "      <th>Tenure Months</th>\n",
              "      <th>Phone Service</th>\n",
              "      <th>Multiple Lines</th>\n",
              "      <th>Internet Service</th>\n",
              "      <th>Online Security</th>\n",
              "      <th>Online Backup</th>\n",
              "      <th>Device Protection</th>\n",
              "      <th>Tech Support</th>\n",
              "      <th>Streaming TV</th>\n",
              "      <th>Streaming Movies</th>\n",
              "      <th>Contract</th>\n",
              "      <th>Paperless Billing</th>\n",
              "      <th>Payment Method</th>\n",
              "      <th>Monthly Charges</th>\n",
              "      <th>Total Charges</th>\n",
              "      <th>CLTV</th>\n",
              "      <th>Churn Reason</th>\n",
              "      <th>Churn Value</th>\n",
              "    </tr>\n",
              "  </thead>\n",
              "  <tbody>\n",
              "    <tr>\n",
              "      <th>0</th>\n",
              "      <td>Paso Robles</td>\n",
              "      <td>93446.0</td>\n",
              "      <td>35.634222</td>\n",
              "      <td>-120.728341</td>\n",
              "      <td>Male</td>\n",
              "      <td>No</td>\n",
              "      <td>Yes</td>\n",
              "      <td>Yes</td>\n",
              "      <td>67.0</td>\n",
              "      <td>Yes</td>\n",
              "      <td>No</td>\n",
              "      <td>DSL</td>\n",
              "      <td>Yes</td>\n",
              "      <td>Yes</td>\n",
              "      <td>No</td>\n",
              "      <td>Yes</td>\n",
              "      <td>No</td>\n",
              "      <td>No</td>\n",
              "      <td>One year</td>\n",
              "      <td>No</td>\n",
              "      <td>Mailed check</td>\n",
              "      <td>60.05</td>\n",
              "      <td>3994.05</td>\n",
              "      <td>6148.0</td>\n",
              "      <td>NaN</td>\n",
              "      <td>0.0</td>\n",
              "    </tr>\n",
              "    <tr>\n",
              "      <th>1</th>\n",
              "      <td>Los Angeles</td>\n",
              "      <td>90005.0</td>\n",
              "      <td>34.059281</td>\n",
              "      <td>-118.307420</td>\n",
              "      <td>Female</td>\n",
              "      <td>No</td>\n",
              "      <td>No</td>\n",
              "      <td>No</td>\n",
              "      <td>53.0</td>\n",
              "      <td>Yes</td>\n",
              "      <td>Yes</td>\n",
              "      <td>Fiber optic</td>\n",
              "      <td>Yes</td>\n",
              "      <td>Yes</td>\n",
              "      <td>Yes</td>\n",
              "      <td>NaN</td>\n",
              "      <td>No</td>\n",
              "      <td>No</td>\n",
              "      <td>Month-to-month</td>\n",
              "      <td>No</td>\n",
              "      <td>Electronic check</td>\n",
              "      <td>90.80</td>\n",
              "      <td>4921.20</td>\n",
              "      <td>5249.0</td>\n",
              "      <td>NaN</td>\n",
              "      <td>0.0</td>\n",
              "    </tr>\n",
              "    <tr>\n",
              "      <th>2</th>\n",
              "      <td>Potrero</td>\n",
              "      <td>91963.0</td>\n",
              "      <td>32.619465</td>\n",
              "      <td>-116.593605</td>\n",
              "      <td>Male</td>\n",
              "      <td>No</td>\n",
              "      <td>No</td>\n",
              "      <td>No</td>\n",
              "      <td>48.0</td>\n",
              "      <td>Yes</td>\n",
              "      <td>Yes</td>\n",
              "      <td>DSL</td>\n",
              "      <td>Yes</td>\n",
              "      <td>No</td>\n",
              "      <td>Yes</td>\n",
              "      <td>No</td>\n",
              "      <td>Yes</td>\n",
              "      <td>Yes</td>\n",
              "      <td>One year</td>\n",
              "      <td>Yes</td>\n",
              "      <td>Credit card (automatic)</td>\n",
              "      <td>78.75</td>\n",
              "      <td>3682.45</td>\n",
              "      <td>2257.0</td>\n",
              "      <td>NaN</td>\n",
              "      <td>0.0</td>\n",
              "    </tr>\n",
              "    <tr>\n",
              "      <th>3</th>\n",
              "      <td>Palmdale</td>\n",
              "      <td>93551.0</td>\n",
              "      <td>34.613476</td>\n",
              "      <td>-118.256358</td>\n",
              "      <td>Male</td>\n",
              "      <td>Yes</td>\n",
              "      <td>No</td>\n",
              "      <td>No</td>\n",
              "      <td>1.0</td>\n",
              "      <td>Yes</td>\n",
              "      <td>No</td>\n",
              "      <td>Fiber optic</td>\n",
              "      <td>No</td>\n",
              "      <td>No</td>\n",
              "      <td>No</td>\n",
              "      <td>No</td>\n",
              "      <td>No</td>\n",
              "      <td>No</td>\n",
              "      <td>Month-to-month</td>\n",
              "      <td>Yes</td>\n",
              "      <td>Electronic check</td>\n",
              "      <td>70.05</td>\n",
              "      <td>70.05</td>\n",
              "      <td>2469.0</td>\n",
              "      <td>NaN</td>\n",
              "      <td>0.0</td>\n",
              "    </tr>\n",
              "    <tr>\n",
              "      <th>4</th>\n",
              "      <td>Hood</td>\n",
              "      <td>95639.0</td>\n",
              "      <td>38.375325</td>\n",
              "      <td>-121.507935</td>\n",
              "      <td>Male</td>\n",
              "      <td>No</td>\n",
              "      <td>Yes</td>\n",
              "      <td>Yes</td>\n",
              "      <td>57.0</td>\n",
              "      <td>Yes</td>\n",
              "      <td>Yes</td>\n",
              "      <td>Fiber optic</td>\n",
              "      <td>No</td>\n",
              "      <td>No</td>\n",
              "      <td>No</td>\n",
              "      <td>No</td>\n",
              "      <td>No</td>\n",
              "      <td>No</td>\n",
              "      <td>Month-to-month</td>\n",
              "      <td>Yes</td>\n",
              "      <td>Electronic check</td>\n",
              "      <td>74.30</td>\n",
              "      <td>4018.35</td>\n",
              "      <td>4133.0</td>\n",
              "      <td>NaN</td>\n",
              "      <td>0.0</td>\n",
              "    </tr>\n",
              "    <tr>\n",
              "      <th>...</th>\n",
              "      <td>...</td>\n",
              "      <td>...</td>\n",
              "      <td>...</td>\n",
              "      <td>...</td>\n",
              "      <td>...</td>\n",
              "      <td>...</td>\n",
              "      <td>...</td>\n",
              "      <td>...</td>\n",
              "      <td>...</td>\n",
              "      <td>...</td>\n",
              "      <td>...</td>\n",
              "      <td>...</td>\n",
              "      <td>...</td>\n",
              "      <td>...</td>\n",
              "      <td>...</td>\n",
              "      <td>...</td>\n",
              "      <td>...</td>\n",
              "      <td>...</td>\n",
              "      <td>...</td>\n",
              "      <td>...</td>\n",
              "      <td>...</td>\n",
              "      <td>...</td>\n",
              "      <td>...</td>\n",
              "      <td>...</td>\n",
              "      <td>...</td>\n",
              "      <td>...</td>\n",
              "    </tr>\n",
              "    <tr>\n",
              "      <th>4713</th>\n",
              "      <td>Orange</td>\n",
              "      <td>92866.0</td>\n",
              "      <td>33.784597</td>\n",
              "      <td>-117.844535</td>\n",
              "      <td>Female</td>\n",
              "      <td>No</td>\n",
              "      <td>No</td>\n",
              "      <td>No</td>\n",
              "      <td>15.0</td>\n",
              "      <td>Yes</td>\n",
              "      <td>No</td>\n",
              "      <td>No</td>\n",
              "      <td>No internet service</td>\n",
              "      <td>No internet service</td>\n",
              "      <td>No internet service</td>\n",
              "      <td>No internet service</td>\n",
              "      <td>No internet service</td>\n",
              "      <td>No internet service</td>\n",
              "      <td>One year</td>\n",
              "      <td>No</td>\n",
              "      <td>Credit card (automatic)</td>\n",
              "      <td>20.10</td>\n",
              "      <td>302.45</td>\n",
              "      <td>4359.0</td>\n",
              "      <td>NaN</td>\n",
              "      <td>0.0</td>\n",
              "    </tr>\n",
              "    <tr>\n",
              "      <th>4714</th>\n",
              "      <td>San Francisco</td>\n",
              "      <td>94107.0</td>\n",
              "      <td>37.768881</td>\n",
              "      <td>-122.395521</td>\n",
              "      <td>Female</td>\n",
              "      <td>No</td>\n",
              "      <td>Yes</td>\n",
              "      <td>Yes</td>\n",
              "      <td>71.0</td>\n",
              "      <td>Yes</td>\n",
              "      <td>Yes</td>\n",
              "      <td>Fiber optic</td>\n",
              "      <td>Yes</td>\n",
              "      <td>Yes</td>\n",
              "      <td>Yes</td>\n",
              "      <td>No</td>\n",
              "      <td>Yes</td>\n",
              "      <td>No</td>\n",
              "      <td>Two year</td>\n",
              "      <td>Yes</td>\n",
              "      <td>Credit card (automatic)</td>\n",
              "      <td>99.00</td>\n",
              "      <td>7061.65</td>\n",
              "      <td>4305.0</td>\n",
              "      <td>NaN</td>\n",
              "      <td>0.0</td>\n",
              "    </tr>\n",
              "    <tr>\n",
              "      <th>4715</th>\n",
              "      <td>San Dimas</td>\n",
              "      <td>91773.0</td>\n",
              "      <td>34.102119</td>\n",
              "      <td>-117.815532</td>\n",
              "      <td>Male</td>\n",
              "      <td>No</td>\n",
              "      <td>Yes</td>\n",
              "      <td>No</td>\n",
              "      <td>3.0</td>\n",
              "      <td>No</td>\n",
              "      <td>No phone service</td>\n",
              "      <td>DSL</td>\n",
              "      <td>No</td>\n",
              "      <td>No</td>\n",
              "      <td>No</td>\n",
              "      <td>No</td>\n",
              "      <td>No</td>\n",
              "      <td>Yes</td>\n",
              "      <td>Month-to-month</td>\n",
              "      <td>Yes</td>\n",
              "      <td>Electronic check</td>\n",
              "      <td>35.15</td>\n",
              "      <td>99.75</td>\n",
              "      <td>2987.0</td>\n",
              "      <td>Attitude of support person</td>\n",
              "      <td>1.0</td>\n",
              "    </tr>\n",
              "    <tr>\n",
              "      <th>4716</th>\n",
              "      <td>Klamath River</td>\n",
              "      <td>96050.0</td>\n",
              "      <td>41.816595</td>\n",
              "      <td>-122.948287</td>\n",
              "      <td>Female</td>\n",
              "      <td>No</td>\n",
              "      <td>Yes</td>\n",
              "      <td>No</td>\n",
              "      <td>17.0</td>\n",
              "      <td>Yes</td>\n",
              "      <td>No</td>\n",
              "      <td>Fiber optic</td>\n",
              "      <td>No</td>\n",
              "      <td>No</td>\n",
              "      <td>Yes</td>\n",
              "      <td>Yes</td>\n",
              "      <td>Yes</td>\n",
              "      <td>Yes</td>\n",
              "      <td>One year</td>\n",
              "      <td>No</td>\n",
              "      <td>Bank transfer (automatic)</td>\n",
              "      <td>98.60</td>\n",
              "      <td>1704.95</td>\n",
              "      <td>5160.0</td>\n",
              "      <td>Moved</td>\n",
              "      <td>1.0</td>\n",
              "    </tr>\n",
              "    <tr>\n",
              "      <th>4717</th>\n",
              "      <td>Daly City</td>\n",
              "      <td>94015.0</td>\n",
              "      <td>37.680844</td>\n",
              "      <td>-122.481310</td>\n",
              "      <td>Male</td>\n",
              "      <td>Yes</td>\n",
              "      <td>No</td>\n",
              "      <td>No</td>\n",
              "      <td>45.0</td>\n",
              "      <td>Yes</td>\n",
              "      <td>No</td>\n",
              "      <td>DSL</td>\n",
              "      <td>Yes</td>\n",
              "      <td>No</td>\n",
              "      <td>Yes</td>\n",
              "      <td>No</td>\n",
              "      <td>No</td>\n",
              "      <td>Yes</td>\n",
              "      <td>One year</td>\n",
              "      <td>No</td>\n",
              "      <td>Credit card (automatic)</td>\n",
              "      <td>62.70</td>\n",
              "      <td>2791.50</td>\n",
              "      <td>2654.0</td>\n",
              "      <td>Limited range of services</td>\n",
              "      <td>1.0</td>\n",
              "    </tr>\n",
              "  </tbody>\n",
              "</table>\n",
              "<p>4718 rows × 26 columns</p>\n",
              "</div>"
            ],
            "text/plain": [
              "               City  Zip Code  ...                Churn Reason  Churn Value\n",
              "0       Paso Robles   93446.0  ...                         NaN          0.0\n",
              "1       Los Angeles   90005.0  ...                         NaN          0.0\n",
              "2           Potrero   91963.0  ...                         NaN          0.0\n",
              "3          Palmdale   93551.0  ...                         NaN          0.0\n",
              "4              Hood   95639.0  ...                         NaN          0.0\n",
              "...             ...       ...  ...                         ...          ...\n",
              "4713         Orange   92866.0  ...                         NaN          0.0\n",
              "4714  San Francisco   94107.0  ...                         NaN          0.0\n",
              "4715      San Dimas   91773.0  ...  Attitude of support person          1.0\n",
              "4716  Klamath River   96050.0  ...                       Moved          1.0\n",
              "4717      Daly City   94015.0  ...   Limited range of services          1.0\n",
              "\n",
              "[4718 rows x 26 columns]"
            ]
          },
          "metadata": {
            "tags": []
          },
          "execution_count": 8
        }
      ]
    },
    {
      "cell_type": "markdown",
      "metadata": {
        "id": "DjYSeSjHb1e2"
      },
      "source": [
        "* Zip Code, Tenure Months and Churn Value are having integer values but their type is float64"
      ]
    },
    {
      "cell_type": "markdown",
      "metadata": {
        "id": "XT2abzxGcQka"
      },
      "source": [
        "**Convert Zip Code, Tenure Months and Churn Value into int64** <a class=\"anchor\" id=\"subhead7\"></a>"
      ]
    },
    {
      "cell_type": "code",
      "metadata": {
        "colab": {
          "base_uri": "https://localhost:8080/",
          "height": 738
        },
        "id": "w5lvfIGabevE",
        "outputId": "3301d8da-b913-4396-ef2e-d07f40d8c2e4"
      },
      "source": [
        "telecom_customer[['Zip Code','Tenure Months','Churn Value']] = telecom_customer[['Zip Code','Tenure Months','Churn Value']].astype('Int64')\n",
        "telecom_customer"
      ],
      "execution_count": 9,
      "outputs": [
        {
          "output_type": "execute_result",
          "data": {
            "text/html": [
              "<div>\n",
              "<style scoped>\n",
              "    .dataframe tbody tr th:only-of-type {\n",
              "        vertical-align: middle;\n",
              "    }\n",
              "\n",
              "    .dataframe tbody tr th {\n",
              "        vertical-align: top;\n",
              "    }\n",
              "\n",
              "    .dataframe thead th {\n",
              "        text-align: right;\n",
              "    }\n",
              "</style>\n",
              "<table border=\"1\" class=\"dataframe\">\n",
              "  <thead>\n",
              "    <tr style=\"text-align: right;\">\n",
              "      <th></th>\n",
              "      <th>City</th>\n",
              "      <th>Zip Code</th>\n",
              "      <th>Latitude</th>\n",
              "      <th>Longitude</th>\n",
              "      <th>Gender</th>\n",
              "      <th>Senior Citizen</th>\n",
              "      <th>Partner</th>\n",
              "      <th>Dependents</th>\n",
              "      <th>Tenure Months</th>\n",
              "      <th>Phone Service</th>\n",
              "      <th>Multiple Lines</th>\n",
              "      <th>Internet Service</th>\n",
              "      <th>Online Security</th>\n",
              "      <th>Online Backup</th>\n",
              "      <th>Device Protection</th>\n",
              "      <th>Tech Support</th>\n",
              "      <th>Streaming TV</th>\n",
              "      <th>Streaming Movies</th>\n",
              "      <th>Contract</th>\n",
              "      <th>Paperless Billing</th>\n",
              "      <th>Payment Method</th>\n",
              "      <th>Monthly Charges</th>\n",
              "      <th>Total Charges</th>\n",
              "      <th>CLTV</th>\n",
              "      <th>Churn Reason</th>\n",
              "      <th>Churn Value</th>\n",
              "    </tr>\n",
              "  </thead>\n",
              "  <tbody>\n",
              "    <tr>\n",
              "      <th>0</th>\n",
              "      <td>Paso Robles</td>\n",
              "      <td>93446</td>\n",
              "      <td>35.634222</td>\n",
              "      <td>-120.728341</td>\n",
              "      <td>Male</td>\n",
              "      <td>No</td>\n",
              "      <td>Yes</td>\n",
              "      <td>Yes</td>\n",
              "      <td>67</td>\n",
              "      <td>Yes</td>\n",
              "      <td>No</td>\n",
              "      <td>DSL</td>\n",
              "      <td>Yes</td>\n",
              "      <td>Yes</td>\n",
              "      <td>No</td>\n",
              "      <td>Yes</td>\n",
              "      <td>No</td>\n",
              "      <td>No</td>\n",
              "      <td>One year</td>\n",
              "      <td>No</td>\n",
              "      <td>Mailed check</td>\n",
              "      <td>60.05</td>\n",
              "      <td>3994.05</td>\n",
              "      <td>6148.0</td>\n",
              "      <td>NaN</td>\n",
              "      <td>0</td>\n",
              "    </tr>\n",
              "    <tr>\n",
              "      <th>1</th>\n",
              "      <td>Los Angeles</td>\n",
              "      <td>90005</td>\n",
              "      <td>34.059281</td>\n",
              "      <td>-118.307420</td>\n",
              "      <td>Female</td>\n",
              "      <td>No</td>\n",
              "      <td>No</td>\n",
              "      <td>No</td>\n",
              "      <td>53</td>\n",
              "      <td>Yes</td>\n",
              "      <td>Yes</td>\n",
              "      <td>Fiber optic</td>\n",
              "      <td>Yes</td>\n",
              "      <td>Yes</td>\n",
              "      <td>Yes</td>\n",
              "      <td>NaN</td>\n",
              "      <td>No</td>\n",
              "      <td>No</td>\n",
              "      <td>Month-to-month</td>\n",
              "      <td>No</td>\n",
              "      <td>Electronic check</td>\n",
              "      <td>90.80</td>\n",
              "      <td>4921.20</td>\n",
              "      <td>5249.0</td>\n",
              "      <td>NaN</td>\n",
              "      <td>0</td>\n",
              "    </tr>\n",
              "    <tr>\n",
              "      <th>2</th>\n",
              "      <td>Potrero</td>\n",
              "      <td>91963</td>\n",
              "      <td>32.619465</td>\n",
              "      <td>-116.593605</td>\n",
              "      <td>Male</td>\n",
              "      <td>No</td>\n",
              "      <td>No</td>\n",
              "      <td>No</td>\n",
              "      <td>48</td>\n",
              "      <td>Yes</td>\n",
              "      <td>Yes</td>\n",
              "      <td>DSL</td>\n",
              "      <td>Yes</td>\n",
              "      <td>No</td>\n",
              "      <td>Yes</td>\n",
              "      <td>No</td>\n",
              "      <td>Yes</td>\n",
              "      <td>Yes</td>\n",
              "      <td>One year</td>\n",
              "      <td>Yes</td>\n",
              "      <td>Credit card (automatic)</td>\n",
              "      <td>78.75</td>\n",
              "      <td>3682.45</td>\n",
              "      <td>2257.0</td>\n",
              "      <td>NaN</td>\n",
              "      <td>0</td>\n",
              "    </tr>\n",
              "    <tr>\n",
              "      <th>3</th>\n",
              "      <td>Palmdale</td>\n",
              "      <td>93551</td>\n",
              "      <td>34.613476</td>\n",
              "      <td>-118.256358</td>\n",
              "      <td>Male</td>\n",
              "      <td>Yes</td>\n",
              "      <td>No</td>\n",
              "      <td>No</td>\n",
              "      <td>1</td>\n",
              "      <td>Yes</td>\n",
              "      <td>No</td>\n",
              "      <td>Fiber optic</td>\n",
              "      <td>No</td>\n",
              "      <td>No</td>\n",
              "      <td>No</td>\n",
              "      <td>No</td>\n",
              "      <td>No</td>\n",
              "      <td>No</td>\n",
              "      <td>Month-to-month</td>\n",
              "      <td>Yes</td>\n",
              "      <td>Electronic check</td>\n",
              "      <td>70.05</td>\n",
              "      <td>70.05</td>\n",
              "      <td>2469.0</td>\n",
              "      <td>NaN</td>\n",
              "      <td>0</td>\n",
              "    </tr>\n",
              "    <tr>\n",
              "      <th>4</th>\n",
              "      <td>Hood</td>\n",
              "      <td>95639</td>\n",
              "      <td>38.375325</td>\n",
              "      <td>-121.507935</td>\n",
              "      <td>Male</td>\n",
              "      <td>No</td>\n",
              "      <td>Yes</td>\n",
              "      <td>Yes</td>\n",
              "      <td>57</td>\n",
              "      <td>Yes</td>\n",
              "      <td>Yes</td>\n",
              "      <td>Fiber optic</td>\n",
              "      <td>No</td>\n",
              "      <td>No</td>\n",
              "      <td>No</td>\n",
              "      <td>No</td>\n",
              "      <td>No</td>\n",
              "      <td>No</td>\n",
              "      <td>Month-to-month</td>\n",
              "      <td>Yes</td>\n",
              "      <td>Electronic check</td>\n",
              "      <td>74.30</td>\n",
              "      <td>4018.35</td>\n",
              "      <td>4133.0</td>\n",
              "      <td>NaN</td>\n",
              "      <td>0</td>\n",
              "    </tr>\n",
              "    <tr>\n",
              "      <th>...</th>\n",
              "      <td>...</td>\n",
              "      <td>...</td>\n",
              "      <td>...</td>\n",
              "      <td>...</td>\n",
              "      <td>...</td>\n",
              "      <td>...</td>\n",
              "      <td>...</td>\n",
              "      <td>...</td>\n",
              "      <td>...</td>\n",
              "      <td>...</td>\n",
              "      <td>...</td>\n",
              "      <td>...</td>\n",
              "      <td>...</td>\n",
              "      <td>...</td>\n",
              "      <td>...</td>\n",
              "      <td>...</td>\n",
              "      <td>...</td>\n",
              "      <td>...</td>\n",
              "      <td>...</td>\n",
              "      <td>...</td>\n",
              "      <td>...</td>\n",
              "      <td>...</td>\n",
              "      <td>...</td>\n",
              "      <td>...</td>\n",
              "      <td>...</td>\n",
              "      <td>...</td>\n",
              "    </tr>\n",
              "    <tr>\n",
              "      <th>4713</th>\n",
              "      <td>Orange</td>\n",
              "      <td>92866</td>\n",
              "      <td>33.784597</td>\n",
              "      <td>-117.844535</td>\n",
              "      <td>Female</td>\n",
              "      <td>No</td>\n",
              "      <td>No</td>\n",
              "      <td>No</td>\n",
              "      <td>15</td>\n",
              "      <td>Yes</td>\n",
              "      <td>No</td>\n",
              "      <td>No</td>\n",
              "      <td>No internet service</td>\n",
              "      <td>No internet service</td>\n",
              "      <td>No internet service</td>\n",
              "      <td>No internet service</td>\n",
              "      <td>No internet service</td>\n",
              "      <td>No internet service</td>\n",
              "      <td>One year</td>\n",
              "      <td>No</td>\n",
              "      <td>Credit card (automatic)</td>\n",
              "      <td>20.10</td>\n",
              "      <td>302.45</td>\n",
              "      <td>4359.0</td>\n",
              "      <td>NaN</td>\n",
              "      <td>0</td>\n",
              "    </tr>\n",
              "    <tr>\n",
              "      <th>4714</th>\n",
              "      <td>San Francisco</td>\n",
              "      <td>94107</td>\n",
              "      <td>37.768881</td>\n",
              "      <td>-122.395521</td>\n",
              "      <td>Female</td>\n",
              "      <td>No</td>\n",
              "      <td>Yes</td>\n",
              "      <td>Yes</td>\n",
              "      <td>71</td>\n",
              "      <td>Yes</td>\n",
              "      <td>Yes</td>\n",
              "      <td>Fiber optic</td>\n",
              "      <td>Yes</td>\n",
              "      <td>Yes</td>\n",
              "      <td>Yes</td>\n",
              "      <td>No</td>\n",
              "      <td>Yes</td>\n",
              "      <td>No</td>\n",
              "      <td>Two year</td>\n",
              "      <td>Yes</td>\n",
              "      <td>Credit card (automatic)</td>\n",
              "      <td>99.00</td>\n",
              "      <td>7061.65</td>\n",
              "      <td>4305.0</td>\n",
              "      <td>NaN</td>\n",
              "      <td>0</td>\n",
              "    </tr>\n",
              "    <tr>\n",
              "      <th>4715</th>\n",
              "      <td>San Dimas</td>\n",
              "      <td>91773</td>\n",
              "      <td>34.102119</td>\n",
              "      <td>-117.815532</td>\n",
              "      <td>Male</td>\n",
              "      <td>No</td>\n",
              "      <td>Yes</td>\n",
              "      <td>No</td>\n",
              "      <td>3</td>\n",
              "      <td>No</td>\n",
              "      <td>No phone service</td>\n",
              "      <td>DSL</td>\n",
              "      <td>No</td>\n",
              "      <td>No</td>\n",
              "      <td>No</td>\n",
              "      <td>No</td>\n",
              "      <td>No</td>\n",
              "      <td>Yes</td>\n",
              "      <td>Month-to-month</td>\n",
              "      <td>Yes</td>\n",
              "      <td>Electronic check</td>\n",
              "      <td>35.15</td>\n",
              "      <td>99.75</td>\n",
              "      <td>2987.0</td>\n",
              "      <td>Attitude of support person</td>\n",
              "      <td>1</td>\n",
              "    </tr>\n",
              "    <tr>\n",
              "      <th>4716</th>\n",
              "      <td>Klamath River</td>\n",
              "      <td>96050</td>\n",
              "      <td>41.816595</td>\n",
              "      <td>-122.948287</td>\n",
              "      <td>Female</td>\n",
              "      <td>No</td>\n",
              "      <td>Yes</td>\n",
              "      <td>No</td>\n",
              "      <td>17</td>\n",
              "      <td>Yes</td>\n",
              "      <td>No</td>\n",
              "      <td>Fiber optic</td>\n",
              "      <td>No</td>\n",
              "      <td>No</td>\n",
              "      <td>Yes</td>\n",
              "      <td>Yes</td>\n",
              "      <td>Yes</td>\n",
              "      <td>Yes</td>\n",
              "      <td>One year</td>\n",
              "      <td>No</td>\n",
              "      <td>Bank transfer (automatic)</td>\n",
              "      <td>98.60</td>\n",
              "      <td>1704.95</td>\n",
              "      <td>5160.0</td>\n",
              "      <td>Moved</td>\n",
              "      <td>1</td>\n",
              "    </tr>\n",
              "    <tr>\n",
              "      <th>4717</th>\n",
              "      <td>Daly City</td>\n",
              "      <td>94015</td>\n",
              "      <td>37.680844</td>\n",
              "      <td>-122.481310</td>\n",
              "      <td>Male</td>\n",
              "      <td>Yes</td>\n",
              "      <td>No</td>\n",
              "      <td>No</td>\n",
              "      <td>45</td>\n",
              "      <td>Yes</td>\n",
              "      <td>No</td>\n",
              "      <td>DSL</td>\n",
              "      <td>Yes</td>\n",
              "      <td>No</td>\n",
              "      <td>Yes</td>\n",
              "      <td>No</td>\n",
              "      <td>No</td>\n",
              "      <td>Yes</td>\n",
              "      <td>One year</td>\n",
              "      <td>No</td>\n",
              "      <td>Credit card (automatic)</td>\n",
              "      <td>62.70</td>\n",
              "      <td>2791.50</td>\n",
              "      <td>2654.0</td>\n",
              "      <td>Limited range of services</td>\n",
              "      <td>1</td>\n",
              "    </tr>\n",
              "  </tbody>\n",
              "</table>\n",
              "<p>4718 rows × 26 columns</p>\n",
              "</div>"
            ],
            "text/plain": [
              "               City  Zip Code  ...                Churn Reason  Churn Value\n",
              "0       Paso Robles     93446  ...                         NaN            0\n",
              "1       Los Angeles     90005  ...                         NaN            0\n",
              "2           Potrero     91963  ...                         NaN            0\n",
              "3          Palmdale     93551  ...                         NaN            0\n",
              "4              Hood     95639  ...                         NaN            0\n",
              "...             ...       ...  ...                         ...          ...\n",
              "4713         Orange     92866  ...                         NaN            0\n",
              "4714  San Francisco     94107  ...                         NaN            0\n",
              "4715      San Dimas     91773  ...  Attitude of support person            1\n",
              "4716  Klamath River     96050  ...                       Moved            1\n",
              "4717      Daly City     94015  ...   Limited range of services            1\n",
              "\n",
              "[4718 rows x 26 columns]"
            ]
          },
          "metadata": {
            "tags": []
          },
          "execution_count": 9
        }
      ]
    },
    {
      "cell_type": "markdown",
      "metadata": {
        "id": "xvOy2DBIO2PQ"
      },
      "source": [
        "**Categorical Features & Numeric Features** <a class=\"anchor\" id=\"subhead8\"></a>"
      ]
    },
    {
      "cell_type": "code",
      "metadata": {
        "colab": {
          "base_uri": "https://localhost:8080/"
        },
        "id": "ATsXaKtGLIMC",
        "outputId": "2a6d614c-f5b4-4571-cb73-cb438f05c06c"
      },
      "source": [
        "cat_features = telecom_customer.select_dtypes(include=['object'])\n",
        "cat_features.columns"
      ],
      "execution_count": 10,
      "outputs": [
        {
          "output_type": "execute_result",
          "data": {
            "text/plain": [
              "Index(['City', 'Gender', 'Senior Citizen', 'Partner', 'Dependents',\n",
              "       'Phone Service', 'Multiple Lines', 'Internet Service',\n",
              "       'Online Security', 'Online Backup', 'Device Protection', 'Tech Support',\n",
              "       'Streaming TV', 'Streaming Movies', 'Contract', 'Paperless Billing',\n",
              "       'Payment Method', 'Churn Reason'],\n",
              "      dtype='object')"
            ]
          },
          "metadata": {
            "tags": []
          },
          "execution_count": 10
        }
      ]
    },
    {
      "cell_type": "code",
      "metadata": {
        "colab": {
          "base_uri": "https://localhost:8080/"
        },
        "id": "JWy_FyoeLJ6I",
        "outputId": "512aebf1-9404-4834-8401-6966a724d6fc"
      },
      "source": [
        "num_features= telecom_customer.select_dtypes(include=['float64','int64'])\n",
        "num_features.columns"
      ],
      "execution_count": 11,
      "outputs": [
        {
          "output_type": "execute_result",
          "data": {
            "text/plain": [
              "Index(['Zip Code', 'Latitude', 'Longitude', 'Tenure Months', 'Monthly Charges',\n",
              "       'Total Charges', 'CLTV', 'Churn Value'],\n",
              "      dtype='object')"
            ]
          },
          "metadata": {
            "tags": []
          },
          "execution_count": 11
        }
      ]
    },
    {
      "cell_type": "markdown",
      "metadata": {
        "id": "C8dONQ0aQ-4R"
      },
      "source": [
        "**Statistical Description of numeric Features** <a class=\"anchor\" id=\"subhead9\"></a>"
      ]
    },
    {
      "cell_type": "markdown",
      "metadata": {
        "id": "OSvFjVNGReEg"
      },
      "source": [
        "* Churn Value will not include in statistical measures as it represents only 2 values."
      ]
    },
    {
      "cell_type": "code",
      "metadata": {
        "colab": {
          "base_uri": "https://localhost:8080/",
          "height": 206
        },
        "id": "5AwFv0kOEPc8",
        "outputId": "50f542da-8882-4740-bea9-c36e735ff42f"
      },
      "source": [
        "num_stats_features=num_features.drop(['Churn Value'],axis=1)\n",
        "num_stats_features.head()"
      ],
      "execution_count": 12,
      "outputs": [
        {
          "output_type": "execute_result",
          "data": {
            "text/html": [
              "<div>\n",
              "<style scoped>\n",
              "    .dataframe tbody tr th:only-of-type {\n",
              "        vertical-align: middle;\n",
              "    }\n",
              "\n",
              "    .dataframe tbody tr th {\n",
              "        vertical-align: top;\n",
              "    }\n",
              "\n",
              "    .dataframe thead th {\n",
              "        text-align: right;\n",
              "    }\n",
              "</style>\n",
              "<table border=\"1\" class=\"dataframe\">\n",
              "  <thead>\n",
              "    <tr style=\"text-align: right;\">\n",
              "      <th></th>\n",
              "      <th>Zip Code</th>\n",
              "      <th>Latitude</th>\n",
              "      <th>Longitude</th>\n",
              "      <th>Tenure Months</th>\n",
              "      <th>Monthly Charges</th>\n",
              "      <th>Total Charges</th>\n",
              "      <th>CLTV</th>\n",
              "    </tr>\n",
              "  </thead>\n",
              "  <tbody>\n",
              "    <tr>\n",
              "      <th>0</th>\n",
              "      <td>93446</td>\n",
              "      <td>35.634222</td>\n",
              "      <td>-120.728341</td>\n",
              "      <td>67</td>\n",
              "      <td>60.05</td>\n",
              "      <td>3994.05</td>\n",
              "      <td>6148.0</td>\n",
              "    </tr>\n",
              "    <tr>\n",
              "      <th>1</th>\n",
              "      <td>90005</td>\n",
              "      <td>34.059281</td>\n",
              "      <td>-118.307420</td>\n",
              "      <td>53</td>\n",
              "      <td>90.80</td>\n",
              "      <td>4921.20</td>\n",
              "      <td>5249.0</td>\n",
              "    </tr>\n",
              "    <tr>\n",
              "      <th>2</th>\n",
              "      <td>91963</td>\n",
              "      <td>32.619465</td>\n",
              "      <td>-116.593605</td>\n",
              "      <td>48</td>\n",
              "      <td>78.75</td>\n",
              "      <td>3682.45</td>\n",
              "      <td>2257.0</td>\n",
              "    </tr>\n",
              "    <tr>\n",
              "      <th>3</th>\n",
              "      <td>93551</td>\n",
              "      <td>34.613476</td>\n",
              "      <td>-118.256358</td>\n",
              "      <td>1</td>\n",
              "      <td>70.05</td>\n",
              "      <td>70.05</td>\n",
              "      <td>2469.0</td>\n",
              "    </tr>\n",
              "    <tr>\n",
              "      <th>4</th>\n",
              "      <td>95639</td>\n",
              "      <td>38.375325</td>\n",
              "      <td>-121.507935</td>\n",
              "      <td>57</td>\n",
              "      <td>74.30</td>\n",
              "      <td>4018.35</td>\n",
              "      <td>4133.0</td>\n",
              "    </tr>\n",
              "  </tbody>\n",
              "</table>\n",
              "</div>"
            ],
            "text/plain": [
              "   Zip Code   Latitude   Longitude  ...  Monthly Charges  Total Charges    CLTV\n",
              "0     93446  35.634222 -120.728341  ...            60.05        3994.05  6148.0\n",
              "1     90005  34.059281 -118.307420  ...            90.80        4921.20  5249.0\n",
              "2     91963  32.619465 -116.593605  ...            78.75        3682.45  2257.0\n",
              "3     93551  34.613476 -118.256358  ...            70.05          70.05  2469.0\n",
              "4     95639  38.375325 -121.507935  ...            74.30        4018.35  4133.0\n",
              "\n",
              "[5 rows x 7 columns]"
            ]
          },
          "metadata": {
            "tags": []
          },
          "execution_count": 12
        }
      ]
    },
    {
      "cell_type": "code",
      "metadata": {
        "colab": {
          "base_uri": "https://localhost:8080/",
          "height": 300
        },
        "id": "g_KjdA25UGRA",
        "outputId": "340289e2-a59b-4b34-f9be-bdc05d598a20"
      },
      "source": [
        "round(num_stats_features.describe(),2)"
      ],
      "execution_count": 13,
      "outputs": [
        {
          "output_type": "execute_result",
          "data": {
            "text/html": [
              "<div>\n",
              "<style scoped>\n",
              "    .dataframe tbody tr th:only-of-type {\n",
              "        vertical-align: middle;\n",
              "    }\n",
              "\n",
              "    .dataframe tbody tr th {\n",
              "        vertical-align: top;\n",
              "    }\n",
              "\n",
              "    .dataframe thead th {\n",
              "        text-align: right;\n",
              "    }\n",
              "</style>\n",
              "<table border=\"1\" class=\"dataframe\">\n",
              "  <thead>\n",
              "    <tr style=\"text-align: right;\">\n",
              "      <th></th>\n",
              "      <th>Zip Code</th>\n",
              "      <th>Latitude</th>\n",
              "      <th>Longitude</th>\n",
              "      <th>Tenure Months</th>\n",
              "      <th>Monthly Charges</th>\n",
              "      <th>Total Charges</th>\n",
              "      <th>CLTV</th>\n",
              "    </tr>\n",
              "  </thead>\n",
              "  <tbody>\n",
              "    <tr>\n",
              "      <th>count</th>\n",
              "      <td>4698.00</td>\n",
              "      <td>4695.00</td>\n",
              "      <td>4685.00</td>\n",
              "      <td>4704.00</td>\n",
              "      <td>4714.00</td>\n",
              "      <td>4695.00</td>\n",
              "      <td>4692.00</td>\n",
              "    </tr>\n",
              "    <tr>\n",
              "      <th>mean</th>\n",
              "      <td>93523.33</td>\n",
              "      <td>36.28</td>\n",
              "      <td>-119.79</td>\n",
              "      <td>32.73</td>\n",
              "      <td>64.89</td>\n",
              "      <td>2311.05</td>\n",
              "      <td>4406.63</td>\n",
              "    </tr>\n",
              "    <tr>\n",
              "      <th>std</th>\n",
              "      <td>1850.95</td>\n",
              "      <td>2.45</td>\n",
              "      <td>2.16</td>\n",
              "      <td>24.61</td>\n",
              "      <td>30.14</td>\n",
              "      <td>2281.13</td>\n",
              "      <td>1187.67</td>\n",
              "    </tr>\n",
              "    <tr>\n",
              "      <th>min</th>\n",
              "      <td>90001.00</td>\n",
              "      <td>32.56</td>\n",
              "      <td>-124.30</td>\n",
              "      <td>0.00</td>\n",
              "      <td>18.25</td>\n",
              "      <td>18.85</td>\n",
              "      <td>2003.00</td>\n",
              "    </tr>\n",
              "    <tr>\n",
              "      <th>25%</th>\n",
              "      <td>92102.25</td>\n",
              "      <td>34.03</td>\n",
              "      <td>-121.81</td>\n",
              "      <td>9.00</td>\n",
              "      <td>35.46</td>\n",
              "      <td>412.33</td>\n",
              "      <td>3477.50</td>\n",
              "    </tr>\n",
              "    <tr>\n",
              "      <th>50%</th>\n",
              "      <td>93550.00</td>\n",
              "      <td>36.39</td>\n",
              "      <td>-119.73</td>\n",
              "      <td>30.00</td>\n",
              "      <td>70.38</td>\n",
              "      <td>1424.60</td>\n",
              "      <td>4533.00</td>\n",
              "    </tr>\n",
              "    <tr>\n",
              "      <th>75%</th>\n",
              "      <td>95345.00</td>\n",
              "      <td>38.20</td>\n",
              "      <td>-118.03</td>\n",
              "      <td>56.00</td>\n",
              "      <td>89.95</td>\n",
              "      <td>3877.08</td>\n",
              "      <td>5402.25</td>\n",
              "    </tr>\n",
              "    <tr>\n",
              "      <th>max</th>\n",
              "      <td>96161.00</td>\n",
              "      <td>41.96</td>\n",
              "      <td>-114.19</td>\n",
              "      <td>72.00</td>\n",
              "      <td>118.75</td>\n",
              "      <td>8684.80</td>\n",
              "      <td>6499.00</td>\n",
              "    </tr>\n",
              "  </tbody>\n",
              "</table>\n",
              "</div>"
            ],
            "text/plain": [
              "       Zip Code  Latitude  Longitude  ...  Monthly Charges  Total Charges     CLTV\n",
              "count   4698.00   4695.00    4685.00  ...          4714.00        4695.00  4692.00\n",
              "mean   93523.33     36.28    -119.79  ...            64.89        2311.05  4406.63\n",
              "std     1850.95      2.45       2.16  ...            30.14        2281.13  1187.67\n",
              "min    90001.00     32.56    -124.30  ...            18.25          18.85  2003.00\n",
              "25%    92102.25     34.03    -121.81  ...            35.46         412.33  3477.50\n",
              "50%    93550.00     36.39    -119.73  ...            70.38        1424.60  4533.00\n",
              "75%    95345.00     38.20    -118.03  ...            89.95        3877.08  5402.25\n",
              "max    96161.00     41.96    -114.19  ...           118.75        8684.80  6499.00\n",
              "\n",
              "[8 rows x 7 columns]"
            ]
          },
          "metadata": {
            "tags": []
          },
          "execution_count": 13
        }
      ]
    },
    {
      "cell_type": "markdown",
      "metadata": {
        "id": "syio1XCmqomV"
      },
      "source": [
        "* Mean Value of monthly charges is 64.88 but 25% customers pay more than 89.95"
      ]
    },
    {
      "cell_type": "markdown",
      "metadata": {
        "id": "6-KlYq3Y-EkL"
      },
      "source": [
        "**Skewness**"
      ]
    },
    {
      "cell_type": "code",
      "metadata": {
        "colab": {
          "base_uri": "https://localhost:8080/"
        },
        "id": "JbBU1NbF-ICj",
        "outputId": "811ae39a-34af-495f-d264-e0f1e90dd719"
      },
      "source": [
        "telecom_customer[['Total Charges','Tenure Months','Monthly Charges','CLTV']].skew()"
      ],
      "execution_count": 14,
      "outputs": [
        {
          "output_type": "execute_result",
          "data": {
            "text/plain": [
              "Total Charges      0.944921\n",
              "Tenure Months      0.214240\n",
              "Monthly Charges   -0.225293\n",
              "CLTV              -0.304249\n",
              "dtype: float64"
            ]
          },
          "metadata": {
            "tags": []
          },
          "execution_count": 14
        }
      ]
    },
    {
      "cell_type": "markdown",
      "metadata": {
        "id": "cRKKdUDrB_tS"
      },
      "source": [
        "* Total Charges & Tenure Months are postively skewed\n",
        "* Monthly Charges & CLTV are negatively skewed\n",
        "* So we can't replace their null values with mean."
      ]
    },
    {
      "cell_type": "markdown",
      "metadata": {
        "id": "FXYSDjN_eQ1O"
      },
      "source": [
        "**Handling Null Values** <a class=\"anchor\" id=\"subhead10\"></a>"
      ]
    },
    {
      "cell_type": "code",
      "metadata": {
        "id": "ZqJKM2IgdZ9i"
      },
      "source": [
        "telecom_customer['Tenure Months'].fillna( telecom_customer['Tenure Months'].mode()[0],inplace=True)\n",
        "telecom_customer['Monthly Charges'].fillna( telecom_customer['Monthly Charges'].mode()[0],inplace=True)\n",
        "telecom_customer['Total Charges'].fillna( telecom_customer['Total Charges'].mode()[0],inplace=True)\n",
        "telecom_customer['CLTV'].fillna( telecom_customer['CLTV'].mode()[0],inplace=True)"
      ],
      "execution_count": 15,
      "outputs": []
    },
    {
      "cell_type": "code",
      "metadata": {
        "id": "pHXnFCDxIFZY",
        "outputId": "cbac6bf0-dfea-4288-af7c-47c06606f75b",
        "colab": {
          "base_uri": "https://localhost:8080/"
        }
      },
      "source": [
        "print(telecom_customer['Phone Service'].value_counts())\n",
        "telecom_customer['Phone Service'].fillna(\"Yes\",inplace=True)"
      ],
      "execution_count": 16,
      "outputs": [
        {
          "output_type": "stream",
          "text": [
            "Yes    4233\n",
            "No      459\n",
            "Name: Phone Service, dtype: int64\n"
          ],
          "name": "stdout"
        }
      ]
    },
    {
      "cell_type": "code",
      "metadata": {
        "id": "eTUqZI32JBaA",
        "outputId": "6b82fe65-a343-4faa-acff-5d048d4aa6f6",
        "colab": {
          "base_uri": "https://localhost:8080/"
        }
      },
      "source": [
        "print(telecom_customer['Internet Service'].value_counts())\n",
        "telecom_customer['Internet Service'].fillna(\"Fiber optic\",inplace=True)"
      ],
      "execution_count": 17,
      "outputs": [
        {
          "output_type": "stream",
          "text": [
            "Fiber optic    2053\n",
            "DSL            1618\n",
            "No             1021\n",
            "Name: Internet Service, dtype: int64\n"
          ],
          "name": "stdout"
        }
      ]
    },
    {
      "cell_type": "code",
      "metadata": {
        "id": "TG-mIMesJL7m",
        "outputId": "ce377d87-35f4-4756-fe0d-4b33a0d59d92",
        "colab": {
          "base_uri": "https://localhost:8080/"
        }
      },
      "source": [
        "print(telecom_customer['Device Protection'].value_counts())\n",
        "telecom_customer['Device Protection'].fillna(\"No\",inplace=True)"
      ],
      "execution_count": 18,
      "outputs": [
        {
          "output_type": "stream",
          "text": [
            "No                     2044\n",
            "Yes                    1643\n",
            "No internet service    1024\n",
            "Name: Device Protection, dtype: int64\n"
          ],
          "name": "stdout"
        }
      ]
    },
    {
      "cell_type": "code",
      "metadata": {
        "id": "8c7sydpLJWB8",
        "outputId": "f56b058d-4276-4f94-cbfa-d8fa9a598f9c",
        "colab": {
          "base_uri": "https://localhost:8080/"
        }
      },
      "source": [
        "print(telecom_customer['Tech Support'].value_counts())\n",
        "telecom_customer['Tech Support'].fillna(\"No\",inplace=True)"
      ],
      "execution_count": 19,
      "outputs": [
        {
          "output_type": "stream",
          "text": [
            "No                     2251\n",
            "Yes                    1420\n",
            "No internet service    1024\n",
            "Name: Tech Support, dtype: int64\n"
          ],
          "name": "stdout"
        }
      ]
    },
    {
      "cell_type": "code",
      "metadata": {
        "id": "uaqRfqg5Jimx",
        "outputId": "19884a20-64bf-4473-a63a-96cd62c01365",
        "colab": {
          "base_uri": "https://localhost:8080/"
        }
      },
      "source": [
        "print(telecom_customer['Contract'].value_counts())\n",
        "telecom_customer['Contract'].fillna(\"Month-to-month\",inplace=True)"
      ],
      "execution_count": 20,
      "outputs": [
        {
          "output_type": "stream",
          "text": [
            "Month-to-month    2540\n",
            "Two year          1144\n",
            "One year           988\n",
            "Name: Contract, dtype: int64\n"
          ],
          "name": "stdout"
        }
      ]
    },
    {
      "cell_type": "code",
      "metadata": {
        "id": "2xu5q9MoJqsD",
        "outputId": "6e082608-c98b-42f4-90a9-29257dac1271",
        "colab": {
          "base_uri": "https://localhost:8080/"
        }
      },
      "source": [
        "print(telecom_customer['Paperless Billing'].value_counts())\n",
        "telecom_customer['Paperless Billing'].fillna(\"Yes\",inplace=True)"
      ],
      "execution_count": 21,
      "outputs": [
        {
          "output_type": "stream",
          "text": [
            "Yes    2771\n",
            "No     1923\n",
            "Name: Paperless Billing, dtype: int64\n"
          ],
          "name": "stdout"
        }
      ]
    },
    {
      "cell_type": "code",
      "metadata": {
        "id": "Z3LcpGeyJyl8",
        "outputId": "4dbdafe1-924e-4bd2-d721-f89db977e93d",
        "colab": {
          "base_uri": "https://localhost:8080/"
        }
      },
      "source": [
        "print(telecom_customer['Payment Method'].value_counts())\n",
        "telecom_customer['Payment Method'].fillna(\"Electronic check\",inplace=True)"
      ],
      "execution_count": 22,
      "outputs": [
        {
          "output_type": "stream",
          "text": [
            "Electronic check             1579\n",
            "Mailed check                 1091\n",
            "Bank transfer (automatic)    1025\n",
            "Credit card (automatic)      1022\n",
            "Name: Payment Method, dtype: int64\n"
          ],
          "name": "stdout"
        }
      ]
    },
    {
      "cell_type": "code",
      "metadata": {
        "id": "8Uffai2PJ766",
        "outputId": "bdfd0314-7df4-477f-cc67-d061a9a46a78",
        "colab": {
          "base_uri": "https://localhost:8080/"
        }
      },
      "source": [
        "print(telecom_customer['Online Security'].value_counts())\n",
        "telecom_customer['Online Security'].fillna(\"No\",inplace=True)"
      ],
      "execution_count": 23,
      "outputs": [
        {
          "output_type": "stream",
          "text": [
            "No                     2292\n",
            "Yes                    1361\n",
            "No internet service    1021\n",
            "Name: Online Security, dtype: int64\n"
          ],
          "name": "stdout"
        }
      ]
    },
    {
      "cell_type": "code",
      "metadata": {
        "id": "OFcpy7hxKDoa",
        "outputId": "50bb455e-a632-4a06-ce5b-24cc6cc61fc0",
        "colab": {
          "base_uri": "https://localhost:8080/"
        }
      },
      "source": [
        "print(telecom_customer['Online Backup'].value_counts())\n",
        "telecom_customer['Online Backup'].fillna(\"No\",inplace=True)"
      ],
      "execution_count": 24,
      "outputs": [
        {
          "output_type": "stream",
          "text": [
            "No                     2054\n",
            "Yes                    1633\n",
            "No internet service    1027\n",
            "Name: Online Backup, dtype: int64\n"
          ],
          "name": "stdout"
        }
      ]
    },
    {
      "cell_type": "code",
      "metadata": {
        "id": "LLdMJOEdKQHd",
        "outputId": "f7d4c5fe-d9ac-435f-f55e-828560ecf601",
        "colab": {
          "base_uri": "https://localhost:8080/"
        }
      },
      "source": [
        "print(telecom_customer['Dependents'].value_counts())\n",
        "telecom_customer['Dependents'].fillna(\"No\",inplace=True)"
      ],
      "execution_count": 25,
      "outputs": [
        {
          "output_type": "stream",
          "text": [
            "No     3592\n",
            "Yes    1080\n",
            "Name: Dependents, dtype: int64\n"
          ],
          "name": "stdout"
        }
      ]
    },
    {
      "cell_type": "code",
      "metadata": {
        "id": "2jDxA64DKdt8"
      },
      "source": [
        "telecom_customer['Churn Reason'].fillna(\"None\",inplace=True)"
      ],
      "execution_count": 26,
      "outputs": []
    },
    {
      "cell_type": "code",
      "metadata": {
        "colab": {
          "base_uri": "https://localhost:8080/"
        },
        "id": "5x8r_mOthpfm",
        "outputId": "707dd317-884d-472c-b8b0-8dfbdb5b2740"
      },
      "source": [
        "telecom_customer['Multiple Lines'].value_counts()"
      ],
      "execution_count": 27,
      "outputs": [
        {
          "output_type": "execute_result",
          "data": {
            "text/plain": [
              "No                  2231\n",
              "Yes                 2004\n",
              "No phone service     461\n",
              "Name: Multiple Lines, dtype: int64"
            ]
          },
          "metadata": {
            "tags": []
          },
          "execution_count": 27
        }
      ]
    },
    {
      "cell_type": "code",
      "metadata": {
        "id": "iILqlY9NK-Bc",
        "outputId": "c226b75b-e06d-4b56-8ba1-a03a5c79d0a9",
        "colab": {
          "base_uri": "https://localhost:8080/"
        }
      },
      "source": [
        "telecom_customer['Streaming TV'].value_counts()"
      ],
      "execution_count": 28,
      "outputs": [
        {
          "output_type": "execute_result",
          "data": {
            "text/plain": [
              "No                     1844\n",
              "Yes                    1820\n",
              "No internet service    1022\n",
              "Name: Streaming TV, dtype: int64"
            ]
          },
          "metadata": {
            "tags": []
          },
          "execution_count": 28
        }
      ]
    },
    {
      "cell_type": "code",
      "metadata": {
        "id": "UfZBbx6jLI33",
        "outputId": "09baf9f9-81c8-4e0b-c075-0e9d9842b09e",
        "colab": {
          "base_uri": "https://localhost:8080/"
        }
      },
      "source": [
        "telecom_customer['Partner'].value_counts()"
      ],
      "execution_count": 29,
      "outputs": [
        {
          "output_type": "execute_result",
          "data": {
            "text/plain": [
              "No     2396\n",
              "Yes    2282\n",
              "Name: Partner, dtype: int64"
            ]
          },
          "metadata": {
            "tags": []
          },
          "execution_count": 29
        }
      ]
    },
    {
      "cell_type": "markdown",
      "metadata": {
        "id": "_Dn9GrEVLJ13"
      },
      "source": [
        "Since both values have nearly similar range , so we can't fill"
      ]
    },
    {
      "cell_type": "markdown",
      "metadata": {
        "id": "9avc0o9OLeBD"
      },
      "source": [
        "**Drop all other remaining null values**"
      ]
    },
    {
      "cell_type": "code",
      "metadata": {
        "id": "r_sAN_YQLdMs"
      },
      "source": [
        "telecom_customer.dropna(inplace=True)"
      ],
      "execution_count": 30,
      "outputs": []
    },
    {
      "cell_type": "code",
      "metadata": {
        "colab": {
          "base_uri": "https://localhost:8080/"
        },
        "id": "kPN82NHB3ykM",
        "outputId": "84611ec3-1620-489b-cdd8-ecc7534c2622"
      },
      "source": [
        "telecom_customer.isnull().sum()"
      ],
      "execution_count": 31,
      "outputs": [
        {
          "output_type": "execute_result",
          "data": {
            "text/plain": [
              "City                 0\n",
              "Zip Code             0\n",
              "Latitude             0\n",
              "Longitude            0\n",
              "Gender               0\n",
              "Senior Citizen       0\n",
              "Partner              0\n",
              "Dependents           0\n",
              "Tenure Months        0\n",
              "Phone Service        0\n",
              "Multiple Lines       0\n",
              "Internet Service     0\n",
              "Online Security      0\n",
              "Online Backup        0\n",
              "Device Protection    0\n",
              "Tech Support         0\n",
              "Streaming TV         0\n",
              "Streaming Movies     0\n",
              "Contract             0\n",
              "Paperless Billing    0\n",
              "Payment Method       0\n",
              "Monthly Charges      0\n",
              "Total Charges        0\n",
              "CLTV                 0\n",
              "Churn Reason         0\n",
              "Churn Value          0\n",
              "dtype: int64"
            ]
          },
          "metadata": {
            "tags": []
          },
          "execution_count": 31
        }
      ]
    },
    {
      "cell_type": "markdown",
      "metadata": {
        "id": "-_ca0LiqLwYR"
      },
      "source": [
        "All null values removed from data"
      ]
    },
    {
      "cell_type": "code",
      "metadata": {
        "id": "WKcJM9A3L8W6",
        "outputId": "fdac3ade-1bd2-4e18-ee91-f1c36b31b816",
        "colab": {
          "base_uri": "https://localhost:8080/"
        }
      },
      "source": [
        "telecom_customer.shape"
      ],
      "execution_count": 32,
      "outputs": [
        {
          "output_type": "execute_result",
          "data": {
            "text/plain": [
              "(4449, 26)"
            ]
          },
          "metadata": {
            "tags": []
          },
          "execution_count": 32
        }
      ]
    },
    {
      "cell_type": "markdown",
      "metadata": {
        "id": "mspmp2EMMbO3"
      },
      "source": [
        "**Data Visualization**"
      ]
    },
    {
      "cell_type": "code",
      "metadata": {
        "id": "IPO_X8WA0Z0r"
      },
      "source": [
        "telecom_customer['Churn Value']=telecom_customer['Churn Value'].map({0:'No',1:'Yes'})"
      ],
      "execution_count": 33,
      "outputs": []
    },
    {
      "cell_type": "code",
      "metadata": {
        "colab": {
          "base_uri": "https://localhost:8080/",
          "height": 297
        },
        "id": "CYo3TTq9680z",
        "outputId": "e5b9d5b7-2dcd-48a7-bede-b1c850a22a94"
      },
      "source": [
        "sns.countplot(data=telecom_customer,x='Internet Service', hue='Churn Value')\n"
      ],
      "execution_count": 34,
      "outputs": [
        {
          "output_type": "execute_result",
          "data": {
            "text/plain": [
              "<matplotlib.axes._subplots.AxesSubplot at 0x7f53e701e450>"
            ]
          },
          "metadata": {
            "tags": []
          },
          "execution_count": 34
        },
        {
          "output_type": "display_data",
          "data": {
            "image/png": "[encoded data removed]",
            "text/plain": [
              "<Figure size 432x288 with 1 Axes>"
            ]
          },
          "metadata": {
            "tags": [],
            "needs_background": "light"
          }
        }
      ]
    },
    {
      "cell_type": "markdown",
      "metadata": {
        "id": "ZCjDU81v6tCd"
      },
      "source": [
        "* Customer who opt for fiber optic are mostly churn\n",
        "* Customers with DSL are most and they are less churn\n",
        "* Company should make less use of fiber optic"
      ]
    },
    {
      "cell_type": "code",
      "metadata": {
        "id": "HdbUYNYKNkJh",
        "outputId": "f95c96c1-49a7-49c6-a2be-10fb8885d74e",
        "colab": {
          "base_uri": "https://localhost:8080/",
          "height": 297
        }
      },
      "source": [
        "sns.countplot(data=telecom_customer,x='Multiple Lines', hue='Churn Value')\n"
      ],
      "execution_count": 35,
      "outputs": [
        {
          "output_type": "execute_result",
          "data": {
            "text/plain": [
              "<matplotlib.axes._subplots.AxesSubplot at 0x7f53e5792dd0>"
            ]
          },
          "metadata": {
            "tags": []
          },
          "execution_count": 35
        },
        {
          "output_type": "display_data",
          "data": {
            "image/png": "[encoded data removed]",
            "text/plain": [
              "<Figure size 432x288 with 1 Axes>"
            ]
          },
          "metadata": {
            "tags": [],
            "needs_background": "light"
          }
        }
      ]
    },
    {
      "cell_type": "markdown",
      "metadata": {
        "id": "bs8PbCFKOFUy"
      },
      "source": [
        "* Customer whether use multiple lines or not, dont have any significant effect on churn."
      ]
    },
    {
      "cell_type": "code",
      "metadata": {
        "colab": {
          "base_uri": "https://localhost:8080/",
          "height": 297
        },
        "id": "pPOONqfn7KjP",
        "outputId": "5810f9bc-d0bb-43d8-fc9c-3e5f7f408d95"
      },
      "source": [
        "sns.countplot(data=telecom_customer,x='Phone Service', hue='Churn Value')\n"
      ],
      "execution_count": 36,
      "outputs": [
        {
          "output_type": "execute_result",
          "data": {
            "text/plain": [
              "<matplotlib.axes._subplots.AxesSubplot at 0x7f53e5276dd0>"
            ]
          },
          "metadata": {
            "tags": []
          },
          "execution_count": 36
        },
        {
          "output_type": "display_data",
          "data": {
            "image/png": "[encoded data removed]",
            "text/plain": [
              "<Figure size 432x288 with 1 Axes>"
            ]
          },
          "metadata": {
            "tags": [],
            "needs_background": "light"
          }
        }
      ]
    },
    {
      "cell_type": "markdown",
      "metadata": {
        "id": "XARH1hec7Pwn"
      },
      "source": [
        "* Most Customers opt for Phone Service and 1/3 of them are churn."
      ]
    },
    {
      "cell_type": "code",
      "metadata": {
        "id": "E3PRCo9xO-_0",
        "outputId": "0fa5334e-2dbf-466e-f988-bed7b4b17e4f",
        "colab": {
          "base_uri": "https://localhost:8080/",
          "height": 297
        }
      },
      "source": [
        "sns.countplot(data=telecom_customer,x='Online Security', hue='Churn Value')\n"
      ],
      "execution_count": 37,
      "outputs": [
        {
          "output_type": "execute_result",
          "data": {
            "text/plain": [
              "<matplotlib.axes._subplots.AxesSubplot at 0x7f53e51e5a10>"
            ]
          },
          "metadata": {
            "tags": []
          },
          "execution_count": 37
        },
        {
          "output_type": "display_data",
          "data": {
            "image/png": "[encoded data removed]",
            "text/plain": [
              "<Figure size 432x288 with 1 Axes>"
            ]
          },
          "metadata": {
            "tags": [],
            "needs_background": "light"
          }
        }
      ]
    },
    {
      "cell_type": "markdown",
      "metadata": {
        "id": "JiJzeUU7PU30"
      },
      "source": [
        "* Most Customers don't opt for online security and also they are mostly churn.\n",
        "* But large no of customers have online security and didn't churn."
      ]
    },
    {
      "cell_type": "code",
      "metadata": {
        "id": "PZlnsKgrPJBP",
        "outputId": "0e522083-8788-4224-8aa7-9406f039d7e4",
        "colab": {
          "base_uri": "https://localhost:8080/",
          "height": 297
        }
      },
      "source": [
        "sns.countplot(data=telecom_customer,x='Online Backup', hue='Churn Value')\n"
      ],
      "execution_count": 38,
      "outputs": [
        {
          "output_type": "execute_result",
          "data": {
            "text/plain": [
              "<matplotlib.axes._subplots.AxesSubplot at 0x7f53e5163750>"
            ]
          },
          "metadata": {
            "tags": []
          },
          "execution_count": 38
        },
        {
          "output_type": "display_data",
          "data": {
            "image/png": "[encoded data removed]",
            "text/plain": [
              "<Figure size 432x288 with 1 Axes>"
            ]
          },
          "metadata": {
            "tags": [],
            "needs_background": "light"
          }
        }
      ]
    },
    {
      "cell_type": "markdown",
      "metadata": {
        "id": "76ts5yf9QW-R"
      },
      "source": [
        "* Customers who didn't opt for online backup are mostly churn"
      ]
    },
    {
      "cell_type": "code",
      "metadata": {
        "id": "E6gz_N9mQWge",
        "outputId": "6bcaca41-2218-4eb1-a9cf-53ae8b6d2abf",
        "colab": {
          "base_uri": "https://localhost:8080/",
          "height": 297
        }
      },
      "source": [
        "sns.countplot(data=telecom_customer,x='Device Protection', hue='Churn Value')\n"
      ],
      "execution_count": 39,
      "outputs": [
        {
          "output_type": "execute_result",
          "data": {
            "text/plain": [
              "<matplotlib.axes._subplots.AxesSubplot at 0x7f53e51d7410>"
            ]
          },
          "metadata": {
            "tags": []
          },
          "execution_count": 39
        },
        {
          "output_type": "display_data",
          "data": {
            "image/png": "[encoded data removed]",
            "text/plain": [
              "<Figure size 432x288 with 1 Axes>"
            ]
          },
          "metadata": {
            "tags": [],
            "needs_background": "light"
          }
        }
      ]
    },
    {
      "cell_type": "markdown",
      "metadata": {
        "id": "N_HIJjDHRGcq"
      },
      "source": [
        "* Customers with device protection are less churn."
      ]
    },
    {
      "cell_type": "code",
      "metadata": {
        "id": "tL0yUd9PRUhJ",
        "outputId": "d30f2cf6-c45e-46ef-fb81-8e551a00e646",
        "colab": {
          "base_uri": "https://localhost:8080/",
          "height": 297
        }
      },
      "source": [
        "sns.countplot(data=telecom_customer,x='Tech Support', hue='Churn Value')\n"
      ],
      "execution_count": 40,
      "outputs": [
        {
          "output_type": "execute_result",
          "data": {
            "text/plain": [
              "<matplotlib.axes._subplots.AxesSubplot at 0x7f53e516cb50>"
            ]
          },
          "metadata": {
            "tags": []
          },
          "execution_count": 40
        },
        {
          "output_type": "display_data",
          "data": {
            "image/png": "[encoded data removed]",
            "text/plain": [
              "<Figure size 432x288 with 1 Axes>"
            ]
          },
          "metadata": {
            "tags": [],
            "needs_background": "light"
          }
        }
      ]
    },
    {
      "cell_type": "markdown",
      "metadata": {
        "id": "3kFgorkIRdzQ"
      },
      "source": [
        "* Most customers who opt for Tech Support are less churn"
      ]
    },
    {
      "cell_type": "code",
      "metadata": {
        "id": "1Kv3Xe3XRsfH",
        "outputId": "fb15a169-003f-4cd7-d604-ea6cf832485a",
        "colab": {
          "base_uri": "https://localhost:8080/",
          "height": 297
        }
      },
      "source": [
        "sns.countplot(data=telecom_customer,x='Streaming TV', hue='Churn Value')\n"
      ],
      "execution_count": 41,
      "outputs": [
        {
          "output_type": "execute_result",
          "data": {
            "text/plain": [
              "<matplotlib.axes._subplots.AxesSubplot at 0x7f53e5041650>"
            ]
          },
          "metadata": {
            "tags": []
          },
          "execution_count": 41
        },
        {
          "output_type": "display_data",
          "data": {
            "image/png": "[encoded data removed]",
            "text/plain": [
              "<Figure size 432x288 with 1 Axes>"
            ]
          },
          "metadata": {
            "tags": [],
            "needs_background": "light"
          }
        }
      ]
    },
    {
      "cell_type": "markdown",
      "metadata": {
        "id": "XjcnHHpKRzGo"
      },
      "source": [
        "* Customers whether opt for Streaming TV or not have no effect on churn."
      ]
    },
    {
      "cell_type": "code",
      "metadata": {
        "id": "oG1WvStqR_ER",
        "outputId": "daf00d0e-ebd2-4179-d1dc-47aac130f1aa",
        "colab": {
          "base_uri": "https://localhost:8080/",
          "height": 297
        }
      },
      "source": [
        "sns.countplot(data=telecom_customer,x='Streaming Movies', hue='Churn Value')"
      ],
      "execution_count": 42,
      "outputs": [
        {
          "output_type": "execute_result",
          "data": {
            "text/plain": [
              "<matplotlib.axes._subplots.AxesSubplot at 0x7f53e4fad850>"
            ]
          },
          "metadata": {
            "tags": []
          },
          "execution_count": 42
        },
        {
          "output_type": "display_data",
          "data": {
            "image/png": "[encoded data removed]",
            "text/plain": [
              "<Figure size 432x288 with 1 Axes>"
            ]
          },
          "metadata": {
            "tags": [],
            "needs_background": "light"
          }
        }
      ]
    },
    {
      "cell_type": "markdown",
      "metadata": {
        "id": "XEfNU2YFSMh6"
      },
      "source": [
        "* Customers whether opt for Streaming Movies or not have no effect on churn."
      ]
    },
    {
      "cell_type": "code",
      "metadata": {
        "id": "9Cs1TlsyS9wC",
        "outputId": "3718968d-b386-42f3-d237-7c19ff8441bd",
        "colab": {
          "base_uri": "https://localhost:8080/",
          "height": 297
        }
      },
      "source": [
        "sns.countplot(data=telecom_customer,x='Paperless Billing', hue='Churn Value')"
      ],
      "execution_count": 43,
      "outputs": [
        {
          "output_type": "execute_result",
          "data": {
            "text/plain": [
              "<matplotlib.axes._subplots.AxesSubplot at 0x7f53e4f2c710>"
            ]
          },
          "metadata": {
            "tags": []
          },
          "execution_count": 43
        },
        {
          "output_type": "display_data",
          "data": {
            "image/png": "[encoded data removed]",
            "text/plain": [
              "<Figure size 432x288 with 1 Axes>"
            ]
          },
          "metadata": {
            "tags": [],
            "needs_background": "light"
          }
        }
      ]
    },
    {
      "cell_type": "markdown",
      "metadata": {
        "id": "-pIM-whtTW2z"
      },
      "source": [
        "* Significant no of customers who didn't do paperless billing are less churn "
      ]
    },
    {
      "cell_type": "code",
      "metadata": {
        "colab": {
          "base_uri": "https://localhost:8080/",
          "height": 297
        },
        "id": "srbK-dZd7sSd",
        "outputId": "89572c25-1579-4833-f374-bf6b689559ed"
      },
      "source": [
        "sns.countplot(data=telecom_customer,x='Payment Method' , hue='Churn Value')\n"
      ],
      "execution_count": 44,
      "outputs": [
        {
          "output_type": "execute_result",
          "data": {
            "text/plain": [
              "<matplotlib.axes._subplots.AxesSubplot at 0x7f53e4f13950>"
            ]
          },
          "metadata": {
            "tags": []
          },
          "execution_count": 44
        },
        {
          "output_type": "display_data",
          "data": {
            "image/png": "[encoded data removed]",
            "text/plain": [
              "<Figure size 432x288 with 1 Axes>"
            ]
          },
          "metadata": {
            "tags": [],
            "needs_background": "light"
          }
        }
      ]
    },
    {
      "cell_type": "markdown",
      "metadata": {
        "id": "j4ZZQWtN8qDH"
      },
      "source": [
        "* Customer who pays with Electronic Check are mostly churn.\n",
        "* Company should not consider Electronic Check for payment to prevent churn."
      ]
    },
    {
      "cell_type": "code",
      "metadata": {
        "colab": {
          "base_uri": "https://localhost:8080/",
          "height": 297
        },
        "id": "lQA3kOLk7_VM",
        "outputId": "27209fc7-b2ee-4439-8f94-de143f071f47"
      },
      "source": [
        "sns.countplot(data=telecom_customer,x='Dependents', hue='Churn Value')\n"
      ],
      "execution_count": 45,
      "outputs": [
        {
          "output_type": "execute_result",
          "data": {
            "text/plain": [
              "<matplotlib.axes._subplots.AxesSubplot at 0x7f53e4e92710>"
            ]
          },
          "metadata": {
            "tags": []
          },
          "execution_count": 45
        },
        {
          "output_type": "display_data",
          "data": {
            "image/png": "[encoded data removed]",
            "text/plain": [
              "<Figure size 432x288 with 1 Axes>"
            ]
          },
          "metadata": {
            "tags": [],
            "needs_background": "light"
          }
        }
      ]
    },
    {
      "cell_type": "markdown",
      "metadata": {
        "id": "6nMBY5uy88Mr"
      },
      "source": [
        "* Customer with dependents are mostly not churn"
      ]
    },
    {
      "cell_type": "code",
      "metadata": {
        "id": "Y1HF2rpDU21U",
        "outputId": "e2347374-cd8c-47f3-d15d-c29d22abcd30",
        "colab": {
          "base_uri": "https://localhost:8080/",
          "height": 297
        }
      },
      "source": [
        "sns.countplot(data=telecom_customer,x='Gender', hue='Churn Value')\n"
      ],
      "execution_count": 46,
      "outputs": [
        {
          "output_type": "execute_result",
          "data": {
            "text/plain": [
              "<matplotlib.axes._subplots.AxesSubplot at 0x7f53e4e1da10>"
            ]
          },
          "metadata": {
            "tags": []
          },
          "execution_count": 46
        },
        {
          "output_type": "display_data",
          "data": {
            "image/png": "[encoded data removed]",
            "text/plain": [
              "<Figure size 432x288 with 1 Axes>"
            ]
          },
          "metadata": {
            "tags": [],
            "needs_background": "light"
          }
        }
      ]
    },
    {
      "cell_type": "markdown",
      "metadata": {
        "id": "w6Eca1b3VEKh"
      },
      "source": [
        "* Churn doesn't depend on Gender"
      ]
    },
    {
      "cell_type": "code",
      "metadata": {
        "id": "uGS7t2YYVSoB",
        "outputId": "505c8eda-140d-4345-deff-8fc0be1a4cc3",
        "colab": {
          "base_uri": "https://localhost:8080/",
          "height": 297
        }
      },
      "source": [
        "sns.countplot(data=telecom_customer,x='Senior Citizen', hue='Churn Value')\n"
      ],
      "execution_count": 47,
      "outputs": [
        {
          "output_type": "execute_result",
          "data": {
            "text/plain": [
              "<matplotlib.axes._subplots.AxesSubplot at 0x7f53e4d8ce90>"
            ]
          },
          "metadata": {
            "tags": []
          },
          "execution_count": 47
        },
        {
          "output_type": "display_data",
          "data": {
            "image/png": "[encoded data removed]",
            "text/plain": [
              "<Figure size 432x288 with 1 Axes>"
            ]
          },
          "metadata": {
            "tags": [],
            "needs_background": "light"
          }
        }
      ]
    },
    {
      "cell_type": "markdown",
      "metadata": {
        "id": "MXsOP92AVbvS"
      },
      "source": [
        "* Very less no of customers are senior citizens and they are mostly churn"
      ]
    },
    {
      "cell_type": "code",
      "metadata": {
        "colab": {
          "base_uri": "https://localhost:8080/",
          "height": 297
        },
        "id": "EbVCrTMv818_",
        "outputId": "d002f403-1b58-4fc4-9245-fe0c2087bb9f"
      },
      "source": [
        "sns.countplot(data=telecom_customer,x='Contract', hue='Churn Value')\n"
      ],
      "execution_count": 48,
      "outputs": [
        {
          "output_type": "execute_result",
          "data": {
            "text/plain": [
              "<matplotlib.axes._subplots.AxesSubplot at 0x7f53e4cf8710>"
            ]
          },
          "metadata": {
            "tags": []
          },
          "execution_count": 48
        },
        {
          "output_type": "display_data",
          "data": {
            "image/png": "[encoded data removed]",
            "text/plain": [
              "<Figure size 432x288 with 1 Axes>"
            ]
          },
          "metadata": {
            "tags": [],
            "needs_background": "light"
          }
        }
      ]
    },
    {
      "cell_type": "markdown",
      "metadata": {
        "id": "6r_2ifqQ9KLQ"
      },
      "source": [
        "* Customer prefer Month-to-Month contract but also they will mostly churn.\n",
        "* Company should encourage customers to opt for Two year Contract as it will provide less churn."
      ]
    },
    {
      "cell_type": "code",
      "metadata": {
        "colab": {
          "base_uri": "https://localhost:8080/",
          "height": 297
        },
        "id": "BsfBav4K5wzL",
        "outputId": "5af82dee-347f-4bca-becd-c05547f60286"
      },
      "source": [
        "sns.scatterplot(data=telecom_customer,y='Total Charges',x='Monthly Charges')"
      ],
      "execution_count": 49,
      "outputs": [
        {
          "output_type": "execute_result",
          "data": {
            "text/plain": [
              "<matplotlib.axes._subplots.AxesSubplot at 0x7f53e4c6c950>"
            ]
          },
          "metadata": {
            "tags": []
          },
          "execution_count": 49
        },
        {
          "output_type": "display_data",
          "data": {
            "image/png": "[encoded data removed]",
            "text/plain": [
              "<Figure size 432x288 with 1 Axes>"
            ]
          },
          "metadata": {
            "tags": [],
            "needs_background": "light"
          }
        }
      ]
    },
    {
      "cell_type": "markdown",
      "metadata": {
        "id": "u2EcR14w6jD6"
      },
      "source": [
        "* Total Charges Increases as Monthly Charges Increases"
      ]
    },
    {
      "cell_type": "code",
      "metadata": {
        "colab": {
          "base_uri": "https://localhost:8080/",
          "height": 849
        },
        "id": "n10znrRE_18B",
        "outputId": "2a218920-60fe-4b6d-efa3-764f6b40fc5e"
      },
      "source": [
        "f,axes = plt.subplots(6,2,figsize=(15,14)) \n",
        "sns.barplot(x='Contract', y='Monthly Charges', data=telecom_customer, hue='Churn Value',ax = axes[0,0])\n",
        "sns.barplot(x='Senior Citizen', y='Monthly Charges', data=telecom_customer, hue='Churn Value',ax = axes[0,1])\n",
        "sns.barplot(x='Dependents', y='Monthly Charges', data=telecom_customer, hue='Churn Value',ax = axes[1,0])\n",
        "sns.barplot(x='Partner', y='Monthly Charges', data=telecom_customer, hue='Churn Value',ax = axes[1,1])\n",
        "sns.barplot(x='Phone Service', y='Monthly Charges', data=telecom_customer, hue='Churn Value', ax = axes[2,0])\n",
        "sns.barplot(x='Internet Service', y='Monthly Charges', data=telecom_customer, hue='Churn Value', ax = axes[2,1])\n",
        "sns.barplot(x='Online Security', y='Monthly Charges', data=telecom_customer, hue='Churn Value', ax = axes[3,0])\n",
        "sns.barplot(x='Online Backup', y='Monthly Charges', data=telecom_customer, hue='Churn Value', ax = axes[3,1])\n",
        "sns.barplot(x='Device Protection', y='Monthly Charges', data=telecom_customer, hue='Churn Value', ax = axes[4,0])\n",
        "sns.barplot(x='Tech Support', y='Monthly Charges', data=telecom_customer, hue='Churn Value', ax = axes[4,1])\n",
        "sns.barplot(x='Payment Method', y='Monthly Charges', data=telecom_customer, hue='Churn Value', ax = axes[5,0])\n",
        "sns.barplot(x='Paperless Billing', y='Monthly Charges', data=telecom_customer, hue='Churn Value', ax = axes[5,1])\n",
        "plt.xticks(rotation=90)"
      ],
      "execution_count": 50,
      "outputs": [
        {
          "output_type": "execute_result",
          "data": {
            "text/plain": [
              "(array([0, 1]), <a list of 2 Text major ticklabel objects>)"
            ]
          },
          "metadata": {
            "tags": []
          },
          "execution_count": 50
        },
        {
          "output_type": "display_data",
          "data": {
            "image/png": "[encoded data removed]",
            "text/plain": [
              "<Figure size 1080x1008 with 12 Axes>"
            ]
          },
          "metadata": {
            "tags": [],
            "needs_background": "light"
          }
        }
      ]
    },
    {
      "cell_type": "markdown",
      "metadata": {
        "id": "owAC0LbC-pd2"
      },
      "source": [
        "* Customer not too much affected by other factors with monthly charges\n",
        "* More montly charges lead to higher churn rate."
      ]
    },
    {
      "cell_type": "code",
      "metadata": {
        "id": "UfzEST6HAZ33",
        "outputId": "5df4a058-9fa6-4626-b2d3-2617f0755a81",
        "colab": {
          "base_uri": "https://localhost:8080/",
          "height": 847
        }
      },
      "source": [
        "f,axes = plt.subplots(6,2,figsize=(15,14)) \n",
        "sns.barplot(x='Contract', y='Total Charges', data=telecom_customer, hue='Churn Value',ax = axes[0,0])\n",
        "sns.barplot(x='Senior Citizen', y='Total Charges', data=telecom_customer, hue='Churn Value',ax = axes[0,1])\n",
        "sns.barplot(x='Dependents', y='Total Charges', data=telecom_customer, hue='Churn Value',ax = axes[1,0])\n",
        "sns.barplot(x='Partner', y='Total Charges', data=telecom_customer, hue='Churn Value',ax = axes[1,1])\n",
        "sns.barplot(x='Phone Service', y='Total Charges', data=telecom_customer, hue='Churn Value', ax = axes[2,0])\n",
        "sns.barplot(x='Internet Service', y='Total Charges', data=telecom_customer, hue='Churn Value', ax = axes[2,1])\n",
        "sns.barplot(x='Online Security', y='Total Charges', data=telecom_customer, hue='Churn Value', ax = axes[3,0])\n",
        "sns.barplot(x='Online Backup', y='Total Charges', data=telecom_customer, hue='Churn Value', ax = axes[3,1])\n",
        "sns.barplot(x='Device Protection', y='Total Charges', data=telecom_customer, hue='Churn Value', ax = axes[4,0])\n",
        "sns.barplot(x='Tech Support', y='Total Charges', data=telecom_customer, hue='Churn Value', ax = axes[4,1])\n",
        "sns.barplot(x='Payment Method', y='Total Charges', data=telecom_customer, hue='Churn Value', ax = axes[5,0])\n",
        "sns.barplot(x='Paperless Billing', y='Total Charges', data=telecom_customer, hue='Churn Value', ax = axes[5,1])\n",
        "plt.xticks(rotation=90)"
      ],
      "execution_count": 51,
      "outputs": [
        {
          "output_type": "execute_result",
          "data": {
            "text/plain": [
              "(array([0, 1]), <a list of 2 Text major ticklabel objects>)"
            ]
          },
          "metadata": {
            "tags": []
          },
          "execution_count": 51
        },
        {
          "output_type": "display_data",
          "data": {
            "image/png": "[encoded data removed]",
            "text/plain": [
              "<Figure size 1080x1008 with 12 Axes>"
            ]
          },
          "metadata": {
            "tags": [],
            "needs_background": "light"
          }
        }
      ]
    },
    {
      "cell_type": "code",
      "metadata": {
        "id": "D5ICquPBaFyN",
        "outputId": "30ad5fa7-8a24-422b-865a-0b25e3a42788",
        "colab": {
          "base_uri": "https://localhost:8080/",
          "height": 847
        }
      },
      "source": [
        "f,axes = plt.subplots(6,2,figsize=(15,14)) \n",
        "sns.barplot(x='Contract', y='Tenure Months', data=telecom_customer, hue='Churn Value',ax = axes[0,0])\n",
        "sns.barplot(x='Senior Citizen', y='Tenure Months', data=telecom_customer, hue='Churn Value',ax = axes[0,1])\n",
        "sns.barplot(x='Dependents', y='Tenure Months', data=telecom_customer, hue='Churn Value',ax = axes[1,0])\n",
        "sns.barplot(x='Partner', y='Tenure Months', data=telecom_customer, hue='Churn Value',ax = axes[1,1])\n",
        "sns.barplot(x='Phone Service', y='Tenure Months', data=telecom_customer, hue='Churn Value', ax = axes[2,0])\n",
        "sns.barplot(x='Internet Service', y='Tenure Months', data=telecom_customer, hue='Churn Value', ax = axes[2,1])\n",
        "sns.barplot(x='Online Security', y='Tenure Months', data=telecom_customer, hue='Churn Value', ax = axes[3,0])\n",
        "sns.barplot(x='Online Backup', y='Tenure Months', data=telecom_customer, hue='Churn Value', ax = axes[3,1])\n",
        "sns.barplot(x='Device Protection', y='Tenure Months', data=telecom_customer, hue='Churn Value', ax = axes[4,0])\n",
        "sns.barplot(x='Tech Support', y='Tenure Months', data=telecom_customer, hue='Churn Value', ax = axes[4,1])\n",
        "sns.barplot(x='Payment Method', y='Tenure Months', data=telecom_customer, hue='Churn Value', ax = axes[5,0])\n",
        "sns.barplot(x='Paperless Billing', y='Tenure Months', data=telecom_customer, hue='Churn Value', ax = axes[5,1])\n",
        "plt.xticks(rotation=90)"
      ],
      "execution_count": 52,
      "outputs": [
        {
          "output_type": "execute_result",
          "data": {
            "text/plain": [
              "(array([0, 1]), <a list of 2 Text major ticklabel objects>)"
            ]
          },
          "metadata": {
            "tags": []
          },
          "execution_count": 52
        },
        {
          "output_type": "display_data",
          "data": {
            "image/png": "[encoded data removed]",
            "text/plain": [
              "<Figure size 1080x1008 with 12 Axes>"
            ]
          },
          "metadata": {
            "tags": [],
            "needs_background": "light"
          }
        }
      ]
    },
    {
      "cell_type": "code",
      "metadata": {
        "id": "MgEjSUyJa6hF"
      },
      "source": [
        ""
      ],
      "execution_count": 52,
      "outputs": []
    }
  ]
}