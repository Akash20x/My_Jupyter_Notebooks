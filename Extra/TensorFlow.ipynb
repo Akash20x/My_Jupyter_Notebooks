{
  "nbformat": 4,
  "nbformat_minor": 0,
  "metadata": {
    "colab": {
      "name": "TensorFlow.ipynb",
      "provenance": []
    },
    "kernelspec": {
      "name": "python3",
      "display_name": "Python 3"
    },
    "language_info": {
      "name": "python"
    },
    "accelerator": "GPU"
  },
  "cells": [
    {
      "cell_type": "markdown",
      "metadata": {
        "id": "US9d9mzOZeiA"
      },
      "source": [
        "## **Tensorflow** \n",
        "\n",
        "\n",
        "TensorFlow is open source artificial intelligence library, using data flow graphs to build models. It allows developers to develop and train ML models so that they can create large-scale neural networks with many layers. It is mainly used for Classification, Perception, Understanding, Discovering, Prediction and Creation of the models.\n",
        "\n",
        "More About: [TensorFlow Documnetation](https://github.com/anubhav201241/Tensorflow/blob/main/TensorFlow%20and%20its%20architecture/Tensorflow.md)\n",
        "\n",
        "### **Learning Objectives**\n",
        "This notebook is divided into following components:\n",
        "* Basics of Tensorflow\n",
        "* Neural Network using Tensorflow\n",
        "* Convolutional Neural Network using Tensorflow\n"
      ]
    },
    {
      "cell_type": "markdown",
      "metadata": {
        "id": "6qnW0VirayVN"
      },
      "source": [
        "# **Basics of Tensorflow**"
      ]
    },
    {
      "cell_type": "code",
      "metadata": {
        "id": "Tpjiot-1Zcvp"
      },
      "source": [
        "import tensorflow.compat.v1 as tf   #Importing Tensorflow  version v1 as tf"
      ],
      "execution_count": 1,
      "outputs": []
    },
    {
      "cell_type": "code",
      "metadata": {
        "colab": {
          "base_uri": "https://localhost:8080/"
        },
        "id": "wx80uOEKpUvF",
        "outputId": "191fbe6c-938f-45ce-d76f-603efa2edd0e"
      },
      "source": [
        "#Checking TensorFlow Version\n",
        "print(tf.__version__)"
      ],
      "execution_count": 2,
      "outputs": [
        {
          "output_type": "stream",
          "text": [
            "2.5.0\n"
          ],
          "name": "stdout"
        }
      ]
    },
    {
      "cell_type": "markdown",
      "metadata": {
        "id": "qLBw2K2TcOxQ"
      },
      "source": [
        "## **Tensorflow Constant**\n",
        "\n",
        "### Creating a Simple **\"Hello World\"** Program using Tensorflow\n",
        "For creating a Hello world Program we need to Create a Constant tensor. Then the constant is added as a node to the default graph. The value returned by the constructor represents the output of the constant tensor.\n"
      ]
    },
    {
      "cell_type": "code",
      "metadata": {
        "id": "gPIPAjVEcAqj",
        "colab": {
          "base_uri": "https://localhost:8080/"
        },
        "outputId": "08e00834-5b4c-4d6c-a28b-0a8d14a33151"
      },
      "source": [
        "# Create a TensorFlow object called tensor\n",
        "first_program = tf.constant('Hello World!')\n",
        "print(first_program)"
      ],
      "execution_count": 3,
      "outputs": [
        {
          "output_type": "stream",
          "text": [
            "tf.Tensor(b'Hello World!', shape=(), dtype=string)\n"
          ],
          "name": "stdout"
        }
      ]
    },
    {
      "cell_type": "markdown",
      "metadata": {
        "id": "sTsI93Col0cG"
      },
      "source": [
        "**Zero Dimensional Tensor(Scalar)**"
      ]
    },
    {
      "cell_type": "code",
      "metadata": {
        "id": "D88FAttZbpVJ",
        "colab": {
          "base_uri": "https://localhost:8080/"
        },
        "outputId": "d91610db-0c23-4d5b-ccad-def4283bd81a"
      },
      "source": [
        "# Create tensor with simple constant\n",
        "scalar = tf.constant(7)\n",
        "scalar"
      ],
      "execution_count": 4,
      "outputs": [
        {
          "output_type": "execute_result",
          "data": {
            "text/plain": [
              "<tf.Tensor: shape=(), dtype=int32, numpy=7>"
            ]
          },
          "metadata": {
            "tags": []
          },
          "execution_count": 4
        }
      ]
    },
    {
      "cell_type": "code",
      "metadata": {
        "id": "mkSJp2WAc0um",
        "colab": {
          "base_uri": "https://localhost:8080/"
        },
        "outputId": "8f21a786-805e-48f8-d56f-ca182f55af64"
      },
      "source": [
        "# Create constant with List\n",
        "list_tensor = tf.constant([1,2,3,4])\n",
        "list_tensor"
      ],
      "execution_count": 5,
      "outputs": [
        {
          "output_type": "execute_result",
          "data": {
            "text/plain": [
              "<tf.Tensor: shape=(4,), dtype=int32, numpy=array([1, 2, 3, 4], dtype=int32)>"
            ]
          },
          "metadata": {
            "tags": []
          },
          "execution_count": 5
        }
      ]
    },
    {
      "cell_type": "code",
      "metadata": {
        "id": "At2eRrqFd53u",
        "colab": {
          "base_uri": "https://localhost:8080/"
        },
        "outputId": "c2e1b2fe-59e5-4fc1-a3c1-3b7f0ca4379a"
      },
      "source": [
        "# Type of Constant\n",
        "type(list_tensor)"
      ],
      "execution_count": 6,
      "outputs": [
        {
          "output_type": "execute_result",
          "data": {
            "text/plain": [
              "tensorflow.python.framework.ops.EagerTensor"
            ]
          },
          "metadata": {
            "tags": []
          },
          "execution_count": 6
        }
      ]
    },
    {
      "cell_type": "code",
      "metadata": {
        "id": "lEpQnTC8eF2Q",
        "colab": {
          "base_uri": "https://localhost:8080/"
        },
        "outputId": "1231795e-c061-4956-bfe1-b647cf513ef1"
      },
      "source": [
        "# Shape of Constant\n",
        "list_tensor.shape"
      ],
      "execution_count": 7,
      "outputs": [
        {
          "output_type": "execute_result",
          "data": {
            "text/plain": [
              "TensorShape([4])"
            ]
          },
          "metadata": {
            "tags": []
          },
          "execution_count": 7
        }
      ]
    },
    {
      "cell_type": "code",
      "metadata": {
        "id": "DUCiZWyBeGbO",
        "colab": {
          "base_uri": "https://localhost:8080/"
        },
        "outputId": "bf0e1671-88f5-4b7b-849e-c5ab3e5ebe13"
      },
      "source": [
        "# Dtype of Constant\n",
        "list_tensor.dtype"
      ],
      "execution_count": 8,
      "outputs": [
        {
          "output_type": "execute_result",
          "data": {
            "text/plain": [
              "tf.int32"
            ]
          },
          "metadata": {
            "tags": []
          },
          "execution_count": 8
        }
      ]
    },
    {
      "cell_type": "code",
      "metadata": {
        "id": "lwJ4Kzd_jfI7",
        "colab": {
          "base_uri": "https://localhost:8080/"
        },
        "outputId": "0c57bb2f-2ce9-49ff-e0f6-bcd9ed6b3aaa"
      },
      "source": [
        "# Check the number of dimensions of a tensor \n",
        "list_tensor.ndim"
      ],
      "execution_count": 9,
      "outputs": [
        {
          "output_type": "execute_result",
          "data": {
            "text/plain": [
              "1"
            ]
          },
          "metadata": {
            "tags": []
          },
          "execution_count": 9
        }
      ]
    },
    {
      "cell_type": "code",
      "metadata": {
        "id": "Z1TkAev6eGdf",
        "colab": {
          "base_uri": "https://localhost:8080/"
        },
        "outputId": "b78e6b11-759f-4608-e096-82a8138c4e2d"
      },
      "source": [
        "# Access Constant Value\n",
        "list_tensor.numpy()"
      ],
      "execution_count": 10,
      "outputs": [
        {
          "output_type": "execute_result",
          "data": {
            "text/plain": [
              "array([1, 2, 3, 4], dtype=int32)"
            ]
          },
          "metadata": {
            "tags": []
          },
          "execution_count": 10
        }
      ]
    },
    {
      "cell_type": "markdown",
      "metadata": {
        "id": "9-CcP-KvmIe5"
      },
      "source": [
        "**1-Dimensional Tensor(Vector)**"
      ]
    },
    {
      "cell_type": "code",
      "metadata": {
        "id": "MbAge15okBZX",
        "colab": {
          "base_uri": "https://localhost:8080/"
        },
        "outputId": "ba2cc00a-7290-4800-e75e-dbc50532a574"
      },
      "source": [
        "# Create a vector\n",
        "vector = tf.constant([10,10])\n",
        "vector"
      ],
      "execution_count": 11,
      "outputs": [
        {
          "output_type": "execute_result",
          "data": {
            "text/plain": [
              "<tf.Tensor: shape=(2,), dtype=int32, numpy=array([10, 10], dtype=int32)>"
            ]
          },
          "metadata": {
            "tags": []
          },
          "execution_count": 11
        }
      ]
    },
    {
      "cell_type": "code",
      "metadata": {
        "id": "vj954Y-dk1fH",
        "colab": {
          "base_uri": "https://localhost:8080/"
        },
        "outputId": "236086b0-b953-4c2e-e00e-f2a4e0ac4bec"
      },
      "source": [
        "# Create a Simple Tensor(n dimensional array)\n",
        "tensor = tf.constant([[10,7],\n",
        "                      [7,10]])\n",
        "tensor"
      ],
      "execution_count": 12,
      "outputs": [
        {
          "output_type": "execute_result",
          "data": {
            "text/plain": [
              "<tf.Tensor: shape=(2, 2), dtype=int32, numpy=\n",
              "array([[10,  7],\n",
              "       [ 7, 10]], dtype=int32)>"
            ]
          },
          "metadata": {
            "tags": []
          },
          "execution_count": 12
        }
      ]
    },
    {
      "cell_type": "markdown",
      "metadata": {
        "id": "x6umbgnaee8y"
      },
      "source": [
        "## **Tensorflow Variable**"
      ]
    },
    {
      "cell_type": "code",
      "metadata": {
        "id": "auzhdhQQefTh",
        "colab": {
          "base_uri": "https://localhost:8080/"
        },
        "outputId": "68d2e7fd-ffd2-45cf-cd41-94f25c0b74e5"
      },
      "source": [
        "# Create Tensor Variable\n",
        "tf.Variable(1)"
      ],
      "execution_count": 13,
      "outputs": [
        {
          "output_type": "execute_result",
          "data": {
            "text/plain": [
              "<tf.Variable 'Variable:0' shape=() dtype=int32, numpy=1>"
            ]
          },
          "metadata": {
            "tags": []
          },
          "execution_count": 13
        }
      ]
    },
    {
      "cell_type": "code",
      "metadata": {
        "id": "iDsVof6Aefdr",
        "colab": {
          "base_uri": "https://localhost:8080/"
        },
        "outputId": "b93252cb-928b-4ac9-f31a-598cdad9fd9d"
      },
      "source": [
        "# Create Tensor Variable Using Array\n",
        "var = tf.Variable([1,2,3,4])\n",
        "var"
      ],
      "execution_count": 14,
      "outputs": [
        {
          "output_type": "execute_result",
          "data": {
            "text/plain": [
              "<tf.Variable 'Variable:0' shape=(4,) dtype=int32, numpy=array([1, 2, 3, 4], dtype=int32)>"
            ]
          },
          "metadata": {
            "tags": []
          },
          "execution_count": 14
        }
      ]
    },
    {
      "cell_type": "code",
      "metadata": {
        "id": "2DMr9bJZe4e1",
        "colab": {
          "base_uri": "https://localhost:8080/"
        },
        "outputId": "200ae54d-c596-4c77-e63f-d902274220af"
      },
      "source": [
        "# Acess Tensor Variable Value\n",
        "var.numpy()"
      ],
      "execution_count": 15,
      "outputs": [
        {
          "output_type": "execute_result",
          "data": {
            "text/plain": [
              "array([1, 2, 3, 4], dtype=int32)"
            ]
          },
          "metadata": {
            "tags": []
          },
          "execution_count": 15
        }
      ]
    },
    {
      "cell_type": "code",
      "metadata": {
        "id": "Tds_qAmde4hC",
        "colab": {
          "base_uri": "https://localhost:8080/"
        },
        "outputId": "be0fddb8-58c7-4b6e-800f-cf154e9fc4c8"
      },
      "source": [
        "# Create Tensor Variable using String\n",
        "tf_str = tf.Variable(['T','E','S','F'])\n",
        "tf_str"
      ],
      "execution_count": 16,
      "outputs": [
        {
          "output_type": "execute_result",
          "data": {
            "text/plain": [
              "<tf.Variable 'Variable:0' shape=(4,) dtype=string, numpy=array([b'T', b'E', b'S', b'F'], dtype=object)>"
            ]
          },
          "metadata": {
            "tags": []
          },
          "execution_count": 16
        }
      ]
    },
    {
      "cell_type": "markdown",
      "metadata": {
        "id": "PSJUdnuzf03x"
      },
      "source": [
        "**Create Tensor Variable From Constant**"
      ]
    },
    {
      "cell_type": "code",
      "metadata": {
        "id": "Nz3y1lWWe4lL",
        "colab": {
          "base_uri": "https://localhost:8080/"
        },
        "outputId": "cc4b4007-6f3c-4dda-c748-8e0f149a1adb"
      },
      "source": [
        "tf_const = tf.constant([1,2,3,4])\n",
        "tf_const"
      ],
      "execution_count": 17,
      "outputs": [
        {
          "output_type": "execute_result",
          "data": {
            "text/plain": [
              "<tf.Tensor: shape=(4,), dtype=int32, numpy=array([1, 2, 3, 4], dtype=int32)>"
            ]
          },
          "metadata": {
            "tags": []
          },
          "execution_count": 17
        }
      ]
    },
    {
      "cell_type": "code",
      "metadata": {
        "id": "skY_ZuZafzof",
        "colab": {
          "base_uri": "https://localhost:8080/"
        },
        "outputId": "dffa8aea-c22c-4f78-9208-16915caadfd6"
      },
      "source": [
        "tf.Variable(tf_const)"
      ],
      "execution_count": 18,
      "outputs": [
        {
          "output_type": "execute_result",
          "data": {
            "text/plain": [
              "<tf.Variable 'Variable:0' shape=(4,) dtype=int32, numpy=array([1, 2, 3, 4], dtype=int32)>"
            ]
          },
          "metadata": {
            "tags": []
          },
          "execution_count": 18
        }
      ]
    },
    {
      "cell_type": "markdown",
      "metadata": {
        "id": "CW33qqdjhDfx"
      },
      "source": [
        "**Create Tensor Variable With Different Shape**"
      ]
    },
    {
      "cell_type": "code",
      "metadata": {
        "id": "qcwu1FAefzqv",
        "colab": {
          "base_uri": "https://localhost:8080/"
        },
        "outputId": "5bd9d45f-2bd8-457b-b957-da6daa4f3e64"
      },
      "source": [
        "twoD_array = tf.Variable([[1,2],[3,4]], shape = (2,2), dtype=\"int32\")\n",
        "twoD_array"
      ],
      "execution_count": 19,
      "outputs": [
        {
          "output_type": "execute_result",
          "data": {
            "text/plain": [
              "<tf.Variable 'Variable:0' shape=(2, 2) dtype=int32, numpy=\n",
              "array([[1, 2],\n",
              "       [3, 4]], dtype=int32)>"
            ]
          },
          "metadata": {
            "tags": []
          },
          "execution_count": 19
        }
      ]
    },
    {
      "cell_type": "code",
      "metadata": {
        "id": "VaFFLHB6hKfo",
        "colab": {
          "base_uri": "https://localhost:8080/"
        },
        "outputId": "cfea05dd-894d-4d59-de52-99ad7d99a5b0"
      },
      "source": [
        "a = tf.Variable([1,2,3,4])\n",
        "tf.reshape(a, (2,2))"
      ],
      "execution_count": 20,
      "outputs": [
        {
          "output_type": "execute_result",
          "data": {
            "text/plain": [
              "<tf.Tensor: shape=(2, 2), dtype=int32, numpy=\n",
              "array([[1, 2],\n",
              "       [3, 4]], dtype=int32)>"
            ]
          },
          "metadata": {
            "tags": []
          },
          "execution_count": 20
        }
      ]
    },
    {
      "cell_type": "markdown",
      "metadata": {
        "id": "Uu2J8MGLhYa8"
      },
      "source": [
        "**Convert Variable or Constant into a Tensor**"
      ]
    },
    {
      "cell_type": "code",
      "metadata": {
        "id": "d-Y6CH6NhKiA"
      },
      "source": [
        "num = tf.Variable([1,2,3,4])"
      ],
      "execution_count": 21,
      "outputs": []
    },
    {
      "cell_type": "code",
      "metadata": {
        "id": "7yydnJf-hKmM",
        "colab": {
          "base_uri": "https://localhost:8080/"
        },
        "outputId": "eed74cda-c9ec-4fd3-c519-082e69de422f"
      },
      "source": [
        "tf.convert_to_tensor(num)"
      ],
      "execution_count": 22,
      "outputs": [
        {
          "output_type": "execute_result",
          "data": {
            "text/plain": [
              "<tf.Tensor: shape=(4,), dtype=int32, numpy=array([1, 2, 3, 4], dtype=int32)>"
            ]
          },
          "metadata": {
            "tags": []
          },
          "execution_count": 22
        }
      ]
    },
    {
      "cell_type": "markdown",
      "metadata": {
        "id": "wII6SXVfhzhU"
      },
      "source": [
        "**Change/Assign A New Value into a Tensor**"
      ]
    },
    {
      "cell_type": "code",
      "metadata": {
        "id": "32pnhOHMhyNw",
        "colab": {
          "base_uri": "https://localhost:8080/"
        },
        "outputId": "ac620e47-4bda-4b52-ecce-8b5c7a263d5c"
      },
      "source": [
        "# Type & Shape Will Never Change. So, We Can Only Replace The Given Values\n",
        "num.assign([4,3,2,1])"
      ],
      "execution_count": 23,
      "outputs": [
        {
          "output_type": "execute_result",
          "data": {
            "text/plain": [
              "<tf.Variable 'UnreadVariable' shape=(4,) dtype=int32, numpy=array([4, 3, 2, 1], dtype=int32)>"
            ]
          },
          "metadata": {
            "tags": []
          },
          "execution_count": 23
        }
      ]
    },
    {
      "cell_type": "markdown",
      "metadata": {
        "id": "oGnn3D6fh5wb"
      },
      "source": [
        "**Assign a Variable With Another Memory**"
      ]
    },
    {
      "cell_type": "code",
      "metadata": {
        "id": "XbZxKKPshyja",
        "colab": {
          "base_uri": "https://localhost:8080/"
        },
        "outputId": "562845b7-2f45-4ed3-eff2-56915f49aa6a"
      },
      "source": [
        "num.assign_add([4,3,2,1])"
      ],
      "execution_count": 24,
      "outputs": [
        {
          "output_type": "execute_result",
          "data": {
            "text/plain": [
              "<tf.Variable 'UnreadVariable' shape=(4,) dtype=int32, numpy=array([8, 6, 4, 2], dtype=int32)>"
            ]
          },
          "metadata": {
            "tags": []
          },
          "execution_count": 24
        }
      ]
    },
    {
      "cell_type": "markdown",
      "metadata": {
        "id": "NZy3MR8Viwil"
      },
      "source": [
        "## **Tensorflow Graph & Placeholder**"
      ]
    },
    {
      "cell_type": "markdown",
      "metadata": {
        "id": "z4OHAIPje6tJ"
      },
      "source": [
        "Starting the **tf session**(It initiates a TensorFlow Graph object in which tensors are processed through operations) and running the graph. \n",
        "A session encapsulates the control and state of the TensorFlow runtime."
      ]
    },
    {
      "cell_type": "code",
      "metadata": {
        "colab": {
          "base_uri": "https://localhost:8080/"
        },
        "id": "vLIcctIQeeRo",
        "outputId": "276daea9-a0b9-4a7d-a139-74601b0da260"
      },
      "source": [
        "tf.compat.v1.disable_eager_execution() #If getting any error regarding tf.Session(). Then This function is used and also can use for  Graphs, Oifps, or Tensors that have been created.\n",
        "\n",
        "with tf.compat.v1.Session() as sess:\n",
        "    # Run the tf.constant operation in the session\n",
        "    first_program = tf.constant('Hello World!')\n",
        "    output = sess.run(first_program)\n",
        "    print(output)"
      ],
      "execution_count": 25,
      "outputs": [
        {
          "output_type": "stream",
          "text": [
            "b'Hello World!'\n"
          ],
          "name": "stdout"
        }
      ]
    },
    {
      "cell_type": "markdown",
      "metadata": {
        "id": "bQRAlY7hpyj1"
      },
      "source": [
        "Yes!! Finally we Printed our First Tensorflow Program \"Hello World\".\n",
        "But not that what we expected :(\n",
        "Notice that printing the node does not output the value \"Hello World\" as you might expect.\n",
        "\n",
        "**Graph** is not especially interesting because it always produces a constant result. A graph can be parameterized to accept external inputs, known as **Placeholders**. A **Placeholder** is a promise to provide a value later.\n",
        "\n",
        "We can print \"Hello World\" as we expected with the use of the Placeholder \n",
        "\n",
        "We can evaluate this graph with placeholders by using the feed_dict parameter to specify Tensors that provide concrete values to these placeholders:"
      ]
    },
    {
      "cell_type": "code",
      "metadata": {
        "colab": {
          "base_uri": "https://localhost:8080/"
        },
        "id": "HJWKkHVarkX7",
        "outputId": "4492ef8e-b098-4cb0-e032-6bb3c0e565a3"
      },
      "source": [
        "x = tf.placeholder(tf.string)\n",
        "feed_dict = {x: 'Hello World'}  \n",
        "with tf.compat.v1.Session() as sess:\n",
        "    output = sess.run(x, feed_dict)\n",
        "    print(output)"
      ],
      "execution_count": 26,
      "outputs": [
        {
          "output_type": "stream",
          "text": [
            "Hello World\n"
          ],
          "name": "stdout"
        }
      ]
    },
    {
      "cell_type": "markdown",
      "metadata": {
        "id": "kuw2fD9mtRvd"
      },
      "source": [
        "## **Adding Numbers**\n",
        "Let's add two number and print their outpurt using tensorflow"
      ]
    },
    {
      "cell_type": "code",
      "metadata": {
        "colab": {
          "base_uri": "https://localhost:8080/"
        },
        "id": "JQmDqe_lsWMN",
        "outputId": "8975e8b7-0a73-4fb4-dca9-49a1d6d33a04"
      },
      "source": [
        "num1 = tf.constant(65)\n",
        "num2 = tf.constant(80)\n",
        "sum = num1 + num2\n",
        "with tf.compat.v1.Session() as sess:\n",
        "    sum = sess.run(sum)\n",
        "    print(sum)"
      ],
      "execution_count": 27,
      "outputs": [
        {
          "output_type": "stream",
          "text": [
            "145\n"
          ],
          "name": "stdout"
        }
      ]
    },
    {
      "cell_type": "markdown",
      "metadata": {
        "id": "9ZtVxt1UubV7"
      },
      "source": [
        "## **Multiplying the List** \n",
        "Let's Multiply the list also using tensorflow  "
      ]
    },
    {
      "cell_type": "code",
      "metadata": {
        "colab": {
          "base_uri": "https://localhost:8080/"
        },
        "id": "F_J8_IHVuMn1",
        "outputId": "468d169f-ceb1-4c4f-f546-dbc0b19779fc"
      },
      "source": [
        "c = tf.constant([[4, 9, 8], [7, 5, 3]])\n",
        "prod = num1*num2\n",
        "with tf.compat.v1.Session() as sess:\n",
        "    product = sess.run(prod)\n",
        "    print(product)"
      ],
      "execution_count": 28,
      "outputs": [
        {
          "output_type": "stream",
          "text": [
            "5200\n"
          ],
          "name": "stdout"
        }
      ]
    },
    {
      "cell_type": "code",
      "metadata": {
        "colab": {
          "base_uri": "https://localhost:8080/"
        },
        "id": "aEKb4iGYuuv2",
        "outputId": "aaf7aed5-10f6-41ea-fe1a-d2f4dbd377fa"
      },
      "source": [
        "c = tf.constant([[4, 9, 8], [7, 5, 3]])\n",
        "with tf.compat.v1.Session() as sess:\n",
        "    product = sess.run(num1*c)\n",
        "    print(product)\n"
      ],
      "execution_count": 29,
      "outputs": [
        {
          "output_type": "stream",
          "text": [
            "[[260 585 520]\n",
            " [455 325 195]]\n"
          ],
          "name": "stdout"
        }
      ]
    },
    {
      "cell_type": "markdown",
      "metadata": {
        "id": "pQ_MCupcoag8"
      },
      "source": [
        "# **Neural Network Using Tensorflow**\n",
        "\n",
        "### **Aim**:\n",
        "In this section we shall cover the basics of creating a Neural network using the TensorFlow library, training it over a dataset and visualizing it's performance. \n",
        "\n",
        "### **Learning Objectives**:\n",
        "1. Learn how to create a Neural Network using TensorFlow and understand it's structure.\n",
        "2. Understand the different layers of the model.\n",
        "3. Learn how to train the model and predict outputs.\n",
        "4. Learn how to visualize the performance of the model."
      ]
    },
    {
      "cell_type": "markdown",
      "metadata": {
        "id": "JG3v5CvSqqP-"
      },
      "source": [
        "**Importing the required libraries**  \n",
        "The first step is to import the libraries that we will be using."
      ]
    },
    {
      "cell_type": "code",
      "metadata": {
        "id": "Q-Ax6Y33oZlr"
      },
      "source": [
        "import tensorflow as tf\n",
        "import matplotlib.pyplot as plt\n",
        "import numpy as np"
      ],
      "execution_count": 30,
      "outputs": []
    },
    {
      "cell_type": "markdown",
      "metadata": {
        "id": "Jy36e6foq5A1"
      },
      "source": [
        "**Getting the dataset**  \n",
        "In order to train the NN and evaluate it's performance we need a dataset. For this we shall use one of the datasets provided by TensorFlow - [the MNIST dataset](http://yann.lecun.com/exdb/mnist/). The dataset contains 28x28 grayscale images of the digits 0-9 and the labels are the digits themselves. It is split into 4 parts:- training images, training labels, test images and test labels. The training images and labels have 60000 entries while the test images and labels have 10000 entries."
      ]
    },
    {
      "cell_type": "code",
      "metadata": {
        "id": "6bR7RVq9q1EH"
      },
      "source": [
        "(training_images, training_labels),(test_images, test_labels) = tf.keras.datasets.mnist.load_data()"
      ],
      "execution_count": 31,
      "outputs": []
    },
    {
      "cell_type": "code",
      "metadata": {
        "id": "MiVFXaivq77p",
        "colab": {
          "base_uri": "https://localhost:8080/"
        },
        "outputId": "4e6f4f7c-de6b-4937-bb44-fa20cc1421d1"
      },
      "source": [
        "print('Training data shape: ',training_images.shape)\n",
        "print('Training labels shape: ',training_labels.shape)\n",
        "print('Test data shape: ',test_images.shape)\n",
        "print('Test labels shape: ',test_labels.shape)"
      ],
      "execution_count": 32,
      "outputs": [
        {
          "output_type": "stream",
          "text": [
            "Training data shape:  (60000, 28, 28)\n",
            "Training labels shape:  (60000,)\n",
            "Test data shape:  (10000, 28, 28)\n",
            "Test labels shape:  (10000,)\n"
          ],
          "name": "stdout"
        }
      ]
    },
    {
      "cell_type": "code",
      "metadata": {
        "id": "Q3KQPA3ZrABY",
        "colab": {
          "base_uri": "https://localhost:8080/",
          "height": 332
        },
        "outputId": "435296d3-58f8-4a87-c679-e9dd3a28ebeb"
      },
      "source": [
        "print('Sample data:- \\n Label:{0} \\n Image:'.format(training_labels[0]))\n",
        "plt.imshow(training_images[0], cmap='gray')"
      ],
      "execution_count": 33,
      "outputs": [
        {
          "output_type": "stream",
          "text": [
            "Sample data:- \n",
            " Label:5 \n",
            " Image:\n"
          ],
          "name": "stdout"
        },
        {
          "output_type": "execute_result",
          "data": {
            "text/plain": [
              "<matplotlib.image.AxesImage at 0x7f93400e4350>"
            ]
          },
          "metadata": {
            "tags": []
          },
          "execution_count": 33
        },
        {
          "output_type": "display_data",
          "data": {
            "image/png": "[encoded data removed]",
            "text/plain": [
              "<Figure size 432x288 with 1 Axes>"
            ]
          },
          "metadata": {
            "tags": [],
            "needs_background": "light"
          }
        }
      ]
    },
    {
      "cell_type": "markdown",
      "metadata": {
        "id": "FSPVF5qmrJ91"
      },
      "source": [
        "### Building the Neural Network:\n",
        "The structure of the Neural Network is built using the [Keras](https://www.tensorflow.org/api_docs/python/tf/keras) module of TensorFlow. A basic NN is a sequence of different layers, starting from the input layer to the output layer with hidden layers in between.  \n",
        "    \n",
        "To define a sequential model we create an object of the [Sequential class](https://www.tensorflow.org/api_docs/python/tf/keras/Sequential) in Keras."
      ]
    },
    {
      "cell_type": "code",
      "metadata": {
        "id": "Dm021wCNrDnu"
      },
      "source": [
        "model = tf.keras.Sequential()"
      ],
      "execution_count": 34,
      "outputs": []
    },
    {
      "cell_type": "code",
      "metadata": {
        "id": "GiTCWRuNrTIo"
      },
      "source": [
        "model.add(tf.keras.layers.Flatten(input_shape=(28,28)))\n",
        "model.add(tf.keras.layers.Dense(128, activation=\"relu\"))\n",
        "model.add(tf.keras.layers.Dense(10, activation=\"softmax\"))"
      ],
      "execution_count": 35,
      "outputs": []
    },
    {
      "cell_type": "markdown",
      "metadata": {
        "id": "5Dw5trk6s_-J"
      },
      "source": [
        "Here we have added three layers:\n",
        "1. An input Flatten layer that takes inputs of the shape 28x28.\n",
        "2. A Dense hidden layer with 128 neurons and the ReLU activation function.\n",
        "3. An output layer with 10 neurons, which has to be the same as the number of classes in the training data. The activation function is SoftMax. \n",
        "  \n",
        "\n",
        "The activation functions are used to introduce non-linearity to the model. The SoftMax output layer will give the output in terms of the probability of each class. So the output will have 10 values adding up to 1."
      ]
    },
    {
      "cell_type": "markdown",
      "metadata": {
        "id": "cutBpnyrtM7H"
      },
      "source": [
        "A more compact way of creating the same model is to define the layers while creating the Sequential object."
      ]
    },
    {
      "cell_type": "code",
      "metadata": {
        "id": "_IHJdZWYrWki"
      },
      "source": [
        "model = tf.keras.Sequential([\n",
        "    tf.keras.layers.Flatten(input_shape=(28,28)),\n",
        "    tf.keras.layers.Dense(128, activation=\"relu\"),\n",
        "    tf.keras.layers.Dense(10, activation=\"softmax\")    \n",
        "])"
      ],
      "execution_count": 36,
      "outputs": []
    },
    {
      "cell_type": "markdown",
      "metadata": {
        "id": "ZKookxoFtVrR"
      },
      "source": [
        "Now that the model architecture has been defined the next step is to compile the model. This is done by using the compile() function. While building the model we have to specify the optimizer we want to use for the model as well as the loss function and any metrics we plan to use for evaluation."
      ]
    },
    {
      "cell_type": "code",
      "metadata": {
        "id": "Z8Utqu9ytRHy"
      },
      "source": [
        "model.compile(\n",
        "    optimizer='adam', \n",
        "    loss = 'sparse_categorical_crossentropy', \n",
        "    metrics=['accuracy']\n",
        ")"
      ],
      "execution_count": 37,
      "outputs": []
    },
    {
      "cell_type": "markdown",
      "metadata": {
        "id": "yvFYr9pYtdtt"
      },
      "source": [
        "Here we have compiled the model using the Adam algorithm for optimiztion and Sparse Categorical Crossentropy as the loss function. We have also given the metric as accuracy. We can get the summary of the model using the summary() function."
      ]
    },
    {
      "cell_type": "code",
      "metadata": {
        "id": "VYDxGLrOtaKT",
        "colab": {
          "base_uri": "https://localhost:8080/"
        },
        "outputId": "f3335d3a-6aae-4f1a-bebc-f5e00a5329de"
      },
      "source": [
        "model.summary()"
      ],
      "execution_count": 38,
      "outputs": [
        {
          "output_type": "stream",
          "text": [
            "Model: \"sequential_1\"\n",
            "_________________________________________________________________\n",
            "Layer (type)                 Output Shape              Param #   \n",
            "=================================================================\n",
            "flatten_1 (Flatten)          (None, 784)               0         \n",
            "_________________________________________________________________\n",
            "dense_2 (Dense)              (None, 128)               100480    \n",
            "_________________________________________________________________\n",
            "dense_3 (Dense)              (None, 10)                1290      \n",
            "=================================================================\n",
            "Total params: 101,770\n",
            "Trainable params: 101,770\n",
            "Non-trainable params: 0\n",
            "_________________________________________________________________\n"
          ],
          "name": "stdout"
        }
      ]
    },
    {
      "cell_type": "markdown",
      "metadata": {
        "id": "kgJ2XaRHtlmG"
      },
      "source": [
        "### Training the Model\n",
        "After this the model has to be trained, but before giving the data to the model we will normalise the image data. The pixel values in the grayscale images vary from 0 to 255, but it has been shown that the model works better when the input values range from 0 to 1. Hence wee will divide the input training and test image values by 255. "
      ]
    },
    {
      "cell_type": "code",
      "metadata": {
        "id": "IlKhiZ2GtgiU"
      },
      "source": [
        "training_images = training_images/255.0\n",
        "test_images = test_images/255.0"
      ],
      "execution_count": 39,
      "outputs": []
    },
    {
      "cell_type": "markdown",
      "metadata": {
        "id": "y58qNhuatuKV"
      },
      "source": [
        "To train the model the fit() function is used. In this function we pass the training images and labels to the model. We also have to specify the number of epochs(iterations) for which we want to train the model. The fit() function returns the logs which has the values of loss and accuracy for each epoch."
      ]
    },
    {
      "cell_type": "code",
      "metadata": {
        "id": "qBmfFG5jtrTO",
        "colab": {
          "base_uri": "https://localhost:8080/"
        },
        "outputId": "5b021df2-07bb-40d1-ae03-dec41c99e485"
      },
      "source": [
        "log_file = model.fit(training_images, training_labels,epochs=10)"
      ],
      "execution_count": 40,
      "outputs": [
        {
          "output_type": "stream",
          "text": [
            "Train on 60000 samples\n",
            "Epoch 1/10\n",
            "60000/60000 [==============================] - 4s 60us/sample - loss: 0.2605 - accuracy: 0.9268\n",
            "Epoch 2/10\n",
            "60000/60000 [==============================] - 3s 49us/sample - loss: 0.1125 - accuracy: 0.9673\n",
            "Epoch 3/10\n",
            "60000/60000 [==============================] - 3s 50us/sample - loss: 0.0774 - accuracy: 0.9773\n",
            "Epoch 4/10\n",
            "60000/60000 [==============================] - 3s 52us/sample - loss: 0.0594 - accuracy: 0.9814\n",
            "Epoch 5/10\n",
            "60000/60000 [==============================] - 3s 50us/sample - loss: 0.0452 - accuracy: 0.9854\n",
            "Epoch 6/10\n",
            "60000/60000 [==============================] - 3s 54us/sample - loss: 0.0352 - accuracy: 0.9894\n",
            "Epoch 7/10\n",
            "60000/60000 [==============================] - 3s 54us/sample - loss: 0.0280 - accuracy: 0.9914\n",
            "Epoch 8/10\n",
            "60000/60000 [==============================] - 3s 54us/sample - loss: 0.0222 - accuracy: 0.9929\n",
            "Epoch 9/10\n",
            "60000/60000 [==============================] - 3s 55us/sample - loss: 0.0193 - accuracy: 0.9940\n",
            "Epoch 10/10\n",
            "60000/60000 [==============================] - 3s 55us/sample - loss: 0.0162 - accuracy: 0.9950\n"
          ],
          "name": "stdout"
        }
      ]
    },
    {
      "cell_type": "markdown",
      "metadata": {
        "id": "d8LZFcFgt2hn"
      },
      "source": [
        "We can visualize the training loss and accuracy by accessing the data in the logs. "
      ]
    },
    {
      "cell_type": "code",
      "metadata": {
        "id": "804YYrOFtx7P",
        "colab": {
          "base_uri": "https://localhost:8080/",
          "height": 295
        },
        "outputId": "069af2f4-277e-4d87-f951-68f890bf72a7"
      },
      "source": [
        "plt.plot(log_file.history['accuracy'], '-bo', label='Train Accuracy')\n",
        "plt.plot(log_file.history['loss'], '-r*', label='Training Loss')\n",
        "plt.title('Training Loss and Accuracy')\n",
        "plt.ylabel('Loss/Accuracy')\n",
        "plt.xlabel('Epoch #')\n",
        "plt.legend(loc='center right')\n",
        "plt.show()"
      ],
      "execution_count": 41,
      "outputs": [
        {
          "output_type": "display_data",
          "data": {
            "image/png": "[encoded data removed]",
            "text/plain": [
              "<Figure size 432x288 with 1 Axes>"
            ]
          },
          "metadata": {
            "tags": [],
            "needs_background": "light"
          }
        }
      ]
    },
    {
      "cell_type": "markdown",
      "metadata": {
        "id": "pu-EYusIt-r7"
      },
      "source": [
        "### Evaluating the model:\n",
        "We can test the performance of the model by using the test data. For this we use the evaluate function which returns the loss along with the metrics we have specified during the compilation, which in this case is the accuracy. "
      ]
    },
    {
      "cell_type": "code",
      "metadata": {
        "id": "sXOpYRMat6VY",
        "colab": {
          "base_uri": "https://localhost:8080/"
        },
        "outputId": "79df69d1-a9fc-4335-9ea2-188b574d6dbe"
      },
      "source": [
        "test_loss, test_acc = model.evaluate(test_images,test_labels)\n",
        "print('Test Accuracy: ',test_acc)"
      ],
      "execution_count": 42,
      "outputs": [
        {
          "output_type": "stream",
          "text": [
            "/usr/local/lib/python3.7/dist-packages/tensorflow/python/keras/engine/training.py:2426: UserWarning: `Model.state_updates` will be removed in a future version. This property should not be used in TensorFlow 2.0, as `updates` are applied automatically.\n",
            "  warnings.warn('`Model.state_updates` will be removed in a future version. '\n"
          ],
          "name": "stderr"
        },
        {
          "output_type": "stream",
          "text": [
            "Test Accuracy:  0.9806\n"
          ],
          "name": "stdout"
        }
      ]
    },
    {
      "cell_type": "markdown",
      "metadata": {
        "id": "OBHlE510uEWP"
      },
      "source": [
        "To make predictions using the model we can use the predict() function. The predictions will be in the form of probabilities as the output layer was a SoftMax layer. We use the argmax() function of numpy to get the class label with maximum probability. "
      ]
    },
    {
      "cell_type": "code",
      "metadata": {
        "id": "qbUCzLu4uBM2",
        "colab": {
          "base_uri": "https://localhost:8080/"
        },
        "outputId": "5e89539a-5cec-4884-cb5e-fa405328cca8"
      },
      "source": [
        "#Get the sample output- predicted and actual, for any specified index of the test set \n",
        "test_index = 0\n",
        "print(\"For test index:- \",test_index)\n",
        "pred_0 = model.predict(tf.expand_dims(test_images[test_index],axis=0),steps=1)\n",
        "pred_class = np.argmax(pred_0)\n",
        "true_class = test_labels[test_index]\n",
        "print(' Predicted class: ',pred_class)\n",
        "print(' True class: ',true_class)"
      ],
      "execution_count": 43,
      "outputs": [
        {
          "output_type": "stream",
          "text": [
            "For test index:-  0\n",
            " Predicted class:  7\n",
            " True class:  7\n"
          ],
          "name": "stdout"
        },
        {
          "output_type": "stream",
          "text": [
            "/usr/local/lib/python3.7/dist-packages/tensorflow/python/keras/engine/training.py:2426: UserWarning: `Model.state_updates` will be removed in a future version. This property should not be used in TensorFlow 2.0, as `updates` are applied automatically.\n",
            "  warnings.warn('`Model.state_updates` will be removed in a future version. '\n"
          ],
          "name": "stderr"
        }
      ]
    },
    {
      "cell_type": "markdown",
      "metadata": {
        "id": "8Yo8QdvCuO0D"
      },
      "source": [
        "### Saving and Loading the model\n",
        "Once we have trained and tested the model we have to save the model weights so that we can directly load the trained model when we require it. For this we use the save() function in which we specify the directory to which the file will be saved. In this example we will save the model in Keras HDF5 format. "
      ]
    },
    {
      "cell_type": "code",
      "metadata": {
        "id": "TnxY4FkHuPLp"
      },
      "source": [
        "model.save('model/MNIST_NNmodel.h5')"
      ],
      "execution_count": 44,
      "outputs": []
    },
    {
      "cell_type": "markdown",
      "metadata": {
        "id": "LuhPYy9IuY5m"
      },
      "source": [
        "To load the model we use the [load_model() function](https://www.tensorflow.org/api_docs/python/tf/keras/models/load_model) of the [models module](https://www.tensorflow.org/api_docs/python/tf/keras/models) of Keras. We have to pass the filepath of the saved model to load_model() function."
      ]
    },
    {
      "cell_type": "code",
      "metadata": {
        "id": "QI7VlEEquXyj"
      },
      "source": [
        "model_loaded = tf.keras.models.load_model('model/MNIST_NNmodel.h5')"
      ],
      "execution_count": 45,
      "outputs": []
    },
    {
      "cell_type": "code",
      "metadata": {
        "id": "_Y_Lh_RmuX0t",
        "colab": {
          "base_uri": "https://localhost:8080/"
        },
        "outputId": "7b2f4f0c-7944-4fbf-a580-de6e42345ac2"
      },
      "source": [
        "model_loaded"
      ],
      "execution_count": 46,
      "outputs": [
        {
          "output_type": "execute_result",
          "data": {
            "text/plain": [
              "<tensorflow.python.keras.engine.sequential.Sequential at 0x7f92f867ed90>"
            ]
          },
          "metadata": {
            "tags": []
          },
          "execution_count": 46
        }
      ]
    },
    {
      "cell_type": "markdown",
      "metadata": {
        "id": "4HJ5aBM9xaZd"
      },
      "source": [
        "# **Convolutional Neural Network (CNN) Using Tensorflow**\n",
        "\n",
        "### **Goal**\n",
        "In this section, we're going to create Convolution Neural Networks with the help of tensorflow Library. we will build and train a CNN from scratch. In this notebook we are use tensorflow library. so lets begin the journey of CNN. \n",
        "\n",
        "### **Learning Objectives**\n",
        "1.   create CNN network from scratch.\n",
        "2.   understanding what is convolution.\n",
        "3.   Train your model and visualize the prediction."
      ]
    },
    {
      "cell_type": "markdown",
      "metadata": {
        "id": "oNoL2Z8gxwHV"
      },
      "source": [
        "**Importing the required libraries**  \n",
        "The first step is to import the libraries that we will be using."
      ]
    },
    {
      "cell_type": "code",
      "metadata": {
        "colab": {
          "base_uri": "https://localhost:8080/"
        },
        "id": "EyWypAGS6p7q",
        "outputId": "305a017e-0b49-4396-e294-6bc0e19957ad"
      },
      "source": [
        "!pip install -U numpy==1.19.5"
      ],
      "execution_count": 47,
      "outputs": [
        {
          "output_type": "stream",
          "text": [
            "Requirement already satisfied: numpy==1.19.5 in /usr/local/lib/python3.7/dist-packages (1.19.5)\n"
          ],
          "name": "stdout"
        }
      ]
    },
    {
      "cell_type": "code",
      "metadata": {
        "id": "SGHbJs1zuIDM"
      },
      "source": [
        "import seaborn as sns\n",
        "import tensorflow as tf\n",
        "import numpy as np\n",
        "import matplotlib.pyplot as plt\n",
        "%matplotlib inline\n",
        "import time"
      ],
      "execution_count": 48,
      "outputs": []
    },
    {
      "cell_type": "markdown",
      "metadata": {
        "id": "1EbC7CpXx3iE"
      },
      "source": [
        "![dataset image](https://miro.medium.com/max/700/1*LyRlX__08q40UJohhJG9Ow.png)"
      ]
    },
    {
      "cell_type": "code",
      "metadata": {
        "id": "vB0hOFG1xzDO"
      },
      "source": [
        "# loading dataset\n",
        "(x_train, y_train), (x_test, y_test) = tf.keras.datasets.mnist.load_data()"
      ],
      "execution_count": 49,
      "outputs": []
    },
    {
      "cell_type": "code",
      "metadata": {
        "id": "wd8ECmb_x-mh"
      },
      "source": [
        "batch_size = 128  # batch size for train\n",
        "no_classes = 10 # class 0-9\n",
        "epochs = 3\n",
        "image_height, image_width = 28, 28"
      ],
      "execution_count": 50,
      "outputs": []
    },
    {
      "cell_type": "markdown",
      "metadata": {
        "id": "oM9nDGQ2yE5I"
      },
      "source": [
        "## **Visualizing the dataset**"
      ]
    },
    {
      "cell_type": "code",
      "metadata": {
        "id": "LQLWJqbfyAeJ",
        "colab": {
          "base_uri": "https://localhost:8080/",
          "height": 338
        },
        "outputId": "ad2db44a-ac64-4679-9bf4-2fe21941f325"
      },
      "source": [
        "sns.countplot(y_train)"
      ],
      "execution_count": 51,
      "outputs": [
        {
          "output_type": "stream",
          "text": [
            "/usr/local/lib/python3.7/dist-packages/seaborn/_decorators.py:43: FutureWarning: Pass the following variable as a keyword arg: x. From version 0.12, the only valid positional argument will be `data`, and passing other arguments without an explicit keyword will result in an error or misinterpretation.\n",
            "  FutureWarning\n"
          ],
          "name": "stderr"
        },
        {
          "output_type": "execute_result",
          "data": {
            "text/plain": [
              "<matplotlib.axes._subplots.AxesSubplot at 0x7f92e55cb850>"
            ]
          },
          "metadata": {
            "tags": []
          },
          "execution_count": 51
        },
        {
          "output_type": "display_data",
          "data": {
            "image/png": "[encoded data removed]",
            "text/plain": [
              "<Figure size 432x288 with 1 Axes>"
            ]
          },
          "metadata": {
            "tags": [],
            "needs_background": "light"
          }
        }
      ]
    },
    {
      "cell_type": "code",
      "metadata": {
        "id": "MeIyp5nvyLZq",
        "colab": {
          "base_uri": "https://localhost:8080/",
          "height": 298
        },
        "outputId": "8540e5a5-c69d-4762-a8a7-99baf3261c2d"
      },
      "source": [
        "# Example of a picture\n",
        "index = 7\n",
        "plt.imshow(x_train[index], cmap='gray')\n",
        "print (\"y = \" + str(np.squeeze(y_train[index])))\n",
        "print(\"size of imge : \" , x_train[index].shape)"
      ],
      "execution_count": 52,
      "outputs": [
        {
          "output_type": "stream",
          "text": [
            "y = 3\n",
            "size of imge :  (28, 28)\n"
          ],
          "name": "stdout"
        },
        {
          "output_type": "display_data",
          "data": {
            "image/png": "[encoded data removed]",
            "text/plain": [
              "<Figure size 432x288 with 1 Axes>"
            ]
          },
          "metadata": {
            "tags": [],
            "needs_background": "light"
          }
        }
      ]
    },
    {
      "cell_type": "markdown",
      "metadata": {
        "id": "6z7iGLkByQ4g"
      },
      "source": [
        "## **Processing the dataset**"
      ]
    },
    {
      "cell_type": "code",
      "metadata": {
        "id": "L8BWlOC4yNfw"
      },
      "source": [
        "# reshape the train train and test add one channel\n",
        "x_train = x_train.reshape(x_train.shape[0], image_height, image_width, 1)\n",
        "x_test = x_test.reshape(x_test.shape[0], image_height, image_width, 1)\n",
        "input_shape = (image_height, image_width, 1)"
      ],
      "execution_count": 53,
      "outputs": []
    },
    {
      "cell_type": "code",
      "metadata": {
        "id": "DUcSMxPsyWYz"
      },
      "source": [
        "x_train = x_train.astype('float32')\n",
        "x_test = x_test.astype('float32')\n",
        "\n",
        "x_train /= 255  # normalization of data\n",
        "x_test /= 255\n",
        "\n",
        "y_train = tf.keras.utils.to_categorical(y_train, no_classes)\n",
        "y_test = tf.keras.utils.to_categorical(y_test, no_classes)"
      ],
      "execution_count": 54,
      "outputs": []
    },
    {
      "cell_type": "code",
      "metadata": {
        "id": "vecholEFyZG1",
        "colab": {
          "base_uri": "https://localhost:8080/"
        },
        "outputId": "730e1d5c-cd6d-4208-9606-e758f3dd02f8"
      },
      "source": [
        "print (\"number of training examples = \" + str(x_train.shape[0]))\n",
        "print (\"number of test examples = \" + str(x_test.shape[0]))\n",
        "print (\"X_train shape: \" + str(x_train.shape))\n",
        "print (\"Y_train shape: \" + str(y_train.shape))\n",
        "print (\"X_test shape: \" + str(x_test.shape))\n",
        "print (\"Y_test shape: \" + str(y_test.shape))"
      ],
      "execution_count": 55,
      "outputs": [
        {
          "output_type": "stream",
          "text": [
            "number of training examples = 60000\n",
            "number of test examples = 10000\n",
            "X_train shape: (60000, 28, 28, 1)\n",
            "Y_train shape: (60000, 10)\n",
            "X_test shape: (10000, 28, 28, 1)\n",
            "Y_test shape: (10000, 10)\n"
          ],
          "name": "stdout"
        }
      ]
    },
    {
      "cell_type": "markdown",
      "metadata": {
        "id": "G9pcZl5sye02"
      },
      "source": [
        "## **CNN Model**"
      ]
    },
    {
      "cell_type": "code",
      "metadata": {
        "id": "eoRxI-rOyb0F"
      },
      "source": [
        "# defining model\n",
        "def simple_cnn(input_shape):\n",
        "    model = tf.keras.models.Sequential()\n",
        "    model.add(tf.keras.layers.Conv2D(\n",
        "        filters=64,\n",
        "        kernel_size=(3, 3),\n",
        "        activation='relu',\n",
        "        input_shape=input_shape\n",
        "    ))\n",
        "    model.add(tf.keras.layers.Conv2D(\n",
        "        filters=128,\n",
        "        kernel_size=(3, 3),\n",
        "        activation='relu'\n",
        "    ))\n",
        "    model.add(tf.keras.layers.MaxPooling2D(pool_size=(2, 2)))\n",
        "    model.add(tf.keras.layers.Dropout(rate=0.3))\n",
        "    model.add(tf.keras.layers.Flatten())\n",
        "    model.add(tf.keras.layers.Dense(units=1024, activation='relu'))\n",
        "    model.add(tf.keras.layers.Dropout(rate=0.3))\n",
        "    model.add(tf.keras.layers.Dense(units=no_classes, activation='softmax'))\n",
        "    model.compile(loss=tf.keras.losses.categorical_crossentropy,\n",
        "                  optimizer=tf.keras.optimizers.Adam(),\n",
        "                  metrics=['accuracy'])\n",
        "    return model\n"
      ],
      "execution_count": 56,
      "outputs": []
    },
    {
      "cell_type": "code",
      "metadata": {
        "id": "JF2lp46RyogP"
      },
      "source": [
        "simple_cnn_model = simple_cnn(input_shape)"
      ],
      "execution_count": 57,
      "outputs": []
    },
    {
      "cell_type": "markdown",
      "metadata": {
        "id": "1fNEm7TWyt8F"
      },
      "source": [
        "## **Training our model**"
      ]
    },
    {
      "cell_type": "code",
      "metadata": {
        "id": "kDg0WmGuyrOY",
        "colab": {
          "base_uri": "https://localhost:8080/"
        },
        "outputId": "ee1402e5-8cc6-4def-9e06-33bb84ad06b3"
      },
      "source": [
        "history = simple_cnn_model.fit(x_train, y_train,\n",
        "                    batch_size=batch_size,\n",
        "                    epochs=epochs,\n",
        "                    validation_split=0.1)"
      ],
      "execution_count": 58,
      "outputs": [
        {
          "output_type": "stream",
          "text": [
            "Train on 54000 samples, validate on 6000 samples\n",
            "Epoch 1/3\n",
            "54000/54000 [==============================] - ETA: 0s - loss: 0.1294 - accuracy: 0.9600"
          ],
          "name": "stdout"
        },
        {
          "output_type": "stream",
          "text": [
            "/usr/local/lib/python3.7/dist-packages/tensorflow/python/keras/engine/training.py:2426: UserWarning: `Model.state_updates` will be removed in a future version. This property should not be used in TensorFlow 2.0, as `updates` are applied automatically.\n",
            "  warnings.warn('`Model.state_updates` will be removed in a future version. '\n"
          ],
          "name": "stderr"
        },
        {
          "output_type": "stream",
          "text": [
            "54000/54000 [==============================] - 12s 222us/sample - loss: 0.1294 - accuracy: 0.9600 - val_loss: 0.0432 - val_accuracy: 0.9865\n",
            "Epoch 2/3\n",
            "54000/54000 [==============================] - 10s 180us/sample - loss: 0.0403 - accuracy: 0.9875 - val_loss: 0.0341 - val_accuracy: 0.9897\n",
            "Epoch 3/3\n",
            "54000/54000 [==============================] - 10s 179us/sample - loss: 0.0247 - accuracy: 0.9921 - val_loss: 0.0378 - val_accuracy: 0.9887\n"
          ],
          "name": "stdout"
        }
      ]
    },
    {
      "cell_type": "code",
      "metadata": {
        "id": "fMWHf7sUyzai",
        "colab": {
          "base_uri": "https://localhost:8080/",
          "height": 282
        },
        "outputId": "1d4108e7-8395-4bef-c4b0-32cc0f71d7af"
      },
      "source": [
        "plt.plot(history.history['loss'], color='b', label=\"Training Loss\")\n",
        "plt.plot(history.history['val_loss'], color='r', label=\"Validation Loss\")"
      ],
      "execution_count": 59,
      "outputs": [
        {
          "output_type": "execute_result",
          "data": {
            "text/plain": [
              "[<matplotlib.lines.Line2D at 0x7f92e52dbb90>]"
            ]
          },
          "metadata": {
            "tags": []
          },
          "execution_count": 59
        },
        {
          "output_type": "display_data",
          "data": {
            "image/png": "[encoded data removed]",
            "text/plain": [
              "<Figure size 432x288 with 1 Axes>"
            ]
          },
          "metadata": {
            "tags": [],
            "needs_background": "light"
          }
        }
      ]
    },
    {
      "cell_type": "markdown",
      "metadata": {
        "id": "szaUfE5_y5Pu"
      },
      "source": [
        "## **Checking accuracy on training and test set**\n",
        "It's look like our model train pretty well on dataset\n",
        "with Train data accuracy: 0.99548334\n",
        "and Test data accuracy: 0.9905\n"
      ]
    },
    {
      "cell_type": "code",
      "metadata": {
        "id": "diI6iVkly1-Q",
        "colab": {
          "base_uri": "https://localhost:8080/"
        },
        "outputId": "c10d7661-6f29-4eaf-81a4-29e8553be1f2"
      },
      "source": [
        "train_loss, train_accuracy = simple_cnn_model.evaluate(\n",
        "    x_train, y_train, verbose=0)\n",
        "print('Train data loss:', train_loss)\n",
        "print('Train data accuracy:', train_accuracy)"
      ],
      "execution_count": 60,
      "outputs": [
        {
          "output_type": "stream",
          "text": [
            "Train data loss: 0.013379344886253725\n",
            "Train data accuracy: 0.9959667\n"
          ],
          "name": "stdout"
        }
      ]
    },
    {
      "cell_type": "code",
      "metadata": {
        "id": "r5XSquHDzBRn",
        "colab": {
          "base_uri": "https://localhost:8080/"
        },
        "outputId": "a2ea00ae-aab8-4a1a-d516-fb4e31d87438"
      },
      "source": [
        "test_loss, test_accuracy = simple_cnn_model.evaluate(\n",
        "    x_test, y_test, verbose=0)\n",
        "print('Test data loss:', test_loss)\n",
        "print('Test data accuracy:', test_accuracy)"
      ],
      "execution_count": 61,
      "outputs": [
        {
          "output_type": "stream",
          "text": [
            "Test data loss: 0.03120925831662462\n",
            "Test data accuracy: 0.9904\n"
          ],
          "name": "stdout"
        }
      ]
    },
    {
      "cell_type": "markdown",
      "metadata": {
        "id": "S1t97E17zEcW"
      },
      "source": [
        "## **Prediction on test dataset**\n",
        "run the code again to see prediction on random test images."
      ]
    },
    {
      "cell_type": "code",
      "metadata": {
        "id": "jVfFyrgKzDsA",
        "colab": {
          "base_uri": "https://localhost:8080/"
        },
        "outputId": "1c82b9f3-e61c-4b48-ce20-b916c3007f1b"
      },
      "source": [
        "import random\n",
        "index = random.randint(0,x_test.shape[0])\n",
        "# plt.imshow(x_train[0], cmap='gray')\n",
        "pridiction = simple_cnn_model.predict(x_train[index:index+1])\n",
        "Y_pred_classes = np.argmax(pridiction,axis = 1)\n",
        "Y_train_classes = np.argmax(y_train[index:index+1],axis = 1)\n",
        "print(f\"True Label\",Y_train_classes[0])\n",
        "print(\"Predicted by our model\",Y_pred_classes[0])"
      ],
      "execution_count": 62,
      "outputs": [
        {
          "output_type": "stream",
          "text": [
            "True Label 7\n",
            "Predicted by our model 7\n"
          ],
          "name": "stdout"
        },
        {
          "output_type": "stream",
          "text": [
            "/usr/local/lib/python3.7/dist-packages/tensorflow/python/keras/engine/training.py:2426: UserWarning: `Model.state_updates` will be removed in a future version. This property should not be used in TensorFlow 2.0, as `updates` are applied automatically.\n",
            "  warnings.warn('`Model.state_updates` will be removed in a future version. '\n"
          ],
          "name": "stderr"
        }
      ]
    },
    {
      "cell_type": "markdown",
      "metadata": {
        "id": "3pmeWejJzc5R"
      },
      "source": [
        "## **Conclusion**\n",
        "Neural Network with convolutional layer has a great impact on accuracy. our model got 99% accuracy with just two convolution layer. Convolutional neural networks (CNNs) have accomplished astonishing achievements across a variety of domains, including medical research, and an increasing interest has emerged in radiology."
      ]
    },
    {
      "cell_type": "code",
      "metadata": {
        "id": "Ro-WJNHm7Nfn"
      },
      "source": [
        ""
      ],
      "execution_count": null,
      "outputs": []
    }
  ]
}