{
 "cells": [
  {
   "cell_type": "markdown",
   "metadata": {
    "id": "_u6NZm65qNrD"
   },
   "source": [
    "# **Customer Churn Analysis**\n",
    "\n",
    "### Table of Contents\n",
    "\n",
    "* [Importing Libraries](#head1)\n",
    "* [Loading Data](#head2)\n",
    "* [Checking Null Values](#head3)\n",
    "* [Checking Imbalanced Data](#head4)\n",
    "* [Preprocessing](#head5)\n",
    "* [Seperate Features & Target Variable](#head6)\n",
    "* [Train Test Split](#head7)\n",
    "* [Categorical & Numeric Features](#head8)\n",
    "* [Model Pipeline](#head9)\n",
    "* [Best Hyperparameters for Random Forest Classifier Using RandomizedSearchCv using a pipeline](#head10)\n",
    "* [Model Prediction](#head11)\n",
    "* [Model Evaluation](#head12)"
   ]
  },
  {
   "cell_type": "markdown",
   "metadata": {},
   "source": [
    "### **Importing Libraries** <a id=\"head1\"></a>"
   ]
  },
  {
   "cell_type": "code",
   "execution_count": 1,
   "metadata": {
    "id": "jfK-0jg0fJfT"
   },
   "outputs": [],
   "source": [
    "import numpy as np\n",
    "import pandas as pd\n",
    "                                                                                   \n",
    "from sklearn.preprocessing import MinMaxScaler\n",
    "from sklearn.model_selection import train_test_split\n",
    "from sklearn.preprocessing import LabelEncoder\n",
    "from sklearn.decomposition import PCA\n",
    "\n",
    "from sklearn.model_selection import RandomizedSearchCV\n",
    "from sklearn.metrics import accuracy_score, confusion_matrix,classification_report\n",
    "from sklearn.ensemble import RandomForestClassifier\n",
    "from sklearn.pipeline import Pipeline\n",
    "from sklearn.compose import ColumnTransformer\n",
    "from sklearn.impute import SimpleImputer\n",
    "\n",
    "import warnings\n",
    "warnings.filterwarnings('ignore')"
   ]
  },
  {
   "cell_type": "markdown",
   "metadata": {},
   "source": [
    "### **Loading Data** <a id=\"head2\"></a>"
   ]
  },
  {
   "cell_type": "code",
   "execution_count": 2,
   "metadata": {
    "id": "4ZTH64Nbfmud"
   },
   "outputs": [],
   "source": [
    "telco_customer = pd.read_csv(\"ChurnTrainDataset.csv\")"
   ]
  },
  {
   "cell_type": "code",
   "execution_count": 3,
   "metadata": {
    "colab": {
     "base_uri": "https://localhost:8080/",
     "height": 226
    },
    "id": "TKdSVQlJf_t9",
    "outputId": "60056fdc-42c3-4a1a-82e7-012ed10d7aae",
    "scrolled": true
   },
   "outputs": [
    {
     "data": {
      "text/html": [
       "<div>\n",
       "<style scoped>\n",
       "    .dataframe tbody tr th:only-of-type {\n",
       "        vertical-align: middle;\n",
       "    }\n",
       "\n",
       "    .dataframe tbody tr th {\n",
       "        vertical-align: top;\n",
       "    }\n",
       "\n",
       "    .dataframe thead th {\n",
       "        text-align: right;\n",
       "    }\n",
       "</style>\n",
       "<table border=\"1\" class=\"dataframe\">\n",
       "  <thead>\n",
       "    <tr style=\"text-align: right;\">\n",
       "      <th></th>\n",
       "      <th>state</th>\n",
       "      <th>account_length</th>\n",
       "      <th>area_code</th>\n",
       "      <th>international_plan</th>\n",
       "      <th>voice_mail_plan</th>\n",
       "      <th>number_vmail_messages</th>\n",
       "      <th>total_day_minutes</th>\n",
       "      <th>total_day_calls</th>\n",
       "      <th>total_day_charge</th>\n",
       "      <th>total_eve_minutes</th>\n",
       "      <th>total_eve_calls</th>\n",
       "      <th>total_eve_charge</th>\n",
       "      <th>total_night_minutes</th>\n",
       "      <th>total_night_calls</th>\n",
       "      <th>total_night_charge</th>\n",
       "      <th>total_intl_minutes</th>\n",
       "      <th>total_intl_calls</th>\n",
       "      <th>total_intl_charge</th>\n",
       "      <th>number_customer_service_calls</th>\n",
       "      <th>churn</th>\n",
       "    </tr>\n",
       "  </thead>\n",
       "  <tbody>\n",
       "    <tr>\n",
       "      <th>0</th>\n",
       "      <td>OH</td>\n",
       "      <td>107.0</td>\n",
       "      <td>area_code_415</td>\n",
       "      <td>no</td>\n",
       "      <td>yes</td>\n",
       "      <td>26.0</td>\n",
       "      <td>161.6</td>\n",
       "      <td>123.0</td>\n",
       "      <td>27.47</td>\n",
       "      <td>195.5</td>\n",
       "      <td>103.0</td>\n",
       "      <td>16.62</td>\n",
       "      <td>254.4</td>\n",
       "      <td>103.0</td>\n",
       "      <td>11.45</td>\n",
       "      <td>13.7</td>\n",
       "      <td>3.0</td>\n",
       "      <td>3.70</td>\n",
       "      <td>1.0</td>\n",
       "      <td>no</td>\n",
       "    </tr>\n",
       "    <tr>\n",
       "      <th>1</th>\n",
       "      <td>NJ</td>\n",
       "      <td>137.0</td>\n",
       "      <td>area_code_415</td>\n",
       "      <td>no</td>\n",
       "      <td>no</td>\n",
       "      <td>0.0</td>\n",
       "      <td>243.4</td>\n",
       "      <td>114.0</td>\n",
       "      <td>41.38</td>\n",
       "      <td>121.2</td>\n",
       "      <td>110.0</td>\n",
       "      <td>10.30</td>\n",
       "      <td>162.6</td>\n",
       "      <td>104.0</td>\n",
       "      <td>7.32</td>\n",
       "      <td>12.2</td>\n",
       "      <td>5.0</td>\n",
       "      <td>3.29</td>\n",
       "      <td>0.0</td>\n",
       "      <td>no</td>\n",
       "    </tr>\n",
       "    <tr>\n",
       "      <th>2</th>\n",
       "      <td>OH</td>\n",
       "      <td>84.0</td>\n",
       "      <td>area_code_408</td>\n",
       "      <td>yes</td>\n",
       "      <td>no</td>\n",
       "      <td>0.0</td>\n",
       "      <td>299.4</td>\n",
       "      <td>71.0</td>\n",
       "      <td>50.90</td>\n",
       "      <td>61.9</td>\n",
       "      <td>88.0</td>\n",
       "      <td>5.26</td>\n",
       "      <td>196.9</td>\n",
       "      <td>89.0</td>\n",
       "      <td>8.86</td>\n",
       "      <td>6.6</td>\n",
       "      <td>7.0</td>\n",
       "      <td>1.78</td>\n",
       "      <td>2.0</td>\n",
       "      <td>no</td>\n",
       "    </tr>\n",
       "    <tr>\n",
       "      <th>3</th>\n",
       "      <td>OK</td>\n",
       "      <td>75.0</td>\n",
       "      <td>area_code_415</td>\n",
       "      <td>yes</td>\n",
       "      <td>no</td>\n",
       "      <td>0.0</td>\n",
       "      <td>166.7</td>\n",
       "      <td>113.0</td>\n",
       "      <td>28.34</td>\n",
       "      <td>148.3</td>\n",
       "      <td>122.0</td>\n",
       "      <td>12.61</td>\n",
       "      <td>186.9</td>\n",
       "      <td>121.0</td>\n",
       "      <td>8.41</td>\n",
       "      <td>10.1</td>\n",
       "      <td>3.0</td>\n",
       "      <td>2.73</td>\n",
       "      <td>3.0</td>\n",
       "      <td>no</td>\n",
       "    </tr>\n",
       "    <tr>\n",
       "      <th>4</th>\n",
       "      <td>MA</td>\n",
       "      <td>121.0</td>\n",
       "      <td>area_code_510</td>\n",
       "      <td>no</td>\n",
       "      <td>yes</td>\n",
       "      <td>24.0</td>\n",
       "      <td>218.2</td>\n",
       "      <td>88.0</td>\n",
       "      <td>37.09</td>\n",
       "      <td>348.5</td>\n",
       "      <td>108.0</td>\n",
       "      <td>29.62</td>\n",
       "      <td>212.6</td>\n",
       "      <td>118.0</td>\n",
       "      <td>9.57</td>\n",
       "      <td>7.5</td>\n",
       "      <td>7.0</td>\n",
       "      <td>2.03</td>\n",
       "      <td>3.0</td>\n",
       "      <td>no</td>\n",
       "    </tr>\n",
       "  </tbody>\n",
       "</table>\n",
       "</div>"
      ],
      "text/plain": [
       "  state  account_length      area_code international_plan voice_mail_plan  \\\n",
       "0    OH           107.0  area_code_415                 no             yes   \n",
       "1    NJ           137.0  area_code_415                 no              no   \n",
       "2    OH            84.0  area_code_408                yes              no   \n",
       "3    OK            75.0  area_code_415                yes              no   \n",
       "4    MA           121.0  area_code_510                 no             yes   \n",
       "\n",
       "   number_vmail_messages  total_day_minutes  total_day_calls  \\\n",
       "0                   26.0              161.6            123.0   \n",
       "1                    0.0              243.4            114.0   \n",
       "2                    0.0              299.4             71.0   \n",
       "3                    0.0              166.7            113.0   \n",
       "4                   24.0              218.2             88.0   \n",
       "\n",
       "   total_day_charge  total_eve_minutes  total_eve_calls  total_eve_charge  \\\n",
       "0             27.47              195.5            103.0             16.62   \n",
       "1             41.38              121.2            110.0             10.30   \n",
       "2             50.90               61.9             88.0              5.26   \n",
       "3             28.34              148.3            122.0             12.61   \n",
       "4             37.09              348.5            108.0             29.62   \n",
       "\n",
       "   total_night_minutes  total_night_calls  total_night_charge  \\\n",
       "0                254.4              103.0               11.45   \n",
       "1                162.6              104.0                7.32   \n",
       "2                196.9               89.0                8.86   \n",
       "3                186.9              121.0                8.41   \n",
       "4                212.6              118.0                9.57   \n",
       "\n",
       "   total_intl_minutes  total_intl_calls  total_intl_charge  \\\n",
       "0                13.7               3.0               3.70   \n",
       "1                12.2               5.0               3.29   \n",
       "2                 6.6               7.0               1.78   \n",
       "3                10.1               3.0               2.73   \n",
       "4                 7.5               7.0               2.03   \n",
       "\n",
       "   number_customer_service_calls churn  \n",
       "0                            1.0    no  \n",
       "1                            0.0    no  \n",
       "2                            2.0    no  \n",
       "3                            3.0    no  \n",
       "4                            3.0    no  "
      ]
     },
     "execution_count": 3,
     "metadata": {},
     "output_type": "execute_result"
    }
   ],
   "source": [
    "telco_customer.head()"
   ]
  },
  {
   "cell_type": "code",
   "execution_count": 4,
   "metadata": {
    "colab": {
     "base_uri": "https://localhost:8080/"
    },
    "id": "042NcXwHgGxi",
    "outputId": "18fe1492-a238-48d4-9180-da13659700e0"
   },
   "outputs": [
    {
     "name": "stdout",
     "output_type": "stream",
     "text": [
      "<class 'pandas.core.frame.DataFrame'>\n",
      "RangeIndex: 4250 entries, 0 to 4249\n",
      "Data columns (total 20 columns):\n",
      " #   Column                         Non-Null Count  Dtype  \n",
      "---  ------                         --------------  -----  \n",
      " 0   state                          4232 non-null   object \n",
      " 1   account_length                 4216 non-null   float64\n",
      " 2   area_code                      4234 non-null   object \n",
      " 3   international_plan             4250 non-null   object \n",
      " 4   voice_mail_plan                4237 non-null   object \n",
      " 5   number_vmail_messages          4216 non-null   float64\n",
      " 6   total_day_minutes              4240 non-null   float64\n",
      " 7   total_day_calls                4248 non-null   float64\n",
      " 8   total_day_charge               4242 non-null   float64\n",
      " 9   total_eve_minutes              4215 non-null   float64\n",
      " 10  total_eve_calls                4233 non-null   float64\n",
      " 11  total_eve_charge               4242 non-null   float64\n",
      " 12  total_night_minutes            4248 non-null   float64\n",
      " 13  total_night_calls              4245 non-null   float64\n",
      " 14  total_night_charge             4243 non-null   float64\n",
      " 15  total_intl_minutes             4245 non-null   float64\n",
      " 16  total_intl_calls               4237 non-null   float64\n",
      " 17  total_intl_charge              4220 non-null   float64\n",
      " 18  number_customer_service_calls  4247 non-null   float64\n",
      " 19  churn                          4228 non-null   object \n",
      "dtypes: float64(15), object(5)\n",
      "memory usage: 664.2+ KB\n"
     ]
    }
   ],
   "source": [
    "telco_customer.info()"
   ]
  },
  {
   "cell_type": "markdown",
   "metadata": {
    "id": "tfE1HtIObm48"
   },
   "source": [
    "### **Checking Null Values** <a id=\"head3\"></a>"
   ]
  },
  {
   "cell_type": "code",
   "execution_count": 5,
   "metadata": {
    "colab": {
     "base_uri": "https://localhost:8080/"
    },
    "id": "hF_Su7K8bSoi",
    "outputId": "6fdbc2d2-ec9c-4aae-b338-4d1a0df5c65d"
   },
   "outputs": [
    {
     "data": {
      "text/plain": [
       "state                            18\n",
       "account_length                   34\n",
       "area_code                        16\n",
       "international_plan                0\n",
       "voice_mail_plan                  13\n",
       "number_vmail_messages            34\n",
       "total_day_minutes                10\n",
       "total_day_calls                   2\n",
       "total_day_charge                  8\n",
       "total_eve_minutes                35\n",
       "total_eve_calls                  17\n",
       "total_eve_charge                  8\n",
       "total_night_minutes               2\n",
       "total_night_calls                 5\n",
       "total_night_charge                7\n",
       "total_intl_minutes                5\n",
       "total_intl_calls                 13\n",
       "total_intl_charge                30\n",
       "number_customer_service_calls     3\n",
       "churn                            22\n",
       "dtype: int64"
      ]
     },
     "execution_count": 5,
     "metadata": {},
     "output_type": "execute_result"
    }
   ],
   "source": [
    "telco_customer.isnull().sum()"
   ]
  },
  {
   "cell_type": "markdown",
   "metadata": {
    "id": "Oi5xtQ7s75VG"
   },
   "source": [
    "### **Checking Imbalanced Data** <a id=\"head4\"></a>"
   ]
  },
  {
   "cell_type": "code",
   "execution_count": 6,
   "metadata": {
    "colab": {
     "base_uri": "https://localhost:8080/"
    },
    "id": "LbC67hiJ748p",
    "outputId": "dfcbd8a8-f76e-497e-a069-5129b19ff5d3"
   },
   "outputs": [
    {
     "name": "stdout",
     "output_type": "stream",
     "text": [
      "No Churn: 3634\n",
      "Churn: 594\n"
     ]
    }
   ],
   "source": [
    "target_count = telco_customer['churn'].value_counts()\n",
    "print('No Churn:', target_count[0])\n",
    "print('Churn:', target_count[1])"
   ]
  },
  {
   "cell_type": "markdown",
   "metadata": {
    "id": "0-REIqWZIOjk"
   },
   "source": [
    "### **Preprocessing** <a id=\"head5\"></a>"
   ]
  },
  {
   "cell_type": "code",
   "execution_count": 7,
   "metadata": {
    "id": "mXPWZXYKIGeh"
   },
   "outputs": [],
   "source": [
    "# Encoding categorical data using cat codes\n",
    "for col in telco_customer.columns[telco_customer.dtypes == 'object']:\n",
    "    if col!='churn':\n",
    "        telco_customer[col]=telco_customer[col].astype('category').cat.codes\n",
    "\n",
    "# Fill Null Values of target column\n",
    "telco_customer['churn'] =  telco_customer['churn'].fillna(telco_customer['churn'].mode()[0])\n",
    "\n",
    "# Label Encoding of target column\n",
    "le=LabelEncoder()\n",
    "telco_customer['churn'] = le.fit_transform(telco_customer['churn'])"
   ]
  },
  {
   "cell_type": "markdown",
   "metadata": {
    "id": "lnhbFer28H6o"
   },
   "source": [
    "### **Seperate Features & Target Variable** <a id=\"head6\"></a>"
   ]
  },
  {
   "cell_type": "code",
   "execution_count": 8,
   "metadata": {
    "id": "R9E1KjV042ML"
   },
   "outputs": [],
   "source": [
    "X = telco_customer.drop('churn',axis=1)\n",
    "y=telco_customer['churn']"
   ]
  },
  {
   "cell_type": "markdown",
   "metadata": {
    "id": "lB8dCPma8OPO"
   },
   "source": [
    "### **Train Test Split**  <a id=\"head7\"></a>"
   ]
  },
  {
   "cell_type": "code",
   "execution_count": 9,
   "metadata": {
    "id": "vecoK_Db42tn"
   },
   "outputs": [],
   "source": [
    "X_train, X_test, y_train, y_test = train_test_split(X, y, test_size=0.2, random_state=17)"
   ]
  },
  {
   "cell_type": "markdown",
   "metadata": {
    "id": "uO86YOm2IaSP"
   },
   "source": [
    "### **Categorical & Numeric Features**  <a id=\"head8\"></a>"
   ]
  },
  {
   "cell_type": "code",
   "execution_count": 10,
   "metadata": {
    "id": "AnKvcl8R5GVU"
   },
   "outputs": [],
   "source": [
    "cat_features = X_train.columns[X_train.dtypes == 'int8'].values\n",
    "num_features = X_train.columns[X_train.dtypes == 'float64'].values"
   ]
  },
  {
   "cell_type": "markdown",
   "metadata": {
    "id": "wBtXY2sfE5Nd"
   },
   "source": [
    "### **Model Pipeline** <a id=\"head9\"></a>"
   ]
  },
  {
   "cell_type": "code",
   "execution_count": 11,
   "metadata": {
    "id": "x_mbLpv35ANk"
   },
   "outputs": [],
   "source": [
    "# Imputation Transformer to fill null values\n",
    "fill_null_col = ColumnTransformer([\n",
    "        ('FillCat',SimpleImputer(strategy='most_frequent'),cat_features),\n",
    "        ('FillNumeric',SimpleImputer(strategy='median'),num_features),\n",
    "    ],remainder='passthrough')\n",
    "\n",
    "# Scaling\n",
    "scale_col = ColumnTransformer([\n",
    "    ('scale', MinMaxScaler(),slice(0,18))\n",
    "])\n",
    "\n",
    "# Principal Component Analysis\n",
    "pca_col = ColumnTransformer([\n",
    "    ('PCA', PCA(n_components=10),slice(0,18))\n",
    "])\n",
    "\n",
    "# Model\n",
    "classifier = RandomForestClassifier()"
   ]
  },
  {
   "cell_type": "code",
   "execution_count": 12,
   "metadata": {
    "colab": {
     "base_uri": "https://localhost:8080/"
    },
    "id": "Dt8EIgFa-Ske",
    "outputId": "a51333fa-92c3-433e-f08f-c1b7747e1917"
   },
   "outputs": [
    {
     "data": {
      "text/plain": [
       "0.9"
      ]
     },
     "execution_count": 12,
     "metadata": {},
     "output_type": "execute_result"
    }
   ],
   "source": [
    "pipeline_model = Pipeline([('fill_null_col', fill_null_col),\n",
    "                 ('scale_col', scale_col),\n",
    "                 ('pca_col', pca_col),\n",
    "                 ('classifier', classifier)])\n",
    "\n",
    "pipeline_model.fit(X_train,y_train)\n",
    "pipeline_model.score(X_test,y_test)"
   ]
  },
  {
   "cell_type": "code",
   "execution_count": 13,
   "metadata": {
    "colab": {
     "base_uri": "https://localhost:8080/"
    },
    "id": "6Ls0uyEQbWxa",
    "outputId": "f7d76451-368c-43e8-84a7-458116afcf85"
   },
   "outputs": [
    {
     "name": "stdout",
     "output_type": "stream",
     "text": [
      "[49.  1.  0.  0.]\n",
      "[100.     0.   180.4  100.    30.65 200.3  100.    17.02 200.2  100.\n",
      "   9.01  10.3    4.     2.81   1.  ]\n",
      "[[0.49019608 0.77056277 1.         ... 0.525      0.2        0.52592593]\n",
      " [0.84313725 0.31168831 1.         ... 0.34       0.55       0.34074074]\n",
      " [0.7254902  0.37229437 0.66666667 ... 0.67       0.15       0.67037037]\n",
      " ...\n",
      " [0.25490196 0.55844156 0.66666667 ... 0.615      0.2        0.61481481]\n",
      " [0.7254902  0.4978355  1.         ... 0.375      0.2        0.37592593]\n",
      " [0.43137255 0.23809524 0.33333333 ... 0.355      0.25       0.35555556]]\n"
     ]
    }
   ],
   "source": [
    "print(fill_null_col.named_transformers_['FillCat'].statistics_)\n",
    "print(fill_null_col.named_transformers_['FillNumeric'].statistics_)\n",
    "print(scale_col.fit_transform(X_train))"
   ]
  },
  {
   "cell_type": "code",
   "execution_count": 14,
   "metadata": {
    "colab": {
     "base_uri": "https://localhost:8080/"
    },
    "id": "dINGiUerRdqV",
    "outputId": "cfd9ac10-301a-4637-f777-5317c2ca27eb"
   },
   "outputs": [
    {
     "data": {
      "text/plain": [
       "[('fill_null_col',\n",
       "  ColumnTransformer(remainder='passthrough',\n",
       "                    transformers=[('FillCat',\n",
       "                                   SimpleImputer(strategy='most_frequent'),\n",
       "                                   array(['state', 'area_code', 'international_plan', 'voice_mail_plan'],\n",
       "        dtype=object)),\n",
       "                                  ('FillNumeric',\n",
       "                                   SimpleImputer(strategy='median'),\n",
       "                                   array(['account_length', 'number_vmail_messages', 'total_day_minutes',\n",
       "         'total_day_calls', 'total_day_charge', 'total_eve_minutes',\n",
       "         'total_eve_calls', 'total_eve_charge', 'total_night_minutes',\n",
       "         'total_night_calls', 'total_night_charge', 'total_intl_minutes',\n",
       "         'total_intl_calls', 'total_intl_charge',\n",
       "         'number_customer_service_calls'], dtype=object))])),\n",
       " ('scale_col',\n",
       "  ColumnTransformer(transformers=[('scale', MinMaxScaler(), slice(0, 18, None))])),\n",
       " ('pca_col',\n",
       "  ColumnTransformer(transformers=[('PCA', PCA(n_components=10),\n",
       "                                   slice(0, 18, None))])),\n",
       " ('classifier', RandomForestClassifier())]"
      ]
     },
     "execution_count": 14,
     "metadata": {},
     "output_type": "execute_result"
    }
   ],
   "source": [
    "pipeline_model.steps"
   ]
  },
  {
   "cell_type": "markdown",
   "metadata": {
    "id": "glgVxcT-FxvP"
   },
   "source": [
    "### **Best Hyperparameters for Random Forest Classifier Using RandomizedSearchCv using a pipeline** <a id=\"head10\"></a>"
   ]
  },
  {
   "cell_type": "code",
   "execution_count": 15,
   "metadata": {
    "colab": {
     "base_uri": "https://localhost:8080/"
    },
    "id": "lZV9dnWjCqcH",
    "outputId": "10b40651-c2a0-4c53-f9a5-c63d078f97a6"
   },
   "outputs": [
    {
     "name": "stdout",
     "output_type": "stream",
     "text": [
      "Fitting 10 folds for each of 10 candidates, totalling 100 fits\n"
     ]
    },
    {
     "data": {
      "text/plain": [
       "{'classifier__n_estimators': 420,\n",
       " 'classifier__min_samples_split': 5,\n",
       " 'classifier__min_samples_leaf': 1,\n",
       " 'classifier__max_features': 'sqrt',\n",
       " 'classifier__max_depth': 15,\n",
       " 'classifier__criterion': 'entropy',\n",
       " 'classifier__bootstrap': True}"
      ]
     },
     "execution_count": 15,
     "metadata": {},
     "output_type": "execute_result"
    }
   ],
   "source": [
    "params = [{\"classifier__criterion\": ['gini', 'entropy'],\n",
    "           \"classifier__max_features\" :['auto', 'sqrt'],\n",
    "           \"classifier__n_estimators\": range(100, 501, 10),\n",
    "           \"classifier__max_depth\":range(10,30),\n",
    "           \"classifier__min_samples_leaf\":[1, 2, 4],\n",
    "           \"classifier__min_samples_split\": [2, 5,10],\n",
    "           \"classifier__bootstrap\" :[True, False]\n",
    "          }]\n",
    "                 \n",
    "rf_randomized = RandomizedSearchCV(estimator = pipeline_model,\n",
    "                           param_distributions = params,\n",
    "                           cv = 10,verbose = 2, n_jobs=-1)\n",
    "\n",
    "rf_randomized.fit(X_train,y_train)\n",
    "rf_randomized.best_params_"
   ]
  },
  {
   "cell_type": "code",
   "execution_count": 16,
   "metadata": {
    "colab": {
     "base_uri": "https://localhost:8080/"
    },
    "id": "WzB7ztKWTnDh",
    "outputId": "1af38503-cb81-4899-cda6-45168836618e"
   },
   "outputs": [
    {
     "name": "stdout",
     "output_type": "stream",
     "text": [
      "0.9097058823529413\n"
     ]
    }
   ],
   "source": [
    "print(rf_randomized.best_score_)"
   ]
  },
  {
   "cell_type": "markdown",
   "metadata": {
    "id": "lQtMy8mQ9xct"
   },
   "source": [
    "### **Model Prediction**<a id=\"head11\"></a>"
   ]
  },
  {
   "cell_type": "code",
   "execution_count": 17,
   "metadata": {
    "colab": {
     "base_uri": "https://localhost:8080/"
    },
    "id": "hQUB212t9phl",
    "outputId": "253b0af5-d3b8-4440-feb3-6ca9ec66cef6"
   },
   "outputs": [
    {
     "data": {
      "text/plain": [
       "array([0, 0, 0, 0, 0, 0, 0, 0, 1, 0, 0, 0, 0, 0, 0, 0, 0, 0, 0, 0, 0, 0,\n",
       "       0, 0, 0, 1, 0, 0, 0, 0, 0, 0, 0, 0, 0, 0, 0, 0, 0, 0, 0, 0, 0, 0,\n",
       "       1, 0, 0, 0, 0, 0, 0, 0, 0, 1, 0, 0, 0, 0, 0, 0, 0, 0, 0, 0, 0, 1,\n",
       "       0, 0, 0, 0, 0, 1, 0, 1, 0, 0, 0, 0, 0, 0, 0, 0, 0, 0, 0, 0, 0, 0,\n",
       "       0, 0, 0, 0, 0, 0, 0, 0, 0, 0, 0, 0, 0, 0, 0, 0, 0, 0, 0, 0, 0, 0,\n",
       "       0, 0, 0, 0, 1, 0, 0, 0, 0, 0, 0, 0, 0, 0, 0, 0, 0, 0, 0, 0, 0, 0,\n",
       "       0, 0, 0, 0, 0, 0, 0, 0, 0, 0, 0, 0, 0, 0, 0, 0, 0, 0, 0, 1, 0, 1,\n",
       "       0, 0, 0, 0, 1, 0, 0, 0, 1, 0, 0, 0, 0, 0, 0, 0, 0, 0, 1, 0, 0, 0,\n",
       "       0, 0, 0, 0, 0, 0, 0, 1, 0, 0, 0, 0, 0, 1, 0, 0, 1, 1, 0, 0, 0, 0,\n",
       "       0, 1, 0, 0, 0, 0, 0, 0, 0, 0, 0, 0, 0, 0, 0, 0, 0, 0, 0, 0, 0, 0,\n",
       "       0, 0, 0, 0, 0, 0, 0, 0, 0, 0, 0, 0, 0, 1, 0, 0, 0, 0, 0, 0, 0, 0,\n",
       "       0, 0, 0, 0, 0, 0, 0, 0, 0, 0, 0, 1, 1, 0, 0, 1, 0, 0, 0, 0, 0, 0,\n",
       "       0, 0, 0, 0, 0, 0, 0, 0, 1, 0, 0, 0, 0, 0, 0, 0, 0, 0, 0, 0, 1, 0,\n",
       "       0, 0, 0, 0, 0, 1, 0, 0, 0, 1, 0, 1, 0, 0, 0, 0, 0, 1, 0, 0, 0, 0,\n",
       "       1, 0, 0, 0, 0, 0, 0, 0, 0, 0, 0, 0, 0, 0, 0, 0, 0, 0, 0, 1, 0, 0,\n",
       "       0, 0, 0, 0, 0, 0, 0, 0, 1, 0, 1, 1, 0, 0, 0, 0, 0, 0, 0, 0, 0, 1,\n",
       "       0, 0, 0, 0, 0, 0, 0, 0, 0, 1, 0, 0, 0, 0, 0, 1, 0, 0, 0, 0, 0, 0,\n",
       "       0, 0, 0, 0, 0, 0, 0, 0, 0, 0, 0, 0, 0, 0, 0, 0, 0, 0, 0, 0, 0, 0,\n",
       "       0, 0, 0, 0, 0, 0, 0, 0, 0, 1, 0, 1, 1, 0, 0, 0, 0, 0, 0, 0, 1, 0,\n",
       "       0, 0, 0, 0, 0, 0, 0, 0, 0, 0, 0, 0, 0, 0, 0, 0, 0, 0, 0, 1, 0, 0,\n",
       "       1, 0, 0, 0, 0, 1, 0, 0, 0, 1, 0, 0, 0, 0, 0, 0, 0, 0, 1, 0, 0, 0,\n",
       "       0, 0, 0, 0, 0, 0, 0, 0, 0, 1, 0, 0, 0, 0, 0, 0, 0, 0, 0, 0, 0, 0,\n",
       "       0, 0, 0, 1, 0, 0, 0, 0, 0, 0, 0, 0, 0, 0, 0, 0, 0, 0, 0, 0, 0, 0,\n",
       "       0, 0, 0, 0, 0, 0, 0, 0, 0, 0, 0, 0, 0, 0, 0, 0, 0, 0, 0, 0, 0, 0,\n",
       "       0, 0, 0, 0, 0, 0, 0, 0, 0, 0, 0, 0, 1, 0, 0, 0, 0, 0, 0, 1, 0, 0,\n",
       "       0, 0, 0, 0, 0, 0, 0, 0, 0, 0, 0, 0, 0, 0, 1, 0, 0, 0, 0, 0, 0, 0,\n",
       "       0, 0, 0, 0, 0, 0, 0, 0, 0, 1, 0, 0, 0, 0, 0, 0, 0, 0, 0, 0, 0, 0,\n",
       "       0, 0, 0, 0, 0, 0, 0, 0, 0, 0, 0, 0, 0, 0, 0, 0, 0, 0, 0, 0, 0, 0,\n",
       "       0, 0, 0, 1, 0, 0, 0, 0, 1, 0, 0, 0, 0, 0, 0, 0, 0, 0, 0, 0, 0, 0,\n",
       "       0, 0, 0, 0, 0, 0, 0, 0, 0, 0, 0, 0, 0, 0, 0, 0, 1, 0, 0, 0, 0, 0,\n",
       "       0, 0, 0, 0, 0, 0, 0, 0, 0, 0, 0, 0, 0, 0, 0, 0, 0, 0, 0, 0, 0, 0,\n",
       "       0, 0, 0, 0, 0, 0, 0, 0, 0, 0, 0, 0, 0, 0, 0, 0, 0, 0, 0, 0, 0, 0,\n",
       "       0, 0, 0, 0, 0, 0, 0, 0, 0, 0, 0, 0, 0, 0, 0, 0, 0, 0, 0, 0, 0, 0,\n",
       "       0, 0, 0, 0, 0, 0, 0, 0, 0, 0, 0, 0, 0, 0, 0, 0, 0, 0, 0, 0, 1, 0,\n",
       "       0, 0, 1, 0, 0, 0, 0, 0, 0, 0, 0, 0, 1, 0, 0, 0, 0, 0, 0, 0, 0, 0,\n",
       "       0, 0, 0, 0, 0, 0, 0, 0, 0, 0, 0, 0, 0, 0, 0, 0, 0, 0, 0, 0, 0, 0,\n",
       "       0, 0, 0, 0, 0, 0, 0, 0, 0, 0, 0, 0, 1, 0, 0, 0, 0, 1, 0, 0, 0, 0,\n",
       "       0, 0, 0, 0, 0, 0, 0, 0, 0, 0, 1, 0, 0, 0, 0, 0, 0, 0, 0, 0, 1, 0,\n",
       "       0, 0, 0, 0, 0, 0, 0, 0, 0, 0, 0, 0, 0, 0])"
      ]
     },
     "execution_count": 17,
     "metadata": {},
     "output_type": "execute_result"
    }
   ],
   "source": [
    "prediction = rf_randomized.predict(X_test)\n",
    "prediction"
   ]
  },
  {
   "cell_type": "markdown",
   "metadata": {
    "id": "NN_s2W3m9rl9"
   },
   "source": [
    "### **Model Evaluation** <a id=\"head12\"></a>"
   ]
  },
  {
   "cell_type": "code",
   "execution_count": 18,
   "metadata": {
    "colab": {
     "base_uri": "https://localhost:8080/"
    },
    "id": "W0DIaWqJi3JG",
    "outputId": "0de9f68e-f2b0-46e5-f37b-6edc929a0985"
   },
   "outputs": [
    {
     "name": "stdout",
     "output_type": "stream",
     "text": [
      "confusion matrix\n",
      "[[714  10]\n",
      " [ 75  51]]\n",
      "              precision    recall  f1-score   support\n",
      "\n",
      "           0       0.90      0.99      0.94       724\n",
      "           1       0.84      0.40      0.55       126\n",
      "\n",
      "    accuracy                           0.90       850\n",
      "   macro avg       0.87      0.70      0.74       850\n",
      "weighted avg       0.89      0.90      0.88       850\n",
      "\n"
     ]
    }
   ],
   "source": [
    "conf_matrix = confusion_matrix(y_test, prediction)\n",
    "print(\"confusion matrix\")\n",
    "print(conf_matrix)\n",
    "print(classification_report(y_test,prediction))"
   ]
  },
  {
   "cell_type": "code",
   "execution_count": null,
   "metadata": {
    "id": "76C25mFGWxPs"
   },
   "outputs": [],
   "source": []
  }
 ],
 "metadata": {
  "colab": {
   "collapsed_sections": [],
   "name": "GroupA_DataModelling_final.ipynb",
   "provenance": []
  },
  "kernelspec": {
   "display_name": "Python 3 (ipykernel)",
   "language": "python",
   "name": "python3"
  },
  "language_info": {
   "codemirror_mode": {
    "name": "ipython",
    "version": 3
   },
   "file_extension": ".py",
   "mimetype": "text/x-python",
   "name": "python",
   "nbconvert_exporter": "python",
   "pygments_lexer": "ipython3",
   "version": "3.9.6"
  }
 },
 "nbformat": 4,
 "nbformat_minor": 1
}
