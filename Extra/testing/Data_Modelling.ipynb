{
  "nbformat": 4,
  "nbformat_minor": 0,
  "metadata": {
    "colab": {
      "name": "Data Modelling.ipynb",
      "provenance": [],
      "collapsed_sections": []
    },
    "kernelspec": {
      "display_name": "Python 3 (ipykernel)",
      "language": "python",
      "name": "python3"
    },
    "language_info": {
      "codemirror_mode": {
        "name": "ipython",
        "version": 3
      },
      "file_extension": ".py",
      "mimetype": "text/x-python",
      "name": "python",
      "nbconvert_exporter": "python",
      "pygments_lexer": "ipython3",
      "version": "3.9.6"
    }
  },
  "cells": [
    {
      "cell_type": "markdown",
      "metadata": {
        "id": "_u6NZm65qNrD"
      },
      "source": [
        "**Importing Libraries**"
      ]
    },
    {
      "cell_type": "code",
      "metadata": {
        "id": "jfK-0jg0fJfT"
      },
      "source": [
        "import numpy as np\n",
        "import pandas as pd\n",
        "\n",
        "from sklearn.preprocessing import MinMaxScaler\n",
        "from sklearn.model_selection import train_test_split\n",
        "from sklearn.preprocessing import LabelEncoder\n",
        "from sklearn.decomposition import PCA\n",
        "\n",
        "from sklearn.model_selection import RandomizedSearchCV\n",
        "from sklearn.metrics import accuracy_score, confusion_matrix,classification_report\n",
        "from sklearn.model_selection import StratifiedKFold\n",
        "from sklearn.ensemble import RandomForestClassifier\n",
        "\n",
        "import warnings\n",
        "warnings.filterwarnings('ignore')"
      ],
      "execution_count": 1,
      "outputs": []
    },
    {
      "cell_type": "code",
      "metadata": {
        "id": "4ZTH64Nbfmud"
      },
      "source": [
        "telco_customer = pd.read_csv(\"ChurnTrainDataset.csv\")"
      ],
      "execution_count": 2,
      "outputs": []
    },
    {
      "cell_type": "code",
      "metadata": {
        "colab": {
          "base_uri": "https://localhost:8080/",
          "height": 226
        },
        "id": "TKdSVQlJf_t9",
        "scrolled": true,
        "outputId": "ec0a77ac-1325-4ebe-ccee-288725e3d582"
      },
      "source": [
        "telco_customer.head()"
      ],
      "execution_count": 3,
      "outputs": [
        {
          "output_type": "execute_result",
          "data": {
            "text/html": [
              "<div>\n",
              "<style scoped>\n",
              "    .dataframe tbody tr th:only-of-type {\n",
              "        vertical-align: middle;\n",
              "    }\n",
              "\n",
              "    .dataframe tbody tr th {\n",
              "        vertical-align: top;\n",
              "    }\n",
              "\n",
              "    .dataframe thead th {\n",
              "        text-align: right;\n",
              "    }\n",
              "</style>\n",
              "<table border=\"1\" class=\"dataframe\">\n",
              "  <thead>\n",
              "    <tr style=\"text-align: right;\">\n",
              "      <th></th>\n",
              "      <th>state</th>\n",
              "      <th>account_length</th>\n",
              "      <th>area_code</th>\n",
              "      <th>international_plan</th>\n",
              "      <th>voice_mail_plan</th>\n",
              "      <th>number_vmail_messages</th>\n",
              "      <th>total_day_minutes</th>\n",
              "      <th>total_day_calls</th>\n",
              "      <th>total_day_charge</th>\n",
              "      <th>total_eve_minutes</th>\n",
              "      <th>total_eve_calls</th>\n",
              "      <th>total_eve_charge</th>\n",
              "      <th>total_night_minutes</th>\n",
              "      <th>total_night_calls</th>\n",
              "      <th>total_night_charge</th>\n",
              "      <th>total_intl_minutes</th>\n",
              "      <th>total_intl_calls</th>\n",
              "      <th>total_intl_charge</th>\n",
              "      <th>number_customer_service_calls</th>\n",
              "      <th>churn</th>\n",
              "    </tr>\n",
              "  </thead>\n",
              "  <tbody>\n",
              "    <tr>\n",
              "      <th>0</th>\n",
              "      <td>OH</td>\n",
              "      <td>107.0</td>\n",
              "      <td>area_code_415</td>\n",
              "      <td>no</td>\n",
              "      <td>yes</td>\n",
              "      <td>26.0</td>\n",
              "      <td>161.6</td>\n",
              "      <td>123.0</td>\n",
              "      <td>27.47</td>\n",
              "      <td>195.5</td>\n",
              "      <td>103.0</td>\n",
              "      <td>16.62</td>\n",
              "      <td>254.4</td>\n",
              "      <td>103.0</td>\n",
              "      <td>11.45</td>\n",
              "      <td>13.7</td>\n",
              "      <td>3.0</td>\n",
              "      <td>3.70</td>\n",
              "      <td>1.0</td>\n",
              "      <td>no</td>\n",
              "    </tr>\n",
              "    <tr>\n",
              "      <th>1</th>\n",
              "      <td>NJ</td>\n",
              "      <td>137.0</td>\n",
              "      <td>area_code_415</td>\n",
              "      <td>no</td>\n",
              "      <td>no</td>\n",
              "      <td>0.0</td>\n",
              "      <td>243.4</td>\n",
              "      <td>114.0</td>\n",
              "      <td>41.38</td>\n",
              "      <td>121.2</td>\n",
              "      <td>110.0</td>\n",
              "      <td>10.30</td>\n",
              "      <td>162.6</td>\n",
              "      <td>104.0</td>\n",
              "      <td>7.32</td>\n",
              "      <td>12.2</td>\n",
              "      <td>5.0</td>\n",
              "      <td>3.29</td>\n",
              "      <td>0.0</td>\n",
              "      <td>no</td>\n",
              "    </tr>\n",
              "    <tr>\n",
              "      <th>2</th>\n",
              "      <td>OH</td>\n",
              "      <td>84.0</td>\n",
              "      <td>area_code_408</td>\n",
              "      <td>yes</td>\n",
              "      <td>no</td>\n",
              "      <td>0.0</td>\n",
              "      <td>299.4</td>\n",
              "      <td>71.0</td>\n",
              "      <td>50.90</td>\n",
              "      <td>61.9</td>\n",
              "      <td>88.0</td>\n",
              "      <td>5.26</td>\n",
              "      <td>196.9</td>\n",
              "      <td>89.0</td>\n",
              "      <td>8.86</td>\n",
              "      <td>6.6</td>\n",
              "      <td>7.0</td>\n",
              "      <td>1.78</td>\n",
              "      <td>2.0</td>\n",
              "      <td>no</td>\n",
              "    </tr>\n",
              "    <tr>\n",
              "      <th>3</th>\n",
              "      <td>OK</td>\n",
              "      <td>75.0</td>\n",
              "      <td>area_code_415</td>\n",
              "      <td>yes</td>\n",
              "      <td>no</td>\n",
              "      <td>0.0</td>\n",
              "      <td>166.7</td>\n",
              "      <td>113.0</td>\n",
              "      <td>28.34</td>\n",
              "      <td>148.3</td>\n",
              "      <td>122.0</td>\n",
              "      <td>12.61</td>\n",
              "      <td>186.9</td>\n",
              "      <td>121.0</td>\n",
              "      <td>8.41</td>\n",
              "      <td>10.1</td>\n",
              "      <td>3.0</td>\n",
              "      <td>2.73</td>\n",
              "      <td>3.0</td>\n",
              "      <td>no</td>\n",
              "    </tr>\n",
              "    <tr>\n",
              "      <th>4</th>\n",
              "      <td>MA</td>\n",
              "      <td>121.0</td>\n",
              "      <td>area_code_510</td>\n",
              "      <td>no</td>\n",
              "      <td>yes</td>\n",
              "      <td>24.0</td>\n",
              "      <td>218.2</td>\n",
              "      <td>88.0</td>\n",
              "      <td>37.09</td>\n",
              "      <td>348.5</td>\n",
              "      <td>108.0</td>\n",
              "      <td>29.62</td>\n",
              "      <td>212.6</td>\n",
              "      <td>118.0</td>\n",
              "      <td>9.57</td>\n",
              "      <td>7.5</td>\n",
              "      <td>7.0</td>\n",
              "      <td>2.03</td>\n",
              "      <td>3.0</td>\n",
              "      <td>no</td>\n",
              "    </tr>\n",
              "  </tbody>\n",
              "</table>\n",
              "</div>"
            ],
            "text/plain": [
              "  state  account_length  ... number_customer_service_calls churn\n",
              "0    OH           107.0  ...                           1.0    no\n",
              "1    NJ           137.0  ...                           0.0    no\n",
              "2    OH            84.0  ...                           2.0    no\n",
              "3    OK            75.0  ...                           3.0    no\n",
              "4    MA           121.0  ...                           3.0    no\n",
              "\n",
              "[5 rows x 20 columns]"
            ]
          },
          "metadata": {},
          "execution_count": 3
        }
      ]
    },
    {
      "cell_type": "code",
      "metadata": {
        "colab": {
          "base_uri": "https://localhost:8080/"
        },
        "id": "042NcXwHgGxi",
        "outputId": "770b4660-9a7f-4c67-b097-e899822eff19"
      },
      "source": [
        "telco_customer.info()"
      ],
      "execution_count": 4,
      "outputs": [
        {
          "output_type": "stream",
          "text": [
            "<class 'pandas.core.frame.DataFrame'>\n",
            "RangeIndex: 4250 entries, 0 to 4249\n",
            "Data columns (total 20 columns):\n",
            " #   Column                         Non-Null Count  Dtype  \n",
            "---  ------                         --------------  -----  \n",
            " 0   state                          4232 non-null   object \n",
            " 1   account_length                 4216 non-null   float64\n",
            " 2   area_code                      4234 non-null   object \n",
            " 3   international_plan             4250 non-null   object \n",
            " 4   voice_mail_plan                4237 non-null   object \n",
            " 5   number_vmail_messages          4216 non-null   float64\n",
            " 6   total_day_minutes              4240 non-null   float64\n",
            " 7   total_day_calls                4248 non-null   float64\n",
            " 8   total_day_charge               4242 non-null   float64\n",
            " 9   total_eve_minutes              4215 non-null   float64\n",
            " 10  total_eve_calls                4233 non-null   float64\n",
            " 11  total_eve_charge               4242 non-null   float64\n",
            " 12  total_night_minutes            4248 non-null   float64\n",
            " 13  total_night_calls              4245 non-null   float64\n",
            " 14  total_night_charge             4243 non-null   float64\n",
            " 15  total_intl_minutes             4245 non-null   float64\n",
            " 16  total_intl_calls               4237 non-null   float64\n",
            " 17  total_intl_charge              4220 non-null   float64\n",
            " 18  number_customer_service_calls  4247 non-null   float64\n",
            " 19  churn                          4228 non-null   object \n",
            "dtypes: float64(15), object(5)\n",
            "memory usage: 664.2+ KB\n"
          ],
          "name": "stdout"
        }
      ]
    },
    {
      "cell_type": "markdown",
      "metadata": {
        "id": "bElDwhLkZyGD"
      },
      "source": [
        "**Encoding Categorical Data**"
      ]
    },
    {
      "cell_type": "code",
      "metadata": {
        "colab": {
          "base_uri": "https://localhost:8080/",
          "height": 226
        },
        "id": "jie8ksPwPQCK",
        "outputId": "8f48b58a-e0ac-44c8-bc4d-af672f191457"
      },
      "source": [
        "telco_customer['international_plan']=telco_customer['international_plan'].astype('category').cat.codes\n",
        "telco_customer['voice_mail_plan']=telco_customer['voice_mail_plan'].astype('category').cat.codes\n",
        "telco_customer['area_code']=telco_customer['area_code'].astype('category').cat.codes\n",
        "telco_customer['state']=telco_customer['state'].astype('category').cat.codes\n",
        "telco_customer.head()\n"
      ],
      "execution_count": 5,
      "outputs": [
        {
          "output_type": "execute_result",
          "data": {
            "text/html": [
              "<div>\n",
              "<style scoped>\n",
              "    .dataframe tbody tr th:only-of-type {\n",
              "        vertical-align: middle;\n",
              "    }\n",
              "\n",
              "    .dataframe tbody tr th {\n",
              "        vertical-align: top;\n",
              "    }\n",
              "\n",
              "    .dataframe thead th {\n",
              "        text-align: right;\n",
              "    }\n",
              "</style>\n",
              "<table border=\"1\" class=\"dataframe\">\n",
              "  <thead>\n",
              "    <tr style=\"text-align: right;\">\n",
              "      <th></th>\n",
              "      <th>state</th>\n",
              "      <th>account_length</th>\n",
              "      <th>area_code</th>\n",
              "      <th>international_plan</th>\n",
              "      <th>voice_mail_plan</th>\n",
              "      <th>number_vmail_messages</th>\n",
              "      <th>total_day_minutes</th>\n",
              "      <th>total_day_calls</th>\n",
              "      <th>total_day_charge</th>\n",
              "      <th>total_eve_minutes</th>\n",
              "      <th>total_eve_calls</th>\n",
              "      <th>total_eve_charge</th>\n",
              "      <th>total_night_minutes</th>\n",
              "      <th>total_night_calls</th>\n",
              "      <th>total_night_charge</th>\n",
              "      <th>total_intl_minutes</th>\n",
              "      <th>total_intl_calls</th>\n",
              "      <th>total_intl_charge</th>\n",
              "      <th>number_customer_service_calls</th>\n",
              "      <th>churn</th>\n",
              "    </tr>\n",
              "  </thead>\n",
              "  <tbody>\n",
              "    <tr>\n",
              "      <th>0</th>\n",
              "      <td>35</td>\n",
              "      <td>107.0</td>\n",
              "      <td>1</td>\n",
              "      <td>0</td>\n",
              "      <td>1</td>\n",
              "      <td>26.0</td>\n",
              "      <td>161.6</td>\n",
              "      <td>123.0</td>\n",
              "      <td>27.47</td>\n",
              "      <td>195.5</td>\n",
              "      <td>103.0</td>\n",
              "      <td>16.62</td>\n",
              "      <td>254.4</td>\n",
              "      <td>103.0</td>\n",
              "      <td>11.45</td>\n",
              "      <td>13.7</td>\n",
              "      <td>3.0</td>\n",
              "      <td>3.70</td>\n",
              "      <td>1.0</td>\n",
              "      <td>no</td>\n",
              "    </tr>\n",
              "    <tr>\n",
              "      <th>1</th>\n",
              "      <td>31</td>\n",
              "      <td>137.0</td>\n",
              "      <td>1</td>\n",
              "      <td>0</td>\n",
              "      <td>0</td>\n",
              "      <td>0.0</td>\n",
              "      <td>243.4</td>\n",
              "      <td>114.0</td>\n",
              "      <td>41.38</td>\n",
              "      <td>121.2</td>\n",
              "      <td>110.0</td>\n",
              "      <td>10.30</td>\n",
              "      <td>162.6</td>\n",
              "      <td>104.0</td>\n",
              "      <td>7.32</td>\n",
              "      <td>12.2</td>\n",
              "      <td>5.0</td>\n",
              "      <td>3.29</td>\n",
              "      <td>0.0</td>\n",
              "      <td>no</td>\n",
              "    </tr>\n",
              "    <tr>\n",
              "      <th>2</th>\n",
              "      <td>35</td>\n",
              "      <td>84.0</td>\n",
              "      <td>0</td>\n",
              "      <td>1</td>\n",
              "      <td>0</td>\n",
              "      <td>0.0</td>\n",
              "      <td>299.4</td>\n",
              "      <td>71.0</td>\n",
              "      <td>50.90</td>\n",
              "      <td>61.9</td>\n",
              "      <td>88.0</td>\n",
              "      <td>5.26</td>\n",
              "      <td>196.9</td>\n",
              "      <td>89.0</td>\n",
              "      <td>8.86</td>\n",
              "      <td>6.6</td>\n",
              "      <td>7.0</td>\n",
              "      <td>1.78</td>\n",
              "      <td>2.0</td>\n",
              "      <td>no</td>\n",
              "    </tr>\n",
              "    <tr>\n",
              "      <th>3</th>\n",
              "      <td>36</td>\n",
              "      <td>75.0</td>\n",
              "      <td>1</td>\n",
              "      <td>1</td>\n",
              "      <td>0</td>\n",
              "      <td>0.0</td>\n",
              "      <td>166.7</td>\n",
              "      <td>113.0</td>\n",
              "      <td>28.34</td>\n",
              "      <td>148.3</td>\n",
              "      <td>122.0</td>\n",
              "      <td>12.61</td>\n",
              "      <td>186.9</td>\n",
              "      <td>121.0</td>\n",
              "      <td>8.41</td>\n",
              "      <td>10.1</td>\n",
              "      <td>3.0</td>\n",
              "      <td>2.73</td>\n",
              "      <td>3.0</td>\n",
              "      <td>no</td>\n",
              "    </tr>\n",
              "    <tr>\n",
              "      <th>4</th>\n",
              "      <td>19</td>\n",
              "      <td>121.0</td>\n",
              "      <td>2</td>\n",
              "      <td>0</td>\n",
              "      <td>1</td>\n",
              "      <td>24.0</td>\n",
              "      <td>218.2</td>\n",
              "      <td>88.0</td>\n",
              "      <td>37.09</td>\n",
              "      <td>348.5</td>\n",
              "      <td>108.0</td>\n",
              "      <td>29.62</td>\n",
              "      <td>212.6</td>\n",
              "      <td>118.0</td>\n",
              "      <td>9.57</td>\n",
              "      <td>7.5</td>\n",
              "      <td>7.0</td>\n",
              "      <td>2.03</td>\n",
              "      <td>3.0</td>\n",
              "      <td>no</td>\n",
              "    </tr>\n",
              "  </tbody>\n",
              "</table>\n",
              "</div>"
            ],
            "text/plain": [
              "   state  account_length  ...  number_customer_service_calls  churn\n",
              "0     35           107.0  ...                            1.0     no\n",
              "1     31           137.0  ...                            0.0     no\n",
              "2     35            84.0  ...                            2.0     no\n",
              "3     36            75.0  ...                            3.0     no\n",
              "4     19           121.0  ...                            3.0     no\n",
              "\n",
              "[5 rows x 20 columns]"
            ]
          },
          "metadata": {},
          "execution_count": 5
        }
      ]
    },
    {
      "cell_type": "markdown",
      "metadata": {
        "id": "qogVEOXC1vtg"
      },
      "source": [
        "**Checking Imbalanced Data**"
      ]
    },
    {
      "cell_type": "code",
      "metadata": {
        "colab": {
          "base_uri": "https://localhost:8080/"
        },
        "id": "gKm-fwMc1vJc",
        "outputId": "55c7f7c4-5c70-42d5-8f08-ea9c5c15ca97"
      },
      "source": [
        "target_count = telco_customer['churn'].value_counts()\n",
        "print('No Churn:', target_count[0])\n",
        "print('Churn:', target_count[1])"
      ],
      "execution_count": 6,
      "outputs": [
        {
          "output_type": "stream",
          "text": [
            "No Churn: 3634\n",
            "Churn: 594\n"
          ],
          "name": "stdout"
        }
      ]
    },
    {
      "cell_type": "markdown",
      "metadata": {
        "id": "_NpJaOd2YiTE"
      },
      "source": [
        "**Skewness of numerical features**"
      ]
    },
    {
      "cell_type": "code",
      "metadata": {
        "colab": {
          "base_uri": "https://localhost:8080/"
        },
        "id": "F5cLlyk_chTz",
        "outputId": "6c0f7e82-1dfb-4d15-fa80-dfa748fc83cf"
      },
      "source": [
        "for col in telco_customer.columns[~telco_customer.columns.isin(['churn'])]:\n",
        "  print(col,telco_customer[col].skew())"
      ],
      "execution_count": 7,
      "outputs": [
        {
          "output_type": "stream",
          "text": [
            "state -0.06080213040903678\n",
            "account_length 0.1268316461253467\n",
            "area_code -0.040251724449793726\n",
            "international_plan 2.800108521822102\n",
            "voice_mail_plan 1.0009869540132517\n",
            "number_vmail_messages 1.3677764565575425\n",
            "total_day_minutes -0.00806604810577159\n",
            "total_day_calls -0.08592918726283431\n",
            "total_day_charge -0.006588931686722552\n",
            "total_eve_minutes -0.028783392726859886\n",
            "total_eve_calls -0.02652599850243013\n",
            "total_eve_charge -0.0303235056412153\n",
            "total_night_minutes 0.009185789590414285\n",
            "total_night_calls 0.004321197371724993\n",
            "total_night_charge 0.007870314590049787\n",
            "total_intl_minutes -0.24228848731042327\n",
            "total_intl_calls 1.3597269223539128\n",
            "total_intl_charge -0.2447346909143826\n",
            "number_customer_service_calls 1.0819789789664567\n"
          ],
          "name": "stdout"
        }
      ]
    },
    {
      "cell_type": "markdown",
      "metadata": {
        "id": "PYHuAo0CqZAG"
      },
      "source": [
        "**Checking Null Values**"
      ]
    },
    {
      "cell_type": "code",
      "metadata": {
        "colab": {
          "base_uri": "https://localhost:8080/"
        },
        "id": "JLC5T4qfgEt_",
        "outputId": "e9576fa3-cd54-4130-ffd8-b3aa4d85c7fc"
      },
      "source": [
        "telco_customer.isnull().sum()"
      ],
      "execution_count": 8,
      "outputs": [
        {
          "output_type": "execute_result",
          "data": {
            "text/plain": [
              "state                             0\n",
              "account_length                   34\n",
              "area_code                         0\n",
              "international_plan                0\n",
              "voice_mail_plan                   0\n",
              "number_vmail_messages            34\n",
              "total_day_minutes                10\n",
              "total_day_calls                   2\n",
              "total_day_charge                  8\n",
              "total_eve_minutes                35\n",
              "total_eve_calls                  17\n",
              "total_eve_charge                  8\n",
              "total_night_minutes               2\n",
              "total_night_calls                 5\n",
              "total_night_charge                7\n",
              "total_intl_minutes                5\n",
              "total_intl_calls                 13\n",
              "total_intl_charge                30\n",
              "number_customer_service_calls     3\n",
              "churn                            22\n",
              "dtype: int64"
            ]
          },
          "metadata": {},
          "execution_count": 8
        }
      ]
    },
    {
      "cell_type": "markdown",
      "metadata": {
        "id": "g5nLZvVOZyGH"
      },
      "source": [
        "**Filling Null Values**"
      ]
    },
    {
      "cell_type": "code",
      "metadata": {
        "id": "A5u8YaUbak0c"
      },
      "source": [
        "for col in telco_customer.columns[~telco_customer.columns.isin(['state','area_code','churn','international_plan','voice_mail_plan'])]:\n",
        "    telco_customer[col] =  telco_customer[col].fillna(telco_customer[col].median())\n",
        "\n",
        "for col in telco_customer[['state','area_code','churn','international_plan','voice_mail_plan']]:\n",
        "    telco_customer[col] =  telco_customer[col].fillna(telco_customer[col].mode()[0])    "
      ],
      "execution_count": 9,
      "outputs": []
    },
    {
      "cell_type": "markdown",
      "metadata": {
        "id": "u1KLit9kqv9w"
      },
      "source": [
        "**Checking if any more null value remains**"
      ]
    },
    {
      "cell_type": "code",
      "metadata": {
        "colab": {
          "base_uri": "https://localhost:8080/"
        },
        "id": "2luhUgK1hGOv",
        "outputId": "22cc26f0-08fd-4435-9340-b53e973ba0ce"
      },
      "source": [
        "telco_customer.isna().any()"
      ],
      "execution_count": 10,
      "outputs": [
        {
          "output_type": "execute_result",
          "data": {
            "text/plain": [
              "state                            False\n",
              "account_length                   False\n",
              "area_code                        False\n",
              "international_plan               False\n",
              "voice_mail_plan                  False\n",
              "number_vmail_messages            False\n",
              "total_day_minutes                False\n",
              "total_day_calls                  False\n",
              "total_day_charge                 False\n",
              "total_eve_minutes                False\n",
              "total_eve_calls                  False\n",
              "total_eve_charge                 False\n",
              "total_night_minutes              False\n",
              "total_night_calls                False\n",
              "total_night_charge               False\n",
              "total_intl_minutes               False\n",
              "total_intl_calls                 False\n",
              "total_intl_charge                False\n",
              "number_customer_service_calls    False\n",
              "churn                            False\n",
              "dtype: bool"
            ]
          },
          "metadata": {},
          "execution_count": 10
        }
      ]
    },
    {
      "cell_type": "markdown",
      "metadata": {
        "id": "jEJeWhMhZyGI"
      },
      "source": [
        "**Label Encoding of target variable**"
      ]
    },
    {
      "cell_type": "code",
      "metadata": {
        "id": "TMUK6ZwUZyGI"
      },
      "source": [
        "le=LabelEncoder()\n",
        "telco_customer['churn'] = le.fit_transform(telco_customer['churn'])"
      ],
      "execution_count": 11,
      "outputs": []
    },
    {
      "cell_type": "markdown",
      "metadata": {
        "id": "JPIwyr6wq6Rw"
      },
      "source": [
        "**Seperate Features & Target Variable**"
      ]
    },
    {
      "cell_type": "code",
      "metadata": {
        "id": "m2ipmXMfmTkW"
      },
      "source": [
        "X = telco_customer.drop('churn',axis=1)\n",
        "y=telco_customer['churn']"
      ],
      "execution_count": 12,
      "outputs": []
    },
    {
      "cell_type": "markdown",
      "metadata": {
        "id": "9HQr_B0gZyGJ"
      },
      "source": [
        "**Feature Scaling**"
      ]
    },
    {
      "cell_type": "code",
      "metadata": {
        "id": "3uYjufGnZyGJ",
        "colab": {
          "base_uri": "https://localhost:8080/"
        },
        "outputId": "144386d9-044a-4669-f4de-02e645dea4fc"
      },
      "source": [
        "scaler = MinMaxScaler()\n",
        "X = scaler.fit_transform(X)\n",
        "X"
      ],
      "execution_count": 13,
      "outputs": [
        {
          "output_type": "execute_result",
          "data": {
            "text/plain": [
              "array([[0.70588235, 0.43801653, 0.66666667, ..., 0.15      , 0.68518519,\n",
              "        0.11111111],\n",
              "       [0.62745098, 0.56198347, 0.66666667, ..., 0.25      , 0.60925926,\n",
              "        0.        ],\n",
              "       [0.70588235, 0.34297521, 0.33333333, ..., 0.35      , 0.32962963,\n",
              "        0.22222222],\n",
              "       ...,\n",
              "       [0.54901961, 0.30578512, 0.33333333, ..., 0.35      , 0.34444444,\n",
              "        0.11111111],\n",
              "       [0.23529412, 0.20247934, 0.33333333, ..., 0.25      , 0.49444444,\n",
              "        0.22222222],\n",
              "       [0.92156863, 0.35123967, 0.66666667, ..., 0.8       , 0.46481481,\n",
              "        0.        ]])"
            ]
          },
          "metadata": {},
          "execution_count": 13
        }
      ]
    },
    {
      "cell_type": "code",
      "metadata": {
        "id": "a44GLB8uZyGJ",
        "colab": {
          "base_uri": "https://localhost:8080/"
        },
        "outputId": "47f92f67-59a9-400d-83b9-7449bdc09173"
      },
      "source": [
        "X.shape"
      ],
      "execution_count": 14,
      "outputs": [
        {
          "output_type": "execute_result",
          "data": {
            "text/plain": [
              "(4250, 19)"
            ]
          },
          "metadata": {},
          "execution_count": 14
        }
      ]
    },
    {
      "cell_type": "markdown",
      "metadata": {
        "id": "cWwQCL_mZyGJ"
      },
      "source": [
        "**Performing PCA**"
      ]
    },
    {
      "cell_type": "code",
      "metadata": {
        "id": "bQJMAB59ZyGK"
      },
      "source": [
        "pca = PCA(random_state=17)\n",
        "df_X_pca = pca.fit_transform(X)\n"
      ],
      "execution_count": 15,
      "outputs": []
    },
    {
      "cell_type": "code",
      "metadata": {
        "id": "By_WFWUbZyGK",
        "colab": {
          "base_uri": "https://localhost:8080/"
        },
        "outputId": "fae26b85-adf1-4518-8302-45cd36ccf9fb"
      },
      "source": [
        "tot = sum(pca.explained_variance_) # total explained variance of all principal components\n",
        "var_exp = [(i / tot) * 100 for i in sorted(pca.explained_variance_, reverse=True)] # individual explained variance\n",
        "cum_var_exp = np.cumsum(var_exp) # cumulative explained variance\n",
        "cum_var_exp"
      ],
      "execution_count": 16,
      "outputs": [
        {
          "output_type": "execute_result",
          "data": {
            "text/plain": [
              "array([ 18.74738243,  32.87831676,  46.79447592,  56.30006   ,\n",
              "        64.0978233 ,  70.5376636 ,  76.77940128,  82.14808722,\n",
              "        86.56417849,  90.07686102,  92.57985154,  94.96813748,\n",
              "        97.23129996,  99.39947539,  99.962837  ,  99.97711402,\n",
              "        99.99127761,  99.99758163, 100.        ])"
            ]
          },
          "metadata": {},
          "execution_count": 16
        }
      ]
    },
    {
      "cell_type": "markdown",
      "metadata": {
        "id": "cdcunSqbZyGK"
      },
      "source": [
        "As per the graph, first 10 features are giving around 80% cumilative explained variance, we will consider first 10 columns"
      ]
    },
    {
      "cell_type": "code",
      "metadata": {
        "id": "Qt4S1dk5ZyGK",
        "colab": {
          "base_uri": "https://localhost:8080/",
          "height": 423
        },
        "outputId": "e0047839-1f8b-4581-8994-a8c6661ff1b7"
      },
      "source": [
        "n_components = 10\n",
        "df_X_reduced = np.dot(df_X_pca, pca.components_[:n_components,:].T)\n",
        "df_X_reduced = pd.DataFrame(df_X_reduced, columns=[\"PC#%d\" % (x + 1) for x in range(n_components)])\n",
        "df_X_reduced"
      ],
      "execution_count": 17,
      "outputs": [
        {
          "output_type": "execute_result",
          "data": {
            "text/html": [
              "<div>\n",
              "<style scoped>\n",
              "    .dataframe tbody tr th:only-of-type {\n",
              "        vertical-align: middle;\n",
              "    }\n",
              "\n",
              "    .dataframe tbody tr th {\n",
              "        vertical-align: top;\n",
              "    }\n",
              "\n",
              "    .dataframe thead th {\n",
              "        text-align: right;\n",
              "    }\n",
              "</style>\n",
              "<table border=\"1\" class=\"dataframe\">\n",
              "  <thead>\n",
              "    <tr style=\"text-align: right;\">\n",
              "      <th></th>\n",
              "      <th>PC#1</th>\n",
              "      <th>PC#2</th>\n",
              "      <th>PC#3</th>\n",
              "      <th>PC#4</th>\n",
              "      <th>PC#5</th>\n",
              "      <th>PC#6</th>\n",
              "      <th>PC#7</th>\n",
              "      <th>PC#8</th>\n",
              "      <th>PC#9</th>\n",
              "      <th>PC#10</th>\n",
              "    </tr>\n",
              "  </thead>\n",
              "  <tbody>\n",
              "    <tr>\n",
              "      <th>0</th>\n",
              "      <td>0.056316</td>\n",
              "      <td>0.226239</td>\n",
              "      <td>-0.427871</td>\n",
              "      <td>0.271765</td>\n",
              "      <td>0.139918</td>\n",
              "      <td>0.148895</td>\n",
              "      <td>0.025693</td>\n",
              "      <td>0.047559</td>\n",
              "      <td>0.018191</td>\n",
              "      <td>0.014491</td>\n",
              "    </tr>\n",
              "    <tr>\n",
              "      <th>1</th>\n",
              "      <td>0.084135</td>\n",
              "      <td>-0.116709</td>\n",
              "      <td>0.168436</td>\n",
              "      <td>0.099893</td>\n",
              "      <td>-0.029316</td>\n",
              "      <td>0.173983</td>\n",
              "      <td>0.025417</td>\n",
              "      <td>0.037872</td>\n",
              "      <td>-0.021739</td>\n",
              "      <td>-0.007095</td>\n",
              "    </tr>\n",
              "    <tr>\n",
              "      <th>2</th>\n",
              "      <td>0.090330</td>\n",
              "      <td>0.278189</td>\n",
              "      <td>0.388679</td>\n",
              "      <td>-0.308074</td>\n",
              "      <td>-0.108234</td>\n",
              "      <td>-0.140447</td>\n",
              "      <td>-0.022417</td>\n",
              "      <td>0.004583</td>\n",
              "      <td>0.838069</td>\n",
              "      <td>0.004426</td>\n",
              "    </tr>\n",
              "    <tr>\n",
              "      <th>3</th>\n",
              "      <td>0.253671</td>\n",
              "      <td>-0.015896</td>\n",
              "      <td>0.181614</td>\n",
              "      <td>-0.318895</td>\n",
              "      <td>0.034554</td>\n",
              "      <td>-0.019990</td>\n",
              "      <td>0.000322</td>\n",
              "      <td>0.118436</td>\n",
              "      <td>0.844173</td>\n",
              "      <td>-0.005835</td>\n",
              "    </tr>\n",
              "    <tr>\n",
              "      <th>4</th>\n",
              "      <td>-0.614760</td>\n",
              "      <td>-0.034216</td>\n",
              "      <td>-0.528045</td>\n",
              "      <td>-0.011921</td>\n",
              "      <td>-0.140894</td>\n",
              "      <td>-0.207607</td>\n",
              "      <td>-0.063667</td>\n",
              "      <td>0.055109</td>\n",
              "      <td>-0.069759</td>\n",
              "      <td>0.004465</td>\n",
              "    </tr>\n",
              "    <tr>\n",
              "      <th>...</th>\n",
              "      <td>...</td>\n",
              "      <td>...</td>\n",
              "      <td>...</td>\n",
              "      <td>...</td>\n",
              "      <td>...</td>\n",
              "      <td>...</td>\n",
              "      <td>...</td>\n",
              "      <td>...</td>\n",
              "      <td>...</td>\n",
              "      <td>...</td>\n",
              "    </tr>\n",
              "    <tr>\n",
              "      <th>4245</th>\n",
              "      <td>-0.122503</td>\n",
              "      <td>-0.128773</td>\n",
              "      <td>0.168462</td>\n",
              "      <td>0.014665</td>\n",
              "      <td>0.071842</td>\n",
              "      <td>-0.018331</td>\n",
              "      <td>0.007371</td>\n",
              "      <td>-0.030257</td>\n",
              "      <td>-0.080345</td>\n",
              "      <td>-0.003787</td>\n",
              "    </tr>\n",
              "    <tr>\n",
              "      <th>4246</th>\n",
              "      <td>0.252561</td>\n",
              "      <td>0.121000</td>\n",
              "      <td>0.371373</td>\n",
              "      <td>0.413629</td>\n",
              "      <td>0.162615</td>\n",
              "      <td>-0.131669</td>\n",
              "      <td>-0.006915</td>\n",
              "      <td>-0.091192</td>\n",
              "      <td>0.110898</td>\n",
              "      <td>0.009491</td>\n",
              "    </tr>\n",
              "    <tr>\n",
              "      <th>4247</th>\n",
              "      <td>0.009883</td>\n",
              "      <td>0.172036</td>\n",
              "      <td>0.354384</td>\n",
              "      <td>0.058821</td>\n",
              "      <td>-0.059885</td>\n",
              "      <td>0.042290</td>\n",
              "      <td>0.013155</td>\n",
              "      <td>0.079730</td>\n",
              "      <td>-0.112297</td>\n",
              "      <td>-0.010284</td>\n",
              "    </tr>\n",
              "    <tr>\n",
              "      <th>4248</th>\n",
              "      <td>-0.307700</td>\n",
              "      <td>0.630380</td>\n",
              "      <td>-0.446666</td>\n",
              "      <td>-0.073493</td>\n",
              "      <td>0.166325</td>\n",
              "      <td>0.084039</td>\n",
              "      <td>0.040495</td>\n",
              "      <td>-0.024268</td>\n",
              "      <td>-0.233467</td>\n",
              "      <td>0.027931</td>\n",
              "    </tr>\n",
              "    <tr>\n",
              "      <th>4249</th>\n",
              "      <td>-0.135098</td>\n",
              "      <td>0.285776</td>\n",
              "      <td>-0.451306</td>\n",
              "      <td>0.480797</td>\n",
              "      <td>0.037005</td>\n",
              "      <td>0.077982</td>\n",
              "      <td>-0.000813</td>\n",
              "      <td>-0.025208</td>\n",
              "      <td>0.158602</td>\n",
              "      <td>0.012726</td>\n",
              "    </tr>\n",
              "  </tbody>\n",
              "</table>\n",
              "<p>4250 rows × 10 columns</p>\n",
              "</div>"
            ],
            "text/plain": [
              "          PC#1      PC#2      PC#3  ...      PC#8      PC#9     PC#10\n",
              "0     0.056316  0.226239 -0.427871  ...  0.047559  0.018191  0.014491\n",
              "1     0.084135 -0.116709  0.168436  ...  0.037872 -0.021739 -0.007095\n",
              "2     0.090330  0.278189  0.388679  ...  0.004583  0.838069  0.004426\n",
              "3     0.253671 -0.015896  0.181614  ...  0.118436  0.844173 -0.005835\n",
              "4    -0.614760 -0.034216 -0.528045  ...  0.055109 -0.069759  0.004465\n",
              "...        ...       ...       ...  ...       ...       ...       ...\n",
              "4245 -0.122503 -0.128773  0.168462  ... -0.030257 -0.080345 -0.003787\n",
              "4246  0.252561  0.121000  0.371373  ... -0.091192  0.110898  0.009491\n",
              "4247  0.009883  0.172036  0.354384  ...  0.079730 -0.112297 -0.010284\n",
              "4248 -0.307700  0.630380 -0.446666  ... -0.024268 -0.233467  0.027931\n",
              "4249 -0.135098  0.285776 -0.451306  ... -0.025208  0.158602  0.012726\n",
              "\n",
              "[4250 rows x 10 columns]"
            ]
          },
          "metadata": {},
          "execution_count": 17
        }
      ]
    },
    {
      "cell_type": "markdown",
      "metadata": {
        "id": "kxVWJejYZyGK"
      },
      "source": [
        "**Train Test Split**"
      ]
    },
    {
      "cell_type": "code",
      "metadata": {
        "id": "IPs0st0yZyGK"
      },
      "source": [
        "X_train, X_test, y_train, y_test = train_test_split(X, y, test_size=0.2, random_state=17)\n",
        "X_train_pca, X_test_pca, y_train_pca, y_test_pca = train_test_split(df_X_reduced, y, test_size=0.2, random_state=17)\n"
      ],
      "execution_count": 18,
      "outputs": []
    },
    {
      "cell_type": "markdown",
      "metadata": {
        "id": "aXRrxTiU8uZz"
      },
      "source": [
        "## **Random Forest Classifier Model**"
      ]
    },
    {
      "cell_type": "markdown",
      "metadata": {
        "id": "XVoqNxXp13Ys"
      },
      "source": [
        "**Best Hyperparameters for Random Forest Classifier Using RandomizedSearchCv**"
      ]
    },
    {
      "cell_type": "code",
      "metadata": {
        "colab": {
          "base_uri": "https://localhost:8080/"
        },
        "id": "GfUJkmqxZyGK",
        "outputId": "5c2c554a-8f25-4ca4-ba68-fddaed77d7f2"
      },
      "source": [
        "model = RandomForestClassifier()\n",
        "\n",
        "params = {\"criterion\": ['gini', 'entropy'],\n",
        "          \"max_features\" :['auto', 'log2'],\n",
        "          \"n_estimators\":range(100, 501, 10),\n",
        "          \"max_depth\":range(10,30),\n",
        "          \"min_samples_split\" : [2,5,10],\n",
        "          \"min_samples_leaf\" :[1, 2, 4],\n",
        "          \"bootstrap\" :[True, False]\n",
        "         }\n",
        "\n",
        "rf_randomized = RandomizedSearchCV(estimator = model ,\n",
        "                           param_distributions = params,\n",
        "                           n_iter = 10,cv = 10,verbose = 2,scoring='balanced_accuracy', n_jobs=-1)\n",
        "\n",
        "rf_randomized.fit(X_train_pca, y_train_pca)\n",
        "print(rf_randomized.best_estimator_)"
      ],
      "execution_count": 19,
      "outputs": [
        {
          "output_type": "stream",
          "text": [
            "Fitting 10 folds for each of 10 candidates, totalling 100 fits\n"
          ],
          "name": "stdout"
        },
        {
          "output_type": "stream",
          "text": [
            "[Parallel(n_jobs=-1)]: Using backend LokyBackend with 2 concurrent workers.\n",
            "[Parallel(n_jobs=-1)]: Done  37 tasks      | elapsed:  2.4min\n",
            "[Parallel(n_jobs=-1)]: Done 100 out of 100 | elapsed:  5.4min finished\n"
          ],
          "name": "stderr"
        },
        {
          "output_type": "stream",
          "text": [
            "RandomForestClassifier(bootstrap=False, ccp_alpha=0.0, class_weight=None,\n",
            "                       criterion='gini', max_depth=21, max_features='log2',\n",
            "                       max_leaf_nodes=None, max_samples=None,\n",
            "                       min_impurity_decrease=0.0, min_impurity_split=None,\n",
            "                       min_samples_leaf=1, min_samples_split=5,\n",
            "                       min_weight_fraction_leaf=0.0, n_estimators=380,\n",
            "                       n_jobs=None, oob_score=False, random_state=None,\n",
            "                       verbose=0, warm_start=False)\n"
          ],
          "name": "stdout"
        }
      ]
    },
    {
      "cell_type": "markdown",
      "metadata": {
        "id": "lQtMy8mQ9xct"
      },
      "source": [
        "**Model Prediction**"
      ]
    },
    {
      "cell_type": "code",
      "metadata": {
        "id": "hQUB212t9phl"
      },
      "source": [
        "rf = rf_randomized.best_estimator_\n",
        "rf.fit(X_train_pca,y_train_pca)\n",
        "prediction = rf.predict(X_test_pca)"
      ],
      "execution_count": 27,
      "outputs": []
    },
    {
      "cell_type": "markdown",
      "metadata": {
        "id": "NN_s2W3m9rl9"
      },
      "source": [
        "**Model Evaluation**"
      ]
    },
    {
      "cell_type": "code",
      "metadata": {
        "id": "W0DIaWqJi3JG",
        "colab": {
          "base_uri": "https://localhost:8080/"
        },
        "outputId": "3ff4c9d8-5569-4db7-f22c-6c5ecfa1e2da"
      },
      "source": [
        "conf_matrix = confusion_matrix(y_test_pca, prediction)\n",
        "acc_score = accuracy_score(y_test_pca, prediction)\n",
        "print(\"confusion matrix\")\n",
        "print(conf_matrix)\n",
        "print(\"\\n\")\n",
        "print(\"Model Accuracy:\",acc_score*100,'\\n')"
      ],
      "execution_count": 28,
      "outputs": [
        {
          "output_type": "stream",
          "text": [
            "confusion matrix\n",
            "[[700  24]\n",
            " [ 79  47]]\n",
            "\n",
            "\n",
            "Model Accuracy: 87.88235294117646 \n",
            "\n"
          ],
          "name": "stdout"
        }
      ]
    },
    {
      "cell_type": "markdown",
      "metadata": {
        "id": "xwMDket2s9ba"
      },
      "source": [
        "**Model with Stratified KFold Cross Validation**"
      ]
    },
    {
      "cell_type": "code",
      "metadata": {
        "id": "n5W5w9wOjLdG",
        "colab": {
          "base_uri": "https://localhost:8080/"
        },
        "outputId": "772495e7-da11-445f-ae8a-9763c1f3562d"
      },
      "source": [
        "rf = rf_randomized.best_estimator_\n",
        "\n",
        "accuracy=[]\n",
        "skf= StratifiedKFold(n_splits=10)\n",
        "skf.get_n_splits(df_X_reduced,y)\n",
        "for train_index, test_index in skf.split(df_X_reduced,y):\n",
        "    X1_train,X1_test=df_X_reduced.iloc[train_index],df_X_reduced.iloc[test_index]\n",
        "    y1_train,y1_test=y.iloc[train_index],y.iloc[test_index]\n",
        "                            \n",
        "    rf.fit(X1_train, y1_train)\n",
        "    prediction=rf.predict(X1_test)\n",
        "    score=accuracy_score(prediction,y1_test)\n",
        "    accuracy.append(score)\n",
        "\n",
        "print(accuracy)\n",
        "print(\"\\nMinimum Accuracy:\",np.amin(accuracy)*100)\n",
        "print(\"\\nMaximum Accuracy:\",np.amax(accuracy)*100)\n",
        "print(\"\\nMean Accuracy:\",np.array(accuracy).mean()*100)"
      ],
      "execution_count": 29,
      "outputs": [
        {
          "output_type": "stream",
          "text": [
            "[0.8635294117647059, 0.8847058823529412, 0.908235294117647, 0.88, 0.8964705882352941, 0.8823529411764706, 0.9129411764705883, 0.9035294117647059, 0.8823529411764706, 0.8894117647058823]\n",
            "\n",
            "Minimum Accuracy: 86.3529411764706\n",
            "\n",
            "Maximum Accuracy: 91.29411764705883\n",
            "\n",
            "Mean Accuracy: 89.03529411764704\n"
          ],
          "name": "stdout"
        }
      ]
    }
  ]
}