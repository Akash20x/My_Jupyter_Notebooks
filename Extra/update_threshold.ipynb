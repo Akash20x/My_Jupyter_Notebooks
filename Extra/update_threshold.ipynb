{
 "cells": [
  {
   "cell_type": "markdown",
   "metadata": {},
   "source": [
    "### **Importing Libraries** <a id=\"head1\"></a>"
   ]
  },
  {
   "cell_type": "code",
   "execution_count": 1,
   "metadata": {
    "id": "jfK-0jg0fJfT"
   },
   "outputs": [],
   "source": [
    "import numpy as np\n",
    "import pandas as pd\n",
    "                                                                                   \n",
    "from sklearn.model_selection import train_test_split\n",
    "from sklearn.decomposition import PCA\n",
    "\n",
    "from sklearn.model_selection import GridSearchCV\n",
    "from sklearn.metrics import accuracy_score, confusion_matrix,classification_report\n",
    "from sklearn.ensemble import RandomForestClassifier\n",
    "from sklearn.linear_model import LogisticRegression\n",
    "from sklearn.tree import DecisionTreeClassifier\n",
    "from sklearn.pipeline import Pipeline\n",
    "from sklearn.preprocessing import StandardScaler\n",
    "from sklearn.metrics import roc_curve,roc_auc_score\n",
    "\n",
    "from sklearn.compose import ColumnTransformer\n",
    "from sklearn.impute import SimpleImputer\n",
    "\n",
    "import pickle\n",
    "\n",
    "import warnings\n",
    "warnings.filterwarnings('ignore')"
   ]
  },
  {
   "cell_type": "markdown",
   "metadata": {},
   "source": [
    "### **Loading Data** <a id=\"head2\"></a>"
   ]
  },
  {
   "cell_type": "code",
   "execution_count": 2,
   "metadata": {
    "id": "4ZTH64Nbfmud"
   },
   "outputs": [],
   "source": [
    "telco_customer = pd.read_csv(\"ChurnTrainDataset.csv\")"
   ]
  },
  {
   "cell_type": "code",
   "execution_count": 3,
   "metadata": {},
   "outputs": [
    {
     "data": {
      "text/html": [
       "<div>\n",
       "<style scoped>\n",
       "    .dataframe tbody tr th:only-of-type {\n",
       "        vertical-align: middle;\n",
       "    }\n",
       "\n",
       "    .dataframe tbody tr th {\n",
       "        vertical-align: top;\n",
       "    }\n",
       "\n",
       "    .dataframe thead th {\n",
       "        text-align: right;\n",
       "    }\n",
       "</style>\n",
       "<table border=\"1\" class=\"dataframe\">\n",
       "  <thead>\n",
       "    <tr style=\"text-align: right;\">\n",
       "      <th></th>\n",
       "      <th>state</th>\n",
       "      <th>account_length</th>\n",
       "      <th>area_code</th>\n",
       "      <th>international_plan</th>\n",
       "      <th>voice_mail_plan</th>\n",
       "      <th>number_vmail_messages</th>\n",
       "      <th>total_day_minutes</th>\n",
       "      <th>total_day_calls</th>\n",
       "      <th>total_day_charge</th>\n",
       "      <th>total_eve_minutes</th>\n",
       "      <th>total_eve_calls</th>\n",
       "      <th>total_eve_charge</th>\n",
       "      <th>total_night_minutes</th>\n",
       "      <th>total_night_calls</th>\n",
       "      <th>total_night_charge</th>\n",
       "      <th>total_intl_minutes</th>\n",
       "      <th>total_intl_calls</th>\n",
       "      <th>total_intl_charge</th>\n",
       "      <th>number_customer_service_calls</th>\n",
       "      <th>churn</th>\n",
       "    </tr>\n",
       "  </thead>\n",
       "  <tbody>\n",
       "    <tr>\n",
       "      <th>0</th>\n",
       "      <td>OH</td>\n",
       "      <td>107.0</td>\n",
       "      <td>area_code_415</td>\n",
       "      <td>no</td>\n",
       "      <td>yes</td>\n",
       "      <td>26.0</td>\n",
       "      <td>161.6</td>\n",
       "      <td>123.0</td>\n",
       "      <td>27.47</td>\n",
       "      <td>195.5</td>\n",
       "      <td>103.0</td>\n",
       "      <td>16.62</td>\n",
       "      <td>254.4</td>\n",
       "      <td>103.0</td>\n",
       "      <td>11.45</td>\n",
       "      <td>13.7</td>\n",
       "      <td>3.0</td>\n",
       "      <td>3.70</td>\n",
       "      <td>1.0</td>\n",
       "      <td>no</td>\n",
       "    </tr>\n",
       "    <tr>\n",
       "      <th>1</th>\n",
       "      <td>NJ</td>\n",
       "      <td>137.0</td>\n",
       "      <td>area_code_415</td>\n",
       "      <td>no</td>\n",
       "      <td>no</td>\n",
       "      <td>0.0</td>\n",
       "      <td>243.4</td>\n",
       "      <td>114.0</td>\n",
       "      <td>41.38</td>\n",
       "      <td>121.2</td>\n",
       "      <td>110.0</td>\n",
       "      <td>10.30</td>\n",
       "      <td>162.6</td>\n",
       "      <td>104.0</td>\n",
       "      <td>7.32</td>\n",
       "      <td>12.2</td>\n",
       "      <td>5.0</td>\n",
       "      <td>3.29</td>\n",
       "      <td>0.0</td>\n",
       "      <td>no</td>\n",
       "    </tr>\n",
       "    <tr>\n",
       "      <th>2</th>\n",
       "      <td>OH</td>\n",
       "      <td>84.0</td>\n",
       "      <td>area_code_408</td>\n",
       "      <td>yes</td>\n",
       "      <td>no</td>\n",
       "      <td>0.0</td>\n",
       "      <td>299.4</td>\n",
       "      <td>71.0</td>\n",
       "      <td>50.90</td>\n",
       "      <td>61.9</td>\n",
       "      <td>88.0</td>\n",
       "      <td>5.26</td>\n",
       "      <td>196.9</td>\n",
       "      <td>89.0</td>\n",
       "      <td>8.86</td>\n",
       "      <td>6.6</td>\n",
       "      <td>7.0</td>\n",
       "      <td>1.78</td>\n",
       "      <td>2.0</td>\n",
       "      <td>no</td>\n",
       "    </tr>\n",
       "    <tr>\n",
       "      <th>3</th>\n",
       "      <td>OK</td>\n",
       "      <td>75.0</td>\n",
       "      <td>area_code_415</td>\n",
       "      <td>yes</td>\n",
       "      <td>no</td>\n",
       "      <td>0.0</td>\n",
       "      <td>166.7</td>\n",
       "      <td>113.0</td>\n",
       "      <td>28.34</td>\n",
       "      <td>148.3</td>\n",
       "      <td>122.0</td>\n",
       "      <td>12.61</td>\n",
       "      <td>186.9</td>\n",
       "      <td>121.0</td>\n",
       "      <td>8.41</td>\n",
       "      <td>10.1</td>\n",
       "      <td>3.0</td>\n",
       "      <td>2.73</td>\n",
       "      <td>3.0</td>\n",
       "      <td>no</td>\n",
       "    </tr>\n",
       "    <tr>\n",
       "      <th>4</th>\n",
       "      <td>MA</td>\n",
       "      <td>121.0</td>\n",
       "      <td>area_code_510</td>\n",
       "      <td>no</td>\n",
       "      <td>yes</td>\n",
       "      <td>24.0</td>\n",
       "      <td>218.2</td>\n",
       "      <td>88.0</td>\n",
       "      <td>37.09</td>\n",
       "      <td>348.5</td>\n",
       "      <td>108.0</td>\n",
       "      <td>29.62</td>\n",
       "      <td>212.6</td>\n",
       "      <td>118.0</td>\n",
       "      <td>9.57</td>\n",
       "      <td>7.5</td>\n",
       "      <td>7.0</td>\n",
       "      <td>2.03</td>\n",
       "      <td>3.0</td>\n",
       "      <td>no</td>\n",
       "    </tr>\n",
       "    <tr>\n",
       "      <th>...</th>\n",
       "      <td>...</td>\n",
       "      <td>...</td>\n",
       "      <td>...</td>\n",
       "      <td>...</td>\n",
       "      <td>...</td>\n",
       "      <td>...</td>\n",
       "      <td>...</td>\n",
       "      <td>...</td>\n",
       "      <td>...</td>\n",
       "      <td>...</td>\n",
       "      <td>...</td>\n",
       "      <td>...</td>\n",
       "      <td>...</td>\n",
       "      <td>...</td>\n",
       "      <td>...</td>\n",
       "      <td>...</td>\n",
       "      <td>...</td>\n",
       "      <td>...</td>\n",
       "      <td>...</td>\n",
       "      <td>...</td>\n",
       "    </tr>\n",
       "    <tr>\n",
       "      <th>4245</th>\n",
       "      <td>MT</td>\n",
       "      <td>83.0</td>\n",
       "      <td>area_code_415</td>\n",
       "      <td>no</td>\n",
       "      <td>no</td>\n",
       "      <td>0.0</td>\n",
       "      <td>188.3</td>\n",
       "      <td>70.0</td>\n",
       "      <td>32.01</td>\n",
       "      <td>243.8</td>\n",
       "      <td>88.0</td>\n",
       "      <td>20.72</td>\n",
       "      <td>213.7</td>\n",
       "      <td>79.0</td>\n",
       "      <td>9.62</td>\n",
       "      <td>10.3</td>\n",
       "      <td>6.0</td>\n",
       "      <td>2.78</td>\n",
       "      <td>0.0</td>\n",
       "      <td>no</td>\n",
       "    </tr>\n",
       "    <tr>\n",
       "      <th>4246</th>\n",
       "      <td>WV</td>\n",
       "      <td>73.0</td>\n",
       "      <td>area_code_408</td>\n",
       "      <td>no</td>\n",
       "      <td>no</td>\n",
       "      <td>0.0</td>\n",
       "      <td>177.9</td>\n",
       "      <td>89.0</td>\n",
       "      <td>30.24</td>\n",
       "      <td>131.2</td>\n",
       "      <td>82.0</td>\n",
       "      <td>11.15</td>\n",
       "      <td>186.2</td>\n",
       "      <td>89.0</td>\n",
       "      <td>8.38</td>\n",
       "      <td>11.5</td>\n",
       "      <td>6.0</td>\n",
       "      <td>3.11</td>\n",
       "      <td>3.0</td>\n",
       "      <td>no</td>\n",
       "    </tr>\n",
       "    <tr>\n",
       "      <th>4247</th>\n",
       "      <td>NC</td>\n",
       "      <td>75.0</td>\n",
       "      <td>area_code_408</td>\n",
       "      <td>no</td>\n",
       "      <td>no</td>\n",
       "      <td>0.0</td>\n",
       "      <td>170.7</td>\n",
       "      <td>101.0</td>\n",
       "      <td>29.02</td>\n",
       "      <td>193.1</td>\n",
       "      <td>126.0</td>\n",
       "      <td>16.41</td>\n",
       "      <td>129.1</td>\n",
       "      <td>104.0</td>\n",
       "      <td>5.81</td>\n",
       "      <td>6.9</td>\n",
       "      <td>7.0</td>\n",
       "      <td>1.86</td>\n",
       "      <td>1.0</td>\n",
       "      <td>no</td>\n",
       "    </tr>\n",
       "    <tr>\n",
       "      <th>4248</th>\n",
       "      <td>HI</td>\n",
       "      <td>50.0</td>\n",
       "      <td>area_code_408</td>\n",
       "      <td>no</td>\n",
       "      <td>yes</td>\n",
       "      <td>40.0</td>\n",
       "      <td>235.7</td>\n",
       "      <td>127.0</td>\n",
       "      <td>40.07</td>\n",
       "      <td>223.0</td>\n",
       "      <td>126.0</td>\n",
       "      <td>18.96</td>\n",
       "      <td>297.5</td>\n",
       "      <td>116.0</td>\n",
       "      <td>13.39</td>\n",
       "      <td>9.9</td>\n",
       "      <td>5.0</td>\n",
       "      <td>2.67</td>\n",
       "      <td>2.0</td>\n",
       "      <td>no</td>\n",
       "    </tr>\n",
       "    <tr>\n",
       "      <th>4249</th>\n",
       "      <td>VT</td>\n",
       "      <td>86.0</td>\n",
       "      <td>area_code_415</td>\n",
       "      <td>no</td>\n",
       "      <td>yes</td>\n",
       "      <td>34.0</td>\n",
       "      <td>129.4</td>\n",
       "      <td>102.0</td>\n",
       "      <td>22.00</td>\n",
       "      <td>267.1</td>\n",
       "      <td>104.0</td>\n",
       "      <td>22.70</td>\n",
       "      <td>154.8</td>\n",
       "      <td>100.0</td>\n",
       "      <td>6.97</td>\n",
       "      <td>9.3</td>\n",
       "      <td>16.0</td>\n",
       "      <td>2.51</td>\n",
       "      <td>0.0</td>\n",
       "      <td>no</td>\n",
       "    </tr>\n",
       "  </tbody>\n",
       "</table>\n",
       "<p>4250 rows × 20 columns</p>\n",
       "</div>"
      ],
      "text/plain": [
       "     state  account_length      area_code international_plan voice_mail_plan  \\\n",
       "0       OH           107.0  area_code_415                 no             yes   \n",
       "1       NJ           137.0  area_code_415                 no              no   \n",
       "2       OH            84.0  area_code_408                yes              no   \n",
       "3       OK            75.0  area_code_415                yes              no   \n",
       "4       MA           121.0  area_code_510                 no             yes   \n",
       "...    ...             ...            ...                ...             ...   \n",
       "4245    MT            83.0  area_code_415                 no              no   \n",
       "4246    WV            73.0  area_code_408                 no              no   \n",
       "4247    NC            75.0  area_code_408                 no              no   \n",
       "4248    HI            50.0  area_code_408                 no             yes   \n",
       "4249    VT            86.0  area_code_415                 no             yes   \n",
       "\n",
       "      number_vmail_messages  total_day_minutes  total_day_calls  \\\n",
       "0                      26.0              161.6            123.0   \n",
       "1                       0.0              243.4            114.0   \n",
       "2                       0.0              299.4             71.0   \n",
       "3                       0.0              166.7            113.0   \n",
       "4                      24.0              218.2             88.0   \n",
       "...                     ...                ...              ...   \n",
       "4245                    0.0              188.3             70.0   \n",
       "4246                    0.0              177.9             89.0   \n",
       "4247                    0.0              170.7            101.0   \n",
       "4248                   40.0              235.7            127.0   \n",
       "4249                   34.0              129.4            102.0   \n",
       "\n",
       "      total_day_charge  total_eve_minutes  total_eve_calls  total_eve_charge  \\\n",
       "0                27.47              195.5            103.0             16.62   \n",
       "1                41.38              121.2            110.0             10.30   \n",
       "2                50.90               61.9             88.0              5.26   \n",
       "3                28.34              148.3            122.0             12.61   \n",
       "4                37.09              348.5            108.0             29.62   \n",
       "...                ...                ...              ...               ...   \n",
       "4245             32.01              243.8             88.0             20.72   \n",
       "4246             30.24              131.2             82.0             11.15   \n",
       "4247             29.02              193.1            126.0             16.41   \n",
       "4248             40.07              223.0            126.0             18.96   \n",
       "4249             22.00              267.1            104.0             22.70   \n",
       "\n",
       "      total_night_minutes  total_night_calls  total_night_charge  \\\n",
       "0                   254.4              103.0               11.45   \n",
       "1                   162.6              104.0                7.32   \n",
       "2                   196.9               89.0                8.86   \n",
       "3                   186.9              121.0                8.41   \n",
       "4                   212.6              118.0                9.57   \n",
       "...                   ...                ...                 ...   \n",
       "4245                213.7               79.0                9.62   \n",
       "4246                186.2               89.0                8.38   \n",
       "4247                129.1              104.0                5.81   \n",
       "4248                297.5              116.0               13.39   \n",
       "4249                154.8              100.0                6.97   \n",
       "\n",
       "      total_intl_minutes  total_intl_calls  total_intl_charge  \\\n",
       "0                   13.7               3.0               3.70   \n",
       "1                   12.2               5.0               3.29   \n",
       "2                    6.6               7.0               1.78   \n",
       "3                   10.1               3.0               2.73   \n",
       "4                    7.5               7.0               2.03   \n",
       "...                  ...               ...                ...   \n",
       "4245                10.3               6.0               2.78   \n",
       "4246                11.5               6.0               3.11   \n",
       "4247                 6.9               7.0               1.86   \n",
       "4248                 9.9               5.0               2.67   \n",
       "4249                 9.3              16.0               2.51   \n",
       "\n",
       "      number_customer_service_calls churn  \n",
       "0                               1.0    no  \n",
       "1                               0.0    no  \n",
       "2                               2.0    no  \n",
       "3                               3.0    no  \n",
       "4                               3.0    no  \n",
       "...                             ...   ...  \n",
       "4245                            0.0    no  \n",
       "4246                            3.0    no  \n",
       "4247                            1.0    no  \n",
       "4248                            2.0    no  \n",
       "4249                            0.0    no  \n",
       "\n",
       "[4250 rows x 20 columns]"
      ]
     },
     "execution_count": 3,
     "metadata": {},
     "output_type": "execute_result"
    }
   ],
   "source": [
    "telco_customer"
   ]
  },
  {
   "cell_type": "markdown",
   "metadata": {
    "id": "0-REIqWZIOjk"
   },
   "source": [
    "### **Preprocessing** <a id=\"head5\"></a>"
   ]
  },
  {
   "cell_type": "code",
   "execution_count": 4,
   "metadata": {
    "id": "mXPWZXYKIGeh"
   },
   "outputs": [],
   "source": [
    "# Encoding categorical data using cat codes\n",
    "for col in telco_customer.columns[telco_customer.dtypes == 'object']:\n",
    "    if col!='churn':\n",
    "        telco_customer[col]=telco_customer[col].astype('category').cat.codes\n",
    "\n",
    "# Fill Null Values of target column\n",
    "telco_customer['churn'] =  telco_customer['churn'].fillna(telco_customer['churn'].mode()[0])\n",
    "\n",
    "# Manual encoding the target variable\n",
    "a={'yes':1,'no':0}\n",
    "telco_customer['churn']=telco_customer['churn'].map(a)"
   ]
  },
  {
   "cell_type": "markdown",
   "metadata": {
    "id": "lnhbFer28H6o"
   },
   "source": [
    "### **Seperate Features & Target Variable** <a id=\"head6\"></a>"
   ]
  },
  {
   "cell_type": "code",
   "execution_count": 5,
   "metadata": {
    "id": "R9E1KjV042ML"
   },
   "outputs": [],
   "source": [
    "X = telco_customer.drop('churn',axis=1)\n",
    "y=telco_customer['churn']"
   ]
  },
  {
   "cell_type": "code",
   "execution_count": 6,
   "metadata": {},
   "outputs": [],
   "source": [
    "cat_cols = X.select_dtypes(include=['int8']).columns.values"
   ]
  },
  {
   "cell_type": "code",
   "execution_count": 7,
   "metadata": {},
   "outputs": [],
   "source": [
    "num_cols = X.select_dtypes(include=['float64']).columns.values"
   ]
  },
  {
   "cell_type": "markdown",
   "metadata": {
    "id": "lB8dCPma8OPO"
   },
   "source": [
    "### **Train Test Split**  <a id=\"head7\"></a>"
   ]
  },
  {
   "cell_type": "code",
   "execution_count": 8,
   "metadata": {
    "id": "vecoK_Db42tn"
   },
   "outputs": [],
   "source": [
    "X_train, X_test, y_train, y_test = train_test_split(X, y, test_size=0.2, random_state=17)"
   ]
  },
  {
   "cell_type": "markdown",
   "metadata": {},
   "source": [
    "## Feature Engineering pipeline"
   ]
  },
  {
   "cell_type": "code",
   "execution_count": 9,
   "metadata": {
    "id": "x_mbLpv35ANk"
   },
   "outputs": [],
   "source": [
    "# Imputation Transformer to fill null values\n",
    "fill_null_col = ColumnTransformer([\n",
    "        ('FillCat',SimpleImputer(strategy='most_frequent'),cat_cols),\n",
    "        ('FillNumeric',SimpleImputer(strategy='median'),num_cols),\n",
    "    ],remainder='passthrough')\n",
    "\n",
    "# Scaling\n",
    "scale_col = ColumnTransformer([\n",
    "    ('scale', StandardScaler(),slice(5,18))\n",
    "])\n",
    "\n",
    "# Principal Component Analysis\n",
    "pca_col = ColumnTransformer([\n",
    "    ('PCA', PCA(n_components=10),slice(0,18))\n",
    "])\n",
    "\n",
    "# # Model\n",
    "logistic=LogisticRegression()\n",
    "decision=DecisionTreeClassifier()\n",
    "random = RandomForestClassifier()"
   ]
  },
  {
   "cell_type": "markdown",
   "metadata": {
    "id": "wBtXY2sfE5Nd"
   },
   "source": [
    "### **Model Pipeline** <a id=\"head9\"></a>"
   ]
  },
  {
   "cell_type": "code",
   "execution_count": 10,
   "metadata": {
    "colab": {
     "base_uri": "https://localhost:8080/"
    },
    "id": "Dt8EIgFa-Ske",
    "outputId": "a51333fa-92c3-433e-f08f-c1b7747e1917"
   },
   "outputs": [],
   "source": [
    "pipeline_model1 = Pipeline([('fill_null_col', fill_null_col),\n",
    "                 ('scale_col', scale_col),\n",
    "                 ('pca_col', pca_col),\n",
    "                 ('classifier1', logistic)])\n",
    "\n",
    "pipeline_model2 = Pipeline([('fill_null_col', fill_null_col),\n",
    "                 ('scale_col', scale_col),\n",
    "                 ('pca_col', pca_col),\n",
    "                 ('classifier2', decision)])\n",
    "\n",
    "pipeline_model3 = Pipeline([('fill_null_col', fill_null_col),\n",
    "                 ('scale_col', scale_col),\n",
    "                 ('pca_col', pca_col),\n",
    "                 ('classifier3', random)])"
   ]
  },
  {
   "cell_type": "code",
   "execution_count": 11,
   "metadata": {},
   "outputs": [],
   "source": [
    "pipelines=[pipeline_model1,pipeline_model2,pipeline_model3]"
   ]
  },
  {
   "cell_type": "code",
   "execution_count": 12,
   "metadata": {},
   "outputs": [],
   "source": [
    "best_accuracy=0.0\n",
    "best_classifier=0\n",
    "best_pipeline=\"\""
   ]
  },
  {
   "cell_type": "code",
   "execution_count": 13,
   "metadata": {},
   "outputs": [],
   "source": [
    "pipe_dict={0:'Logistic Regression',1:'Decision Tree',2:'Random Forest'}\n",
    "\n",
    "# Fitting pipelines\n",
    "for pipe in pipelines:\n",
    "    pipe.fit(X_train,y_train)"
   ]
  },
  {
   "cell_type": "code",
   "execution_count": 14,
   "metadata": {},
   "outputs": [
    {
     "name": "stdout",
     "output_type": "stream",
     "text": [
      "Logistic Regression Test Accuracy : 0.8552941176470589\n",
      "Decision Tree Test Accuracy : 0.8094117647058824\n",
      "Random Forest Test Accuracy : 0.8788235294117647\n"
     ]
    }
   ],
   "source": [
    "for i,model in enumerate(pipelines):\n",
    "    print(\"{} Test Accuracy : {}\".format(pipe_dict[i],model.score(X_test,y_test)))"
   ]
  },
  {
   "cell_type": "code",
   "execution_count": 15,
   "metadata": {},
   "outputs": [
    {
     "name": "stdout",
     "output_type": "stream",
     "text": [
      "\n",
      "Logistic Regression Classification Report :\n",
      "               precision    recall  f1-score   support\n",
      "\n",
      "           0       0.85      1.00      0.92       724\n",
      "           1       1.00      0.02      0.05       126\n",
      "\n",
      "    accuracy                           0.86       850\n",
      "   macro avg       0.93      0.51      0.48       850\n",
      "weighted avg       0.88      0.86      0.79       850\n",
      "\n",
      "\n",
      "Decision Tree Classification Report :\n",
      "               precision    recall  f1-score   support\n",
      "\n",
      "           0       0.90      0.88      0.89       724\n",
      "           1       0.37      0.41      0.39       126\n",
      "\n",
      "    accuracy                           0.81       850\n",
      "   macro avg       0.63      0.65      0.64       850\n",
      "weighted avg       0.82      0.81      0.81       850\n",
      "\n",
      "\n",
      "Random Forest Classification Report :\n",
      "               precision    recall  f1-score   support\n",
      "\n",
      "           0       0.88      0.99      0.93       724\n",
      "           1       0.83      0.23      0.36       126\n",
      "\n",
      "    accuracy                           0.88       850\n",
      "   macro avg       0.85      0.61      0.65       850\n",
      "weighted avg       0.87      0.88      0.85       850\n",
      "\n"
     ]
    }
   ],
   "source": [
    "for i,model in enumerate(pipelines):\n",
    "    pred=model.predict(X_test)\n",
    "    print(\"\\n{} Classification Report :\\n {}\".format(pipe_dict[i],classification_report(y_test,pred)))"
   ]
  },
  {
   "cell_type": "code",
   "execution_count": 16,
   "metadata": {},
   "outputs": [
    {
     "name": "stdout",
     "output_type": "stream",
     "text": [
      "Classifier with the best accuracy:Random Forest\n"
     ]
    }
   ],
   "source": [
    "for i,model in enumerate(pipelines):\n",
    "    if model.score(X_test,y_test)>best_accuracy:\n",
    "        best_accuracy=model.score(X_test,y_test)\n",
    "        best_pipeline=model\n",
    "        best_classifier=i\n",
    "print('Classifier with the best accuracy:{}'.format(pipe_dict[best_classifier]))"
   ]
  },
  {
   "cell_type": "markdown",
   "metadata": {
    "id": "glgVxcT-FxvP"
   },
   "source": [
    "### **Best Hyperparameters for Random Forest Classifier Using GridSearchCV using a pipeline** \n",
    "<a id=\"head10\"></a>"
   ]
  },
  {
   "cell_type": "code",
   "execution_count": 17,
   "metadata": {
    "colab": {
     "base_uri": "https://localhost:8080/"
    },
    "id": "lZV9dnWjCqcH",
    "outputId": "10b40651-c2a0-4c53-f9a5-c63d078f97a6"
   },
   "outputs": [],
   "source": [
    "# params = [{\"classifier3__n_estimators\": range(100, 501, 100),\n",
    "#            \"classifier3__max_depth\":range(10,30,10),\n",
    "#            \"classifier3__min_samples_leaf\":[1, 2, 4],\n",
    "#            \"classifier3__min_samples_split\": [2, 5, 10],\n",
    "#           }]\n",
    "                 \n",
    "# randomized_cv = GridSearchCV(estimator = pipeline_model3,\n",
    "#                            param_grid = params,\n",
    "#                            cv = 10 ,verbose = 1, n_jobs=-1)\n",
    "\n",
    "# randomized_cv.fit(X_train,y_train)\n",
    "# randomized_cv.best_params_"
   ]
  },
  {
   "cell_type": "code",
   "execution_count": 18,
   "metadata": {},
   "outputs": [],
   "source": [
    "randomized_cv = Pipeline([('fill_null_col', fill_null_col),\n",
    "                 ('scale_col', scale_col),\n",
    "                 ('pca_col', pca_col),\n",
    "                 ('classifier3', RandomForestClassifier(max_depth=20,min_samples_leaf=1,min_samples_split=5,n_estimators=400))])\n",
    "\n",
    "randomized_cv.fit(X_train,y_train)\n",
    "filename = 'modelv1.pkl'\n",
    "pickle.dump(randomized_cv, open(filename, 'wb'))"
   ]
  },
  {
   "cell_type": "markdown",
   "metadata": {},
   "source": [
    "### Load the model from disk"
   ]
  },
  {
   "cell_type": "code",
   "execution_count": 19,
   "metadata": {},
   "outputs": [
    {
     "name": "stdout",
     "output_type": "stream",
     "text": [
      "0.88\n"
     ]
    }
   ],
   "source": [
    "filename = 'modelv1.pkl'\n",
    "loaded_model = pickle.load(open(filename, 'rb'))\n",
    "result = loaded_model.score(X_test, y_test)\n",
    "print(result)"
   ]
  },
  {
   "cell_type": "markdown",
   "metadata": {
    "id": "lQtMy8mQ9xct"
   },
   "source": [
    "### **Model Prediction**<a id=\"head11\"></a>"
   ]
  },
  {
   "cell_type": "code",
   "execution_count": 63,
   "metadata": {},
   "outputs": [],
   "source": [
    "new = loaded_model.predict_proba(X_test)[:,1]"
   ]
  },
  {
   "cell_type": "code",
   "execution_count": 64,
   "metadata": {},
   "outputs": [],
   "source": [
    "from sklearn.metrics import precision_recall_curve\n",
    "precision, recall, thresholds = precision_recall_curve(y_test, new)"
   ]
  },
  {
   "cell_type": "code",
   "execution_count": 65,
   "metadata": {},
   "outputs": [
    {
     "data": {
      "text/plain": [
       "array([0.02200645, 0.02215353, 0.02240975, 0.02258828, 0.02278758,\n",
       "       0.02293663, 0.02307114, 0.02362805, 0.02394279, 0.0239618 ,\n",
       "       0.02412061, 0.02426206, 0.02427842, 0.02429761, 0.02429916,\n",
       "       0.02480563, 0.02611423, 0.02623462, 0.02682321, 0.0268444 ,\n",
       "       0.02697301, 0.02701009, 0.02715572, 0.0277564 , 0.02804104,\n",
       "       0.02806992, 0.02812655, 0.02825363, 0.02839957, 0.02893646,\n",
       "       0.02893821, 0.03016707, 0.03053066, 0.03056589, 0.0309969 ,\n",
       "       0.03129844, 0.03165278, 0.03196021, 0.03202471, 0.03203732,\n",
       "       0.03237194, 0.03267222, 0.03318632, 0.03350993, 0.034075  ,\n",
       "       0.03426732, 0.0344367 , 0.03467131, 0.03476492, 0.03479699,\n",
       "       0.03517488, 0.0356569 , 0.03670143, 0.03688971, 0.03776833,\n",
       "       0.03795153, 0.03913098, 0.03987858, 0.0398996 , 0.04025894,\n",
       "       0.04046723, 0.04074307, 0.04082821, 0.04086581, 0.04089744,\n",
       "       0.04096646, 0.04098315, 0.04160756, 0.04166812, 0.04200081,\n",
       "       0.04214256, 0.04218091, 0.04243478, 0.04269193, 0.04314118,\n",
       "       0.04329419, 0.04341919, 0.04360667, 0.04369189, 0.04422417,\n",
       "       0.04437412, 0.04441144, 0.04475418, 0.04480501, 0.0448301 ,\n",
       "       0.04490405, 0.0449907 , 0.04575395, 0.04583942, 0.04586201,\n",
       "       0.04589235, 0.04594759, 0.0460441 , 0.04617738, 0.04621282,\n",
       "       0.04625419, 0.04628277, 0.04677486, 0.04707777, 0.04766616,\n",
       "       0.04766753, 0.04788549, 0.04795983, 0.04815889, 0.04842145,\n",
       "       0.048809  , 0.04927582, 0.04929457, 0.04942662, 0.04967843,\n",
       "       0.04998975, 0.04999041, 0.05000211, 0.05007356, 0.05029389,\n",
       "       0.0504316 , 0.05053162, 0.05064082, 0.05069517, 0.05080535,\n",
       "       0.05081753, 0.05082874, 0.05090615, 0.05099752, 0.051162  ,\n",
       "       0.0513725 , 0.05142248, 0.05143985, 0.05156609, 0.05162124,\n",
       "       0.05178826, 0.05181795, 0.05209393, 0.05210625, 0.05214794,\n",
       "       0.0522476 , 0.05230823, 0.05247632, 0.05275303, 0.05302314,\n",
       "       0.05329428, 0.05354076, 0.05358737, 0.05372656, 0.05401247,\n",
       "       0.05435018, 0.05437473, 0.05469887, 0.05476577, 0.0550666 ,\n",
       "       0.05514142, 0.05542131, 0.05546325, 0.05555286, 0.05623586,\n",
       "       0.0562539 , 0.05649046, 0.05686466, 0.05700053, 0.05712694,\n",
       "       0.05732409, 0.05737547, 0.05747432, 0.05780066, 0.0578812 ,\n",
       "       0.05793258, 0.0581208 , 0.05847461, 0.05849373, 0.05876209,\n",
       "       0.05922446, 0.05928304, 0.05928341, 0.05933059, 0.05962489,\n",
       "       0.05984031, 0.05985778, 0.05988556, 0.06040414, 0.06040847,\n",
       "       0.06078388, 0.06084709, 0.06101703, 0.061025  , 0.0611267 ,\n",
       "       0.06118502, 0.06123489, 0.06138318, 0.06155461, 0.06169487,\n",
       "       0.06179378, 0.06201049, 0.06262269, 0.06287571, 0.06291262,\n",
       "       0.06309703, 0.06313343, 0.06334049, 0.06352047, 0.06371466,\n",
       "       0.06388893, 0.06416518, 0.06425378, 0.06438801, 0.06454358,\n",
       "       0.06476997, 0.06527113, 0.06542279, 0.0666759 , 0.06707505,\n",
       "       0.06713749, 0.06781276, 0.06793408, 0.06809562, 0.06810768,\n",
       "       0.06827683, 0.06828228, 0.06871386, 0.06888836, 0.06911136,\n",
       "       0.06911308, 0.06940228, 0.06941593, 0.06969446, 0.06988909,\n",
       "       0.06990026, 0.0699731 , 0.07032483, 0.07033067, 0.07048653,\n",
       "       0.07079455, 0.07081643, 0.07081749, 0.0710946 , 0.07118598,\n",
       "       0.07127809, 0.07130192, 0.07132418, 0.07172648, 0.07185607,\n",
       "       0.07190789, 0.07197902, 0.07214262, 0.07216193, 0.07222519,\n",
       "       0.07231299, 0.07239845, 0.0724667 , 0.07249195, 0.07250031,\n",
       "       0.07252152, 0.07253008, 0.07285047, 0.07334879, 0.07345874,\n",
       "       0.07356449, 0.07408554, 0.07429056, 0.07437706, 0.07482455,\n",
       "       0.07493122, 0.07500619, 0.07522825, 0.0753589 , 0.07541345,\n",
       "       0.07551674, 0.07563432, 0.0759521 , 0.07598971, 0.07614601,\n",
       "       0.07628571, 0.0764789 , 0.07664089, 0.07679923, 0.07686188,\n",
       "       0.07707697, 0.07712296, 0.07715437, 0.07732048, 0.07733671,\n",
       "       0.07746511, 0.07776894, 0.07816167, 0.07858199, 0.0787491 ,\n",
       "       0.07882383, 0.07978526, 0.07998244, 0.08000508, 0.08003337,\n",
       "       0.08025272, 0.08054514, 0.08075295, 0.08104811, 0.08117591,\n",
       "       0.08118864, 0.08139592, 0.0814807 , 0.08157285, 0.08175998,\n",
       "       0.08197177, 0.08209099, 0.08226943, 0.08230722, 0.08235297,\n",
       "       0.08241078, 0.08257099, 0.08257816, 0.08304518, 0.08327918,\n",
       "       0.08352573, 0.08400526, 0.08461767, 0.08463791, 0.0847881 ,\n",
       "       0.08480043, 0.08496145, 0.08519746, 0.08522949, 0.08536931,\n",
       "       0.08551035, 0.08594165, 0.0859756 , 0.08682232, 0.08689819,\n",
       "       0.08717147, 0.08734039, 0.08753875, 0.0876029 , 0.08785606,\n",
       "       0.08789654, 0.08817398, 0.0885861 , 0.08862758, 0.08890806,\n",
       "       0.08916539, 0.08921038, 0.08929706, 0.08984938, 0.09031926,\n",
       "       0.09042141, 0.09085158, 0.09100601, 0.09116282, 0.0912369 ,\n",
       "       0.09164405, 0.09174939, 0.09197895, 0.09229217, 0.09234728,\n",
       "       0.09250108, 0.09250819, 0.09251433, 0.09258076, 0.09269767,\n",
       "       0.09279966, 0.09339796, 0.09352747, 0.09362273, 0.09378002,\n",
       "       0.09385069, 0.09385211, 0.09395307, 0.09485882, 0.09487096,\n",
       "       0.09530591, 0.09555421, 0.09585411, 0.09586275, 0.09598251,\n",
       "       0.09616238, 0.09621987, 0.09649457, 0.09665422, 0.09665456,\n",
       "       0.09670875, 0.09722644, 0.09723428, 0.09820478, 0.09831112,\n",
       "       0.09842227, 0.09859107, 0.09917572, 0.09921078, 0.09942962,\n",
       "       0.09993903, 0.09994258, 0.09996157, 0.10025874, 0.10029683,\n",
       "       0.10045013, 0.10082152, 0.10117165, 0.1011957 , 0.10123094,\n",
       "       0.10132895, 0.10133144, 0.10159658, 0.10165919, 0.10168949,\n",
       "       0.10173843, 0.10183851, 0.10186058, 0.10209604, 0.10236681,\n",
       "       0.10258547, 0.10273554, 0.1036323 , 0.10365098, 0.10404125,\n",
       "       0.10432851, 0.10446534, 0.10499674, 0.10522316, 0.10538198,\n",
       "       0.10542788, 0.10583323, 0.10592393, 0.10635706, 0.10640943,\n",
       "       0.10697717, 0.10716592, 0.10726121, 0.10742361, 0.10743503,\n",
       "       0.10768839, 0.10770384, 0.10788182, 0.10799084, 0.10799779,\n",
       "       0.10820277, 0.10838965, 0.10857811, 0.10900468, 0.10920668,\n",
       "       0.10927489, 0.10953515, 0.10977412, 0.10988731, 0.10989447,\n",
       "       0.11007008, 0.11015215, 0.11034135, 0.11044863, 0.11064972,\n",
       "       0.11068891, 0.11235261, 0.11270602, 0.11277198, 0.1130513 ,\n",
       "       0.11392582, 0.11505129, 0.11514055, 0.11515581, 0.11531811,\n",
       "       0.11536799, 0.11601564, 0.11681806, 0.11682865, 0.11686669,\n",
       "       0.11687028, 0.11692889, 0.11707511, 0.11712463, 0.11757194,\n",
       "       0.1179051 , 0.11829843, 0.11860009, 0.11866466, 0.11870309,\n",
       "       0.11903625, 0.11905936, 0.11916342, 0.12005956, 0.12022831,\n",
       "       0.12131311, 0.12154815, 0.12164996, 0.12195683, 0.12224596,\n",
       "       0.12231934, 0.12346181, 0.12358248, 0.12384664, 0.1243563 ,\n",
       "       0.1247126 , 0.12484844, 0.12555133, 0.1255557 , 0.12563314,\n",
       "       0.1257637 , 0.12581206, 0.12697695, 0.12745399, 0.1277028 ,\n",
       "       0.12809766, 0.12827849, 0.12848607, 0.12887693, 0.12917022,\n",
       "       0.12926893, 0.13014294, 0.1301875 , 0.13022783, 0.13025664,\n",
       "       0.13034114, 0.13068156, 0.13097997, 0.13149571, 0.13181742,\n",
       "       0.13212464, 0.13254229, 0.13283079, 0.13291167, 0.13339767,\n",
       "       0.13371675, 0.13395163, 0.13433923, 0.13436209, 0.13438933,\n",
       "       0.13504515, 0.13534121, 0.13534539, 0.13545444, 0.13601042,\n",
       "       0.136432  , 0.13652704, 0.1369094 , 0.13698093, 0.13708121,\n",
       "       0.13812174, 0.13817473, 0.13856302, 0.13874909, 0.13907493,\n",
       "       0.13919773, 0.13964187, 0.13993291, 0.14005874, 0.14010214,\n",
       "       0.14021605, 0.14054177, 0.14078655, 0.14125672, 0.14142281,\n",
       "       0.14155646, 0.14162554, 0.14200481, 0.14248342, 0.14432171,\n",
       "       0.14435119, 0.14460336, 0.14469318, 0.14519907, 0.14536436,\n",
       "       0.14542201, 0.14560822, 0.14613543, 0.14618765, 0.14625853,\n",
       "       0.1464605 , 0.14649675, 0.14660069, 0.14670764, 0.14681746,\n",
       "       0.14707558, 0.14749424, 0.1475437 , 0.14783879, 0.14850737,\n",
       "       0.14860984, 0.148719  , 0.14941122, 0.15028965, 0.15071604,\n",
       "       0.15077993, 0.15084748, 0.15127395, 0.15128252, 0.15134283,\n",
       "       0.1516929 , 0.15215583, 0.1522439 , 0.15247861, 0.15276149,\n",
       "       0.15328534, 0.15336698, 0.15393742, 0.15405897, 0.15405987,\n",
       "       0.15429078, 0.15442211, 0.15474008, 0.1548359 , 0.15503503,\n",
       "       0.15536209, 0.15561266, 0.15597618, 0.1561125 , 0.15686246,\n",
       "       0.15886743, 0.15988182, 0.16042163, 0.16222111, 0.16276334,\n",
       "       0.1628822 , 0.16289   , 0.16307355, 0.16347329, 0.16388625,\n",
       "       0.16421791, 0.16620056, 0.16650432, 0.16689462, 0.16727214,\n",
       "       0.16746201, 0.16876587, 0.16927702, 0.16953291, 0.16987308,\n",
       "       0.17114946, 0.17115296, 0.17203835, 0.17215187, 0.17308348,\n",
       "       0.17311887, 0.17416702, 0.1754077 , 0.17574274, 0.1763578 ,\n",
       "       0.17638897, 0.17647492, 0.17683336, 0.17821252, 0.17856311,\n",
       "       0.17892613, 0.17907601, 0.17909876, 0.17937249, 0.17950154,\n",
       "       0.18191684, 0.18225274, 0.18235823, 0.18335139, 0.18482573,\n",
       "       0.18483319, 0.18556096, 0.18775857, 0.18800844, 0.18806124,\n",
       "       0.18864103, 0.18882269, 0.18956193, 0.18970331, 0.19023444,\n",
       "       0.19067972, 0.19075733, 0.19076573, 0.19122395, 0.1919518 ,\n",
       "       0.19266831, 0.19363543, 0.19592106, 0.19708459, 0.19717154,\n",
       "       0.19750112, 0.19790451, 0.19998537, 0.20117863, 0.2030577 ,\n",
       "       0.20306438, 0.20471821, 0.20507304, 0.20629177, 0.20643496,\n",
       "       0.20655809, 0.20672399, 0.20727722, 0.21051287, 0.21139344,\n",
       "       0.21142301, 0.21289414, 0.21317886, 0.21382035, 0.21460295,\n",
       "       0.21486452, 0.21526054, 0.21549753, 0.21579519, 0.21600252,\n",
       "       0.21895675, 0.22097385, 0.22117971, 0.22170123, 0.22274252,\n",
       "       0.22348987, 0.22505769, 0.22737698, 0.22782951, 0.22812309,\n",
       "       0.22866863, 0.22871421, 0.2301764 , 0.23127255, 0.23149027,\n",
       "       0.23201173, 0.23242477, 0.23286552, 0.2330625 , 0.23437544,\n",
       "       0.23455094, 0.2357074 , 0.23737996, 0.23851582, 0.24070408,\n",
       "       0.24083384, 0.24204537, 0.24287325, 0.24314082, 0.24395022,\n",
       "       0.24453284, 0.24459237, 0.24625577, 0.24681567, 0.2477922 ,\n",
       "       0.24782953, 0.25071418, 0.25088482, 0.25144693, 0.25289761,\n",
       "       0.25313512, 0.25349769, 0.25639466, 0.25776021, 0.25796329,\n",
       "       0.25847704, 0.25868871, 0.25911952, 0.26079679, 0.26135293,\n",
       "       0.26144333, 0.2624293 , 0.26398513, 0.26487432, 0.26820876,\n",
       "       0.26853231, 0.26988814, 0.27115295, 0.275181  , 0.27581142,\n",
       "       0.27611443, 0.27678488, 0.28013617, 0.28684758, 0.29097372,\n",
       "       0.29201723, 0.29360031, 0.2944994 , 0.29650276, 0.29691627,\n",
       "       0.29711271, 0.29957598, 0.30366617, 0.3052518 , 0.31243823,\n",
       "       0.31387599, 0.32170482, 0.32612725, 0.32642552, 0.32771199,\n",
       "       0.33035859, 0.33042887, 0.33170056, 0.34656662, 0.35030899,\n",
       "       0.35371791, 0.35881673, 0.35906204, 0.3647144 , 0.3658565 ,\n",
       "       0.36870734, 0.36942172, 0.37256167, 0.3731121 , 0.38012502,\n",
       "       0.38331136, 0.38400549, 0.38662135, 0.39912533, 0.39989254,\n",
       "       0.4186083 , 0.42750506, 0.4289532 , 0.44883813, 0.4569504 ,\n",
       "       0.46224077, 0.46399704, 0.47977627, 0.48525   , 0.49398631,\n",
       "       0.49798016, 0.52032661, 0.52154434, 0.54491567, 0.54542221,\n",
       "       0.55520536, 0.55817047, 0.56161409, 0.56256115, 0.56586012,\n",
       "       0.57175298, 0.57656593, 0.5873125 , 0.60370536, 0.60431952,\n",
       "       0.61733829, 0.62019055, 0.62530474, 0.62864916, 0.65896914,\n",
       "       0.66147421, 0.66881647, 0.6698198 , 0.69214286, 0.72952222,\n",
       "       0.73212302, 0.73722321, 0.74370833, 0.75994235, 0.77355952,\n",
       "       0.80403571, 0.8349494 , 0.87310714, 0.90006746, 0.93689881])"
      ]
     },
     "execution_count": 65,
     "metadata": {},
     "output_type": "execute_result"
    }
   ],
   "source": [
    "thresholds"
   ]
  },
  {
   "cell_type": "code",
   "execution_count": 48,
   "metadata": {},
   "outputs": [
    {
     "data": {
      "text/plain": [
       "(835,)"
      ]
     },
     "execution_count": 48,
     "metadata": {},
     "output_type": "execute_result"
    }
   ],
   "source": [
    "precision[:-1].shape"
   ]
  },
  {
   "cell_type": "code",
   "execution_count": 49,
   "metadata": {},
   "outputs": [
    {
     "data": {
      "text/plain": [
       "(835,)"
      ]
     },
     "execution_count": 49,
     "metadata": {},
     "output_type": "execute_result"
    }
   ],
   "source": [
    "recall[:-1].shape"
   ]
  },
  {
   "cell_type": "code",
   "execution_count": 47,
   "metadata": {},
   "outputs": [
    {
     "data": {
      "text/plain": [
       "(835,)"
      ]
     },
     "execution_count": 47,
     "metadata": {},
     "output_type": "execute_result"
    }
   ],
   "source": [
    "thresholds.shape"
   ]
  },
  {
   "cell_type": "code",
   "execution_count": 37,
   "metadata": {},
   "outputs": [],
   "source": [
    "import matplotlib.pyplot as plt "
   ]
  },
  {
   "cell_type": "code",
   "execution_count": 66,
   "metadata": {},
   "outputs": [
    {
     "data": {
      "text/plain": [
       "Text(0.5, 1.0, 'Precision-Recall Curve')"
      ]
     },
     "execution_count": 66,
     "metadata": {},
     "output_type": "execute_result"
    },
    {
     "data": {
      "image/png": "[encoded data removed]",
      "text/plain": [
       "<Figure size 432x288 with 1 Axes>"
      ]
     },
     "metadata": {
      "needs_background": "light"
     },
     "output_type": "display_data"
    }
   ],
   "source": [
    "plt.plot(thresholds, precision[:-1], c ='r', label ='PRECISION') \n",
    "\n",
    "plt.plot(thresholds, recall[:-1], c ='b', label ='RECALL') \n",
    "plt.grid() \n",
    "plt.legend() \n",
    "\n",
    "plt.title('Precision-Recall Curve')"
   ]
  },
  {
   "cell_type": "code",
   "execution_count": 67,
   "metadata": {},
   "outputs": [],
   "source": [
    "fscore = (2 * precision * recall) / (precision + recall)"
   ]
  },
  {
   "cell_type": "code",
   "execution_count": 69,
   "metadata": {},
   "outputs": [],
   "source": [
    "index = np.argmax(fscore)\n",
    "thresholdOpt = round(thresholds[index], ndigits = 4)\n",
    "fscoreOpt = round(fscore[index], ndigits = 4)"
   ]
  },
  {
   "cell_type": "code",
   "execution_count": 70,
   "metadata": {},
   "outputs": [
    {
     "name": "stdout",
     "output_type": "stream",
     "text": [
      "Best Threshold: 0.264 with F-Score: 0.5205\n"
     ]
    }
   ],
   "source": [
    "print('Best Threshold: {} with F-Score: {}'.format(thresholdOpt, fscoreOpt))"
   ]
  },
  {
   "cell_type": "code",
   "execution_count": 125,
   "metadata": {},
   "outputs": [],
   "source": [
    "threshold = thresholdOpt"
   ]
  },
  {
   "cell_type": "code",
   "execution_count": 130,
   "metadata": {},
   "outputs": [
    {
     "data": {
      "text/html": [
       "<div>\n",
       "<style scoped>\n",
       "    .dataframe tbody tr th:only-of-type {\n",
       "        vertical-align: middle;\n",
       "    }\n",
       "\n",
       "    .dataframe tbody tr th {\n",
       "        vertical-align: top;\n",
       "    }\n",
       "\n",
       "    .dataframe thead th {\n",
       "        text-align: right;\n",
       "    }\n",
       "</style>\n",
       "<table border=\"1\" class=\"dataframe\">\n",
       "  <thead>\n",
       "    <tr style=\"text-align: right;\">\n",
       "      <th></th>\n",
       "      <th>state</th>\n",
       "      <th>account_length</th>\n",
       "      <th>area_code</th>\n",
       "      <th>international_plan</th>\n",
       "      <th>voice_mail_plan</th>\n",
       "      <th>number_vmail_messages</th>\n",
       "      <th>total_day_minutes</th>\n",
       "      <th>total_day_calls</th>\n",
       "      <th>total_day_charge</th>\n",
       "      <th>total_eve_minutes</th>\n",
       "      <th>total_eve_calls</th>\n",
       "      <th>total_eve_charge</th>\n",
       "      <th>total_night_minutes</th>\n",
       "      <th>total_night_calls</th>\n",
       "      <th>total_night_charge</th>\n",
       "      <th>total_intl_minutes</th>\n",
       "      <th>total_intl_calls</th>\n",
       "      <th>total_intl_charge</th>\n",
       "      <th>number_customer_service_calls</th>\n",
       "    </tr>\n",
       "  </thead>\n",
       "  <tbody>\n",
       "    <tr>\n",
       "      <th>394</th>\n",
       "      <td>10</td>\n",
       "      <td>141.0</td>\n",
       "      <td>2</td>\n",
       "      <td>0</td>\n",
       "      <td>1</td>\n",
       "      <td>23.0</td>\n",
       "      <td>149.7</td>\n",
       "      <td>112.0</td>\n",
       "      <td>25.45</td>\n",
       "      <td>162.5</td>\n",
       "      <td>118.0</td>\n",
       "      <td>13.81</td>\n",
       "      <td>220.3</td>\n",
       "      <td>115.0</td>\n",
       "      <td>9.91</td>\n",
       "      <td>7.6</td>\n",
       "      <td>2.0</td>\n",
       "      <td>2.05</td>\n",
       "      <td>3.0</td>\n",
       "    </tr>\n",
       "    <tr>\n",
       "      <th>2747</th>\n",
       "      <td>47</td>\n",
       "      <td>121.0</td>\n",
       "      <td>2</td>\n",
       "      <td>0</td>\n",
       "      <td>0</td>\n",
       "      <td>0.0</td>\n",
       "      <td>255.1</td>\n",
       "      <td>93.0</td>\n",
       "      <td>43.37</td>\n",
       "      <td>266.9</td>\n",
       "      <td>97.0</td>\n",
       "      <td>22.69</td>\n",
       "      <td>197.7</td>\n",
       "      <td>NaN</td>\n",
       "      <td>8.90</td>\n",
       "      <td>8.8</td>\n",
       "      <td>3.0</td>\n",
       "      <td>2.38</td>\n",
       "      <td>3.0</td>\n",
       "    </tr>\n",
       "    <tr>\n",
       "      <th>3305</th>\n",
       "      <td>16</td>\n",
       "      <td>51.0</td>\n",
       "      <td>1</td>\n",
       "      <td>0</td>\n",
       "      <td>1</td>\n",
       "      <td>43.0</td>\n",
       "      <td>158.2</td>\n",
       "      <td>94.0</td>\n",
       "      <td>26.89</td>\n",
       "      <td>213.2</td>\n",
       "      <td>105.0</td>\n",
       "      <td>18.12</td>\n",
       "      <td>190.4</td>\n",
       "      <td>91.0</td>\n",
       "      <td>8.57</td>\n",
       "      <td>8.5</td>\n",
       "      <td>2.0</td>\n",
       "      <td>2.30</td>\n",
       "      <td>2.0</td>\n",
       "    </tr>\n",
       "    <tr>\n",
       "      <th>3415</th>\n",
       "      <td>19</td>\n",
       "      <td>116.0</td>\n",
       "      <td>1</td>\n",
       "      <td>0</td>\n",
       "      <td>0</td>\n",
       "      <td>0.0</td>\n",
       "      <td>119.0</td>\n",
       "      <td>94.0</td>\n",
       "      <td>20.23</td>\n",
       "      <td>144.3</td>\n",
       "      <td>110.0</td>\n",
       "      <td>12.27</td>\n",
       "      <td>199.7</td>\n",
       "      <td>65.0</td>\n",
       "      <td>8.99</td>\n",
       "      <td>8.8</td>\n",
       "      <td>5.0</td>\n",
       "      <td>2.38</td>\n",
       "      <td>2.0</td>\n",
       "    </tr>\n",
       "    <tr>\n",
       "      <th>992</th>\n",
       "      <td>7</td>\n",
       "      <td>123.0</td>\n",
       "      <td>1</td>\n",
       "      <td>0</td>\n",
       "      <td>0</td>\n",
       "      <td>0.0</td>\n",
       "      <td>211.0</td>\n",
       "      <td>92.0</td>\n",
       "      <td>35.87</td>\n",
       "      <td>217.0</td>\n",
       "      <td>102.0</td>\n",
       "      <td>18.45</td>\n",
       "      <td>214.8</td>\n",
       "      <td>104.0</td>\n",
       "      <td>9.67</td>\n",
       "      <td>9.8</td>\n",
       "      <td>7.0</td>\n",
       "      <td>2.65</td>\n",
       "      <td>3.0</td>\n",
       "    </tr>\n",
       "    <tr>\n",
       "      <th>1727</th>\n",
       "      <td>43</td>\n",
       "      <td>136.0</td>\n",
       "      <td>0</td>\n",
       "      <td>0</td>\n",
       "      <td>0</td>\n",
       "      <td>0.0</td>\n",
       "      <td>269.8</td>\n",
       "      <td>106.0</td>\n",
       "      <td>45.87</td>\n",
       "      <td>228.8</td>\n",
       "      <td>101.0</td>\n",
       "      <td>19.45</td>\n",
       "      <td>257.5</td>\n",
       "      <td>106.0</td>\n",
       "      <td>11.59</td>\n",
       "      <td>10.1</td>\n",
       "      <td>8.0</td>\n",
       "      <td>2.73</td>\n",
       "      <td>1.0</td>\n",
       "    </tr>\n",
       "    <tr>\n",
       "      <th>1964</th>\n",
       "      <td>14</td>\n",
       "      <td>148.0</td>\n",
       "      <td>0</td>\n",
       "      <td>0</td>\n",
       "      <td>1</td>\n",
       "      <td>25.0</td>\n",
       "      <td>230.7</td>\n",
       "      <td>102.0</td>\n",
       "      <td>39.22</td>\n",
       "      <td>233.8</td>\n",
       "      <td>109.0</td>\n",
       "      <td>19.87</td>\n",
       "      <td>215.8</td>\n",
       "      <td>90.0</td>\n",
       "      <td>9.71</td>\n",
       "      <td>13.5</td>\n",
       "      <td>2.0</td>\n",
       "      <td>3.65</td>\n",
       "      <td>3.0</td>\n",
       "    </tr>\n",
       "    <tr>\n",
       "      <th>1584</th>\n",
       "      <td>34</td>\n",
       "      <td>99.0</td>\n",
       "      <td>1</td>\n",
       "      <td>0</td>\n",
       "      <td>0</td>\n",
       "      <td>0.0</td>\n",
       "      <td>145.6</td>\n",
       "      <td>102.0</td>\n",
       "      <td>24.75</td>\n",
       "      <td>230.9</td>\n",
       "      <td>87.0</td>\n",
       "      <td>19.63</td>\n",
       "      <td>181.5</td>\n",
       "      <td>86.0</td>\n",
       "      <td>8.17</td>\n",
       "      <td>11.4</td>\n",
       "      <td>7.0</td>\n",
       "      <td>3.08</td>\n",
       "      <td>1.0</td>\n",
       "    </tr>\n",
       "    <tr>\n",
       "      <th>2996</th>\n",
       "      <td>50</td>\n",
       "      <td>109.0</td>\n",
       "      <td>1</td>\n",
       "      <td>1</td>\n",
       "      <td>1</td>\n",
       "      <td>46.0</td>\n",
       "      <td>165.2</td>\n",
       "      <td>85.0</td>\n",
       "      <td>28.08</td>\n",
       "      <td>136.0</td>\n",
       "      <td>92.0</td>\n",
       "      <td>11.56</td>\n",
       "      <td>184.8</td>\n",
       "      <td>100.0</td>\n",
       "      <td>8.32</td>\n",
       "      <td>11.9</td>\n",
       "      <td>5.0</td>\n",
       "      <td>3.21</td>\n",
       "      <td>1.0</td>\n",
       "    </tr>\n",
       "    <tr>\n",
       "      <th>1568</th>\n",
       "      <td>32</td>\n",
       "      <td>107.0</td>\n",
       "      <td>1</td>\n",
       "      <td>0</td>\n",
       "      <td>0</td>\n",
       "      <td>0.0</td>\n",
       "      <td>222.3</td>\n",
       "      <td>101.0</td>\n",
       "      <td>37.79</td>\n",
       "      <td>286.0</td>\n",
       "      <td>111.0</td>\n",
       "      <td>24.31</td>\n",
       "      <td>249.4</td>\n",
       "      <td>117.0</td>\n",
       "      <td>11.22</td>\n",
       "      <td>12.1</td>\n",
       "      <td>4.0</td>\n",
       "      <td>3.27</td>\n",
       "      <td>1.0</td>\n",
       "    </tr>\n",
       "  </tbody>\n",
       "</table>\n",
       "</div>"
      ],
      "text/plain": [
       "      state  account_length  area_code  international_plan  voice_mail_plan  \\\n",
       "394      10           141.0          2                   0                1   \n",
       "2747     47           121.0          2                   0                0   \n",
       "3305     16            51.0          1                   0                1   \n",
       "3415     19           116.0          1                   0                0   \n",
       "992       7           123.0          1                   0                0   \n",
       "1727     43           136.0          0                   0                0   \n",
       "1964     14           148.0          0                   0                1   \n",
       "1584     34            99.0          1                   0                0   \n",
       "2996     50           109.0          1                   1                1   \n",
       "1568     32           107.0          1                   0                0   \n",
       "\n",
       "      number_vmail_messages  total_day_minutes  total_day_calls  \\\n",
       "394                    23.0              149.7            112.0   \n",
       "2747                    0.0              255.1             93.0   \n",
       "3305                   43.0              158.2             94.0   \n",
       "3415                    0.0              119.0             94.0   \n",
       "992                     0.0              211.0             92.0   \n",
       "1727                    0.0              269.8            106.0   \n",
       "1964                   25.0              230.7            102.0   \n",
       "1584                    0.0              145.6            102.0   \n",
       "2996                   46.0              165.2             85.0   \n",
       "1568                    0.0              222.3            101.0   \n",
       "\n",
       "      total_day_charge  total_eve_minutes  total_eve_calls  total_eve_charge  \\\n",
       "394              25.45              162.5            118.0             13.81   \n",
       "2747             43.37              266.9             97.0             22.69   \n",
       "3305             26.89              213.2            105.0             18.12   \n",
       "3415             20.23              144.3            110.0             12.27   \n",
       "992              35.87              217.0            102.0             18.45   \n",
       "1727             45.87              228.8            101.0             19.45   \n",
       "1964             39.22              233.8            109.0             19.87   \n",
       "1584             24.75              230.9             87.0             19.63   \n",
       "2996             28.08              136.0             92.0             11.56   \n",
       "1568             37.79              286.0            111.0             24.31   \n",
       "\n",
       "      total_night_minutes  total_night_calls  total_night_charge  \\\n",
       "394                 220.3              115.0                9.91   \n",
       "2747                197.7                NaN                8.90   \n",
       "3305                190.4               91.0                8.57   \n",
       "3415                199.7               65.0                8.99   \n",
       "992                 214.8              104.0                9.67   \n",
       "1727                257.5              106.0               11.59   \n",
       "1964                215.8               90.0                9.71   \n",
       "1584                181.5               86.0                8.17   \n",
       "2996                184.8              100.0                8.32   \n",
       "1568                249.4              117.0               11.22   \n",
       "\n",
       "      total_intl_minutes  total_intl_calls  total_intl_charge  \\\n",
       "394                  7.6               2.0               2.05   \n",
       "2747                 8.8               3.0               2.38   \n",
       "3305                 8.5               2.0               2.30   \n",
       "3415                 8.8               5.0               2.38   \n",
       "992                  9.8               7.0               2.65   \n",
       "1727                10.1               8.0               2.73   \n",
       "1964                13.5               2.0               3.65   \n",
       "1584                11.4               7.0               3.08   \n",
       "2996                11.9               5.0               3.21   \n",
       "1568                12.1               4.0               3.27   \n",
       "\n",
       "      number_customer_service_calls  \n",
       "394                             3.0  \n",
       "2747                            3.0  \n",
       "3305                            2.0  \n",
       "3415                            2.0  \n",
       "992                             3.0  \n",
       "1727                            1.0  \n",
       "1964                            3.0  \n",
       "1584                            1.0  \n",
       "2996                            1.0  \n",
       "1568                            1.0  "
      ]
     },
     "execution_count": 130,
     "metadata": {},
     "output_type": "execute_result"
    }
   ],
   "source": [
    "test = X_test.sample(10)\n",
    "test"
   ]
  },
  {
   "cell_type": "code",
   "execution_count": 131,
   "metadata": {},
   "outputs": [
    {
     "name": "stdout",
     "output_type": "stream",
     "text": [
      "[[0.94789375 0.05210625]\n",
      " [0.37135084 0.62864916]\n",
      " [0.94123791 0.05876209]\n",
      " [0.89364294 0.10635706]\n",
      " [0.98301912 0.01698088]\n",
      " [0.27047778 0.72952222]\n",
      " [0.89813942 0.10186058]\n",
      " [0.95903354 0.04096646]\n",
      " [0.85381235 0.14618765]\n",
      " [0.53600296 0.46399704]]\n",
      "[0 1 0 0 0 1 0 0 0 0]\n"
     ]
    }
   ],
   "source": [
    "print(loaded_model.predict_proba(test))\n",
    "print(loaded_model.predict(test))"
   ]
  },
  {
   "cell_type": "code",
   "execution_count": 132,
   "metadata": {},
   "outputs": [
    {
     "data": {
      "text/plain": [
       "array([0, 1, 0, 0, 0, 1, 0, 0, 0, 1])"
      ]
     },
     "execution_count": 132,
     "metadata": {},
     "output_type": "execute_result"
    }
   ],
   "source": [
    "y_pred_proba_new_threshold = (loaded_model.predict_proba(test)[:,1] >= threshold).astype(int)\n",
    "y_pred_proba_new_threshold"
   ]
  },
  {
   "cell_type": "code",
   "execution_count": null,
   "metadata": {},
   "outputs": [],
   "source": []
  },
  {
   "cell_type": "code",
   "execution_count": null,
   "metadata": {},
   "outputs": [],
   "source": []
  },
  {
   "cell_type": "code",
   "execution_count": null,
   "metadata": {},
   "outputs": [],
   "source": [
    "# p(a) = 0.7\n",
    "# p(b) = 0.3\n",
    "# if p(a)>=p(b):\n",
    "#     then class a\n",
    "# else class b"
   ]
  },
  {
   "cell_type": "code",
   "execution_count": null,
   "metadata": {},
   "outputs": [],
   "source": [
    "# if p(1)>=0.43:\n",
    "#     then class 1\n",
    "# else class 0"
   ]
  },
  {
   "cell_type": "code",
   "execution_count": null,
   "metadata": {},
   "outputs": [],
   "source": [
    "# p(1) = 0.45\n",
    "# p(0) = 0.55"
   ]
  },
  {
   "cell_type": "code",
   "execution_count": null,
   "metadata": {
    "id": "76C25mFGWxPs"
   },
   "outputs": [],
   "source": []
  }
 ],
 "metadata": {
  "colab": {
   "collapsed_sections": [],
   "name": "GroupA_DataModelling_final.ipynb",
   "provenance": []
  },
  "kernelspec": {
   "display_name": "Python 3 (ipykernel)",
   "language": "python",
   "name": "python3"
  },
  "language_info": {
   "codemirror_mode": {
    "name": "ipython",
    "version": 3
   },
   "file_extension": ".py",
   "mimetype": "text/x-python",
   "name": "python",
   "nbconvert_exporter": "python",
   "pygments_lexer": "ipython3",
   "version": "3.9.6"
  }
 },
 "nbformat": 4,
 "nbformat_minor": 1
}
