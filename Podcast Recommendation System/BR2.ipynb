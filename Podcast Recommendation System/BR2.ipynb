{
  "nbformat": 4,
  "nbformat_minor": 0,
  "metadata": {
    "colab": {
      "name": "BR2.ipynb",
      "provenance": []
    },
    "kernelspec": {
      "name": "python3",
      "display_name": "Python 3"
    },
    "language_info": {
      "name": "python"
    }
  },
  "cells": [
    {
      "cell_type": "code",
      "metadata": {
        "id": "TFDzhqqvGJR3"
      },
      "source": [
        "import pandas as pd\n",
        "import seaborn as sns\n",
        "import matplotlib.pyplot as plt\n",
        "import numpy as np\n",
        "\n",
        "import warnings # supress warnings\n",
        "warnings.filterwarnings('ignore')"
      ],
      "execution_count": 1,
      "outputs": []
    },
    {
      "cell_type": "code",
      "metadata": {
        "id": "Du_vRS6eGLfZ"
      },
      "source": [
        "books_data = pd.read_csv('/content/drive/MyDrive/Preprocessed_data.csv')"
      ],
      "execution_count": 2,
      "outputs": []
    },
    {
      "cell_type": "code",
      "metadata": {
        "colab": {
          "base_uri": "https://localhost:8080/",
          "height": 305
        },
        "id": "N1zOi28DGit5",
        "outputId": "9408f403-b80e-4d0f-a7e0-c2534a3288ad"
      },
      "source": [
        "books_data.head(2)"
      ],
      "execution_count": 3,
      "outputs": [
        {
          "output_type": "execute_result",
          "data": {
            "text/html": [
              "<div>\n",
              "<style scoped>\n",
              "    .dataframe tbody tr th:only-of-type {\n",
              "        vertical-align: middle;\n",
              "    }\n",
              "\n",
              "    .dataframe tbody tr th {\n",
              "        vertical-align: top;\n",
              "    }\n",
              "\n",
              "    .dataframe thead th {\n",
              "        text-align: right;\n",
              "    }\n",
              "</style>\n",
              "<table border=\"1\" class=\"dataframe\">\n",
              "  <thead>\n",
              "    <tr style=\"text-align: right;\">\n",
              "      <th></th>\n",
              "      <th>Unnamed: 0</th>\n",
              "      <th>user_id</th>\n",
              "      <th>location</th>\n",
              "      <th>age</th>\n",
              "      <th>isbn</th>\n",
              "      <th>rating</th>\n",
              "      <th>book_title</th>\n",
              "      <th>book_author</th>\n",
              "      <th>year_of_publication</th>\n",
              "      <th>publisher</th>\n",
              "      <th>img_s</th>\n",
              "      <th>img_m</th>\n",
              "      <th>img_l</th>\n",
              "      <th>Summary</th>\n",
              "      <th>Language</th>\n",
              "      <th>Category</th>\n",
              "      <th>city</th>\n",
              "      <th>state</th>\n",
              "      <th>country</th>\n",
              "    </tr>\n",
              "  </thead>\n",
              "  <tbody>\n",
              "    <tr>\n",
              "      <th>0</th>\n",
              "      <td>0</td>\n",
              "      <td>2</td>\n",
              "      <td>stockton, california, usa</td>\n",
              "      <td>18.0000</td>\n",
              "      <td>0195153448</td>\n",
              "      <td>0</td>\n",
              "      <td>Classical Mythology</td>\n",
              "      <td>Mark P. O. Morford</td>\n",
              "      <td>2002.0</td>\n",
              "      <td>Oxford University Press</td>\n",
              "      <td>http://images.amazon.com/images/P/0195153448.0...</td>\n",
              "      <td>http://images.amazon.com/images/P/0195153448.0...</td>\n",
              "      <td>http://images.amazon.com/images/P/0195153448.0...</td>\n",
              "      <td>Provides an introduction to classical myths pl...</td>\n",
              "      <td>en</td>\n",
              "      <td>['Social Science']</td>\n",
              "      <td>stockton</td>\n",
              "      <td>california</td>\n",
              "      <td>usa</td>\n",
              "    </tr>\n",
              "    <tr>\n",
              "      <th>1</th>\n",
              "      <td>1</td>\n",
              "      <td>8</td>\n",
              "      <td>timmins, ontario, canada</td>\n",
              "      <td>34.7439</td>\n",
              "      <td>0002005018</td>\n",
              "      <td>5</td>\n",
              "      <td>Clara Callan</td>\n",
              "      <td>Richard Bruce Wright</td>\n",
              "      <td>2001.0</td>\n",
              "      <td>HarperFlamingo Canada</td>\n",
              "      <td>http://images.amazon.com/images/P/0002005018.0...</td>\n",
              "      <td>http://images.amazon.com/images/P/0002005018.0...</td>\n",
              "      <td>http://images.amazon.com/images/P/0002005018.0...</td>\n",
              "      <td>In a small town in Canada, Clara Callan reluct...</td>\n",
              "      <td>en</td>\n",
              "      <td>['Actresses']</td>\n",
              "      <td>timmins</td>\n",
              "      <td>ontario</td>\n",
              "      <td>canada</td>\n",
              "    </tr>\n",
              "  </tbody>\n",
              "</table>\n",
              "</div>"
            ],
            "text/plain": [
              "   Unnamed: 0  user_id                   location  ...      city       state  country\n",
              "0           0        2  stockton, california, usa  ...  stockton  california      usa\n",
              "1           1        8   timmins, ontario, canada  ...   timmins     ontario   canada\n",
              "\n",
              "[2 rows x 19 columns]"
            ]
          },
          "metadata": {
            "tags": []
          },
          "execution_count": 3
        }
      ]
    },
    {
      "cell_type": "code",
      "metadata": {
        "id": "tGMqD0pXGsNS"
      },
      "source": [
        "books_data.drop('Unnamed: 0',inplace=True,axis=1)"
      ],
      "execution_count": 4,
      "outputs": []
    },
    {
      "cell_type": "code",
      "metadata": {
        "colab": {
          "base_uri": "https://localhost:8080/",
          "height": 288
        },
        "id": "yPx7bDdNHAEQ",
        "outputId": "11ac78d0-0e78-4720-cf0e-cbce9495a27b"
      },
      "source": [
        "books_data.head(2)"
      ],
      "execution_count": 5,
      "outputs": [
        {
          "output_type": "execute_result",
          "data": {
            "text/html": [
              "<div>\n",
              "<style scoped>\n",
              "    .dataframe tbody tr th:only-of-type {\n",
              "        vertical-align: middle;\n",
              "    }\n",
              "\n",
              "    .dataframe tbody tr th {\n",
              "        vertical-align: top;\n",
              "    }\n",
              "\n",
              "    .dataframe thead th {\n",
              "        text-align: right;\n",
              "    }\n",
              "</style>\n",
              "<table border=\"1\" class=\"dataframe\">\n",
              "  <thead>\n",
              "    <tr style=\"text-align: right;\">\n",
              "      <th></th>\n",
              "      <th>user_id</th>\n",
              "      <th>location</th>\n",
              "      <th>age</th>\n",
              "      <th>isbn</th>\n",
              "      <th>rating</th>\n",
              "      <th>book_title</th>\n",
              "      <th>book_author</th>\n",
              "      <th>year_of_publication</th>\n",
              "      <th>publisher</th>\n",
              "      <th>img_s</th>\n",
              "      <th>img_m</th>\n",
              "      <th>img_l</th>\n",
              "      <th>Summary</th>\n",
              "      <th>Language</th>\n",
              "      <th>Category</th>\n",
              "      <th>city</th>\n",
              "      <th>state</th>\n",
              "      <th>country</th>\n",
              "    </tr>\n",
              "  </thead>\n",
              "  <tbody>\n",
              "    <tr>\n",
              "      <th>0</th>\n",
              "      <td>2</td>\n",
              "      <td>stockton, california, usa</td>\n",
              "      <td>18.0000</td>\n",
              "      <td>0195153448</td>\n",
              "      <td>0</td>\n",
              "      <td>Classical Mythology</td>\n",
              "      <td>Mark P. O. Morford</td>\n",
              "      <td>2002.0</td>\n",
              "      <td>Oxford University Press</td>\n",
              "      <td>http://images.amazon.com/images/P/0195153448.0...</td>\n",
              "      <td>http://images.amazon.com/images/P/0195153448.0...</td>\n",
              "      <td>http://images.amazon.com/images/P/0195153448.0...</td>\n",
              "      <td>Provides an introduction to classical myths pl...</td>\n",
              "      <td>en</td>\n",
              "      <td>['Social Science']</td>\n",
              "      <td>stockton</td>\n",
              "      <td>california</td>\n",
              "      <td>usa</td>\n",
              "    </tr>\n",
              "    <tr>\n",
              "      <th>1</th>\n",
              "      <td>8</td>\n",
              "      <td>timmins, ontario, canada</td>\n",
              "      <td>34.7439</td>\n",
              "      <td>0002005018</td>\n",
              "      <td>5</td>\n",
              "      <td>Clara Callan</td>\n",
              "      <td>Richard Bruce Wright</td>\n",
              "      <td>2001.0</td>\n",
              "      <td>HarperFlamingo Canada</td>\n",
              "      <td>http://images.amazon.com/images/P/0002005018.0...</td>\n",
              "      <td>http://images.amazon.com/images/P/0002005018.0...</td>\n",
              "      <td>http://images.amazon.com/images/P/0002005018.0...</td>\n",
              "      <td>In a small town in Canada, Clara Callan reluct...</td>\n",
              "      <td>en</td>\n",
              "      <td>['Actresses']</td>\n",
              "      <td>timmins</td>\n",
              "      <td>ontario</td>\n",
              "      <td>canada</td>\n",
              "    </tr>\n",
              "  </tbody>\n",
              "</table>\n",
              "</div>"
            ],
            "text/plain": [
              "   user_id                   location      age  ...      city       state country\n",
              "0        2  stockton, california, usa  18.0000  ...  stockton  california     usa\n",
              "1        8   timmins, ontario, canada  34.7439  ...   timmins     ontario  canada\n",
              "\n",
              "[2 rows x 18 columns]"
            ]
          },
          "metadata": {
            "tags": []
          },
          "execution_count": 5
        }
      ]
    },
    {
      "cell_type": "code",
      "metadata": {
        "colab": {
          "base_uri": "https://localhost:8080/"
        },
        "id": "V5pIoqv2HDAX",
        "outputId": "27666ff7-c062-415f-a709-8e8a7ddb6903"
      },
      "source": [
        "books_data.shape"
      ],
      "execution_count": 6,
      "outputs": [
        {
          "output_type": "execute_result",
          "data": {
            "text/plain": [
              "(1031175, 18)"
            ]
          },
          "metadata": {
            "tags": []
          },
          "execution_count": 6
        }
      ]
    },
    {
      "cell_type": "code",
      "metadata": {
        "colab": {
          "base_uri": "https://localhost:8080/"
        },
        "id": "WbBkiQ0KHLNh",
        "outputId": "6f7a7d31-2bec-4a74-b9a6-19a149afb305"
      },
      "source": [
        "books_data.columns"
      ],
      "execution_count": 7,
      "outputs": [
        {
          "output_type": "execute_result",
          "data": {
            "text/plain": [
              "Index(['user_id', 'location', 'age', 'isbn', 'rating', 'book_title',\n",
              "       'book_author', 'year_of_publication', 'publisher', 'img_s', 'img_m',\n",
              "       'img_l', 'Summary', 'Language', 'Category', 'city', 'state', 'country'],\n",
              "      dtype='object')"
            ]
          },
          "metadata": {
            "tags": []
          },
          "execution_count": 7
        }
      ]
    },
    {
      "cell_type": "code",
      "metadata": {
        "colab": {
          "base_uri": "https://localhost:8080/"
        },
        "id": "5TkIEGCLHOIW",
        "outputId": "6ac0a982-546b-422e-aae1-a2460f5a05ec"
      },
      "source": [
        "books_data.isnull().sum()"
      ],
      "execution_count": 8,
      "outputs": [
        {
          "output_type": "execute_result",
          "data": {
            "text/plain": [
              "user_id                    0\n",
              "location                   0\n",
              "age                        0\n",
              "isbn                       0\n",
              "rating                     0\n",
              "book_title                 0\n",
              "book_author                0\n",
              "year_of_publication        0\n",
              "publisher                  0\n",
              "img_s                      0\n",
              "img_m                      0\n",
              "img_l                      0\n",
              "Summary                    0\n",
              "Language                   0\n",
              "Category                   0\n",
              "city                   14103\n",
              "state                  22798\n",
              "country                35374\n",
              "dtype: int64"
            ]
          },
          "metadata": {
            "tags": []
          },
          "execution_count": 8
        }
      ]
    },
    {
      "cell_type": "code",
      "metadata": {
        "colab": {
          "base_uri": "https://localhost:8080/"
        },
        "id": "vnrve4FGHX_t",
        "outputId": "f889ea46-5467-4738-a0e0-3e779415768d"
      },
      "source": [
        "books_data.dtypes"
      ],
      "execution_count": 9,
      "outputs": [
        {
          "output_type": "execute_result",
          "data": {
            "text/plain": [
              "user_id                  int64\n",
              "location                object\n",
              "age                    float64\n",
              "isbn                    object\n",
              "rating                   int64\n",
              "book_title              object\n",
              "book_author             object\n",
              "year_of_publication    float64\n",
              "publisher               object\n",
              "img_s                   object\n",
              "img_m                   object\n",
              "img_l                   object\n",
              "Summary                 object\n",
              "Language                object\n",
              "Category                object\n",
              "city                    object\n",
              "state                   object\n",
              "country                 object\n",
              "dtype: object"
            ]
          },
          "metadata": {
            "tags": []
          },
          "execution_count": 9
        }
      ]
    },
    {
      "cell_type": "code",
      "metadata": {
        "colab": {
          "base_uri": "https://localhost:8080/",
          "height": 175
        },
        "id": "CS0AqvK5Hq7j",
        "outputId": "92613df1-514e-4de7-8fde-a7a010b1ecd3"
      },
      "source": [
        "books_data.describe().T"
      ],
      "execution_count": 10,
      "outputs": [
        {
          "output_type": "execute_result",
          "data": {
            "text/html": [
              "<div>\n",
              "<style scoped>\n",
              "    .dataframe tbody tr th:only-of-type {\n",
              "        vertical-align: middle;\n",
              "    }\n",
              "\n",
              "    .dataframe tbody tr th {\n",
              "        vertical-align: top;\n",
              "    }\n",
              "\n",
              "    .dataframe thead th {\n",
              "        text-align: right;\n",
              "    }\n",
              "</style>\n",
              "<table border=\"1\" class=\"dataframe\">\n",
              "  <thead>\n",
              "    <tr style=\"text-align: right;\">\n",
              "      <th></th>\n",
              "      <th>count</th>\n",
              "      <th>mean</th>\n",
              "      <th>std</th>\n",
              "      <th>min</th>\n",
              "      <th>25%</th>\n",
              "      <th>50%</th>\n",
              "      <th>75%</th>\n",
              "      <th>max</th>\n",
              "    </tr>\n",
              "  </thead>\n",
              "  <tbody>\n",
              "    <tr>\n",
              "      <th>user_id</th>\n",
              "      <td>1031175.0</td>\n",
              "      <td>140594.373956</td>\n",
              "      <td>80524.435020</td>\n",
              "      <td>2.0</td>\n",
              "      <td>70415.0</td>\n",
              "      <td>141210.0000</td>\n",
              "      <td>211426.0</td>\n",
              "      <td>278854.0</td>\n",
              "    </tr>\n",
              "    <tr>\n",
              "      <th>age</th>\n",
              "      <td>1031175.0</td>\n",
              "      <td>36.429017</td>\n",
              "      <td>10.353539</td>\n",
              "      <td>5.0</td>\n",
              "      <td>31.0</td>\n",
              "      <td>34.7439</td>\n",
              "      <td>41.0</td>\n",
              "      <td>99.0</td>\n",
              "    </tr>\n",
              "    <tr>\n",
              "      <th>rating</th>\n",
              "      <td>1031175.0</td>\n",
              "      <td>2.839022</td>\n",
              "      <td>3.854149</td>\n",
              "      <td>0.0</td>\n",
              "      <td>0.0</td>\n",
              "      <td>0.0000</td>\n",
              "      <td>7.0</td>\n",
              "      <td>10.0</td>\n",
              "    </tr>\n",
              "    <tr>\n",
              "      <th>year_of_publication</th>\n",
              "      <td>1031175.0</td>\n",
              "      <td>1995.282684</td>\n",
              "      <td>7.309340</td>\n",
              "      <td>1376.0</td>\n",
              "      <td>1992.0</td>\n",
              "      <td>1997.0000</td>\n",
              "      <td>2001.0</td>\n",
              "      <td>2008.0</td>\n",
              "    </tr>\n",
              "  </tbody>\n",
              "</table>\n",
              "</div>"
            ],
            "text/plain": [
              "                         count           mean  ...       75%       max\n",
              "user_id              1031175.0  140594.373956  ...  211426.0  278854.0\n",
              "age                  1031175.0      36.429017  ...      41.0      99.0\n",
              "rating               1031175.0       2.839022  ...       7.0      10.0\n",
              "year_of_publication  1031175.0    1995.282684  ...    2001.0    2008.0\n",
              "\n",
              "[4 rows x 8 columns]"
            ]
          },
          "metadata": {
            "tags": []
          },
          "execution_count": 10
        }
      ]
    },
    {
      "cell_type": "code",
      "metadata": {
        "colab": {
          "base_uri": "https://localhost:8080/",
          "height": 313
        },
        "id": "LX7jDqYxHzXi",
        "outputId": "8159289b-7259-40d7-ba53-6622a7cfccd2"
      },
      "source": [
        "# distribution variable 'rating'\n",
        "\n",
        "books_data.rating.value_counts(sort=False).plot(kind='bar')\n",
        "plt.title('Rating Distribution\\n')\n",
        "plt.xlabel('Rating')\n",
        "plt.ylabel('Count')\n",
        "plt.show()"
      ],
      "execution_count": 11,
      "outputs": [
        {
          "output_type": "display_data",
          "data": {
            "image/png": "[encoded data removed]",
            "text/plain": [
              "<Figure size 432x288 with 1 Axes>"
            ]
          },
          "metadata": {
            "tags": [],
            "needs_background": "light"
          }
        }
      ]
    },
    {
      "cell_type": "code",
      "metadata": {
        "id": "ISx90dffIu0v"
      },
      "source": [
        "# the new variable \"country\" contains missing values that will be set to \"Unknown\"\n",
        "books_data.loc[books_data.country.isnull(),'country']='unknown'"
      ],
      "execution_count": 12,
      "outputs": []
    },
    {
      "cell_type": "code",
      "metadata": {
        "colab": {
          "base_uri": "https://localhost:8080/"
        },
        "id": "7oYsjn-PJPH_",
        "outputId": "8e3ddbbe-40b4-4d13-b445-5c28a9186a57"
      },
      "source": [
        "books_data.isnull().sum()"
      ],
      "execution_count": 13,
      "outputs": [
        {
          "output_type": "execute_result",
          "data": {
            "text/plain": [
              "user_id                    0\n",
              "location                   0\n",
              "age                        0\n",
              "isbn                       0\n",
              "rating                     0\n",
              "book_title                 0\n",
              "book_author                0\n",
              "year_of_publication        0\n",
              "publisher                  0\n",
              "img_s                      0\n",
              "img_m                      0\n",
              "img_l                      0\n",
              "Summary                    0\n",
              "Language                   0\n",
              "Category                   0\n",
              "city                   14103\n",
              "state                  22798\n",
              "country                    0\n",
              "dtype: int64"
            ]
          },
          "metadata": {
            "tags": []
          },
          "execution_count": 13
        }
      ]
    },
    {
      "cell_type": "code",
      "metadata": {
        "id": "Q6enmwRiKBoF"
      },
      "source": [
        "# Change type from float to integer\n",
        "books_data['age'] = books_data['age'].astype(np.int64)"
      ],
      "execution_count": 14,
      "outputs": []
    },
    {
      "cell_type": "code",
      "metadata": {
        "colab": {
          "base_uri": "https://localhost:8080/"
        },
        "id": "yMKkff5DKbHG",
        "outputId": "547db7c5-e498-4fff-f09c-1234e18e7f54"
      },
      "source": [
        "books_data['age'].dtypes"
      ],
      "execution_count": 15,
      "outputs": [
        {
          "output_type": "execute_result",
          "data": {
            "text/plain": [
              "dtype('int64')"
            ]
          },
          "metadata": {
            "tags": []
          },
          "execution_count": 15
        }
      ]
    },
    {
      "cell_type": "code",
      "metadata": {
        "id": "VfX4zxtGKe-D"
      },
      "source": [
        "# drop the irrelant variables (images)\n",
        "books_data = books_data.drop(['img_s', 'img_m', 'img_l'], axis=1)"
      ],
      "execution_count": 16,
      "outputs": []
    },
    {
      "cell_type": "code",
      "metadata": {
        "colab": {
          "base_uri": "https://localhost:8080/"
        },
        "id": "aY_P5tUcKm9W",
        "outputId": "d2f78792-15e4-4b49-eace-7c5fb5171f95"
      },
      "source": [
        "# print unique values in 'year of publication' (see 2 strings and several 0 values)\n",
        "#print(sorted(items_df['year_of_publication'].unique())) this line is giving me an error\n",
        "print(books_data['year_of_publication'].unique().tolist())"
      ],
      "execution_count": 17,
      "outputs": [
        {
          "output_type": "stream",
          "text": [
            "[2002.0, 2001.0, 1991.0, 1999.0, 2000.0, 1993.0, 1996.0, 1988.0, 2004.0, 1998.0, 1994.0, 2003.0, 1997.0, 1987.0, 1989.0, 1992.0, 1983.0, 1979.0, 1995.0, 1982.0, 1985.0, 1986.0, 1978.0, 1980.0, 1952.0, 1990.0, 1981.0, 1984.0, 1968.0, 1961.0, 1959.0, 1946.0, 1974.0, 1958.0, 1976.0, 1971.0, 1977.0, 1975.0, 1965.0, 1941.0, 1970.0, 1972.0, 1953.0, 1962.0, 1973.0, 1960.0, 1954.0, 1966.0, 1920.0, 1967.0, 1956.0, 1942.0, 1955.0, 1951.0, 1969.0, 1948.0, 1963.0, 1964.0, 1950.0, 2005.0, 1943.0, 1957.0, 1937.0, 1940.0, 1930.0, 1923.0, 1945.0, 1947.0, 1936.0, 1925.0, 1927.0, 1939.0, 1926.0, 1938.0, 1911.0, 1904.0, 1949.0, 1932.0, 1929.0, 1944.0, 1933.0, 1922.0, 1897.0, 1902.0, 1924.0, 1921.0, 1900.0, 1928.0, 2006.0, 1901.0, 1931.0, 1378.0, 1908.0, 1909.0, 2008.0, 1935.0, 1376.0, 1906.0, 1806.0, 1917.0, 1919.0, 1914.0, 1934.0, 1910.0]\n"
          ],
          "name": "stdout"
        }
      ]
    },
    {
      "cell_type": "code",
      "metadata": {
        "id": "k6i3rf5-K5B4"
      },
      "source": [
        "# Change type from float to integer\n",
        "books_data['year_of_publication'] = books_data['year_of_publication'].astype(np.int64)"
      ],
      "execution_count": 18,
      "outputs": []
    },
    {
      "cell_type": "code",
      "metadata": {
        "colab": {
          "base_uri": "https://localhost:8080/"
        },
        "id": "ZhJDVHD4LNX4",
        "outputId": "1fc51fc5-b9be-46b1-9f3f-ce63b62190f6"
      },
      "source": [
        "books_data['year_of_publication'].dtypes"
      ],
      "execution_count": 19,
      "outputs": [
        {
          "output_type": "execute_result",
          "data": {
            "text/plain": [
              "dtype('int64')"
            ]
          },
          "metadata": {
            "tags": []
          },
          "execution_count": 19
        }
      ]
    },
    {
      "cell_type": "code",
      "metadata": {
        "id": "DDjM6bR4LbD6"
      },
      "source": [
        "# Replace inconsistent values (values below 1800 and above 2004 will be replaced with the mean value)\n",
        "books_data.loc[(books_data['year_of_publication'] == 0)|(books_data['year_of_publication'] > 2004) | (books_data['year_of_publication'] < 1800), 'year_of_publication' ] = np.nan\n",
        "books_data['year_of_publication'] = books_data['year_of_publication'].fillna(round(books_data['year_of_publication'].mean()))"
      ],
      "execution_count": 20,
      "outputs": []
    },
    {
      "cell_type": "code",
      "metadata": {
        "id": "UlFtK1JdMCae"
      },
      "source": [
        "books_data['city'] = books_data['city'].fillna('unknown')\n",
        "books_data['state'] = books_data['state'].fillna('unknown')"
      ],
      "execution_count": 21,
      "outputs": []
    },
    {
      "cell_type": "code",
      "metadata": {
        "id": "OYjXL6VGM_SZ"
      },
      "source": [
        "books_data = books_data.drop(['location'], axis=1)"
      ],
      "execution_count": 22,
      "outputs": []
    },
    {
      "cell_type": "code",
      "metadata": {
        "colab": {
          "base_uri": "https://localhost:8080/"
        },
        "id": "9JWrf8xjNGxf",
        "outputId": "b148cb44-2acc-4c3d-f3d7-5609cf139b8c"
      },
      "source": [
        "books_data.isnull().sum()"
      ],
      "execution_count": 23,
      "outputs": [
        {
          "output_type": "execute_result",
          "data": {
            "text/plain": [
              "user_id                0\n",
              "age                    0\n",
              "isbn                   0\n",
              "rating                 0\n",
              "book_title             0\n",
              "book_author            0\n",
              "year_of_publication    0\n",
              "publisher              0\n",
              "Summary                0\n",
              "Language               0\n",
              "Category               0\n",
              "city                   0\n",
              "state                  0\n",
              "country                0\n",
              "dtype: int64"
            ]
          },
          "metadata": {
            "tags": []
          },
          "execution_count": 23
        }
      ]
    },
    {
      "cell_type": "code",
      "metadata": {
        "colab": {
          "base_uri": "https://localhost:8080/",
          "height": 1000
        },
        "id": "82JNUSZUNJ9X",
        "outputId": "802f4947-3695-4a05-c5f4-84f5ce5a8886"
      },
      "source": [
        "books_data"
      ],
      "execution_count": 24,
      "outputs": [
        {
          "output_type": "execute_result",
          "data": {
            "text/html": [
              "<div>\n",
              "<style scoped>\n",
              "    .dataframe tbody tr th:only-of-type {\n",
              "        vertical-align: middle;\n",
              "    }\n",
              "\n",
              "    .dataframe tbody tr th {\n",
              "        vertical-align: top;\n",
              "    }\n",
              "\n",
              "    .dataframe thead th {\n",
              "        text-align: right;\n",
              "    }\n",
              "</style>\n",
              "<table border=\"1\" class=\"dataframe\">\n",
              "  <thead>\n",
              "    <tr style=\"text-align: right;\">\n",
              "      <th></th>\n",
              "      <th>user_id</th>\n",
              "      <th>age</th>\n",
              "      <th>isbn</th>\n",
              "      <th>rating</th>\n",
              "      <th>book_title</th>\n",
              "      <th>book_author</th>\n",
              "      <th>year_of_publication</th>\n",
              "      <th>publisher</th>\n",
              "      <th>Summary</th>\n",
              "      <th>Language</th>\n",
              "      <th>Category</th>\n",
              "      <th>city</th>\n",
              "      <th>state</th>\n",
              "      <th>country</th>\n",
              "    </tr>\n",
              "  </thead>\n",
              "  <tbody>\n",
              "    <tr>\n",
              "      <th>0</th>\n",
              "      <td>2</td>\n",
              "      <td>18</td>\n",
              "      <td>0195153448</td>\n",
              "      <td>0</td>\n",
              "      <td>Classical Mythology</td>\n",
              "      <td>Mark P. O. Morford</td>\n",
              "      <td>2002.0</td>\n",
              "      <td>Oxford University Press</td>\n",
              "      <td>Provides an introduction to classical myths pl...</td>\n",
              "      <td>en</td>\n",
              "      <td>['Social Science']</td>\n",
              "      <td>stockton</td>\n",
              "      <td>california</td>\n",
              "      <td>usa</td>\n",
              "    </tr>\n",
              "    <tr>\n",
              "      <th>1</th>\n",
              "      <td>8</td>\n",
              "      <td>34</td>\n",
              "      <td>0002005018</td>\n",
              "      <td>5</td>\n",
              "      <td>Clara Callan</td>\n",
              "      <td>Richard Bruce Wright</td>\n",
              "      <td>2001.0</td>\n",
              "      <td>HarperFlamingo Canada</td>\n",
              "      <td>In a small town in Canada, Clara Callan reluct...</td>\n",
              "      <td>en</td>\n",
              "      <td>['Actresses']</td>\n",
              "      <td>timmins</td>\n",
              "      <td>ontario</td>\n",
              "      <td>canada</td>\n",
              "    </tr>\n",
              "    <tr>\n",
              "      <th>2</th>\n",
              "      <td>11400</td>\n",
              "      <td>49</td>\n",
              "      <td>0002005018</td>\n",
              "      <td>0</td>\n",
              "      <td>Clara Callan</td>\n",
              "      <td>Richard Bruce Wright</td>\n",
              "      <td>2001.0</td>\n",
              "      <td>HarperFlamingo Canada</td>\n",
              "      <td>In a small town in Canada, Clara Callan reluct...</td>\n",
              "      <td>en</td>\n",
              "      <td>['Actresses']</td>\n",
              "      <td>ottawa</td>\n",
              "      <td>ontario</td>\n",
              "      <td>canada</td>\n",
              "    </tr>\n",
              "    <tr>\n",
              "      <th>3</th>\n",
              "      <td>11676</td>\n",
              "      <td>34</td>\n",
              "      <td>0002005018</td>\n",
              "      <td>8</td>\n",
              "      <td>Clara Callan</td>\n",
              "      <td>Richard Bruce Wright</td>\n",
              "      <td>2001.0</td>\n",
              "      <td>HarperFlamingo Canada</td>\n",
              "      <td>In a small town in Canada, Clara Callan reluct...</td>\n",
              "      <td>en</td>\n",
              "      <td>['Actresses']</td>\n",
              "      <td>unknown</td>\n",
              "      <td>unknown</td>\n",
              "      <td>unknown</td>\n",
              "    </tr>\n",
              "    <tr>\n",
              "      <th>4</th>\n",
              "      <td>41385</td>\n",
              "      <td>34</td>\n",
              "      <td>0002005018</td>\n",
              "      <td>0</td>\n",
              "      <td>Clara Callan</td>\n",
              "      <td>Richard Bruce Wright</td>\n",
              "      <td>2001.0</td>\n",
              "      <td>HarperFlamingo Canada</td>\n",
              "      <td>In a small town in Canada, Clara Callan reluct...</td>\n",
              "      <td>en</td>\n",
              "      <td>['Actresses']</td>\n",
              "      <td>sudbury</td>\n",
              "      <td>ontario</td>\n",
              "      <td>canada</td>\n",
              "    </tr>\n",
              "    <tr>\n",
              "      <th>...</th>\n",
              "      <td>...</td>\n",
              "      <td>...</td>\n",
              "      <td>...</td>\n",
              "      <td>...</td>\n",
              "      <td>...</td>\n",
              "      <td>...</td>\n",
              "      <td>...</td>\n",
              "      <td>...</td>\n",
              "      <td>...</td>\n",
              "      <td>...</td>\n",
              "      <td>...</td>\n",
              "      <td>...</td>\n",
              "      <td>...</td>\n",
              "      <td>...</td>\n",
              "    </tr>\n",
              "    <tr>\n",
              "      <th>1031170</th>\n",
              "      <td>278851</td>\n",
              "      <td>33</td>\n",
              "      <td>0743203763</td>\n",
              "      <td>0</td>\n",
              "      <td>As Hogan Said . . . : The 389 Best Things Anyo...</td>\n",
              "      <td>Randy Voorhees</td>\n",
              "      <td>2000.0</td>\n",
              "      <td>Simon &amp; Schuster</td>\n",
              "      <td>Golf lovers will revel in this collection of t...</td>\n",
              "      <td>en</td>\n",
              "      <td>['Humor']</td>\n",
              "      <td>dallas</td>\n",
              "      <td>texas</td>\n",
              "      <td>usa</td>\n",
              "    </tr>\n",
              "    <tr>\n",
              "      <th>1031171</th>\n",
              "      <td>278851</td>\n",
              "      <td>33</td>\n",
              "      <td>0767907566</td>\n",
              "      <td>5</td>\n",
              "      <td>All Elevations Unknown: An Adventure in the He...</td>\n",
              "      <td>Sam Lightner</td>\n",
              "      <td>2001.0</td>\n",
              "      <td>Broadway Books</td>\n",
              "      <td>A daring twist on the travel-adventure genre t...</td>\n",
              "      <td>en</td>\n",
              "      <td>['Nature']</td>\n",
              "      <td>dallas</td>\n",
              "      <td>texas</td>\n",
              "      <td>usa</td>\n",
              "    </tr>\n",
              "    <tr>\n",
              "      <th>1031172</th>\n",
              "      <td>278851</td>\n",
              "      <td>33</td>\n",
              "      <td>0884159221</td>\n",
              "      <td>7</td>\n",
              "      <td>Why stop?: A guide to Texas historical roadsid...</td>\n",
              "      <td>Claude Dooley</td>\n",
              "      <td>1985.0</td>\n",
              "      <td>Lone Star Books</td>\n",
              "      <td>9</td>\n",
              "      <td>9</td>\n",
              "      <td>9</td>\n",
              "      <td>dallas</td>\n",
              "      <td>texas</td>\n",
              "      <td>usa</td>\n",
              "    </tr>\n",
              "    <tr>\n",
              "      <th>1031173</th>\n",
              "      <td>278851</td>\n",
              "      <td>33</td>\n",
              "      <td>0912333022</td>\n",
              "      <td>7</td>\n",
              "      <td>The Are You Being Served? Stories: 'Camping In...</td>\n",
              "      <td>Jeremy Lloyd</td>\n",
              "      <td>1997.0</td>\n",
              "      <td>Kqed Books</td>\n",
              "      <td>These hilarious stories by the creator of publ...</td>\n",
              "      <td>en</td>\n",
              "      <td>['Fiction']</td>\n",
              "      <td>dallas</td>\n",
              "      <td>texas</td>\n",
              "      <td>usa</td>\n",
              "    </tr>\n",
              "    <tr>\n",
              "      <th>1031174</th>\n",
              "      <td>278851</td>\n",
              "      <td>33</td>\n",
              "      <td>1569661057</td>\n",
              "      <td>10</td>\n",
              "      <td>Dallas Street Map Guide and Directory, 2000 Ed...</td>\n",
              "      <td>Mapsco</td>\n",
              "      <td>1999.0</td>\n",
              "      <td>American Map Corporation</td>\n",
              "      <td>9</td>\n",
              "      <td>9</td>\n",
              "      <td>9</td>\n",
              "      <td>dallas</td>\n",
              "      <td>texas</td>\n",
              "      <td>usa</td>\n",
              "    </tr>\n",
              "  </tbody>\n",
              "</table>\n",
              "<p>1031175 rows × 14 columns</p>\n",
              "</div>"
            ],
            "text/plain": [
              "         user_id  age        isbn  ...      city       state  country\n",
              "0              2   18  0195153448  ...  stockton  california      usa\n",
              "1              8   34  0002005018  ...   timmins     ontario   canada\n",
              "2          11400   49  0002005018  ...    ottawa     ontario   canada\n",
              "3          11676   34  0002005018  ...   unknown     unknown  unknown\n",
              "4          41385   34  0002005018  ...   sudbury     ontario   canada\n",
              "...          ...  ...         ...  ...       ...         ...      ...\n",
              "1031170   278851   33  0743203763  ...    dallas       texas      usa\n",
              "1031171   278851   33  0767907566  ...    dallas       texas      usa\n",
              "1031172   278851   33  0884159221  ...    dallas       texas      usa\n",
              "1031173   278851   33  0912333022  ...    dallas       texas      usa\n",
              "1031174   278851   33  1569661057  ...    dallas       texas      usa\n",
              "\n",
              "[1031175 rows x 14 columns]"
            ]
          },
          "metadata": {
            "tags": []
          },
          "execution_count": 24
        }
      ]
    },
    {
      "cell_type": "code",
      "metadata": {
        "colab": {
          "base_uri": "https://localhost:8080/"
        },
        "id": "FXND3CW5NYv5",
        "outputId": "ffff1375-a729-45fa-d697-cdf1c5c5d71c"
      },
      "source": [
        "books_data.duplicated().sum()"
      ],
      "execution_count": 25,
      "outputs": [
        {
          "output_type": "execute_result",
          "data": {
            "text/plain": [
              "0"
            ]
          },
          "metadata": {
            "tags": []
          },
          "execution_count": 25
        }
      ]
    },
    {
      "cell_type": "code",
      "metadata": {
        "colab": {
          "base_uri": "https://localhost:8080/"
        },
        "id": "z-I3DECiNyo1",
        "outputId": "6e1f9111-b041-45fa-e6ff-3a032a396bc1"
      },
      "source": [
        "books_data.shape"
      ],
      "execution_count": 26,
      "outputs": [
        {
          "output_type": "execute_result",
          "data": {
            "text/plain": [
              "(1031175, 14)"
            ]
          },
          "metadata": {
            "tags": []
          },
          "execution_count": 26
        }
      ]
    },
    {
      "cell_type": "code",
      "metadata": {
        "colab": {
          "base_uri": "https://localhost:8080/",
          "height": 313
        },
        "id": "wxqOyfZNN5RG",
        "outputId": "48937d64-d484-44ec-8995-20c71b8e2040"
      },
      "source": [
        "# let's take a look at the percentage frequency of the ratings\n",
        "books_data.rating.value_counts(sort=False, normalize=True).plot(kind='bar')\n",
        "plt.title('Rating Distribution\\n')\n",
        "plt.xlabel('Rating')\n",
        "plt.ylabel('Percentage')\n",
        "plt.show()\n"
      ],
      "execution_count": 27,
      "outputs": [
        {
          "output_type": "display_data",
          "data": {
            "image/png": "[encoded data removed]",
            "text/plain": [
              "<Figure size 432x288 with 1 Axes>"
            ]
          },
          "metadata": {
            "tags": [],
            "needs_background": "light"
          }
        }
      ]
    },
    {
      "cell_type": "code",
      "metadata": {
        "id": "P7PXpm8IOI7c"
      },
      "source": [
        "# Seperate the explicit ratings represented by 1–10 and implicit ratings represented by 0\n",
        "ratings_explicit_df= books_data[books_data['rating'] != 0]\n",
        "ratings_implicit_df= books_data[books_data['rating'] == 0]\n"
      ],
      "execution_count": 28,
      "outputs": []
    },
    {
      "cell_type": "code",
      "metadata": {
        "colab": {
          "base_uri": "https://localhost:8080/"
        },
        "id": "dJHCqj4jOX2O",
        "outputId": "013a9acb-49d5-4482-da3e-0d33303a5799"
      },
      "source": [
        "print('Explicit ratings:', len(ratings_explicit_df))\n",
        "print('Implicit ratings:', len(ratings_implicit_df))"
      ],
      "execution_count": 29,
      "outputs": [
        {
          "output_type": "stream",
          "text": [
            "Explicit ratings: 383852\n",
            "Implicit ratings: 647323\n"
          ],
          "name": "stdout"
        }
      ]
    },
    {
      "cell_type": "code",
      "metadata": {
        "colab": {
          "base_uri": "https://localhost:8080/",
          "height": 409
        },
        "id": "ySjl6E-iObkE",
        "outputId": "3c44cf75-2d1a-41e9-beb8-dde7f7e0922a"
      },
      "source": [
        "# Distribution implicit and explicit ratings\n",
        "plt.figure(figsize=(8,6))\n",
        "sns.countplot(x='rating', data=books_data)\n",
        "sns.despine(top=True, right=True)\n",
        "plt.title('Rating Distribution (incl. Implicit Ratings)', fontsize=16, weight='bold')\n",
        "plt.xlabel('Rating', fontsize=12)\n",
        "plt.ylabel('Count', fontsize=12);"
      ],
      "execution_count": 30,
      "outputs": [
        {
          "output_type": "display_data",
          "data": {
            "image/png": "[encoded data removed]",
            "text/plain": [
              "<Figure size 576x432 with 1 Axes>"
            ]
          },
          "metadata": {
            "tags": [],
            "needs_background": "light"
          }
        }
      ]
    },
    {
      "cell_type": "code",
      "metadata": {
        "colab": {
          "base_uri": "https://localhost:8080/",
          "height": 409
        },
        "id": "bAaY16FcOm3f",
        "outputId": "c03a8b3b-a578-4a3b-e0c1-26ddeb0a83be"
      },
      "source": [
        "# Distribution explicit ratings\n",
        "plt.figure(figsize=(8,6))\n",
        "#sns.countplot(x='rating', data=ratings_explicit_df, palette='crest')\n",
        "sns.countplot(x='rating', data=ratings_explicit_df)\n",
        "sns.despine(top=True, right=True)\n",
        "plt.title('Rating Distribution (1-10)', fontsize=16, weight='bold')\n",
        "plt.xlabel('Rating', fontsize=12)\n",
        "plt.ylabel('Count', fontsize=12);"
      ],
      "execution_count": 31,
      "outputs": [
        {
          "output_type": "display_data",
          "data": {
            "image/png": "[encoded data removed]",
            "text/plain": [
              "<Figure size 576x432 with 1 Axes>"
            ]
          },
          "metadata": {
            "tags": [],
            "needs_background": "light"
          }
        }
      ]
    },
    {
      "cell_type": "code",
      "metadata": {
        "colab": {
          "base_uri": "https://localhost:8080/",
          "height": 206
        },
        "id": "kCCh_18sOtM2",
        "outputId": "cb9f282f-d1af-4a14-c0cd-aa9266e416d0"
      },
      "source": [
        "data = books_data['year_of_publication'].value_counts().head(50).reset_index()\n",
        "data.columns=['year','count']\n",
        "data.head()"
      ],
      "execution_count": 32,
      "outputs": [
        {
          "output_type": "execute_result",
          "data": {
            "text/html": [
              "<div>\n",
              "<style scoped>\n",
              "    .dataframe tbody tr th:only-of-type {\n",
              "        vertical-align: middle;\n",
              "    }\n",
              "\n",
              "    .dataframe tbody tr th {\n",
              "        vertical-align: top;\n",
              "    }\n",
              "\n",
              "    .dataframe thead th {\n",
              "        text-align: right;\n",
              "    }\n",
              "</style>\n",
              "<table border=\"1\" class=\"dataframe\">\n",
              "  <thead>\n",
              "    <tr style=\"text-align: right;\">\n",
              "      <th></th>\n",
              "      <th>year</th>\n",
              "      <th>count</th>\n",
              "    </tr>\n",
              "  </thead>\n",
              "  <tbody>\n",
              "    <tr>\n",
              "      <th>0</th>\n",
              "      <td>2002.0</td>\n",
              "      <td>91801</td>\n",
              "    </tr>\n",
              "    <tr>\n",
              "      <th>1</th>\n",
              "      <td>2001.0</td>\n",
              "      <td>79803</td>\n",
              "    </tr>\n",
              "    <tr>\n",
              "      <th>2</th>\n",
              "      <td>1999.0</td>\n",
              "      <td>75195</td>\n",
              "    </tr>\n",
              "    <tr>\n",
              "      <th>3</th>\n",
              "      <td>2003.0</td>\n",
              "      <td>72539</td>\n",
              "    </tr>\n",
              "    <tr>\n",
              "      <th>4</th>\n",
              "      <td>2000.0</td>\n",
              "      <td>72334</td>\n",
              "    </tr>\n",
              "  </tbody>\n",
              "</table>\n",
              "</div>"
            ],
            "text/plain": [
              "     year  count\n",
              "0  2002.0  91801\n",
              "1  2001.0  79803\n",
              "2  1999.0  75195\n",
              "3  2003.0  72539\n",
              "4  2000.0  72334"
            ]
          },
          "metadata": {
            "tags": []
          },
          "execution_count": 32
        }
      ]
    },
    {
      "cell_type": "code",
      "metadata": {
        "colab": {
          "base_uri": "https://localhost:8080/",
          "height": 862
        },
        "id": "EPWGDY-GO2V_",
        "outputId": "d5715855-208f-4c77-e7a4-c72315743d0f"
      },
      "source": [
        "plt.figure(figsize=(15,15))\n",
        "sns.barplot(x='year',y='count',data=data)\n",
        "plt.xlabel('Year Of Publication')\n",
        "plt.title('Years of publishing',size=20)"
      ],
      "execution_count": 33,
      "outputs": [
        {
          "output_type": "execute_result",
          "data": {
            "text/plain": [
              "Text(0.5, 1.0, 'Years of publishing')"
            ]
          },
          "metadata": {
            "tags": []
          },
          "execution_count": 33
        },
        {
          "output_type": "display_data",
          "data": {
            "image/png": "[encoded data removed]",
            "text/plain": [
              "<Figure size 1080x1080 with 1 Axes>"
            ]
          },
          "metadata": {
            "tags": [],
            "needs_background": "light"
          }
        }
      ]
    },
    {
      "cell_type": "code",
      "metadata": {
        "colab": {
          "base_uri": "https://localhost:8080/",
          "height": 627
        },
        "id": "G1gQYFi9O6cr",
        "outputId": "de9ec0f6-8809-42c7-ab18-0fc9329cec57"
      },
      "source": [
        "data=ratings_explicit_df['book_author'].value_counts().head(50).reset_index()\n",
        "data.columns=['author','count']\n",
        "plt.figure(figsize=(12,10))\n",
        "#sns.barplot(x='count',y='author',data=data, palette='crest')\n",
        "sns.barplot(x='count',y='author',data=data)\n",
        "sns.despine(top=True, right=True)\n",
        "plt.xlabel('Count', fontsize=12)\n",
        "plt.ylabel('Author', fontsize=12)\n",
        "plt.title('Authors With the Most Ratings', fontsize=16, weight='bold');"
      ],
      "execution_count": 34,
      "outputs": [
        {
          "output_type": "display_data",
          "data": {
            "image/png": "[encoded data removed]",
            "text/plain": [
              "<Figure size 864x720 with 1 Axes>"
            ]
          },
          "metadata": {
            "tags": [],
            "needs_background": "light"
          }
        }
      ]
    },
    {
      "cell_type": "code",
      "metadata": {
        "colab": {
          "base_uri": "https://localhost:8080/",
          "height": 501
        },
        "id": "95vNDoloPC4c",
        "outputId": "2aef2b91-8b67-4f91-ccf0-3a49a9b5ae51"
      },
      "source": [
        "data=ratings_explicit_df['book_title'].value_counts().head(50).reset_index()\n",
        "data.columns=['book','count']\n",
        "plt.figure(figsize=(12,10))\n",
        "#sns.barplot(x='count',y='book',data=data, palette='crest')\n",
        "sns.barplot(x='count',y='book',data=data)\n",
        "sns.despine(top=True, right=True)\n",
        "plt.xlabel('Count', fontsize=12)\n",
        "plt.ylabel('Book', fontsize=12)\n",
        "plt.title('Books With the Most Ratings', fontsize=18, weight='bold');"
      ],
      "execution_count": 35,
      "outputs": [
        {
          "output_type": "display_data",
          "data": {
            "image/png": "[encoded data removed]",
            "text/plain": [
              "<Figure size 864x720 with 1 Axes>"
            ]
          },
          "metadata": {
            "tags": [],
            "needs_background": "light"
          }
        }
      ]
    },
    {
      "cell_type": "code",
      "metadata": {
        "colab": {
          "base_uri": "https://localhost:8080/",
          "height": 409
        },
        "id": "oZaeIxpcPJzV",
        "outputId": "69c72765-9355-4627-d215-752017ae3ddb"
      },
      "source": [
        "data=ratings_explicit_df['country'].value_counts().head(11).reset_index()\n",
        "data.columns=['country','count']\n",
        "plt.figure(figsize=(8,6))\n",
        "#sns.barplot(x='count',y='country',data=data, palette='crest')\n",
        "sns.barplot(x='count',y='country',data=data)\n",
        "sns.despine(top=True, right=True)\n",
        "plt.xlabel('Count', fontsize=12)\n",
        "plt.ylabel('Country', fontsize=12)\n",
        "plt.title('Top 10 Countries With the Most Ratings', fontsize=16, weight='bold');"
      ],
      "execution_count": 36,
      "outputs": [
        {
          "output_type": "display_data",
          "data": {
            "image/png": "[encoded data removed]",
            "text/plain": [
              "<Figure size 576x432 with 1 Axes>"
            ]
          },
          "metadata": {
            "tags": [],
            "needs_background": "light"
          }
        }
      ]
    },
    {
      "cell_type": "code",
      "metadata": {
        "colab": {
          "base_uri": "https://localhost:8080/",
          "height": 409
        },
        "id": "k7RVI02pPOKp",
        "outputId": "5654a3ff-ed12-4fd3-a352-0b4d7f169ff2"
      },
      "source": [
        "data = ratings_explicit_df.groupby('rating')['age'].mean().reset_index()\n",
        "data['rating']=data['rating'].astype(int)\n",
        "plt.figure(figsize=(8,6))\n",
        "#sns.barplot(x='rating',y='age',data=data, palette='crest')\n",
        "sns.barplot(x='rating',y='age',data=data)\n",
        "sns.despine(top=True, right=True)\n",
        "plt.xlabel('Ratings', fontsize=12)\n",
        "plt.ylabel('Average Age', fontsize=12)\n",
        "plt.title('Average Age Distribution for Ratings', fontsize=16, weight='bold');"
      ],
      "execution_count": 37,
      "outputs": [
        {
          "output_type": "display_data",
          "data": {
            "image/png": "[encoded data removed]",
            "text/plain": [
              "<Figure size 576x432 with 1 Axes>"
            ]
          },
          "metadata": {
            "tags": [],
            "needs_background": "light"
          }
        }
      ]
    },
    {
      "cell_type": "code",
      "metadata": {
        "id": "jakjk7byPS5v"
      },
      "source": [
        "# making another copy of the explicit ratings data set\n",
        "explic_rat=ratings_explicit_df.copy()"
      ],
      "execution_count": 38,
      "outputs": []
    },
    {
      "cell_type": "code",
      "metadata": {
        "id": "akFq6gIaPVh7"
      },
      "source": [
        "bins = [0,20,40,60,80,110]\n",
        "labels = ['0-19','20-39','40-59','60-79','80+']\n",
        "explic_rat['age_group'] = pd.cut(explic_rat['age'], bins=bins, labels=labels, right=False)"
      ],
      "execution_count": 39,
      "outputs": []
    },
    {
      "cell_type": "code",
      "metadata": {
        "colab": {
          "base_uri": "https://localhost:8080/",
          "height": 408
        },
        "id": "gS_SIR3DPYLd",
        "outputId": "5fa45a4c-15f1-45bd-93d2-a607df5c0c11"
      },
      "source": [
        "crosstab1=pd.crosstab(explic_rat.age_group, explic_rat.rating, rownames=['Age Group'], colnames=['Rating'], margins=False, normalize='index')\n",
        "#crosstab1.plot.bar(cmap='crest', figsize=(8,6))\n",
        "crosstab1.plot.bar(cmap='winter', figsize=(8,6))\n",
        "sns.despine(top=True, right=True)\n",
        "plt.title('Ratings by Age Group', fontsize = 14, weight = 'bold')\n",
        "plt.xlabel('Age Group', fontsize=12)\n",
        "plt.xticks(rotation=0)\n",
        "plt.legend(loc = 'center left', title='Rating', bbox_to_anchor=(1, 0.5));"
      ],
      "execution_count": 40,
      "outputs": [
        {
          "output_type": "display_data",
          "data": {
            "image/png": "[encoded data removed]",
            "text/plain": [
              "<Figure size 576x432 with 1 Axes>"
            ]
          },
          "metadata": {
            "tags": [],
            "needs_background": "light"
          }
        }
      ]
    },
    {
      "cell_type": "code",
      "metadata": {
        "colab": {
          "base_uri": "https://localhost:8080/",
          "height": 279
        },
        "id": "qj0queaDPbLi",
        "outputId": "5fa8c82c-bd39-4eda-b101-8bebfdd9a69c"
      },
      "source": [
        "sns.heatmap(crosstab1, cmap=\"crest\", annot=True, cbar=False);"
      ],
      "execution_count": 41,
      "outputs": [
        {
          "output_type": "display_data",
          "data": {
            "image/png": "[encoded data removed]",
            "text/plain": [
              "<Figure size 432x288 with 1 Axes>"
            ]
          },
          "metadata": {
            "tags": [],
            "needs_background": "light"
          }
        }
      ]
    },
    {
      "cell_type": "code",
      "metadata": {
        "id": "e-UQ_jN1RqLU"
      },
      "source": [
        "age_group=explic_rat['age_group'].value_counts().to_frame().reset_index().rename(columns={'index':'age_group','age_group':'Count'})"
      ],
      "execution_count": 42,
      "outputs": []
    },
    {
      "cell_type": "code",
      "metadata": {
        "id": "_I-sUScRPtqF"
      },
      "source": [
        "import plotly.express as px\n",
        "import plotly.graph_objects as go"
      ],
      "execution_count": 43,
      "outputs": []
    },
    {
      "cell_type": "code",
      "metadata": {
        "colab": {
          "base_uri": "https://localhost:8080/",
          "height": 617
        },
        "id": "ngOmCSK5PujB",
        "outputId": "b1a870d9-3c78-413d-81a6-53d82ec88023"
      },
      "source": [
        "fig = go.Figure(data=[go.Scatter(\n",
        "    x=age_group['age_group'], y=age_group['Count'],\n",
        "    mode='markers',\n",
        "    marker=dict(\n",
        "        color=age_group['Count'],\n",
        "        size=age_group['Count']*0.002,\n",
        "        showscale=True\n",
        "    ))])\n",
        "\n",
        "fig.update_layout(autosize=False,width=800,height=600, title='Age Distribution',xaxis_title='Age Group',yaxis_title='Number Of Users',title_x=0.5)\n",
        "fig.update_xaxes(categoryorder='category ascending')\n",
        "fig.show()"
      ],
      "execution_count": 44,
      "outputs": [
        {
          "output_type": "display_data",
          "data": {
            "text/html": [
              "<html>\n",
              "<head><meta charset=\"utf-8\" /></head>\n",
              "<body>\n",
              "    <div>\n",
              "            <script src=\"https://cdnjs.cloudflare.com/ajax/libs/mathjax/2.7.5/MathJax.js?config=TeX-AMS-MML_SVG\"></script><script type=\"text/javascript\">if (window.MathJax) {MathJax.Hub.Config({SVG: {font: \"STIX-Web\"}});}</script>\n",
              "                <script type=\"text/javascript\">window.PlotlyConfig = {MathJaxConfig: 'local'};</script>\n",
              "        <script src=\"https://cdn.plot.ly/plotly-latest.min.js\"></script>    \n",
              "            <div id=\"bbdf4305-d54e-45f4-9b31-3eecd4b17126\" class=\"plotly-graph-div\" style=\"height:600px; width:800px;\"></div>\n",
              "            <script type=\"text/javascript\">\n",
              "                \n",
              "                    window.PLOTLYENV=window.PLOTLYENV || {};\n",
              "                    \n",
              "                if (document.getElementById(\"bbdf4305-d54e-45f4-9b31-3eecd4b17126\")) {\n",
              "                    Plotly.newPlot(\n",
              "                        'bbdf4305-d54e-45f4-9b31-3eecd4b17126',\n",
              "                        [{\"marker\": {\"color\": [269024, 87490, 16002, 10929, 407], \"showscale\": true, \"size\": [538.048, 174.98, 32.004, 21.858, 0.8140000000000001]}, \"mode\": \"markers\", \"type\": \"scatter\", \"x\": [\"20-39\", \"40-59\", \"0-19\", \"60-79\", \"80+\"], \"y\": [269024, 87490, 16002, 10929, 407]}],\n",
              "                        {\"autosize\": false, \"height\": 600, \"template\": {\"data\": {\"bar\": [{\"error_x\": {\"color\": \"#2a3f5f\"}, \"error_y\": {\"color\": \"#2a3f5f\"}, \"marker\": {\"line\": {\"color\": \"#E5ECF6\", \"width\": 0.5}}, \"type\": \"bar\"}], \"barpolar\": [{\"marker\": {\"line\": {\"color\": \"#E5ECF6\", \"width\": 0.5}}, \"type\": \"barpolar\"}], \"carpet\": [{\"aaxis\": {\"endlinecolor\": \"#2a3f5f\", \"gridcolor\": \"white\", \"linecolor\": \"white\", \"minorgridcolor\": \"white\", \"startlinecolor\": \"#2a3f5f\"}, \"baxis\": {\"endlinecolor\": \"#2a3f5f\", \"gridcolor\": \"white\", \"linecolor\": \"white\", \"minorgridcolor\": \"white\", \"startlinecolor\": \"#2a3f5f\"}, \"type\": \"carpet\"}], \"choropleth\": [{\"colorbar\": {\"outlinewidth\": 0, \"ticks\": \"\"}, \"type\": \"choropleth\"}], \"contour\": [{\"colorbar\": {\"outlinewidth\": 0, \"ticks\": \"\"}, \"colorscale\": [[0.0, \"#0d0887\"], [0.1111111111111111, \"#46039f\"], [0.2222222222222222, \"#7201a8\"], [0.3333333333333333, \"#9c179e\"], [0.4444444444444444, \"#bd3786\"], [0.5555555555555556, \"#d8576b\"], [0.6666666666666666, \"#ed7953\"], [0.7777777777777778, \"#fb9f3a\"], [0.8888888888888888, \"#fdca26\"], [1.0, \"#f0f921\"]], \"type\": \"contour\"}], \"contourcarpet\": [{\"colorbar\": {\"outlinewidth\": 0, \"ticks\": \"\"}, \"type\": \"contourcarpet\"}], \"heatmap\": [{\"colorbar\": {\"outlinewidth\": 0, \"ticks\": \"\"}, \"colorscale\": [[0.0, \"#0d0887\"], [0.1111111111111111, \"#46039f\"], [0.2222222222222222, \"#7201a8\"], [0.3333333333333333, \"#9c179e\"], [0.4444444444444444, \"#bd3786\"], [0.5555555555555556, \"#d8576b\"], [0.6666666666666666, \"#ed7953\"], [0.7777777777777778, \"#fb9f3a\"], [0.8888888888888888, \"#fdca26\"], [1.0, \"#f0f921\"]], \"type\": \"heatmap\"}], \"heatmapgl\": [{\"colorbar\": {\"outlinewidth\": 0, \"ticks\": \"\"}, \"colorscale\": [[0.0, \"#0d0887\"], [0.1111111111111111, \"#46039f\"], [0.2222222222222222, \"#7201a8\"], [0.3333333333333333, \"#9c179e\"], [0.4444444444444444, \"#bd3786\"], [0.5555555555555556, \"#d8576b\"], [0.6666666666666666, \"#ed7953\"], [0.7777777777777778, \"#fb9f3a\"], [0.8888888888888888, \"#fdca26\"], [1.0, \"#f0f921\"]], \"type\": \"heatmapgl\"}], \"histogram\": [{\"marker\": {\"colorbar\": {\"outlinewidth\": 0, \"ticks\": \"\"}}, \"type\": \"histogram\"}], \"histogram2d\": [{\"colorbar\": {\"outlinewidth\": 0, \"ticks\": \"\"}, \"colorscale\": [[0.0, \"#0d0887\"], [0.1111111111111111, \"#46039f\"], [0.2222222222222222, \"#7201a8\"], [0.3333333333333333, \"#9c179e\"], [0.4444444444444444, \"#bd3786\"], [0.5555555555555556, \"#d8576b\"], [0.6666666666666666, \"#ed7953\"], [0.7777777777777778, \"#fb9f3a\"], [0.8888888888888888, \"#fdca26\"], [1.0, \"#f0f921\"]], \"type\": \"histogram2d\"}], \"histogram2dcontour\": [{\"colorbar\": {\"outlinewidth\": 0, \"ticks\": \"\"}, \"colorscale\": [[0.0, \"#0d0887\"], [0.1111111111111111, \"#46039f\"], [0.2222222222222222, \"#7201a8\"], [0.3333333333333333, \"#9c179e\"], [0.4444444444444444, \"#bd3786\"], [0.5555555555555556, \"#d8576b\"], [0.6666666666666666, \"#ed7953\"], [0.7777777777777778, \"#fb9f3a\"], [0.8888888888888888, \"#fdca26\"], [1.0, \"#f0f921\"]], \"type\": \"histogram2dcontour\"}], \"mesh3d\": [{\"colorbar\": {\"outlinewidth\": 0, \"ticks\": \"\"}, \"type\": \"mesh3d\"}], \"parcoords\": [{\"line\": {\"colorbar\": {\"outlinewidth\": 0, \"ticks\": \"\"}}, \"type\": \"parcoords\"}], \"pie\": [{\"automargin\": true, \"type\": \"pie\"}], \"scatter\": [{\"marker\": {\"colorbar\": {\"outlinewidth\": 0, \"ticks\": \"\"}}, \"type\": \"scatter\"}], \"scatter3d\": [{\"line\": {\"colorbar\": {\"outlinewidth\": 0, \"ticks\": \"\"}}, \"marker\": {\"colorbar\": {\"outlinewidth\": 0, \"ticks\": \"\"}}, \"type\": \"scatter3d\"}], \"scattercarpet\": [{\"marker\": {\"colorbar\": {\"outlinewidth\": 0, \"ticks\": \"\"}}, \"type\": \"scattercarpet\"}], \"scattergeo\": [{\"marker\": {\"colorbar\": {\"outlinewidth\": 0, \"ticks\": \"\"}}, \"type\": \"scattergeo\"}], \"scattergl\": [{\"marker\": {\"colorbar\": {\"outlinewidth\": 0, \"ticks\": \"\"}}, \"type\": \"scattergl\"}], \"scattermapbox\": [{\"marker\": {\"colorbar\": {\"outlinewidth\": 0, \"ticks\": \"\"}}, \"type\": \"scattermapbox\"}], \"scatterpolar\": [{\"marker\": {\"colorbar\": {\"outlinewidth\": 0, \"ticks\": \"\"}}, \"type\": \"scatterpolar\"}], \"scatterpolargl\": [{\"marker\": {\"colorbar\": {\"outlinewidth\": 0, \"ticks\": \"\"}}, \"type\": \"scatterpolargl\"}], \"scatterternary\": [{\"marker\": {\"colorbar\": {\"outlinewidth\": 0, \"ticks\": \"\"}}, \"type\": \"scatterternary\"}], \"surface\": [{\"colorbar\": {\"outlinewidth\": 0, \"ticks\": \"\"}, \"colorscale\": [[0.0, \"#0d0887\"], [0.1111111111111111, \"#46039f\"], [0.2222222222222222, \"#7201a8\"], [0.3333333333333333, \"#9c179e\"], [0.4444444444444444, \"#bd3786\"], [0.5555555555555556, \"#d8576b\"], [0.6666666666666666, \"#ed7953\"], [0.7777777777777778, \"#fb9f3a\"], [0.8888888888888888, \"#fdca26\"], [1.0, \"#f0f921\"]], \"type\": \"surface\"}], \"table\": [{\"cells\": {\"fill\": {\"color\": \"#EBF0F8\"}, \"line\": {\"color\": \"white\"}}, \"header\": {\"fill\": {\"color\": \"#C8D4E3\"}, \"line\": {\"color\": \"white\"}}, \"type\": \"table\"}]}, \"layout\": {\"annotationdefaults\": {\"arrowcolor\": \"#2a3f5f\", \"arrowhead\": 0, \"arrowwidth\": 1}, \"coloraxis\": {\"colorbar\": {\"outlinewidth\": 0, \"ticks\": \"\"}}, \"colorscale\": {\"diverging\": [[0, \"#8e0152\"], [0.1, \"#c51b7d\"], [0.2, \"#de77ae\"], [0.3, \"#f1b6da\"], [0.4, \"#fde0ef\"], [0.5, \"#f7f7f7\"], [0.6, \"#e6f5d0\"], [0.7, \"#b8e186\"], [0.8, \"#7fbc41\"], [0.9, \"#4d9221\"], [1, \"#276419\"]], \"sequential\": [[0.0, \"#0d0887\"], [0.1111111111111111, \"#46039f\"], [0.2222222222222222, \"#7201a8\"], [0.3333333333333333, \"#9c179e\"], [0.4444444444444444, \"#bd3786\"], [0.5555555555555556, \"#d8576b\"], [0.6666666666666666, \"#ed7953\"], [0.7777777777777778, \"#fb9f3a\"], [0.8888888888888888, \"#fdca26\"], [1.0, \"#f0f921\"]], \"sequentialminus\": [[0.0, \"#0d0887\"], [0.1111111111111111, \"#46039f\"], [0.2222222222222222, \"#7201a8\"], [0.3333333333333333, \"#9c179e\"], [0.4444444444444444, \"#bd3786\"], [0.5555555555555556, \"#d8576b\"], [0.6666666666666666, \"#ed7953\"], [0.7777777777777778, \"#fb9f3a\"], [0.8888888888888888, \"#fdca26\"], [1.0, \"#f0f921\"]]}, \"colorway\": [\"#636efa\", \"#EF553B\", \"#00cc96\", \"#ab63fa\", \"#FFA15A\", \"#19d3f3\", \"#FF6692\", \"#B6E880\", \"#FF97FF\", \"#FECB52\"], \"font\": {\"color\": \"#2a3f5f\"}, \"geo\": {\"bgcolor\": \"white\", \"lakecolor\": \"white\", \"landcolor\": \"#E5ECF6\", \"showlakes\": true, \"showland\": true, \"subunitcolor\": \"white\"}, \"hoverlabel\": {\"align\": \"left\"}, \"hovermode\": \"closest\", \"mapbox\": {\"style\": \"light\"}, \"paper_bgcolor\": \"white\", \"plot_bgcolor\": \"#E5ECF6\", \"polar\": {\"angularaxis\": {\"gridcolor\": \"white\", \"linecolor\": \"white\", \"ticks\": \"\"}, \"bgcolor\": \"#E5ECF6\", \"radialaxis\": {\"gridcolor\": \"white\", \"linecolor\": \"white\", \"ticks\": \"\"}}, \"scene\": {\"xaxis\": {\"backgroundcolor\": \"#E5ECF6\", \"gridcolor\": \"white\", \"gridwidth\": 2, \"linecolor\": \"white\", \"showbackground\": true, \"ticks\": \"\", \"zerolinecolor\": \"white\"}, \"yaxis\": {\"backgroundcolor\": \"#E5ECF6\", \"gridcolor\": \"white\", \"gridwidth\": 2, \"linecolor\": \"white\", \"showbackground\": true, \"ticks\": \"\", \"zerolinecolor\": \"white\"}, \"zaxis\": {\"backgroundcolor\": \"#E5ECF6\", \"gridcolor\": \"white\", \"gridwidth\": 2, \"linecolor\": \"white\", \"showbackground\": true, \"ticks\": \"\", \"zerolinecolor\": \"white\"}}, \"shapedefaults\": {\"line\": {\"color\": \"#2a3f5f\"}}, \"ternary\": {\"aaxis\": {\"gridcolor\": \"white\", \"linecolor\": \"white\", \"ticks\": \"\"}, \"baxis\": {\"gridcolor\": \"white\", \"linecolor\": \"white\", \"ticks\": \"\"}, \"bgcolor\": \"#E5ECF6\", \"caxis\": {\"gridcolor\": \"white\", \"linecolor\": \"white\", \"ticks\": \"\"}}, \"title\": {\"x\": 0.05}, \"xaxis\": {\"automargin\": true, \"gridcolor\": \"white\", \"linecolor\": \"white\", \"ticks\": \"\", \"title\": {\"standoff\": 15}, \"zerolinecolor\": \"white\", \"zerolinewidth\": 2}, \"yaxis\": {\"automargin\": true, \"gridcolor\": \"white\", \"linecolor\": \"white\", \"ticks\": \"\", \"title\": {\"standoff\": 15}, \"zerolinecolor\": \"white\", \"zerolinewidth\": 2}}}, \"title\": {\"text\": \"Age Distribution\", \"x\": 0.5}, \"width\": 800, \"xaxis\": {\"categoryorder\": \"category ascending\", \"title\": {\"text\": \"Age Group\"}}, \"yaxis\": {\"title\": {\"text\": \"Number Of Users\"}}},\n",
              "                        {\"responsive\": true}\n",
              "                    ).then(function(){\n",
              "                            \n",
              "var gd = document.getElementById('bbdf4305-d54e-45f4-9b31-3eecd4b17126');\n",
              "var x = new MutationObserver(function (mutations, observer) {{\n",
              "        var display = window.getComputedStyle(gd).display;\n",
              "        if (!display || display === 'none') {{\n",
              "            console.log([gd, 'removed!']);\n",
              "            Plotly.purge(gd);\n",
              "            observer.disconnect();\n",
              "        }}\n",
              "}});\n",
              "\n",
              "// Listen for the removal of the full notebook cells\n",
              "var notebookContainer = gd.closest('#notebook-container');\n",
              "if (notebookContainer) {{\n",
              "    x.observe(notebookContainer, {childList: true});\n",
              "}}\n",
              "\n",
              "// Listen for the clearing of the current output cell\n",
              "var outputEl = gd.closest('.output');\n",
              "if (outputEl) {{\n",
              "    x.observe(outputEl, {childList: true});\n",
              "}}\n",
              "\n",
              "                        })\n",
              "                };\n",
              "                \n",
              "            </script>\n",
              "        </div>\n",
              "</body>\n",
              "</html>"
            ]
          },
          "metadata": {
            "tags": []
          }
        }
      ]
    },
    {
      "cell_type": "code",
      "metadata": {
        "colab": {
          "base_uri": "https://localhost:8080/",
          "height": 409
        },
        "id": "A5UNOM_IPxRs",
        "outputId": "bf54f119-c9b0-4b01-e749-5d617c9e6586"
      },
      "source": [
        "data2 = explic_rat.groupby('age_group')['age'].count().reset_index()\n",
        "#data2['rating']=data2['rating'].astype(int)\n",
        "plt.figure(figsize=(8,6))\n",
        "#sns.barplot(x='age_group',y='age',data=data2, palette='crest')\n",
        "sns.barplot(x='age_group',y='age',data=data2)\n",
        "sns.despine(top=True, right=True)\n",
        "plt.xlabel('Age', fontsize=12)\n",
        "plt.ylabel('Count', fontsize=12)\n",
        "plt.title('Average Age Distribution for Ratings', fontsize=16, weight='bold');"
      ],
      "execution_count": 45,
      "outputs": [
        {
          "output_type": "display_data",
          "data": {
            "image/png": "[encoded data removed]",
            "text/plain": [
              "<Figure size 576x432 with 1 Axes>"
            ]
          },
          "metadata": {
            "tags": [],
            "needs_background": "light"
          }
        }
      ]
    },
    {
      "cell_type": "code",
      "metadata": {
        "id": "XNm0hvUrP9Qg"
      },
      "source": [
        "users_ratings=ratings_explicit_df['user_id'].value_counts()"
      ],
      "execution_count": 46,
      "outputs": []
    },
    {
      "cell_type": "code",
      "metadata": {
        "id": "11S5Xe_KQApb"
      },
      "source": [
        ""
      ],
      "execution_count": 46,
      "outputs": []
    },
    {
      "cell_type": "code",
      "metadata": {
        "id": "sTmebRaq8IGd"
      },
      "source": [
        "# find users who have rated the most books on average\n",
        "users_ratings_avg=ratings_explicit_df[['user_id','rating']].groupby(['user_id']).mean()"
      ],
      "execution_count": 47,
      "outputs": []
    },
    {
      "cell_type": "code",
      "metadata": {
        "id": "C9ZJqOzLQCTv"
      },
      "source": [
        "users_ratings_avg['rating_count']=pd.DataFrame(ratings_explicit_df.groupby('user_id')['rating'].count())"
      ],
      "execution_count": 48,
      "outputs": []
    },
    {
      "cell_type": "code",
      "metadata": {
        "colab": {
          "base_uri": "https://localhost:8080/",
          "height": 409
        },
        "id": "2cjk5YBJQEho",
        "outputId": "f5b33fd6-d322-4a39-99de-908a68534438"
      },
      "source": [
        "data1=ratings_explicit_df['publisher'].value_counts().head(10).reset_index()\n",
        "data1.columns=['publisher','count']\n",
        "plt.figure(figsize=(8,6))\n",
        "#sns.barplot(x='count',y='publisher', data=data1, palette='crest')\n",
        "sns.barplot(x='count',y='publisher', data=data1)\n",
        "sns.despine(top=True, right=True)\n",
        "plt.xlabel('Count', fontsize=12)\n",
        "plt.ylabel('Publisher', fontsize=12)\n",
        "plt.title('Top 10 Publishers With the Most Ratings', fontsize=16, weight='bold');"
      ],
      "execution_count": 49,
      "outputs": [
        {
          "output_type": "display_data",
          "data": {
            "image/png": "[encoded data removed]",
            "text/plain": [
              "<Figure size 576x432 with 1 Axes>"
            ]
          },
          "metadata": {
            "tags": [],
            "needs_background": "light"
          }
        }
      ]
    },
    {
      "cell_type": "code",
      "metadata": {
        "id": "tNNh8R_QQP58"
      },
      "source": [
        "# first step: define most popular books\n",
        "book_pop = ratings_explicit_df['book_title'].value_counts()"
      ],
      "execution_count": 51,
      "outputs": []
    },
    {
      "cell_type": "code",
      "metadata": {
        "colab": {
          "base_uri": "https://localhost:8080/"
        },
        "id": "fzAfhJtvQUv0",
        "outputId": "3d788c44-e815-4382-b00f-c7ea1b10d370"
      },
      "source": [
        "print(book_pop.head(10))"
      ],
      "execution_count": 52,
      "outputs": [
        {
          "output_type": "stream",
          "text": [
            "The Lovely Bones: A Novel                           707\n",
            "Wild Animus                                         581\n",
            "The Da Vinci Code                                   494\n",
            "The Secret Life of Bees                             406\n",
            "The Nanny Diaries: A Novel                          393\n",
            "The Red Tent (Bestselling Backlist)                 383\n",
            "Bridget Jones's Diary                               377\n",
            "A Painted House                                     366\n",
            "Life of Pi                                          336\n",
            "Harry Potter and the Chamber of Secrets (Book 2)    326\n",
            "Name: book_title, dtype: int64\n"
          ],
          "name": "stdout"
        }
      ]
    },
    {
      "cell_type": "code",
      "metadata": {
        "id": "OcmhRqYtQaMh"
      },
      "source": [
        "# find highest rated books on average\n",
        "book_pop_avg=ratings_explicit_df[['book_title','rating']].groupby(['book_title']).mean()"
      ],
      "execution_count": 53,
      "outputs": []
    },
    {
      "cell_type": "code",
      "metadata": {
        "colab": {
          "base_uri": "https://localhost:8080/"
        },
        "id": "hJizzB2mQdZr",
        "outputId": "c0695219-e75a-46b1-fdfa-94fb789274a1"
      },
      "source": [
        "print(book_pop_avg.sort_values(by='rating', ascending=False).head(8))"
      ],
      "execution_count": 54,
      "outputs": [
        {
          "output_type": "stream",
          "text": [
            "                                                    rating\n",
            "book_title                                                \n",
            "The 776 Nastiest Things Ever Said                     10.0\n",
            "Goofy's Big Race Fun-To-Read Library Vol.4            10.0\n",
            "The Smiling Pets Recipe Book: 101 Easy Make Tre...    10.0\n",
            "Passion: Photography from the Movie the Passion...    10.0\n",
            "Goofy Joins the Circus                                10.0\n",
            "Goofy On Safari Kenya Adventure                       10.0\n",
            "Goofy Takes Off Switzerland Adventure                 10.0\n",
            "Goofy and the Gondola                                 10.0\n"
          ],
          "name": "stdout"
        }
      ]
    },
    {
      "cell_type": "code",
      "metadata": {
        "id": "NwV4-22TQgHk"
      },
      "source": [
        "# check only books that have been rated more than 100x \n",
        "book_review_pop=book_pop[book_pop > 100].index"
      ],
      "execution_count": 55,
      "outputs": []
    },
    {
      "cell_type": "code",
      "metadata": {
        "id": "7aUUkshMQjXo"
      },
      "source": [
        "# take a subset of the df containing the explicit ratings by selecting only rows referring to 'book_review_pop'\n",
        "book_pop_df=ratings_explicit_df[ratings_explicit_df['book_title'].isin(book_review_pop)]"
      ],
      "execution_count": 56,
      "outputs": []
    },
    {
      "cell_type": "code",
      "metadata": {
        "id": "6tzFWNuIQlKo"
      },
      "source": [
        "# find highest rated books on average\n",
        "book_pop_avg2=book_pop_df[['book_title','rating']].groupby(['book_title']).mean()"
      ],
      "execution_count": 57,
      "outputs": []
    },
    {
      "cell_type": "code",
      "metadata": {
        "colab": {
          "base_uri": "https://localhost:8080/"
        },
        "id": "qWmvtCA0Qo38",
        "outputId": "9e3801de-49c8-476f-e6da-8b3c36a933b1"
      },
      "source": [
        "print(book_pop_avg2.sort_values(by='rating', ascending=False).head(7))"
      ],
      "execution_count": 58,
      "outputs": [
        {
          "output_type": "stream",
          "text": [
            "                                                      rating\n",
            "book_title                                                  \n",
            "The Two Towers (The Lord of the Rings, Part 2)      9.330882\n",
            "The Return of the King (The Lord of the Rings, ...  9.213592\n",
            "Harry Potter and the Goblet of Fire (Book 4)        9.125506\n",
            "Harry Potter and the Sorcerer's Stone (Book 1)      9.062500\n",
            "Harry Potter and the Order of the Phoenix (Book 5)  9.047393\n",
            "Harry Potter and the Prisoner of Azkaban (Book 3)   9.043321\n",
            "To Kill a Mockingbird                               8.977528\n"
          ],
          "name": "stdout"
        }
      ]
    },
    {
      "cell_type": "code",
      "metadata": {
        "id": "_O2or7N0Qq6i"
      },
      "source": [
        ""
      ],
      "execution_count": 58,
      "outputs": []
    },
    {
      "cell_type": "code",
      "metadata": {
        "id": "abrYxw6zPtr4"
      },
      "source": [
        ""
      ],
      "execution_count": 58,
      "outputs": []
    },
    {
      "cell_type": "code",
      "metadata": {
        "colab": {
          "base_uri": "https://localhost:8080/"
        },
        "id": "0mZ227oOPeVh",
        "outputId": "68aa5f07-8671-4b28-a469-e5275a6739fe"
      },
      "source": [
        "# importing surprise and packages\n",
        "!pip install surprise\n",
        "from surprise import Reader, Dataset\n",
        "from surprise import SVD, NMF, KNNBasic, model_selection, accuracy\n",
        "from surprise.model_selection import cross_validate"
      ],
      "execution_count": 59,
      "outputs": [
        {
          "output_type": "stream",
          "text": [
            "Collecting surprise\n",
            "  Downloading surprise-0.1-py2.py3-none-any.whl (1.8 kB)\n",
            "Collecting scikit-surprise\n",
            "  Downloading scikit-surprise-1.1.1.tar.gz (11.8 MB)\n",
            "\u001b[K     |████████████████████████████████| 11.8 MB 49 kB/s \n",
            "\u001b[?25hRequirement already satisfied: joblib>=0.11 in /usr/local/lib/python3.7/dist-packages (from scikit-surprise->surprise) (1.0.1)\n",
            "Requirement already satisfied: numpy>=1.11.2 in /usr/local/lib/python3.7/dist-packages (from scikit-surprise->surprise) (1.19.5)\n",
            "Requirement already satisfied: scipy>=1.0.0 in /usr/local/lib/python3.7/dist-packages (from scikit-surprise->surprise) (1.4.1)\n",
            "Requirement already satisfied: six>=1.10.0 in /usr/local/lib/python3.7/dist-packages (from scikit-surprise->surprise) (1.15.0)\n",
            "Building wheels for collected packages: scikit-surprise\n",
            "  Building wheel for scikit-surprise (setup.py) ... \u001b[?25l\u001b[?25hdone\n",
            "  Created wheel for scikit-surprise: filename=scikit_surprise-1.1.1-cp37-cp37m-linux_x86_64.whl size=1617767 sha256=d107fa6bce0d90282dad47a287219c19969e757554b29eb70cc3179cb26a9929\n",
            "  Stored in directory: /root/.cache/pip/wheels/76/44/74/b498c42be47b2406bd27994e16c5188e337c657025ab400c1c\n",
            "Successfully built scikit-surprise\n",
            "Installing collected packages: scikit-surprise, surprise\n",
            "Successfully installed scikit-surprise-1.1.1 surprise-0.1\n"
          ],
          "name": "stdout"
        }
      ]
    },
    {
      "cell_type": "code",
      "metadata": {
        "id": "UxxkTywVSziH"
      },
      "source": [
        ""
      ],
      "execution_count": null,
      "outputs": []
    },
    {
      "cell_type": "code",
      "metadata": {
        "colab": {
          "base_uri": "https://localhost:8080/"
        },
        "id": "oaeiLnCmOUlF",
        "outputId": "ef19ab33-5bd6-4150-a836-8c3623713b59"
      },
      "source": [
        "# current data set\n",
        "book_final_data = ratings_explicit_df.copy()\n",
        "\n",
        "book_final_data.shape"
      ],
      "execution_count": 60,
      "outputs": [
        {
          "output_type": "execute_result",
          "data": {
            "text/plain": [
              "(383852, 14)"
            ]
          },
          "metadata": {
            "tags": []
          },
          "execution_count": 60
        }
      ]
    },
    {
      "cell_type": "code",
      "metadata": {
        "colab": {
          "base_uri": "https://localhost:8080/"
        },
        "id": "gUNH5vvwS4Fx",
        "outputId": "f9e1aa71-d8b4-4aa7-bc14-7f92a6d0a0c9"
      },
      "source": [
        "book_final_data.size"
      ],
      "execution_count": 61,
      "outputs": [
        {
          "output_type": "execute_result",
          "data": {
            "text/plain": [
              "5373928"
            ]
          },
          "metadata": {
            "tags": []
          },
          "execution_count": 61
        }
      ]
    },
    {
      "cell_type": "code",
      "metadata": {
        "colab": {
          "base_uri": "https://localhost:8080/"
        },
        "id": "-a-OEVJYS8Zm",
        "outputId": "d897a48d-1d40-44f9-a9ba-bc0a1a4d5b58"
      },
      "source": [
        "print('Number of ratings: %d\\nNumber of books: %d\\nNumber of users: %d' % (len(book_final_data), len(book_final_data['isbn'].unique()), len(book_final_data['user_id'].unique())))"
      ],
      "execution_count": 62,
      "outputs": [
        {
          "output_type": "stream",
          "text": [
            "Number of ratings: 383852\n",
            "Number of books: 149842\n",
            "Number of users: 68092\n"
          ],
          "name": "stdout"
        }
      ]
    },
    {
      "cell_type": "code",
      "metadata": {
        "id": "3FqwqSe2TCOF"
      },
      "source": [
        "# total rating counts\n",
        "book_counts = book_final_data['rating'].value_counts()\n",
        "user_counts = book_final_data['user_id'].value_counts()"
      ],
      "execution_count": 63,
      "outputs": []
    },
    {
      "cell_type": "code",
      "metadata": {
        "colab": {
          "base_uri": "https://localhost:8080/"
        },
        "id": "A2guKdMQTFhs",
        "outputId": "52ce55a3-5085-4bfe-9153-5353835ddc07"
      },
      "source": [
        "# check statistics of rating counts per user\n",
        "user_counts.describe()"
      ],
      "execution_count": 64,
      "outputs": [
        {
          "output_type": "execute_result",
          "data": {
            "text/plain": [
              "count    68092.000000\n",
              "mean         5.637255\n",
              "std         41.742776\n",
              "min          1.000000\n",
              "25%          1.000000\n",
              "50%          1.000000\n",
              "75%          3.000000\n",
              "max       6943.000000\n",
              "Name: user_id, dtype: float64"
            ]
          },
          "metadata": {
            "tags": []
          },
          "execution_count": 64
        }
      ]
    },
    {
      "cell_type": "code",
      "metadata": {
        "colab": {
          "base_uri": "https://localhost:8080/"
        },
        "id": "XbwvNTSmTH83",
        "outputId": "ff8cdd2a-bfd9-4acd-c827-1cc761ad9a20"
      },
      "source": [
        "# Let’s look at the top of the distribution\n",
        "(user_counts.quantile(np.arange(.9, 1, .01)))"
      ],
      "execution_count": 65,
      "outputs": [
        {
          "output_type": "execute_result",
          "data": {
            "text/plain": [
              "0.90     9.00\n",
              "0.91    10.00\n",
              "0.92    12.00\n",
              "0.93    13.00\n",
              "0.94    16.00\n",
              "0.95    19.00\n",
              "0.96    23.00\n",
              "0.97    31.00\n",
              "0.98    44.00\n",
              "0.99    74.09\n",
              "Name: user_id, dtype: float64"
            ]
          },
          "metadata": {
            "tags": []
          },
          "execution_count": 65
        }
      ]
    },
    {
      "cell_type": "code",
      "metadata": {
        "id": "clTStlulTNJ3"
      },
      "source": [
        "# set filter\n",
        "book_final_data = book_final_data[book_final_data['user_id'].isin(user_counts[user_counts >= 50].index)]"
      ],
      "execution_count": 66,
      "outputs": []
    },
    {
      "cell_type": "code",
      "metadata": {
        "colab": {
          "base_uri": "https://localhost:8080/"
        },
        "id": "rRQV4QfFTRSV",
        "outputId": "cea918d5-d72e-4b3a-c2f4-e462a360cf4d"
      },
      "source": [
        "print('Number of ratings: %d\\nNumber of books: %d\\nNumber of users: %d' % (len(book_final_data), len(book_final_data['isbn'].unique()), len(book_final_data['user_id'].unique())))"
      ],
      "execution_count": 67,
      "outputs": [
        {
          "output_type": "stream",
          "text": [
            "Number of ratings: 153428\n",
            "Number of books: 86584\n",
            "Number of users: 1180\n"
          ],
          "name": "stdout"
        }
      ]
    },
    {
      "cell_type": "code",
      "metadata": {
        "colab": {
          "base_uri": "https://localhost:8080/"
        },
        "id": "fuxVZ5hqTVRu",
        "outputId": "5fbbe45a-86ab-47f3-8f0c-c3da1aa6c7ec"
      },
      "source": [
        "book_final_data.shape"
      ],
      "execution_count": 68,
      "outputs": [
        {
          "output_type": "execute_result",
          "data": {
            "text/plain": [
              "(153428, 14)"
            ]
          },
          "metadata": {
            "tags": []
          },
          "execution_count": 68
        }
      ]
    },
    {
      "cell_type": "code",
      "metadata": {
        "colab": {
          "base_uri": "https://localhost:8080/",
          "height": 1000
        },
        "id": "elYs222oTa3B",
        "outputId": "3850bda1-f1f0-4cf6-d761-5b4379ecd7aa"
      },
      "source": [
        "book_final_data.head(10)"
      ],
      "execution_count": 69,
      "outputs": [
        {
          "output_type": "execute_result",
          "data": {
            "text/html": [
              "<div>\n",
              "<style scoped>\n",
              "    .dataframe tbody tr th:only-of-type {\n",
              "        vertical-align: middle;\n",
              "    }\n",
              "\n",
              "    .dataframe tbody tr th {\n",
              "        vertical-align: top;\n",
              "    }\n",
              "\n",
              "    .dataframe thead th {\n",
              "        text-align: right;\n",
              "    }\n",
              "</style>\n",
              "<table border=\"1\" class=\"dataframe\">\n",
              "  <thead>\n",
              "    <tr style=\"text-align: right;\">\n",
              "      <th></th>\n",
              "      <th>user_id</th>\n",
              "      <th>age</th>\n",
              "      <th>isbn</th>\n",
              "      <th>rating</th>\n",
              "      <th>book_title</th>\n",
              "      <th>book_author</th>\n",
              "      <th>year_of_publication</th>\n",
              "      <th>publisher</th>\n",
              "      <th>Summary</th>\n",
              "      <th>Language</th>\n",
              "      <th>Category</th>\n",
              "      <th>city</th>\n",
              "      <th>state</th>\n",
              "      <th>country</th>\n",
              "    </tr>\n",
              "  </thead>\n",
              "  <tbody>\n",
              "    <tr>\n",
              "      <th>3</th>\n",
              "      <td>11676</td>\n",
              "      <td>34</td>\n",
              "      <td>0002005018</td>\n",
              "      <td>8</td>\n",
              "      <td>Clara Callan</td>\n",
              "      <td>Richard Bruce Wright</td>\n",
              "      <td>2001.0</td>\n",
              "      <td>HarperFlamingo Canada</td>\n",
              "      <td>In a small town in Canada, Clara Callan reluct...</td>\n",
              "      <td>en</td>\n",
              "      <td>['Actresses']</td>\n",
              "      <td>unknown</td>\n",
              "      <td>unknown</td>\n",
              "      <td>unknown</td>\n",
              "    </tr>\n",
              "    <tr>\n",
              "      <th>8</th>\n",
              "      <td>116866</td>\n",
              "      <td>34</td>\n",
              "      <td>0002005018</td>\n",
              "      <td>9</td>\n",
              "      <td>Clara Callan</td>\n",
              "      <td>Richard Bruce Wright</td>\n",
              "      <td>2001.0</td>\n",
              "      <td>HarperFlamingo Canada</td>\n",
              "      <td>In a small town in Canada, Clara Callan reluct...</td>\n",
              "      <td>en</td>\n",
              "      <td>['Actresses']</td>\n",
              "      <td>ottawa</td>\n",
              "      <td>,</td>\n",
              "      <td>unknown</td>\n",
              "    </tr>\n",
              "    <tr>\n",
              "      <th>21</th>\n",
              "      <td>110912</td>\n",
              "      <td>36</td>\n",
              "      <td>0374157065</td>\n",
              "      <td>10</td>\n",
              "      <td>Flu: The Story of the Great Influenza Pandemic...</td>\n",
              "      <td>Gina Bari Kolata</td>\n",
              "      <td>1999.0</td>\n",
              "      <td>Farrar Straus Giroux</td>\n",
              "      <td>Describes the great flu epidemic of 1918, an o...</td>\n",
              "      <td>en</td>\n",
              "      <td>['Medical']</td>\n",
              "      <td>milpitas</td>\n",
              "      <td>california</td>\n",
              "      <td>usa</td>\n",
              "    </tr>\n",
              "    <tr>\n",
              "      <th>26</th>\n",
              "      <td>197659</td>\n",
              "      <td>49</td>\n",
              "      <td>0374157065</td>\n",
              "      <td>9</td>\n",
              "      <td>Flu: The Story of the Great Influenza Pandemic...</td>\n",
              "      <td>Gina Bari Kolata</td>\n",
              "      <td>1999.0</td>\n",
              "      <td>Farrar Straus Giroux</td>\n",
              "      <td>Describes the great flu epidemic of 1918, an o...</td>\n",
              "      <td>en</td>\n",
              "      <td>['Medical']</td>\n",
              "      <td>indiana</td>\n",
              "      <td>pennsylvania</td>\n",
              "      <td>usa</td>\n",
              "    </tr>\n",
              "    <tr>\n",
              "      <th>31</th>\n",
              "      <td>11676</td>\n",
              "      <td>34</td>\n",
              "      <td>0399135782</td>\n",
              "      <td>9</td>\n",
              "      <td>The Kitchen God's Wife</td>\n",
              "      <td>Amy Tan</td>\n",
              "      <td>1991.0</td>\n",
              "      <td>Putnam Pub Group</td>\n",
              "      <td>A Chinese immigrant who is convinced she is dy...</td>\n",
              "      <td>en</td>\n",
              "      <td>['Fiction']</td>\n",
              "      <td>unknown</td>\n",
              "      <td>unknown</td>\n",
              "      <td>unknown</td>\n",
              "    </tr>\n",
              "    <tr>\n",
              "      <th>32</th>\n",
              "      <td>29526</td>\n",
              "      <td>26</td>\n",
              "      <td>0399135782</td>\n",
              "      <td>9</td>\n",
              "      <td>The Kitchen God's Wife</td>\n",
              "      <td>Amy Tan</td>\n",
              "      <td>1991.0</td>\n",
              "      <td>Putnam Pub Group</td>\n",
              "      <td>A Chinese immigrant who is convinced she is dy...</td>\n",
              "      <td>en</td>\n",
              "      <td>['Fiction']</td>\n",
              "      <td>knoxville</td>\n",
              "      <td>tennessee</td>\n",
              "      <td>usa</td>\n",
              "    </tr>\n",
              "    <tr>\n",
              "      <th>34</th>\n",
              "      <td>46398</td>\n",
              "      <td>37</td>\n",
              "      <td>0399135782</td>\n",
              "      <td>9</td>\n",
              "      <td>The Kitchen God's Wife</td>\n",
              "      <td>Amy Tan</td>\n",
              "      <td>1991.0</td>\n",
              "      <td>Putnam Pub Group</td>\n",
              "      <td>A Chinese immigrant who is convinced she is dy...</td>\n",
              "      <td>en</td>\n",
              "      <td>['Fiction']</td>\n",
              "      <td>san antonio</td>\n",
              "      <td>texas</td>\n",
              "      <td>usa</td>\n",
              "    </tr>\n",
              "    <tr>\n",
              "      <th>54</th>\n",
              "      <td>230522</td>\n",
              "      <td>52</td>\n",
              "      <td>0399135782</td>\n",
              "      <td>7</td>\n",
              "      <td>The Kitchen God's Wife</td>\n",
              "      <td>Amy Tan</td>\n",
              "      <td>1991.0</td>\n",
              "      <td>Putnam Pub Group</td>\n",
              "      <td>A Chinese immigrant who is convinced she is dy...</td>\n",
              "      <td>en</td>\n",
              "      <td>['Fiction']</td>\n",
              "      <td>colorado springs</td>\n",
              "      <td>colorado</td>\n",
              "      <td>usa</td>\n",
              "    </tr>\n",
              "    <tr>\n",
              "      <th>58</th>\n",
              "      <td>245827</td>\n",
              "      <td>34</td>\n",
              "      <td>0399135782</td>\n",
              "      <td>9</td>\n",
              "      <td>The Kitchen God's Wife</td>\n",
              "      <td>Amy Tan</td>\n",
              "      <td>1991.0</td>\n",
              "      <td>Putnam Pub Group</td>\n",
              "      <td>A Chinese immigrant who is convinced she is dy...</td>\n",
              "      <td>en</td>\n",
              "      <td>['Fiction']</td>\n",
              "      <td>albuquerque</td>\n",
              "      <td>,</td>\n",
              "      <td>unknown</td>\n",
              "    </tr>\n",
              "    <tr>\n",
              "      <th>64</th>\n",
              "      <td>52614</td>\n",
              "      <td>33</td>\n",
              "      <td>0425176428</td>\n",
              "      <td>8</td>\n",
              "      <td>What If?: The World's Foremost Military Histor...</td>\n",
              "      <td>Robert Cowley</td>\n",
              "      <td>2000.0</td>\n",
              "      <td>Berkley Publishing Group</td>\n",
              "      <td>Essays by respected military historians, inclu...</td>\n",
              "      <td>en</td>\n",
              "      <td>['History']</td>\n",
              "      <td>toccoa</td>\n",
              "      <td>ga.</td>\n",
              "      <td>usa</td>\n",
              "    </tr>\n",
              "  </tbody>\n",
              "</table>\n",
              "</div>"
            ],
            "text/plain": [
              "    user_id  age        isbn  ...              city         state  country\n",
              "3     11676   34  0002005018  ...           unknown       unknown  unknown\n",
              "8    116866   34  0002005018  ...            ottawa             ,  unknown\n",
              "21   110912   36  0374157065  ...          milpitas    california      usa\n",
              "26   197659   49  0374157065  ...           indiana  pennsylvania      usa\n",
              "31    11676   34  0399135782  ...           unknown       unknown  unknown\n",
              "32    29526   26  0399135782  ...         knoxville     tennessee      usa\n",
              "34    46398   37  0399135782  ...       san antonio         texas      usa\n",
              "54   230522   52  0399135782  ...  colorado springs      colorado      usa\n",
              "58   245827   34  0399135782  ...       albuquerque             ,  unknown\n",
              "64    52614   33  0425176428  ...            toccoa           ga.      usa\n",
              "\n",
              "[10 rows x 14 columns]"
            ]
          },
          "metadata": {
            "tags": []
          },
          "execution_count": 69
        }
      ]
    },
    {
      "cell_type": "code",
      "metadata": {
        "id": "E1DFKV2DTdbi"
      },
      "source": [
        "book_final_data.to_csv(r'book_final_data.csv', index = False)"
      ],
      "execution_count": 70,
      "outputs": []
    },
    {
      "cell_type": "code",
      "metadata": {
        "id": "42cMWBOQTgRJ"
      },
      "source": [
        ""
      ],
      "execution_count": null,
      "outputs": []
    },
    {
      "cell_type": "code",
      "metadata": {
        "id": "cs6ROoruOPVh"
      },
      "source": [
        ""
      ],
      "execution_count": 58,
      "outputs": []
    },
    {
      "cell_type": "code",
      "metadata": {
        "id": "tZUq7gE6NxgP"
      },
      "source": [
        ""
      ],
      "execution_count": 58,
      "outputs": []
    },
    {
      "cell_type": "code",
      "metadata": {
        "id": "MYoPrQfOHVH9"
      },
      "source": [
        ""
      ],
      "execution_count": 58,
      "outputs": []
    },
    {
      "cell_type": "code",
      "metadata": {
        "id": "2K0ZGfKsHQhL"
      },
      "source": [
        ""
      ],
      "execution_count": 58,
      "outputs": []
    },
    {
      "cell_type": "code",
      "metadata": {
        "id": "00o7P66aG9iE"
      },
      "source": [
        ""
      ],
      "execution_count": 58,
      "outputs": []
    },
    {
      "cell_type": "code",
      "metadata": {
        "id": "md4hmwipG7uu"
      },
      "source": [
        ""
      ],
      "execution_count": 58,
      "outputs": []
    },
    {
      "cell_type": "code",
      "metadata": {
        "id": "sAWKjI52Gp98"
      },
      "source": [
        ""
      ],
      "execution_count": 58,
      "outputs": []
    }
  ]
}