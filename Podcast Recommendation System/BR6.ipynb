{
  "nbformat": 4,
  "nbformat_minor": 0,
  "metadata": {
    "colab": {
      "name": "BR6.ipynb",
      "provenance": [],
      "collapsed_sections": []
    },
    "kernelspec": {
      "name": "python3",
      "display_name": "Python 3"
    },
    "language_info": {
      "name": "python"
    }
  },
  "cells": [
    {
      "cell_type": "code",
      "metadata": {
        "colab": {
          "base_uri": "https://localhost:8080/"
        },
        "id": "8VTSnUcke3tT",
        "outputId": "0e8975cb-0139-44cb-bbcd-6b58cdf414f4"
      },
      "source": [
        "!pip install rake_nltk\n",
        "#rake_nltk is the library i am  using to extract keywords from description!. it has stopwords (by default english ) preloaded"
      ],
      "execution_count": 1,
      "outputs": [
        {
          "output_type": "stream",
          "text": [
            "Requirement already satisfied: rake_nltk in /usr/local/lib/python3.7/dist-packages (1.0.4)\n",
            "Requirement already satisfied: nltk in /usr/local/lib/python3.7/dist-packages (from rake_nltk) (3.2.5)\n",
            "Requirement already satisfied: six in /usr/local/lib/python3.7/dist-packages (from nltk->rake_nltk) (1.15.0)\n"
          ],
          "name": "stdout"
        }
      ]
    },
    {
      "cell_type": "code",
      "metadata": {
        "colab": {
          "base_uri": "https://localhost:8080/"
        },
        "id": "RGC74y_3fAxP",
        "outputId": "cf58e15b-5f79-4f57-b549-a66db2fae7a4"
      },
      "source": [
        "from rake_nltk import Rake\n",
        "import nltk\n",
        "import pandas as pd\n",
        "import numpy as np\n",
        "from sklearn.metrics.pairwise import cosine_similarity\n",
        "from sklearn.feature_extraction.text import CountVectorizer\n",
        "df = pd.read_csv('/content/drive/MyDrive/bookfinal/book_final_data.csv', engine='python', error_bad_lines=False)\n",
        "df.head()\n",
        "df=df[['isbn','book_title','book_author','Summary','Category']]\n",
        "df.rename(columns = {'Summary':'description', 'Category':'categories'}, inplace = True)\n",
        "df.drop_duplicates(subset =\"book_title\",\n",
        "                     keep = 'last', inplace = True)\n",
        "df.dropna(inplace = True)\n",
        "print(df.shape)\n",
        "df.drop_duplicates(subset=['isbn'])#there aren't any duplicate isbns(there are some anamolies)\n",
        "print(df.shape)\n",
        "df['description'].apply(type).value_counts()\n",
        "import string\n",
        "df['description'] = df['description'].str.replace('[{}]'.format(string.punctuation), '')\n",
        "df['description'].astype(str)\n",
        "df['description'].apply(type).value_counts()\n",
        "\n"
      ],
      "execution_count": 2,
      "outputs": [
        {
          "output_type": "stream",
          "text": [
            "(79583, 5)\n",
            "(79583, 5)\n"
          ],
          "name": "stdout"
        },
        {
          "output_type": "execute_result",
          "data": {
            "text/plain": [
              "<class 'str'>    79583\n",
              "Name: description, dtype: int64"
            ]
          },
          "metadata": {
            "tags": []
          },
          "execution_count": 2
        }
      ]
    },
    {
      "cell_type": "code",
      "metadata": {
        "id": "OUKx1RXcxHrr"
      },
      "source": [
        "import re\n",
        "def preprocess_text(text):\n",
        "    text = re.sub(r'([^\\s\\w]|_)+', '', text)\n",
        "    return text\n",
        "  \n",
        "df['categories'] = df['categories'].map(preprocess_text)\n"
      ],
      "execution_count": 3,
      "outputs": []
    },
    {
      "cell_type": "code",
      "metadata": {
        "id": "IYY-qO8Wy2FT"
      },
      "source": [
        ""
      ],
      "execution_count": 3,
      "outputs": []
    },
    {
      "cell_type": "code",
      "metadata": {
        "colab": {
          "base_uri": "https://localhost:8080/",
          "height": 345
        },
        "id": "BDHZDtFy8P-H",
        "outputId": "bb22aa6a-45fe-48c5-d22b-9522f9d4f666"
      },
      "source": [
        "df['Key_words'] = ''\n",
        "r = Rake()\n",
        "for index, row in df.iterrows():\n",
        "  r.extract_keywords_from_text(row['description'])   # to extract key words, default in lower case\n",
        "  key_words_dict_scores = r.get_word_degrees()   \n",
        "  row['Key_words'] = list(key_words_dict_scores.keys())   # to assign list of key words to new column\n",
        "\n",
        "\n",
        "df.head()\n"
      ],
      "execution_count": 4,
      "outputs": [
        {
          "output_type": "execute_result",
          "data": {
            "text/html": [
              "<div>\n",
              "<style scoped>\n",
              "    .dataframe tbody tr th:only-of-type {\n",
              "        vertical-align: middle;\n",
              "    }\n",
              "\n",
              "    .dataframe tbody tr th {\n",
              "        vertical-align: top;\n",
              "    }\n",
              "\n",
              "    .dataframe thead th {\n",
              "        text-align: right;\n",
              "    }\n",
              "</style>\n",
              "<table border=\"1\" class=\"dataframe\">\n",
              "  <thead>\n",
              "    <tr style=\"text-align: right;\">\n",
              "      <th></th>\n",
              "      <th>isbn</th>\n",
              "      <th>book_title</th>\n",
              "      <th>book_author</th>\n",
              "      <th>description</th>\n",
              "      <th>categories</th>\n",
              "      <th>Key_words</th>\n",
              "    </tr>\n",
              "  </thead>\n",
              "  <tbody>\n",
              "    <tr>\n",
              "      <th>1</th>\n",
              "      <td>0002005018</td>\n",
              "      <td>Clara Callan</td>\n",
              "      <td>Richard Bruce Wright</td>\n",
              "      <td>In a small town in Canada Clara Callan relucta...</td>\n",
              "      <td>Actresses</td>\n",
              "      <td>[sister, nora, bound, small, town, new, york, ...</td>\n",
              "    </tr>\n",
              "    <tr>\n",
              "      <th>3</th>\n",
              "      <td>0374157065</td>\n",
              "      <td>Flu: The Story of the Great Influenza Pandemic...</td>\n",
              "      <td>Gina Bari Kolata</td>\n",
              "      <td>Describes the great flu epidemic of 1918 an ou...</td>\n",
              "      <td>Medical</td>\n",
              "      <td>[describes, great, flu, epidemic, prevent, ano...</td>\n",
              "    </tr>\n",
              "    <tr>\n",
              "      <th>9</th>\n",
              "      <td>0425176428</td>\n",
              "      <td>What If?: The World's Foremost Military Histor...</td>\n",
              "      <td>Robert Cowley</td>\n",
              "      <td>Essays by respected military historians includ...</td>\n",
              "      <td>History</td>\n",
              "      <td>[essays, history, differently, worse, respecte...</td>\n",
              "    </tr>\n",
              "    <tr>\n",
              "      <th>10</th>\n",
              "      <td>0671870432</td>\n",
              "      <td>PLEADING GUILTY</td>\n",
              "      <td>Scott Turow</td>\n",
              "      <td>9</td>\n",
              "      <td>9</td>\n",
              "      <td>[9]</td>\n",
              "    </tr>\n",
              "    <tr>\n",
              "      <th>66</th>\n",
              "      <td>0452264464</td>\n",
              "      <td>Beloved (Plume Contemporary Fiction)</td>\n",
              "      <td>Toni Morrison</td>\n",
              "      <td>Staring unflinchingly into the abyss of slaver...</td>\n",
              "      <td>Fiction</td>\n",
              "      <td>[intimate, novel, transforms, history, exodus,...</td>\n",
              "    </tr>\n",
              "  </tbody>\n",
              "</table>\n",
              "</div>"
            ],
            "text/plain": [
              "          isbn  ...                                          Key_words\n",
              "1   0002005018  ...  [sister, nora, bound, small, town, new, york, ...\n",
              "3   0374157065  ...  [describes, great, flu, epidemic, prevent, ano...\n",
              "9   0425176428  ...  [essays, history, differently, worse, respecte...\n",
              "10  0671870432  ...                                                [9]\n",
              "66  0452264464  ...  [intimate, novel, transforms, history, exodus,...\n",
              "\n",
              "[5 rows x 6 columns]"
            ]
          },
          "metadata": {
            "tags": []
          },
          "execution_count": 4
        }
      ]
    },
    {
      "cell_type": "code",
      "metadata": {
        "colab": {
          "base_uri": "https://localhost:8080/",
          "height": 293
        },
        "id": "wX2DsaGD-jeX",
        "outputId": "f9819b93-ce5e-4a5f-d50e-d27528fa3b5a"
      },
      "source": [
        "#adding the categories i.e. genres to keywords as well so that similar genre books can be selected\n",
        "df['categories']= df['categories'].apply(lambda x:x.split())\n",
        "df['categories'].astype(str)\n",
        "df['Key_words']=df['categories']+df['Key_words']\n",
        "df.head()\n"
      ],
      "execution_count": 5,
      "outputs": [
        {
          "output_type": "execute_result",
          "data": {
            "text/html": [
              "<div>\n",
              "<style scoped>\n",
              "    .dataframe tbody tr th:only-of-type {\n",
              "        vertical-align: middle;\n",
              "    }\n",
              "\n",
              "    .dataframe tbody tr th {\n",
              "        vertical-align: top;\n",
              "    }\n",
              "\n",
              "    .dataframe thead th {\n",
              "        text-align: right;\n",
              "    }\n",
              "</style>\n",
              "<table border=\"1\" class=\"dataframe\">\n",
              "  <thead>\n",
              "    <tr style=\"text-align: right;\">\n",
              "      <th></th>\n",
              "      <th>isbn</th>\n",
              "      <th>book_title</th>\n",
              "      <th>book_author</th>\n",
              "      <th>description</th>\n",
              "      <th>categories</th>\n",
              "      <th>Key_words</th>\n",
              "    </tr>\n",
              "  </thead>\n",
              "  <tbody>\n",
              "    <tr>\n",
              "      <th>1</th>\n",
              "      <td>0002005018</td>\n",
              "      <td>Clara Callan</td>\n",
              "      <td>Richard Bruce Wright</td>\n",
              "      <td>In a small town in Canada Clara Callan relucta...</td>\n",
              "      <td>[Actresses]</td>\n",
              "      <td>[Actresses, sister, nora, bound, small, town, ...</td>\n",
              "    </tr>\n",
              "    <tr>\n",
              "      <th>3</th>\n",
              "      <td>0374157065</td>\n",
              "      <td>Flu: The Story of the Great Influenza Pandemic...</td>\n",
              "      <td>Gina Bari Kolata</td>\n",
              "      <td>Describes the great flu epidemic of 1918 an ou...</td>\n",
              "      <td>[Medical]</td>\n",
              "      <td>[Medical, describes, great, flu, epidemic, pre...</td>\n",
              "    </tr>\n",
              "    <tr>\n",
              "      <th>9</th>\n",
              "      <td>0425176428</td>\n",
              "      <td>What If?: The World's Foremost Military Histor...</td>\n",
              "      <td>Robert Cowley</td>\n",
              "      <td>Essays by respected military historians includ...</td>\n",
              "      <td>[History]</td>\n",
              "      <td>[History, essays, history, differently, worse,...</td>\n",
              "    </tr>\n",
              "    <tr>\n",
              "      <th>10</th>\n",
              "      <td>0671870432</td>\n",
              "      <td>PLEADING GUILTY</td>\n",
              "      <td>Scott Turow</td>\n",
              "      <td>9</td>\n",
              "      <td>[9]</td>\n",
              "      <td>[9, 9]</td>\n",
              "    </tr>\n",
              "    <tr>\n",
              "      <th>66</th>\n",
              "      <td>0452264464</td>\n",
              "      <td>Beloved (Plume Contemporary Fiction)</td>\n",
              "      <td>Toni Morrison</td>\n",
              "      <td>Staring unflinchingly into the abyss of slaver...</td>\n",
              "      <td>[Fiction]</td>\n",
              "      <td>[Fiction, intimate, novel, transforms, history...</td>\n",
              "    </tr>\n",
              "  </tbody>\n",
              "</table>\n",
              "</div>"
            ],
            "text/plain": [
              "          isbn  ...                                          Key_words\n",
              "1   0002005018  ...  [Actresses, sister, nora, bound, small, town, ...\n",
              "3   0374157065  ...  [Medical, describes, great, flu, epidemic, pre...\n",
              "9   0425176428  ...  [History, essays, history, differently, worse,...\n",
              "10  0671870432  ...                                             [9, 9]\n",
              "66  0452264464  ...  [Fiction, intimate, novel, transforms, history...\n",
              "\n",
              "[5 rows x 6 columns]"
            ]
          },
          "metadata": {
            "tags": []
          },
          "execution_count": 5
        }
      ]
    },
    {
      "cell_type": "code",
      "metadata": {
        "id": "37Tru15gLwYs"
      },
      "source": [
        ""
      ],
      "execution_count": 5,
      "outputs": []
    },
    {
      "cell_type": "markdown",
      "metadata": {
        "id": "-_mjDf0nLvAa"
      },
      "source": [
        "**making authors names into keywords as well, each author's name will be merged(firstnamelastname) and added as a separate keyword. **"
      ]
    },
    {
      "cell_type": "code",
      "metadata": {
        "id": "ja7lPTxF0bgO"
      },
      "source": [
        "df.rename(columns = {'book_author':'authors'}, inplace = True)\n"
      ],
      "execution_count": 6,
      "outputs": []
    },
    {
      "cell_type": "code",
      "metadata": {
        "id": "t3Ip3ZnoNwir"
      },
      "source": [
        "df['authors']= df['authors'].apply(lambda x:x.lower().replace(' ',''))"
      ],
      "execution_count": 7,
      "outputs": []
    },
    {
      "cell_type": "code",
      "metadata": {
        "colab": {
          "base_uri": "https://localhost:8080/",
          "height": 327
        },
        "id": "u8yb4tLpOSrZ",
        "outputId": "dac2ba08-f014-43b0-ac85-bdff20f34cf0"
      },
      "source": [
        "df.head()"
      ],
      "execution_count": 8,
      "outputs": [
        {
          "output_type": "execute_result",
          "data": {
            "text/html": [
              "<div>\n",
              "<style scoped>\n",
              "    .dataframe tbody tr th:only-of-type {\n",
              "        vertical-align: middle;\n",
              "    }\n",
              "\n",
              "    .dataframe tbody tr th {\n",
              "        vertical-align: top;\n",
              "    }\n",
              "\n",
              "    .dataframe thead th {\n",
              "        text-align: right;\n",
              "    }\n",
              "</style>\n",
              "<table border=\"1\" class=\"dataframe\">\n",
              "  <thead>\n",
              "    <tr style=\"text-align: right;\">\n",
              "      <th></th>\n",
              "      <th>isbn</th>\n",
              "      <th>book_title</th>\n",
              "      <th>authors</th>\n",
              "      <th>description</th>\n",
              "      <th>categories</th>\n",
              "      <th>Key_words</th>\n",
              "    </tr>\n",
              "  </thead>\n",
              "  <tbody>\n",
              "    <tr>\n",
              "      <th>1</th>\n",
              "      <td>0002005018</td>\n",
              "      <td>Clara Callan</td>\n",
              "      <td>richardbrucewright</td>\n",
              "      <td>In a small town in Canada Clara Callan relucta...</td>\n",
              "      <td>[Actresses]</td>\n",
              "      <td>[Actresses, sister, nora, bound, small, town, ...</td>\n",
              "    </tr>\n",
              "    <tr>\n",
              "      <th>3</th>\n",
              "      <td>0374157065</td>\n",
              "      <td>Flu: The Story of the Great Influenza Pandemic...</td>\n",
              "      <td>ginabarikolata</td>\n",
              "      <td>Describes the great flu epidemic of 1918 an ou...</td>\n",
              "      <td>[Medical]</td>\n",
              "      <td>[Medical, describes, great, flu, epidemic, pre...</td>\n",
              "    </tr>\n",
              "    <tr>\n",
              "      <th>9</th>\n",
              "      <td>0425176428</td>\n",
              "      <td>What If?: The World's Foremost Military Histor...</td>\n",
              "      <td>robertcowley</td>\n",
              "      <td>Essays by respected military historians includ...</td>\n",
              "      <td>[History]</td>\n",
              "      <td>[History, essays, history, differently, worse,...</td>\n",
              "    </tr>\n",
              "    <tr>\n",
              "      <th>10</th>\n",
              "      <td>0671870432</td>\n",
              "      <td>PLEADING GUILTY</td>\n",
              "      <td>scottturow</td>\n",
              "      <td>9</td>\n",
              "      <td>[9]</td>\n",
              "      <td>[9, 9]</td>\n",
              "    </tr>\n",
              "    <tr>\n",
              "      <th>66</th>\n",
              "      <td>0452264464</td>\n",
              "      <td>Beloved (Plume Contemporary Fiction)</td>\n",
              "      <td>tonimorrison</td>\n",
              "      <td>Staring unflinchingly into the abyss of slaver...</td>\n",
              "      <td>[Fiction]</td>\n",
              "      <td>[Fiction, intimate, novel, transforms, history...</td>\n",
              "    </tr>\n",
              "  </tbody>\n",
              "</table>\n",
              "</div>"
            ],
            "text/plain": [
              "          isbn  ...                                          Key_words\n",
              "1   0002005018  ...  [Actresses, sister, nora, bound, small, town, ...\n",
              "3   0374157065  ...  [Medical, describes, great, flu, epidemic, pre...\n",
              "9   0425176428  ...  [History, essays, history, differently, worse,...\n",
              "10  0671870432  ...                                             [9, 9]\n",
              "66  0452264464  ...  [Fiction, intimate, novel, transforms, history...\n",
              "\n",
              "[5 rows x 6 columns]"
            ]
          },
          "metadata": {
            "tags": []
          },
          "execution_count": 8
        }
      ]
    },
    {
      "cell_type": "code",
      "metadata": {
        "colab": {
          "base_uri": "https://localhost:8080/",
          "height": 327
        },
        "id": "WdTy_ESlOUgU",
        "outputId": "c2676688-371b-4d79-c9c9-f545aa620e5e"
      },
      "source": [
        "df['authors']= df['authors'].apply(lambda x:x.lower().replace(';',' '))\n",
        "df.head()"
      ],
      "execution_count": 9,
      "outputs": [
        {
          "output_type": "execute_result",
          "data": {
            "text/html": [
              "<div>\n",
              "<style scoped>\n",
              "    .dataframe tbody tr th:only-of-type {\n",
              "        vertical-align: middle;\n",
              "    }\n",
              "\n",
              "    .dataframe tbody tr th {\n",
              "        vertical-align: top;\n",
              "    }\n",
              "\n",
              "    .dataframe thead th {\n",
              "        text-align: right;\n",
              "    }\n",
              "</style>\n",
              "<table border=\"1\" class=\"dataframe\">\n",
              "  <thead>\n",
              "    <tr style=\"text-align: right;\">\n",
              "      <th></th>\n",
              "      <th>isbn</th>\n",
              "      <th>book_title</th>\n",
              "      <th>authors</th>\n",
              "      <th>description</th>\n",
              "      <th>categories</th>\n",
              "      <th>Key_words</th>\n",
              "    </tr>\n",
              "  </thead>\n",
              "  <tbody>\n",
              "    <tr>\n",
              "      <th>1</th>\n",
              "      <td>0002005018</td>\n",
              "      <td>Clara Callan</td>\n",
              "      <td>richardbrucewright</td>\n",
              "      <td>In a small town in Canada Clara Callan relucta...</td>\n",
              "      <td>[Actresses]</td>\n",
              "      <td>[Actresses, sister, nora, bound, small, town, ...</td>\n",
              "    </tr>\n",
              "    <tr>\n",
              "      <th>3</th>\n",
              "      <td>0374157065</td>\n",
              "      <td>Flu: The Story of the Great Influenza Pandemic...</td>\n",
              "      <td>ginabarikolata</td>\n",
              "      <td>Describes the great flu epidemic of 1918 an ou...</td>\n",
              "      <td>[Medical]</td>\n",
              "      <td>[Medical, describes, great, flu, epidemic, pre...</td>\n",
              "    </tr>\n",
              "    <tr>\n",
              "      <th>9</th>\n",
              "      <td>0425176428</td>\n",
              "      <td>What If?: The World's Foremost Military Histor...</td>\n",
              "      <td>robertcowley</td>\n",
              "      <td>Essays by respected military historians includ...</td>\n",
              "      <td>[History]</td>\n",
              "      <td>[History, essays, history, differently, worse,...</td>\n",
              "    </tr>\n",
              "    <tr>\n",
              "      <th>10</th>\n",
              "      <td>0671870432</td>\n",
              "      <td>PLEADING GUILTY</td>\n",
              "      <td>scottturow</td>\n",
              "      <td>9</td>\n",
              "      <td>[9]</td>\n",
              "      <td>[9, 9]</td>\n",
              "    </tr>\n",
              "    <tr>\n",
              "      <th>66</th>\n",
              "      <td>0452264464</td>\n",
              "      <td>Beloved (Plume Contemporary Fiction)</td>\n",
              "      <td>tonimorrison</td>\n",
              "      <td>Staring unflinchingly into the abyss of slaver...</td>\n",
              "      <td>[Fiction]</td>\n",
              "      <td>[Fiction, intimate, novel, transforms, history...</td>\n",
              "    </tr>\n",
              "  </tbody>\n",
              "</table>\n",
              "</div>"
            ],
            "text/plain": [
              "          isbn  ...                                          Key_words\n",
              "1   0002005018  ...  [Actresses, sister, nora, bound, small, town, ...\n",
              "3   0374157065  ...  [Medical, describes, great, flu, epidemic, pre...\n",
              "9   0425176428  ...  [History, essays, history, differently, worse,...\n",
              "10  0671870432  ...                                             [9, 9]\n",
              "66  0452264464  ...  [Fiction, intimate, novel, transforms, history...\n",
              "\n",
              "[5 rows x 6 columns]"
            ]
          },
          "metadata": {
            "tags": []
          },
          "execution_count": 9
        }
      ]
    },
    {
      "cell_type": "code",
      "metadata": {
        "colab": {
          "base_uri": "https://localhost:8080/",
          "height": 649
        },
        "id": "tYPG1mYlOcb4",
        "outputId": "89866b36-3ee7-44a1-9a10-33013d4598d9"
      },
      "source": [
        "df"
      ],
      "execution_count": 10,
      "outputs": [
        {
          "output_type": "execute_result",
          "data": {
            "text/html": [
              "<div>\n",
              "<style scoped>\n",
              "    .dataframe tbody tr th:only-of-type {\n",
              "        vertical-align: middle;\n",
              "    }\n",
              "\n",
              "    .dataframe tbody tr th {\n",
              "        vertical-align: top;\n",
              "    }\n",
              "\n",
              "    .dataframe thead th {\n",
              "        text-align: right;\n",
              "    }\n",
              "</style>\n",
              "<table border=\"1\" class=\"dataframe\">\n",
              "  <thead>\n",
              "    <tr style=\"text-align: right;\">\n",
              "      <th></th>\n",
              "      <th>isbn</th>\n",
              "      <th>book_title</th>\n",
              "      <th>authors</th>\n",
              "      <th>description</th>\n",
              "      <th>categories</th>\n",
              "      <th>Key_words</th>\n",
              "    </tr>\n",
              "  </thead>\n",
              "  <tbody>\n",
              "    <tr>\n",
              "      <th>1</th>\n",
              "      <td>0002005018</td>\n",
              "      <td>Clara Callan</td>\n",
              "      <td>richardbrucewright</td>\n",
              "      <td>In a small town in Canada Clara Callan relucta...</td>\n",
              "      <td>[Actresses]</td>\n",
              "      <td>[Actresses, sister, nora, bound, small, town, ...</td>\n",
              "    </tr>\n",
              "    <tr>\n",
              "      <th>3</th>\n",
              "      <td>0374157065</td>\n",
              "      <td>Flu: The Story of the Great Influenza Pandemic...</td>\n",
              "      <td>ginabarikolata</td>\n",
              "      <td>Describes the great flu epidemic of 1918 an ou...</td>\n",
              "      <td>[Medical]</td>\n",
              "      <td>[Medical, describes, great, flu, epidemic, pre...</td>\n",
              "    </tr>\n",
              "    <tr>\n",
              "      <th>9</th>\n",
              "      <td>0425176428</td>\n",
              "      <td>What If?: The World's Foremost Military Histor...</td>\n",
              "      <td>robertcowley</td>\n",
              "      <td>Essays by respected military historians includ...</td>\n",
              "      <td>[History]</td>\n",
              "      <td>[History, essays, history, differently, worse,...</td>\n",
              "    </tr>\n",
              "    <tr>\n",
              "      <th>10</th>\n",
              "      <td>0671870432</td>\n",
              "      <td>PLEADING GUILTY</td>\n",
              "      <td>scottturow</td>\n",
              "      <td>9</td>\n",
              "      <td>[9]</td>\n",
              "      <td>[9, 9]</td>\n",
              "    </tr>\n",
              "    <tr>\n",
              "      <th>66</th>\n",
              "      <td>0452264464</td>\n",
              "      <td>Beloved (Plume Contemporary Fiction)</td>\n",
              "      <td>tonimorrison</td>\n",
              "      <td>Staring unflinchingly into the abyss of slaver...</td>\n",
              "      <td>[Fiction]</td>\n",
              "      <td>[Fiction, intimate, novel, transforms, history...</td>\n",
              "    </tr>\n",
              "    <tr>\n",
              "      <th>...</th>\n",
              "      <td>...</td>\n",
              "      <td>...</td>\n",
              "      <td>...</td>\n",
              "      <td>...</td>\n",
              "      <td>...</td>\n",
              "      <td>...</td>\n",
              "    </tr>\n",
              "    <tr>\n",
              "      <th>153423</th>\n",
              "      <td>0812533232</td>\n",
              "      <td>Dragon Rigger</td>\n",
              "      <td>jeffrey,a.carver</td>\n",
              "      <td>9</td>\n",
              "      <td>[9]</td>\n",
              "      <td>[9, 9]</td>\n",
              "    </tr>\n",
              "    <tr>\n",
              "      <th>153424</th>\n",
              "      <td>0812543181</td>\n",
              "      <td>Not This August</td>\n",
              "      <td>cyrilkornbluth</td>\n",
              "      <td>9</td>\n",
              "      <td>[9]</td>\n",
              "      <td>[9, 9]</td>\n",
              "    </tr>\n",
              "    <tr>\n",
              "      <th>153425</th>\n",
              "      <td>0821726595</td>\n",
              "      <td>Mistress of Falcon Court</td>\n",
              "      <td>charlottelammert</td>\n",
              "      <td>Colin O39Bannion39s dying request places his d...</td>\n",
              "      <td>[Fiction]</td>\n",
              "      <td>[Fiction, daughter, molly, dark, secrets, surr...</td>\n",
              "    </tr>\n",
              "    <tr>\n",
              "      <th>153426</th>\n",
              "      <td>155882068X</td>\n",
              "      <td>The Balloon Man (Crime Classics)</td>\n",
              "      <td>charlottearmstrong</td>\n",
              "      <td>9</td>\n",
              "      <td>[9]</td>\n",
              "      <td>[9, 9]</td>\n",
              "    </tr>\n",
              "    <tr>\n",
              "      <th>153427</th>\n",
              "      <td>1569751544</td>\n",
              "      <td>The Sleep Solution: A 21-Night Program to Bett...</td>\n",
              "      <td>nigelball</td>\n",
              "      <td>Discusses sleep disturbances and normal sleep ...</td>\n",
              "      <td>[Health, Fitness]</td>\n",
              "      <td>[Health, Fitness, offers, discusses, sleep, di...</td>\n",
              "    </tr>\n",
              "  </tbody>\n",
              "</table>\n",
              "<p>79583 rows × 6 columns</p>\n",
              "</div>"
            ],
            "text/plain": [
              "              isbn  ...                                          Key_words\n",
              "1       0002005018  ...  [Actresses, sister, nora, bound, small, town, ...\n",
              "3       0374157065  ...  [Medical, describes, great, flu, epidemic, pre...\n",
              "9       0425176428  ...  [History, essays, history, differently, worse,...\n",
              "10      0671870432  ...                                             [9, 9]\n",
              "66      0452264464  ...  [Fiction, intimate, novel, transforms, history...\n",
              "...            ...  ...                                                ...\n",
              "153423  0812533232  ...                                             [9, 9]\n",
              "153424  0812543181  ...                                             [9, 9]\n",
              "153425  0821726595  ...  [Fiction, daughter, molly, dark, secrets, surr...\n",
              "153426  155882068X  ...                                             [9, 9]\n",
              "153427  1569751544  ...  [Health, Fitness, offers, discusses, sleep, di...\n",
              "\n",
              "[79583 rows x 6 columns]"
            ]
          },
          "metadata": {
            "tags": []
          },
          "execution_count": 10
        }
      ]
    },
    {
      "cell_type": "code",
      "metadata": {
        "colab": {
          "base_uri": "https://localhost:8080/",
          "height": 345
        },
        "id": "nRYYA1QYOe2z",
        "outputId": "ea72efa3-795e-415d-9999-8a5817828c3b"
      },
      "source": [
        "df['authors']= df['authors'].apply(lambda x:x.split())\n",
        "df['authors'].astype(str)\n",
        "df['Key_words']=df['authors']+df['Key_words']\n",
        "df.head()\n"
      ],
      "execution_count": 11,
      "outputs": [
        {
          "output_type": "execute_result",
          "data": {
            "text/html": [
              "<div>\n",
              "<style scoped>\n",
              "    .dataframe tbody tr th:only-of-type {\n",
              "        vertical-align: middle;\n",
              "    }\n",
              "\n",
              "    .dataframe tbody tr th {\n",
              "        vertical-align: top;\n",
              "    }\n",
              "\n",
              "    .dataframe thead th {\n",
              "        text-align: right;\n",
              "    }\n",
              "</style>\n",
              "<table border=\"1\" class=\"dataframe\">\n",
              "  <thead>\n",
              "    <tr style=\"text-align: right;\">\n",
              "      <th></th>\n",
              "      <th>isbn</th>\n",
              "      <th>book_title</th>\n",
              "      <th>authors</th>\n",
              "      <th>description</th>\n",
              "      <th>categories</th>\n",
              "      <th>Key_words</th>\n",
              "    </tr>\n",
              "  </thead>\n",
              "  <tbody>\n",
              "    <tr>\n",
              "      <th>1</th>\n",
              "      <td>0002005018</td>\n",
              "      <td>Clara Callan</td>\n",
              "      <td>[richardbrucewright]</td>\n",
              "      <td>In a small town in Canada Clara Callan relucta...</td>\n",
              "      <td>[Actresses]</td>\n",
              "      <td>[richardbrucewright, Actresses, sister, nora, ...</td>\n",
              "    </tr>\n",
              "    <tr>\n",
              "      <th>3</th>\n",
              "      <td>0374157065</td>\n",
              "      <td>Flu: The Story of the Great Influenza Pandemic...</td>\n",
              "      <td>[ginabarikolata]</td>\n",
              "      <td>Describes the great flu epidemic of 1918 an ou...</td>\n",
              "      <td>[Medical]</td>\n",
              "      <td>[ginabarikolata, Medical, describes, great, fl...</td>\n",
              "    </tr>\n",
              "    <tr>\n",
              "      <th>9</th>\n",
              "      <td>0425176428</td>\n",
              "      <td>What If?: The World's Foremost Military Histor...</td>\n",
              "      <td>[robertcowley]</td>\n",
              "      <td>Essays by respected military historians includ...</td>\n",
              "      <td>[History]</td>\n",
              "      <td>[robertcowley, History, essays, history, diffe...</td>\n",
              "    </tr>\n",
              "    <tr>\n",
              "      <th>10</th>\n",
              "      <td>0671870432</td>\n",
              "      <td>PLEADING GUILTY</td>\n",
              "      <td>[scottturow]</td>\n",
              "      <td>9</td>\n",
              "      <td>[9]</td>\n",
              "      <td>[scottturow, 9, 9]</td>\n",
              "    </tr>\n",
              "    <tr>\n",
              "      <th>66</th>\n",
              "      <td>0452264464</td>\n",
              "      <td>Beloved (Plume Contemporary Fiction)</td>\n",
              "      <td>[tonimorrison]</td>\n",
              "      <td>Staring unflinchingly into the abyss of slaver...</td>\n",
              "      <td>[Fiction]</td>\n",
              "      <td>[tonimorrison, Fiction, intimate, novel, trans...</td>\n",
              "    </tr>\n",
              "  </tbody>\n",
              "</table>\n",
              "</div>"
            ],
            "text/plain": [
              "          isbn  ...                                          Key_words\n",
              "1   0002005018  ...  [richardbrucewright, Actresses, sister, nora, ...\n",
              "3   0374157065  ...  [ginabarikolata, Medical, describes, great, fl...\n",
              "9   0425176428  ...  [robertcowley, History, essays, history, diffe...\n",
              "10  0671870432  ...                                 [scottturow, 9, 9]\n",
              "66  0452264464  ...  [tonimorrison, Fiction, intimate, novel, trans...\n",
              "\n",
              "[5 rows x 6 columns]"
            ]
          },
          "metadata": {
            "tags": []
          },
          "execution_count": 11
        }
      ]
    },
    {
      "cell_type": "code",
      "metadata": {
        "id": "qtZQH561Qi9C"
      },
      "source": [
        "#creating the bag of words which is used by the rake function to get vectors\n",
        "df['Bag_of_words'] = ''\n",
        "for index, row in df.iterrows():\n",
        "    words = ''\n",
        "    words += ' '.join(row['Key_words']) + ' '\n",
        "    row['Bag_of_words'] = words\n",
        "df['Bag_of_words'] = df['Bag_of_words'].str.strip().str.replace('   ', ' ').str.replace('  ', ' ')\n"
      ],
      "execution_count": 12,
      "outputs": []
    },
    {
      "cell_type": "code",
      "metadata": {
        "colab": {
          "base_uri": "https://localhost:8080/",
          "height": 633
        },
        "id": "Dl_quUkSSyos",
        "outputId": "bbc73f5b-236b-4222-e7bd-e00d898e13bb"
      },
      "source": [
        "df.head(7)"
      ],
      "execution_count": 13,
      "outputs": [
        {
          "output_type": "execute_result",
          "data": {
            "text/html": [
              "<div>\n",
              "<style scoped>\n",
              "    .dataframe tbody tr th:only-of-type {\n",
              "        vertical-align: middle;\n",
              "    }\n",
              "\n",
              "    .dataframe tbody tr th {\n",
              "        vertical-align: top;\n",
              "    }\n",
              "\n",
              "    .dataframe thead th {\n",
              "        text-align: right;\n",
              "    }\n",
              "</style>\n",
              "<table border=\"1\" class=\"dataframe\">\n",
              "  <thead>\n",
              "    <tr style=\"text-align: right;\">\n",
              "      <th></th>\n",
              "      <th>isbn</th>\n",
              "      <th>book_title</th>\n",
              "      <th>authors</th>\n",
              "      <th>description</th>\n",
              "      <th>categories</th>\n",
              "      <th>Key_words</th>\n",
              "      <th>Bag_of_words</th>\n",
              "    </tr>\n",
              "  </thead>\n",
              "  <tbody>\n",
              "    <tr>\n",
              "      <th>1</th>\n",
              "      <td>0002005018</td>\n",
              "      <td>Clara Callan</td>\n",
              "      <td>[richardbrucewright]</td>\n",
              "      <td>In a small town in Canada Clara Callan relucta...</td>\n",
              "      <td>[Actresses]</td>\n",
              "      <td>[richardbrucewright, Actresses, sister, nora, ...</td>\n",
              "      <td>richardbrucewright Actresses sister nora bound...</td>\n",
              "    </tr>\n",
              "    <tr>\n",
              "      <th>3</th>\n",
              "      <td>0374157065</td>\n",
              "      <td>Flu: The Story of the Great Influenza Pandemic...</td>\n",
              "      <td>[ginabarikolata]</td>\n",
              "      <td>Describes the great flu epidemic of 1918 an ou...</td>\n",
              "      <td>[Medical]</td>\n",
              "      <td>[ginabarikolata, Medical, describes, great, fl...</td>\n",
              "      <td>ginabarikolata Medical describes great flu epi...</td>\n",
              "    </tr>\n",
              "    <tr>\n",
              "      <th>9</th>\n",
              "      <td>0425176428</td>\n",
              "      <td>What If?: The World's Foremost Military Histor...</td>\n",
              "      <td>[robertcowley]</td>\n",
              "      <td>Essays by respected military historians includ...</td>\n",
              "      <td>[History]</td>\n",
              "      <td>[robertcowley, History, essays, history, diffe...</td>\n",
              "      <td>robertcowley History essays history differentl...</td>\n",
              "    </tr>\n",
              "    <tr>\n",
              "      <th>10</th>\n",
              "      <td>0671870432</td>\n",
              "      <td>PLEADING GUILTY</td>\n",
              "      <td>[scottturow]</td>\n",
              "      <td>9</td>\n",
              "      <td>[9]</td>\n",
              "      <td>[scottturow, 9, 9]</td>\n",
              "      <td>scottturow 9 9</td>\n",
              "    </tr>\n",
              "    <tr>\n",
              "      <th>66</th>\n",
              "      <td>0452264464</td>\n",
              "      <td>Beloved (Plume Contemporary Fiction)</td>\n",
              "      <td>[tonimorrison]</td>\n",
              "      <td>Staring unflinchingly into the abyss of slaver...</td>\n",
              "      <td>[Fiction]</td>\n",
              "      <td>[tonimorrison, Fiction, intimate, novel, trans...</td>\n",
              "      <td>tonimorrison Fiction intimate novel transforms...</td>\n",
              "    </tr>\n",
              "    <tr>\n",
              "      <th>75</th>\n",
              "      <td>0609804618</td>\n",
              "      <td>Our Dumb Century: The Onion Presents 100 Years...</td>\n",
              "      <td>[theonion]</td>\n",
              "      <td>The staff of The Onion presents a satirical co...</td>\n",
              "      <td>[Humor]</td>\n",
              "      <td>[theonion, Humor, account, staff, satirical, c...</td>\n",
              "      <td>theonion Humor account staff satirical collect...</td>\n",
              "    </tr>\n",
              "    <tr>\n",
              "      <th>77</th>\n",
              "      <td>1841721522</td>\n",
              "      <td>New Vegetarian: Bold and Beautiful Recipes for...</td>\n",
              "      <td>[celiabrooksbrown]</td>\n",
              "      <td>In New Vegetarian Celia Brooks Brown presents ...</td>\n",
              "      <td>[Cooking]</td>\n",
              "      <td>[celiabrooksbrown, Cooking, innovative, approa...</td>\n",
              "      <td>celiabrooksbrown Cooking innovative approach n...</td>\n",
              "    </tr>\n",
              "  </tbody>\n",
              "</table>\n",
              "</div>"
            ],
            "text/plain": [
              "          isbn  ...                                       Bag_of_words\n",
              "1   0002005018  ...  richardbrucewright Actresses sister nora bound...\n",
              "3   0374157065  ...  ginabarikolata Medical describes great flu epi...\n",
              "9   0425176428  ...  robertcowley History essays history differentl...\n",
              "10  0671870432  ...                                     scottturow 9 9\n",
              "66  0452264464  ...  tonimorrison Fiction intimate novel transforms...\n",
              "75  0609804618  ...  theonion Humor account staff satirical collect...\n",
              "77  1841721522  ...  celiabrooksbrown Cooking innovative approach n...\n",
              "\n",
              "[7 rows x 7 columns]"
            ]
          },
          "metadata": {
            "tags": []
          },
          "execution_count": 13
        }
      ]
    },
    {
      "cell_type": "code",
      "metadata": {
        "colab": {
          "base_uri": "https://localhost:8080/",
          "height": 53
        },
        "id": "xdP_Gu3YS5HE",
        "outputId": "b81c1655-c52e-413c-b58c-753123fb7769"
      },
      "source": [
        "#trial\n",
        "df['Bag_of_words'][3]\n"
      ],
      "execution_count": 14,
      "outputs": [
        {
          "output_type": "execute_result",
          "data": {
            "application/vnd.google.colaboratory.intrinsic+json": {
              "type": "string"
            },
            "text/plain": [
              "'ginabarikolata Medical describes great flu epidemic prevent another lethal pandemic understand forty million people worldwide discusses efforts outbreak public health officials scientists 1918 killed'"
            ]
          },
          "metadata": {
            "tags": []
          },
          "execution_count": 14
        }
      ]
    },
    {
      "cell_type": "code",
      "metadata": {
        "id": "PSpQNOCO1CGC"
      },
      "source": [
        "df=df.iloc[0:9000].reset_index()\n"
      ],
      "execution_count": 15,
      "outputs": []
    },
    {
      "cell_type": "code",
      "metadata": {
        "colab": {
          "base_uri": "https://localhost:8080/"
        },
        "id": "iZAb609dP8VB",
        "outputId": "74faf9c4-5544-42a2-db8f-08726024a4bf"
      },
      "source": [
        "count = CountVectorizer()\n",
        "count_matrix = count.fit_transform(df['Bag_of_words'])\n",
        "count_matrix\n"
      ],
      "execution_count": 16,
      "outputs": [
        {
          "output_type": "execute_result",
          "data": {
            "text/plain": [
              "<9000x27291 sparse matrix of type '<class 'numpy.int64'>'\n",
              "\twith 110113 stored elements in Compressed Sparse Row format>"
            ]
          },
          "metadata": {
            "tags": []
          },
          "execution_count": 16
        }
      ]
    },
    {
      "cell_type": "code",
      "metadata": {
        "colab": {
          "base_uri": "https://localhost:8080/"
        },
        "id": "f1Jd3Kf3TkTM",
        "outputId": "b35dd24f-4a78-481c-9a23-4d5621bd34d8"
      },
      "source": [
        "cosine_sim = cosine_similarity(count_matrix, count_matrix)\n",
        "print(cosine_sim)"
      ],
      "execution_count": 17,
      "outputs": [
        {
          "output_type": "stream",
          "text": [
            "[[1.         0.         0.         ... 0.         0.         0.        ]\n",
            " [0.         1.         0.         ... 0.         0.         0.        ]\n",
            " [0.         0.         1.         ... 0.         0.         0.        ]\n",
            " ...\n",
            " [0.         0.         0.         ... 1.         0.20412415 0.        ]\n",
            " [0.         0.         0.         ... 0.20412415 1.         0.        ]\n",
            " [0.         0.         0.         ... 0.         0.         1.        ]]\n"
          ],
          "name": "stdout"
        }
      ]
    },
    {
      "cell_type": "code",
      "metadata": {
        "colab": {
          "base_uri": "https://localhost:8080/"
        },
        "id": "lh26L-FbWuid",
        "outputId": "0bb16c64-448e-418a-9326-d4df0346c42c"
      },
      "source": [
        "indices = pd.Series(df['isbn'])\n",
        "indices[:5]\n"
      ],
      "execution_count": 18,
      "outputs": [
        {
          "output_type": "execute_result",
          "data": {
            "text/plain": [
              "0    0002005018\n",
              "1    0374157065\n",
              "2    0425176428\n",
              "3    0671870432\n",
              "4    0452264464\n",
              "Name: isbn, dtype: object"
            ]
          },
          "metadata": {
            "tags": []
          },
          "execution_count": 18
        }
      ]
    },
    {
      "cell_type": "code",
      "metadata": {
        "colab": {
          "base_uri": "https://localhost:8080/",
          "height": 877
        },
        "id": "eEgrVftTZLTi",
        "outputId": "751389ee-d966-4faf-b209-8e9cda3fb0d2"
      },
      "source": [
        "df"
      ],
      "execution_count": 19,
      "outputs": [
        {
          "output_type": "execute_result",
          "data": {
            "text/html": [
              "<div>\n",
              "<style scoped>\n",
              "    .dataframe tbody tr th:only-of-type {\n",
              "        vertical-align: middle;\n",
              "    }\n",
              "\n",
              "    .dataframe tbody tr th {\n",
              "        vertical-align: top;\n",
              "    }\n",
              "\n",
              "    .dataframe thead th {\n",
              "        text-align: right;\n",
              "    }\n",
              "</style>\n",
              "<table border=\"1\" class=\"dataframe\">\n",
              "  <thead>\n",
              "    <tr style=\"text-align: right;\">\n",
              "      <th></th>\n",
              "      <th>index</th>\n",
              "      <th>isbn</th>\n",
              "      <th>book_title</th>\n",
              "      <th>authors</th>\n",
              "      <th>description</th>\n",
              "      <th>categories</th>\n",
              "      <th>Key_words</th>\n",
              "      <th>Bag_of_words</th>\n",
              "    </tr>\n",
              "  </thead>\n",
              "  <tbody>\n",
              "    <tr>\n",
              "      <th>0</th>\n",
              "      <td>1</td>\n",
              "      <td>0002005018</td>\n",
              "      <td>Clara Callan</td>\n",
              "      <td>[richardbrucewright]</td>\n",
              "      <td>In a small town in Canada Clara Callan relucta...</td>\n",
              "      <td>[Actresses]</td>\n",
              "      <td>[richardbrucewright, Actresses, sister, nora, ...</td>\n",
              "      <td>richardbrucewright Actresses sister nora bound...</td>\n",
              "    </tr>\n",
              "    <tr>\n",
              "      <th>1</th>\n",
              "      <td>3</td>\n",
              "      <td>0374157065</td>\n",
              "      <td>Flu: The Story of the Great Influenza Pandemic...</td>\n",
              "      <td>[ginabarikolata]</td>\n",
              "      <td>Describes the great flu epidemic of 1918 an ou...</td>\n",
              "      <td>[Medical]</td>\n",
              "      <td>[ginabarikolata, Medical, describes, great, fl...</td>\n",
              "      <td>ginabarikolata Medical describes great flu epi...</td>\n",
              "    </tr>\n",
              "    <tr>\n",
              "      <th>2</th>\n",
              "      <td>9</td>\n",
              "      <td>0425176428</td>\n",
              "      <td>What If?: The World's Foremost Military Histor...</td>\n",
              "      <td>[robertcowley]</td>\n",
              "      <td>Essays by respected military historians includ...</td>\n",
              "      <td>[History]</td>\n",
              "      <td>[robertcowley, History, essays, history, diffe...</td>\n",
              "      <td>robertcowley History essays history differentl...</td>\n",
              "    </tr>\n",
              "    <tr>\n",
              "      <th>3</th>\n",
              "      <td>10</td>\n",
              "      <td>0671870432</td>\n",
              "      <td>PLEADING GUILTY</td>\n",
              "      <td>[scottturow]</td>\n",
              "      <td>9</td>\n",
              "      <td>[9]</td>\n",
              "      <td>[scottturow, 9, 9]</td>\n",
              "      <td>scottturow 9 9</td>\n",
              "    </tr>\n",
              "    <tr>\n",
              "      <th>4</th>\n",
              "      <td>66</td>\n",
              "      <td>0452264464</td>\n",
              "      <td>Beloved (Plume Contemporary Fiction)</td>\n",
              "      <td>[tonimorrison]</td>\n",
              "      <td>Staring unflinchingly into the abyss of slaver...</td>\n",
              "      <td>[Fiction]</td>\n",
              "      <td>[tonimorrison, Fiction, intimate, novel, trans...</td>\n",
              "      <td>tonimorrison Fiction intimate novel transforms...</td>\n",
              "    </tr>\n",
              "    <tr>\n",
              "      <th>...</th>\n",
              "      <td>...</td>\n",
              "      <td>...</td>\n",
              "      <td>...</td>\n",
              "      <td>...</td>\n",
              "      <td>...</td>\n",
              "      <td>...</td>\n",
              "      <td>...</td>\n",
              "      <td>...</td>\n",
              "    </tr>\n",
              "    <tr>\n",
              "      <th>8995</th>\n",
              "      <td>51338</td>\n",
              "      <td>1591161932</td>\n",
              "      <td>Flame Of Recca (Flame Of Recca)</td>\n",
              "      <td>[nobuyukianzai]</td>\n",
              "      <td>Armed with the power to control flame Recca Ha...</td>\n",
              "      <td>[Comics, Graphic, Novels]</td>\n",
              "      <td>[nobuyukianzai, Comics, Graphic, Novels, awkwa...</td>\n",
              "      <td>nobuyukianzai Comics Graphic Novels awkward si...</td>\n",
              "    </tr>\n",
              "    <tr>\n",
              "      <th>8996</th>\n",
              "      <td>51340</td>\n",
              "      <td>1591820146</td>\n",
              "      <td>Love Hina (Book 3)</td>\n",
              "      <td>[kenakamatsu]</td>\n",
              "      <td>9</td>\n",
              "      <td>[9]</td>\n",
              "      <td>[kenakamatsu, 9, 9]</td>\n",
              "      <td>kenakamatsu 9 9</td>\n",
              "    </tr>\n",
              "    <tr>\n",
              "      <th>8997</th>\n",
              "      <td>51342</td>\n",
              "      <td>1591820200</td>\n",
              "      <td>Real Bout High School, Book 3</td>\n",
              "      <td>[reijisaiga]</td>\n",
              "      <td>9</td>\n",
              "      <td>[9]</td>\n",
              "      <td>[reijisaiga, 9, 9]</td>\n",
              "      <td>reijisaiga 9 9</td>\n",
              "    </tr>\n",
              "    <tr>\n",
              "      <th>8998</th>\n",
              "      <td>51344</td>\n",
              "      <td>1591820219</td>\n",
              "      <td>Real Bout High School, Book 4</td>\n",
              "      <td>[reijisaiga]</td>\n",
              "      <td>Ryoko Mitsurugi the Samurai Girl is the top fi...</td>\n",
              "      <td>[Comics, Graphic, Novels]</td>\n",
              "      <td>[reijisaiga, Comics, Graphic, Novels, martial,...</td>\n",
              "      <td>reijisaiga Comics Graphic Novels martial arts ...</td>\n",
              "    </tr>\n",
              "    <tr>\n",
              "      <th>8999</th>\n",
              "      <td>51345</td>\n",
              "      <td>1591820286</td>\n",
              "      <td>GTO #4</td>\n",
              "      <td>[tohrufujisawa]</td>\n",
              "      <td>9</td>\n",
              "      <td>[9]</td>\n",
              "      <td>[tohrufujisawa, 9, 9]</td>\n",
              "      <td>tohrufujisawa 9 9</td>\n",
              "    </tr>\n",
              "  </tbody>\n",
              "</table>\n",
              "<p>9000 rows × 8 columns</p>\n",
              "</div>"
            ],
            "text/plain": [
              "      index  ...                                       Bag_of_words\n",
              "0         1  ...  richardbrucewright Actresses sister nora bound...\n",
              "1         3  ...  ginabarikolata Medical describes great flu epi...\n",
              "2         9  ...  robertcowley History essays history differentl...\n",
              "3        10  ...                                     scottturow 9 9\n",
              "4        66  ...  tonimorrison Fiction intimate novel transforms...\n",
              "...     ...  ...                                                ...\n",
              "8995  51338  ...  nobuyukianzai Comics Graphic Novels awkward si...\n",
              "8996  51340  ...                                    kenakamatsu 9 9\n",
              "8997  51342  ...                                     reijisaiga 9 9\n",
              "8998  51344  ...  reijisaiga Comics Graphic Novels martial arts ...\n",
              "8999  51345  ...                                  tohrufujisawa 9 9\n",
              "\n",
              "[9000 rows x 8 columns]"
            ]
          },
          "metadata": {
            "tags": []
          },
          "execution_count": 19
        }
      ]
    },
    {
      "cell_type": "markdown",
      "metadata": {
        "id": "EnNtuyiIIdl0"
      },
      "source": [
        "**we are searching the book by isbn10 here but in the final code will use fuzzywuzzy to search through entering book title like done in the colab_filter **"
      ]
    },
    {
      "cell_type": "code",
      "metadata": {
        "id": "UrbGzzPpW4mh",
        "colab": {
          "base_uri": "https://localhost:8080/",
          "height": 1000
        },
        "outputId": "824257b6-3ac0-47a4-c77c-b42a38219791"
      },
      "source": [
        "def recommend(isbn, cosine_sim = cosine_sim):\n",
        "    recommended_books = []\n",
        "    resdf=pd.DataFrame()\n",
        "    idx = indices[indices == isbn].index[0]   # to get the index of the movie title matching the input movie\n",
        "    score_series = pd.Series(cosine_sim[idx]).sort_values(ascending = False)  \n",
        "    top_10_indices = list(score_series.iloc[1:11].index)   # to get the indices of top 10 most similar movies\n",
        "    # [1:11] to exclude 0 (index 0 is the input movie itself)\n",
        "    for i in top_10_indices:   # to append the titles of top 10 similar movies to the recommended_movies list\n",
        "        recommended_books.append(list(df['isbn'])[i])\n",
        "    resdf=df[df['isbn'].isin(recommended_books)]  \n",
        "    return resdf\n",
        "\n",
        "recommend('0002005018')# try 0439064864 for harry potter 2, 0439064864 is the time machine by hg wells\n",
        "\n",
        "#df.loc[df['isbn10'] == '0451528557']\n",
        "#print(df['title'][2510])#so duplicate book titles exist!"
      ],
      "execution_count": 27,
      "outputs": [
        {
          "output_type": "execute_result",
          "data": {
            "text/html": [
              "<div>\n",
              "<style scoped>\n",
              "    .dataframe tbody tr th:only-of-type {\n",
              "        vertical-align: middle;\n",
              "    }\n",
              "\n",
              "    .dataframe tbody tr th {\n",
              "        vertical-align: top;\n",
              "    }\n",
              "\n",
              "    .dataframe thead th {\n",
              "        text-align: right;\n",
              "    }\n",
              "</style>\n",
              "<table border=\"1\" class=\"dataframe\">\n",
              "  <thead>\n",
              "    <tr style=\"text-align: right;\">\n",
              "      <th></th>\n",
              "      <th>index</th>\n",
              "      <th>isbn</th>\n",
              "      <th>book_title</th>\n",
              "      <th>authors</th>\n",
              "      <th>description</th>\n",
              "      <th>categories</th>\n",
              "      <th>Key_words</th>\n",
              "      <th>Bag_of_words</th>\n",
              "    </tr>\n",
              "  </thead>\n",
              "  <tbody>\n",
              "    <tr>\n",
              "      <th>1126</th>\n",
              "      <td>14730</td>\n",
              "      <td>0060977507</td>\n",
              "      <td>The Beet Queen : A Novel</td>\n",
              "      <td>[louiseerdrich]</td>\n",
              "      <td>In the early 1930s Karl and his sister Mary Ad...</td>\n",
              "      <td>[Fiction]</td>\n",
              "      <td>[louiseerdrich, Fiction, refuge, sister, mary,...</td>\n",
              "      <td>louiseerdrich Fiction refuge sister mary adare...</td>\n",
              "    </tr>\n",
              "    <tr>\n",
              "      <th>1797</th>\n",
              "      <td>18762</td>\n",
              "      <td>1550223968</td>\n",
              "      <td>Too Close to the Falls: A Memoir</td>\n",
              "      <td>[catherinegildiner]</td>\n",
              "      <td>The author shares her memories that are by tur...</td>\n",
              "      <td>[Biography, Autobiography]</td>\n",
              "      <td>[catherinegildiner, Biography, Autobiography, ...</td>\n",
              "      <td>catherinegildiner Biography Autobiography auth...</td>\n",
              "    </tr>\n",
              "    <tr>\n",
              "      <th>3123</th>\n",
              "      <td>26262</td>\n",
              "      <td>0882893327</td>\n",
              "      <td>The Voodoo Queen: A Novel (Pelican Pouch Series)</td>\n",
              "      <td>[roberttallant]</td>\n",
              "      <td>Reprint Originally published New York Putnam c...</td>\n",
              "      <td>[Biography, Autobiography]</td>\n",
              "      <td>[roberttallant, Biography, Autobiography, repr...</td>\n",
              "      <td>roberttallant Biography Autobiography reprint ...</td>\n",
              "    </tr>\n",
              "    <tr>\n",
              "      <th>3451</th>\n",
              "      <td>27764</td>\n",
              "      <td>1931561230</td>\n",
              "      <td>Sleep Toward Heaven: A Novel</td>\n",
              "      <td>[amandaeyreward]</td>\n",
              "      <td>The lives of three womena twentynine yearold d...</td>\n",
              "      <td>[Fiction]</td>\n",
              "      <td>[amandaeyreward, Fiction, lives, recently, wid...</td>\n",
              "      <td>amandaeyreward Fiction lives recently widowed ...</td>\n",
              "    </tr>\n",
              "    <tr>\n",
              "      <th>4238</th>\n",
              "      <td>31184</td>\n",
              "      <td>2266102621</td>\n",
              "      <td>Les Heures / The Hours</td>\n",
              "      <td>[michaelcunningham]</td>\n",
              "      <td>C39est à New York à la fin du XXe siècle</td>\n",
              "      <td>[Fiction]</td>\n",
              "      <td>[michaelcunningham, Fiction, c39est, à, new, y...</td>\n",
              "      <td>michaelcunningham Fiction c39est à new york la...</td>\n",
              "    </tr>\n",
              "    <tr>\n",
              "      <th>5077</th>\n",
              "      <td>35805</td>\n",
              "      <td>055328942X</td>\n",
              "      <td>The Shelters of Stone (Earth's Children, Book 5)</td>\n",
              "      <td>[jeanm.auel]</td>\n",
              "      <td>Originally published New York Crown 2002</td>\n",
              "      <td>[Fiction]</td>\n",
              "      <td>[jeanm.auel, Fiction, originally, published, n...</td>\n",
              "      <td>jeanm.auel Fiction originally published new yo...</td>\n",
              "    </tr>\n",
              "    <tr>\n",
              "      <th>5393</th>\n",
              "      <td>37198</td>\n",
              "      <td>0373825013</td>\n",
              "      <td>Whirlwind (Tyler, Book 1)</td>\n",
              "      <td>[nancymartin]</td>\n",
              "      <td>The first in a new romance series introduces r...</td>\n",
              "      <td>[Fiction]</td>\n",
              "      <td>[nancymartin, Fiction, important, part, new, r...</td>\n",
              "      <td>nancymartin Fiction important part new romance...</td>\n",
              "    </tr>\n",
              "    <tr>\n",
              "      <th>5458</th>\n",
              "      <td>37497</td>\n",
              "      <td>0060958111</td>\n",
              "      <td>Extra Virgin: A Young Woman Discovers the Ital...</td>\n",
              "      <td>[anniehawes]</td>\n",
              "      <td>In 1983 a pale Annie Hawes and her equally pal...</td>\n",
              "      <td>[Travel]</td>\n",
              "      <td>[anniehawes, Travel, small, italian, town, equ...</td>\n",
              "      <td>anniehawes Travel small italian town equally p...</td>\n",
              "    </tr>\n",
              "    <tr>\n",
              "      <th>6808</th>\n",
              "      <td>43561</td>\n",
              "      <td>0553293885</td>\n",
              "      <td>A Great Day for the Deadly</td>\n",
              "      <td>[janehaddam]</td>\n",
              "      <td>On the eve of St Patrick39s Day in a small ups...</td>\n",
              "      <td>[Fiction]</td>\n",
              "      <td>[janehaddam, Fiction, young, nun, small, upsta...</td>\n",
              "      <td>janehaddam Fiction young nun small upstate new...</td>\n",
              "    </tr>\n",
              "    <tr>\n",
              "      <th>7174</th>\n",
              "      <td>44920</td>\n",
              "      <td>1853265535</td>\n",
              "      <td>Washington Square (Classics Library (NTC))</td>\n",
              "      <td>[henryjames]</td>\n",
              "      <td>In the Washington Square area of New York City...</td>\n",
              "      <td>[Fiction]</td>\n",
              "      <td>[henryjames, Fiction, father, fragile, catheri...</td>\n",
              "      <td>henryjames Fiction father fragile catherine sl...</td>\n",
              "    </tr>\n",
              "  </tbody>\n",
              "</table>\n",
              "</div>"
            ],
            "text/plain": [
              "      index  ...                                       Bag_of_words\n",
              "1126  14730  ...  louiseerdrich Fiction refuge sister mary adare...\n",
              "1797  18762  ...  catherinegildiner Biography Autobiography auth...\n",
              "3123  26262  ...  roberttallant Biography Autobiography reprint ...\n",
              "3451  27764  ...  amandaeyreward Fiction lives recently widowed ...\n",
              "4238  31184  ...  michaelcunningham Fiction c39est à new york la...\n",
              "5077  35805  ...  jeanm.auel Fiction originally published new yo...\n",
              "5393  37198  ...  nancymartin Fiction important part new romance...\n",
              "5458  37497  ...  anniehawes Travel small italian town equally p...\n",
              "6808  43561  ...  janehaddam Fiction young nun small upstate new...\n",
              "7174  44920  ...  henryjames Fiction father fragile catherine sl...\n",
              "\n",
              "[10 rows x 8 columns]"
            ]
          },
          "metadata": {
            "tags": []
          },
          "execution_count": 27
        }
      ]
    },
    {
      "cell_type": "markdown",
      "metadata": {
        "id": "RnuXHAr8EGCk"
      },
      "source": [
        "**conclusion**\n",
        "we can see all of these are similar movies, share categories and from the description we can tell that they are science fiction books and have the author H.G. wells in common in one some too. "
      ]
    }
  ]
}