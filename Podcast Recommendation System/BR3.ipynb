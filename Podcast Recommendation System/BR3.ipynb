{
  "nbformat": 4,
  "nbformat_minor": 0,
  "metadata": {
    "colab": {
      "name": "BR3.ipynb",
      "provenance": []
    },
    "kernelspec": {
      "name": "python3",
      "display_name": "Python 3"
    },
    "language_info": {
      "name": "python"
    }
  },
  "cells": [
    {
      "cell_type": "code",
      "metadata": {
        "id": "WsSppWgPuSGR"
      },
      "source": [
        "import pandas as pd\n",
        "import seaborn as sns\n",
        "import matplotlib.pyplot as plt\n",
        "import numpy as np\n",
        "\n",
        "import warnings # supress warnings\n",
        "warnings.filterwarnings('ignore')"
      ],
      "execution_count": 1,
      "outputs": []
    },
    {
      "cell_type": "code",
      "metadata": {
        "id": "inSJH4sdvfIq"
      },
      "source": [
        "book_final_data=pd.read_csv('/content/drive/MyDrive/bookfinal/book_final_data.csv')\n"
      ],
      "execution_count": 2,
      "outputs": []
    },
    {
      "cell_type": "code",
      "metadata": {
        "colab": {
          "base_uri": "https://localhost:8080/",
          "height": 423
        },
        "id": "PzfIhCXVwcWI",
        "outputId": "4c8c866c-ab8f-423e-c22f-c585c1bc2c5b"
      },
      "source": [
        "book_final_data.head(3)"
      ],
      "execution_count": 3,
      "outputs": [
        {
          "output_type": "execute_result",
          "data": {
            "text/html": [
              "<div>\n",
              "<style scoped>\n",
              "    .dataframe tbody tr th:only-of-type {\n",
              "        vertical-align: middle;\n",
              "    }\n",
              "\n",
              "    .dataframe tbody tr th {\n",
              "        vertical-align: top;\n",
              "    }\n",
              "\n",
              "    .dataframe thead th {\n",
              "        text-align: right;\n",
              "    }\n",
              "</style>\n",
              "<table border=\"1\" class=\"dataframe\">\n",
              "  <thead>\n",
              "    <tr style=\"text-align: right;\">\n",
              "      <th></th>\n",
              "      <th>user_id</th>\n",
              "      <th>age</th>\n",
              "      <th>isbn</th>\n",
              "      <th>rating</th>\n",
              "      <th>book_title</th>\n",
              "      <th>book_author</th>\n",
              "      <th>year_of_publication</th>\n",
              "      <th>publisher</th>\n",
              "      <th>Summary</th>\n",
              "      <th>Language</th>\n",
              "      <th>Category</th>\n",
              "      <th>city</th>\n",
              "      <th>state</th>\n",
              "      <th>country</th>\n",
              "    </tr>\n",
              "  </thead>\n",
              "  <tbody>\n",
              "    <tr>\n",
              "      <th>0</th>\n",
              "      <td>11676</td>\n",
              "      <td>34</td>\n",
              "      <td>0002005018</td>\n",
              "      <td>8</td>\n",
              "      <td>Clara Callan</td>\n",
              "      <td>Richard Bruce Wright</td>\n",
              "      <td>2001.0</td>\n",
              "      <td>HarperFlamingo Canada</td>\n",
              "      <td>In a small town in Canada, Clara Callan reluct...</td>\n",
              "      <td>en</td>\n",
              "      <td>['Actresses']</td>\n",
              "      <td>unknown</td>\n",
              "      <td>unknown</td>\n",
              "      <td>unknown</td>\n",
              "    </tr>\n",
              "    <tr>\n",
              "      <th>1</th>\n",
              "      <td>116866</td>\n",
              "      <td>34</td>\n",
              "      <td>0002005018</td>\n",
              "      <td>9</td>\n",
              "      <td>Clara Callan</td>\n",
              "      <td>Richard Bruce Wright</td>\n",
              "      <td>2001.0</td>\n",
              "      <td>HarperFlamingo Canada</td>\n",
              "      <td>In a small town in Canada, Clara Callan reluct...</td>\n",
              "      <td>en</td>\n",
              "      <td>['Actresses']</td>\n",
              "      <td>ottawa</td>\n",
              "      <td>,</td>\n",
              "      <td>unknown</td>\n",
              "    </tr>\n",
              "    <tr>\n",
              "      <th>2</th>\n",
              "      <td>110912</td>\n",
              "      <td>36</td>\n",
              "      <td>0374157065</td>\n",
              "      <td>10</td>\n",
              "      <td>Flu: The Story of the Great Influenza Pandemic...</td>\n",
              "      <td>Gina Bari Kolata</td>\n",
              "      <td>1999.0</td>\n",
              "      <td>Farrar Straus Giroux</td>\n",
              "      <td>Describes the great flu epidemic of 1918, an o...</td>\n",
              "      <td>en</td>\n",
              "      <td>['Medical']</td>\n",
              "      <td>milpitas</td>\n",
              "      <td>california</td>\n",
              "      <td>usa</td>\n",
              "    </tr>\n",
              "  </tbody>\n",
              "</table>\n",
              "</div>"
            ],
            "text/plain": [
              "   user_id  age        isbn  ...      city       state  country\n",
              "0    11676   34  0002005018  ...   unknown     unknown  unknown\n",
              "1   116866   34  0002005018  ...    ottawa           ,  unknown\n",
              "2   110912   36  0374157065  ...  milpitas  california      usa\n",
              "\n",
              "[3 rows x 14 columns]"
            ]
          },
          "metadata": {
            "tags": []
          },
          "execution_count": 3
        }
      ]
    },
    {
      "cell_type": "code",
      "metadata": {
        "colab": {
          "base_uri": "https://localhost:8080/"
        },
        "id": "x1eFe3QPwsD8",
        "outputId": "f1070bd3-e9d7-4a82-f4d2-f2359b8ee9c0"
      },
      "source": [
        "book_final_data.shape"
      ],
      "execution_count": 4,
      "outputs": [
        {
          "output_type": "execute_result",
          "data": {
            "text/plain": [
              "(153428, 14)"
            ]
          },
          "metadata": {
            "tags": []
          },
          "execution_count": 4
        }
      ]
    },
    {
      "cell_type": "code",
      "metadata": {
        "colab": {
          "base_uri": "https://localhost:8080/"
        },
        "id": "cXMovUJ9wz2k",
        "outputId": "aa1cf61c-4b62-4af2-e74a-2de82194f399"
      },
      "source": [
        "book_final_data.info()"
      ],
      "execution_count": 5,
      "outputs": [
        {
          "output_type": "stream",
          "text": [
            "<class 'pandas.core.frame.DataFrame'>\n",
            "RangeIndex: 153428 entries, 0 to 153427\n",
            "Data columns (total 14 columns):\n",
            " #   Column               Non-Null Count   Dtype  \n",
            "---  ------               --------------   -----  \n",
            " 0   user_id              153428 non-null  int64  \n",
            " 1   age                  153428 non-null  int64  \n",
            " 2   isbn                 153428 non-null  object \n",
            " 3   rating               153428 non-null  int64  \n",
            " 4   book_title           153428 non-null  object \n",
            " 5   book_author          153428 non-null  object \n",
            " 6   year_of_publication  153428 non-null  float64\n",
            " 7   publisher            153428 non-null  object \n",
            " 8   Summary              153428 non-null  object \n",
            " 9   Language             153428 non-null  object \n",
            " 10  Category             153428 non-null  object \n",
            " 11  city                 153428 non-null  object \n",
            " 12  state                153428 non-null  object \n",
            " 13  country              153428 non-null  object \n",
            "dtypes: float64(1), int64(3), object(10)\n",
            "memory usage: 16.4+ MB\n"
          ],
          "name": "stdout"
        }
      ]
    },
    {
      "cell_type": "code",
      "metadata": {
        "colab": {
          "base_uri": "https://localhost:8080/"
        },
        "id": "nBeTafpewsf9",
        "outputId": "0fdd37c6-f302-4582-88f5-0bb4c119caf6"
      },
      "source": [
        "book_final_data.isnull().sum()"
      ],
      "execution_count": 6,
      "outputs": [
        {
          "output_type": "execute_result",
          "data": {
            "text/plain": [
              "user_id                0\n",
              "age                    0\n",
              "isbn                   0\n",
              "rating                 0\n",
              "book_title             0\n",
              "book_author            0\n",
              "year_of_publication    0\n",
              "publisher              0\n",
              "Summary                0\n",
              "Language               0\n",
              "Category               0\n",
              "city                   0\n",
              "state                  0\n",
              "country                0\n",
              "dtype: int64"
            ]
          },
          "metadata": {
            "tags": []
          },
          "execution_count": 6
        }
      ]
    },
    {
      "cell_type": "code",
      "metadata": {
        "colab": {
          "base_uri": "https://localhost:8080/",
          "height": 300
        },
        "id": "5VB6XTdVw5vB",
        "outputId": "8d7602ca-c321-4b4c-bf1e-4385ed75711f"
      },
      "source": [
        "book_final_data.describe()"
      ],
      "execution_count": 7,
      "outputs": [
        {
          "output_type": "execute_result",
          "data": {
            "text/html": [
              "<div>\n",
              "<style scoped>\n",
              "    .dataframe tbody tr th:only-of-type {\n",
              "        vertical-align: middle;\n",
              "    }\n",
              "\n",
              "    .dataframe tbody tr th {\n",
              "        vertical-align: top;\n",
              "    }\n",
              "\n",
              "    .dataframe thead th {\n",
              "        text-align: right;\n",
              "    }\n",
              "</style>\n",
              "<table border=\"1\" class=\"dataframe\">\n",
              "  <thead>\n",
              "    <tr style=\"text-align: right;\">\n",
              "      <th></th>\n",
              "      <th>user_id</th>\n",
              "      <th>age</th>\n",
              "      <th>rating</th>\n",
              "      <th>year_of_publication</th>\n",
              "    </tr>\n",
              "  </thead>\n",
              "  <tbody>\n",
              "    <tr>\n",
              "      <th>count</th>\n",
              "      <td>153428.000000</td>\n",
              "      <td>153428.000000</td>\n",
              "      <td>153428.000000</td>\n",
              "      <td>153428.000000</td>\n",
              "    </tr>\n",
              "    <tr>\n",
              "      <th>mean</th>\n",
              "      <td>131555.802174</td>\n",
              "      <td>36.976223</td>\n",
              "      <td>7.816781</td>\n",
              "      <td>1995.092708</td>\n",
              "    </tr>\n",
              "    <tr>\n",
              "      <th>std</th>\n",
              "      <td>80380.995517</td>\n",
              "      <td>9.703356</td>\n",
              "      <td>1.809914</td>\n",
              "      <td>7.696472</td>\n",
              "    </tr>\n",
              "    <tr>\n",
              "      <th>min</th>\n",
              "      <td>254.000000</td>\n",
              "      <td>5.000000</td>\n",
              "      <td>1.000000</td>\n",
              "      <td>1806.000000</td>\n",
              "    </tr>\n",
              "    <tr>\n",
              "      <th>25%</th>\n",
              "      <td>63714.000000</td>\n",
              "      <td>32.000000</td>\n",
              "      <td>7.000000</td>\n",
              "      <td>1992.000000</td>\n",
              "    </tr>\n",
              "    <tr>\n",
              "      <th>50%</th>\n",
              "      <td>126196.000000</td>\n",
              "      <td>34.000000</td>\n",
              "      <td>8.000000</td>\n",
              "      <td>1997.000000</td>\n",
              "    </tr>\n",
              "    <tr>\n",
              "      <th>75%</th>\n",
              "      <td>199416.000000</td>\n",
              "      <td>43.000000</td>\n",
              "      <td>9.000000</td>\n",
              "      <td>2001.000000</td>\n",
              "    </tr>\n",
              "    <tr>\n",
              "      <th>max</th>\n",
              "      <td>278418.000000</td>\n",
              "      <td>81.000000</td>\n",
              "      <td>10.000000</td>\n",
              "      <td>2004.000000</td>\n",
              "    </tr>\n",
              "  </tbody>\n",
              "</table>\n",
              "</div>"
            ],
            "text/plain": [
              "             user_id            age         rating  year_of_publication\n",
              "count  153428.000000  153428.000000  153428.000000        153428.000000\n",
              "mean   131555.802174      36.976223       7.816781          1995.092708\n",
              "std     80380.995517       9.703356       1.809914             7.696472\n",
              "min       254.000000       5.000000       1.000000          1806.000000\n",
              "25%     63714.000000      32.000000       7.000000          1992.000000\n",
              "50%    126196.000000      34.000000       8.000000          1997.000000\n",
              "75%    199416.000000      43.000000       9.000000          2001.000000\n",
              "max    278418.000000      81.000000      10.000000          2004.000000"
            ]
          },
          "metadata": {
            "tags": []
          },
          "execution_count": 7
        }
      ]
    },
    {
      "cell_type": "code",
      "metadata": {
        "colab": {
          "base_uri": "https://localhost:8080/"
        },
        "id": "slOfy3QoweFc",
        "outputId": "9fe46b30-b95e-482f-9bf5-8a83b0acaa43"
      },
      "source": [
        "# importing surprise and packages\n",
        "!pip install surprise\n",
        "from surprise import Reader, Dataset\n",
        "from surprise import SVD, NMF, KNNBasic, model_selection, accuracy\n",
        "from surprise.model_selection import cross_validate"
      ],
      "execution_count": 8,
      "outputs": [
        {
          "output_type": "stream",
          "text": [
            "Requirement already satisfied: surprise in /usr/local/lib/python3.7/dist-packages (0.1)\n",
            "Requirement already satisfied: scikit-surprise in /usr/local/lib/python3.7/dist-packages (from surprise) (1.1.1)\n",
            "Requirement already satisfied: joblib>=0.11 in /usr/local/lib/python3.7/dist-packages (from scikit-surprise->surprise) (1.0.1)\n",
            "Requirement already satisfied: numpy>=1.11.2 in /usr/local/lib/python3.7/dist-packages (from scikit-surprise->surprise) (1.19.5)\n",
            "Requirement already satisfied: scipy>=1.0.0 in /usr/local/lib/python3.7/dist-packages (from scikit-surprise->surprise) (1.4.1)\n",
            "Requirement already satisfied: six>=1.10.0 in /usr/local/lib/python3.7/dist-packages (from scikit-surprise->surprise) (1.15.0)\n"
          ],
          "name": "stdout"
        }
      ]
    },
    {
      "cell_type": "code",
      "metadata": {
        "id": "m6n6s__dvZAo"
      },
      "source": [
        "\n",
        "# Creating a 'Reader' object to set the limit of the ratings \n",
        "reader = Reader(rating_scale=(1, 10))\n",
        "\n",
        "# Load the data into a 'dataset' object directly from the pandas dataframe\n",
        "data = Dataset.load_from_df(book_final_data[['user_id','isbn','rating']], reader)"
      ],
      "execution_count": 9,
      "outputs": []
    },
    {
      "cell_type": "code",
      "metadata": {
        "colab": {
          "base_uri": "https://localhost:8080/"
        },
        "id": "vhhL3_p1vgJ-",
        "outputId": "60278129-cbc7-48a3-e9c0-f252d504e338"
      },
      "source": [
        "reader"
      ],
      "execution_count": 10,
      "outputs": [
        {
          "output_type": "execute_result",
          "data": {
            "text/plain": [
              "<surprise.reader.Reader at 0x7fd8a6fde0d0>"
            ]
          },
          "metadata": {
            "tags": []
          },
          "execution_count": 10
        }
      ]
    },
    {
      "cell_type": "code",
      "metadata": {
        "colab": {
          "base_uri": "https://localhost:8080/"
        },
        "id": "ALM2FQARxmkI",
        "outputId": "b2d7281d-a813-4ca5-8fc3-1db478777517"
      },
      "source": [
        "data"
      ],
      "execution_count": 11,
      "outputs": [
        {
          "output_type": "execute_result",
          "data": {
            "text/plain": [
              "<surprise.dataset.DatasetAutoFolds at 0x7fd8a6fde650>"
            ]
          },
          "metadata": {
            "tags": []
          },
          "execution_count": 11
        }
      ]
    },
    {
      "cell_type": "code",
      "metadata": {
        "colab": {
          "base_uri": "https://localhost:8080/"
        },
        "id": "q_96feGyxnrW",
        "outputId": "0570359c-088d-499f-fe2c-1f2b9ad078ad"
      },
      "source": [
        "# Testing model with cosine similarity using 5-fold cross-validation procedure\n",
        "sim_options = {\n",
        "    'name': 'cosine',\n",
        "    'user_based': 'True'\n",
        "}\n",
        "\n",
        "model_knn_u = KNNBasic(sim_options = sim_options)\n",
        "\n",
        "cross_validate(model_knn_u, data, measures=['RMSE'], cv=5, verbose=True)"
      ],
      "execution_count": 12,
      "outputs": [
        {
          "output_type": "stream",
          "text": [
            "Computing the cosine similarity matrix...\n",
            "Done computing similarity matrix.\n",
            "Computing the cosine similarity matrix...\n",
            "Done computing similarity matrix.\n",
            "Computing the cosine similarity matrix...\n",
            "Done computing similarity matrix.\n",
            "Computing the cosine similarity matrix...\n",
            "Done computing similarity matrix.\n",
            "Computing the cosine similarity matrix...\n",
            "Done computing similarity matrix.\n",
            "Evaluating RMSE of algorithm KNNBasic on 5 split(s).\n",
            "\n",
            "                  Fold 1  Fold 2  Fold 3  Fold 4  Fold 5  Mean    Std     \n",
            "RMSE (testset)    1.9401  1.9669  1.9421  1.9412  1.9431  1.9467  0.0101  \n",
            "Fit time          0.31    0.36    0.36    0.35    0.38    0.35    0.02    \n",
            "Test time         0.67    0.67    0.57    0.67    0.66    0.65    0.04    \n"
          ],
          "name": "stdout"
        },
        {
          "output_type": "execute_result",
          "data": {
            "text/plain": [
              "{'fit_time': (0.30533313751220703,\n",
              "  0.35579490661621094,\n",
              "  0.36043477058410645,\n",
              "  0.3497743606567383,\n",
              "  0.3788468837738037),\n",
              " 'test_rmse': array([1.94010864, 1.96685505, 1.94206318, 1.94116064, 1.94314549]),\n",
              " 'test_time': (0.6706798076629639,\n",
              "  0.6680619716644287,\n",
              "  0.5696964263916016,\n",
              "  0.6747431755065918,\n",
              "  0.6583149433135986)}"
            ]
          },
          "metadata": {
            "tags": []
          },
          "execution_count": 12
        }
      ]
    },
    {
      "cell_type": "code",
      "metadata": {
        "colab": {
          "base_uri": "https://localhost:8080/"
        },
        "id": "hJqlqbHhxxI-",
        "outputId": "1100698c-4b68-45e1-961a-e6772d9c90c3"
      },
      "source": [
        "# testing model with Pearson similarity using 5-fold cross-validation procedure\n",
        "sim_options = {\n",
        "    'name': 'pearson',\n",
        "    'user_based': 'True'\n",
        "}\n",
        "\n",
        "model_knn_u = KNNBasic(sim_options = sim_options)\n",
        "\n",
        "cross_validate(model_knn_u, data, measures=['RMSE'], cv=5, verbose=True)"
      ],
      "execution_count": 13,
      "outputs": [
        {
          "output_type": "stream",
          "text": [
            "Computing the pearson similarity matrix...\n",
            "Done computing similarity matrix.\n",
            "Computing the pearson similarity matrix...\n",
            "Done computing similarity matrix.\n",
            "Computing the pearson similarity matrix...\n",
            "Done computing similarity matrix.\n",
            "Computing the pearson similarity matrix...\n",
            "Done computing similarity matrix.\n",
            "Computing the pearson similarity matrix...\n",
            "Done computing similarity matrix.\n",
            "Evaluating RMSE of algorithm KNNBasic on 5 split(s).\n",
            "\n",
            "                  Fold 1  Fold 2  Fold 3  Fold 4  Fold 5  Mean    Std     \n",
            "RMSE (testset)    1.9215  1.9267  1.9066  1.9143  1.9407  1.9220  0.0116  \n",
            "Fit time          0.38    0.45    0.46    0.45    0.45    0.44    0.03    \n",
            "Test time         0.54    0.51    0.66    0.53    0.51    0.55    0.06    \n"
          ],
          "name": "stdout"
        },
        {
          "output_type": "execute_result",
          "data": {
            "text/plain": [
              "{'fit_time': (0.375659704208374,\n",
              "  0.45458126068115234,\n",
              "  0.45563268661499023,\n",
              "  0.4468662738800049,\n",
              "  0.453794002532959),\n",
              " 'test_rmse': array([1.9215478 , 1.92673434, 1.90655062, 1.91433691, 1.94074598]),\n",
              " 'test_time': (0.5444393157958984,\n",
              "  0.5135748386383057,\n",
              "  0.6619284152984619,\n",
              "  0.5265913009643555,\n",
              "  0.5129311084747314)}"
            ]
          },
          "metadata": {
            "tags": []
          },
          "execution_count": 13
        }
      ]
    },
    {
      "cell_type": "code",
      "metadata": {
        "colab": {
          "base_uri": "https://localhost:8080/"
        },
        "id": "ubGnkHrWx6Cg",
        "outputId": "06da90f2-37a4-499c-94b4-7207e4ce64c5"
      },
      "source": [
        "# testing model with cosine similarity using 5-fold cross-validation procedure\n",
        "sim_options = {\n",
        "    'name': 'cosine',\n",
        "    'user_based': 'False'\n",
        "}\n",
        "\n",
        "model_knn_i = KNNBasic(sim_options = sim_options)\n",
        "cross_validate(model_knn_i, data, measures=['RMSE'], cv=5, verbose=True)"
      ],
      "execution_count": 14,
      "outputs": [
        {
          "output_type": "stream",
          "text": [
            "Computing the cosine similarity matrix...\n",
            "Done computing similarity matrix.\n",
            "Computing the cosine similarity matrix...\n",
            "Done computing similarity matrix.\n",
            "Computing the cosine similarity matrix...\n",
            "Done computing similarity matrix.\n",
            "Computing the cosine similarity matrix...\n",
            "Done computing similarity matrix.\n",
            "Computing the cosine similarity matrix...\n",
            "Done computing similarity matrix.\n",
            "Evaluating RMSE of algorithm KNNBasic on 5 split(s).\n",
            "\n",
            "                  Fold 1  Fold 2  Fold 3  Fold 4  Fold 5  Mean    Std     \n",
            "RMSE (testset)    1.9447  1.9405  1.9478  1.9604  1.9539  1.9495  0.0070  \n",
            "Fit time          0.28    0.36    0.36    0.36    0.36    0.34    0.03    \n",
            "Test time         0.75    0.54    0.55    0.54    0.70    0.62    0.09    \n"
          ],
          "name": "stdout"
        },
        {
          "output_type": "execute_result",
          "data": {
            "text/plain": [
              "{'fit_time': (0.28327298164367676,\n",
              "  0.36095523834228516,\n",
              "  0.3570587635040283,\n",
              "  0.36432719230651855,\n",
              "  0.3559443950653076),\n",
              " 'test_rmse': array([1.94469239, 1.94051332, 1.94783875, 1.96037837, 1.95390458]),\n",
              " 'test_time': (0.7522177696228027,\n",
              "  0.5390684604644775,\n",
              "  0.5545732975006104,\n",
              "  0.5432376861572266,\n",
              "  0.7000162601470947)}"
            ]
          },
          "metadata": {
            "tags": []
          },
          "execution_count": 14
        }
      ]
    },
    {
      "cell_type": "code",
      "metadata": {
        "colab": {
          "base_uri": "https://localhost:8080/"
        },
        "id": "otHhCpmIyCmJ",
        "outputId": "1621f17e-9b6a-4fc4-a7a3-fa8d044afc0d"
      },
      "source": [
        "# testing model with Pearson similarity using 5-fold cross-validation procedure\n",
        "sim_options = {\n",
        "    'name': 'pearson',\n",
        "    'user_based': 'False'\n",
        "}\n",
        "\n",
        "model_knn_i = KNNBasic(sim_options = sim_options)\n",
        "cross_validate(model_knn_i, data, measures=['RMSE'], cv=5, verbose=True)"
      ],
      "execution_count": 15,
      "outputs": [
        {
          "output_type": "stream",
          "text": [
            "Computing the pearson similarity matrix...\n",
            "Done computing similarity matrix.\n",
            "Computing the pearson similarity matrix...\n",
            "Done computing similarity matrix.\n",
            "Computing the pearson similarity matrix...\n",
            "Done computing similarity matrix.\n",
            "Computing the pearson similarity matrix...\n",
            "Done computing similarity matrix.\n",
            "Computing the pearson similarity matrix...\n",
            "Done computing similarity matrix.\n",
            "Evaluating RMSE of algorithm KNNBasic on 5 split(s).\n",
            "\n",
            "                  Fold 1  Fold 2  Fold 3  Fold 4  Fold 5  Mean    Std     \n",
            "RMSE (testset)    1.9139  1.9275  1.9165  1.9187  1.9190  1.9191  0.0046  \n",
            "Fit time          0.39    0.44    0.46    0.45    0.46    0.44    0.02    \n",
            "Test time         0.52    0.68    0.53    0.52    0.52    0.55    0.06    \n"
          ],
          "name": "stdout"
        },
        {
          "output_type": "execute_result",
          "data": {
            "text/plain": [
              "{'fit_time': (0.3924977779388428,\n",
              "  0.43965983390808105,\n",
              "  0.4586355686187744,\n",
              "  0.4457259178161621,\n",
              "  0.46058225631713867),\n",
              " 'test_rmse': array([1.91390421, 1.92751359, 1.91648353, 1.91865402, 1.91902589]),\n",
              " 'test_time': (0.5217113494873047,\n",
              "  0.6768472194671631,\n",
              "  0.5273661613464355,\n",
              "  0.5150752067565918,\n",
              "  0.515618085861206)}"
            ]
          },
          "metadata": {
            "tags": []
          },
          "execution_count": 15
        }
      ]
    },
    {
      "cell_type": "code",
      "metadata": {
        "colab": {
          "base_uri": "https://localhost:8080/"
        },
        "id": "DB4uHZt_1o07",
        "outputId": "dc067e58-c750-4dcb-892e-4e453662d299"
      },
      "source": [
        "book_final_data['user_id'].duplicated().sum()"
      ],
      "execution_count": 16,
      "outputs": [
        {
          "output_type": "execute_result",
          "data": {
            "text/plain": [
              "152248"
            ]
          },
          "metadata": {
            "tags": []
          },
          "execution_count": 16
        }
      ]
    },
    {
      "cell_type": "code",
      "metadata": {
        "id": "O-nYkpjB1_wM"
      },
      "source": [
        "book_final_data.drop_duplicates(subset =\"user_id\",\n",
        "                     keep = 'last', inplace = True)"
      ],
      "execution_count": 17,
      "outputs": []
    },
    {
      "cell_type": "code",
      "metadata": {
        "colab": {
          "base_uri": "https://localhost:8080/"
        },
        "id": "Es8aiyw93ph8",
        "outputId": "62f29e4a-53e7-4b50-9270-24a6b45c5c6c"
      },
      "source": [
        "book_final_data['user_id'].duplicated().sum()"
      ],
      "execution_count": 18,
      "outputs": [
        {
          "output_type": "execute_result",
          "data": {
            "text/plain": [
              "0"
            ]
          },
          "metadata": {
            "tags": []
          },
          "execution_count": 18
        }
      ]
    },
    {
      "cell_type": "code",
      "metadata": {
        "colab": {
          "base_uri": "https://localhost:8080/",
          "height": 1000
        },
        "id": "yOHWce2E2Plh",
        "outputId": "010308f1-a4c7-483a-9187-e00495207d03"
      },
      "source": [
        "book_final_data"
      ],
      "execution_count": 19,
      "outputs": [
        {
          "output_type": "execute_result",
          "data": {
            "text/html": [
              "<div>\n",
              "<style scoped>\n",
              "    .dataframe tbody tr th:only-of-type {\n",
              "        vertical-align: middle;\n",
              "    }\n",
              "\n",
              "    .dataframe tbody tr th {\n",
              "        vertical-align: top;\n",
              "    }\n",
              "\n",
              "    .dataframe thead th {\n",
              "        text-align: right;\n",
              "    }\n",
              "</style>\n",
              "<table border=\"1\" class=\"dataframe\">\n",
              "  <thead>\n",
              "    <tr style=\"text-align: right;\">\n",
              "      <th></th>\n",
              "      <th>user_id</th>\n",
              "      <th>age</th>\n",
              "      <th>isbn</th>\n",
              "      <th>rating</th>\n",
              "      <th>book_title</th>\n",
              "      <th>book_author</th>\n",
              "      <th>year_of_publication</th>\n",
              "      <th>publisher</th>\n",
              "      <th>Summary</th>\n",
              "      <th>Language</th>\n",
              "      <th>Category</th>\n",
              "      <th>city</th>\n",
              "      <th>state</th>\n",
              "      <th>country</th>\n",
              "    </tr>\n",
              "  </thead>\n",
              "  <tbody>\n",
              "    <tr>\n",
              "      <th>4959</th>\n",
              "      <td>254</td>\n",
              "      <td>24</td>\n",
              "      <td>1931081727</td>\n",
              "      <td>9</td>\n",
              "      <td>The Devil You Know</td>\n",
              "      <td>Poppy Z. Brite</td>\n",
              "      <td>2003.0</td>\n",
              "      <td>Subterranean Press</td>\n",
              "      <td>Some of these stories are set elsewhere, but B...</td>\n",
              "      <td>en</td>\n",
              "      <td>['Fiction']</td>\n",
              "      <td>minneapolis</td>\n",
              "      <td>minnesota</td>\n",
              "      <td>usa</td>\n",
              "    </tr>\n",
              "    <tr>\n",
              "      <th>8409</th>\n",
              "      <td>638</td>\n",
              "      <td>20</td>\n",
              "      <td>1570717257</td>\n",
              "      <td>9</td>\n",
              "      <td>Man and Boy</td>\n",
              "      <td>Tony Parsons</td>\n",
              "      <td>2001.0</td>\n",
              "      <td>Sourcebooks Landmark</td>\n",
              "      <td>9</td>\n",
              "      <td>9</td>\n",
              "      <td>9</td>\n",
              "      <td>san diego</td>\n",
              "      <td>california</td>\n",
              "      <td>usa</td>\n",
              "    </tr>\n",
              "    <tr>\n",
              "      <th>13636</th>\n",
              "      <td>1424</td>\n",
              "      <td>34</td>\n",
              "      <td>1876825251</td>\n",
              "      <td>7</td>\n",
              "      <td>Golden girl: An autobiography</td>\n",
              "      <td>Betty Cuthbert</td>\n",
              "      <td>2000.0</td>\n",
              "      <td>Strand Pub</td>\n",
              "      <td>The story of the life of Betty Cuthbert tellin...</td>\n",
              "      <td>en</td>\n",
              "      <td>['Track and field athletes']</td>\n",
              "      <td>north avoca</td>\n",
              "      <td>new south wales</td>\n",
              "      <td>australia</td>\n",
              "    </tr>\n",
              "    <tr>\n",
              "      <th>15358</th>\n",
              "      <td>1733</td>\n",
              "      <td>30</td>\n",
              "      <td>1551669404</td>\n",
              "      <td>6</td>\n",
              "      <td>Just Over The Mountain</td>\n",
              "      <td>Robyn Carr</td>\n",
              "      <td>2002.0</td>\n",
              "      <td>Mira</td>\n",
              "      <td>Just Over The Mountain by Robyn Carr released ...</td>\n",
              "      <td>en</td>\n",
              "      <td>['Fiction']</td>\n",
              "      <td>independence</td>\n",
              "      <td>west virginia</td>\n",
              "      <td>usa</td>\n",
              "    </tr>\n",
              "    <tr>\n",
              "      <th>16292</th>\n",
              "      <td>1903</td>\n",
              "      <td>36</td>\n",
              "      <td>B0000DAPP1</td>\n",
              "      <td>5</td>\n",
              "      <td>Discover Your Genius: How to Think Like Histor...</td>\n",
              "      <td>Michael J. Gelb</td>\n",
              "      <td>2002.0</td>\n",
              "      <td>HarperCollins</td>\n",
              "      <td>9</td>\n",
              "      <td>9</td>\n",
              "      <td>9</td>\n",
              "      <td>hualien</td>\n",
              "      <td>taiwan</td>\n",
              "      <td>taiwan</td>\n",
              "    </tr>\n",
              "    <tr>\n",
              "      <th>...</th>\n",
              "      <td>...</td>\n",
              "      <td>...</td>\n",
              "      <td>...</td>\n",
              "      <td>...</td>\n",
              "      <td>...</td>\n",
              "      <td>...</td>\n",
              "      <td>...</td>\n",
              "      <td>...</td>\n",
              "      <td>...</td>\n",
              "      <td>...</td>\n",
              "      <td>...</td>\n",
              "      <td>...</td>\n",
              "      <td>...</td>\n",
              "      <td>...</td>\n",
              "    </tr>\n",
              "    <tr>\n",
              "      <th>153378</th>\n",
              "      <td>276680</td>\n",
              "      <td>55</td>\n",
              "      <td>067179387X</td>\n",
              "      <td>9</td>\n",
              "      <td>The WEIGHT OF WINTER</td>\n",
              "      <td>Cathie Pelletier</td>\n",
              "      <td>1993.0</td>\n",
              "      <td>Washington Square Press</td>\n",
              "      <td>The New York Times Book Review calls Pelletier...</td>\n",
              "      <td>en</td>\n",
              "      <td>['Fiction']</td>\n",
              "      <td>hopewell junction</td>\n",
              "      <td>new york</td>\n",
              "      <td>usa</td>\n",
              "    </tr>\n",
              "    <tr>\n",
              "      <th>153402</th>\n",
              "      <td>277427</td>\n",
              "      <td>48</td>\n",
              "      <td>1930285000</td>\n",
              "      <td>8</td>\n",
              "      <td>How to Develop a Powerful Prayer Life</td>\n",
              "      <td>Gregory R. Frizzell</td>\n",
              "      <td>2000.0</td>\n",
              "      <td>Master Design</td>\n",
              "      <td>Today there are rising signs that God is calli...</td>\n",
              "      <td>en</td>\n",
              "      <td>['Religion']</td>\n",
              "      <td>gilbert</td>\n",
              "      <td>arizona</td>\n",
              "      <td>usa</td>\n",
              "    </tr>\n",
              "    <tr>\n",
              "      <th>153405</th>\n",
              "      <td>278137</td>\n",
              "      <td>27</td>\n",
              "      <td>0879050470</td>\n",
              "      <td>2</td>\n",
              "      <td>Never Past the Gate: A Novel</td>\n",
              "      <td>Emma Lou Thayne</td>\n",
              "      <td>1975.0</td>\n",
              "      <td>Gibbs Smith</td>\n",
              "      <td>Story about a young girl her fantasies and lif...</td>\n",
              "      <td>en</td>\n",
              "      <td>['Canyons']</td>\n",
              "      <td>san antonio</td>\n",
              "      <td>texas</td>\n",
              "      <td>usa</td>\n",
              "    </tr>\n",
              "    <tr>\n",
              "      <th>153408</th>\n",
              "      <td>278188</td>\n",
              "      <td>34</td>\n",
              "      <td>0821715402</td>\n",
              "      <td>7</td>\n",
              "      <td>Defiant Embrace (Historical Romance)</td>\n",
              "      <td>Barbara Dawson Smith</td>\n",
              "      <td>1985.0</td>\n",
              "      <td>Kensington Pub Corp (Mm)</td>\n",
              "      <td>9</td>\n",
              "      <td>9</td>\n",
              "      <td>9</td>\n",
              "      <td>lake george</td>\n",
              "      <td>new york</td>\n",
              "      <td>usa</td>\n",
              "    </tr>\n",
              "    <tr>\n",
              "      <th>153427</th>\n",
              "      <td>278418</td>\n",
              "      <td>34</td>\n",
              "      <td>1569751544</td>\n",
              "      <td>3</td>\n",
              "      <td>The Sleep Solution: A 21-Night Program to Bett...</td>\n",
              "      <td>Nigel Ball</td>\n",
              "      <td>1998.0</td>\n",
              "      <td>Ulysses Press</td>\n",
              "      <td>Discusses sleep disturbances and normal sleep ...</td>\n",
              "      <td>en</td>\n",
              "      <td>['Health &amp; Fitness']</td>\n",
              "      <td>omaha</td>\n",
              "      <td>nebraska</td>\n",
              "      <td>usa</td>\n",
              "    </tr>\n",
              "  </tbody>\n",
              "</table>\n",
              "<p>1180 rows × 14 columns</p>\n",
              "</div>"
            ],
            "text/plain": [
              "        user_id  age        isbn  ...               city            state    country\n",
              "4959        254   24  1931081727  ...        minneapolis        minnesota        usa\n",
              "8409        638   20  1570717257  ...          san diego       california        usa\n",
              "13636      1424   34  1876825251  ...        north avoca  new south wales  australia\n",
              "15358      1733   30  1551669404  ...       independence    west virginia        usa\n",
              "16292      1903   36  B0000DAPP1  ...            hualien           taiwan     taiwan\n",
              "...         ...  ...         ...  ...                ...              ...        ...\n",
              "153378   276680   55  067179387X  ...  hopewell junction         new york        usa\n",
              "153402   277427   48  1930285000  ...            gilbert          arizona        usa\n",
              "153405   278137   27  0879050470  ...        san antonio            texas        usa\n",
              "153408   278188   34  0821715402  ...        lake george         new york        usa\n",
              "153427   278418   34  1569751544  ...              omaha         nebraska        usa\n",
              "\n",
              "[1180 rows x 14 columns]"
            ]
          },
          "metadata": {
            "tags": []
          },
          "execution_count": 19
        }
      ]
    },
    {
      "cell_type": "code",
      "metadata": {
        "id": "3RH8Bcxiygns"
      },
      "source": [
        "# creating pivot table from \"book_final_data\"\n",
        "book_rating=book_final_data.pivot(index='user_id',columns='book_title', values='rating')"
      ],
      "execution_count": 20,
      "outputs": []
    },
    {
      "cell_type": "code",
      "metadata": {
        "colab": {
          "base_uri": "https://localhost:8080/",
          "height": 515
        },
        "id": "aLMgLZxZyl5m",
        "outputId": "d83ce5f8-4ca3-463c-fa3b-04a3e4c2a1bc"
      },
      "source": [
        "book_rating.tail(4)"
      ],
      "execution_count": 21,
      "outputs": [
        {
          "output_type": "execute_result",
          "data": {
            "text/html": [
              "<div>\n",
              "<style scoped>\n",
              "    .dataframe tbody tr th:only-of-type {\n",
              "        vertical-align: middle;\n",
              "    }\n",
              "\n",
              "    .dataframe tbody tr th {\n",
              "        vertical-align: top;\n",
              "    }\n",
              "\n",
              "    .dataframe thead th {\n",
              "        text-align: right;\n",
              "    }\n",
              "</style>\n",
              "<table border=\"1\" class=\"dataframe\">\n",
              "  <thead>\n",
              "    <tr style=\"text-align: right;\">\n",
              "      <th>book_title</th>\n",
              "      <th>Summonings: Books of Magic, Vol. 2</th>\n",
              "      <th>100 Ghastly Little Ghost Stories</th>\n",
              "      <th>10000 Dreams Interpreted</th>\n",
              "      <th>101 Stressed Out</th>\n",
              "      <th>15-Minute Low-Carb Recipes: Instant Recipes for Dinners, Desserts, and More</th>\n",
              "      <th>1999 Entertainment Weekly Yearbook (Entertainment Weekly Yearbook)</th>\n",
              "      <th>45 Fine &amp; Fanciful Hats to Knit: Berets, Toques, Cones, Stars, Pentagons, and More</th>\n",
              "      <th>500 Low-Carb Recipes: 500 Recipes from Snacks to Dessert, That the Whole Family Will Love</th>\n",
              "      <th>69 Things to Do with a Dead Princess</th>\n",
              "      <th>A Burden of Flowers (Kan Yamaguchi Series)</th>\n",
              "      <th>A Cup of Comfort for Women: Stories That Celebrate the Strength and Grace of Womanhood (Cup of Comfort)</th>\n",
              "      <th>A Dark Place in the Jungle</th>\n",
              "      <th>A Fortunate Man: The Story of a Country Doctor</th>\n",
              "      <th>A Gambling Man (Scarlet)</th>\n",
              "      <th>A Gathering Of Finches (Dreamcatcher)</th>\n",
              "      <th>A Gentle Spirit (Inspirational Library Series)</th>\n",
              "      <th>A Gold Miner's Daughter: Memoirs of a Mountain Childhood</th>\n",
              "      <th>A Great and Glorious Game: Baseball Writings of A. Bartlett Giamatti</th>\n",
              "      <th>A Guide to the Passion: 100 Questions About The Passion of The Christ</th>\n",
              "      <th>A Heart Like His (Inspirational Library Series)</th>\n",
              "      <th>A House Divided</th>\n",
              "      <th>A Journey Through America With the Rolling Stones</th>\n",
              "      <th>A Kid's Guide To How to Save the Planet</th>\n",
              "      <th>A Little Book of Cherished Poems : Beautiful Poetry to Treasure</th>\n",
              "      <th>A Matter of Spirit: Recovery of the Sacred in Contemporary Canadian Poetry</th>\n",
              "      <th>A Nasty Bit of Rough</th>\n",
              "      <th>A Place for Owls (True Animal Stories)</th>\n",
              "      <th>A Prize for Princes</th>\n",
              "      <th>A Question of Intent : A Great American Battle With A Deadly Industry</th>\n",
              "      <th>A Reasonable Madness: A Novel</th>\n",
              "      <th>A Responsibility to Awe: Poems</th>\n",
              "      <th>A Simple Choice : A Practical Guide to Saving Your Time, Money and Sanity</th>\n",
              "      <th>A Soldier's Daughter Never Cries</th>\n",
              "      <th>A Sunday at the Pool in Kigali</th>\n",
              "      <th>A Sure Thing (Arabesque)</th>\n",
              "      <th>A Tale of Two Cities (Amsco Literature Program - N 380 ALS)</th>\n",
              "      <th>A Tapestry of Dreams (Jernaeve Chronicles, Vol 1)</th>\n",
              "      <th>A Tempest</th>\n",
              "      <th>A Time for Trolls: Fairy Tales from Norway</th>\n",
              "      <th>A Titanic Journey Across The Sea, 1912 (American Sisters)</th>\n",
              "      <th>...</th>\n",
              "      <th>When You Ride Alone You Ride with Bin Laden: What the Government Should Be Telling Us to Help Fight the War on Terrorism</th>\n",
              "      <th>Where Roses Grow Wild</th>\n",
              "      <th>Whispers (Glenbrooke)</th>\n",
              "      <th>Who Is Jesus</th>\n",
              "      <th>Who's Raising Whom: A Parent's Guide to Effective Child Discipline</th>\n",
              "      <th>Why Good People Do Bad Things: How to Make Moral Choices in an Immoral World</th>\n",
              "      <th>Why Men Commit: Men Explain What It Takes to Turn a Casual Relationship into the Love of a Lifetime</th>\n",
              "      <th>Wiccan Beliefs &amp; Practices</th>\n",
              "      <th>Wiedersehen mit Doosie. Meet your lover to brush up your English.</th>\n",
              "      <th>Wild &amp; Wonderful Blueberries</th>\n",
              "      <th>Wild Highland Rose (Zebra Splendor Historical Romances)</th>\n",
              "      <th>William Wallace: Brave Heart</th>\n",
              "      <th>Winter Solstice</th>\n",
              "      <th>Wired to Death: A Mystery</th>\n",
              "      <th>Wisconsin Family Adventure Guide (1st ed.)</th>\n",
              "      <th>Wish Come True: A Carson Springs Novel</th>\n",
              "      <th>Wishbone and the Glass Slipper (Wishbone's Tales of a Pup, No. 1)</th>\n",
              "      <th>Wit and Wisdom of American Presidents</th>\n",
              "      <th>Witch</th>\n",
              "      <th>Wizard of Oz</th>\n",
              "      <th>Women With Disabilities: Found Voices</th>\n",
              "      <th>Women on the Rocks: A Tale of Two Convicts</th>\n",
              "      <th>Wonder Boys (Wheeler Large Print Book Series)</th>\n",
              "      <th>Working Wisdom: Top 10 Lists for Improving Your Business</th>\n",
              "      <th>World Music Volumn 2 Latin and North America Caribean India Asia and: Pacific the Rough Guide (Rough Guide Reference Series)</th>\n",
              "      <th>Worlds Apart</th>\n",
              "      <th>Worlds of Deep Space Nine, Vol I (Star Trek Deep Space Nine)</th>\n",
              "      <th>Worlds of Wonder: How to Write Science Fiction &amp; Fantasy</th>\n",
              "      <th>Writer to Writer</th>\n",
              "      <th>Writing Mysteries: A Handbook by the Mystery Writers of America</th>\n",
              "      <th>Writing Science Fiction and Fantasy (Self-Counsel Writing)</th>\n",
              "      <th>Written in the Skin</th>\n",
              "      <th>You Cannot Die: The Incredible Findings of a Century of Research on Death</th>\n",
              "      <th>You'Ve Got a Friend</th>\n",
              "      <th>You're Pregnant Too, Mate!: The Essential Guide for Expectant Fathers</th>\n",
              "      <th>Your Body Knows Best</th>\n",
              "      <th>Your Health, Our World: The Impact of Environmental Degradation on Human Wellbeing</th>\n",
              "      <th>Your Rabbit: A Kid's Guide to Raising and Showing</th>\n",
              "      <th>Your eyes only: Chii Photographics (Chobits Art Book)</th>\n",
              "      <th>Zoo's (Twin Sisters Productions (Audio))</th>\n",
              "    </tr>\n",
              "    <tr>\n",
              "      <th>user_id</th>\n",
              "      <th></th>\n",
              "      <th></th>\n",
              "      <th></th>\n",
              "      <th></th>\n",
              "      <th></th>\n",
              "      <th></th>\n",
              "      <th></th>\n",
              "      <th></th>\n",
              "      <th></th>\n",
              "      <th></th>\n",
              "      <th></th>\n",
              "      <th></th>\n",
              "      <th></th>\n",
              "      <th></th>\n",
              "      <th></th>\n",
              "      <th></th>\n",
              "      <th></th>\n",
              "      <th></th>\n",
              "      <th></th>\n",
              "      <th></th>\n",
              "      <th></th>\n",
              "      <th></th>\n",
              "      <th></th>\n",
              "      <th></th>\n",
              "      <th></th>\n",
              "      <th></th>\n",
              "      <th></th>\n",
              "      <th></th>\n",
              "      <th></th>\n",
              "      <th></th>\n",
              "      <th></th>\n",
              "      <th></th>\n",
              "      <th></th>\n",
              "      <th></th>\n",
              "      <th></th>\n",
              "      <th></th>\n",
              "      <th></th>\n",
              "      <th></th>\n",
              "      <th></th>\n",
              "      <th></th>\n",
              "      <th></th>\n",
              "      <th></th>\n",
              "      <th></th>\n",
              "      <th></th>\n",
              "      <th></th>\n",
              "      <th></th>\n",
              "      <th></th>\n",
              "      <th></th>\n",
              "      <th></th>\n",
              "      <th></th>\n",
              "      <th></th>\n",
              "      <th></th>\n",
              "      <th></th>\n",
              "      <th></th>\n",
              "      <th></th>\n",
              "      <th></th>\n",
              "      <th></th>\n",
              "      <th></th>\n",
              "      <th></th>\n",
              "      <th></th>\n",
              "      <th></th>\n",
              "      <th></th>\n",
              "      <th></th>\n",
              "      <th></th>\n",
              "      <th></th>\n",
              "      <th></th>\n",
              "      <th></th>\n",
              "      <th></th>\n",
              "      <th></th>\n",
              "      <th></th>\n",
              "      <th></th>\n",
              "      <th></th>\n",
              "      <th></th>\n",
              "      <th></th>\n",
              "      <th></th>\n",
              "      <th></th>\n",
              "      <th></th>\n",
              "      <th></th>\n",
              "      <th></th>\n",
              "      <th></th>\n",
              "      <th></th>\n",
              "    </tr>\n",
              "  </thead>\n",
              "  <tbody>\n",
              "    <tr>\n",
              "      <th>277427</th>\n",
              "      <td>NaN</td>\n",
              "      <td>NaN</td>\n",
              "      <td>NaN</td>\n",
              "      <td>NaN</td>\n",
              "      <td>NaN</td>\n",
              "      <td>NaN</td>\n",
              "      <td>NaN</td>\n",
              "      <td>NaN</td>\n",
              "      <td>NaN</td>\n",
              "      <td>NaN</td>\n",
              "      <td>NaN</td>\n",
              "      <td>NaN</td>\n",
              "      <td>NaN</td>\n",
              "      <td>NaN</td>\n",
              "      <td>NaN</td>\n",
              "      <td>NaN</td>\n",
              "      <td>NaN</td>\n",
              "      <td>NaN</td>\n",
              "      <td>NaN</td>\n",
              "      <td>NaN</td>\n",
              "      <td>NaN</td>\n",
              "      <td>NaN</td>\n",
              "      <td>NaN</td>\n",
              "      <td>NaN</td>\n",
              "      <td>NaN</td>\n",
              "      <td>NaN</td>\n",
              "      <td>NaN</td>\n",
              "      <td>NaN</td>\n",
              "      <td>NaN</td>\n",
              "      <td>NaN</td>\n",
              "      <td>NaN</td>\n",
              "      <td>NaN</td>\n",
              "      <td>NaN</td>\n",
              "      <td>NaN</td>\n",
              "      <td>NaN</td>\n",
              "      <td>NaN</td>\n",
              "      <td>NaN</td>\n",
              "      <td>NaN</td>\n",
              "      <td>NaN</td>\n",
              "      <td>NaN</td>\n",
              "      <td>...</td>\n",
              "      <td>NaN</td>\n",
              "      <td>NaN</td>\n",
              "      <td>NaN</td>\n",
              "      <td>NaN</td>\n",
              "      <td>NaN</td>\n",
              "      <td>NaN</td>\n",
              "      <td>NaN</td>\n",
              "      <td>NaN</td>\n",
              "      <td>NaN</td>\n",
              "      <td>NaN</td>\n",
              "      <td>NaN</td>\n",
              "      <td>NaN</td>\n",
              "      <td>NaN</td>\n",
              "      <td>NaN</td>\n",
              "      <td>NaN</td>\n",
              "      <td>NaN</td>\n",
              "      <td>NaN</td>\n",
              "      <td>NaN</td>\n",
              "      <td>NaN</td>\n",
              "      <td>NaN</td>\n",
              "      <td>NaN</td>\n",
              "      <td>NaN</td>\n",
              "      <td>NaN</td>\n",
              "      <td>NaN</td>\n",
              "      <td>NaN</td>\n",
              "      <td>NaN</td>\n",
              "      <td>NaN</td>\n",
              "      <td>NaN</td>\n",
              "      <td>NaN</td>\n",
              "      <td>NaN</td>\n",
              "      <td>NaN</td>\n",
              "      <td>NaN</td>\n",
              "      <td>NaN</td>\n",
              "      <td>NaN</td>\n",
              "      <td>NaN</td>\n",
              "      <td>NaN</td>\n",
              "      <td>NaN</td>\n",
              "      <td>NaN</td>\n",
              "      <td>NaN</td>\n",
              "      <td>NaN</td>\n",
              "    </tr>\n",
              "    <tr>\n",
              "      <th>278137</th>\n",
              "      <td>NaN</td>\n",
              "      <td>NaN</td>\n",
              "      <td>NaN</td>\n",
              "      <td>NaN</td>\n",
              "      <td>NaN</td>\n",
              "      <td>NaN</td>\n",
              "      <td>NaN</td>\n",
              "      <td>NaN</td>\n",
              "      <td>NaN</td>\n",
              "      <td>NaN</td>\n",
              "      <td>NaN</td>\n",
              "      <td>NaN</td>\n",
              "      <td>NaN</td>\n",
              "      <td>NaN</td>\n",
              "      <td>NaN</td>\n",
              "      <td>NaN</td>\n",
              "      <td>NaN</td>\n",
              "      <td>NaN</td>\n",
              "      <td>NaN</td>\n",
              "      <td>NaN</td>\n",
              "      <td>NaN</td>\n",
              "      <td>NaN</td>\n",
              "      <td>NaN</td>\n",
              "      <td>NaN</td>\n",
              "      <td>NaN</td>\n",
              "      <td>NaN</td>\n",
              "      <td>NaN</td>\n",
              "      <td>NaN</td>\n",
              "      <td>NaN</td>\n",
              "      <td>NaN</td>\n",
              "      <td>NaN</td>\n",
              "      <td>NaN</td>\n",
              "      <td>NaN</td>\n",
              "      <td>NaN</td>\n",
              "      <td>NaN</td>\n",
              "      <td>NaN</td>\n",
              "      <td>NaN</td>\n",
              "      <td>NaN</td>\n",
              "      <td>NaN</td>\n",
              "      <td>NaN</td>\n",
              "      <td>...</td>\n",
              "      <td>NaN</td>\n",
              "      <td>NaN</td>\n",
              "      <td>NaN</td>\n",
              "      <td>NaN</td>\n",
              "      <td>NaN</td>\n",
              "      <td>NaN</td>\n",
              "      <td>NaN</td>\n",
              "      <td>NaN</td>\n",
              "      <td>NaN</td>\n",
              "      <td>NaN</td>\n",
              "      <td>NaN</td>\n",
              "      <td>NaN</td>\n",
              "      <td>NaN</td>\n",
              "      <td>NaN</td>\n",
              "      <td>NaN</td>\n",
              "      <td>NaN</td>\n",
              "      <td>NaN</td>\n",
              "      <td>NaN</td>\n",
              "      <td>NaN</td>\n",
              "      <td>NaN</td>\n",
              "      <td>NaN</td>\n",
              "      <td>NaN</td>\n",
              "      <td>NaN</td>\n",
              "      <td>NaN</td>\n",
              "      <td>NaN</td>\n",
              "      <td>NaN</td>\n",
              "      <td>NaN</td>\n",
              "      <td>NaN</td>\n",
              "      <td>NaN</td>\n",
              "      <td>NaN</td>\n",
              "      <td>NaN</td>\n",
              "      <td>NaN</td>\n",
              "      <td>NaN</td>\n",
              "      <td>NaN</td>\n",
              "      <td>NaN</td>\n",
              "      <td>NaN</td>\n",
              "      <td>NaN</td>\n",
              "      <td>NaN</td>\n",
              "      <td>NaN</td>\n",
              "      <td>NaN</td>\n",
              "    </tr>\n",
              "    <tr>\n",
              "      <th>278188</th>\n",
              "      <td>NaN</td>\n",
              "      <td>NaN</td>\n",
              "      <td>NaN</td>\n",
              "      <td>NaN</td>\n",
              "      <td>NaN</td>\n",
              "      <td>NaN</td>\n",
              "      <td>NaN</td>\n",
              "      <td>NaN</td>\n",
              "      <td>NaN</td>\n",
              "      <td>NaN</td>\n",
              "      <td>NaN</td>\n",
              "      <td>NaN</td>\n",
              "      <td>NaN</td>\n",
              "      <td>NaN</td>\n",
              "      <td>NaN</td>\n",
              "      <td>NaN</td>\n",
              "      <td>NaN</td>\n",
              "      <td>NaN</td>\n",
              "      <td>NaN</td>\n",
              "      <td>NaN</td>\n",
              "      <td>NaN</td>\n",
              "      <td>NaN</td>\n",
              "      <td>NaN</td>\n",
              "      <td>NaN</td>\n",
              "      <td>NaN</td>\n",
              "      <td>NaN</td>\n",
              "      <td>NaN</td>\n",
              "      <td>NaN</td>\n",
              "      <td>NaN</td>\n",
              "      <td>NaN</td>\n",
              "      <td>NaN</td>\n",
              "      <td>NaN</td>\n",
              "      <td>NaN</td>\n",
              "      <td>NaN</td>\n",
              "      <td>NaN</td>\n",
              "      <td>NaN</td>\n",
              "      <td>NaN</td>\n",
              "      <td>NaN</td>\n",
              "      <td>NaN</td>\n",
              "      <td>NaN</td>\n",
              "      <td>...</td>\n",
              "      <td>NaN</td>\n",
              "      <td>NaN</td>\n",
              "      <td>NaN</td>\n",
              "      <td>NaN</td>\n",
              "      <td>NaN</td>\n",
              "      <td>NaN</td>\n",
              "      <td>NaN</td>\n",
              "      <td>NaN</td>\n",
              "      <td>NaN</td>\n",
              "      <td>NaN</td>\n",
              "      <td>NaN</td>\n",
              "      <td>NaN</td>\n",
              "      <td>NaN</td>\n",
              "      <td>NaN</td>\n",
              "      <td>NaN</td>\n",
              "      <td>NaN</td>\n",
              "      <td>NaN</td>\n",
              "      <td>NaN</td>\n",
              "      <td>NaN</td>\n",
              "      <td>NaN</td>\n",
              "      <td>NaN</td>\n",
              "      <td>NaN</td>\n",
              "      <td>NaN</td>\n",
              "      <td>NaN</td>\n",
              "      <td>NaN</td>\n",
              "      <td>NaN</td>\n",
              "      <td>NaN</td>\n",
              "      <td>NaN</td>\n",
              "      <td>NaN</td>\n",
              "      <td>NaN</td>\n",
              "      <td>NaN</td>\n",
              "      <td>NaN</td>\n",
              "      <td>NaN</td>\n",
              "      <td>NaN</td>\n",
              "      <td>NaN</td>\n",
              "      <td>NaN</td>\n",
              "      <td>NaN</td>\n",
              "      <td>NaN</td>\n",
              "      <td>NaN</td>\n",
              "      <td>NaN</td>\n",
              "    </tr>\n",
              "    <tr>\n",
              "      <th>278418</th>\n",
              "      <td>NaN</td>\n",
              "      <td>NaN</td>\n",
              "      <td>NaN</td>\n",
              "      <td>NaN</td>\n",
              "      <td>NaN</td>\n",
              "      <td>NaN</td>\n",
              "      <td>NaN</td>\n",
              "      <td>NaN</td>\n",
              "      <td>NaN</td>\n",
              "      <td>NaN</td>\n",
              "      <td>NaN</td>\n",
              "      <td>NaN</td>\n",
              "      <td>NaN</td>\n",
              "      <td>NaN</td>\n",
              "      <td>NaN</td>\n",
              "      <td>NaN</td>\n",
              "      <td>NaN</td>\n",
              "      <td>NaN</td>\n",
              "      <td>NaN</td>\n",
              "      <td>NaN</td>\n",
              "      <td>NaN</td>\n",
              "      <td>NaN</td>\n",
              "      <td>NaN</td>\n",
              "      <td>NaN</td>\n",
              "      <td>NaN</td>\n",
              "      <td>NaN</td>\n",
              "      <td>NaN</td>\n",
              "      <td>NaN</td>\n",
              "      <td>NaN</td>\n",
              "      <td>NaN</td>\n",
              "      <td>NaN</td>\n",
              "      <td>NaN</td>\n",
              "      <td>NaN</td>\n",
              "      <td>NaN</td>\n",
              "      <td>NaN</td>\n",
              "      <td>NaN</td>\n",
              "      <td>NaN</td>\n",
              "      <td>NaN</td>\n",
              "      <td>NaN</td>\n",
              "      <td>NaN</td>\n",
              "      <td>...</td>\n",
              "      <td>NaN</td>\n",
              "      <td>NaN</td>\n",
              "      <td>NaN</td>\n",
              "      <td>NaN</td>\n",
              "      <td>NaN</td>\n",
              "      <td>NaN</td>\n",
              "      <td>NaN</td>\n",
              "      <td>NaN</td>\n",
              "      <td>NaN</td>\n",
              "      <td>NaN</td>\n",
              "      <td>NaN</td>\n",
              "      <td>NaN</td>\n",
              "      <td>NaN</td>\n",
              "      <td>NaN</td>\n",
              "      <td>NaN</td>\n",
              "      <td>NaN</td>\n",
              "      <td>NaN</td>\n",
              "      <td>NaN</td>\n",
              "      <td>NaN</td>\n",
              "      <td>NaN</td>\n",
              "      <td>NaN</td>\n",
              "      <td>NaN</td>\n",
              "      <td>NaN</td>\n",
              "      <td>NaN</td>\n",
              "      <td>NaN</td>\n",
              "      <td>NaN</td>\n",
              "      <td>NaN</td>\n",
              "      <td>NaN</td>\n",
              "      <td>NaN</td>\n",
              "      <td>NaN</td>\n",
              "      <td>NaN</td>\n",
              "      <td>NaN</td>\n",
              "      <td>NaN</td>\n",
              "      <td>NaN</td>\n",
              "      <td>NaN</td>\n",
              "      <td>NaN</td>\n",
              "      <td>NaN</td>\n",
              "      <td>NaN</td>\n",
              "      <td>NaN</td>\n",
              "      <td>NaN</td>\n",
              "    </tr>\n",
              "  </tbody>\n",
              "</table>\n",
              "<p>4 rows × 1179 columns</p>\n",
              "</div>"
            ],
            "text/plain": [
              "book_title   Summonings: Books of Magic, Vol. 2  ...  Zoo's (Twin Sisters Productions (Audio))\n",
              "user_id                                          ...                                          \n",
              "277427                                      NaN  ...                                       NaN\n",
              "278137                                      NaN  ...                                       NaN\n",
              "278188                                      NaN  ...                                       NaN\n",
              "278418                                      NaN  ...                                       NaN\n",
              "\n",
              "[4 rows x 1179 columns]"
            ]
          },
          "metadata": {
            "tags": []
          },
          "execution_count": 21
        }
      ]
    },
    {
      "cell_type": "code",
      "metadata": {
        "id": "7IihafnM2IMo"
      },
      "source": [
        "# Count the occupied cells\n",
        "sparsity_count = book_rating.isnull().values.sum()"
      ],
      "execution_count": 22,
      "outputs": []
    },
    {
      "cell_type": "code",
      "metadata": {
        "id": "trd9VXer6PuC"
      },
      "source": [
        "# Count all cells\n",
        "full_count = book_rating.size"
      ],
      "execution_count": 23,
      "outputs": []
    },
    {
      "cell_type": "code",
      "metadata": {
        "colab": {
          "base_uri": "https://localhost:8080/"
        },
        "id": "ZidiHDaf6S8s",
        "outputId": "a2b06a6a-0da2-42a4-da38-11c2bd18b448"
      },
      "source": [
        "# Find the sparsity of the DataFrame\n",
        "sparsity = sparsity_count / full_count\n",
        "print(sparsity)"
      ],
      "execution_count": 24,
      "outputs": [
        {
          "output_type": "stream",
          "text": [
            "0.9991518235793045\n"
          ],
          "name": "stdout"
        }
      ]
    },
    {
      "cell_type": "code",
      "metadata": {
        "colab": {
          "base_uri": "https://localhost:8080/"
        },
        "id": "ynNrUJo-6Vwn",
        "outputId": "bc3faa4e-84f0-48df-ae2d-3333ec2cff4f"
      },
      "source": [
        "# Load SVD algorithm\n",
        "model_SVD = SVD()\n",
        "\n",
        "# Train on books dataset\n",
        "model_selection.cross_validate(model_SVD, data, measures=['RMSE'], cv=5, verbose=True)"
      ],
      "execution_count": 25,
      "outputs": [
        {
          "output_type": "stream",
          "text": [
            "Evaluating RMSE of algorithm SVD on 5 split(s).\n",
            "\n",
            "                  Fold 1  Fold 2  Fold 3  Fold 4  Fold 5  Mean    Std     \n",
            "RMSE (testset)    1.5261  1.5261  1.5319  1.5256  1.5243  1.5268  0.0026  \n",
            "Fit time          8.60    8.43    8.84    8.96    8.50    8.67    0.20    \n",
            "Test time         0.48    0.49    0.48    0.26    0.57    0.46    0.10    \n"
          ],
          "name": "stdout"
        },
        {
          "output_type": "execute_result",
          "data": {
            "text/plain": [
              "{'fit_time': (8.600725889205933,\n",
              "  8.43047308921814,\n",
              "  8.841378450393677,\n",
              "  8.961430788040161,\n",
              "  8.502896308898926),\n",
              " 'test_rmse': array([1.52606535, 1.52613442, 1.53186952, 1.52561657, 1.52433083]),\n",
              " 'test_time': (0.48125362396240234,\n",
              "  0.48599839210510254,\n",
              "  0.48290491104125977,\n",
              "  0.2588968276977539,\n",
              "  0.5694124698638916)}"
            ]
          },
          "metadata": {
            "tags": []
          },
          "execution_count": 25
        }
      ]
    },
    {
      "cell_type": "code",
      "metadata": {
        "id": "0L7CznRx6Yma"
      },
      "source": [
        "# set test set to 20%\n",
        "trainset, testset = model_selection.train_test_split(data, test_size=0.2)"
      ],
      "execution_count": 26,
      "outputs": []
    },
    {
      "cell_type": "code",
      "metadata": {
        "colab": {
          "base_uri": "https://localhost:8080/"
        },
        "id": "sLa-XZ6o6bxw",
        "outputId": "54021946-ebdf-4403-8101-64874b7db1b6"
      },
      "source": [
        "# Instantiate the SVD model.\n",
        "model_SVD = SVD()\n",
        "\n",
        "# Train the algorithm on the training set, and predict ratings for the test set\n",
        "%time model_SVD.fit(trainset)\n",
        "predictions = model_SVD.test(testset)\n",
        "\n",
        "# Then compute RMSE\n",
        "accuracy.rmse(predictions)"
      ],
      "execution_count": 27,
      "outputs": [
        {
          "output_type": "stream",
          "text": [
            "CPU times: user 8.34 s, sys: 25.8 ms, total: 8.37 s\n",
            "Wall time: 8.36 s\n",
            "RMSE: 1.5236\n"
          ],
          "name": "stdout"
        },
        {
          "output_type": "execute_result",
          "data": {
            "text/plain": [
              "1.5236232677619779"
            ]
          },
          "metadata": {
            "tags": []
          },
          "execution_count": 27
        }
      ]
    },
    {
      "cell_type": "code",
      "metadata": {
        "colab": {
          "base_uri": "https://localhost:8080/"
        },
        "id": "VRoFrko46fEY",
        "outputId": "a76636e4-13c6-4c6d-e707-f7086c6e4125"
      },
      "source": [
        "# Load NMF algorithm\n",
        "model_NMF = NMF()\n",
        "# Train on books dataset\n",
        "%time model_selection.cross_validate(model_NMF, data, measures=['RMSE'], cv=5, verbose=True)"
      ],
      "execution_count": 28,
      "outputs": [
        {
          "output_type": "stream",
          "text": [
            "Evaluating RMSE of algorithm NMF on 5 split(s).\n",
            "\n",
            "                  Fold 1  Fold 2  Fold 3  Fold 4  Fold 5  Mean    Std     \n",
            "RMSE (testset)    2.4281  2.4408  2.4490  2.4393  2.4925  2.4499  0.0223  \n",
            "Fit time          16.80   16.45   16.82   16.57   16.40   16.61   0.17    \n",
            "Test time         0.31    0.53    0.25    0.23    0.23    0.31    0.11    \n",
            "CPU times: user 1min 27s, sys: 319 ms, total: 1min 27s\n",
            "Wall time: 1min 27s\n"
          ],
          "name": "stdout"
        },
        {
          "output_type": "execute_result",
          "data": {
            "text/plain": [
              "{'fit_time': (16.79652500152588,\n",
              "  16.453893184661865,\n",
              "  16.8228018283844,\n",
              "  16.568634271621704,\n",
              "  16.399794101715088),\n",
              " 'test_rmse': array([2.42806268, 2.44083408, 2.4490154 , 2.43930634, 2.49249289]),\n",
              " 'test_time': (0.3105008602142334,\n",
              "  0.5256786346435547,\n",
              "  0.2543172836303711,\n",
              "  0.23202300071716309,\n",
              "  0.23033380508422852)}"
            ]
          },
          "metadata": {
            "tags": []
          },
          "execution_count": 28
        }
      ]
    },
    {
      "cell_type": "code",
      "metadata": {
        "id": "OZDkX7k36h8S"
      },
      "source": [
        "# Remake the train/test sets, keeping 20% for testing\n",
        "trainset, testset = model_selection.train_test_split(data, test_size=0.2)"
      ],
      "execution_count": 29,
      "outputs": []
    },
    {
      "cell_type": "code",
      "metadata": {
        "id": "JKivDvjx6mjE"
      },
      "source": [
        "from surprise.model_selection import GridSearchCV\n"
      ],
      "execution_count": 30,
      "outputs": []
    },
    {
      "cell_type": "code",
      "metadata": {
        "colab": {
          "base_uri": "https://localhost:8080/"
        },
        "id": "eDoeost86o7-",
        "outputId": "621399e3-1da7-4d47-f0c4-ed40fe3128e2"
      },
      "source": [
        "# Use the new parameters with the training set\n",
        "model_SVD = SVD(n_factors=80, lr_all=0.005, reg_all=0.04)\n",
        "%time model_SVD.fit(trainset) \n",
        "test_pred = model_SVD.test(testset)"
      ],
      "execution_count": 31,
      "outputs": [
        {
          "output_type": "stream",
          "text": [
            "CPU times: user 7.19 s, sys: 16 ms, total: 7.2 s\n",
            "Wall time: 7.23 s\n"
          ],
          "name": "stdout"
        }
      ]
    },
    {
      "cell_type": "code",
      "metadata": {
        "colab": {
          "base_uri": "https://localhost:8080/"
        },
        "id": "eU2gG1PO6rv9",
        "outputId": "942fd615-025c-4939-dda6-41a52a016a2c"
      },
      "source": [
        "print(\"SVD : Test Set\")\n",
        "accuracy.rmse(test_pred, verbose=True)"
      ],
      "execution_count": 32,
      "outputs": [
        {
          "output_type": "stream",
          "text": [
            "SVD : Test Set\n",
            "RMSE: 1.5222\n"
          ],
          "name": "stdout"
        },
        {
          "output_type": "execute_result",
          "data": {
            "text/plain": [
              "1.5221651541757557"
            ]
          },
          "metadata": {
            "tags": []
          },
          "execution_count": 32
        }
      ]
    },
    {
      "cell_type": "code",
      "metadata": {
        "colab": {
          "base_uri": "https://localhost:8080/"
        },
        "id": "S-p9ah3W6uc5",
        "outputId": "24e4ea0d-5db6-4df6-8e44-2e2d192c93ca"
      },
      "source": [
        "# Trial 1: get a prediction for specific user\n",
        "u_id = 75819  \n",
        "i_id = '0440234743' \n",
        "\n",
        "\n",
        "pred = model_SVD.predict(u_id, i_id, verbose=True)"
      ],
      "execution_count": 33,
      "outputs": [
        {
          "output_type": "stream",
          "text": [
            "user: 75819      item: 0440234743 r_ui = None   est = 7.32   {'was_impossible': False}\n"
          ],
          "name": "stdout"
        }
      ]
    },
    {
      "cell_type": "code",
      "metadata": {
        "colab": {
          "base_uri": "https://localhost:8080/"
        },
        "id": "Y-4xuDbY6xO_",
        "outputId": "81aa49e9-45cd-4202-b78d-cbf9b2ee52d4"
      },
      "source": [
        "# Trial 2: get a prediction for specific user\n",
        "u_id = 193529  \n",
        "i_id = '0440234743' \n",
        "\n",
        "\n",
        "pred = model_SVD.predict(u_id, i_id, verbose=True)"
      ],
      "execution_count": 34,
      "outputs": [
        {
          "output_type": "stream",
          "text": [
            "user: 193529     item: 0440234743 r_ui = None   est = 7.43   {'was_impossible': False}\n"
          ],
          "name": "stdout"
        }
      ]
    },
    {
      "cell_type": "code",
      "metadata": {
        "id": "TbbZEDw862GX"
      },
      "source": [
        "from collections import defaultdict\n",
        "\n",
        "def get_top_n(predictions, n=10):\n",
        "    \n",
        "    # First map the predictions to each user.\n",
        "    top_n = defaultdict(list)\n",
        "    for u_id, i_id, true_r, est, _ in predictions:\n",
        "        top_n[u_id].append((i_id, est))\n",
        "\n",
        "    # Then sort the predictions for each user and retrieve the k highest ones.\n",
        "    for u_id, user_ratings in top_n.items():\n",
        "        user_ratings.sort(key=lambda x: x[1], reverse=True)\n",
        "        top_n[u_id] = user_ratings[:n]\n",
        "        \n",
        "    \n",
        "    return top_n"
      ],
      "execution_count": 35,
      "outputs": []
    },
    {
      "cell_type": "code",
      "metadata": {
        "id": "ZRgR9Tuw641i"
      },
      "source": [
        "pred = model_SVD.test(testset)\n",
        "top_n = get_top_n(pred)"
      ],
      "execution_count": 36,
      "outputs": []
    },
    {
      "cell_type": "code",
      "metadata": {
        "id": "4zbO7U3T6_ab"
      },
      "source": [
        "import json\n",
        "json.dump(top_n, open(r\"top_n.jsn\",\"w\"))"
      ],
      "execution_count": 37,
      "outputs": []
    },
    {
      "cell_type": "code",
      "metadata": {
        "id": "Q3JFSCPD7PBf"
      },
      "source": [
        "def get_reading_list(userid):\n",
        "    \n",
        "    # user_id is the 13618\n",
        "    ratings = book_final_data.loc[book_final_data['user_id'] == userid]\n",
        "    # obtain the required data of the selected user\n",
        "    ratings=ratings[['book_title', 'rating']]\n",
        "    if ratings.empty:\n",
        "        print('Sorry your recommendation bucket is empty as you did not rate any books yet')\n",
        "    else:\n",
        "        df_reset=ratings.set_index('book_title')\n",
        "        print(\"Your reading history: \\n\", df_reset.sort_values(by='rating', ascending=False).head(15))\n",
        "        \n",
        "    print(\"\\n\\nTop 10 recommended books for you: \\n\")\n",
        "    reading_list = defaultdict(list)\n",
        "    top_n = get_top_n(predictions, n=10)\n",
        "    for n in top_n[userid]:\n",
        "        book, rating = n\n",
        "        title = book_final_data.loc[book_final_data.isbn==book].book_title.unique()[0]\n",
        "        reading_list[title] = rating\n",
        "        \n",
        "    example_reading_list = reading_list.items()\n",
        "    df = pd.DataFrame([(k,v) for k, v in example_reading_list], columns = [\"book_name\",\"rating\"])\n",
        "    df_set=df.set_index('book_name')\n",
        "    df_set1=df_set.sort_values(by='rating', ascending=False).head(5)\n",
        "    return reading_list"
      ],
      "execution_count": 38,
      "outputs": []
    },
    {
      "cell_type": "code",
      "metadata": {
        "colab": {
          "base_uri": "https://localhost:8080/"
        },
        "id": "-w_rPbnD7S0b",
        "outputId": "116e3561-d4e1-4dfe-8cf1-1891879fbea5"
      },
      "source": [
        "# Let's take a random look at user_id=11676 from the testset\n",
        "example_reading_list = get_reading_list(userid=116865)\n",
        "for book, rating in example_reading_list.items():\n",
        "    print(f'{book}: {rating}')"
      ],
      "execution_count": 45,
      "outputs": [
        {
          "output_type": "stream",
          "text": [
            "Sorry your recommendation bucket is empty as you did not rate any books yet\n",
            "\n",
            "\n",
            "Top 10 recommended books for you: \n",
            "\n"
          ],
          "name": "stdout"
        }
      ]
    },
    {
      "cell_type": "code",
      "metadata": {
        "id": "Qw2jLacW7WzK"
      },
      "source": [
        ""
      ],
      "execution_count": null,
      "outputs": []
    },
    {
      "cell_type": "code",
      "metadata": {
        "id": "aHaNYHVF6eN3"
      },
      "source": [
        ""
      ],
      "execution_count": null,
      "outputs": []
    }
  ]
}